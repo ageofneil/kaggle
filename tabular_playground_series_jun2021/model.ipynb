{
 "cells": [
  {
   "cell_type": "code",
   "execution_count": null,
   "id": "cc2efdb5-7bdc-48fa-9d8d-5ccaa65be394",
   "metadata": {},
   "outputs": [],
   "source": [
    "# https://www.kaggle.com/c/tabular-playground-series-jun-2021/data"
   ]
  },
  {
   "cell_type": "code",
   "execution_count": 1,
   "id": "9873a5f2-9247-441d-b517-df9b396f1677",
   "metadata": {},
   "outputs": [],
   "source": [
    "# Standard stack\n",
    "import datetime\n",
    "import pandas as pd\n",
    "import numpy as np\n",
    "import re\n",
    "\n",
    "# Visualization\n",
    "from pandas_profiling import ProfileReport\n",
    "\n",
    "# Modeling\n",
    "import tensorflow as tf\n",
    "import tensorflow_decision_forests as tfdf\n",
    "try:\n",
    "    from wurlitzer import sys_pipes\n",
    "except:\n",
    "    from colabtools.googlelog import CaptureLog as sys_pipes\n",
    "\n",
    "# processing\n",
    "from sklearn.model_selection import train_test_split\n",
    "\n",
    "# notebook\n",
    "from IPython.core.magic import register_line_magic\n",
    "from IPython.display import Javascript"
   ]
  },
  {
   "cell_type": "code",
   "execution_count": 2,
   "id": "af12dd6a-a34b-49cf-9a52-09a69f745fb6",
   "metadata": {},
   "outputs": [],
   "source": [
    "KAGGLE_EVAL_METRIC = 'logloss' # string name for loss function in xgboost\n",
    "\n",
    "TRAIN_PATH = \"data/train.csv\"\n",
    "TEST_PATH = \"data/test.csv\"\n",
    "\n",
    "label = \"target\""
   ]
  },
  {
   "cell_type": "code",
   "execution_count": 3,
   "id": "a30242b5-8afa-458f-9cb8-23bc64028b70",
   "metadata": {},
   "outputs": [],
   "source": [
    "train = pd.read_csv(TRAIN_PATH)\n",
    "test = pd.read_csv(TEST_PATH)"
   ]
  },
  {
   "cell_type": "code",
   "execution_count": 4,
   "id": "3f73e585-4b3f-4ea5-a194-bb469630a04e",
   "metadata": {},
   "outputs": [],
   "source": [
    "to_drop = ['id']"
   ]
  },
  {
   "cell_type": "code",
   "execution_count": 5,
   "id": "b3534bc8-d252-4e11-8aa8-7d1632d5de68",
   "metadata": {},
   "outputs": [],
   "source": [
    "train = train.drop(to_drop, axis=1)\n",
    "test = test"
   ]
  },
  {
   "cell_type": "code",
   "execution_count": 6,
   "id": "ba95d723-3f92-449a-a77f-7131bd6cc678",
   "metadata": {},
   "outputs": [
    {
     "data": {
      "text/plain": [
       "9"
      ]
     },
     "execution_count": 6,
     "metadata": {},
     "output_type": "execute_result"
    }
   ],
   "source": [
    "train.target.nunique()"
   ]
  },
  {
   "cell_type": "code",
   "execution_count": 7,
   "id": "d40c8b8c-3fa3-460b-95c2-15ca77329586",
   "metadata": {},
   "outputs": [
    {
     "data": {
      "text/html": [
       "<div>\n",
       "<style scoped>\n",
       "    .dataframe tbody tr th:only-of-type {\n",
       "        vertical-align: middle;\n",
       "    }\n",
       "\n",
       "    .dataframe tbody tr th {\n",
       "        vertical-align: top;\n",
       "    }\n",
       "\n",
       "    .dataframe thead th {\n",
       "        text-align: right;\n",
       "    }\n",
       "</style>\n",
       "<table border=\"1\" class=\"dataframe\">\n",
       "  <thead>\n",
       "    <tr style=\"text-align: right;\">\n",
       "      <th></th>\n",
       "      <th>feature_0</th>\n",
       "      <th>feature_1</th>\n",
       "      <th>feature_2</th>\n",
       "      <th>feature_3</th>\n",
       "      <th>feature_4</th>\n",
       "      <th>feature_5</th>\n",
       "      <th>feature_6</th>\n",
       "      <th>feature_7</th>\n",
       "      <th>feature_8</th>\n",
       "      <th>feature_9</th>\n",
       "      <th>...</th>\n",
       "      <th>feature_66</th>\n",
       "      <th>feature_67</th>\n",
       "      <th>feature_68</th>\n",
       "      <th>feature_69</th>\n",
       "      <th>feature_70</th>\n",
       "      <th>feature_71</th>\n",
       "      <th>feature_72</th>\n",
       "      <th>feature_73</th>\n",
       "      <th>feature_74</th>\n",
       "      <th>target</th>\n",
       "    </tr>\n",
       "  </thead>\n",
       "  <tbody>\n",
       "    <tr>\n",
       "      <th>0</th>\n",
       "      <td>0</td>\n",
       "      <td>0</td>\n",
       "      <td>6</td>\n",
       "      <td>1</td>\n",
       "      <td>0</td>\n",
       "      <td>0</td>\n",
       "      <td>0</td>\n",
       "      <td>0</td>\n",
       "      <td>7</td>\n",
       "      <td>0</td>\n",
       "      <td>...</td>\n",
       "      <td>0</td>\n",
       "      <td>0</td>\n",
       "      <td>0</td>\n",
       "      <td>0</td>\n",
       "      <td>0</td>\n",
       "      <td>0</td>\n",
       "      <td>2</td>\n",
       "      <td>0</td>\n",
       "      <td>0</td>\n",
       "      <td>Class_6</td>\n",
       "    </tr>\n",
       "    <tr>\n",
       "      <th>1</th>\n",
       "      <td>0</td>\n",
       "      <td>0</td>\n",
       "      <td>0</td>\n",
       "      <td>0</td>\n",
       "      <td>0</td>\n",
       "      <td>0</td>\n",
       "      <td>0</td>\n",
       "      <td>0</td>\n",
       "      <td>0</td>\n",
       "      <td>0</td>\n",
       "      <td>...</td>\n",
       "      <td>2</td>\n",
       "      <td>0</td>\n",
       "      <td>0</td>\n",
       "      <td>0</td>\n",
       "      <td>0</td>\n",
       "      <td>0</td>\n",
       "      <td>0</td>\n",
       "      <td>1</td>\n",
       "      <td>0</td>\n",
       "      <td>Class_6</td>\n",
       "    </tr>\n",
       "    <tr>\n",
       "      <th>2</th>\n",
       "      <td>0</td>\n",
       "      <td>0</td>\n",
       "      <td>0</td>\n",
       "      <td>0</td>\n",
       "      <td>0</td>\n",
       "      <td>1</td>\n",
       "      <td>0</td>\n",
       "      <td>3</td>\n",
       "      <td>0</td>\n",
       "      <td>0</td>\n",
       "      <td>...</td>\n",
       "      <td>0</td>\n",
       "      <td>0</td>\n",
       "      <td>0</td>\n",
       "      <td>0</td>\n",
       "      <td>1</td>\n",
       "      <td>0</td>\n",
       "      <td>0</td>\n",
       "      <td>0</td>\n",
       "      <td>0</td>\n",
       "      <td>Class_2</td>\n",
       "    </tr>\n",
       "    <tr>\n",
       "      <th>3</th>\n",
       "      <td>0</td>\n",
       "      <td>0</td>\n",
       "      <td>7</td>\n",
       "      <td>0</td>\n",
       "      <td>1</td>\n",
       "      <td>5</td>\n",
       "      <td>2</td>\n",
       "      <td>2</td>\n",
       "      <td>0</td>\n",
       "      <td>1</td>\n",
       "      <td>...</td>\n",
       "      <td>0</td>\n",
       "      <td>4</td>\n",
       "      <td>0</td>\n",
       "      <td>2</td>\n",
       "      <td>2</td>\n",
       "      <td>0</td>\n",
       "      <td>4</td>\n",
       "      <td>3</td>\n",
       "      <td>0</td>\n",
       "      <td>Class_8</td>\n",
       "    </tr>\n",
       "    <tr>\n",
       "      <th>4</th>\n",
       "      <td>1</td>\n",
       "      <td>0</td>\n",
       "      <td>0</td>\n",
       "      <td>0</td>\n",
       "      <td>0</td>\n",
       "      <td>0</td>\n",
       "      <td>0</td>\n",
       "      <td>0</td>\n",
       "      <td>0</td>\n",
       "      <td>0</td>\n",
       "      <td>...</td>\n",
       "      <td>0</td>\n",
       "      <td>0</td>\n",
       "      <td>0</td>\n",
       "      <td>0</td>\n",
       "      <td>0</td>\n",
       "      <td>0</td>\n",
       "      <td>0</td>\n",
       "      <td>0</td>\n",
       "      <td>0</td>\n",
       "      <td>Class_2</td>\n",
       "    </tr>\n",
       "  </tbody>\n",
       "</table>\n",
       "<p>5 rows × 76 columns</p>\n",
       "</div>"
      ],
      "text/plain": [
       "   feature_0  feature_1  feature_2  feature_3  feature_4  feature_5  \\\n",
       "0          0          0          6          1          0          0   \n",
       "1          0          0          0          0          0          0   \n",
       "2          0          0          0          0          0          1   \n",
       "3          0          0          7          0          1          5   \n",
       "4          1          0          0          0          0          0   \n",
       "\n",
       "   feature_6  feature_7  feature_8  feature_9  ...  feature_66  feature_67  \\\n",
       "0          0          0          7          0  ...           0           0   \n",
       "1          0          0          0          0  ...           2           0   \n",
       "2          0          3          0          0  ...           0           0   \n",
       "3          2          2          0          1  ...           0           4   \n",
       "4          0          0          0          0  ...           0           0   \n",
       "\n",
       "   feature_68  feature_69  feature_70  feature_71  feature_72  feature_73  \\\n",
       "0           0           0           0           0           2           0   \n",
       "1           0           0           0           0           0           1   \n",
       "2           0           0           1           0           0           0   \n",
       "3           0           2           2           0           4           3   \n",
       "4           0           0           0           0           0           0   \n",
       "\n",
       "   feature_74   target  \n",
       "0           0  Class_6  \n",
       "1           0  Class_6  \n",
       "2           0  Class_2  \n",
       "3           0  Class_8  \n",
       "4           0  Class_2  \n",
       "\n",
       "[5 rows x 76 columns]"
      ]
     },
     "execution_count": 7,
     "metadata": {},
     "output_type": "execute_result"
    }
   ],
   "source": [
    "train.head()"
   ]
  },
  {
   "cell_type": "code",
   "execution_count": 8,
   "id": "7b9fe412-609d-49f5-ac4f-898c3239f6e2",
   "metadata": {},
   "outputs": [
    {
     "data": {
      "text/plain": [
       "(200000, 76)"
      ]
     },
     "execution_count": 8,
     "metadata": {},
     "output_type": "execute_result"
    }
   ],
   "source": [
    "train.shape"
   ]
  },
  {
   "cell_type": "code",
   "execution_count": 9,
   "id": "f9306399-802d-41e7-ad44-4565bd02634c",
   "metadata": {},
   "outputs": [],
   "source": [
    "train_ds_pd, test_ds_pd = train_test_split(train, test_size=0.2, random_state=42)"
   ]
  },
  {
   "cell_type": "code",
   "execution_count": 10,
   "id": "e5515fba-8783-427a-b24d-3b4ef64eadeb",
   "metadata": {},
   "outputs": [],
   "source": [
    "train_ds = tfdf.keras.pd_dataframe_to_tf_dataset(train_ds_pd, label=label)\n",
    "test_ds = tfdf.keras.pd_dataframe_to_tf_dataset(test_ds_pd, label=label)\n",
    "score_ds = tfdf.keras.pd_dataframe_to_tf_dataset(test)"
   ]
  },
  {
   "cell_type": "code",
   "execution_count": 11,
   "id": "45ed3824-9d9f-4f8e-813a-df884fdc9fe9",
   "metadata": {},
   "outputs": [
    {
     "data": {
      "text/html": [
       "<div>\n",
       "<style scoped>\n",
       "    .dataframe tbody tr th:only-of-type {\n",
       "        vertical-align: middle;\n",
       "    }\n",
       "\n",
       "    .dataframe tbody tr th {\n",
       "        vertical-align: top;\n",
       "    }\n",
       "\n",
       "    .dataframe thead th {\n",
       "        text-align: right;\n",
       "    }\n",
       "</style>\n",
       "<table border=\"1\" class=\"dataframe\">\n",
       "  <thead>\n",
       "    <tr style=\"text-align: right;\">\n",
       "      <th></th>\n",
       "      <th>feature_0</th>\n",
       "      <th>feature_1</th>\n",
       "      <th>feature_2</th>\n",
       "      <th>feature_3</th>\n",
       "      <th>feature_4</th>\n",
       "      <th>feature_5</th>\n",
       "      <th>feature_6</th>\n",
       "      <th>feature_7</th>\n",
       "      <th>feature_8</th>\n",
       "      <th>feature_9</th>\n",
       "      <th>...</th>\n",
       "      <th>feature_66</th>\n",
       "      <th>feature_67</th>\n",
       "      <th>feature_68</th>\n",
       "      <th>feature_69</th>\n",
       "      <th>feature_70</th>\n",
       "      <th>feature_71</th>\n",
       "      <th>feature_72</th>\n",
       "      <th>feature_73</th>\n",
       "      <th>feature_74</th>\n",
       "      <th>target</th>\n",
       "    </tr>\n",
       "  </thead>\n",
       "  <tbody>\n",
       "    <tr>\n",
       "      <th>153248</th>\n",
       "      <td>0</td>\n",
       "      <td>0</td>\n",
       "      <td>0</td>\n",
       "      <td>2</td>\n",
       "      <td>0</td>\n",
       "      <td>1</td>\n",
       "      <td>0</td>\n",
       "      <td>0</td>\n",
       "      <td>0</td>\n",
       "      <td>0</td>\n",
       "      <td>...</td>\n",
       "      <td>0</td>\n",
       "      <td>5</td>\n",
       "      <td>0</td>\n",
       "      <td>0</td>\n",
       "      <td>0</td>\n",
       "      <td>4</td>\n",
       "      <td>2</td>\n",
       "      <td>0</td>\n",
       "      <td>0</td>\n",
       "      <td>Class_6</td>\n",
       "    </tr>\n",
       "  </tbody>\n",
       "</table>\n",
       "<p>1 rows × 76 columns</p>\n",
       "</div>"
      ],
      "text/plain": [
       "        feature_0  feature_1  feature_2  feature_3  feature_4  feature_5  \\\n",
       "153248          0          0          0          2          0          1   \n",
       "\n",
       "        feature_6  feature_7  feature_8  feature_9  ...  feature_66  \\\n",
       "153248          0          0          0          0  ...           0   \n",
       "\n",
       "        feature_67  feature_68  feature_69  feature_70  feature_71  \\\n",
       "153248           5           0           0           0           4   \n",
       "\n",
       "        feature_72  feature_73  feature_74   target  \n",
       "153248           2           0           0  Class_6  \n",
       "\n",
       "[1 rows x 76 columns]"
      ]
     },
     "execution_count": 11,
     "metadata": {},
     "output_type": "execute_result"
    }
   ],
   "source": [
    "train_ds_pd.head(1)"
   ]
  },
  {
   "cell_type": "code",
   "execution_count": 12,
   "id": "026832d1-6a48-4bab-9f86-81a0fda8f6b3",
   "metadata": {},
   "outputs": [],
   "source": [
    "features = ['feature_0', 'feature_1', 'feature_2', 'feature_3', 'feature_4',\n",
    "       'feature_5', 'feature_6', 'feature_7', 'feature_8', 'feature_9',\n",
    "       'feature_10', 'feature_11', 'feature_12', 'feature_13', 'feature_14',\n",
    "       'feature_15', 'feature_16', 'feature_17', 'feature_18', 'feature_19',\n",
    "       'feature_20', 'feature_21', 'feature_22', 'feature_23', 'feature_24',\n",
    "       'feature_25', 'feature_26', 'feature_27', 'feature_28', 'feature_29',\n",
    "       'feature_30', 'feature_31', 'feature_32', 'feature_33', 'feature_34',\n",
    "       'feature_35', 'feature_36', 'feature_37', 'feature_38', 'feature_39',\n",
    "       'feature_40', 'feature_41', 'feature_42', 'feature_43', 'feature_44',\n",
    "       'feature_45', 'feature_46', 'feature_47', 'feature_48', 'feature_49',\n",
    "       'feature_50', 'feature_51', 'feature_52', 'feature_53', 'feature_54',\n",
    "       'feature_55', 'feature_56', 'feature_57', 'feature_58', 'feature_59',\n",
    "       'feature_60', 'feature_61', 'feature_62', 'feature_63', 'feature_64',\n",
    "       'feature_65', 'feature_66', 'feature_67', 'feature_68', 'feature_69',\n",
    "       'feature_70', 'feature_71', 'feature_72', 'feature_73', 'feature_74']"
   ]
  },
  {
   "cell_type": "code",
   "execution_count": 13,
   "id": "3e16dd86-2eb0-44d4-aac7-9a86b049c31f",
   "metadata": {},
   "outputs": [],
   "source": [
    "def create_nn_input(features):\n",
    "    nn_raw_inputs = []\n",
    "    for feature in features:\n",
    "        nn_raw_inputs.append(tf.keras.Input(shape=(1,), name=feature, dtype=\"float\"))\n",
    "    return nn_raw_inputs"
   ]
  },
  {
   "cell_type": "code",
   "execution_count": 14,
   "id": "1661dc66-30c1-4e30-9bf9-900c144e0cf4",
   "metadata": {},
   "outputs": [],
   "source": [
    "nn_raw_inputs = create_nn_input(features)"
   ]
  },
  {
   "cell_type": "code",
   "execution_count": 15,
   "id": "4b8c5c78-e93a-4a0b-b996-dde27536ab9f",
   "metadata": {},
   "outputs": [],
   "source": [
    "#nn_raw_inputs"
   ]
  },
  {
   "cell_type": "code",
   "execution_count": 16,
   "id": "be1db143-fdf9-41d6-85a8-3a1103d34655",
   "metadata": {},
   "outputs": [],
   "source": [
    "# normalize\n",
    "Normalization = tf.keras.layers.experimental.preprocessing.Normalization\n",
    "\n",
    "def normalize_num_input(dataframe,raw_inputs):\n",
    "    nn_processed_inputs = []\n",
    "    for raw_input in raw_inputs:\n",
    "        values = dataframe[raw_input.name].values\n",
    "        input_normalizer = Normalization()\n",
    "        input_normalizer.adapt(values)\n",
    "        normalized_input = input_normalizer(raw_input)\n",
    "        nn_processed_inputs.append(normalized_input)\n",
    "    return nn_processed_inputs"
   ]
  },
  {
   "cell_type": "code",
   "execution_count": 17,
   "id": "28378348-2f77-4609-a2c2-a5d222a42fda",
   "metadata": {},
   "outputs": [],
   "source": [
    "nn_processed_inputs = normalize_num_input(train_ds_pd,nn_raw_inputs)"
   ]
  },
  {
   "cell_type": "markdown",
   "id": "2ca6d9dd-72d6-4ddd-a9c3-19e645fabe7d",
   "metadata": {},
   "source": [
    "## Create Models"
   ]
  },
  {
   "cell_type": "code",
   "execution_count": 28,
   "id": "e5f55072-ca59-41b5-98eb-c5604c24bdbb",
   "metadata": {},
   "outputs": [],
   "source": [
    "y = tf.keras.layers.Concatenate()(nn_processed_inputs)\n",
    "y = tf.keras.layers.Dense(16, activation=tf.nn.relu6)(y)\n",
    "last_layer = tf.keras.layers.Dense(8, activation=tf.nn.relu, name=\"last\")(y)\n",
    "\n",
    "# \"3\" for the three label classes. If it were a binary classification, the\n",
    "# output dim would be 1.\n",
    "classification_output = tf.keras.layers.Dense(9, activation='softmax')(y)\n",
    "\n",
    "nn_model = tf.keras.models.Model(nn_raw_inputs, classification_output)\n",
    "\n",
    "# To reduce the risk of mistakes, group both the decision forest and the\n",
    "# neural network in a single keras model.\n",
    "nn_without_head = tf.keras.models.Model(inputs=nn_model.inputs, outputs=last_layer)\n",
    "df_and_nn_model = tfdf.keras.GradientBoostedTreesModel(\n",
    "    num_trees=500,\n",
    "    growing_strategy=\"BEST_FIRST_GLOBAL\",\n",
    "    hyperparameter_template=\"better_default@v1\",\n",
    "    max_depth=8,\n",
    "    split_axis=\"SPARSE_OBLIQUE\",\n",
    "    preprocessing=nn_without_head)"
   ]
  },
  {
   "cell_type": "code",
   "execution_count": 29,
   "id": "c203dcf5-4cf0-4690-a5aa-18b648ac4d95",
   "metadata": {},
   "outputs": [
    {
     "name": "stderr",
     "output_type": "stream",
     "text": [
      "/home/neil/anaconda3/envs/ds_py_3.8/lib/python3.8/site-packages/tensorflow/python/keras/backend.py:4929: UserWarning: \"`sparse_categorical_crossentropy` received `from_logits=True`, but the `output` argument was produced by a sigmoid or softmax activation and thus does not represent logits. Was this intended?\"\n",
      "  warnings.warn(\n"
     ]
    },
    {
     "name": "stdout",
     "output_type": "stream",
     "text": [
      "625/625 [==============================] - 2s 4ms/step - loss: 1.7773 - accuracy: 0.3545\n",
      "Evaluation: [1.777343511581421, 0.3544999957084656]\n"
     ]
    }
   ],
   "source": [
    "nn_model.compile(\n",
    "  optimizer=tf.keras.optimizers.Adam(),\n",
    "  loss=tf.keras.losses.SparseCategoricalCrossentropy(from_logits=True),\n",
    "  metrics=[\"accuracy\"])\n",
    "\n",
    "nn_model.fit(x=train_ds, validation_data=test_ds, epochs=10, verbose=False)\n",
    "print(\"Evaluation:\", nn_model.evaluate(test_ds))"
   ]
  },
  {
   "cell_type": "code",
   "execution_count": 42,
   "id": "4b81b130-4a2a-4752-8bbb-f73cc0add20e",
   "metadata": {},
   "outputs": [
    {
     "name": "stdout",
     "output_type": "stream",
     "text": [
      "2500/2500 [==============================] - 14s 5ms/step\n",
      "625/625 [==============================] - 6s 8ms/step - loss: 0.0000e+00 - accuracy: 0.3265\n",
      "Evaluation: [0.0, 0.32647499442100525]\n"
     ]
    }
   ],
   "source": [
    "df_and_nn_model.compile(metrics=[\"accuracy\"])\n",
    "df_and_nn_model.fit(x=train_ds)\n",
    "print(\"Evaluation:\", df_and_nn_model.evaluate(test_ds))"
   ]
  },
  {
   "cell_type": "code",
   "execution_count": null,
   "id": "cf946de4-ad22-4741-973d-693215757878",
   "metadata": {},
   "outputs": [],
   "source": [
    "1 + 1"
   ]
  },
  {
   "cell_type": "code",
   "execution_count": null,
   "id": "6a218d6e-f1bd-4130-af2e-7eee94c73fe1",
   "metadata": {},
   "outputs": [],
   "source": [
    "df_and_nn_model.summary()"
   ]
  },
  {
   "cell_type": "code",
   "execution_count": null,
   "id": "cb77adf9-de4e-4a8f-adea-c0b1466534bc",
   "metadata": {},
   "outputs": [],
   "source": [
    "## Only Boosted Trees"
   ]
  },
  {
   "cell_type": "code",
   "execution_count": 57,
   "id": "5d4b2d31-7900-4726-909e-68ab46907eb9",
   "metadata": {},
   "outputs": [],
   "source": [
    "gbt_model = tfdf.keras.GradientBoostedTreesModel(\n",
    "    num_trees=500,\n",
    "    growing_strategy=\"BEST_FIRST_GLOBAL\",\n",
    "    hyperparameter_template=\"better_default@v1\",\n",
    "    max_depth=8,\n",
    "    split_axis=\"SPARSE_OBLIQUE\")"
   ]
  },
  {
   "cell_type": "code",
   "execution_count": null,
   "id": "643eb851-f801-4132-8926-ebdfb5065d5f",
   "metadata": {},
   "outputs": [],
   "source": [
    "gbt_model.compile(metrics=[\"accuracy\"])\n",
    "gbt_model.fit(x=train_ds)\n",
    "print(\"Evaluation:\", gbt_model.evaluate(test_ds))"
   ]
  },
  {
   "cell_type": "code",
   "execution_count": null,
   "id": "43eaaa22-56d7-41d9-bda0-c666493116a8",
   "metadata": {},
   "outputs": [],
   "source": [
    "nn_processed_inputs"
   ]
  },
  {
   "cell_type": "code",
   "execution_count": null,
   "id": "b2096f32-631c-4633-9bc3-37262256df74",
   "metadata": {},
   "outputs": [],
   "source": [
    "gbt_model.GradientBoostedTreesModel"
   ]
  },
  {
   "cell_type": "markdown",
   "id": "2c2bb561-09dd-4339-966e-3fe23127fe34",
   "metadata": {},
   "source": [
    "# Submit"
   ]
  },
  {
   "cell_type": "code",
   "execution_count": 43,
   "id": "e01aa9a6-dc6b-4825-aaaa-23e87ceaac9e",
   "metadata": {},
   "outputs": [
    {
     "name": "stderr",
     "output_type": "stream",
     "text": [
      "/home/neil/anaconda3/envs/ds_py_3.8/lib/python3.8/site-packages/tensorflow/python/keras/engine/functional.py:588: UserWarning: Input dict contained keys ['id'] which did not match any model input. They will be ignored by the model.\n",
      "  warnings.warn(\n"
     ]
    }
   ],
   "source": [
    "scores = df_and_nn_model.predict(score_ds)"
   ]
  },
  {
   "cell_type": "code",
   "execution_count": 44,
   "id": "6fef4bcb-5b8a-41bb-bb06-b17ece8e82dc",
   "metadata": {},
   "outputs": [
    {
     "data": {
      "text/plain": [
       "array([0.05123195, 0.3139285 , 0.10311405, 0.02255395, 0.01415913,\n",
       "       0.23455738, 0.04244225, 0.11815401, 0.09985875], dtype=float32)"
      ]
     },
     "execution_count": 44,
     "metadata": {},
     "output_type": "execute_result"
    }
   ],
   "source": [
    "scores[0]"
   ]
  },
  {
   "cell_type": "code",
   "execution_count": 30,
   "id": "88335c7e-b7dc-4dc2-9362-44e5e717c067",
   "metadata": {},
   "outputs": [],
   "source": [
    "scores = nn_model.predict(score_ds)"
   ]
  },
  {
   "cell_type": "code",
   "execution_count": 31,
   "id": "96baf9cc-365c-48d7-ae34-32447e26051f",
   "metadata": {},
   "outputs": [
    {
     "data": {
      "text/plain": [
       "array([0.05057526, 0.3466419 , 0.13916528, 0.02596324, 0.01158005,\n",
       "       0.19335993, 0.03330079, 0.07270449, 0.12670901], dtype=float32)"
      ]
     },
     "execution_count": 31,
     "metadata": {},
     "output_type": "execute_result"
    }
   ],
   "source": [
    "scores[0]"
   ]
  },
  {
   "cell_type": "code",
   "execution_count": 45,
   "id": "786f261e-3a76-4a98-a2ef-44b60431a341",
   "metadata": {},
   "outputs": [
    {
     "data": {
      "text/plain": [
       "1.0"
      ]
     },
     "execution_count": 45,
     "metadata": {},
     "output_type": "execute_result"
    }
   ],
   "source": [
    "scores[0].sum()"
   ]
  },
  {
   "cell_type": "code",
   "execution_count": 48,
   "id": "ea0a1d8f-dcca-40f6-922f-6a41dd298cd6",
   "metadata": {},
   "outputs": [],
   "source": [
    "submission = df_and_nn_model.predict(score_ds)"
   ]
  },
  {
   "cell_type": "code",
   "execution_count": 49,
   "id": "08ce55d0-b73f-4aa6-ae6b-0652144f6328",
   "metadata": {},
   "outputs": [
    {
     "data": {
      "text/plain": [
       "array([[0.05123195, 0.3139285 , 0.10311405, ..., 0.04244225, 0.11815401,\n",
       "        0.09985875],\n",
       "       [0.05292083, 0.19752948, 0.09992266, ..., 0.06918231, 0.23192424,\n",
       "        0.1386662 ],\n",
       "       [0.0427525 , 0.0806853 , 0.05078527, ..., 0.04061898, 0.16725162,\n",
       "        0.09383605],\n",
       "       ...,\n",
       "       [0.0592821 , 0.16076756, 0.1134045 , ..., 0.05798278, 0.19935758,\n",
       "        0.14670154],\n",
       "       [0.04319179, 0.13510779, 0.07627949, ..., 0.04807479, 0.20024964,\n",
       "        0.11071635],\n",
       "       [0.04554993, 0.09694237, 0.06279515, ..., 0.0865614 , 0.24397598,\n",
       "        0.13778292]], dtype=float32)"
      ]
     },
     "execution_count": 49,
     "metadata": {},
     "output_type": "execute_result"
    }
   ],
   "source": [
    "submission"
   ]
  },
  {
   "cell_type": "code",
   "execution_count": 50,
   "id": "eb2d66d0-4cd2-4acb-b138-3a02a9e52ff0",
   "metadata": {},
   "outputs": [],
   "source": [
    "submit = pd.DataFrame(submission, columns=['Class_1', 'Class_2', 'Class_3', 'Class_4', 'Class_5', 'Class_6',\n",
    "       'Class_7', 'Class_8', 'Class_9'])"
   ]
  },
  {
   "cell_type": "code",
   "execution_count": 51,
   "id": "4d02b2bb-8c63-471b-a14d-fa10d9faa596",
   "metadata": {},
   "outputs": [
    {
     "data": {
      "text/html": [
       "<div>\n",
       "<style scoped>\n",
       "    .dataframe tbody tr th:only-of-type {\n",
       "        vertical-align: middle;\n",
       "    }\n",
       "\n",
       "    .dataframe tbody tr th {\n",
       "        vertical-align: top;\n",
       "    }\n",
       "\n",
       "    .dataframe thead th {\n",
       "        text-align: right;\n",
       "    }\n",
       "</style>\n",
       "<table border=\"1\" class=\"dataframe\">\n",
       "  <thead>\n",
       "    <tr style=\"text-align: right;\">\n",
       "      <th></th>\n",
       "      <th>Class_1</th>\n",
       "      <th>Class_2</th>\n",
       "      <th>Class_3</th>\n",
       "      <th>Class_4</th>\n",
       "      <th>Class_5</th>\n",
       "      <th>Class_6</th>\n",
       "      <th>Class_7</th>\n",
       "      <th>Class_8</th>\n",
       "      <th>Class_9</th>\n",
       "    </tr>\n",
       "  </thead>\n",
       "  <tbody>\n",
       "    <tr>\n",
       "      <th>0</th>\n",
       "      <td>0.051232</td>\n",
       "      <td>0.313929</td>\n",
       "      <td>0.103114</td>\n",
       "      <td>0.022554</td>\n",
       "      <td>0.014159</td>\n",
       "      <td>0.234557</td>\n",
       "      <td>0.042442</td>\n",
       "      <td>0.118154</td>\n",
       "      <td>0.099859</td>\n",
       "    </tr>\n",
       "    <tr>\n",
       "      <th>1</th>\n",
       "      <td>0.052921</td>\n",
       "      <td>0.197529</td>\n",
       "      <td>0.099923</td>\n",
       "      <td>0.026140</td>\n",
       "      <td>0.016954</td>\n",
       "      <td>0.166760</td>\n",
       "      <td>0.069182</td>\n",
       "      <td>0.231924</td>\n",
       "      <td>0.138666</td>\n",
       "    </tr>\n",
       "    <tr>\n",
       "      <th>2</th>\n",
       "      <td>0.042752</td>\n",
       "      <td>0.080685</td>\n",
       "      <td>0.050785</td>\n",
       "      <td>0.019760</td>\n",
       "      <td>0.013847</td>\n",
       "      <td>0.490464</td>\n",
       "      <td>0.040619</td>\n",
       "      <td>0.167252</td>\n",
       "      <td>0.093836</td>\n",
       "    </tr>\n",
       "    <tr>\n",
       "      <th>3</th>\n",
       "      <td>0.041876</td>\n",
       "      <td>0.175990</td>\n",
       "      <td>0.102015</td>\n",
       "      <td>0.024907</td>\n",
       "      <td>0.016299</td>\n",
       "      <td>0.145524</td>\n",
       "      <td>0.074987</td>\n",
       "      <td>0.263153</td>\n",
       "      <td>0.155249</td>\n",
       "    </tr>\n",
       "    <tr>\n",
       "      <th>4</th>\n",
       "      <td>0.041057</td>\n",
       "      <td>0.164555</td>\n",
       "      <td>0.082780</td>\n",
       "      <td>0.020824</td>\n",
       "      <td>0.014714</td>\n",
       "      <td>0.279067</td>\n",
       "      <td>0.051768</td>\n",
       "      <td>0.222663</td>\n",
       "      <td>0.122573</td>\n",
       "    </tr>\n",
       "  </tbody>\n",
       "</table>\n",
       "</div>"
      ],
      "text/plain": [
       "    Class_1   Class_2   Class_3   Class_4   Class_5   Class_6   Class_7  \\\n",
       "0  0.051232  0.313929  0.103114  0.022554  0.014159  0.234557  0.042442   \n",
       "1  0.052921  0.197529  0.099923  0.026140  0.016954  0.166760  0.069182   \n",
       "2  0.042752  0.080685  0.050785  0.019760  0.013847  0.490464  0.040619   \n",
       "3  0.041876  0.175990  0.102015  0.024907  0.016299  0.145524  0.074987   \n",
       "4  0.041057  0.164555  0.082780  0.020824  0.014714  0.279067  0.051768   \n",
       "\n",
       "    Class_8   Class_9  \n",
       "0  0.118154  0.099859  \n",
       "1  0.231924  0.138666  \n",
       "2  0.167252  0.093836  \n",
       "3  0.263153  0.155249  \n",
       "4  0.222663  0.122573  "
      ]
     },
     "execution_count": 51,
     "metadata": {},
     "output_type": "execute_result"
    }
   ],
   "source": [
    "submit.head()"
   ]
  },
  {
   "cell_type": "code",
   "execution_count": 52,
   "id": "0ef0f0d8-c91c-487c-8f9c-5b8ce234003a",
   "metadata": {},
   "outputs": [],
   "source": [
    "submit['id'] = test['id']"
   ]
  },
  {
   "cell_type": "code",
   "execution_count": 53,
   "id": "e15a44f8-a49b-40a8-8002-53b0a4015060",
   "metadata": {},
   "outputs": [],
   "source": [
    "submit = submit[['id','Class_1', 'Class_2', 'Class_3', 'Class_4', 'Class_5', 'Class_6',\n",
    "       'Class_7', 'Class_8', 'Class_9']]"
   ]
  },
  {
   "cell_type": "code",
   "execution_count": 54,
   "id": "d5eba916-0388-48d4-acc7-b0bba4de98cf",
   "metadata": {},
   "outputs": [],
   "source": [
    "submit.to_csv('submission.csv', index=False)"
   ]
  },
  {
   "cell_type": "code",
   "execution_count": 55,
   "id": "b5c9e005-e92c-495d-acb2-9102d3994598",
   "metadata": {},
   "outputs": [
    {
     "data": {
      "text/html": [
       "<div>\n",
       "<style scoped>\n",
       "    .dataframe tbody tr th:only-of-type {\n",
       "        vertical-align: middle;\n",
       "    }\n",
       "\n",
       "    .dataframe tbody tr th {\n",
       "        vertical-align: top;\n",
       "    }\n",
       "\n",
       "    .dataframe thead th {\n",
       "        text-align: right;\n",
       "    }\n",
       "</style>\n",
       "<table border=\"1\" class=\"dataframe\">\n",
       "  <thead>\n",
       "    <tr style=\"text-align: right;\">\n",
       "      <th></th>\n",
       "      <th>id</th>\n",
       "      <th>Class_1</th>\n",
       "      <th>Class_2</th>\n",
       "      <th>Class_3</th>\n",
       "      <th>Class_4</th>\n",
       "      <th>Class_5</th>\n",
       "      <th>Class_6</th>\n",
       "      <th>Class_7</th>\n",
       "      <th>Class_8</th>\n",
       "      <th>Class_9</th>\n",
       "    </tr>\n",
       "  </thead>\n",
       "  <tbody>\n",
       "    <tr>\n",
       "      <th>0</th>\n",
       "      <td>200000</td>\n",
       "      <td>0.051232</td>\n",
       "      <td>0.313928</td>\n",
       "      <td>0.103114</td>\n",
       "      <td>0.022554</td>\n",
       "      <td>0.014159</td>\n",
       "      <td>0.234557</td>\n",
       "      <td>0.042442</td>\n",
       "      <td>0.118154</td>\n",
       "      <td>0.099859</td>\n",
       "    </tr>\n",
       "    <tr>\n",
       "      <th>1</th>\n",
       "      <td>200001</td>\n",
       "      <td>0.052921</td>\n",
       "      <td>0.197529</td>\n",
       "      <td>0.099923</td>\n",
       "      <td>0.026140</td>\n",
       "      <td>0.016954</td>\n",
       "      <td>0.166760</td>\n",
       "      <td>0.069182</td>\n",
       "      <td>0.231924</td>\n",
       "      <td>0.138666</td>\n",
       "    </tr>\n",
       "    <tr>\n",
       "      <th>2</th>\n",
       "      <td>200002</td>\n",
       "      <td>0.042752</td>\n",
       "      <td>0.080685</td>\n",
       "      <td>0.050785</td>\n",
       "      <td>0.019760</td>\n",
       "      <td>0.013847</td>\n",
       "      <td>0.490464</td>\n",
       "      <td>0.040619</td>\n",
       "      <td>0.167252</td>\n",
       "      <td>0.093836</td>\n",
       "    </tr>\n",
       "    <tr>\n",
       "      <th>3</th>\n",
       "      <td>200003</td>\n",
       "      <td>0.041876</td>\n",
       "      <td>0.175990</td>\n",
       "      <td>0.102015</td>\n",
       "      <td>0.024907</td>\n",
       "      <td>0.016299</td>\n",
       "      <td>0.145524</td>\n",
       "      <td>0.074987</td>\n",
       "      <td>0.263153</td>\n",
       "      <td>0.155249</td>\n",
       "    </tr>\n",
       "    <tr>\n",
       "      <th>4</th>\n",
       "      <td>200004</td>\n",
       "      <td>0.041057</td>\n",
       "      <td>0.164555</td>\n",
       "      <td>0.082780</td>\n",
       "      <td>0.020824</td>\n",
       "      <td>0.014714</td>\n",
       "      <td>0.279067</td>\n",
       "      <td>0.051768</td>\n",
       "      <td>0.222663</td>\n",
       "      <td>0.122573</td>\n",
       "    </tr>\n",
       "    <tr>\n",
       "      <th>...</th>\n",
       "      <td>...</td>\n",
       "      <td>...</td>\n",
       "      <td>...</td>\n",
       "      <td>...</td>\n",
       "      <td>...</td>\n",
       "      <td>...</td>\n",
       "      <td>...</td>\n",
       "      <td>...</td>\n",
       "      <td>...</td>\n",
       "      <td>...</td>\n",
       "    </tr>\n",
       "    <tr>\n",
       "      <th>99995</th>\n",
       "      <td>299995</td>\n",
       "      <td>0.048629</td>\n",
       "      <td>0.207479</td>\n",
       "      <td>0.094437</td>\n",
       "      <td>0.026961</td>\n",
       "      <td>0.015818</td>\n",
       "      <td>0.214119</td>\n",
       "      <td>0.059243</td>\n",
       "      <td>0.205237</td>\n",
       "      <td>0.128076</td>\n",
       "    </tr>\n",
       "    <tr>\n",
       "      <th>99996</th>\n",
       "      <td>299996</td>\n",
       "      <td>0.037546</td>\n",
       "      <td>0.109343</td>\n",
       "      <td>0.072015</td>\n",
       "      <td>0.020469</td>\n",
       "      <td>0.014286</td>\n",
       "      <td>0.387404</td>\n",
       "      <td>0.046645</td>\n",
       "      <td>0.219495</td>\n",
       "      <td>0.092798</td>\n",
       "    </tr>\n",
       "    <tr>\n",
       "      <th>99997</th>\n",
       "      <td>299997</td>\n",
       "      <td>0.059282</td>\n",
       "      <td>0.160768</td>\n",
       "      <td>0.113405</td>\n",
       "      <td>0.026677</td>\n",
       "      <td>0.016689</td>\n",
       "      <td>0.219137</td>\n",
       "      <td>0.057983</td>\n",
       "      <td>0.199358</td>\n",
       "      <td>0.146702</td>\n",
       "    </tr>\n",
       "    <tr>\n",
       "      <th>99998</th>\n",
       "      <td>299998</td>\n",
       "      <td>0.043192</td>\n",
       "      <td>0.135108</td>\n",
       "      <td>0.076279</td>\n",
       "      <td>0.021890</td>\n",
       "      <td>0.013879</td>\n",
       "      <td>0.350612</td>\n",
       "      <td>0.048075</td>\n",
       "      <td>0.200250</td>\n",
       "      <td>0.110716</td>\n",
       "    </tr>\n",
       "    <tr>\n",
       "      <th>99999</th>\n",
       "      <td>299999</td>\n",
       "      <td>0.045550</td>\n",
       "      <td>0.096942</td>\n",
       "      <td>0.062795</td>\n",
       "      <td>0.024456</td>\n",
       "      <td>0.018602</td>\n",
       "      <td>0.283335</td>\n",
       "      <td>0.086561</td>\n",
       "      <td>0.243976</td>\n",
       "      <td>0.137783</td>\n",
       "    </tr>\n",
       "  </tbody>\n",
       "</table>\n",
       "<p>100000 rows × 10 columns</p>\n",
       "</div>"
      ],
      "text/plain": [
       "           id   Class_1   Class_2   Class_3   Class_4   Class_5   Class_6  \\\n",
       "0      200000  0.051232  0.313928  0.103114  0.022554  0.014159  0.234557   \n",
       "1      200001  0.052921  0.197529  0.099923  0.026140  0.016954  0.166760   \n",
       "2      200002  0.042752  0.080685  0.050785  0.019760  0.013847  0.490464   \n",
       "3      200003  0.041876  0.175990  0.102015  0.024907  0.016299  0.145524   \n",
       "4      200004  0.041057  0.164555  0.082780  0.020824  0.014714  0.279067   \n",
       "...       ...       ...       ...       ...       ...       ...       ...   \n",
       "99995  299995  0.048629  0.207479  0.094437  0.026961  0.015818  0.214119   \n",
       "99996  299996  0.037546  0.109343  0.072015  0.020469  0.014286  0.387404   \n",
       "99997  299997  0.059282  0.160768  0.113405  0.026677  0.016689  0.219137   \n",
       "99998  299998  0.043192  0.135108  0.076279  0.021890  0.013879  0.350612   \n",
       "99999  299999  0.045550  0.096942  0.062795  0.024456  0.018602  0.283335   \n",
       "\n",
       "        Class_7   Class_8   Class_9  \n",
       "0      0.042442  0.118154  0.099859  \n",
       "1      0.069182  0.231924  0.138666  \n",
       "2      0.040619  0.167252  0.093836  \n",
       "3      0.074987  0.263153  0.155249  \n",
       "4      0.051768  0.222663  0.122573  \n",
       "...         ...       ...       ...  \n",
       "99995  0.059243  0.205237  0.128076  \n",
       "99996  0.046645  0.219495  0.092798  \n",
       "99997  0.057983  0.199358  0.146702  \n",
       "99998  0.048075  0.200250  0.110716  \n",
       "99999  0.086561  0.243976  0.137783  \n",
       "\n",
       "[100000 rows x 10 columns]"
      ]
     },
     "execution_count": 55,
     "metadata": {},
     "output_type": "execute_result"
    }
   ],
   "source": [
    "pd.read_csv('submission.csv')"
   ]
  },
  {
   "cell_type": "code",
   "execution_count": 56,
   "id": "fc161e0e-0c46-40f3-af6b-bbdc28a4423d",
   "metadata": {},
   "outputs": [
    {
     "name": "stdout",
     "output_type": "stream",
     "text": [
      "Warning: Your Kaggle API key is readable by other users on this system! To fix this, you can run 'chmod 600 /home/neil/kaggle/kaggle.json'\n",
      "Warning: Looks like you're using an outdated API Version, please consider updating (server 1.5.12 / client 1.5.8)\n",
      "100%|██████████████████████████████████████| 10.3M/10.3M [00:08<00:00, 1.35MB/s]\n",
      "Successfully submitted to Tabular Playground Series - Jun 2021"
     ]
    }
   ],
   "source": [
    "! kaggle competitions submit -c tabular-playground-series-jun-2021 -f submission.csv -m \"Baseline\""
   ]
  },
  {
   "cell_type": "code",
   "execution_count": null,
   "id": "d8559a0d-2303-443a-9c32-7ad32fb255a4",
   "metadata": {},
   "outputs": [],
   "source": []
  }
 ],
 "metadata": {
  "kernelspec": {
   "display_name": "ds_py_3.8",
   "language": "python",
   "name": "ds_py_3.8"
  },
  "language_info": {
   "codemirror_mode": {
    "name": "ipython",
    "version": 3
   },
   "file_extension": ".py",
   "mimetype": "text/x-python",
   "name": "python",
   "nbconvert_exporter": "python",
   "pygments_lexer": "ipython3",
   "version": "3.8.10"
  }
 },
 "nbformat": 4,
 "nbformat_minor": 5
}
