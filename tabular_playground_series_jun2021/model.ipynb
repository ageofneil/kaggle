{
 "cells": [
  {
   "cell_type": "code",
   "execution_count": 1,
   "id": "9873a5f2-9247-441d-b517-df9b396f1677",
   "metadata": {},
   "outputs": [],
   "source": [
    "# Standard stack\n",
    "import datetime\n",
    "import pandas as pd\n",
    "import numpy as np\n",
    "import re\n",
    "\n",
    "# Visualization\n",
    "from pandas_profiling import ProfileReport\n",
    "\n",
    "# Modeling\n",
    "import tensorflow as tf\n",
    "import tensorflow_decision_forests as tfdf\n",
    "try:\n",
    "    from wurlitzer import sys_pipes\n",
    "except:\n",
    "    from colabtools.googlelog import CaptureLog as sys_pipes\n",
    "\n",
    "# processing\n",
    "from sklearn.model_selection import train_test_split\n",
    "\n",
    "# notebook\n",
    "from IPython.core.magic import register_line_magic\n",
    "from IPython.display import Javascript"
   ]
  },
  {
   "cell_type": "code",
   "execution_count": 2,
   "id": "af12dd6a-a34b-49cf-9a52-09a69f745fb6",
   "metadata": {},
   "outputs": [],
   "source": [
    "KAGGLE_EVAL_METRIC = 'logloss' # string name for loss function in xgboost\n",
    "\n",
    "TRAIN_PATH = \"data/train.csv\"\n",
    "TEST_PATH = \"data/test.csv\"\n",
    "\n",
    "label = \"target\""
   ]
  },
  {
   "cell_type": "code",
   "execution_count": 3,
   "id": "a30242b5-8afa-458f-9cb8-23bc64028b70",
   "metadata": {},
   "outputs": [],
   "source": [
    "train = pd.read_csv(TRAIN_PATH)\n",
    "test = pd.read_csv(TEST_PATH)"
   ]
  },
  {
   "cell_type": "code",
   "execution_count": 4,
   "id": "3f73e585-4b3f-4ea5-a194-bb469630a04e",
   "metadata": {},
   "outputs": [],
   "source": [
    "to_drop = ['id']"
   ]
  },
  {
   "cell_type": "code",
   "execution_count": 5,
   "id": "b3534bc8-d252-4e11-8aa8-7d1632d5de68",
   "metadata": {},
   "outputs": [],
   "source": [
    "train = train.drop(to_drop, axis=1)\n",
    "test = test.drop(to_drop, axis=1)"
   ]
  },
  {
   "cell_type": "code",
   "execution_count": 6,
   "id": "ba95d723-3f92-449a-a77f-7131bd6cc678",
   "metadata": {},
   "outputs": [
    {
     "data": {
      "text/plain": [
       "9"
      ]
     },
     "execution_count": 6,
     "metadata": {},
     "output_type": "execute_result"
    }
   ],
   "source": [
    "train.target.nunique()"
   ]
  },
  {
   "cell_type": "code",
   "execution_count": 7,
   "id": "d40c8b8c-3fa3-460b-95c2-15ca77329586",
   "metadata": {},
   "outputs": [
    {
     "data": {
      "text/html": [
       "<div>\n",
       "<style scoped>\n",
       "    .dataframe tbody tr th:only-of-type {\n",
       "        vertical-align: middle;\n",
       "    }\n",
       "\n",
       "    .dataframe tbody tr th {\n",
       "        vertical-align: top;\n",
       "    }\n",
       "\n",
       "    .dataframe thead th {\n",
       "        text-align: right;\n",
       "    }\n",
       "</style>\n",
       "<table border=\"1\" class=\"dataframe\">\n",
       "  <thead>\n",
       "    <tr style=\"text-align: right;\">\n",
       "      <th></th>\n",
       "      <th>feature_0</th>\n",
       "      <th>feature_1</th>\n",
       "      <th>feature_2</th>\n",
       "      <th>feature_3</th>\n",
       "      <th>feature_4</th>\n",
       "      <th>feature_5</th>\n",
       "      <th>feature_6</th>\n",
       "      <th>feature_7</th>\n",
       "      <th>feature_8</th>\n",
       "      <th>feature_9</th>\n",
       "      <th>...</th>\n",
       "      <th>feature_66</th>\n",
       "      <th>feature_67</th>\n",
       "      <th>feature_68</th>\n",
       "      <th>feature_69</th>\n",
       "      <th>feature_70</th>\n",
       "      <th>feature_71</th>\n",
       "      <th>feature_72</th>\n",
       "      <th>feature_73</th>\n",
       "      <th>feature_74</th>\n",
       "      <th>target</th>\n",
       "    </tr>\n",
       "  </thead>\n",
       "  <tbody>\n",
       "    <tr>\n",
       "      <th>0</th>\n",
       "      <td>0</td>\n",
       "      <td>0</td>\n",
       "      <td>6</td>\n",
       "      <td>1</td>\n",
       "      <td>0</td>\n",
       "      <td>0</td>\n",
       "      <td>0</td>\n",
       "      <td>0</td>\n",
       "      <td>7</td>\n",
       "      <td>0</td>\n",
       "      <td>...</td>\n",
       "      <td>0</td>\n",
       "      <td>0</td>\n",
       "      <td>0</td>\n",
       "      <td>0</td>\n",
       "      <td>0</td>\n",
       "      <td>0</td>\n",
       "      <td>2</td>\n",
       "      <td>0</td>\n",
       "      <td>0</td>\n",
       "      <td>Class_6</td>\n",
       "    </tr>\n",
       "    <tr>\n",
       "      <th>1</th>\n",
       "      <td>0</td>\n",
       "      <td>0</td>\n",
       "      <td>0</td>\n",
       "      <td>0</td>\n",
       "      <td>0</td>\n",
       "      <td>0</td>\n",
       "      <td>0</td>\n",
       "      <td>0</td>\n",
       "      <td>0</td>\n",
       "      <td>0</td>\n",
       "      <td>...</td>\n",
       "      <td>2</td>\n",
       "      <td>0</td>\n",
       "      <td>0</td>\n",
       "      <td>0</td>\n",
       "      <td>0</td>\n",
       "      <td>0</td>\n",
       "      <td>0</td>\n",
       "      <td>1</td>\n",
       "      <td>0</td>\n",
       "      <td>Class_6</td>\n",
       "    </tr>\n",
       "    <tr>\n",
       "      <th>2</th>\n",
       "      <td>0</td>\n",
       "      <td>0</td>\n",
       "      <td>0</td>\n",
       "      <td>0</td>\n",
       "      <td>0</td>\n",
       "      <td>1</td>\n",
       "      <td>0</td>\n",
       "      <td>3</td>\n",
       "      <td>0</td>\n",
       "      <td>0</td>\n",
       "      <td>...</td>\n",
       "      <td>0</td>\n",
       "      <td>0</td>\n",
       "      <td>0</td>\n",
       "      <td>0</td>\n",
       "      <td>1</td>\n",
       "      <td>0</td>\n",
       "      <td>0</td>\n",
       "      <td>0</td>\n",
       "      <td>0</td>\n",
       "      <td>Class_2</td>\n",
       "    </tr>\n",
       "    <tr>\n",
       "      <th>3</th>\n",
       "      <td>0</td>\n",
       "      <td>0</td>\n",
       "      <td>7</td>\n",
       "      <td>0</td>\n",
       "      <td>1</td>\n",
       "      <td>5</td>\n",
       "      <td>2</td>\n",
       "      <td>2</td>\n",
       "      <td>0</td>\n",
       "      <td>1</td>\n",
       "      <td>...</td>\n",
       "      <td>0</td>\n",
       "      <td>4</td>\n",
       "      <td>0</td>\n",
       "      <td>2</td>\n",
       "      <td>2</td>\n",
       "      <td>0</td>\n",
       "      <td>4</td>\n",
       "      <td>3</td>\n",
       "      <td>0</td>\n",
       "      <td>Class_8</td>\n",
       "    </tr>\n",
       "    <tr>\n",
       "      <th>4</th>\n",
       "      <td>1</td>\n",
       "      <td>0</td>\n",
       "      <td>0</td>\n",
       "      <td>0</td>\n",
       "      <td>0</td>\n",
       "      <td>0</td>\n",
       "      <td>0</td>\n",
       "      <td>0</td>\n",
       "      <td>0</td>\n",
       "      <td>0</td>\n",
       "      <td>...</td>\n",
       "      <td>0</td>\n",
       "      <td>0</td>\n",
       "      <td>0</td>\n",
       "      <td>0</td>\n",
       "      <td>0</td>\n",
       "      <td>0</td>\n",
       "      <td>0</td>\n",
       "      <td>0</td>\n",
       "      <td>0</td>\n",
       "      <td>Class_2</td>\n",
       "    </tr>\n",
       "  </tbody>\n",
       "</table>\n",
       "<p>5 rows × 76 columns</p>\n",
       "</div>"
      ],
      "text/plain": [
       "   feature_0  feature_1  feature_2  feature_3  feature_4  feature_5  \\\n",
       "0          0          0          6          1          0          0   \n",
       "1          0          0          0          0          0          0   \n",
       "2          0          0          0          0          0          1   \n",
       "3          0          0          7          0          1          5   \n",
       "4          1          0          0          0          0          0   \n",
       "\n",
       "   feature_6  feature_7  feature_8  feature_9  ...  feature_66  feature_67  \\\n",
       "0          0          0          7          0  ...           0           0   \n",
       "1          0          0          0          0  ...           2           0   \n",
       "2          0          3          0          0  ...           0           0   \n",
       "3          2          2          0          1  ...           0           4   \n",
       "4          0          0          0          0  ...           0           0   \n",
       "\n",
       "   feature_68  feature_69  feature_70  feature_71  feature_72  feature_73  \\\n",
       "0           0           0           0           0           2           0   \n",
       "1           0           0           0           0           0           1   \n",
       "2           0           0           1           0           0           0   \n",
       "3           0           2           2           0           4           3   \n",
       "4           0           0           0           0           0           0   \n",
       "\n",
       "   feature_74   target  \n",
       "0           0  Class_6  \n",
       "1           0  Class_6  \n",
       "2           0  Class_2  \n",
       "3           0  Class_8  \n",
       "4           0  Class_2  \n",
       "\n",
       "[5 rows x 76 columns]"
      ]
     },
     "execution_count": 7,
     "metadata": {},
     "output_type": "execute_result"
    }
   ],
   "source": [
    "train.head()"
   ]
  },
  {
   "cell_type": "code",
   "execution_count": 8,
   "id": "7b9fe412-609d-49f5-ac4f-898c3239f6e2",
   "metadata": {},
   "outputs": [
    {
     "data": {
      "text/plain": [
       "(200000, 76)"
      ]
     },
     "execution_count": 8,
     "metadata": {},
     "output_type": "execute_result"
    }
   ],
   "source": [
    "train.shape"
   ]
  },
  {
   "cell_type": "code",
   "execution_count": 9,
   "id": "f9306399-802d-41e7-ad44-4565bd02634c",
   "metadata": {},
   "outputs": [],
   "source": [
    "train_ds_pd, test_ds_pd = train_test_split(train, test_size=0.2, random_state=42)"
   ]
  },
  {
   "cell_type": "code",
   "execution_count": 10,
   "id": "e5515fba-8783-427a-b24d-3b4ef64eadeb",
   "metadata": {},
   "outputs": [],
   "source": [
    "train_ds = tfdf.keras.pd_dataframe_to_tf_dataset(train_ds_pd, label=label)\n",
    "test_ds = tfdf.keras.pd_dataframe_to_tf_dataset(test_ds_pd, label=label)\n",
    "score_ds = tfdf.keras.pd_dataframe_to_tf_dataset(test)"
   ]
  },
  {
   "cell_type": "code",
   "execution_count": 11,
   "id": "45ed3824-9d9f-4f8e-813a-df884fdc9fe9",
   "metadata": {},
   "outputs": [
    {
     "data": {
      "text/html": [
       "<div>\n",
       "<style scoped>\n",
       "    .dataframe tbody tr th:only-of-type {\n",
       "        vertical-align: middle;\n",
       "    }\n",
       "\n",
       "    .dataframe tbody tr th {\n",
       "        vertical-align: top;\n",
       "    }\n",
       "\n",
       "    .dataframe thead th {\n",
       "        text-align: right;\n",
       "    }\n",
       "</style>\n",
       "<table border=\"1\" class=\"dataframe\">\n",
       "  <thead>\n",
       "    <tr style=\"text-align: right;\">\n",
       "      <th></th>\n",
       "      <th>feature_0</th>\n",
       "      <th>feature_1</th>\n",
       "      <th>feature_2</th>\n",
       "      <th>feature_3</th>\n",
       "      <th>feature_4</th>\n",
       "      <th>feature_5</th>\n",
       "      <th>feature_6</th>\n",
       "      <th>feature_7</th>\n",
       "      <th>feature_8</th>\n",
       "      <th>feature_9</th>\n",
       "      <th>...</th>\n",
       "      <th>feature_66</th>\n",
       "      <th>feature_67</th>\n",
       "      <th>feature_68</th>\n",
       "      <th>feature_69</th>\n",
       "      <th>feature_70</th>\n",
       "      <th>feature_71</th>\n",
       "      <th>feature_72</th>\n",
       "      <th>feature_73</th>\n",
       "      <th>feature_74</th>\n",
       "      <th>target</th>\n",
       "    </tr>\n",
       "  </thead>\n",
       "  <tbody>\n",
       "    <tr>\n",
       "      <th>153248</th>\n",
       "      <td>0</td>\n",
       "      <td>0</td>\n",
       "      <td>0</td>\n",
       "      <td>2</td>\n",
       "      <td>0</td>\n",
       "      <td>1</td>\n",
       "      <td>0</td>\n",
       "      <td>0</td>\n",
       "      <td>0</td>\n",
       "      <td>0</td>\n",
       "      <td>...</td>\n",
       "      <td>0</td>\n",
       "      <td>5</td>\n",
       "      <td>0</td>\n",
       "      <td>0</td>\n",
       "      <td>0</td>\n",
       "      <td>4</td>\n",
       "      <td>2</td>\n",
       "      <td>0</td>\n",
       "      <td>0</td>\n",
       "      <td>Class_6</td>\n",
       "    </tr>\n",
       "  </tbody>\n",
       "</table>\n",
       "<p>1 rows × 76 columns</p>\n",
       "</div>"
      ],
      "text/plain": [
       "        feature_0  feature_1  feature_2  feature_3  feature_4  feature_5  \\\n",
       "153248          0          0          0          2          0          1   \n",
       "\n",
       "        feature_6  feature_7  feature_8  feature_9  ...  feature_66  \\\n",
       "153248          0          0          0          0  ...           0   \n",
       "\n",
       "        feature_67  feature_68  feature_69  feature_70  feature_71  \\\n",
       "153248           5           0           0           0           4   \n",
       "\n",
       "        feature_72  feature_73  feature_74   target  \n",
       "153248           2           0           0  Class_6  \n",
       "\n",
       "[1 rows x 76 columns]"
      ]
     },
     "execution_count": 11,
     "metadata": {},
     "output_type": "execute_result"
    }
   ],
   "source": [
    "train_ds_pd.head(1)"
   ]
  },
  {
   "cell_type": "code",
   "execution_count": 12,
   "id": "026832d1-6a48-4bab-9f86-81a0fda8f6b3",
   "metadata": {},
   "outputs": [],
   "source": [
    "features = ['feature_0', 'feature_1', 'feature_2', 'feature_3', 'feature_4',\n",
    "       'feature_5', 'feature_6', 'feature_7', 'feature_8', 'feature_9',\n",
    "       'feature_10', 'feature_11', 'feature_12', 'feature_13', 'feature_14',\n",
    "       'feature_15', 'feature_16', 'feature_17', 'feature_18', 'feature_19',\n",
    "       'feature_20', 'feature_21', 'feature_22', 'feature_23', 'feature_24',\n",
    "       'feature_25', 'feature_26', 'feature_27', 'feature_28', 'feature_29',\n",
    "       'feature_30', 'feature_31', 'feature_32', 'feature_33', 'feature_34',\n",
    "       'feature_35', 'feature_36', 'feature_37', 'feature_38', 'feature_39',\n",
    "       'feature_40', 'feature_41', 'feature_42', 'feature_43', 'feature_44',\n",
    "       'feature_45', 'feature_46', 'feature_47', 'feature_48', 'feature_49',\n",
    "       'feature_50', 'feature_51', 'feature_52', 'feature_53', 'feature_54',\n",
    "       'feature_55', 'feature_56', 'feature_57', 'feature_58', 'feature_59',\n",
    "       'feature_60', 'feature_61', 'feature_62', 'feature_63', 'feature_64',\n",
    "       'feature_65', 'feature_66', 'feature_67', 'feature_68', 'feature_69',\n",
    "       'feature_70', 'feature_71', 'feature_72', 'feature_73', 'feature_74']"
   ]
  },
  {
   "cell_type": "code",
   "execution_count": 13,
   "id": "3e16dd86-2eb0-44d4-aac7-9a86b049c31f",
   "metadata": {},
   "outputs": [],
   "source": [
    "def create_nn_input(features):\n",
    "    nn_raw_inputs = []\n",
    "    for feature in features:\n",
    "        nn_raw_inputs.append(tf.keras.Input(shape=(1,), name=feature, dtype=\"float\"))\n",
    "    return nn_raw_inputs"
   ]
  },
  {
   "cell_type": "code",
   "execution_count": 14,
   "id": "1661dc66-30c1-4e30-9bf9-900c144e0cf4",
   "metadata": {},
   "outputs": [],
   "source": [
    "nn_raw_inputs = create_nn_input(features)"
   ]
  },
  {
   "cell_type": "code",
   "execution_count": 15,
   "id": "4b8c5c78-e93a-4a0b-b996-dde27536ab9f",
   "metadata": {},
   "outputs": [],
   "source": [
    "#nn_raw_inputs"
   ]
  },
  {
   "cell_type": "code",
   "execution_count": 16,
   "id": "be1db143-fdf9-41d6-85a8-3a1103d34655",
   "metadata": {},
   "outputs": [],
   "source": [
    "# normalize\n",
    "Normalization = tf.keras.layers.experimental.preprocessing.Normalization\n",
    "\n",
    "def normalize_num_input(dataframe,raw_inputs):\n",
    "    nn_processed_inputs = []\n",
    "    for raw_input in raw_inputs:\n",
    "        values = dataframe[raw_input.name].values\n",
    "        input_normalizer = Normalization()\n",
    "        input_normalizer.adapt(values)\n",
    "        normalized_input = input_normalizer(raw_input)\n",
    "        nn_processed_inputs.append(normalized_input)\n",
    "    return nn_processed_inputs"
   ]
  },
  {
   "cell_type": "code",
   "execution_count": 17,
   "id": "28378348-2f77-4609-a2c2-a5d222a42fda",
   "metadata": {},
   "outputs": [],
   "source": [
    "nn_processed_inputs = normalize_num_input(train_ds_pd,nn_raw_inputs)"
   ]
  },
  {
   "cell_type": "markdown",
   "id": "2ca6d9dd-72d6-4ddd-a9c3-19e645fabe7d",
   "metadata": {},
   "source": [
    "## Create Models"
   ]
  },
  {
   "cell_type": "code",
   "execution_count": 18,
   "id": "e5f55072-ca59-41b5-98eb-c5604c24bdbb",
   "metadata": {},
   "outputs": [],
   "source": [
    "y = tf.keras.layers.Concatenate()(nn_processed_inputs)\n",
    "y = tf.keras.layers.Dense(16, activation=tf.nn.relu6)(y)\n",
    "last_layer = tf.keras.layers.Dense(8, activation=tf.nn.relu, name=\"last\")(y)\n",
    "\n",
    "# \"3\" for the three label classes. If it were a binary classification, the\n",
    "# output dim would be 1.\n",
    "classification_output = tf.keras.layers.Dense(9)(y)\n",
    "\n",
    "nn_model = tf.keras.models.Model(nn_raw_inputs, classification_output)\n",
    "\n",
    "# To reduce the risk of mistakes, group both the decision forest and the\n",
    "# neural network in a single keras model.\n",
    "nn_without_head = tf.keras.models.Model(inputs=nn_model.inputs, outputs=last_layer)\n",
    "df_and_nn_model = tfdf.keras.GradientBoostedTreesModel(\n",
    "    num_trees=500,\n",
    "    growing_strategy=\"BEST_FIRST_GLOBAL\",\n",
    "    hyperparameter_template=\"better_default@v1\",\n",
    "    max_depth=8,\n",
    "    split_axis=\"SPARSE_OBLIQUE\",\n",
    "    preprocessing=nn_without_head)"
   ]
  },
  {
   "cell_type": "code",
   "execution_count": 19,
   "id": "c203dcf5-4cf0-4690-a5aa-18b648ac4d95",
   "metadata": {},
   "outputs": [
    {
     "name": "stdout",
     "output_type": "stream",
     "text": [
      "625/625 [==============================] - 3s 5ms/step - loss: 1.7765 - accuracy: 0.3532\n",
      "Evaluation: [1.7765271663665771, 0.35324999690055847]\n"
     ]
    }
   ],
   "source": [
    "nn_model.compile(\n",
    "  optimizer=tf.keras.optimizers.Adam(),\n",
    "  loss=tf.keras.losses.SparseCategoricalCrossentropy(from_logits=True),\n",
    "  metrics=[\"accuracy\"])\n",
    "\n",
    "nn_model.fit(x=train_ds, validation_data=test_ds, epochs=10, verbose=False)\n",
    "print(\"Evaluation:\", nn_model.evaluate(test_ds))"
   ]
  },
  {
   "cell_type": "code",
   "execution_count": null,
   "id": "4b81b130-4a2a-4752-8bbb-f73cc0add20e",
   "metadata": {},
   "outputs": [
    {
     "name": "stdout",
     "output_type": "stream",
     "text": [
      "2500/2500 [==============================] - 14s 4ms/step\n"
     ]
    }
   ],
   "source": [
    "df_and_nn_model.compile(metrics=[\"accuracy\"])\n",
    "df_and_nn_model.fit(x=train_ds)\n",
    "print(\"Evaluation:\", df_and_nn_model.evaluate(test_ds))"
   ]
  },
  {
   "cell_type": "markdown",
   "id": "2c2bb561-09dd-4339-966e-3fe23127fe34",
   "metadata": {},
   "source": [
    "# Submit"
   ]
  },
  {
   "cell_type": "code",
   "execution_count": 24,
   "id": "ea0a1d8f-dcca-40f6-922f-6a41dd298cd6",
   "metadata": {},
   "outputs": [
    {
     "data": {
      "text/plain": [
       "array([[-0.28142238,  1.6285971 ,  0.7621293 , ..., -0.7531957 ,\n",
       "        -0.01658785,  0.583485  ],\n",
       "       [-0.15659511,  0.45305225,  0.12436393, ...,  0.56598884,\n",
       "         1.7222207 ,  0.9323979 ],\n",
       "       [-0.54029775, -0.26007187, -0.6321474 , ..., -0.12406699,\n",
       "         1.211106  ,  0.26631206],\n",
       "       ...,\n",
       "       [-0.17781752,  1.581102  ,  0.7540624 , ..., -0.38159484,\n",
       "         0.44428742,  0.79500735],\n",
       "       [-0.5016818 , -0.8102361 , -0.82603717, ...,  0.7245041 ,\n",
       "         2.282336  ,  0.6098359 ],\n",
       "       [-0.29859027,  0.5207304 ,  0.21241978, ...,  0.07104929,\n",
       "         1.0848229 ,  0.8045405 ]], dtype=float32)"
      ]
     },
     "execution_count": 24,
     "metadata": {},
     "output_type": "execute_result"
    }
   ],
   "source": [
    "nn_model.predict(score_ds)"
   ]
  },
  {
   "cell_type": "code",
   "execution_count": null,
   "id": "08ce55d0-b73f-4aa6-ae6b-0652144f6328",
   "metadata": {},
   "outputs": [],
   "source": []
  }
 ],
 "metadata": {
  "kernelspec": {
   "display_name": "ds_py_3.8",
   "language": "python",
   "name": "ds_py_3.8"
  },
  "language_info": {
   "codemirror_mode": {
    "name": "ipython",
    "version": 3
   },
   "file_extension": ".py",
   "mimetype": "text/x-python",
   "name": "python",
   "nbconvert_exporter": "python",
   "pygments_lexer": "ipython3",
   "version": "3.8.10"
  }
 },
 "nbformat": 4,
 "nbformat_minor": 5
}
