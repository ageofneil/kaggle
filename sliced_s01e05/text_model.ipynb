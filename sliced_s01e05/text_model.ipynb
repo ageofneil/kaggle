{
 "cells": [
  {
   "cell_type": "code",
   "execution_count": 3,
   "id": "ae47faed-73de-4725-a18c-c47ea630f31f",
   "metadata": {},
   "outputs": [],
   "source": [
    "#! kaggle competitions download -c sliced-s01e05-WXx7h8"
   ]
  },
  {
   "cell_type": "code",
   "execution_count": 4,
   "id": "8ee0b96a-088e-4c0b-899a-605384c59bde",
   "metadata": {},
   "outputs": [],
   "source": [
    "# Standard stack\n",
    "import datetime\n",
    "import pandas as pd\n",
    "import numpy as np\n",
    "import re\n",
    "\n",
    "# Visualization\n",
    "from pandas_profiling import ProfileReport\n",
    "#import plotly.express as px\n",
    "import matplotlib.pyplot as plt\n",
    "import seaborn as sns\n",
    "\n",
    "# Modeling\n",
    "import tensorflow as tf\n",
    "import tensorflow_decision_forests as tfdf\n",
    "try:\n",
    "    from wurlitzer import sys_pipes\n",
    "except:\n",
    "    from colabtools.googlelog import CaptureLog as sys_pipes\n",
    "\n",
    "# Scikit-learn packages\n",
    "from sklearn import metrics\n",
    "from sklearn.model_selection import train_test_split\n",
    "from sklearn.impute import SimpleImputer\n",
    "from sklearn.pipeline import Pipeline\n",
    "from sklearn.preprocessing import StandardScaler, OneHotEncoder, FunctionTransformer, OrdinalEncoder\n",
    "from sklearn.compose import ColumnTransformer\n",
    "\n",
    "# display\n",
    "from IPython.core.magic import register_line_magic\n",
    "from IPython.display import Javascript"
   ]
  },
  {
   "cell_type": "markdown",
   "id": "85626ca8-048a-4e79-a98c-0df491bae731",
   "metadata": {},
   "source": [
    "# Constants"
   ]
  },
  {
   "cell_type": "code",
   "execution_count": 5,
   "id": "95484130-439f-4ba4-afc1-8259b1dc8687",
   "metadata": {},
   "outputs": [],
   "source": [
    "TRAIN_PATH = \"data/train.csv\"\n",
    "TEST_PATH = \"data/test.csv\"\n",
    "label = \"price\""
   ]
  },
  {
   "cell_type": "markdown",
   "id": "c7514a11-496b-4315-8acb-e9ffffa413ed",
   "metadata": {},
   "source": [
    "# Load Data"
   ]
  },
  {
   "cell_type": "code",
   "execution_count": 6,
   "id": "d0d7e48a-10a6-45d2-8da7-284b82c7b37d",
   "metadata": {},
   "outputs": [],
   "source": [
    "train = pd.read_csv(TRAIN_PATH)\n",
    "test = pd.read_csv(TEST_PATH)\n",
    "submission = pd.read_csv(TEST_PATH)"
   ]
  },
  {
   "cell_type": "code",
   "execution_count": 7,
   "id": "32c801b3-d173-41f4-9fdc-11ea83ff1541",
   "metadata": {},
   "outputs": [
    {
     "data": {
      "text/html": [
       "<div>\n",
       "<style scoped>\n",
       "    .dataframe tbody tr th:only-of-type {\n",
       "        vertical-align: middle;\n",
       "    }\n",
       "\n",
       "    .dataframe tbody tr th {\n",
       "        vertical-align: top;\n",
       "    }\n",
       "\n",
       "    .dataframe thead th {\n",
       "        text-align: right;\n",
       "    }\n",
       "</style>\n",
       "<table border=\"1\" class=\"dataframe\">\n",
       "  <thead>\n",
       "    <tr style=\"text-align: right;\">\n",
       "      <th></th>\n",
       "      <th>id</th>\n",
       "      <th>name</th>\n",
       "      <th>host_id</th>\n",
       "      <th>host_name</th>\n",
       "      <th>neighbourhood_group</th>\n",
       "      <th>neighbourhood</th>\n",
       "      <th>latitude</th>\n",
       "      <th>longitude</th>\n",
       "      <th>room_type</th>\n",
       "      <th>price</th>\n",
       "      <th>minimum_nights</th>\n",
       "      <th>number_of_reviews</th>\n",
       "      <th>last_review</th>\n",
       "      <th>reviews_per_month</th>\n",
       "      <th>calculated_host_listings_count</th>\n",
       "      <th>availability_365</th>\n",
       "    </tr>\n",
       "  </thead>\n",
       "  <tbody>\n",
       "    <tr>\n",
       "      <th>0</th>\n",
       "      <td>9901706</td>\n",
       "      <td>Cute big one bedroom</td>\n",
       "      <td>1904415</td>\n",
       "      <td>Natalie</td>\n",
       "      <td>Manhattan</td>\n",
       "      <td>Upper West Side</td>\n",
       "      <td>40.77789</td>\n",
       "      <td>-73.97701</td>\n",
       "      <td>Entire home/apt</td>\n",
       "      <td>180</td>\n",
       "      <td>1</td>\n",
       "      <td>0</td>\n",
       "      <td>NaN</td>\n",
       "      <td>NaN</td>\n",
       "      <td>1</td>\n",
       "      <td>0</td>\n",
       "    </tr>\n",
       "  </tbody>\n",
       "</table>\n",
       "</div>"
      ],
      "text/plain": [
       "        id                  name  host_id host_name neighbourhood_group  \\\n",
       "0  9901706  Cute big one bedroom  1904415   Natalie           Manhattan   \n",
       "\n",
       "     neighbourhood  latitude  longitude        room_type  price  \\\n",
       "0  Upper West Side  40.77789  -73.97701  Entire home/apt    180   \n",
       "\n",
       "   minimum_nights  number_of_reviews last_review  reviews_per_month  \\\n",
       "0               1                  0         NaN                NaN   \n",
       "\n",
       "   calculated_host_listings_count  availability_365  \n",
       "0                               1                 0  "
      ]
     },
     "execution_count": 7,
     "metadata": {},
     "output_type": "execute_result"
    }
   ],
   "source": [
    "train.head(1)"
   ]
  },
  {
   "cell_type": "code",
   "execution_count": 8,
   "id": "1be38df5-7be9-4517-82ef-62c83331a958",
   "metadata": {},
   "outputs": [],
   "source": [
    "#train.sample(50)"
   ]
  },
  {
   "cell_type": "code",
   "execution_count": 9,
   "id": "1aa163f9-456f-45b1-b5c9-7daf788dd342",
   "metadata": {},
   "outputs": [],
   "source": [
    "#train.info()"
   ]
  },
  {
   "cell_type": "markdown",
   "id": "50331ffe-7c81-414c-b074-bc479c1a2f78",
   "metadata": {},
   "source": [
    "# Preprocess"
   ]
  },
  {
   "cell_type": "markdown",
   "id": "7cdf4ebb-e368-4ee7-a5c2-98118a73c7c0",
   "metadata": {},
   "source": [
    "### Drop Columns"
   ]
  },
  {
   "cell_type": "code",
   "execution_count": 10,
   "id": "9577d59b-c99c-4048-a458-02b08c49a64b",
   "metadata": {},
   "outputs": [],
   "source": [
    "to_drop = ['id','host_id','host_name']\n",
    "\n",
    "train = train.drop(to_drop,axis=1)\n",
    "test = test.drop(to_drop,axis=1)"
   ]
  },
  {
   "cell_type": "markdown",
   "id": "52df3a18-02bb-43ef-9746-e616421dcd7f",
   "metadata": {},
   "source": [
    "### Missing Values"
   ]
  },
  {
   "cell_type": "code",
   "execution_count": 11,
   "id": "79a7864c-02bc-4424-8d75-988e4b175f12",
   "metadata": {},
   "outputs": [],
   "source": [
    "def inpute_missing(dataset):\n",
    "    \"\"\" \n",
    "    Edit this to fix nulls. Default version replaces all int/float with 0\n",
    "    \"\"\"\n",
    "    for col in dataset.columns:\n",
    "        if dataset[col].dtype not in [str, object]:\n",
    "            dataset[col] = dataset[col].fillna(0)\n",
    "    return dataset\n",
    "\n",
    "train = inpute_missing(train)\n",
    "test = inpute_missing(test)"
   ]
  },
  {
   "cell_type": "code",
   "execution_count": 12,
   "id": "f612b708-d07a-4941-b9c4-72c9faa12485",
   "metadata": {},
   "outputs": [
    {
     "name": "stdout",
     "output_type": "stream",
     "text": [
      "<class 'pandas.core.frame.DataFrame'>\n",
      "RangeIndex: 34226 entries, 0 to 34225\n",
      "Data columns (total 13 columns):\n",
      " #   Column                          Non-Null Count  Dtype  \n",
      "---  ------                          --------------  -----  \n",
      " 0   name                            34217 non-null  object \n",
      " 1   neighbourhood_group             34226 non-null  object \n",
      " 2   neighbourhood                   34226 non-null  object \n",
      " 3   latitude                        34226 non-null  float64\n",
      " 4   longitude                       34226 non-null  float64\n",
      " 5   room_type                       34226 non-null  object \n",
      " 6   price                           34226 non-null  int64  \n",
      " 7   minimum_nights                  34226 non-null  int64  \n",
      " 8   number_of_reviews               34226 non-null  int64  \n",
      " 9   last_review                     27218 non-null  object \n",
      " 10  reviews_per_month               34226 non-null  float64\n",
      " 11  calculated_host_listings_count  34226 non-null  int64  \n",
      " 12  availability_365                34226 non-null  int64  \n",
      "dtypes: float64(3), int64(5), object(5)\n",
      "memory usage: 3.4+ MB\n"
     ]
    }
   ],
   "source": [
    "train.info()"
   ]
  },
  {
   "cell_type": "code",
   "execution_count": 13,
   "id": "ef9b618a-bb7c-4c5e-9c2e-ea5666f92a68",
   "metadata": {},
   "outputs": [],
   "source": [
    "train['last_review'] = pd.to_datetime(train['last_review'])"
   ]
  },
  {
   "cell_type": "code",
   "execution_count": 14,
   "id": "5897f738-e4e0-46a3-b1ba-d45ea5c783ea",
   "metadata": {},
   "outputs": [
    {
     "data": {
      "text/plain": [
       "Timestamp('2019-07-08 00:00:00')"
      ]
     },
     "execution_count": 14,
     "metadata": {},
     "output_type": "execute_result"
    }
   ],
   "source": [
    "train['last_review'].max()"
   ]
  },
  {
   "cell_type": "markdown",
   "id": "7fe1c1c6-a67c-4074-96d0-1fe91992d8fd",
   "metadata": {},
   "source": [
    "### NLP"
   ]
  },
  {
   "cell_type": "code",
   "execution_count": 15,
   "id": "88bbb7e2-302f-44a9-8f4a-d222b20da906",
   "metadata": {},
   "outputs": [],
   "source": [
    "# ROOM TYPE"
   ]
  },
  {
   "cell_type": "code",
   "execution_count": 16,
   "id": "bf5236d2-9d79-4909-8809-1f225ab30ac9",
   "metadata": {},
   "outputs": [],
   "source": [
    "def nlp_transforms(dataset):\n",
    "    \"\"\" \n",
    "    NLP tranforms here. Default, None...\n",
    "    \"\"\"\n",
    "    dataset['name'] = dataset['name'].fillna(\"missing\")\n",
    "    dataset['name'] = dataset['name'].str.lower()\n",
    "    \n",
    "    \n",
    "    dataset['neighbourhood_group'] = dataset['neighbourhood_group'].fillna(\"missing\")\n",
    "    dataset['neighbourhood_group'] = dataset['neighbourhood_group'].str.lower()\n",
    "\n",
    "    dataset['neighbourhood'] = dataset['neighbourhood'].fillna(\"missing\")\n",
    "    dataset['neighbourhood'] = dataset['neighbourhood'].str.lower()\n",
    "\n",
    "    dataset['room_type'] = dataset['room_type'].fillna(\"missing\")\n",
    "    dataset['room_type'] = dataset['room_type'].str.lower()\n",
    "\n",
    "    dataset['last_review'] = pd.to_datetime(dataset['last_review'])\n",
    "    max_date = dataset['last_review'].max()\n",
    "    dataset['last_review'] = (max_date - dataset['last_review']).dt.days\n",
    "    \n",
    "    return dataset\n",
    "\n",
    "train = nlp_transforms(train)\n",
    "test = nlp_transforms(test)"
   ]
  },
  {
   "cell_type": "code",
   "execution_count": 17,
   "id": "c2cbd113-0dc5-4f04-9082-b0c6f45fd8ae",
   "metadata": {},
   "outputs": [],
   "source": [
    "def string_tune(x):\n",
    "    return tf.strings.split(x)"
   ]
  },
  {
   "cell_type": "markdown",
   "id": "b8f76e41-80bd-4c07-b92a-d240146172bd",
   "metadata": {},
   "source": [
    "### Computations"
   ]
  },
  {
   "cell_type": "code",
   "execution_count": 18,
   "id": "3adc4db6-5875-42ea-ae60-4813bcc699c0",
   "metadata": {},
   "outputs": [
    {
     "data": {
      "text/html": [
       "<div>\n",
       "<style scoped>\n",
       "    .dataframe tbody tr th:only-of-type {\n",
       "        vertical-align: middle;\n",
       "    }\n",
       "\n",
       "    .dataframe tbody tr th {\n",
       "        vertical-align: top;\n",
       "    }\n",
       "\n",
       "    .dataframe thead th {\n",
       "        text-align: right;\n",
       "    }\n",
       "</style>\n",
       "<table border=\"1\" class=\"dataframe\">\n",
       "  <thead>\n",
       "    <tr style=\"text-align: right;\">\n",
       "      <th></th>\n",
       "      <th>name</th>\n",
       "      <th>neighbourhood_group</th>\n",
       "      <th>neighbourhood</th>\n",
       "      <th>latitude</th>\n",
       "      <th>longitude</th>\n",
       "      <th>room_type</th>\n",
       "      <th>price</th>\n",
       "      <th>minimum_nights</th>\n",
       "      <th>number_of_reviews</th>\n",
       "      <th>last_review</th>\n",
       "      <th>reviews_per_month</th>\n",
       "      <th>calculated_host_listings_count</th>\n",
       "      <th>availability_365</th>\n",
       "    </tr>\n",
       "  </thead>\n",
       "  <tbody>\n",
       "    <tr>\n",
       "      <th>0</th>\n",
       "      <td>cute big one bedroom</td>\n",
       "      <td>manhattan</td>\n",
       "      <td>upper west side</td>\n",
       "      <td>40.77789</td>\n",
       "      <td>-73.97701</td>\n",
       "      <td>entire home/apt</td>\n",
       "      <td>180</td>\n",
       "      <td>1</td>\n",
       "      <td>0</td>\n",
       "      <td>NaN</td>\n",
       "      <td>0.00</td>\n",
       "      <td>1</td>\n",
       "      <td>0</td>\n",
       "    </tr>\n",
       "    <tr>\n",
       "      <th>1</th>\n",
       "      <td>feel like you never leave your home</td>\n",
       "      <td>brooklyn</td>\n",
       "      <td>east new york</td>\n",
       "      <td>40.66795</td>\n",
       "      <td>-73.89232</td>\n",
       "      <td>entire home/apt</td>\n",
       "      <td>100</td>\n",
       "      <td>1</td>\n",
       "      <td>119</td>\n",
       "      <td>8.0</td>\n",
       "      <td>1.39</td>\n",
       "      <td>2</td>\n",
       "      <td>289</td>\n",
       "    </tr>\n",
       "    <tr>\n",
       "      <th>2</th>\n",
       "      <td>pristine lower east side sanctuary</td>\n",
       "      <td>manhattan</td>\n",
       "      <td>lower east side</td>\n",
       "      <td>40.72007</td>\n",
       "      <td>-73.98946</td>\n",
       "      <td>entire home/apt</td>\n",
       "      <td>133</td>\n",
       "      <td>14</td>\n",
       "      <td>177</td>\n",
       "      <td>66.0</td>\n",
       "      <td>2.82</td>\n",
       "      <td>2</td>\n",
       "      <td>221</td>\n",
       "    </tr>\n",
       "    <tr>\n",
       "      <th>3</th>\n",
       "      <td>luxe, spacious 2br 2ba nr trains</td>\n",
       "      <td>brooklyn</td>\n",
       "      <td>gowanus</td>\n",
       "      <td>40.66862</td>\n",
       "      <td>-73.99260</td>\n",
       "      <td>entire home/apt</td>\n",
       "      <td>260</td>\n",
       "      <td>30</td>\n",
       "      <td>3</td>\n",
       "      <td>1799.0</td>\n",
       "      <td>0.03</td>\n",
       "      <td>1</td>\n",
       "      <td>316</td>\n",
       "    </tr>\n",
       "    <tr>\n",
       "      <th>4</th>\n",
       "      <td>1bd brownstone apt in fort greene!</td>\n",
       "      <td>brooklyn</td>\n",
       "      <td>fort greene</td>\n",
       "      <td>40.68935</td>\n",
       "      <td>-73.96950</td>\n",
       "      <td>entire home/apt</td>\n",
       "      <td>120</td>\n",
       "      <td>3</td>\n",
       "      <td>22</td>\n",
       "      <td>1349.0</td>\n",
       "      <td>0.27</td>\n",
       "      <td>1</td>\n",
       "      <td>189</td>\n",
       "    </tr>\n",
       "  </tbody>\n",
       "</table>\n",
       "</div>"
      ],
      "text/plain": [
       "                                  name neighbourhood_group    neighbourhood  \\\n",
       "0                 cute big one bedroom           manhattan  upper west side   \n",
       "1  feel like you never leave your home            brooklyn    east new york   \n",
       "2   pristine lower east side sanctuary           manhattan  lower east side   \n",
       "3     luxe, spacious 2br 2ba nr trains            brooklyn          gowanus   \n",
       "4   1bd brownstone apt in fort greene!            brooklyn      fort greene   \n",
       "\n",
       "   latitude  longitude        room_type  price  minimum_nights  \\\n",
       "0  40.77789  -73.97701  entire home/apt    180               1   \n",
       "1  40.66795  -73.89232  entire home/apt    100               1   \n",
       "2  40.72007  -73.98946  entire home/apt    133              14   \n",
       "3  40.66862  -73.99260  entire home/apt    260              30   \n",
       "4  40.68935  -73.96950  entire home/apt    120               3   \n",
       "\n",
       "   number_of_reviews  last_review  reviews_per_month  \\\n",
       "0                  0          NaN               0.00   \n",
       "1                119          8.0               1.39   \n",
       "2                177         66.0               2.82   \n",
       "3                  3       1799.0               0.03   \n",
       "4                 22       1349.0               0.27   \n",
       "\n",
       "   calculated_host_listings_count  availability_365  \n",
       "0                               1                 0  \n",
       "1                               2               289  \n",
       "2                               2               221  \n",
       "3                               1               316  \n",
       "4                               1               189  "
      ]
     },
     "execution_count": 18,
     "metadata": {},
     "output_type": "execute_result"
    }
   ],
   "source": [
    "train.head(5)"
   ]
  },
  {
   "cell_type": "markdown",
   "id": "12e81ab6-628b-41c9-9e2e-4b3a1cd5efda",
   "metadata": {},
   "source": [
    "# Tensorf Hub"
   ]
  },
  {
   "cell_type": "code",
   "execution_count": 101,
   "id": "2c4207cf-57b0-4bc8-836d-787dc50a63d3",
   "metadata": {},
   "outputs": [
    {
     "name": "stdout",
     "output_type": "stream",
     "text": [
      "Requirement already satisfied: tensorflow-hub in /home/neil/anaconda3/envs/ds_py_3.8/lib/python3.8/site-packages (0.12.0)\n",
      "Requirement already satisfied: numpy>=1.12.0 in /home/neil/anaconda3/envs/ds_py_3.8/lib/python3.8/site-packages (from tensorflow-hub) (1.19.5)\n",
      "Requirement already satisfied: protobuf>=3.8.0 in /home/neil/anaconda3/envs/ds_py_3.8/lib/python3.8/site-packages (from tensorflow-hub) (3.16.0)\n",
      "Requirement already satisfied: six>=1.9 in /home/neil/anaconda3/envs/ds_py_3.8/lib/python3.8/site-packages (from protobuf>=3.8.0->tensorflow-hub) (1.15.0)\n"
     ]
    }
   ],
   "source": [
    "!pip install --upgrade tensorflow-hub"
   ]
  },
  {
   "cell_type": "code",
   "execution_count": 193,
   "id": "401da1eb-6649-40ba-85f7-03ad2ee364c0",
   "metadata": {},
   "outputs": [],
   "source": [
    "def prepare_dataset(data):\n",
    "    \n",
    "    features = {\"name\" : data[\"name\"],\n",
    "                \"neighbourhood_group\" : data[\"neighbourhood_group\"],\n",
    "                \"neighbourhood\" : data[\"neighbourhood\"],\n",
    "                \"latitude\" : data[\"latitude\"],\n",
    "                \"longitude\" : data[\"longitude\"],\n",
    "                #\"room_type\" :  tf.strings.split(data[\"room_type\"]),\n",
    "                \"minimum_nights\" : data[\"minimum_nights\"],\n",
    "                \"number_of_reviews\" : data[\"number_of_reviews\"],\n",
    "                \"last_review\" : data[\"last_review\"],\n",
    "                \"reviews_per_month\" : data[\"reviews_per_month\"],\n",
    "                \"calculated_host_listings_count\" : data[\"calculated_host_listings_count\"],\n",
    "                \"availability_365\" : data[\"availability_365\"]\n",
    "               }\n",
    "    \n",
    "    try:\n",
    "        label = data['price']\n",
    "        output = features,label\n",
    "    except:\n",
    "        output = features\n",
    "    \n",
    "    return output"
   ]
  },
  {
   "cell_type": "code",
   "execution_count": 194,
   "id": "579c1767-fa87-4f95-8740-74e40c2570e2",
   "metadata": {},
   "outputs": [],
   "source": [
    "#X_train, X_test = train_test_split(train,test_size=0.2, random_state=42)\n",
    "\n",
    "columns = train.columns.tolist()\n",
    "#columns = ['name','number_of_reviews','price']\n",
    "train_dataframe = train[columns]\n",
    "train_dataframe = train_dataframe.to_dict('list')\n",
    "train_dataset = tf.data.Dataset.from_tensor_slices(train_dataframe)\n",
    "\n",
    "columns = test.columns.tolist()\n",
    "test_dataframe = test[columns]\n",
    "test_dataframe = test_dataframe.to_dict('list')\n",
    "test_dataset = tf.data.Dataset.from_tensor_slices(test_dataframe)\n",
    "\n",
    "\n",
    "train_ds = train_dataset.batch(64).map(prepare_dataset)\n",
    "test_ds = test_dataset.batch(64).map(prepare_dataset)"
   ]
  },
  {
   "cell_type": "code",
   "execution_count": 196,
   "id": "9070d96e-d383-4f37-a6d8-95e0697da349",
   "metadata": {},
   "outputs": [],
   "source": [
    "import tensorflow_hub as hub\n",
    "# NNLM (https://tfhub.dev/google/nnlm-en-dim128/2) is also a good choice.\n",
    "hub_url = \"http://tfhub.dev/google/universal-sentence-encoder/4\"\n",
    "embedding = hub.KerasLayer(hub_url)\n"
   ]
  },
  {
   "cell_type": "code",
   "execution_count": 197,
   "id": "fe44d67a-dc35-4279-931d-d640603d3a08",
   "metadata": {},
   "outputs": [],
   "source": [
    "sentence = tf.keras.layers.Input(shape=(), name=\"name\", dtype=tf.string)\n",
    "neighbourhood = tf.keras.layers.Input(shape=(), name=\"neighbourhood\", dtype=tf.string)\n",
    "neighbourhood_group = tf.keras.layers.Input(shape=(), name=\"neighbourhood_group\", dtype=tf.string)\n",
    "latitude = tf.keras.layers.Input(shape=(), name=\"latitude\", dtype=tf.float64)\n",
    "longitude = tf.keras.layers.Input(shape=(), name=\"longitude\", dtype=tf.float64)\n",
    "minimum_nights = tf.keras.layers.Input(shape=(), name=\"minimum_nights\", dtype=tf.int64)\n",
    "number_of_reviews = tf.keras.layers.Input(shape=(), name=\"number_of_reviews\", dtype=tf.int64)\n",
    "last_review = tf.keras.layers.Input(shape=(), name=\"last_review\", dtype=tf.float64)\n",
    "reviews_per_month = tf.keras.layers.Input(shape=(), name=\"reviews_per_month\", dtype=tf.float64)\n",
    "calculated_host_listings_count = tf.keras.layers.Input(shape=(), name=\"calculated_host_listings_count\", dtype=tf.int64)\n",
    "availability_365 = tf.keras.layers.Input(shape=(), name=\"availability_365\", dtype=tf.int64)\n",
    "embedded_sentence = embedding(sentence)"
   ]
  },
  {
   "cell_type": "code",
   "execution_count": 206,
   "id": "c143c250-4cd2-4be7-a34a-5fcc437a73ad",
   "metadata": {},
   "outputs": [
    {
     "data": {
      "text/plain": [
       "<MapDataset shapes: {name: (None,), neighbourhood_group: (None,), neighbourhood: (None,), latitude: (None,), longitude: (None,), minimum_nights: (None,), number_of_reviews: (None,), last_review: (None,), reviews_per_month: (None,), calculated_host_listings_count: (None,), availability_365: (None,)}, types: {name: tf.string, neighbourhood_group: tf.string, neighbourhood: tf.string, latitude: tf.float32, longitude: tf.float32, minimum_nights: tf.int32, number_of_reviews: tf.int32, last_review: tf.float32, reviews_per_month: tf.float32, calculated_host_listings_count: tf.int32, availability_365: tf.int32}>"
      ]
     },
     "execution_count": 206,
     "metadata": {},
     "output_type": "execute_result"
    }
   ],
   "source": [
    "test_ds"
   ]
  },
  {
   "cell_type": "code",
   "execution_count": 213,
   "id": "b08a8c40-0d15-44a1-adf3-3e16457aa3f5",
   "metadata": {},
   "outputs": [
    {
     "name": "stderr",
     "output_type": "stream",
     "text": [
      "/home/neil/anaconda3/envs/ds_py_3.8/lib/python3.8/site-packages/tensorflow/python/keras/engine/functional.py:588: UserWarning: Input dict contained keys ['neighbourhood_group', 'neighbourhood', 'latitude', 'longitude', 'minimum_nights', 'number_of_reviews', 'last_review', 'reviews_per_month', 'calculated_host_listings_count', 'availability_365'] which did not match any model input. They will be ignored by the model.\n",
      "  warnings.warn(\n"
     ]
    },
    {
     "name": "stdout",
     "output_type": "stream",
     "text": [
      "535/535 [==============================] - 8s 7ms/step\n"
     ]
    },
    {
     "data": {
      "text/plain": [
       "<tensorflow.python.keras.callbacks.History at 0x7f55df333be0>"
      ]
     },
     "execution_count": 213,
     "metadata": {},
     "output_type": "execute_result"
    }
   ],
   "source": [
    "raw_inputs = {\"name\": sentence, \n",
    "             } \n",
    "\n",
    "processed_inputs = {\"embedded_sentence\": embedded_sentence, \n",
    "                   }\n",
    "preprocessor = tf.keras.Model(inputs=raw_inputs, outputs=processed_inputs)\n",
    "\n",
    "model_2 = tfdf.keras.RandomForestModel(\n",
    "    preprocessing=preprocessor,\n",
    "    #num_trees=10,\n",
    "    task = tfdf.keras.Task.REGRESSION)\n",
    "\n",
    "model_2.compile(metrics=[\"mean_squared_logarithmic_error\"])\n",
    "model_2.fit(x=train_ds)"
   ]
  },
  {
   "cell_type": "code",
   "execution_count": 214,
   "id": "68974bbd-c12d-4dbf-bdf4-c6cf4c79bcb2",
   "metadata": {},
   "outputs": [],
   "source": [
    "#evaluation = model_2.evaluate(test_ds)"
   ]
  },
  {
   "cell_type": "code",
   "execution_count": 215,
   "id": "ffed5d43-7cc4-4f06-afc6-4309e8e224d6",
   "metadata": {},
   "outputs": [
    {
     "data": {
      "image/png": "[encoded data removed]",
      "text/plain": [
       "<Figure size 640x480 with 1 Axes>"
      ]
     },
     "metadata": {},
     "output_type": "display_data"
    }
   ],
   "source": [
    "import matplotlib.pyplot as plt\n",
    "\n",
    "logs =  model_2.make_inspector().training_logs()\n",
    "plt.plot([log.num_trees for log in logs], [log.evaluation.rmse for log in logs])\n",
    "plt.xlabel(\"Number of trees\")\n",
    "plt.ylabel(\"Out-of-bag loss\")\n",
    "plt.show()"
   ]
  },
  {
   "cell_type": "code",
   "execution_count": 216,
   "id": "114bc8cb-a50e-44a2-be92-6d4c7ff4539c",
   "metadata": {},
   "outputs": [
    {
     "data": {
      "text/plain": [
       "2"
      ]
     },
     "execution_count": 216,
     "metadata": {},
     "output_type": "execute_result"
    }
   ],
   "source": [
    "1 + 1"
   ]
  },
  {
   "cell_type": "code",
   "execution_count": 222,
   "id": "5a50b182-e045-4a40-bfd1-dfbc88e61487",
   "metadata": {},
   "outputs": [],
   "source": [
    "scores = model_2.predict(train_ds)"
   ]
  },
  {
   "cell_type": "code",
   "execution_count": 223,
   "id": "9c3d2f20-4d74-47e8-8ad5-50f03f5ffeac",
   "metadata": {},
   "outputs": [],
   "source": [
    "train['name_score'] = scores"
   ]
  },
  {
   "cell_type": "code",
   "execution_count": 224,
   "id": "7710ca41-84cf-48a5-9946-d6010c20d647",
   "metadata": {},
   "outputs": [],
   "source": [
    "scores = model_2.predict(test_ds)\n",
    "test['name_score'] = scores"
   ]
  },
  {
   "cell_type": "code",
   "execution_count": 217,
   "id": "e5f6434c-91db-44f3-8e02-76410fd1bb9f",
   "metadata": {},
   "outputs": [],
   "source": [
    "scores = model_2.predict(test_ds)\n",
    "#submission['price'] = scores\n",
    "#submission.head()"
   ]
  },
  {
   "cell_type": "code",
   "execution_count": 218,
   "id": "0f262411-24fa-442e-889d-2e40ca6c1c61",
   "metadata": {},
   "outputs": [
    {
     "data": {
      "text/html": [
       "<div>\n",
       "<style scoped>\n",
       "    .dataframe tbody tr th:only-of-type {\n",
       "        vertical-align: middle;\n",
       "    }\n",
       "\n",
       "    .dataframe tbody tr th {\n",
       "        vertical-align: top;\n",
       "    }\n",
       "\n",
       "    .dataframe thead th {\n",
       "        text-align: right;\n",
       "    }\n",
       "</style>\n",
       "<table border=\"1\" class=\"dataframe\">\n",
       "  <thead>\n",
       "    <tr style=\"text-align: right;\">\n",
       "      <th></th>\n",
       "      <th>id</th>\n",
       "      <th>name</th>\n",
       "      <th>host_id</th>\n",
       "      <th>host_name</th>\n",
       "      <th>neighbourhood_group</th>\n",
       "      <th>neighbourhood</th>\n",
       "      <th>latitude</th>\n",
       "      <th>longitude</th>\n",
       "      <th>room_type</th>\n",
       "      <th>minimum_nights</th>\n",
       "      <th>number_of_reviews</th>\n",
       "      <th>last_review</th>\n",
       "      <th>reviews_per_month</th>\n",
       "      <th>calculated_host_listings_count</th>\n",
       "      <th>availability_365</th>\n",
       "      <th>price</th>\n",
       "    </tr>\n",
       "  </thead>\n",
       "  <tbody>\n",
       "    <tr>\n",
       "      <th>0</th>\n",
       "      <td>10449807</td>\n",
       "      <td>Charming Lofty 1bd on Quiet Street</td>\n",
       "      <td>2981910</td>\n",
       "      <td>Daphne</td>\n",
       "      <td>Manhattan</td>\n",
       "      <td>Greenwich Village</td>\n",
       "      <td>40.73466</td>\n",
       "      <td>-73.99539</td>\n",
       "      <td>Entire home/apt</td>\n",
       "      <td>1</td>\n",
       "      <td>0</td>\n",
       "      <td>NaN</td>\n",
       "      <td>NaN</td>\n",
       "      <td>1</td>\n",
       "      <td>0</td>\n",
       "      <td>150.854736</td>\n",
       "    </tr>\n",
       "    <tr>\n",
       "      <th>1</th>\n",
       "      <td>1178389</td>\n",
       "      <td>Beautiful, clean 1-bdrm private apt</td>\n",
       "      <td>6447462</td>\n",
       "      <td>Adam</td>\n",
       "      <td>Manhattan</td>\n",
       "      <td>Washington Heights</td>\n",
       "      <td>40.85060</td>\n",
       "      <td>-73.94023</td>\n",
       "      <td>Entire home/apt</td>\n",
       "      <td>6</td>\n",
       "      <td>19</td>\n",
       "      <td>2017-07-24</td>\n",
       "      <td>0.26</td>\n",
       "      <td>1</td>\n",
       "      <td>188</td>\n",
       "      <td>143.877365</td>\n",
       "    </tr>\n",
       "    <tr>\n",
       "      <th>2</th>\n",
       "      <td>23838063</td>\n",
       "      <td>Spacious getaway room in the heart of Bushwick</td>\n",
       "      <td>149073048</td>\n",
       "      <td>Kat</td>\n",
       "      <td>Brooklyn</td>\n",
       "      <td>Bushwick</td>\n",
       "      <td>40.69837</td>\n",
       "      <td>-73.93045</td>\n",
       "      <td>Private room</td>\n",
       "      <td>5</td>\n",
       "      <td>34</td>\n",
       "      <td>2019-06-30</td>\n",
       "      <td>2.31</td>\n",
       "      <td>1</td>\n",
       "      <td>102</td>\n",
       "      <td>96.915741</td>\n",
       "    </tr>\n",
       "    <tr>\n",
       "      <th>3</th>\n",
       "      <td>14415799</td>\n",
       "      <td>East Williamsburg Cozy Apartment with Rooftop!</td>\n",
       "      <td>48113730</td>\n",
       "      <td>Anastasia &amp; Jeremy</td>\n",
       "      <td>Brooklyn</td>\n",
       "      <td>Williamsburg</td>\n",
       "      <td>40.70749</td>\n",
       "      <td>-73.93916</td>\n",
       "      <td>Entire home/apt</td>\n",
       "      <td>2</td>\n",
       "      <td>2</td>\n",
       "      <td>2016-10-16</td>\n",
       "      <td>0.06</td>\n",
       "      <td>1</td>\n",
       "      <td>0</td>\n",
       "      <td>142.660446</td>\n",
       "    </tr>\n",
       "    <tr>\n",
       "      <th>4</th>\n",
       "      <td>6555262</td>\n",
       "      <td>Comfortable and Spacious Bedroom</td>\n",
       "      <td>14098887</td>\n",
       "      <td>Fareed</td>\n",
       "      <td>Queens</td>\n",
       "      <td>Ridgewood</td>\n",
       "      <td>40.70503</td>\n",
       "      <td>-73.91433</td>\n",
       "      <td>Private room</td>\n",
       "      <td>2</td>\n",
       "      <td>0</td>\n",
       "      <td>NaN</td>\n",
       "      <td>NaN</td>\n",
       "      <td>1</td>\n",
       "      <td>0</td>\n",
       "      <td>75.743675</td>\n",
       "    </tr>\n",
       "  </tbody>\n",
       "</table>\n",
       "</div>"
      ],
      "text/plain": [
       "         id                                            name    host_id  \\\n",
       "0  10449807              Charming Lofty 1bd on Quiet Street    2981910   \n",
       "1   1178389             Beautiful, clean 1-bdrm private apt    6447462   \n",
       "2  23838063  Spacious getaway room in the heart of Bushwick  149073048   \n",
       "3  14415799  East Williamsburg Cozy Apartment with Rooftop!   48113730   \n",
       "4   6555262                Comfortable and Spacious Bedroom   14098887   \n",
       "\n",
       "            host_name neighbourhood_group       neighbourhood  latitude  \\\n",
       "0              Daphne           Manhattan   Greenwich Village  40.73466   \n",
       "1                Adam           Manhattan  Washington Heights  40.85060   \n",
       "2                 Kat            Brooklyn            Bushwick  40.69837   \n",
       "3  Anastasia & Jeremy            Brooklyn        Williamsburg  40.70749   \n",
       "4              Fareed              Queens           Ridgewood  40.70503   \n",
       "\n",
       "   longitude        room_type  minimum_nights  number_of_reviews last_review  \\\n",
       "0  -73.99539  Entire home/apt               1                  0         NaN   \n",
       "1  -73.94023  Entire home/apt               6                 19  2017-07-24   \n",
       "2  -73.93045     Private room               5                 34  2019-06-30   \n",
       "3  -73.93916  Entire home/apt               2                  2  2016-10-16   \n",
       "4  -73.91433     Private room               2                  0         NaN   \n",
       "\n",
       "   reviews_per_month  calculated_host_listings_count  availability_365  \\\n",
       "0                NaN                               1                 0   \n",
       "1               0.26                               1               188   \n",
       "2               2.31                               1               102   \n",
       "3               0.06                               1                 0   \n",
       "4                NaN                               1                 0   \n",
       "\n",
       "        price  \n",
       "0  150.854736  \n",
       "1  143.877365  \n",
       "2   96.915741  \n",
       "3  142.660446  \n",
       "4   75.743675  "
      ]
     },
     "execution_count": 218,
     "metadata": {},
     "output_type": "execute_result"
    }
   ],
   "source": [
    "submission['price'] = scores\n",
    "submission.head()"
   ]
  },
  {
   "cell_type": "code",
   "execution_count": 219,
   "id": "abe77bd6-ab17-4cdd-9367-4fab4e9f94a2",
   "metadata": {},
   "outputs": [],
   "source": [
    "submit = submission[['id','price']]"
   ]
  },
  {
   "cell_type": "code",
   "execution_count": 211,
   "id": "5cc24ae7-32d5-4288-8c73-589945b9d2f8",
   "metadata": {},
   "outputs": [
    {
     "data": {
      "text/html": [
       "<div>\n",
       "<style scoped>\n",
       "    .dataframe tbody tr th:only-of-type {\n",
       "        vertical-align: middle;\n",
       "    }\n",
       "\n",
       "    .dataframe tbody tr th {\n",
       "        vertical-align: top;\n",
       "    }\n",
       "\n",
       "    .dataframe thead th {\n",
       "        text-align: right;\n",
       "    }\n",
       "</style>\n",
       "<table border=\"1\" class=\"dataframe\">\n",
       "  <thead>\n",
       "    <tr style=\"text-align: right;\">\n",
       "      <th></th>\n",
       "      <th>id</th>\n",
       "      <th>price</th>\n",
       "    </tr>\n",
       "  </thead>\n",
       "  <tbody>\n",
       "    <tr>\n",
       "      <th>0</th>\n",
       "      <td>10449807</td>\n",
       "      <td>201.865723</td>\n",
       "    </tr>\n",
       "    <tr>\n",
       "      <th>1</th>\n",
       "      <td>1178389</td>\n",
       "      <td>99.244873</td>\n",
       "    </tr>\n",
       "    <tr>\n",
       "      <th>2</th>\n",
       "      <td>23838063</td>\n",
       "      <td>79.181549</td>\n",
       "    </tr>\n",
       "    <tr>\n",
       "      <th>3</th>\n",
       "      <td>14415799</td>\n",
       "      <td>127.043808</td>\n",
       "    </tr>\n",
       "    <tr>\n",
       "      <th>4</th>\n",
       "      <td>6555262</td>\n",
       "      <td>65.899971</td>\n",
       "    </tr>\n",
       "    <tr>\n",
       "      <th>...</th>\n",
       "      <td>...</td>\n",
       "      <td>...</td>\n",
       "    </tr>\n",
       "    <tr>\n",
       "      <th>14664</th>\n",
       "      <td>30266235</td>\n",
       "      <td>157.386047</td>\n",
       "    </tr>\n",
       "    <tr>\n",
       "      <th>14665</th>\n",
       "      <td>22309725</td>\n",
       "      <td>69.853661</td>\n",
       "    </tr>\n",
       "    <tr>\n",
       "      <th>14666</th>\n",
       "      <td>25314610</td>\n",
       "      <td>147.172623</td>\n",
       "    </tr>\n",
       "    <tr>\n",
       "      <th>14667</th>\n",
       "      <td>6326410</td>\n",
       "      <td>149.093155</td>\n",
       "    </tr>\n",
       "    <tr>\n",
       "      <th>14668</th>\n",
       "      <td>35220162</td>\n",
       "      <td>74.349197</td>\n",
       "    </tr>\n",
       "  </tbody>\n",
       "</table>\n",
       "<p>14669 rows × 2 columns</p>\n",
       "</div>"
      ],
      "text/plain": [
       "             id       price\n",
       "0      10449807  201.865723\n",
       "1       1178389   99.244873\n",
       "2      23838063   79.181549\n",
       "3      14415799  127.043808\n",
       "4       6555262   65.899971\n",
       "...         ...         ...\n",
       "14664  30266235  157.386047\n",
       "14665  22309725   69.853661\n",
       "14666  25314610  147.172623\n",
       "14667   6326410  149.093155\n",
       "14668  35220162   74.349197\n",
       "\n",
       "[14669 rows x 2 columns]"
      ]
     },
     "execution_count": 211,
     "metadata": {},
     "output_type": "execute_result"
    }
   ],
   "source": [
    "submit"
   ]
  },
  {
   "cell_type": "code",
   "execution_count": 220,
   "id": "1342570d-4018-4b79-94b7-da62c34b129a",
   "metadata": {},
   "outputs": [
    {
     "data": {
      "text/html": [
       "<div>\n",
       "<style scoped>\n",
       "    .dataframe tbody tr th:only-of-type {\n",
       "        vertical-align: middle;\n",
       "    }\n",
       "\n",
       "    .dataframe tbody tr th {\n",
       "        vertical-align: top;\n",
       "    }\n",
       "\n",
       "    .dataframe thead th {\n",
       "        text-align: right;\n",
       "    }\n",
       "</style>\n",
       "<table border=\"1\" class=\"dataframe\">\n",
       "  <thead>\n",
       "    <tr style=\"text-align: right;\">\n",
       "      <th></th>\n",
       "      <th>id</th>\n",
       "      <th>price</th>\n",
       "    </tr>\n",
       "  </thead>\n",
       "  <tbody>\n",
       "    <tr>\n",
       "      <th>0</th>\n",
       "      <td>10449807</td>\n",
       "      <td>150.854736</td>\n",
       "    </tr>\n",
       "    <tr>\n",
       "      <th>1</th>\n",
       "      <td>1178389</td>\n",
       "      <td>143.877365</td>\n",
       "    </tr>\n",
       "    <tr>\n",
       "      <th>2</th>\n",
       "      <td>23838063</td>\n",
       "      <td>96.915741</td>\n",
       "    </tr>\n",
       "    <tr>\n",
       "      <th>3</th>\n",
       "      <td>14415799</td>\n",
       "      <td>142.660446</td>\n",
       "    </tr>\n",
       "    <tr>\n",
       "      <th>4</th>\n",
       "      <td>6555262</td>\n",
       "      <td>75.743675</td>\n",
       "    </tr>\n",
       "    <tr>\n",
       "      <th>...</th>\n",
       "      <td>...</td>\n",
       "      <td>...</td>\n",
       "    </tr>\n",
       "    <tr>\n",
       "      <th>14664</th>\n",
       "      <td>30266235</td>\n",
       "      <td>276.204315</td>\n",
       "    </tr>\n",
       "    <tr>\n",
       "      <th>14665</th>\n",
       "      <td>22309725</td>\n",
       "      <td>79.405846</td>\n",
       "    </tr>\n",
       "    <tr>\n",
       "      <th>14666</th>\n",
       "      <td>25314610</td>\n",
       "      <td>156.196472</td>\n",
       "    </tr>\n",
       "    <tr>\n",
       "      <th>14667</th>\n",
       "      <td>6326410</td>\n",
       "      <td>142.300629</td>\n",
       "    </tr>\n",
       "    <tr>\n",
       "      <th>14668</th>\n",
       "      <td>35220162</td>\n",
       "      <td>96.813972</td>\n",
       "    </tr>\n",
       "  </tbody>\n",
       "</table>\n",
       "<p>14669 rows × 2 columns</p>\n",
       "</div>"
      ],
      "text/plain": [
       "             id       price\n",
       "0      10449807  150.854736\n",
       "1       1178389  143.877365\n",
       "2      23838063   96.915741\n",
       "3      14415799  142.660446\n",
       "4       6555262   75.743675\n",
       "...         ...         ...\n",
       "14664  30266235  276.204315\n",
       "14665  22309725   79.405846\n",
       "14666  25314610  156.196472\n",
       "14667   6326410  142.300629\n",
       "14668  35220162   96.813972\n",
       "\n",
       "[14669 rows x 2 columns]"
      ]
     },
     "execution_count": 220,
     "metadata": {},
     "output_type": "execute_result"
    }
   ],
   "source": [
    "submit"
   ]
  },
  {
   "cell_type": "code",
   "execution_count": 221,
   "id": "dfa49e8e-0b70-497d-88cb-512301a610c7",
   "metadata": {},
   "outputs": [
    {
     "name": "stdout",
     "output_type": "stream",
     "text": [
      "Warning: Your Kaggle API key is readable by other users on this system! To fix this, you can run 'chmod 600 /home/neil/kaggle/kaggle.json'\n",
      "Warning: Looks like you're using an outdated API Version, please consider updating (server 1.5.12 / client 1.5.8)\n",
      "100%|█████████████████████████████████████████| 264k/264k [00:00<00:00, 424kB/s]\n",
      "Successfully submitted to SLICED s01e05"
     ]
    }
   ],
   "source": [
    "submit.to_csv('submission.csv', index=False)\n",
    "! kaggle competitions submit -c sliced-s01e05-WXx7h8 -f submission.csv -m \"Message\""
   ]
  },
  {
   "cell_type": "markdown",
   "id": "f06d8078-bdbb-4ee2-82e8-d6746f264c9e",
   "metadata": {},
   "source": [
    "# Text Train Test Process"
   ]
  },
  {
   "cell_type": "code",
   "execution_count": 225,
   "id": "c88f236c-f2a1-46ed-a3d0-c7cfa2dfa73c",
   "metadata": {},
   "outputs": [],
   "source": [
    "#train.info()"
   ]
  },
  {
   "cell_type": "code",
   "execution_count": 226,
   "id": "1f41fd40-3e8b-4a54-b3e3-7aabeaf591c4",
   "metadata": {},
   "outputs": [
    {
     "data": {
      "text/plain": [
       "['name',\n",
       " 'neighbourhood_group',\n",
       " 'neighbourhood',\n",
       " 'latitude',\n",
       " 'longitude',\n",
       " 'room_type',\n",
       " 'price',\n",
       " 'minimum_nights',\n",
       " 'number_of_reviews',\n",
       " 'last_review',\n",
       " 'reviews_per_month',\n",
       " 'calculated_host_listings_count',\n",
       " 'availability_365',\n",
       " 'name_score']"
      ]
     },
     "execution_count": 226,
     "metadata": {},
     "output_type": "execute_result"
    }
   ],
   "source": [
    "columns = train.columns.tolist()\n",
    "columns"
   ]
  },
  {
   "cell_type": "code",
   "execution_count": 245,
   "id": "78526cb6-2773-4162-af8b-3d7cdab3c55d",
   "metadata": {},
   "outputs": [],
   "source": [
    "def prepare_dataset(data):\n",
    "    \n",
    "    features = {\"name\" : tf.strings.split(data[\"name\"]),\n",
    "                \"neighbourhood_group\" : data[\"neighbourhood_group\"],\n",
    "                \"neighbourhood\" : data[\"neighbourhood\"],\n",
    "                \"latitude\" : data[\"latitude\"],\n",
    "                \"longitude\" : data[\"longitude\"],\n",
    "                \"room_type\" :  tf.strings.split(data[\"room_type\"]),\n",
    "                \"minimum_nights\" : data[\"minimum_nights\"],\n",
    "                \"number_of_reviews\" : data[\"number_of_reviews\"],\n",
    "                \"last_review\" : data[\"last_review\"],\n",
    "                \"reviews_per_month\" : data[\"reviews_per_month\"],\n",
    "                \"calculated_host_listings_count\" : data[\"calculated_host_listings_count\"],\n",
    "                \"availability_365\" : data[\"availability_365\"],\n",
    "                \"name_score\" : data[\"name_score\"]\n",
    "               }\n",
    "    \n",
    "    try:\n",
    "        label = data['price']\n",
    "        output = features,label\n",
    "    except:\n",
    "        output = features\n",
    "    \n",
    "    return output"
   ]
  },
  {
   "cell_type": "code",
   "execution_count": 246,
   "id": "d2148b3c-4f8d-41ee-85da-d6815bb90857",
   "metadata": {},
   "outputs": [],
   "source": [
    "#model_1.summary()"
   ]
  },
  {
   "cell_type": "code",
   "execution_count": 247,
   "id": "a455fcfb-a90f-4a71-9c06-f814168bce1e",
   "metadata": {},
   "outputs": [],
   "source": [
    "#columns"
   ]
  },
  {
   "cell_type": "code",
   "execution_count": 248,
   "id": "b60fb9d8-4def-4bea-b276-9e2df30ee3d5",
   "metadata": {},
   "outputs": [],
   "source": [
    "X_train, X_test = train_test_split(train,test_size=0.2, random_state=42)\n",
    "\n",
    "columns = train.columns.tolist()\n",
    "#columns = ['name','number_of_reviews','price']\n",
    "train_dataframe = X_train[columns]\n",
    "train_dataframe = train_dataframe.to_dict('list')\n",
    "train_dataset = tf.data.Dataset.from_tensor_slices(train_dataframe)\n",
    "\n",
    "test_dataframe = X_test[columns]\n",
    "test_dataframe = test_dataframe.to_dict('list')\n",
    "test_dataset = tf.data.Dataset.from_tensor_slices(test_dataframe)\n",
    "\n",
    "\n",
    "train_ds = train_dataset.batch(64).map(prepare_dataset)\n",
    "test_ds = test_dataset.batch(64).map(prepare_dataset)"
   ]
  },
  {
   "cell_type": "code",
   "execution_count": 249,
   "id": "c894aa87-e249-4f10-b95b-3198a7441119",
   "metadata": {},
   "outputs": [
    {
     "name": "stdout",
     "output_type": "stream",
     "text": [
      "428/428 [==============================] - 0s 636us/step\n"
     ]
    },
    {
     "data": {
      "text/plain": [
       "<tensorflow.python.keras.callbacks.History at 0x7f55441ee1c0>"
      ]
     },
     "execution_count": 249,
     "metadata": {},
     "output_type": "execute_result"
    }
   ],
   "source": [
    "model_1 = tfdf.keras.GradientBoostedTreesModel(hyperparameter_template=\"benchmark_rank1\", task = tfdf.keras.Task.REGRESSION)\n",
    "model_1.compile(metrics=[\"mean_squared_logarithmic_error\"])\n",
    "model_1.fit(x=train_ds)"
   ]
  },
  {
   "cell_type": "code",
   "execution_count": 250,
   "id": "6079e213-c6ec-4b43-a15e-b10c494f3b10",
   "metadata": {},
   "outputs": [
    {
     "data": {
      "text/plain": [
       "Evaluation(num_examples=None, accuracy=None, loss=206.2947998046875, rmse=206.2947998046875, ndcg=None, aucs=None)"
      ]
     },
     "execution_count": 250,
     "metadata": {},
     "output_type": "execute_result"
    }
   ],
   "source": [
    "model_1.make_inspector().evaluation()"
   ]
  },
  {
   "cell_type": "code",
   "execution_count": 251,
   "id": "bfe92412-5dcb-4e93-9eb6-5544a663cb96",
   "metadata": {},
   "outputs": [
    {
     "name": "stdout",
     "output_type": "stream",
     "text": [
      "107/107 [==============================] - 0s 2ms/step - loss: 0.0000e+00 - mean_squared_logarithmic_error: 0.1500\n"
     ]
    },
    {
     "data": {
      "text/plain": [
       "[0.0, 0.15002191066741943]"
      ]
     },
     "execution_count": 251,
     "metadata": {},
     "output_type": "execute_result"
    }
   ],
   "source": [
    "evaluation = model_1.evaluate(test_ds)\n",
    "evaluation"
   ]
  },
  {
   "cell_type": "code",
   "execution_count": 252,
   "id": "66f979b3-8cfd-42c9-826f-5212d4abbf9b",
   "metadata": {},
   "outputs": [
    {
     "name": "stdout",
     "output_type": "stream",
     "text": [
      "107/107 [==============================] - 0s 2ms/step - loss: 0.0000e+00 - mean_squared_logarithmic_error: 0.1500\n"
     ]
    },
    {
     "data": {
      "text/plain": [
       "[0.0, 0.15002191066741943]"
      ]
     },
     "execution_count": 252,
     "metadata": {},
     "output_type": "execute_result"
    }
   ],
   "source": [
    "evaluation = model_1.evaluate(test_ds)\n",
    "evaluation"
   ]
  },
  {
   "cell_type": "code",
   "execution_count": 253,
   "id": "f693cb53-f554-4152-8581-169d645c676a",
   "metadata": {},
   "outputs": [
    {
     "data": {
      "image/png": "[encoded data removed]",
      "text/plain": [
       "<Figure size 640x480 with 1 Axes>"
      ]
     },
     "metadata": {},
     "output_type": "display_data"
    }
   ],
   "source": [
    "import matplotlib.pyplot as plt\n",
    "\n",
    "logs = model_1.make_inspector().training_logs()\n",
    "plt.plot([log.num_trees for log in logs], [log.evaluation.rmse for log in logs])\n",
    "plt.xlabel(\"Number of trees\")\n",
    "plt.ylabel(\"Out-of-bag loss\")\n",
    "plt.show()"
   ]
  },
  {
   "cell_type": "code",
   "execution_count": 254,
   "id": "af0b8f4e-c611-406d-ad83-42f066cca997",
   "metadata": {},
   "outputs": [
    {
     "data": {
      "text/plain": [
       "[0.0, 0.15002191066741943]"
      ]
     },
     "execution_count": 254,
     "metadata": {},
     "output_type": "execute_result"
    }
   ],
   "source": [
    "evaluation"
   ]
  },
  {
   "cell_type": "code",
   "execution_count": 255,
   "id": "3806fd36-3a7d-4e5e-ae0d-dc9033bdb611",
   "metadata": {},
   "outputs": [
    {
     "data": {
      "text/plain": [
       "[0.0, 0.15002191066741943]"
      ]
     },
     "execution_count": 255,
     "metadata": {},
     "output_type": "execute_result"
    }
   ],
   "source": [
    "evaluation"
   ]
  },
  {
   "cell_type": "markdown",
   "id": "f9d80ffa-3011-46fd-a5b6-109c09eaa829",
   "metadata": {},
   "source": [
    "# Train on Entire Dataset"
   ]
  },
  {
   "cell_type": "code",
   "execution_count": 256,
   "id": "4667114e-9fa2-43c8-b164-ac06be925d9d",
   "metadata": {},
   "outputs": [
    {
     "data": {
      "text/plain": [
       "Evaluation(num_examples=None, accuracy=None, loss=206.2947998046875, rmse=206.2947998046875, ndcg=None, aucs=None)"
      ]
     },
     "execution_count": 256,
     "metadata": {},
     "output_type": "execute_result"
    }
   ],
   "source": [
    "model_1.make_inspector().evaluation()"
   ]
  },
  {
   "cell_type": "code",
   "execution_count": 257,
   "id": "62e09a6a-439d-4d80-a619-4fa14f5ef015",
   "metadata": {},
   "outputs": [],
   "source": [
    "train_dataframe = train[columns]\n",
    "train_dataframe = train_dataframe.to_dict('list')\n",
    "train_dataset = tf.data.Dataset.from_tensor_slices(train_dataframe)\n",
    "train_ds = train_dataset.batch(64).map(prepare_dataset)"
   ]
  },
  {
   "cell_type": "code",
   "execution_count": 258,
   "id": "aec5bc47-295d-4a2c-b8bd-5344c20ebf50",
   "metadata": {},
   "outputs": [
    {
     "name": "stdout",
     "output_type": "stream",
     "text": [
      "535/535 [==============================] - 0s 660us/step\n"
     ]
    },
    {
     "data": {
      "text/plain": [
       "<tensorflow.python.keras.callbacks.History at 0x7f554427f1c0>"
      ]
     },
     "execution_count": 258,
     "metadata": {},
     "output_type": "execute_result"
    }
   ],
   "source": [
    "model_1 = tfdf.keras.GradientBoostedTreesModel(hyperparameter_template=\"benchmark_rank1\", task = tfdf.keras.Task.REGRESSION)\n",
    "model_1.compile(metrics=[\"mean_squared_logarithmic_error\"])\n",
    "model_1.fit(x=train_ds)"
   ]
  },
  {
   "cell_type": "code",
   "execution_count": 259,
   "id": "7752f7c4-ed7b-4ae9-85fd-48c4f30a416e",
   "metadata": {},
   "outputs": [
    {
     "data": {
      "image/png": "[encoded data removed]",
      "text/plain": [
       "<Figure size 640x480 with 1 Axes>"
      ]
     },
     "metadata": {},
     "output_type": "display_data"
    }
   ],
   "source": [
    "import matplotlib.pyplot as plt\n",
    "\n",
    "logs = model_1.make_inspector().training_logs()\n",
    "plt.plot([log.num_trees for log in logs], [log.evaluation.rmse for log in logs])\n",
    "plt.xlabel(\"Number of trees\")\n",
    "plt.ylabel(\"Out-of-bag loss\")\n",
    "plt.show()"
   ]
  },
  {
   "cell_type": "markdown",
   "id": "e1f68290-d586-41b2-9d11-36dfac7eee12",
   "metadata": {},
   "source": [
    "# Predictions"
   ]
  },
  {
   "cell_type": "code",
   "execution_count": 260,
   "id": "fdc43911-93b0-4391-9e12-0e374ad7062e",
   "metadata": {},
   "outputs": [
    {
     "data": {
      "text/html": [
       "<div>\n",
       "<style scoped>\n",
       "    .dataframe tbody tr th:only-of-type {\n",
       "        vertical-align: middle;\n",
       "    }\n",
       "\n",
       "    .dataframe tbody tr th {\n",
       "        vertical-align: top;\n",
       "    }\n",
       "\n",
       "    .dataframe thead th {\n",
       "        text-align: right;\n",
       "    }\n",
       "</style>\n",
       "<table border=\"1\" class=\"dataframe\">\n",
       "  <thead>\n",
       "    <tr style=\"text-align: right;\">\n",
       "      <th></th>\n",
       "      <th>name</th>\n",
       "      <th>neighbourhood_group</th>\n",
       "      <th>neighbourhood</th>\n",
       "      <th>latitude</th>\n",
       "      <th>longitude</th>\n",
       "      <th>room_type</th>\n",
       "      <th>minimum_nights</th>\n",
       "      <th>number_of_reviews</th>\n",
       "      <th>last_review</th>\n",
       "      <th>reviews_per_month</th>\n",
       "      <th>calculated_host_listings_count</th>\n",
       "      <th>availability_365</th>\n",
       "      <th>name_score</th>\n",
       "    </tr>\n",
       "  </thead>\n",
       "  <tbody>\n",
       "    <tr>\n",
       "      <th>0</th>\n",
       "      <td>charming lofty 1bd on quiet street</td>\n",
       "      <td>manhattan</td>\n",
       "      <td>greenwich village</td>\n",
       "      <td>40.73466</td>\n",
       "      <td>-73.99539</td>\n",
       "      <td>entire home/apt</td>\n",
       "      <td>1</td>\n",
       "      <td>0</td>\n",
       "      <td>NaN</td>\n",
       "      <td>0.00</td>\n",
       "      <td>1</td>\n",
       "      <td>0</td>\n",
       "      <td>150.854736</td>\n",
       "    </tr>\n",
       "    <tr>\n",
       "      <th>1</th>\n",
       "      <td>beautiful, clean 1-bdrm private apt</td>\n",
       "      <td>manhattan</td>\n",
       "      <td>washington heights</td>\n",
       "      <td>40.85060</td>\n",
       "      <td>-73.94023</td>\n",
       "      <td>entire home/apt</td>\n",
       "      <td>6</td>\n",
       "      <td>19</td>\n",
       "      <td>714.0</td>\n",
       "      <td>0.26</td>\n",
       "      <td>1</td>\n",
       "      <td>188</td>\n",
       "      <td>143.877365</td>\n",
       "    </tr>\n",
       "    <tr>\n",
       "      <th>2</th>\n",
       "      <td>spacious getaway room in the heart of bushwick</td>\n",
       "      <td>brooklyn</td>\n",
       "      <td>bushwick</td>\n",
       "      <td>40.69837</td>\n",
       "      <td>-73.93045</td>\n",
       "      <td>private room</td>\n",
       "      <td>5</td>\n",
       "      <td>34</td>\n",
       "      <td>8.0</td>\n",
       "      <td>2.31</td>\n",
       "      <td>1</td>\n",
       "      <td>102</td>\n",
       "      <td>96.915741</td>\n",
       "    </tr>\n",
       "    <tr>\n",
       "      <th>3</th>\n",
       "      <td>east williamsburg cozy apartment with rooftop!</td>\n",
       "      <td>brooklyn</td>\n",
       "      <td>williamsburg</td>\n",
       "      <td>40.70749</td>\n",
       "      <td>-73.93916</td>\n",
       "      <td>entire home/apt</td>\n",
       "      <td>2</td>\n",
       "      <td>2</td>\n",
       "      <td>995.0</td>\n",
       "      <td>0.06</td>\n",
       "      <td>1</td>\n",
       "      <td>0</td>\n",
       "      <td>142.660446</td>\n",
       "    </tr>\n",
       "    <tr>\n",
       "      <th>4</th>\n",
       "      <td>comfortable and spacious bedroom</td>\n",
       "      <td>queens</td>\n",
       "      <td>ridgewood</td>\n",
       "      <td>40.70503</td>\n",
       "      <td>-73.91433</td>\n",
       "      <td>private room</td>\n",
       "      <td>2</td>\n",
       "      <td>0</td>\n",
       "      <td>NaN</td>\n",
       "      <td>0.00</td>\n",
       "      <td>1</td>\n",
       "      <td>0</td>\n",
       "      <td>75.743675</td>\n",
       "    </tr>\n",
       "    <tr>\n",
       "      <th>...</th>\n",
       "      <td>...</td>\n",
       "      <td>...</td>\n",
       "      <td>...</td>\n",
       "      <td>...</td>\n",
       "      <td>...</td>\n",
       "      <td>...</td>\n",
       "      <td>...</td>\n",
       "      <td>...</td>\n",
       "      <td>...</td>\n",
       "      <td>...</td>\n",
       "      <td>...</td>\n",
       "      <td>...</td>\n",
       "      <td>...</td>\n",
       "    </tr>\n",
       "    <tr>\n",
       "      <th>14664</th>\n",
       "      <td>2nd floor of 2-family house available for dece...</td>\n",
       "      <td>queens</td>\n",
       "      <td>astoria</td>\n",
       "      <td>40.76789</td>\n",
       "      <td>-73.93512</td>\n",
       "      <td>entire home/apt</td>\n",
       "      <td>7</td>\n",
       "      <td>0</td>\n",
       "      <td>NaN</td>\n",
       "      <td>0.00</td>\n",
       "      <td>1</td>\n",
       "      <td>365</td>\n",
       "      <td>276.204315</td>\n",
       "    </tr>\n",
       "    <tr>\n",
       "      <th>14665</th>\n",
       "      <td>astoria clean private room</td>\n",
       "      <td>queens</td>\n",
       "      <td>astoria</td>\n",
       "      <td>40.76797</td>\n",
       "      <td>-73.92807</td>\n",
       "      <td>private room</td>\n",
       "      <td>3</td>\n",
       "      <td>0</td>\n",
       "      <td>NaN</td>\n",
       "      <td>0.00</td>\n",
       "      <td>1</td>\n",
       "      <td>0</td>\n",
       "      <td>79.405846</td>\n",
       "    </tr>\n",
       "    <tr>\n",
       "      <th>14666</th>\n",
       "      <td>artsy manhattan pied à terre</td>\n",
       "      <td>manhattan</td>\n",
       "      <td>harlem</td>\n",
       "      <td>40.80693</td>\n",
       "      <td>-73.94831</td>\n",
       "      <td>entire home/apt</td>\n",
       "      <td>28</td>\n",
       "      <td>35</td>\n",
       "      <td>18.0</td>\n",
       "      <td>2.72</td>\n",
       "      <td>1</td>\n",
       "      <td>50</td>\n",
       "      <td>156.196472</td>\n",
       "    </tr>\n",
       "    <tr>\n",
       "      <th>14667</th>\n",
       "      <td>stylish 1 bed room in the east village</td>\n",
       "      <td>manhattan</td>\n",
       "      <td>east village</td>\n",
       "      <td>40.73069</td>\n",
       "      <td>-73.98515</td>\n",
       "      <td>entire home/apt</td>\n",
       "      <td>3</td>\n",
       "      <td>107</td>\n",
       "      <td>15.0</td>\n",
       "      <td>2.16</td>\n",
       "      <td>1</td>\n",
       "      <td>99</td>\n",
       "      <td>142.300629</td>\n",
       "    </tr>\n",
       "    <tr>\n",
       "      <th>14668</th>\n",
       "      <td>private cozy studio in flushing(5k)</td>\n",
       "      <td>queens</td>\n",
       "      <td>flushing</td>\n",
       "      <td>40.76500</td>\n",
       "      <td>-73.81875</td>\n",
       "      <td>entire home/apt</td>\n",
       "      <td>1</td>\n",
       "      <td>12</td>\n",
       "      <td>5.0</td>\n",
       "      <td>10.91</td>\n",
       "      <td>4</td>\n",
       "      <td>159</td>\n",
       "      <td>96.813972</td>\n",
       "    </tr>\n",
       "  </tbody>\n",
       "</table>\n",
       "<p>14669 rows × 13 columns</p>\n",
       "</div>"
      ],
      "text/plain": [
       "                                                    name neighbourhood_group  \\\n",
       "0                     charming lofty 1bd on quiet street           manhattan   \n",
       "1                    beautiful, clean 1-bdrm private apt           manhattan   \n",
       "2         spacious getaway room in the heart of bushwick            brooklyn   \n",
       "3         east williamsburg cozy apartment with rooftop!            brooklyn   \n",
       "4                       comfortable and spacious bedroom              queens   \n",
       "...                                                  ...                 ...   \n",
       "14664  2nd floor of 2-family house available for dece...              queens   \n",
       "14665                         astoria clean private room              queens   \n",
       "14666                       artsy manhattan pied à terre           manhattan   \n",
       "14667             stylish 1 bed room in the east village           manhattan   \n",
       "14668                private cozy studio in flushing(5k)              queens   \n",
       "\n",
       "            neighbourhood  latitude  longitude        room_type  \\\n",
       "0       greenwich village  40.73466  -73.99539  entire home/apt   \n",
       "1      washington heights  40.85060  -73.94023  entire home/apt   \n",
       "2                bushwick  40.69837  -73.93045     private room   \n",
       "3            williamsburg  40.70749  -73.93916  entire home/apt   \n",
       "4               ridgewood  40.70503  -73.91433     private room   \n",
       "...                   ...       ...        ...              ...   \n",
       "14664             astoria  40.76789  -73.93512  entire home/apt   \n",
       "14665             astoria  40.76797  -73.92807     private room   \n",
       "14666              harlem  40.80693  -73.94831  entire home/apt   \n",
       "14667        east village  40.73069  -73.98515  entire home/apt   \n",
       "14668            flushing  40.76500  -73.81875  entire home/apt   \n",
       "\n",
       "       minimum_nights  number_of_reviews  last_review  reviews_per_month  \\\n",
       "0                   1                  0          NaN               0.00   \n",
       "1                   6                 19        714.0               0.26   \n",
       "2                   5                 34          8.0               2.31   \n",
       "3                   2                  2        995.0               0.06   \n",
       "4                   2                  0          NaN               0.00   \n",
       "...               ...                ...          ...                ...   \n",
       "14664               7                  0          NaN               0.00   \n",
       "14665               3                  0          NaN               0.00   \n",
       "14666              28                 35         18.0               2.72   \n",
       "14667               3                107         15.0               2.16   \n",
       "14668               1                 12          5.0              10.91   \n",
       "\n",
       "       calculated_host_listings_count  availability_365  name_score  \n",
       "0                                   1                 0  150.854736  \n",
       "1                                   1               188  143.877365  \n",
       "2                                   1               102   96.915741  \n",
       "3                                   1                 0  142.660446  \n",
       "4                                   1                 0   75.743675  \n",
       "...                               ...               ...         ...  \n",
       "14664                               1               365  276.204315  \n",
       "14665                               1                 0   79.405846  \n",
       "14666                               1                50  156.196472  \n",
       "14667                               1                99  142.300629  \n",
       "14668                               4               159   96.813972  \n",
       "\n",
       "[14669 rows x 13 columns]"
      ]
     },
     "execution_count": 260,
     "metadata": {},
     "output_type": "execute_result"
    }
   ],
   "source": [
    "test"
   ]
  },
  {
   "cell_type": "code",
   "execution_count": 261,
   "id": "d3717864-fff9-4ecf-b143-1ebb5759e241",
   "metadata": {},
   "outputs": [],
   "source": [
    "columns = test.columns.tolist()"
   ]
  },
  {
   "cell_type": "code",
   "execution_count": 262,
   "id": "ca61a4d2-7543-4780-9cae-b7f0fa61874f",
   "metadata": {},
   "outputs": [
    {
     "data": {
      "text/plain": [
       "['name',\n",
       " 'neighbourhood_group',\n",
       " 'neighbourhood',\n",
       " 'latitude',\n",
       " 'longitude',\n",
       " 'room_type',\n",
       " 'minimum_nights',\n",
       " 'number_of_reviews',\n",
       " 'last_review',\n",
       " 'reviews_per_month',\n",
       " 'calculated_host_listings_count',\n",
       " 'availability_365',\n",
       " 'name_score']"
      ]
     },
     "execution_count": 262,
     "metadata": {},
     "output_type": "execute_result"
    }
   ],
   "source": [
    "columns"
   ]
  },
  {
   "cell_type": "code",
   "execution_count": 263,
   "id": "4df329bc-cae6-4e2d-b364-7fc5c0bd9032",
   "metadata": {},
   "outputs": [],
   "source": [
    "columns = test.columns.tolist()\n",
    "test_dataframe = test[columns]\n",
    "test_dataframe = test_dataframe.to_dict('list')\n",
    "test_dataset = tf.data.Dataset.from_tensor_slices(test_dataframe)\n",
    "test_ds = test_dataset.batch(64).map(prepare_dataset)"
   ]
  },
  {
   "cell_type": "code",
   "execution_count": 265,
   "id": "d82e6c39-8e59-427a-b897-47881815d593",
   "metadata": {},
   "outputs": [
    {
     "name": "stdout",
     "output_type": "stream",
     "text": [
      "Warning: Your Kaggle API key is readable by other users on this system! To fix this, you can run 'chmod 600 /home/neil/kaggle/kaggle.json'\n",
      "Warning: Looks like you're using an outdated API Version, please consider updating (server 1.5.12 / client 1.5.8)\n",
      "100%|█████████████████████████████████████████| 263k/263k [00:00<00:00, 305kB/s]\n",
      "Successfully submitted to SLICED s01e05"
     ]
    }
   ],
   "source": [
    "scores = model_1.predict(test_ds)\n",
    "submission['price'] = scores\n",
    "submission.head()\n",
    "submit = submission[['id','price']]\n",
    "submit.to_csv('submission.csv', index=False)\n",
    "! kaggle competitions submit -c sliced-s01e05-WXx7h8 -f submission.csv -m \"Message\""
   ]
  },
  {
   "cell_type": "code",
   "execution_count": 264,
   "id": "44bf03e4-3b09-4d0a-8f03-fffc1902fcc2",
   "metadata": {},
   "outputs": [
    {
     "data": {
      "text/plain": [
       "array([[179.56618 ],\n",
       "       [118.56604 ],\n",
       "       [ 62.007103],\n",
       "       ...,\n",
       "       [137.28975 ],\n",
       "       [172.56496 ],\n",
       "       [121.161575]], dtype=float32)"
      ]
     },
     "execution_count": 264,
     "metadata": {},
     "output_type": "execute_result"
    }
   ],
   "source": [
    "scores"
   ]
  },
  {
   "cell_type": "code",
   "execution_count": 93,
   "id": "850f61f1-951c-4893-9c1c-6673d9b1fcff",
   "metadata": {},
   "outputs": [
    {
     "data": {
      "text/plain": [
       "array([[249.07463],\n",
       "       [147.75955],\n",
       "       [ 62.98694],\n",
       "       ...,\n",
       "       [180.7177 ],\n",
       "       [213.04773],\n",
       "       [134.0568 ]], dtype=float32)"
      ]
     },
     "execution_count": 93,
     "metadata": {},
     "output_type": "execute_result"
    }
   ],
   "source": [
    "scores"
   ]
  },
  {
   "cell_type": "code",
   "execution_count": 94,
   "id": "d5fcc6ad-873f-4611-8b26-ca613d37da1e",
   "metadata": {},
   "outputs": [],
   "source": [
    "submission['price'] = scores"
   ]
  },
  {
   "cell_type": "code",
   "execution_count": 95,
   "id": "b81e5793-b010-48e7-9fc2-99ef197f0b21",
   "metadata": {},
   "outputs": [
    {
     "data": {
      "text/html": [
       "<div>\n",
       "<style scoped>\n",
       "    .dataframe tbody tr th:only-of-type {\n",
       "        vertical-align: middle;\n",
       "    }\n",
       "\n",
       "    .dataframe tbody tr th {\n",
       "        vertical-align: top;\n",
       "    }\n",
       "\n",
       "    .dataframe thead th {\n",
       "        text-align: right;\n",
       "    }\n",
       "</style>\n",
       "<table border=\"1\" class=\"dataframe\">\n",
       "  <thead>\n",
       "    <tr style=\"text-align: right;\">\n",
       "      <th></th>\n",
       "      <th>id</th>\n",
       "      <th>name</th>\n",
       "      <th>host_id</th>\n",
       "      <th>host_name</th>\n",
       "      <th>neighbourhood_group</th>\n",
       "      <th>neighbourhood</th>\n",
       "      <th>latitude</th>\n",
       "      <th>longitude</th>\n",
       "      <th>room_type</th>\n",
       "      <th>minimum_nights</th>\n",
       "      <th>number_of_reviews</th>\n",
       "      <th>last_review</th>\n",
       "      <th>reviews_per_month</th>\n",
       "      <th>calculated_host_listings_count</th>\n",
       "      <th>availability_365</th>\n",
       "      <th>price</th>\n",
       "    </tr>\n",
       "  </thead>\n",
       "  <tbody>\n",
       "    <tr>\n",
       "      <th>0</th>\n",
       "      <td>10449807</td>\n",
       "      <td>Charming Lofty 1bd on Quiet Street</td>\n",
       "      <td>2981910</td>\n",
       "      <td>Daphne</td>\n",
       "      <td>Manhattan</td>\n",
       "      <td>Greenwich Village</td>\n",
       "      <td>40.73466</td>\n",
       "      <td>-73.99539</td>\n",
       "      <td>Entire home/apt</td>\n",
       "      <td>1</td>\n",
       "      <td>0</td>\n",
       "      <td>NaN</td>\n",
       "      <td>NaN</td>\n",
       "      <td>1</td>\n",
       "      <td>0</td>\n",
       "      <td>249.074631</td>\n",
       "    </tr>\n",
       "    <tr>\n",
       "      <th>1</th>\n",
       "      <td>1178389</td>\n",
       "      <td>Beautiful, clean 1-bdrm private apt</td>\n",
       "      <td>6447462</td>\n",
       "      <td>Adam</td>\n",
       "      <td>Manhattan</td>\n",
       "      <td>Washington Heights</td>\n",
       "      <td>40.85060</td>\n",
       "      <td>-73.94023</td>\n",
       "      <td>Entire home/apt</td>\n",
       "      <td>6</td>\n",
       "      <td>19</td>\n",
       "      <td>2017-07-24</td>\n",
       "      <td>0.26</td>\n",
       "      <td>1</td>\n",
       "      <td>188</td>\n",
       "      <td>147.759552</td>\n",
       "    </tr>\n",
       "    <tr>\n",
       "      <th>2</th>\n",
       "      <td>23838063</td>\n",
       "      <td>Spacious getaway room in the heart of Bushwick</td>\n",
       "      <td>149073048</td>\n",
       "      <td>Kat</td>\n",
       "      <td>Brooklyn</td>\n",
       "      <td>Bushwick</td>\n",
       "      <td>40.69837</td>\n",
       "      <td>-73.93045</td>\n",
       "      <td>Private room</td>\n",
       "      <td>5</td>\n",
       "      <td>34</td>\n",
       "      <td>2019-06-30</td>\n",
       "      <td>2.31</td>\n",
       "      <td>1</td>\n",
       "      <td>102</td>\n",
       "      <td>62.986938</td>\n",
       "    </tr>\n",
       "    <tr>\n",
       "      <th>3</th>\n",
       "      <td>14415799</td>\n",
       "      <td>East Williamsburg Cozy Apartment with Rooftop!</td>\n",
       "      <td>48113730</td>\n",
       "      <td>Anastasia &amp; Jeremy</td>\n",
       "      <td>Brooklyn</td>\n",
       "      <td>Williamsburg</td>\n",
       "      <td>40.70749</td>\n",
       "      <td>-73.93916</td>\n",
       "      <td>Entire home/apt</td>\n",
       "      <td>2</td>\n",
       "      <td>2</td>\n",
       "      <td>2016-10-16</td>\n",
       "      <td>0.06</td>\n",
       "      <td>1</td>\n",
       "      <td>0</td>\n",
       "      <td>147.966339</td>\n",
       "    </tr>\n",
       "    <tr>\n",
       "      <th>4</th>\n",
       "      <td>6555262</td>\n",
       "      <td>Comfortable and Spacious Bedroom</td>\n",
       "      <td>14098887</td>\n",
       "      <td>Fareed</td>\n",
       "      <td>Queens</td>\n",
       "      <td>Ridgewood</td>\n",
       "      <td>40.70503</td>\n",
       "      <td>-73.91433</td>\n",
       "      <td>Private room</td>\n",
       "      <td>2</td>\n",
       "      <td>0</td>\n",
       "      <td>NaN</td>\n",
       "      <td>NaN</td>\n",
       "      <td>1</td>\n",
       "      <td>0</td>\n",
       "      <td>58.488190</td>\n",
       "    </tr>\n",
       "  </tbody>\n",
       "</table>\n",
       "</div>"
      ],
      "text/plain": [
       "         id                                            name    host_id  \\\n",
       "0  10449807              Charming Lofty 1bd on Quiet Street    2981910   \n",
       "1   1178389             Beautiful, clean 1-bdrm private apt    6447462   \n",
       "2  23838063  Spacious getaway room in the heart of Bushwick  149073048   \n",
       "3  14415799  East Williamsburg Cozy Apartment with Rooftop!   48113730   \n",
       "4   6555262                Comfortable and Spacious Bedroom   14098887   \n",
       "\n",
       "            host_name neighbourhood_group       neighbourhood  latitude  \\\n",
       "0              Daphne           Manhattan   Greenwich Village  40.73466   \n",
       "1                Adam           Manhattan  Washington Heights  40.85060   \n",
       "2                 Kat            Brooklyn            Bushwick  40.69837   \n",
       "3  Anastasia & Jeremy            Brooklyn        Williamsburg  40.70749   \n",
       "4              Fareed              Queens           Ridgewood  40.70503   \n",
       "\n",
       "   longitude        room_type  minimum_nights  number_of_reviews last_review  \\\n",
       "0  -73.99539  Entire home/apt               1                  0         NaN   \n",
       "1  -73.94023  Entire home/apt               6                 19  2017-07-24   \n",
       "2  -73.93045     Private room               5                 34  2019-06-30   \n",
       "3  -73.93916  Entire home/apt               2                  2  2016-10-16   \n",
       "4  -73.91433     Private room               2                  0         NaN   \n",
       "\n",
       "   reviews_per_month  calculated_host_listings_count  availability_365  \\\n",
       "0                NaN                               1                 0   \n",
       "1               0.26                               1               188   \n",
       "2               2.31                               1               102   \n",
       "3               0.06                               1                 0   \n",
       "4                NaN                               1                 0   \n",
       "\n",
       "        price  \n",
       "0  249.074631  \n",
       "1  147.759552  \n",
       "2   62.986938  \n",
       "3  147.966339  \n",
       "4   58.488190  "
      ]
     },
     "execution_count": 95,
     "metadata": {},
     "output_type": "execute_result"
    }
   ],
   "source": [
    "submission.head()"
   ]
  },
  {
   "cell_type": "code",
   "execution_count": 96,
   "id": "f14f5ede-0a29-4e9d-b926-c096019b4c6f",
   "metadata": {},
   "outputs": [],
   "source": [
    "submit = submission[['id','price']]"
   ]
  },
  {
   "cell_type": "code",
   "execution_count": 97,
   "id": "949340f4-438d-4761-84ea-380e157f537c",
   "metadata": {},
   "outputs": [
    {
     "data": {
      "text/html": [
       "<div>\n",
       "<style scoped>\n",
       "    .dataframe tbody tr th:only-of-type {\n",
       "        vertical-align: middle;\n",
       "    }\n",
       "\n",
       "    .dataframe tbody tr th {\n",
       "        vertical-align: top;\n",
       "    }\n",
       "\n",
       "    .dataframe thead th {\n",
       "        text-align: right;\n",
       "    }\n",
       "</style>\n",
       "<table border=\"1\" class=\"dataframe\">\n",
       "  <thead>\n",
       "    <tr style=\"text-align: right;\">\n",
       "      <th></th>\n",
       "      <th>id</th>\n",
       "      <th>price</th>\n",
       "    </tr>\n",
       "  </thead>\n",
       "  <tbody>\n",
       "    <tr>\n",
       "      <th>0</th>\n",
       "      <td>10449807</td>\n",
       "      <td>249.074631</td>\n",
       "    </tr>\n",
       "    <tr>\n",
       "      <th>1</th>\n",
       "      <td>1178389</td>\n",
       "      <td>147.759552</td>\n",
       "    </tr>\n",
       "    <tr>\n",
       "      <th>2</th>\n",
       "      <td>23838063</td>\n",
       "      <td>62.986938</td>\n",
       "    </tr>\n",
       "    <tr>\n",
       "      <th>3</th>\n",
       "      <td>14415799</td>\n",
       "      <td>147.966339</td>\n",
       "    </tr>\n",
       "    <tr>\n",
       "      <th>4</th>\n",
       "      <td>6555262</td>\n",
       "      <td>58.488190</td>\n",
       "    </tr>\n",
       "  </tbody>\n",
       "</table>\n",
       "</div>"
      ],
      "text/plain": [
       "         id       price\n",
       "0  10449807  249.074631\n",
       "1   1178389  147.759552\n",
       "2  23838063   62.986938\n",
       "3  14415799  147.966339\n",
       "4   6555262   58.488190"
      ]
     },
     "execution_count": 97,
     "metadata": {},
     "output_type": "execute_result"
    }
   ],
   "source": [
    "submit.head()"
   ]
  },
  {
   "cell_type": "code",
   "execution_count": 107,
   "id": "e0dd1808-cb0e-4e2f-a3d7-ee501831463d",
   "metadata": {},
   "outputs": [
    {
     "data": {
      "text/html": [
       "<div>\n",
       "<style scoped>\n",
       "    .dataframe tbody tr th:only-of-type {\n",
       "        vertical-align: middle;\n",
       "    }\n",
       "\n",
       "    .dataframe tbody tr th {\n",
       "        vertical-align: top;\n",
       "    }\n",
       "\n",
       "    .dataframe thead th {\n",
       "        text-align: right;\n",
       "    }\n",
       "</style>\n",
       "<table border=\"1\" class=\"dataframe\">\n",
       "  <thead>\n",
       "    <tr style=\"text-align: right;\">\n",
       "      <th></th>\n",
       "      <th>id</th>\n",
       "      <th>price</th>\n",
       "    </tr>\n",
       "  </thead>\n",
       "  <tbody>\n",
       "    <tr>\n",
       "      <th>0</th>\n",
       "      <td>10449807</td>\n",
       "      <td>350.868866</td>\n",
       "    </tr>\n",
       "    <tr>\n",
       "      <th>1</th>\n",
       "      <td>1178389</td>\n",
       "      <td>139.080978</td>\n",
       "    </tr>\n",
       "    <tr>\n",
       "      <th>2</th>\n",
       "      <td>23838063</td>\n",
       "      <td>68.814850</td>\n",
       "    </tr>\n",
       "    <tr>\n",
       "      <th>3</th>\n",
       "      <td>14415799</td>\n",
       "      <td>142.880447</td>\n",
       "    </tr>\n",
       "    <tr>\n",
       "      <th>4</th>\n",
       "      <td>6555262</td>\n",
       "      <td>61.425510</td>\n",
       "    </tr>\n",
       "  </tbody>\n",
       "</table>\n",
       "</div>"
      ],
      "text/plain": [
       "         id       price\n",
       "0  10449807  350.868866\n",
       "1   1178389  139.080978\n",
       "2  23838063   68.814850\n",
       "3  14415799  142.880447\n",
       "4   6555262   61.425510"
      ]
     },
     "execution_count": 107,
     "metadata": {},
     "output_type": "execute_result"
    }
   ],
   "source": [
    "submit.head()"
   ]
  },
  {
   "cell_type": "code",
   "execution_count": 98,
   "id": "b6dfb7ba-6b2d-487c-9e35-5f1fcf949c53",
   "metadata": {},
   "outputs": [],
   "source": [
    "submit.to_csv('submission.csv', index=False)"
   ]
  },
  {
   "cell_type": "code",
   "execution_count": 99,
   "id": "16f5a599-b6fc-419f-b637-fd9730f2f71b",
   "metadata": {},
   "outputs": [
    {
     "name": "stdout",
     "output_type": "stream",
     "text": [
      "Warning: Your Kaggle API key is readable by other users on this system! To fix this, you can run 'chmod 600 /home/neil/kaggle/kaggle.json'\n",
      "Warning: Looks like you're using an outdated API Version, please consider updating (server 1.5.12 / client 1.5.8)\n",
      "100%|█████████████████████████████████████████| 262k/262k [00:00<00:00, 309kB/s]\n",
      "Successfully submitted to SLICED s01e05"
     ]
    }
   ],
   "source": [
    "! kaggle competitions submit -c sliced-s01e05-WXx7h8 -f submission.csv -m \"Message\""
   ]
  },
  {
   "cell_type": "code",
   "execution_count": null,
   "id": "0500f36b-223c-4aed-a643-4d59d377b240",
   "metadata": {},
   "outputs": [],
   "source": []
  }
 ],
 "metadata": {
  "kernelspec": {
   "display_name": "ds_py_3.8",
   "language": "python",
   "name": "ds_py_3.8"
  },
  "language_info": {
   "codemirror_mode": {
    "name": "ipython",
    "version": 3
   },
   "file_extension": ".py",
   "mimetype": "text/x-python",
   "name": "python",
   "nbconvert_exporter": "python",
   "pygments_lexer": "ipython3",
   "version": "3.8.10"
  }
 },
 "nbformat": 4,
 "nbformat_minor": 5
}
