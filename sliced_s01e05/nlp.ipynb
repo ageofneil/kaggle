{
 "cells": [
  {
   "cell_type": "code",
   "execution_count": 2,
   "id": "ae47faed-73de-4725-a18c-c47ea630f31f",
   "metadata": {},
   "outputs": [],
   "source": [
    "#! kaggle competitions download -c sliced-s01e05-WXx7h8"
   ]
  },
  {
   "cell_type": "code",
   "execution_count": 1,
   "id": "8ee0b96a-088e-4c0b-899a-605384c59bde",
   "metadata": {},
   "outputs": [],
   "source": [
    "# Standard stack\n",
    "import datetime\n",
    "import pandas as pd\n",
    "import numpy as np\n",
    "import re\n",
    "\n",
    "# Visualization\n",
    "from pandas_profiling import ProfileReport\n",
    "#import plotly.express as px\n",
    "import matplotlib.pyplot as plt\n",
    "import seaborn as sns\n",
    "\n",
    "# Modeling\n",
    "import tensorflow as tf\n",
    "import tensorflow_decision_forests as tfdf\n",
    "try:\n",
    "    from wurlitzer import sys_pipes\n",
    "except:\n",
    "    from colabtools.googlelog import CaptureLog as sys_pipes\n",
    "\n",
    "# Scikit-learn packages\n",
    "from sklearn import metrics\n",
    "from sklearn.model_selection import train_test_split\n",
    "from sklearn.impute import SimpleImputer\n",
    "from sklearn.pipeline import Pipeline\n",
    "from sklearn.preprocessing import StandardScaler, OneHotEncoder, FunctionTransformer, OrdinalEncoder\n",
    "from sklearn.compose import ColumnTransformer\n",
    "\n",
    "# display\n",
    "from IPython.core.magic import register_line_magic\n",
    "from IPython.display import Javascript"
   ]
  },
  {
   "cell_type": "markdown",
   "id": "85626ca8-048a-4e79-a98c-0df491bae731",
   "metadata": {},
   "source": [
    "# Constants"
   ]
  },
  {
   "cell_type": "code",
   "execution_count": 2,
   "id": "95484130-439f-4ba4-afc1-8259b1dc8687",
   "metadata": {},
   "outputs": [],
   "source": [
    "TRAIN_PATH = \"data/train.csv\"\n",
    "TEST_PATH = \"data/test.csv\"\n",
    "label = \"price\""
   ]
  },
  {
   "cell_type": "markdown",
   "id": "c7514a11-496b-4315-8acb-e9ffffa413ed",
   "metadata": {},
   "source": [
    "# Load Data"
   ]
  },
  {
   "cell_type": "code",
   "execution_count": 3,
   "id": "d0d7e48a-10a6-45d2-8da7-284b82c7b37d",
   "metadata": {},
   "outputs": [],
   "source": [
    "train = pd.read_csv(TRAIN_PATH)\n",
    "test = pd.read_csv(TEST_PATH)\n",
    "submission = pd.read_csv(TEST_PATH)"
   ]
  },
  {
   "cell_type": "code",
   "execution_count": 4,
   "id": "32c801b3-d173-41f4-9fdc-11ea83ff1541",
   "metadata": {},
   "outputs": [
    {
     "data": {
      "text/html": [
       "<div>\n",
       "<style scoped>\n",
       "    .dataframe tbody tr th:only-of-type {\n",
       "        vertical-align: middle;\n",
       "    }\n",
       "\n",
       "    .dataframe tbody tr th {\n",
       "        vertical-align: top;\n",
       "    }\n",
       "\n",
       "    .dataframe thead th {\n",
       "        text-align: right;\n",
       "    }\n",
       "</style>\n",
       "<table border=\"1\" class=\"dataframe\">\n",
       "  <thead>\n",
       "    <tr style=\"text-align: right;\">\n",
       "      <th></th>\n",
       "      <th>id</th>\n",
       "      <th>name</th>\n",
       "      <th>host_id</th>\n",
       "      <th>host_name</th>\n",
       "      <th>neighbourhood_group</th>\n",
       "      <th>neighbourhood</th>\n",
       "      <th>latitude</th>\n",
       "      <th>longitude</th>\n",
       "      <th>room_type</th>\n",
       "      <th>price</th>\n",
       "      <th>minimum_nights</th>\n",
       "      <th>number_of_reviews</th>\n",
       "      <th>last_review</th>\n",
       "      <th>reviews_per_month</th>\n",
       "      <th>calculated_host_listings_count</th>\n",
       "      <th>availability_365</th>\n",
       "    </tr>\n",
       "  </thead>\n",
       "  <tbody>\n",
       "    <tr>\n",
       "      <th>0</th>\n",
       "      <td>9901706</td>\n",
       "      <td>Cute big one bedroom</td>\n",
       "      <td>1904415</td>\n",
       "      <td>Natalie</td>\n",
       "      <td>Manhattan</td>\n",
       "      <td>Upper West Side</td>\n",
       "      <td>40.77789</td>\n",
       "      <td>-73.97701</td>\n",
       "      <td>Entire home/apt</td>\n",
       "      <td>180</td>\n",
       "      <td>1</td>\n",
       "      <td>0</td>\n",
       "      <td>NaN</td>\n",
       "      <td>NaN</td>\n",
       "      <td>1</td>\n",
       "      <td>0</td>\n",
       "    </tr>\n",
       "  </tbody>\n",
       "</table>\n",
       "</div>"
      ],
      "text/plain": [
       "        id                  name  host_id host_name neighbourhood_group  \\\n",
       "0  9901706  Cute big one bedroom  1904415   Natalie           Manhattan   \n",
       "\n",
       "     neighbourhood  latitude  longitude        room_type  price  \\\n",
       "0  Upper West Side  40.77789  -73.97701  Entire home/apt    180   \n",
       "\n",
       "   minimum_nights  number_of_reviews last_review  reviews_per_month  \\\n",
       "0               1                  0         NaN                NaN   \n",
       "\n",
       "   calculated_host_listings_count  availability_365  \n",
       "0                               1                 0  "
      ]
     },
     "execution_count": 4,
     "metadata": {},
     "output_type": "execute_result"
    }
   ],
   "source": [
    "train.head(1)"
   ]
  },
  {
   "cell_type": "code",
   "execution_count": 5,
   "id": "1be38df5-7be9-4517-82ef-62c83331a958",
   "metadata": {},
   "outputs": [],
   "source": [
    "#train.sample(50)"
   ]
  },
  {
   "cell_type": "code",
   "execution_count": 6,
   "id": "1aa163f9-456f-45b1-b5c9-7daf788dd342",
   "metadata": {},
   "outputs": [],
   "source": [
    "#train.info()"
   ]
  },
  {
   "cell_type": "markdown",
   "id": "50331ffe-7c81-414c-b074-bc479c1a2f78",
   "metadata": {},
   "source": [
    "# Preprocess"
   ]
  },
  {
   "cell_type": "markdown",
   "id": "7cdf4ebb-e368-4ee7-a5c2-98118a73c7c0",
   "metadata": {},
   "source": [
    "### Drop Columns"
   ]
  },
  {
   "cell_type": "code",
   "execution_count": 7,
   "id": "9577d59b-c99c-4048-a458-02b08c49a64b",
   "metadata": {},
   "outputs": [],
   "source": [
    "to_drop = ['id','host_id','host_name']\n",
    "\n",
    "train = train.drop(to_drop,axis=1)\n",
    "test = test.drop(to_drop,axis=1)"
   ]
  },
  {
   "cell_type": "markdown",
   "id": "52df3a18-02bb-43ef-9746-e616421dcd7f",
   "metadata": {},
   "source": [
    "### Missing Values"
   ]
  },
  {
   "cell_type": "code",
   "execution_count": 8,
   "id": "79a7864c-02bc-4424-8d75-988e4b175f12",
   "metadata": {},
   "outputs": [],
   "source": [
    "def inpute_missing(dataset):\n",
    "    \"\"\" \n",
    "    Edit this to fix nulls. Default version replaces all int/float with 0\n",
    "    \"\"\"\n",
    "    for col in dataset.columns:\n",
    "        if dataset[col].dtype not in [str, object]:\n",
    "            dataset[col] = dataset[col].fillna(0)\n",
    "        else:\n",
    "            dataset[col] = dataset[col].fillna(\"UNKNOWN\")\n",
    "    return dataset\n",
    "\n",
    "train = inpute_missing(train)\n",
    "test = inpute_missing(test)"
   ]
  },
  {
   "cell_type": "markdown",
   "id": "7fe1c1c6-a67c-4074-96d0-1fe91992d8fd",
   "metadata": {},
   "source": [
    "### NLP"
   ]
  },
  {
   "cell_type": "code",
   "execution_count": 9,
   "id": "bf5236d2-9d79-4909-8809-1f225ab30ac9",
   "metadata": {},
   "outputs": [],
   "source": [
    "def nlp_transforms(dataset):\n",
    "    \"\"\" \n",
    "    NLP tranforms here. Default, None...\n",
    "    \"\"\"\n",
    "    return dataset\n",
    "\n",
    "train = nlp_transforms(train)\n",
    "test = nlp_transforms(test)"
   ]
  },
  {
   "cell_type": "markdown",
   "id": "b8f76e41-80bd-4c07-b92a-d240146172bd",
   "metadata": {},
   "source": [
    "### Computations"
   ]
  },
  {
   "cell_type": "code",
   "execution_count": 10,
   "id": "9506dbf5-66ed-4104-8a72-0bc21bf7e5ad",
   "metadata": {},
   "outputs": [
    {
     "data": {
      "text/html": [
       "<div>\n",
       "<style scoped>\n",
       "    .dataframe tbody tr th:only-of-type {\n",
       "        vertical-align: middle;\n",
       "    }\n",
       "\n",
       "    .dataframe tbody tr th {\n",
       "        vertical-align: top;\n",
       "    }\n",
       "\n",
       "    .dataframe thead th {\n",
       "        text-align: right;\n",
       "    }\n",
       "</style>\n",
       "<table border=\"1\" class=\"dataframe\">\n",
       "  <thead>\n",
       "    <tr style=\"text-align: right;\">\n",
       "      <th></th>\n",
       "      <th>name</th>\n",
       "      <th>neighbourhood_group</th>\n",
       "      <th>neighbourhood</th>\n",
       "      <th>latitude</th>\n",
       "      <th>longitude</th>\n",
       "      <th>room_type</th>\n",
       "      <th>price</th>\n",
       "      <th>minimum_nights</th>\n",
       "      <th>number_of_reviews</th>\n",
       "      <th>last_review</th>\n",
       "      <th>reviews_per_month</th>\n",
       "      <th>calculated_host_listings_count</th>\n",
       "      <th>availability_365</th>\n",
       "    </tr>\n",
       "  </thead>\n",
       "  <tbody>\n",
       "    <tr>\n",
       "      <th>0</th>\n",
       "      <td>Cute big one bedroom</td>\n",
       "      <td>Manhattan</td>\n",
       "      <td>Upper West Side</td>\n",
       "      <td>40.77789</td>\n",
       "      <td>-73.97701</td>\n",
       "      <td>Entire home/apt</td>\n",
       "      <td>180</td>\n",
       "      <td>1</td>\n",
       "      <td>0</td>\n",
       "      <td>UNKNOWN</td>\n",
       "      <td>0.00</td>\n",
       "      <td>1</td>\n",
       "      <td>0</td>\n",
       "    </tr>\n",
       "    <tr>\n",
       "      <th>1</th>\n",
       "      <td>Feel like you never leave your home</td>\n",
       "      <td>Brooklyn</td>\n",
       "      <td>East New York</td>\n",
       "      <td>40.66795</td>\n",
       "      <td>-73.89232</td>\n",
       "      <td>Entire home/apt</td>\n",
       "      <td>100</td>\n",
       "      <td>1</td>\n",
       "      <td>119</td>\n",
       "      <td>2019-06-30</td>\n",
       "      <td>1.39</td>\n",
       "      <td>2</td>\n",
       "      <td>289</td>\n",
       "    </tr>\n",
       "    <tr>\n",
       "      <th>2</th>\n",
       "      <td>Pristine Lower East Side Sanctuary</td>\n",
       "      <td>Manhattan</td>\n",
       "      <td>Lower East Side</td>\n",
       "      <td>40.72007</td>\n",
       "      <td>-73.98946</td>\n",
       "      <td>Entire home/apt</td>\n",
       "      <td>133</td>\n",
       "      <td>14</td>\n",
       "      <td>177</td>\n",
       "      <td>2019-05-03</td>\n",
       "      <td>2.82</td>\n",
       "      <td>2</td>\n",
       "      <td>221</td>\n",
       "    </tr>\n",
       "    <tr>\n",
       "      <th>3</th>\n",
       "      <td>Luxe, Spacious 2BR 2BA Nr Trains</td>\n",
       "      <td>Brooklyn</td>\n",
       "      <td>Gowanus</td>\n",
       "      <td>40.66862</td>\n",
       "      <td>-73.99260</td>\n",
       "      <td>Entire home/apt</td>\n",
       "      <td>260</td>\n",
       "      <td>30</td>\n",
       "      <td>3</td>\n",
       "      <td>2014-08-04</td>\n",
       "      <td>0.03</td>\n",
       "      <td>1</td>\n",
       "      <td>316</td>\n",
       "    </tr>\n",
       "    <tr>\n",
       "      <th>4</th>\n",
       "      <td>1BD brownstone apt in Fort Greene!</td>\n",
       "      <td>Brooklyn</td>\n",
       "      <td>Fort Greene</td>\n",
       "      <td>40.68935</td>\n",
       "      <td>-73.96950</td>\n",
       "      <td>Entire home/apt</td>\n",
       "      <td>120</td>\n",
       "      <td>3</td>\n",
       "      <td>22</td>\n",
       "      <td>2015-10-28</td>\n",
       "      <td>0.27</td>\n",
       "      <td>1</td>\n",
       "      <td>189</td>\n",
       "    </tr>\n",
       "  </tbody>\n",
       "</table>\n",
       "</div>"
      ],
      "text/plain": [
       "                                  name neighbourhood_group    neighbourhood  \\\n",
       "0                 Cute big one bedroom           Manhattan  Upper West Side   \n",
       "1  Feel like you never leave your home            Brooklyn    East New York   \n",
       "2   Pristine Lower East Side Sanctuary           Manhattan  Lower East Side   \n",
       "3     Luxe, Spacious 2BR 2BA Nr Trains            Brooklyn          Gowanus   \n",
       "4   1BD brownstone apt in Fort Greene!            Brooklyn      Fort Greene   \n",
       "\n",
       "   latitude  longitude        room_type  price  minimum_nights  \\\n",
       "0  40.77789  -73.97701  Entire home/apt    180               1   \n",
       "1  40.66795  -73.89232  Entire home/apt    100               1   \n",
       "2  40.72007  -73.98946  Entire home/apt    133              14   \n",
       "3  40.66862  -73.99260  Entire home/apt    260              30   \n",
       "4  40.68935  -73.96950  Entire home/apt    120               3   \n",
       "\n",
       "   number_of_reviews last_review  reviews_per_month  \\\n",
       "0                  0     UNKNOWN               0.00   \n",
       "1                119  2019-06-30               1.39   \n",
       "2                177  2019-05-03               2.82   \n",
       "3                  3  2014-08-04               0.03   \n",
       "4                 22  2015-10-28               0.27   \n",
       "\n",
       "   calculated_host_listings_count  availability_365  \n",
       "0                               1                 0  \n",
       "1                               2               289  \n",
       "2                               2               221  \n",
       "3                               1               316  \n",
       "4                               1               189  "
      ]
     },
     "execution_count": 10,
     "metadata": {},
     "output_type": "execute_result"
    }
   ],
   "source": [
    "train.head()"
   ]
  },
  {
   "cell_type": "code",
   "execution_count": 11,
   "id": "dd9a0e27-f133-4dc9-8f05-081266c7fa62",
   "metadata": {},
   "outputs": [],
   "source": [
    "input_1 = tf.keras.Input(shape=(1,), name=\"name\", dtype=\"string\")\n",
    "input_2 = tf.keras.Input(shape=(1,), name=\"neighbourhood_group\", dtype=\"string\")\n",
    "input_3 = tf.keras.Input(shape=(1,), name=\"neighbourhood\", dtype=\"string\")\n",
    "input_4 = tf.keras.Input(shape=(1,), name=\"latitude\", dtype=\"float\")\n",
    "input_5 = tf.keras.Input(shape=(1,), name=\"longitude\", dtype=\"float\")\n",
    "input_6 = tf.keras.Input(shape=(1,), name=\"room_type\", dtype=\"string\")\n",
    "input_7 = tf.keras.Input(shape=(1,), name=\"price\", dtype=\"float\")\n",
    "input_8 = tf.keras.Input(shape=(1,), name=\"minimum_nights\", dtype=\"float\")\n",
    "input_9 = tf.keras.Input(shape=(1,), name=\"number_of_reviews\", dtype=\"float\")\n",
    "input_10 = tf.keras.Input(shape=(1,), name=\"last_review\", dtype=\"string\")\n",
    "input_11 = tf.keras.Input(shape=(1,), name=\"reviews_per_month\", dtype=\"float\")\n",
    "input_12 = tf.keras.Input(shape=(1,), name=\"calculated_host_listings_count\", dtype=\"float\")\n",
    "input_13 = tf.keras.Input(shape=(1,), name=\"availability_365\", dtype=\"float\")\n",
    "\n",
    "\n",
    "nn_raw_inputs = [input_1, input_2,input_3,input_4,input_5,input_6,input_7,input_8,input_9,input_10,input_11,input_12,input_13]"
   ]
  },
  {
   "cell_type": "code",
   "execution_count": 12,
   "id": "3e0f57c0-b0c9-4ff0-a427-c1072f73cc0c",
   "metadata": {},
   "outputs": [
    {
     "name": "stdout",
     "output_type": "stream",
     "text": [
      "WARNING:tensorflow:max_tokens is deprecated, please use num_tokens instead.\n",
      "WARNING:tensorflow:max_tokens is deprecated, please use num_tokens instead.\n",
      "WARNING:tensorflow:max_tokens is deprecated, please use num_tokens instead.\n"
     ]
    }
   ],
   "source": [
    "Normalization = tf.keras.layers.experimental.preprocessing.Normalization\n",
    "CategoryEncoding = tf.keras.layers.experimental.preprocessing.CategoryEncoding\n",
    "StringLookup = tf.keras.layers.experimental.preprocessing.StringLookup\n",
    "\n",
    "# Numerical\n",
    "values = train[\"latitude\"].values\n",
    "input_4_normalizer = Normalization()\n",
    "input_4_normalizer.adapt(values)\n",
    "\n",
    "values = train[\"longitude\"].values\n",
    "input_5_normalizer = Normalization()\n",
    "input_5_normalizer.adapt(values)\n",
    "\n",
    "values = train[\"price\"].values\n",
    "input_7_normalizer = Normalization()\n",
    "input_7_normalizer.adapt(values)\n",
    "\n",
    "values = train[\"minimum_nights\"].values\n",
    "input_8_normalizer = Normalization()\n",
    "input_8_normalizer.adapt(values)\n",
    "\n",
    "values = train[\"number_of_reviews\"].values\n",
    "input_9_normalizer = Normalization()\n",
    "input_9_normalizer.adapt(values)\n",
    "\n",
    "values = train[\"reviews_per_month\"].values\n",
    "input_11_normalizer = Normalization()\n",
    "input_11_normalizer.adapt(values)\n",
    "\n",
    "values = train[\"calculated_host_listings_count\"].values\n",
    "input_12_normalizer = Normalization()\n",
    "input_12_normalizer.adapt(values)\n",
    "\n",
    "values = train[\"availability_365\"].values\n",
    "input_13_normalizer = Normalization()\n",
    "input_13_normalizer.adapt(values)\n",
    "\n",
    "# String (https://www.tensorflow.org/api_docs/python/tf/keras/layers/experimental/preprocessing/StringLookup)\n",
    "values = train[\"name\"].values\n",
    "input_1_indexer = StringLookup()\n",
    "input_1_indexer.adapt(values)\n",
    "input_1_onehot = CategoryEncoding(output_mode=\"binary\", max_tokens=4)\n",
    "\n",
    "values = train[\"neighbourhood_group\"].values\n",
    "input_2_indexer = StringLookup()\n",
    "input_2_indexer.adapt(values)\n",
    "input_2_onehot = CategoryEncoding(output_mode=\"binary\", max_tokens=4)\n",
    "\n",
    "values = train[\"neighbourhood\"].values\n",
    "input_3_indexer = StringLookup()\n",
    "input_3_indexer.adapt(values)\n",
    "input_3_onehot = CategoryEncoding(output_mode=\"binary\", max_tokens=4)\n",
    "\n",
    "normalized_input_1 = input_1_onehot(input_1_indexer(input_1))\n",
    "normalized_input_2 = input_2_onehot(input_2_indexer(input_2))\n",
    "normalized_input_3 = input_3_onehot(input_3_indexer(input_3))\n",
    "normalized_input_4 = input_4_normalizer(input_4)\n",
    "normalized_input_5 = input_5_normalizer(input_5)\n",
    "\n",
    "nn_processed_inputs = [normalized_input_1,normalized_input_2,normalized_input_3, normalized_input_4]"
   ]
  },
  {
   "cell_type": "code",
   "execution_count": 13,
   "id": "c5cf3bae-9358-4ce0-9bec-ce581c61df62",
   "metadata": {},
   "outputs": [],
   "source": [
    "y = tf.keras.layers.Concatenate()(nn_processed_inputs)\n",
    "y = tf.keras.layers.Dense(16, activation=tf.nn.relu6)(y)\n",
    "last_layer = tf.keras.layers.Dense(8, activation=tf.nn.relu, name=\"last\")(y)\n",
    "\n",
    "# \"3\" for the three label classes. If it were a binary classification, the\n",
    "# output dim would be 1.\n",
    "classification_output = tf.keras.layers.Dense(2)(y)\n",
    "\n",
    "nn_model = tf.keras.models.Model(nn_raw_inputs, classification_output)\n",
    "\n",
    "# To reduce the risk of mistakes, group both the decision forest and the\n",
    "# neural network in a single keras model.\n",
    "nn_without_head = tf.keras.models.Model(inputs=nn_model.inputs, outputs=last_layer)\n",
    "df_and_nn_model = tfdf.keras.RandomForestModel(preprocessing=nn_without_head,task=tfdf.keras.Task.REGRESSION)"
   ]
  },
  {
   "cell_type": "code",
   "execution_count": 22,
   "id": "3f757868-b330-43fd-867f-fba4061cdbfc",
   "metadata": {},
   "outputs": [],
   "source": [
    "nn_model.compile(\n",
    "  optimizer=tf.keras.optimizers.Adam(),\n",
    "  loss=tf.keras.losses.SparseCategoricalCrossentropy(from_logits=True),\n",
    "  metrics=[\"accuracy\"])"
   ]
  },
  {
   "cell_type": "code",
   "execution_count": 23,
   "id": "69a18c76-5c83-49ed-9fd6-fec3a9669e7a",
   "metadata": {},
   "outputs": [
    {
     "ename": "NameError",
     "evalue": "name 'train_ds' is not defined",
     "output_type": "error",
     "traceback": [
      "\u001b[0;31m---------------------------------------------------\u001b[0m",
      "\u001b[0;31mNameError\u001b[0m         Traceback (most recent call last)",
      "\u001b[0;32m<ipython-input-23-9a9192bd8dcc>\u001b[0m in \u001b[0;36m<module>\u001b[0;34m\u001b[0m\n\u001b[0;32m----> 1\u001b[0;31m \u001b[0mnn_model\u001b[0m\u001b[0;34m.\u001b[0m\u001b[0mfit\u001b[0m\u001b[0;34m(\u001b[0m\u001b[0mx\u001b[0m\u001b[0;34m=\u001b[0m\u001b[0mtrain_ds\u001b[0m\u001b[0;34m,\u001b[0m \u001b[0mvalidation_data\u001b[0m\u001b[0;34m=\u001b[0m\u001b[0mtest_ds\u001b[0m\u001b[0;34m,\u001b[0m \u001b[0mepochs\u001b[0m\u001b[0;34m=\u001b[0m\u001b[0;36m10\u001b[0m\u001b[0;34m,\u001b[0m \u001b[0mverbose\u001b[0m\u001b[0;34m=\u001b[0m\u001b[0;32mFalse\u001b[0m\u001b[0;34m)\u001b[0m\u001b[0;34m\u001b[0m\u001b[0;34m\u001b[0m\u001b[0m\n\u001b[0m\u001b[1;32m      2\u001b[0m \u001b[0mprint\u001b[0m\u001b[0;34m(\u001b[0m\u001b[0;34m\"Evaluation:\"\u001b[0m\u001b[0;34m,\u001b[0m \u001b[0mnn_model\u001b[0m\u001b[0;34m.\u001b[0m\u001b[0mevaluate\u001b[0m\u001b[0;34m(\u001b[0m\u001b[0mtest_ds\u001b[0m\u001b[0;34m)\u001b[0m\u001b[0;34m)\u001b[0m\u001b[0;34m\u001b[0m\u001b[0;34m\u001b[0m\u001b[0m\n",
      "\u001b[0;31mNameError\u001b[0m: name 'train_ds' is not defined"
     ]
    }
   ],
   "source": [
    "nn_model.fit(x=train_ds, validation_data=test_ds, epochs=10, verbose=False)\n",
    "print(\"Evaluation:\", nn_model.evaluate(test_ds))"
   ]
  },
  {
   "cell_type": "markdown",
   "id": "b0b38732-28fb-420f-8884-cbdd1dbbd33c",
   "metadata": {},
   "source": [
    "# Split & Train"
   ]
  },
  {
   "cell_type": "code",
   "execution_count": 232,
   "id": "6e341323-2ce7-41e4-9629-7fe12c1c36e0",
   "metadata": {},
   "outputs": [],
   "source": [
    "#to_drop = ['name']\n",
    "\n",
    "#train = train.drop(to_drop,axis=1)\n",
    "#test = test.drop(to_drop,axis=1)"
   ]
  },
  {
   "cell_type": "code",
   "execution_count": 233,
   "id": "4e13b1f6-144e-4325-b8db-0486bfce3256",
   "metadata": {},
   "outputs": [],
   "source": [
    "X_train, X_test = train_test_split(train,test_size=0.2, random_state=42)\n",
    "\n",
    "train_tf = tfdf.keras.pd_dataframe_to_tf_dataset(X_train, label=label,task=tfdf.keras.Task.REGRESSION)\n",
    "test_tf = tfdf.keras.pd_dataframe_to_tf_dataset(X_test, label=label,task=tfdf.keras.Task.REGRESSION)\n",
    "predictions = tfdf.keras.pd_dataframe_to_tf_dataset(test,task=tfdf.keras.Task.REGRESSION)"
   ]
  },
  {
   "cell_type": "code",
   "execution_count": 234,
   "id": "f5d3c7f9-cd24-4b63-ba9e-bc0e99696d9a",
   "metadata": {},
   "outputs": [],
   "source": [
    "## Models"
   ]
  },
  {
   "cell_type": "code",
   "execution_count": 235,
   "id": "c50782f6-939c-4a87-b01d-976cec825df3",
   "metadata": {},
   "outputs": [
    {
     "name": "stdout",
     "output_type": "stream",
     "text": [
      "rf_baselines\n",
      "428/428 [==============================] - 0s 894us/step\n",
      "107/107 [==============================] - 3s 27ms/step - loss: 0.0000e+00 - mean_squared_logarithmic_error: 0.2341\n",
      "rf_tune1\n",
      "428/428 [==============================] - 0s 885us/step\n",
      "107/107 [==============================] - 2s 15ms/step - loss: 0.0000e+00 - mean_squared_logarithmic_error: 0.2382\n",
      "gbt_baselines\n",
      "428/428 [==============================] - 0s 862us/step\n",
      "107/107 [==============================] - 0s 1ms/step - loss: 0.0000e+00 - mean_squared_logarithmic_error: 0.2636\n",
      "gbt_tune1\n",
      "428/428 [==============================] - 0s 869us/step\n",
      "107/107 [==============================] - 0s 1ms/step - loss: 0.0000e+00 - mean_squared_logarithmic_error: 0.2545\n"
     ]
    }
   ],
   "source": [
    "# A more complex, but possibly, more accurate model.\n",
    "models = {\n",
    "    'rf_baselines': tfdf.keras.RandomForestModel(task = tfdf.keras.Task.REGRESSION),\n",
    "    'rf_tune1': tfdf.keras.RandomForestModel(hyperparameter_template=\"benchmark_rank1\", task = tfdf.keras.Task.REGRESSION),\n",
    "    'gbt_baselines': tfdf.keras.GradientBoostedTreesModel(task = tfdf.keras.Task.REGRESSION),\n",
    "    'gbt_tune1': tfdf.keras.GradientBoostedTreesModel(hyperparameter_template=\"benchmark_rank1\",task = tfdf.keras.Task.REGRESSION)\n",
    "    }\n",
    "\n",
    "evaluation = {}\n",
    "for key in models:\n",
    "    print(key)\n",
    "    #Evaluate: metric logsloss: BinaryCrossentropy\n",
    "    models[key].compile(metrics=[\"mean_squared_logarithmic_error\"])\n",
    "    \n",
    "    #with sys_pipes():\n",
    "    models[key].fit(x=train_tf)\n",
    "    evaluation[key] = models[key].evaluate(test_tf, return_dict=True)"
   ]
  },
  {
   "cell_type": "code",
   "execution_count": 236,
   "id": "af0b8f4e-c611-406d-ad83-42f066cca997",
   "metadata": {},
   "outputs": [
    {
     "data": {
      "text/plain": [
       "{'rf_baselines': {'loss': 0.0,\n",
       "  'mean_squared_logarithmic_error': 0.23409005999565125},\n",
       " 'rf_tune1': {'loss': 0.0,\n",
       "  'mean_squared_logarithmic_error': 0.23822546005249023},\n",
       " 'gbt_baselines': {'loss': 0.0,\n",
       "  'mean_squared_logarithmic_error': 0.2635546624660492},\n",
       " 'gbt_tune1': {'loss': 0.0,\n",
       "  'mean_squared_logarithmic_error': 0.2544563412666321}}"
      ]
     },
     "execution_count": 236,
     "metadata": {},
     "output_type": "execute_result"
    }
   ],
   "source": [
    "evaluation"
   ]
  },
  {
   "cell_type": "code",
   "execution_count": 237,
   "id": "3806fd36-3a7d-4e5e-ae0d-dc9033bdb611",
   "metadata": {},
   "outputs": [
    {
     "data": {
      "text/plain": [
       "{'rf_baselines': {'loss': 0.0,\n",
       "  'mean_squared_logarithmic_error': 0.23409005999565125},\n",
       " 'rf_tune1': {'loss': 0.0,\n",
       "  'mean_squared_logarithmic_error': 0.23822546005249023},\n",
       " 'gbt_baselines': {'loss': 0.0,\n",
       "  'mean_squared_logarithmic_error': 0.2635546624660492},\n",
       " 'gbt_tune1': {'loss': 0.0,\n",
       "  'mean_squared_logarithmic_error': 0.2544563412666321}}"
      ]
     },
     "execution_count": 237,
     "metadata": {},
     "output_type": "execute_result"
    }
   ],
   "source": [
    "evaluation"
   ]
  },
  {
   "cell_type": "code",
   "execution_count": 91,
   "id": "aec5bc47-295d-4a2c-b8bd-5344c20ebf50",
   "metadata": {},
   "outputs": [
    {
     "name": "stdout",
     "output_type": "stream",
     "text": [
      "[HyperParameterTemplate(name='better_default', version=1, parameters={'winner_take_all': True}, description='A configuration that is generally better than the default parameters without being more expensive.'), HyperParameterTemplate(name='benchmark_rank1', version=1, parameters={'winner_take_all': True, 'categorical_algorithm': 'RANDOM', 'split_axis': 'SPARSE_OBLIQUE', 'sparse_oblique_normalization': 'MIN_MAX', 'sparse_oblique_num_projections_exponent': 1.0}, description='Top ranking hyper-parameters on our benchmark slightly modified to run in reasonable time.')]\n"
     ]
    }
   ],
   "source": [
    "# The hyper-parameter templates of the Gradient Boosted Tree model.\n",
    "print(tfdf.keras.RandomForestModel.predefined_hyperparameters())"
   ]
  },
  {
   "cell_type": "markdown",
   "id": "e1f68290-d586-41b2-9d11-36dfac7eee12",
   "metadata": {},
   "source": [
    "# Predictions"
   ]
  },
  {
   "cell_type": "code",
   "execution_count": 96,
   "id": "751b0b38-36bf-4b4a-83c1-2126fd32f9ec",
   "metadata": {},
   "outputs": [
    {
     "data": {
      "text/plain": [
       "{'rf_baselines': <tensorflow_decision_forests.keras.RandomForestModel at 0x7fe843953fd0>,\n",
       " 'rf_tune1': <tensorflow_decision_forests.keras.RandomForestModel at 0x7fe842f2e340>}"
      ]
     },
     "execution_count": 96,
     "metadata": {},
     "output_type": "execute_result"
    }
   ],
   "source": [
    "models"
   ]
  },
  {
   "cell_type": "code",
   "execution_count": 97,
   "id": "d82e6c39-8e59-427a-b897-47881815d593",
   "metadata": {},
   "outputs": [],
   "source": [
    "scores = models['rf_baselines'].predict(predictions)"
   ]
  },
  {
   "cell_type": "code",
   "execution_count": 98,
   "id": "850f61f1-951c-4893-9c1c-6673d9b1fcff",
   "metadata": {},
   "outputs": [
    {
     "data": {
      "text/plain": [
       "array([[350.86887],\n",
       "       [139.08098],\n",
       "       [ 68.81485],\n",
       "       ...,\n",
       "       [159.41724],\n",
       "       [227.62271],\n",
       "       [152.61357]], dtype=float32)"
      ]
     },
     "execution_count": 98,
     "metadata": {},
     "output_type": "execute_result"
    }
   ],
   "source": [
    "scores"
   ]
  },
  {
   "cell_type": "code",
   "execution_count": 99,
   "id": "d5fcc6ad-873f-4611-8b26-ca613d37da1e",
   "metadata": {},
   "outputs": [],
   "source": [
    "submission['price'] = scores"
   ]
  },
  {
   "cell_type": "code",
   "execution_count": 100,
   "id": "b81e5793-b010-48e7-9fc2-99ef197f0b21",
   "metadata": {},
   "outputs": [
    {
     "data": {
      "text/html": [
       "<div>\n",
       "<style scoped>\n",
       "    .dataframe tbody tr th:only-of-type {\n",
       "        vertical-align: middle;\n",
       "    }\n",
       "\n",
       "    .dataframe tbody tr th {\n",
       "        vertical-align: top;\n",
       "    }\n",
       "\n",
       "    .dataframe thead th {\n",
       "        text-align: right;\n",
       "    }\n",
       "</style>\n",
       "<table border=\"1\" class=\"dataframe\">\n",
       "  <thead>\n",
       "    <tr style=\"text-align: right;\">\n",
       "      <th></th>\n",
       "      <th>id</th>\n",
       "      <th>name</th>\n",
       "      <th>host_id</th>\n",
       "      <th>host_name</th>\n",
       "      <th>neighbourhood_group</th>\n",
       "      <th>neighbourhood</th>\n",
       "      <th>latitude</th>\n",
       "      <th>longitude</th>\n",
       "      <th>room_type</th>\n",
       "      <th>minimum_nights</th>\n",
       "      <th>number_of_reviews</th>\n",
       "      <th>last_review</th>\n",
       "      <th>reviews_per_month</th>\n",
       "      <th>calculated_host_listings_count</th>\n",
       "      <th>availability_365</th>\n",
       "      <th>price</th>\n",
       "    </tr>\n",
       "  </thead>\n",
       "  <tbody>\n",
       "    <tr>\n",
       "      <th>0</th>\n",
       "      <td>10449807</td>\n",
       "      <td>Charming Lofty 1bd on Quiet Street</td>\n",
       "      <td>2981910</td>\n",
       "      <td>Daphne</td>\n",
       "      <td>Manhattan</td>\n",
       "      <td>Greenwich Village</td>\n",
       "      <td>40.73466</td>\n",
       "      <td>-73.99539</td>\n",
       "      <td>Entire home/apt</td>\n",
       "      <td>1</td>\n",
       "      <td>0</td>\n",
       "      <td>NaN</td>\n",
       "      <td>NaN</td>\n",
       "      <td>1</td>\n",
       "      <td>0</td>\n",
       "      <td>350.868866</td>\n",
       "    </tr>\n",
       "    <tr>\n",
       "      <th>1</th>\n",
       "      <td>1178389</td>\n",
       "      <td>Beautiful, clean 1-bdrm private apt</td>\n",
       "      <td>6447462</td>\n",
       "      <td>Adam</td>\n",
       "      <td>Manhattan</td>\n",
       "      <td>Washington Heights</td>\n",
       "      <td>40.85060</td>\n",
       "      <td>-73.94023</td>\n",
       "      <td>Entire home/apt</td>\n",
       "      <td>6</td>\n",
       "      <td>19</td>\n",
       "      <td>2017-07-24</td>\n",
       "      <td>0.26</td>\n",
       "      <td>1</td>\n",
       "      <td>188</td>\n",
       "      <td>139.080978</td>\n",
       "    </tr>\n",
       "    <tr>\n",
       "      <th>2</th>\n",
       "      <td>23838063</td>\n",
       "      <td>Spacious getaway room in the heart of Bushwick</td>\n",
       "      <td>149073048</td>\n",
       "      <td>Kat</td>\n",
       "      <td>Brooklyn</td>\n",
       "      <td>Bushwick</td>\n",
       "      <td>40.69837</td>\n",
       "      <td>-73.93045</td>\n",
       "      <td>Private room</td>\n",
       "      <td>5</td>\n",
       "      <td>34</td>\n",
       "      <td>2019-06-30</td>\n",
       "      <td>2.31</td>\n",
       "      <td>1</td>\n",
       "      <td>102</td>\n",
       "      <td>68.814850</td>\n",
       "    </tr>\n",
       "    <tr>\n",
       "      <th>3</th>\n",
       "      <td>14415799</td>\n",
       "      <td>East Williamsburg Cozy Apartment with Rooftop!</td>\n",
       "      <td>48113730</td>\n",
       "      <td>Anastasia &amp; Jeremy</td>\n",
       "      <td>Brooklyn</td>\n",
       "      <td>Williamsburg</td>\n",
       "      <td>40.70749</td>\n",
       "      <td>-73.93916</td>\n",
       "      <td>Entire home/apt</td>\n",
       "      <td>2</td>\n",
       "      <td>2</td>\n",
       "      <td>2016-10-16</td>\n",
       "      <td>0.06</td>\n",
       "      <td>1</td>\n",
       "      <td>0</td>\n",
       "      <td>142.880447</td>\n",
       "    </tr>\n",
       "    <tr>\n",
       "      <th>4</th>\n",
       "      <td>6555262</td>\n",
       "      <td>Comfortable and Spacious Bedroom</td>\n",
       "      <td>14098887</td>\n",
       "      <td>Fareed</td>\n",
       "      <td>Queens</td>\n",
       "      <td>Ridgewood</td>\n",
       "      <td>40.70503</td>\n",
       "      <td>-73.91433</td>\n",
       "      <td>Private room</td>\n",
       "      <td>2</td>\n",
       "      <td>0</td>\n",
       "      <td>NaN</td>\n",
       "      <td>NaN</td>\n",
       "      <td>1</td>\n",
       "      <td>0</td>\n",
       "      <td>61.425510</td>\n",
       "    </tr>\n",
       "  </tbody>\n",
       "</table>\n",
       "</div>"
      ],
      "text/plain": [
       "         id                                            name    host_id  \\\n",
       "0  10449807              Charming Lofty 1bd on Quiet Street    2981910   \n",
       "1   1178389             Beautiful, clean 1-bdrm private apt    6447462   \n",
       "2  23838063  Spacious getaway room in the heart of Bushwick  149073048   \n",
       "3  14415799  East Williamsburg Cozy Apartment with Rooftop!   48113730   \n",
       "4   6555262                Comfortable and Spacious Bedroom   14098887   \n",
       "\n",
       "            host_name neighbourhood_group       neighbourhood  latitude  \\\n",
       "0              Daphne           Manhattan   Greenwich Village  40.73466   \n",
       "1                Adam           Manhattan  Washington Heights  40.85060   \n",
       "2                 Kat            Brooklyn            Bushwick  40.69837   \n",
       "3  Anastasia & Jeremy            Brooklyn        Williamsburg  40.70749   \n",
       "4              Fareed              Queens           Ridgewood  40.70503   \n",
       "\n",
       "   longitude        room_type  minimum_nights  number_of_reviews last_review  \\\n",
       "0  -73.99539  Entire home/apt               1                  0         NaN   \n",
       "1  -73.94023  Entire home/apt               6                 19  2017-07-24   \n",
       "2  -73.93045     Private room               5                 34  2019-06-30   \n",
       "3  -73.93916  Entire home/apt               2                  2  2016-10-16   \n",
       "4  -73.91433     Private room               2                  0         NaN   \n",
       "\n",
       "   reviews_per_month  calculated_host_listings_count  availability_365  \\\n",
       "0                NaN                               1                 0   \n",
       "1               0.26                               1               188   \n",
       "2               2.31                               1               102   \n",
       "3               0.06                               1                 0   \n",
       "4                NaN                               1                 0   \n",
       "\n",
       "        price  \n",
       "0  350.868866  \n",
       "1  139.080978  \n",
       "2   68.814850  \n",
       "3  142.880447  \n",
       "4   61.425510  "
      ]
     },
     "execution_count": 100,
     "metadata": {},
     "output_type": "execute_result"
    }
   ],
   "source": [
    "submission.head()"
   ]
  },
  {
   "cell_type": "code",
   "execution_count": 101,
   "id": "f14f5ede-0a29-4e9d-b926-c096019b4c6f",
   "metadata": {},
   "outputs": [],
   "source": [
    "submit = submission[['id','price']]"
   ]
  },
  {
   "cell_type": "code",
   "execution_count": 102,
   "id": "949340f4-438d-4761-84ea-380e157f537c",
   "metadata": {},
   "outputs": [
    {
     "data": {
      "text/html": [
       "<div>\n",
       "<style scoped>\n",
       "    .dataframe tbody tr th:only-of-type {\n",
       "        vertical-align: middle;\n",
       "    }\n",
       "\n",
       "    .dataframe tbody tr th {\n",
       "        vertical-align: top;\n",
       "    }\n",
       "\n",
       "    .dataframe thead th {\n",
       "        text-align: right;\n",
       "    }\n",
       "</style>\n",
       "<table border=\"1\" class=\"dataframe\">\n",
       "  <thead>\n",
       "    <tr style=\"text-align: right;\">\n",
       "      <th></th>\n",
       "      <th>id</th>\n",
       "      <th>price</th>\n",
       "    </tr>\n",
       "  </thead>\n",
       "  <tbody>\n",
       "    <tr>\n",
       "      <th>0</th>\n",
       "      <td>10449807</td>\n",
       "      <td>350.868866</td>\n",
       "    </tr>\n",
       "    <tr>\n",
       "      <th>1</th>\n",
       "      <td>1178389</td>\n",
       "      <td>139.080978</td>\n",
       "    </tr>\n",
       "    <tr>\n",
       "      <th>2</th>\n",
       "      <td>23838063</td>\n",
       "      <td>68.814850</td>\n",
       "    </tr>\n",
       "    <tr>\n",
       "      <th>3</th>\n",
       "      <td>14415799</td>\n",
       "      <td>142.880447</td>\n",
       "    </tr>\n",
       "    <tr>\n",
       "      <th>4</th>\n",
       "      <td>6555262</td>\n",
       "      <td>61.425510</td>\n",
       "    </tr>\n",
       "  </tbody>\n",
       "</table>\n",
       "</div>"
      ],
      "text/plain": [
       "         id       price\n",
       "0  10449807  350.868866\n",
       "1   1178389  139.080978\n",
       "2  23838063   68.814850\n",
       "3  14415799  142.880447\n",
       "4   6555262   61.425510"
      ]
     },
     "execution_count": 102,
     "metadata": {},
     "output_type": "execute_result"
    }
   ],
   "source": [
    "submit.head()"
   ]
  },
  {
   "cell_type": "code",
   "execution_count": 107,
   "id": "e0dd1808-cb0e-4e2f-a3d7-ee501831463d",
   "metadata": {},
   "outputs": [
    {
     "data": {
      "text/html": [
       "<div>\n",
       "<style scoped>\n",
       "    .dataframe tbody tr th:only-of-type {\n",
       "        vertical-align: middle;\n",
       "    }\n",
       "\n",
       "    .dataframe tbody tr th {\n",
       "        vertical-align: top;\n",
       "    }\n",
       "\n",
       "    .dataframe thead th {\n",
       "        text-align: right;\n",
       "    }\n",
       "</style>\n",
       "<table border=\"1\" class=\"dataframe\">\n",
       "  <thead>\n",
       "    <tr style=\"text-align: right;\">\n",
       "      <th></th>\n",
       "      <th>id</th>\n",
       "      <th>price</th>\n",
       "    </tr>\n",
       "  </thead>\n",
       "  <tbody>\n",
       "    <tr>\n",
       "      <th>0</th>\n",
       "      <td>10449807</td>\n",
       "      <td>350.868866</td>\n",
       "    </tr>\n",
       "    <tr>\n",
       "      <th>1</th>\n",
       "      <td>1178389</td>\n",
       "      <td>139.080978</td>\n",
       "    </tr>\n",
       "    <tr>\n",
       "      <th>2</th>\n",
       "      <td>23838063</td>\n",
       "      <td>68.814850</td>\n",
       "    </tr>\n",
       "    <tr>\n",
       "      <th>3</th>\n",
       "      <td>14415799</td>\n",
       "      <td>142.880447</td>\n",
       "    </tr>\n",
       "    <tr>\n",
       "      <th>4</th>\n",
       "      <td>6555262</td>\n",
       "      <td>61.425510</td>\n",
       "    </tr>\n",
       "  </tbody>\n",
       "</table>\n",
       "</div>"
      ],
      "text/plain": [
       "         id       price\n",
       "0  10449807  350.868866\n",
       "1   1178389  139.080978\n",
       "2  23838063   68.814850\n",
       "3  14415799  142.880447\n",
       "4   6555262   61.425510"
      ]
     },
     "execution_count": 107,
     "metadata": {},
     "output_type": "execute_result"
    }
   ],
   "source": [
    "submit.head()"
   ]
  },
  {
   "cell_type": "code",
   "execution_count": 108,
   "id": "b6dfb7ba-6b2d-487c-9e35-5f1fcf949c53",
   "metadata": {},
   "outputs": [],
   "source": [
    "submit.to_csv('submission.csv', index=False)"
   ]
  },
  {
   "cell_type": "code",
   "execution_count": 111,
   "id": "16f5a599-b6fc-419f-b637-fd9730f2f71b",
   "metadata": {},
   "outputs": [
    {
     "name": "stdout",
     "output_type": "stream",
     "text": [
      "Warning: Your Kaggle API key is readable by other users on this system! To fix this, you can run 'chmod 600 /home/neil/kaggle/kaggle.json'\n",
      "Warning: Looks like you're using an outdated API Version, please consider updating (server 1.5.12 / client 1.5.8)\n",
      "100%|█████████████████████████████████████████| 263k/263k [00:00<00:00, 279kB/s]\n",
      "Successfully submitted to SLICED s01e05"
     ]
    }
   ],
   "source": [
    "! kaggle competitions submit -c sliced-s01e05-WXx7h8 -f submission.csv -m \"Message\""
   ]
  },
  {
   "cell_type": "code",
   "execution_count": null,
   "id": "0500f36b-223c-4aed-a643-4d59d377b240",
   "metadata": {},
   "outputs": [],
   "source": []
  }
 ],
 "metadata": {
  "kernelspec": {
   "display_name": "ds_py_3.8",
   "language": "python",
   "name": "ds_py_3.8"
  },
  "language_info": {
   "codemirror_mode": {
    "name": "ipython",
    "version": 3
   },
   "file_extension": ".py",
   "mimetype": "text/x-python",
   "name": "python",
   "nbconvert_exporter": "python",
   "pygments_lexer": "ipython3",
   "version": "3.8.10"
  }
 },
 "nbformat": 4,
 "nbformat_minor": 5
}
