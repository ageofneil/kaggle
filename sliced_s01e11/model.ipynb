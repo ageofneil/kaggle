{
 "cells": [
  {
   "cell_type": "code",
   "execution_count": 57,
   "id": "d9ec98b6-955d-4888-89c2-fbd88b4e5665",
   "metadata": {},
   "outputs": [],
   "source": [
    "# Standard stack\n",
    "import datetime\n",
    "import pandas as pd\n",
    "import numpy as np\n",
    "from datetime import date\n",
    "import re\n",
    "\n",
    "# Visualization\n",
    "from pandas_profiling import ProfileReport\n",
    "#import plotly.express as px\n",
    "import matplotlib.pyplot as plt\n",
    "import seaborn as sns\n",
    "\n",
    "# Modeling\n",
    "import tensorflow as tf\n",
    "import tensorflow_decision_forests as tfdf\n",
    "try:\n",
    "    from wurlitzer import sys_pipes\n",
    "except:\n",
    "    from colabtools.googlelog import CaptureLog as sys_pipes\n",
    "\n",
    "# Scikit-learn packages\n",
    "from sklearn import metrics\n",
    "from sklearn.model_selection import train_test_split\n",
    "from sklearn.impute import SimpleImputer\n",
    "from sklearn.pipeline import Pipeline\n",
    "from sklearn.preprocessing import StandardScaler, OneHotEncoder, FunctionTransformer, OrdinalEncoder\n",
    "from sklearn.compose import ColumnTransformer\n",
    "from sklearn.model_selection import KFold\n",
    "\n",
    "# display\n",
    "from IPython.core.magic import register_line_magic\n",
    "from IPython.display import Javascript\n",
    "\n",
    "# no warnings\n",
    "import warnings\n",
    "warnings.filterwarnings('ignore')"
   ]
  },
  {
   "cell_type": "code",
   "execution_count": 58,
   "id": "3b7ee3c1-a9f5-4393-9193-11c0ab4718ce",
   "metadata": {},
   "outputs": [],
   "source": [
    "TRAIN_PATH = \"data/train.csv\"\n",
    "TEST_PATH = \"data/test.csv\"\n",
    "label = \"priceRange\""
   ]
  },
  {
   "cell_type": "code",
   "execution_count": 59,
   "id": "c83bb836-8c49-4923-8ba1-1f29d3c807a0",
   "metadata": {},
   "outputs": [],
   "source": [
    "train = pd.read_csv(TRAIN_PATH)\n",
    "test = pd.read_csv(TEST_PATH)\n",
    "submission = pd.read_csv(TEST_PATH)"
   ]
  },
  {
   "cell_type": "code",
   "execution_count": 60,
   "id": "e7e36abc-b948-455b-978a-7c8d021ecad5",
   "metadata": {},
   "outputs": [
    {
     "name": "stdout",
     "output_type": "stream",
     "text": [
      "Label classes: ['650000+', '350000-450000', '0-250000', '450000-650000', '250000-350000']\n"
     ]
    }
   ],
   "source": [
    "classes = train[label].unique().tolist()\n",
    "print(f\"Label classes: {classes}\")\n",
    "\n",
    "train[label] = train[label].map(classes.index)"
   ]
  },
  {
   "cell_type": "code",
   "execution_count": 61,
   "id": "ecf94309-219d-43e8-9925-2fb1fa647889",
   "metadata": {},
   "outputs": [
    {
     "data": {
      "text/plain": [
       "Index(['uid', 'city', 'description', 'homeType', 'latitude', 'longitude',\n",
       "       'garageSpaces', 'hasSpa', 'yearBuilt', 'numOfPatioAndPorchFeatures',\n",
       "       'lotSizeSqFt', 'avgSchoolRating', 'MedianStudentsPerTeacher',\n",
       "       'numOfBathrooms', 'numOfBedrooms', 'priceRange'],\n",
       "      dtype='object')"
      ]
     },
     "execution_count": 61,
     "metadata": {},
     "output_type": "execute_result"
    }
   ],
   "source": [
    "train.columns"
   ]
  },
  {
   "cell_type": "code",
   "execution_count": 62,
   "id": "b3edc4c9-c46a-4b43-be8a-6c971e9019dd",
   "metadata": {},
   "outputs": [
    {
     "data": {
      "text/plain": [
       "Index(['uid', 'city', 'description', 'homeType', 'latitude', 'longitude',\n",
       "       'garageSpaces', 'hasSpa', 'yearBuilt', 'numOfPatioAndPorchFeatures',\n",
       "       'lotSizeSqFt', 'avgSchoolRating', 'MedianStudentsPerTeacher',\n",
       "       'numOfBathrooms', 'numOfBedrooms'],\n",
       "      dtype='object')"
      ]
     },
     "execution_count": 62,
     "metadata": {},
     "output_type": "execute_result"
    }
   ],
   "source": [
    "test.columns"
   ]
  },
  {
   "cell_type": "markdown",
   "id": "0da12107-0cab-41c8-a904-1c0f6495ac35",
   "metadata": {},
   "source": [
    "# Train"
   ]
  },
  {
   "cell_type": "code",
   "execution_count": 63,
   "id": "8010c120-c6cc-46ba-84cb-96bbbfff7f79",
   "metadata": {},
   "outputs": [],
   "source": [
    "def inpute_missing(dataset):\n",
    "    \"\"\" \n",
    "    Edit this to fix nulls. Default version replaces all int/float with 0\n",
    "    \"\"\"\n",
    "    for col in dataset.columns:\n",
    "        if dataset[col].dtype not in [str, object]:\n",
    "            dataset[col] = dataset[col].fillna(dataset[col].mean())\n",
    "    return dataset\n",
    "\n",
    "train = inpute_missing(train)\n",
    "test = inpute_missing(test)"
   ]
  },
  {
   "cell_type": "code",
   "execution_count": 64,
   "id": "254189c3-4604-4a07-a4a4-11482ade9f39",
   "metadata": {},
   "outputs": [],
   "source": [
    "def nlp_transforms(dataset):\n",
    "    \"\"\" \n",
    "    NLP tranforms here. Default, None...\n",
    "    \"\"\"\n",
    "    \n",
    "    # lower case\n",
    "    dataset['description'] = dataset['description'].str.lower()\n",
    "    \n",
    "    #remove punctuations\n",
    "    train[\"description\"] = train['description'].str.replace('[^\\w\\s]','')\n",
    "    \n",
    "    return dataset\n",
    "\n",
    "train = nlp_transforms(train)\n",
    "test = nlp_transforms(test)"
   ]
  },
  {
   "cell_type": "code",
   "execution_count": 65,
   "id": "3f64c81f-266b-4f27-aa9c-90c589fa5603",
   "metadata": {},
   "outputs": [
    {
     "data": {
      "text/html": [
       "<div>\n",
       "<style scoped>\n",
       "    .dataframe tbody tr th:only-of-type {\n",
       "        vertical-align: middle;\n",
       "    }\n",
       "\n",
       "    .dataframe tbody tr th {\n",
       "        vertical-align: top;\n",
       "    }\n",
       "\n",
       "    .dataframe thead th {\n",
       "        text-align: right;\n",
       "    }\n",
       "</style>\n",
       "<table border=\"1\" class=\"dataframe\">\n",
       "  <thead>\n",
       "    <tr style=\"text-align: right;\">\n",
       "      <th></th>\n",
       "      <th>uid</th>\n",
       "      <th>city</th>\n",
       "      <th>description</th>\n",
       "      <th>homeType</th>\n",
       "      <th>latitude</th>\n",
       "      <th>longitude</th>\n",
       "      <th>garageSpaces</th>\n",
       "      <th>hasSpa</th>\n",
       "      <th>yearBuilt</th>\n",
       "      <th>numOfPatioAndPorchFeatures</th>\n",
       "      <th>lotSizeSqFt</th>\n",
       "      <th>avgSchoolRating</th>\n",
       "      <th>MedianStudentsPerTeacher</th>\n",
       "      <th>numOfBathrooms</th>\n",
       "      <th>numOfBedrooms</th>\n",
       "      <th>priceRange</th>\n",
       "    </tr>\n",
       "  </thead>\n",
       "  <tbody>\n",
       "    <tr>\n",
       "      <th>0</th>\n",
       "      <td>1748</td>\n",
       "      <td>austin</td>\n",
       "      <td>multiple offers submit best  final to agent by...</td>\n",
       "      <td>Single Family</td>\n",
       "      <td>30.380089</td>\n",
       "      <td>-97.800621</td>\n",
       "      <td>0</td>\n",
       "      <td>False</td>\n",
       "      <td>1988</td>\n",
       "      <td>0</td>\n",
       "      <td>102366.0</td>\n",
       "      <td>7.000000</td>\n",
       "      <td>17</td>\n",
       "      <td>4.0</td>\n",
       "      <td>4</td>\n",
       "      <td>0</td>\n",
       "    </tr>\n",
       "    <tr>\n",
       "      <th>1</th>\n",
       "      <td>13380</td>\n",
       "      <td>austin</td>\n",
       "      <td>4644 hoffman dr austin tx 78749 is a single fa...</td>\n",
       "      <td>Single Family</td>\n",
       "      <td>30.199486</td>\n",
       "      <td>-97.859947</td>\n",
       "      <td>0</td>\n",
       "      <td>False</td>\n",
       "      <td>1997</td>\n",
       "      <td>0</td>\n",
       "      <td>6534.0</td>\n",
       "      <td>6.666667</td>\n",
       "      <td>16</td>\n",
       "      <td>3.0</td>\n",
       "      <td>4</td>\n",
       "      <td>1</td>\n",
       "    </tr>\n",
       "    <tr>\n",
       "      <th>2</th>\n",
       "      <td>4115</td>\n",
       "      <td>austin</td>\n",
       "      <td>6804 canal st austin tx 78741 is a single fami...</td>\n",
       "      <td>Single Family</td>\n",
       "      <td>30.227398</td>\n",
       "      <td>-97.696083</td>\n",
       "      <td>0</td>\n",
       "      <td>False</td>\n",
       "      <td>1952</td>\n",
       "      <td>0</td>\n",
       "      <td>5619.0</td>\n",
       "      <td>3.333333</td>\n",
       "      <td>11</td>\n",
       "      <td>1.0</td>\n",
       "      <td>2</td>\n",
       "      <td>2</td>\n",
       "    </tr>\n",
       "    <tr>\n",
       "      <th>3</th>\n",
       "      <td>6926</td>\n",
       "      <td>austin</td>\n",
       "      <td>beautiful large lot with established trees lov...</td>\n",
       "      <td>Single Family</td>\n",
       "      <td>30.205469</td>\n",
       "      <td>-97.792351</td>\n",
       "      <td>4</td>\n",
       "      <td>False</td>\n",
       "      <td>1976</td>\n",
       "      <td>0</td>\n",
       "      <td>6416.0</td>\n",
       "      <td>4.000000</td>\n",
       "      <td>14</td>\n",
       "      <td>2.0</td>\n",
       "      <td>4</td>\n",
       "      <td>2</td>\n",
       "    </tr>\n",
       "    <tr>\n",
       "      <th>4</th>\n",
       "      <td>14480</td>\n",
       "      <td>austin</td>\n",
       "      <td>stunning nw hills designer remodel by cedar an...</td>\n",
       "      <td>Single Family</td>\n",
       "      <td>30.345106</td>\n",
       "      <td>-97.767426</td>\n",
       "      <td>2</td>\n",
       "      <td>False</td>\n",
       "      <td>1984</td>\n",
       "      <td>0</td>\n",
       "      <td>10759.0</td>\n",
       "      <td>7.000000</td>\n",
       "      <td>16</td>\n",
       "      <td>3.0</td>\n",
       "      <td>5</td>\n",
       "      <td>0</td>\n",
       "    </tr>\n",
       "    <tr>\n",
       "      <th>...</th>\n",
       "      <td>...</td>\n",
       "      <td>...</td>\n",
       "      <td>...</td>\n",
       "      <td>...</td>\n",
       "      <td>...</td>\n",
       "      <td>...</td>\n",
       "      <td>...</td>\n",
       "      <td>...</td>\n",
       "      <td>...</td>\n",
       "      <td>...</td>\n",
       "      <td>...</td>\n",
       "      <td>...</td>\n",
       "      <td>...</td>\n",
       "      <td>...</td>\n",
       "      <td>...</td>\n",
       "      <td>...</td>\n",
       "    </tr>\n",
       "    <tr>\n",
       "      <th>9995</th>\n",
       "      <td>8614</td>\n",
       "      <td>austin</td>\n",
       "      <td>updated great hills opportunity large corner l...</td>\n",
       "      <td>Single Family</td>\n",
       "      <td>30.409927</td>\n",
       "      <td>-97.763390</td>\n",
       "      <td>2</td>\n",
       "      <td>False</td>\n",
       "      <td>1982</td>\n",
       "      <td>3</td>\n",
       "      <td>15246.0</td>\n",
       "      <td>7.000000</td>\n",
       "      <td>17</td>\n",
       "      <td>3.0</td>\n",
       "      <td>3</td>\n",
       "      <td>0</td>\n",
       "    </tr>\n",
       "    <tr>\n",
       "      <th>9996</th>\n",
       "      <td>10505</td>\n",
       "      <td>austin</td>\n",
       "      <td>adorable 32 in the heart of south austin situa...</td>\n",
       "      <td>Single Family</td>\n",
       "      <td>30.206074</td>\n",
       "      <td>-97.779472</td>\n",
       "      <td>0</td>\n",
       "      <td>False</td>\n",
       "      <td>1970</td>\n",
       "      <td>0</td>\n",
       "      <td>6577.0</td>\n",
       "      <td>4.000000</td>\n",
       "      <td>14</td>\n",
       "      <td>2.0</td>\n",
       "      <td>3</td>\n",
       "      <td>4</td>\n",
       "    </tr>\n",
       "    <tr>\n",
       "      <th>9997</th>\n",
       "      <td>6942</td>\n",
       "      <td>austin</td>\n",
       "      <td>7322 gaines mill ln austin tx 78745 is a singl...</td>\n",
       "      <td>Single Family</td>\n",
       "      <td>30.198936</td>\n",
       "      <td>-97.810913</td>\n",
       "      <td>0</td>\n",
       "      <td>False</td>\n",
       "      <td>1981</td>\n",
       "      <td>1</td>\n",
       "      <td>7623.0</td>\n",
       "      <td>4.000000</td>\n",
       "      <td>13</td>\n",
       "      <td>2.0</td>\n",
       "      <td>3</td>\n",
       "      <td>1</td>\n",
       "    </tr>\n",
       "    <tr>\n",
       "      <th>9998</th>\n",
       "      <td>1845</td>\n",
       "      <td>austin</td>\n",
       "      <td>5213 doe valley ln austin tx 78759 is a single...</td>\n",
       "      <td>Single Family</td>\n",
       "      <td>30.391880</td>\n",
       "      <td>-97.761292</td>\n",
       "      <td>0</td>\n",
       "      <td>False</td>\n",
       "      <td>1979</td>\n",
       "      <td>2</td>\n",
       "      <td>13939.2</td>\n",
       "      <td>7.000000</td>\n",
       "      <td>17</td>\n",
       "      <td>3.0</td>\n",
       "      <td>3</td>\n",
       "      <td>4</td>\n",
       "    </tr>\n",
       "    <tr>\n",
       "      <th>9999</th>\n",
       "      <td>4425</td>\n",
       "      <td>austin</td>\n",
       "      <td>beautiful singlestory home with open floor pla...</td>\n",
       "      <td>Single Family</td>\n",
       "      <td>30.346609</td>\n",
       "      <td>-97.614983</td>\n",
       "      <td>1</td>\n",
       "      <td>False</td>\n",
       "      <td>2013</td>\n",
       "      <td>0</td>\n",
       "      <td>4878.0</td>\n",
       "      <td>5.000000</td>\n",
       "      <td>11</td>\n",
       "      <td>2.0</td>\n",
       "      <td>3</td>\n",
       "      <td>2</td>\n",
       "    </tr>\n",
       "  </tbody>\n",
       "</table>\n",
       "<p>10000 rows × 16 columns</p>\n",
       "</div>"
      ],
      "text/plain": [
       "        uid    city                                        description  \\\n",
       "0      1748  austin  multiple offers submit best  final to agent by...   \n",
       "1     13380  austin  4644 hoffman dr austin tx 78749 is a single fa...   \n",
       "2      4115  austin  6804 canal st austin tx 78741 is a single fami...   \n",
       "3      6926  austin  beautiful large lot with established trees lov...   \n",
       "4     14480  austin  stunning nw hills designer remodel by cedar an...   \n",
       "...     ...     ...                                                ...   \n",
       "9995   8614  austin  updated great hills opportunity large corner l...   \n",
       "9996  10505  austin  adorable 32 in the heart of south austin situa...   \n",
       "9997   6942  austin  7322 gaines mill ln austin tx 78745 is a singl...   \n",
       "9998   1845  austin  5213 doe valley ln austin tx 78759 is a single...   \n",
       "9999   4425  austin  beautiful singlestory home with open floor pla...   \n",
       "\n",
       "           homeType   latitude  longitude  garageSpaces  hasSpa  yearBuilt  \\\n",
       "0     Single Family  30.380089 -97.800621             0   False       1988   \n",
       "1     Single Family  30.199486 -97.859947             0   False       1997   \n",
       "2     Single Family  30.227398 -97.696083             0   False       1952   \n",
       "3     Single Family  30.205469 -97.792351             4   False       1976   \n",
       "4     Single Family  30.345106 -97.767426             2   False       1984   \n",
       "...             ...        ...        ...           ...     ...        ...   \n",
       "9995  Single Family  30.409927 -97.763390             2   False       1982   \n",
       "9996  Single Family  30.206074 -97.779472             0   False       1970   \n",
       "9997  Single Family  30.198936 -97.810913             0   False       1981   \n",
       "9998  Single Family  30.391880 -97.761292             0   False       1979   \n",
       "9999  Single Family  30.346609 -97.614983             1   False       2013   \n",
       "\n",
       "      numOfPatioAndPorchFeatures  lotSizeSqFt  avgSchoolRating  \\\n",
       "0                              0     102366.0         7.000000   \n",
       "1                              0       6534.0         6.666667   \n",
       "2                              0       5619.0         3.333333   \n",
       "3                              0       6416.0         4.000000   \n",
       "4                              0      10759.0         7.000000   \n",
       "...                          ...          ...              ...   \n",
       "9995                           3      15246.0         7.000000   \n",
       "9996                           0       6577.0         4.000000   \n",
       "9997                           1       7623.0         4.000000   \n",
       "9998                           2      13939.2         7.000000   \n",
       "9999                           0       4878.0         5.000000   \n",
       "\n",
       "      MedianStudentsPerTeacher  numOfBathrooms  numOfBedrooms  priceRange  \n",
       "0                           17             4.0              4           0  \n",
       "1                           16             3.0              4           1  \n",
       "2                           11             1.0              2           2  \n",
       "3                           14             2.0              4           2  \n",
       "4                           16             3.0              5           0  \n",
       "...                        ...             ...            ...         ...  \n",
       "9995                        17             3.0              3           0  \n",
       "9996                        14             2.0              3           4  \n",
       "9997                        13             2.0              3           1  \n",
       "9998                        17             3.0              3           4  \n",
       "9999                        11             2.0              3           2  \n",
       "\n",
       "[10000 rows x 16 columns]"
      ]
     },
     "execution_count": 65,
     "metadata": {},
     "output_type": "execute_result"
    }
   ],
   "source": [
    "train"
   ]
  },
  {
   "cell_type": "code",
   "execution_count": 66,
   "id": "82eaa412-e826-4252-b354-a568a7f57d57",
   "metadata": {},
   "outputs": [],
   "source": [
    "def computation_transforms(dataset):\n",
    "    \"\"\" \n",
    "    New Feature Engineering. Default, None...\n",
    "    \"\"\"\n",
    "    dataset['hasSpa'] = np.where(dataset['hasSpa'] == True, 1, 0)\n",
    "    return dataset\n",
    "\n",
    "train = computation_transforms(train)\n",
    "test = computation_transforms(test)"
   ]
  },
  {
   "cell_type": "markdown",
   "id": "330a7f82-b726-4737-89e8-40989e74f42e",
   "metadata": {},
   "source": [
    "# Train"
   ]
  },
  {
   "cell_type": "code",
   "execution_count": 67,
   "id": "7197d2ca-976e-409c-a030-93d0b9048854",
   "metadata": {},
   "outputs": [
    {
     "data": {
      "text/html": [
       "<div>\n",
       "<style scoped>\n",
       "    .dataframe tbody tr th:only-of-type {\n",
       "        vertical-align: middle;\n",
       "    }\n",
       "\n",
       "    .dataframe tbody tr th {\n",
       "        vertical-align: top;\n",
       "    }\n",
       "\n",
       "    .dataframe thead th {\n",
       "        text-align: right;\n",
       "    }\n",
       "</style>\n",
       "<table border=\"1\" class=\"dataframe\">\n",
       "  <thead>\n",
       "    <tr style=\"text-align: right;\">\n",
       "      <th></th>\n",
       "      <th>uid</th>\n",
       "      <th>city</th>\n",
       "      <th>description</th>\n",
       "      <th>homeType</th>\n",
       "      <th>latitude</th>\n",
       "      <th>longitude</th>\n",
       "      <th>garageSpaces</th>\n",
       "      <th>hasSpa</th>\n",
       "      <th>yearBuilt</th>\n",
       "      <th>numOfPatioAndPorchFeatures</th>\n",
       "      <th>lotSizeSqFt</th>\n",
       "      <th>avgSchoolRating</th>\n",
       "      <th>MedianStudentsPerTeacher</th>\n",
       "      <th>numOfBathrooms</th>\n",
       "      <th>numOfBedrooms</th>\n",
       "      <th>priceRange</th>\n",
       "    </tr>\n",
       "  </thead>\n",
       "  <tbody>\n",
       "    <tr>\n",
       "      <th>0</th>\n",
       "      <td>1748</td>\n",
       "      <td>austin</td>\n",
       "      <td>multiple offers submit best  final to agent by...</td>\n",
       "      <td>Single Family</td>\n",
       "      <td>30.380089</td>\n",
       "      <td>-97.800621</td>\n",
       "      <td>0</td>\n",
       "      <td>0</td>\n",
       "      <td>1988</td>\n",
       "      <td>0</td>\n",
       "      <td>102366.0</td>\n",
       "      <td>7.0</td>\n",
       "      <td>17</td>\n",
       "      <td>4.0</td>\n",
       "      <td>4</td>\n",
       "      <td>0</td>\n",
       "    </tr>\n",
       "  </tbody>\n",
       "</table>\n",
       "</div>"
      ],
      "text/plain": [
       "    uid    city                                        description  \\\n",
       "0  1748  austin  multiple offers submit best  final to agent by...   \n",
       "\n",
       "        homeType   latitude  longitude  garageSpaces  hasSpa  yearBuilt  \\\n",
       "0  Single Family  30.380089 -97.800621             0       0       1988   \n",
       "\n",
       "   numOfPatioAndPorchFeatures  lotSizeSqFt  avgSchoolRating  \\\n",
       "0                           0     102366.0              7.0   \n",
       "\n",
       "   MedianStudentsPerTeacher  numOfBathrooms  numOfBedrooms  priceRange  \n",
       "0                        17             4.0              4           0  "
      ]
     },
     "execution_count": 67,
     "metadata": {},
     "output_type": "execute_result"
    }
   ],
   "source": [
    "train.head(1)"
   ]
  },
  {
   "cell_type": "code",
   "execution_count": 68,
   "id": "8205a972-10ca-4a65-ab27-40a3769917b2",
   "metadata": {},
   "outputs": [
    {
     "data": {
      "text/plain": [
       "Index(['uid', 'city', 'description', 'homeType', 'latitude', 'longitude',\n",
       "       'garageSpaces', 'hasSpa', 'yearBuilt', 'numOfPatioAndPorchFeatures',\n",
       "       'lotSizeSqFt', 'avgSchoolRating', 'MedianStudentsPerTeacher',\n",
       "       'numOfBathrooms', 'numOfBedrooms', 'priceRange'],\n",
       "      dtype='object')"
      ]
     },
     "execution_count": 68,
     "metadata": {},
     "output_type": "execute_result"
    }
   ],
   "source": [
    "train.columns"
   ]
  },
  {
   "cell_type": "code",
   "execution_count": 69,
   "id": "1d2c4c55-1824-4e62-89d3-ffbd8f12f7b8",
   "metadata": {},
   "outputs": [
    {
     "data": {
      "text/plain": [
       "(10000, 16)"
      ]
     },
     "execution_count": 69,
     "metadata": {},
     "output_type": "execute_result"
    }
   ],
   "source": [
    "train.shape"
   ]
  },
  {
   "cell_type": "code",
   "execution_count": 70,
   "id": "d9e5df3d-71cf-479f-a63c-d0555292dcd0",
   "metadata": {},
   "outputs": [],
   "source": [
    "to_drop = ['uid','description','city','MedianStudentsPerTeacher','yearBuilt']\n",
    "train = train.drop(to_drop,axis=1)\n",
    "test = test.drop(to_drop,axis=1)"
   ]
  },
  {
   "cell_type": "code",
   "execution_count": 71,
   "id": "f864ff05-cfc3-481e-826e-8ab6f0451c56",
   "metadata": {},
   "outputs": [],
   "source": [
    "X_train, X_test = train_test_split(train,test_size=0.2, random_state=42)\n",
    "\n",
    "train_tf = tfdf.keras.pd_dataframe_to_tf_dataset(X_train, label=label)\n",
    "test_tf = tfdf.keras.pd_dataframe_to_tf_dataset(X_test, label=label)\n",
    "predictions = tfdf.keras.pd_dataframe_to_tf_dataset(test)"
   ]
  },
  {
   "cell_type": "code",
   "execution_count": 72,
   "id": "3ffaf223-3001-4bcd-852b-70cb84967122",
   "metadata": {},
   "outputs": [
    {
     "name": "stdout",
     "output_type": "stream",
     "text": [
      "rf_baselines\n",
      "125/125 [==============================] - 0s 846us/step\n",
      "32/32 [==============================] - 1s 19ms/step - loss: 0.0000e+00 - accuracy: 0.6235\n",
      "rf_tune1\n",
      "125/125 [==============================] - 0s 744us/step\n",
      "32/32 [==============================] - 0s 10ms/step - loss: 0.0000e+00 - accuracy: 0.6215\n",
      "gbt_baselines\n",
      "125/125 [==============================] - 0s 840us/step\n",
      "32/32 [==============================] - 0s 3ms/step - loss: 0.0000e+00 - accuracy: 0.6170\n",
      "gbt_tune1\n",
      "125/125 [==============================] - 0s 744us/step\n",
      "32/32 [==============================] - 0s 4ms/step - loss: 0.0000e+00 - accuracy: 0.6205\n"
     ]
    }
   ],
   "source": [
    "# A more complex, but possibly, more accurate model.\n",
    "models = {\n",
    "    'rf_baselines': tfdf.keras.RandomForestModel(),\n",
    "    'rf_tune1': tfdf.keras.RandomForestModel(hyperparameter_template=\"benchmark_rank1\"),\n",
    "    'gbt_baselines': tfdf.keras.GradientBoostedTreesModel(),\n",
    "    'gbt_tune1': tfdf.keras.GradientBoostedTreesModel(hyperparameter_template=\"benchmark_rank1\")\n",
    "    }\n",
    "\n",
    "evaluation = {}\n",
    "for key in models:\n",
    "    print(key)\n",
    "    #Evaluate: metric logsloss: BinaryCrossentropy\n",
    "    models[key].compile(metrics=[\"accuracy\"])\n",
    "    \n",
    "    #with sys_pipes():\n",
    "    models[key].fit(x=train_tf)\n",
    "    evaluation[key] = models[key].evaluate(test_tf, return_dict=True)"
   ]
  },
  {
   "cell_type": "code",
   "execution_count": 73,
   "id": "dab170a0-1953-4d8d-94af-c66d79a511fd",
   "metadata": {},
   "outputs": [
    {
     "data": {
      "text/plain": [
       "{'rf_baselines': {'loss': 0.0, 'accuracy': 0.6234999895095825},\n",
       " 'rf_tune1': {'loss': 0.0, 'accuracy': 0.6215000152587891},\n",
       " 'gbt_baselines': {'loss': 0.0, 'accuracy': 0.6169999837875366},\n",
       " 'gbt_tune1': {'loss': 0.0, 'accuracy': 0.6205000281333923}}"
      ]
     },
     "execution_count": 73,
     "metadata": {},
     "output_type": "execute_result"
    }
   ],
   "source": [
    "evaluation"
   ]
  },
  {
   "cell_type": "code",
   "execution_count": 27,
   "id": "e324edc1-09fc-4101-a1ae-3543652c82fa",
   "metadata": {},
   "outputs": [
    {
     "data": {
      "image/png": "[encoded data removed]",
      "text/plain": [
       "<Figure size 640x480 with 1 Axes>"
      ]
     },
     "metadata": {},
     "output_type": "display_data"
    }
   ],
   "source": [
    "import matplotlib.pyplot as plt\n",
    "\n",
    "logs = models['gbt_tune1'].make_inspector().training_logs()\n",
    "plt.plot([log.num_trees for log in logs], [log.evaluation.loss for log in logs])\n",
    "plt.xlabel(\"Number of trees\")\n",
    "plt.ylabel(\"Out-of-bag loss\")\n",
    "plt.show()"
   ]
  },
  {
   "cell_type": "code",
   "execution_count": 28,
   "id": "fd069393-8fdd-44eb-89c0-97e11d286bdb",
   "metadata": {},
   "outputs": [
    {
     "data": {
      "image/png": "[encoded data removed]",
      "text/plain": [
       "<Figure size 640x480 with 1 Axes>"
      ]
     },
     "metadata": {},
     "output_type": "display_data"
    }
   ],
   "source": [
    "import matplotlib.pyplot as plt\n",
    "\n",
    "logs = models['gbt_tune1'].make_inspector().training_logs()\n",
    "plt.plot([log.num_trees for log in logs], [log.evaluation.accuracy for log in logs])\n",
    "plt.xlabel(\"Number of trees\")\n",
    "plt.ylabel(\"Out-of-bag Accuracy\")\n",
    "plt.show()"
   ]
  },
  {
   "cell_type": "markdown",
   "id": "95a7f4c6-3c99-4225-8857-0b77ea9719ae",
   "metadata": {},
   "source": [
    "# Train on Entire Dataset\n"
   ]
  },
  {
   "cell_type": "code",
   "execution_count": 302,
   "id": "fbbecea1-7055-412b-aec4-e281c73e3400",
   "metadata": {},
   "outputs": [
    {
     "name": "stdout",
     "output_type": "stream",
     "text": [
      "851/851 [==============================] - 1s 1ms/step\n"
     ]
    },
    {
     "data": {
      "text/plain": [
       "<tensorflow.python.keras.callbacks.History at 0x7fe73d34a460>"
      ]
     },
     "execution_count": 302,
     "metadata": {},
     "output_type": "execute_result"
    }
   ],
   "source": [
    "train_tf = tfdf.keras.pd_dataframe_to_tf_dataset(train, label=label)\n",
    "# A more complex, but possibly, more accurate model.\n",
    "models = {\n",
    "    #'rf_baselines': tfdf.keras.RandomForestModel(),\n",
    "    #'rf_tune1': tfdf.keras.RandomForestModel(hyperparameter_template=\"benchmark_rank1\", task = tfdf.keras.Task.REGRESSION),\n",
    "    #'gbt_baselines': tfdf.keras.GradientBoostedTreesModel(task = tfdf.keras.Task.REGRESSION),\n",
    "    'gbt_tune1': tfdf.keras.GradientBoostedTreesModel(hyperparameter_template=\"benchmark_rank1\")\n",
    "    }\n",
    "\n",
    "models['gbt_tune1'].compile(metrics=[\"accuracy\"])\n",
    "models['gbt_tune1'].fit(x=train_tf)"
   ]
  },
  {
   "cell_type": "markdown",
   "id": "fab39120-06c5-42c7-a13f-1084205c04f0",
   "metadata": {},
   "source": [
    "# Predictions"
   ]
  },
  {
   "cell_type": "code",
   "execution_count": 303,
   "id": "50347100-86bd-48d4-9adf-708e994428ef",
   "metadata": {},
   "outputs": [
    {
     "data": {
      "text/plain": [
       "{'gbt_tune1': <tensorflow_decision_forests.keras.GradientBoostedTreesModel at 0x7fe71c57cc40>}"
      ]
     },
     "execution_count": 303,
     "metadata": {},
     "output_type": "execute_result"
    }
   ],
   "source": [
    "models"
   ]
  },
  {
   "cell_type": "code",
   "execution_count": 304,
   "id": "adceb97f-3098-4980-a2c1-b123288a042f",
   "metadata": {},
   "outputs": [],
   "source": [
    "scores = models['gbt_tune1'].predict(predictions)"
   ]
  },
  {
   "cell_type": "code",
   "execution_count": 305,
   "id": "ad36d0ff-3cce-457f-96aa-ef39c05a2cf5",
   "metadata": {},
   "outputs": [],
   "source": [
    "#Label classes: ['adoption', 'no outcome', 'transfer']"
   ]
  },
  {
   "cell_type": "code",
   "execution_count": 306,
   "id": "b218da44-e68f-48de-9368-0edc6ed83bba",
   "metadata": {},
   "outputs": [
    {
     "data": {
      "text/plain": [
       "array([[8.7180000e-04, 9.9736279e-01, 1.7653710e-03],\n",
       "       [2.0946354e-02, 7.1948725e-01, 2.5956640e-01],\n",
       "       [9.3595344e-01, 3.3668408e-03, 6.0679663e-02],\n",
       "       ...,\n",
       "       [3.3661008e-01, 3.5512988e-02, 6.2787688e-01],\n",
       "       [9.6797407e-01, 6.9470480e-03, 2.5078943e-02],\n",
       "       [1.5179572e-01, 8.3186381e-02, 7.6501787e-01]], dtype=float32)"
      ]
     },
     "execution_count": 306,
     "metadata": {},
     "output_type": "execute_result"
    }
   ],
   "source": [
    "scores"
   ]
  },
  {
   "cell_type": "code",
   "execution_count": 307,
   "id": "a314fc3a-ee83-4b58-83df-e5b3466ded97",
   "metadata": {},
   "outputs": [],
   "source": [
    "temp = pd.DataFrame(data=scores, columns=[\"adoption\", \"no outcome\",\"transfer\"])"
   ]
  },
  {
   "cell_type": "code",
   "execution_count": 308,
   "id": "98c36421-29f3-4b7a-bbbf-9a038c563283",
   "metadata": {},
   "outputs": [],
   "source": [
    "temp['id'] = submission.id"
   ]
  },
  {
   "cell_type": "code",
   "execution_count": 309,
   "id": "dc614a6e-efa3-4043-a410-bad44c563d20",
   "metadata": {},
   "outputs": [],
   "source": [
    "temp = temp[['id','adoption','no outcome','transfer']]"
   ]
  },
  {
   "cell_type": "code",
   "execution_count": 310,
   "id": "d070da16-3526-4c24-9095-c1b0572ae60b",
   "metadata": {},
   "outputs": [
    {
     "data": {
      "text/html": [
       "<div>\n",
       "<style scoped>\n",
       "    .dataframe tbody tr th:only-of-type {\n",
       "        vertical-align: middle;\n",
       "    }\n",
       "\n",
       "    .dataframe tbody tr th {\n",
       "        vertical-align: top;\n",
       "    }\n",
       "\n",
       "    .dataframe thead th {\n",
       "        text-align: right;\n",
       "    }\n",
       "</style>\n",
       "<table border=\"1\" class=\"dataframe\">\n",
       "  <thead>\n",
       "    <tr style=\"text-align: right;\">\n",
       "      <th></th>\n",
       "      <th>id</th>\n",
       "      <th>adoption</th>\n",
       "      <th>no outcome</th>\n",
       "      <th>transfer</th>\n",
       "    </tr>\n",
       "  </thead>\n",
       "  <tbody>\n",
       "    <tr>\n",
       "      <th>0</th>\n",
       "      <td>67473</td>\n",
       "      <td>0.000872</td>\n",
       "      <td>0.997363</td>\n",
       "      <td>0.001765</td>\n",
       "    </tr>\n",
       "    <tr>\n",
       "      <th>1</th>\n",
       "      <td>4629</td>\n",
       "      <td>0.020946</td>\n",
       "      <td>0.719487</td>\n",
       "      <td>0.259566</td>\n",
       "    </tr>\n",
       "    <tr>\n",
       "      <th>2</th>\n",
       "      <td>13914</td>\n",
       "      <td>0.935953</td>\n",
       "      <td>0.003367</td>\n",
       "      <td>0.060680</td>\n",
       "    </tr>\n",
       "    <tr>\n",
       "      <th>3</th>\n",
       "      <td>53131</td>\n",
       "      <td>0.093944</td>\n",
       "      <td>0.219680</td>\n",
       "      <td>0.686376</td>\n",
       "    </tr>\n",
       "    <tr>\n",
       "      <th>4</th>\n",
       "      <td>57800</td>\n",
       "      <td>0.585817</td>\n",
       "      <td>0.039921</td>\n",
       "      <td>0.374262</td>\n",
       "    </tr>\n",
       "    <tr>\n",
       "      <th>...</th>\n",
       "      <td>...</td>\n",
       "      <td>...</td>\n",
       "      <td>...</td>\n",
       "      <td>...</td>\n",
       "    </tr>\n",
       "    <tr>\n",
       "      <th>23312</th>\n",
       "      <td>9347</td>\n",
       "      <td>0.903591</td>\n",
       "      <td>0.038790</td>\n",
       "      <td>0.057620</td>\n",
       "    </tr>\n",
       "    <tr>\n",
       "      <th>23313</th>\n",
       "      <td>3781</td>\n",
       "      <td>0.004891</td>\n",
       "      <td>0.022325</td>\n",
       "      <td>0.972784</td>\n",
       "    </tr>\n",
       "    <tr>\n",
       "      <th>23314</th>\n",
       "      <td>74693</td>\n",
       "      <td>0.336610</td>\n",
       "      <td>0.035513</td>\n",
       "      <td>0.627877</td>\n",
       "    </tr>\n",
       "    <tr>\n",
       "      <th>23315</th>\n",
       "      <td>44987</td>\n",
       "      <td>0.967974</td>\n",
       "      <td>0.006947</td>\n",
       "      <td>0.025079</td>\n",
       "    </tr>\n",
       "    <tr>\n",
       "      <th>23316</th>\n",
       "      <td>30993</td>\n",
       "      <td>0.151796</td>\n",
       "      <td>0.083186</td>\n",
       "      <td>0.765018</td>\n",
       "    </tr>\n",
       "  </tbody>\n",
       "</table>\n",
       "<p>23317 rows × 4 columns</p>\n",
       "</div>"
      ],
      "text/plain": [
       "          id  adoption  no outcome  transfer\n",
       "0      67473  0.000872    0.997363  0.001765\n",
       "1       4629  0.020946    0.719487  0.259566\n",
       "2      13914  0.935953    0.003367  0.060680\n",
       "3      53131  0.093944    0.219680  0.686376\n",
       "4      57800  0.585817    0.039921  0.374262\n",
       "...      ...       ...         ...       ...\n",
       "23312   9347  0.903591    0.038790  0.057620\n",
       "23313   3781  0.004891    0.022325  0.972784\n",
       "23314  74693  0.336610    0.035513  0.627877\n",
       "23315  44987  0.967974    0.006947  0.025079\n",
       "23316  30993  0.151796    0.083186  0.765018\n",
       "\n",
       "[23317 rows x 4 columns]"
      ]
     },
     "execution_count": 310,
     "metadata": {},
     "output_type": "execute_result"
    }
   ],
   "source": [
    "temp"
   ]
  },
  {
   "cell_type": "code",
   "execution_count": 311,
   "id": "6d2d6579-b6ce-4a74-b65e-6f03f2fe5312",
   "metadata": {},
   "outputs": [],
   "source": [
    "temp['no outcome'] = np.where(temp['no outcome'] > .96, 1, temp['no outcome'])\n",
    "temp['adoption'] = np.where(temp['no outcome'] == 1, 0, temp['adoption'])\n",
    "temp['transfer'] = np.where(temp['no outcome'] == 1, 0, temp['transfer'])"
   ]
  },
  {
   "cell_type": "code",
   "execution_count": 312,
   "id": "7973d6cd-447d-4cba-be2f-087ed687c8be",
   "metadata": {},
   "outputs": [],
   "source": [
    "temp['adoption'] = np.where(temp['adoption'] > .96, 1, temp['adoption'])\n",
    "temp['no outcome'] = np.where(temp['adoption'] == 1, 0, temp['no outcome'])\n",
    "temp['transfer'] = np.where(temp['adoption'] == 1, 0, temp['transfer'])"
   ]
  },
  {
   "cell_type": "code",
   "execution_count": 313,
   "id": "8ad64b7e-309a-4832-a89e-f43b6dbb3492",
   "metadata": {},
   "outputs": [],
   "source": [
    "temp['transfer'] = np.where(temp['transfer'] > .96, 1, temp['transfer'])\n",
    "temp['adoption'] = np.where(temp['transfer'] == 1, 0, temp['adoption'])\n",
    "temp['no outcome'] = np.where(temp['transfer'] == 1, 0, temp['no outcome'])"
   ]
  },
  {
   "cell_type": "code",
   "execution_count": 314,
   "id": "af3ef058-b6e7-4ad4-8bc9-d745f933278e",
   "metadata": {},
   "outputs": [],
   "source": [
    "temp.to_csv('submission.csv', index=False)"
   ]
  },
  {
   "cell_type": "code",
   "execution_count": 316,
   "id": "5382d4c7-0a60-4fa2-ba23-3920bc1000bd",
   "metadata": {},
   "outputs": [
    {
     "name": "stdout",
     "output_type": "stream",
     "text": [
      "Warning: Your Kaggle API key is readable by other users on this system! To fix this, you can run 'chmod 600 /home/neil/kaggle/kaggle.json'\n",
      "Warning: Looks like you're using an outdated API Version, please consider updating (server 1.5.12 / client 1.5.8)\n",
      "100%|█████████████████████████████████████████| 779k/779k [00:00<00:00, 850kB/s]\n",
      "400 - Bad Request\n"
     ]
    }
   ],
   "source": [
    "!kaggle competitions submit -c sliced-s01e10-playoffs-2 -f submission.csv -m \"Best With Names with outcome updates\""
   ]
  },
  {
   "cell_type": "code",
   "execution_count": null,
   "id": "bb8bc1b2-ca02-4634-ab9d-3d67d8d2fa63",
   "metadata": {},
   "outputs": [],
   "source": []
  }
 ],
 "metadata": {
  "kernelspec": {
   "display_name": "ds_py_3.8",
   "language": "python",
   "name": "ds_py_3.8"
  },
  "language_info": {
   "codemirror_mode": {
    "name": "ipython",
    "version": 3
   },
   "file_extension": ".py",
   "mimetype": "text/x-python",
   "name": "python",
   "nbconvert_exporter": "python",
   "pygments_lexer": "ipython3",
   "version": "3.8.10"
  }
 },
 "nbformat": 4,
 "nbformat_minor": 5
}
