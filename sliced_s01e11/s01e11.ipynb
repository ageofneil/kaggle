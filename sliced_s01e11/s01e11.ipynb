{
 "cells": [
  {
   "cell_type": "code",
   "execution_count": 282,
   "id": "d9ec98b6-955d-4888-89c2-fbd88b4e5665",
   "metadata": {},
   "outputs": [],
   "source": [
    "# Standard stack\n",
    "import datetime\n",
    "import pandas as pd\n",
    "import numpy as np\n",
    "from datetime import date\n",
    "import re\n",
    "\n",
    "# Visualization\n",
    "from pandas_profiling import ProfileReport\n",
    "#import plotly.express as px\n",
    "import matplotlib.pyplot as plt\n",
    "import seaborn as sns\n",
    "\n",
    "# Modeling\n",
    "import tensorflow as tf\n",
    "import tensorflow_decision_forests as tfdf\n",
    "try:\n",
    "    from wurlitzer import sys_pipes\n",
    "except:\n",
    "    from colabtools.googlelog import CaptureLog as sys_pipes\n",
    "\n",
    "# Scikit-learn packages\n",
    "from sklearn import metrics\n",
    "from sklearn.model_selection import train_test_split\n",
    "from sklearn.impute import SimpleImputer\n",
    "from sklearn.pipeline import Pipeline\n",
    "from sklearn.preprocessing import StandardScaler, OneHotEncoder, FunctionTransformer, OrdinalEncoder\n",
    "from sklearn.compose import ColumnTransformer\n",
    "from sklearn.model_selection import KFold\n",
    "\n",
    "# display\n",
    "from IPython.core.magic import register_line_magic\n",
    "from IPython.display import Javascript\n",
    "\n",
    "# no warnings\n",
    "import warnings\n",
    "warnings.filterwarnings('ignore')"
   ]
  },
  {
   "cell_type": "code",
   "execution_count": 283,
   "id": "3b7ee3c1-a9f5-4393-9193-11c0ab4718ce",
   "metadata": {},
   "outputs": [],
   "source": [
    "TRAIN_PATH = \"data/train.csv\"\n",
    "TEST_PATH = \"data/test.csv\"\n",
    "label = \"priceRange\""
   ]
  },
  {
   "cell_type": "code",
   "execution_count": 284,
   "id": "c83bb836-8c49-4923-8ba1-1f29d3c807a0",
   "metadata": {},
   "outputs": [],
   "source": [
    "train = pd.read_csv(TRAIN_PATH)\n",
    "test = pd.read_csv(TEST_PATH)\n",
    "submission = pd.read_csv(TEST_PATH)"
   ]
  },
  {
   "cell_type": "code",
   "execution_count": 285,
   "id": "bd497029-f63d-40d4-bfa9-cef8821852d1",
   "metadata": {},
   "outputs": [
    {
     "data": {
      "text/html": [
       "<div>\n",
       "<style scoped>\n",
       "    .dataframe tbody tr th:only-of-type {\n",
       "        vertical-align: middle;\n",
       "    }\n",
       "\n",
       "    .dataframe tbody tr th {\n",
       "        vertical-align: top;\n",
       "    }\n",
       "\n",
       "    .dataframe thead th {\n",
       "        text-align: right;\n",
       "    }\n",
       "</style>\n",
       "<table border=\"1\" class=\"dataframe\">\n",
       "  <thead>\n",
       "    <tr style=\"text-align: right;\">\n",
       "      <th></th>\n",
       "      <th>uid</th>\n",
       "      <th>city</th>\n",
       "      <th>description</th>\n",
       "      <th>homeType</th>\n",
       "      <th>latitude</th>\n",
       "      <th>longitude</th>\n",
       "      <th>garageSpaces</th>\n",
       "      <th>hasSpa</th>\n",
       "      <th>yearBuilt</th>\n",
       "      <th>numOfPatioAndPorchFeatures</th>\n",
       "      <th>lotSizeSqFt</th>\n",
       "      <th>avgSchoolRating</th>\n",
       "      <th>MedianStudentsPerTeacher</th>\n",
       "      <th>numOfBathrooms</th>\n",
       "      <th>numOfBedrooms</th>\n",
       "      <th>priceRange</th>\n",
       "    </tr>\n",
       "  </thead>\n",
       "  <tbody>\n",
       "    <tr>\n",
       "      <th>0</th>\n",
       "      <td>1748</td>\n",
       "      <td>austin</td>\n",
       "      <td>MULTIPLE OFFERS submit best &amp; final to Agent b...</td>\n",
       "      <td>Single Family</td>\n",
       "      <td>30.380089</td>\n",
       "      <td>-97.800621</td>\n",
       "      <td>0</td>\n",
       "      <td>False</td>\n",
       "      <td>1988</td>\n",
       "      <td>0</td>\n",
       "      <td>102366.0</td>\n",
       "      <td>7.0</td>\n",
       "      <td>17</td>\n",
       "      <td>4.0</td>\n",
       "      <td>4</td>\n",
       "      <td>650000+</td>\n",
       "    </tr>\n",
       "  </tbody>\n",
       "</table>\n",
       "</div>"
      ],
      "text/plain": [
       "    uid    city                                        description  \\\n",
       "0  1748  austin  MULTIPLE OFFERS submit best & final to Agent b...   \n",
       "\n",
       "        homeType   latitude  longitude  garageSpaces  hasSpa  yearBuilt  \\\n",
       "0  Single Family  30.380089 -97.800621             0   False       1988   \n",
       "\n",
       "   numOfPatioAndPorchFeatures  lotSizeSqFt  avgSchoolRating  \\\n",
       "0                           0     102366.0              7.0   \n",
       "\n",
       "   MedianStudentsPerTeacher  numOfBathrooms  numOfBedrooms priceRange  \n",
       "0                        17             4.0              4    650000+  "
      ]
     },
     "execution_count": 285,
     "metadata": {},
     "output_type": "execute_result"
    }
   ],
   "source": [
    "train.head(1)"
   ]
  },
  {
   "cell_type": "code",
   "execution_count": 286,
   "id": "64944529-794a-49ec-bb88-656dd64e9670",
   "metadata": {},
   "outputs": [
    {
     "data": {
      "text/plain": [
       "(10000, 16)"
      ]
     },
     "execution_count": 286,
     "metadata": {},
     "output_type": "execute_result"
    }
   ],
   "source": [
    "train.shape"
   ]
  },
  {
   "cell_type": "code",
   "execution_count": 287,
   "id": "e7e36abc-b948-455b-978a-7c8d021ecad5",
   "metadata": {},
   "outputs": [
    {
     "name": "stdout",
     "output_type": "stream",
     "text": [
      "Label classes: ['650000+', '350000-450000', '0-250000', '450000-650000', '250000-350000']\n"
     ]
    }
   ],
   "source": [
    "classes = train[label].unique().tolist()\n",
    "print(f\"Label classes: {classes}\")\n",
    "\n",
    "train[label] = train[label].map(classes.index)"
   ]
  },
  {
   "cell_type": "code",
   "execution_count": 288,
   "id": "ecf94309-219d-43e8-9925-2fb1fa647889",
   "metadata": {},
   "outputs": [
    {
     "data": {
      "text/plain": [
       "Index(['uid', 'city', 'description', 'homeType', 'latitude', 'longitude',\n",
       "       'garageSpaces', 'hasSpa', 'yearBuilt', 'numOfPatioAndPorchFeatures',\n",
       "       'lotSizeSqFt', 'avgSchoolRating', 'MedianStudentsPerTeacher',\n",
       "       'numOfBathrooms', 'numOfBedrooms', 'priceRange'],\n",
       "      dtype='object')"
      ]
     },
     "execution_count": 288,
     "metadata": {},
     "output_type": "execute_result"
    }
   ],
   "source": [
    "train.columns"
   ]
  },
  {
   "cell_type": "code",
   "execution_count": 289,
   "id": "b3edc4c9-c46a-4b43-be8a-6c971e9019dd",
   "metadata": {},
   "outputs": [
    {
     "data": {
      "text/plain": [
       "Index(['uid', 'city', 'description', 'homeType', 'latitude', 'longitude',\n",
       "       'garageSpaces', 'hasSpa', 'yearBuilt', 'numOfPatioAndPorchFeatures',\n",
       "       'lotSizeSqFt', 'avgSchoolRating', 'MedianStudentsPerTeacher',\n",
       "       'numOfBathrooms', 'numOfBedrooms'],\n",
       "      dtype='object')"
      ]
     },
     "execution_count": 289,
     "metadata": {},
     "output_type": "execute_result"
    }
   ],
   "source": [
    "test.columns"
   ]
  },
  {
   "cell_type": "markdown",
   "id": "0da12107-0cab-41c8-a904-1c0f6495ac35",
   "metadata": {},
   "source": [
    "# Train"
   ]
  },
  {
   "cell_type": "code",
   "execution_count": 290,
   "id": "b8638e6a-9212-4e45-8029-3aed879108fa",
   "metadata": {},
   "outputs": [
    {
     "data": {
      "text/plain": [
       "0       MULTIPLE OFFERS submit best & final to Agent b...\n",
       "1       4644 Hoffman Dr, Austin, TX 78749 is a single ...\n",
       "2       6804 Canal St, Austin, TX 78741 is a single fa...\n",
       "3       Beautiful large lot with established trees. Lo...\n",
       "4       Stunning NW Hills designer remodel by Cedar an...\n",
       "                              ...                        \n",
       "9995    Updated Great Hills Opportunity! Large corner ...\n",
       "9996    Adorable 3/2 in the heart of South Austin! Sit...\n",
       "9997    7322 Gaines Mill Ln, Austin, TX 78745 is a sin...\n",
       "9998    5213 Doe Valley Ln, Austin, TX 78759 is a sing...\n",
       "9999    Beautiful single-story home with open floor pl...\n",
       "Name: description, Length: 10000, dtype: object"
      ]
     },
     "execution_count": 290,
     "metadata": {},
     "output_type": "execute_result"
    }
   ],
   "source": [
    "train.description"
   ]
  },
  {
   "cell_type": "code",
   "execution_count": 291,
   "id": "8010c120-c6cc-46ba-84cb-96bbbfff7f79",
   "metadata": {},
   "outputs": [],
   "source": [
    "def inpute_missing(dataset):\n",
    "    \"\"\" \n",
    "    Edit this to fix nulls. Default version replaces all int/float with 0\n",
    "    \"\"\"\n",
    "    for col in dataset.columns:\n",
    "        if dataset[col].dtype not in [str, object]:\n",
    "            dataset[col] = dataset[col].fillna(dataset[col].mean())\n",
    "        elif col == 'name':\n",
    "             dataset[col] = 'No Name'\n",
    "    return dataset\n",
    "\n",
    "train = inpute_missing(train)\n",
    "test = inpute_missing(test)"
   ]
  },
  {
   "cell_type": "code",
   "execution_count": 292,
   "id": "254189c3-4604-4a07-a4a4-11482ade9f39",
   "metadata": {},
   "outputs": [],
   "source": [
    "def nlp_transforms(dataset):\n",
    "    \"\"\" \n",
    "    NLP tranforms here. Default, None...\n",
    "    \"\"\"\n",
    "    \n",
    "    # lower case\n",
    "    dataset['description'] = dataset['description'].str.lower()\n",
    "    \n",
    "    #remove punctuations\n",
    "    train[\"description\"] = train['description'].str.replace('[^\\w\\s]','')\n",
    "    \n",
    "    return dataset\n",
    "\n",
    "train = nlp_transforms(train)\n",
    "test = nlp_transforms(test)"
   ]
  },
  {
   "cell_type": "code",
   "execution_count": 293,
   "id": "74d3120c-fa07-45a4-a94a-4ea91c549be3",
   "metadata": {},
   "outputs": [
    {
     "name": "stdout",
     "output_type": "stream",
     "text": [
      "<class 'pandas.core.frame.DataFrame'>\n",
      "RangeIndex: 10000 entries, 0 to 9999\n",
      "Data columns (total 16 columns):\n",
      " #   Column                      Non-Null Count  Dtype  \n",
      "---  ------                      --------------  -----  \n",
      " 0   uid                         10000 non-null  int64  \n",
      " 1   city                        10000 non-null  object \n",
      " 2   description                 10000 non-null  object \n",
      " 3   homeType                    10000 non-null  object \n",
      " 4   latitude                    10000 non-null  float64\n",
      " 5   longitude                   10000 non-null  float64\n",
      " 6   garageSpaces                10000 non-null  int64  \n",
      " 7   hasSpa                      10000 non-null  bool   \n",
      " 8   yearBuilt                   10000 non-null  int64  \n",
      " 9   numOfPatioAndPorchFeatures  10000 non-null  int64  \n",
      " 10  lotSizeSqFt                 10000 non-null  float64\n",
      " 11  avgSchoolRating             10000 non-null  float64\n",
      " 12  MedianStudentsPerTeacher    10000 non-null  int64  \n",
      " 13  numOfBathrooms              10000 non-null  float64\n",
      " 14  numOfBedrooms               10000 non-null  int64  \n",
      " 15  priceRange                  10000 non-null  int64  \n",
      "dtypes: bool(1), float64(5), int64(7), object(3)\n",
      "memory usage: 1.2+ MB\n"
     ]
    }
   ],
   "source": [
    "train.info()"
   ]
  },
  {
   "cell_type": "code",
   "execution_count": 294,
   "id": "82eaa412-e826-4252-b354-a568a7f57d57",
   "metadata": {},
   "outputs": [],
   "source": [
    "def computation_transforms(dataset):\n",
    "    \"\"\" \n",
    "    New Feature Engineering. Default, None...\n",
    "    \"\"\"\n",
    "    dataset['hasSpa'] = np.where(dataset['hasSpa'] == True, \"yes\", \"no\")\n",
    "    return dataset\n",
    "\n",
    "train = computation_transforms(train)\n",
    "test = computation_transforms(test)"
   ]
  },
  {
   "cell_type": "markdown",
   "id": "330a7f82-b726-4737-89e8-40989e74f42e",
   "metadata": {},
   "source": [
    "# Train"
   ]
  },
  {
   "cell_type": "code",
   "execution_count": 295,
   "id": "7197d2ca-976e-409c-a030-93d0b9048854",
   "metadata": {},
   "outputs": [
    {
     "data": {
      "text/html": [
       "<div>\n",
       "<style scoped>\n",
       "    .dataframe tbody tr th:only-of-type {\n",
       "        vertical-align: middle;\n",
       "    }\n",
       "\n",
       "    .dataframe tbody tr th {\n",
       "        vertical-align: top;\n",
       "    }\n",
       "\n",
       "    .dataframe thead th {\n",
       "        text-align: right;\n",
       "    }\n",
       "</style>\n",
       "<table border=\"1\" class=\"dataframe\">\n",
       "  <thead>\n",
       "    <tr style=\"text-align: right;\">\n",
       "      <th></th>\n",
       "      <th>uid</th>\n",
       "      <th>city</th>\n",
       "      <th>description</th>\n",
       "      <th>homeType</th>\n",
       "      <th>latitude</th>\n",
       "      <th>longitude</th>\n",
       "      <th>garageSpaces</th>\n",
       "      <th>hasSpa</th>\n",
       "      <th>yearBuilt</th>\n",
       "      <th>numOfPatioAndPorchFeatures</th>\n",
       "      <th>lotSizeSqFt</th>\n",
       "      <th>avgSchoolRating</th>\n",
       "      <th>MedianStudentsPerTeacher</th>\n",
       "      <th>numOfBathrooms</th>\n",
       "      <th>numOfBedrooms</th>\n",
       "      <th>priceRange</th>\n",
       "    </tr>\n",
       "  </thead>\n",
       "  <tbody>\n",
       "    <tr>\n",
       "      <th>0</th>\n",
       "      <td>1748</td>\n",
       "      <td>austin</td>\n",
       "      <td>multiple offers submit best  final to agent by...</td>\n",
       "      <td>Single Family</td>\n",
       "      <td>30.380089</td>\n",
       "      <td>-97.800621</td>\n",
       "      <td>0</td>\n",
       "      <td>0</td>\n",
       "      <td>1988</td>\n",
       "      <td>0</td>\n",
       "      <td>102366.0</td>\n",
       "      <td>7.0</td>\n",
       "      <td>17</td>\n",
       "      <td>4.0</td>\n",
       "      <td>4</td>\n",
       "      <td>0</td>\n",
       "    </tr>\n",
       "  </tbody>\n",
       "</table>\n",
       "</div>"
      ],
      "text/plain": [
       "    uid    city                                        description  \\\n",
       "0  1748  austin  multiple offers submit best  final to agent by...   \n",
       "\n",
       "        homeType   latitude  longitude  garageSpaces  hasSpa  yearBuilt  \\\n",
       "0  Single Family  30.380089 -97.800621             0       0       1988   \n",
       "\n",
       "   numOfPatioAndPorchFeatures  lotSizeSqFt  avgSchoolRating  \\\n",
       "0                           0     102366.0              7.0   \n",
       "\n",
       "   MedianStudentsPerTeacher  numOfBathrooms  numOfBedrooms  priceRange  \n",
       "0                        17             4.0              4           0  "
      ]
     },
     "execution_count": 295,
     "metadata": {},
     "output_type": "execute_result"
    }
   ],
   "source": [
    "train.head(1)"
   ]
  },
  {
   "cell_type": "code",
   "execution_count": 296,
   "id": "8205a972-10ca-4a65-ab27-40a3769917b2",
   "metadata": {},
   "outputs": [
    {
     "data": {
      "text/plain": [
       "Index(['uid', 'city', 'description', 'homeType', 'latitude', 'longitude',\n",
       "       'garageSpaces', 'hasSpa', 'yearBuilt', 'numOfPatioAndPorchFeatures',\n",
       "       'lotSizeSqFt', 'avgSchoolRating', 'MedianStudentsPerTeacher',\n",
       "       'numOfBathrooms', 'numOfBedrooms', 'priceRange'],\n",
       "      dtype='object')"
      ]
     },
     "execution_count": 296,
     "metadata": {},
     "output_type": "execute_result"
    }
   ],
   "source": [
    "train.columns"
   ]
  },
  {
   "cell_type": "code",
   "execution_count": 297,
   "id": "d9e5df3d-71cf-479f-a63c-d0555292dcd0",
   "metadata": {},
   "outputs": [],
   "source": [
    "to_drop = ['uid']\n",
    "train = train.drop(to_drop,axis=1)\n",
    "test = test.drop(to_drop,axis=1)"
   ]
  },
  {
   "cell_type": "code",
   "execution_count": 298,
   "id": "08e2ee08-1448-455a-85a8-8769dba2852f",
   "metadata": {},
   "outputs": [],
   "source": [
    "columns = train.columns.tolist()"
   ]
  },
  {
   "cell_type": "code",
   "execution_count": 299,
   "id": "4a976289-d045-4b08-8983-d09d3ecfa938",
   "metadata": {},
   "outputs": [
    {
     "data": {
      "text/plain": [
       "['city',\n",
       " 'description',\n",
       " 'homeType',\n",
       " 'latitude',\n",
       " 'longitude',\n",
       " 'garageSpaces',\n",
       " 'hasSpa',\n",
       " 'yearBuilt',\n",
       " 'numOfPatioAndPorchFeatures',\n",
       " 'lotSizeSqFt',\n",
       " 'avgSchoolRating',\n",
       " 'MedianStudentsPerTeacher',\n",
       " 'numOfBathrooms',\n",
       " 'numOfBedrooms',\n",
       " 'priceRange']"
      ]
     },
     "execution_count": 299,
     "metadata": {},
     "output_type": "execute_result"
    }
   ],
   "source": [
    "columns"
   ]
  },
  {
   "cell_type": "code",
   "execution_count": 347,
   "id": "03a123cc-5198-455d-ab9e-4385de6c8e92",
   "metadata": {},
   "outputs": [],
   "source": [
    "def prepare_dataset(data):\n",
    "    \n",
    "    features = {#\"city\" : data[\"city\"],\n",
    "                #\"description\" : tf.strings.split(data[\"description\"]),\n",
    "                #\"homeType\" : data[\"homeType\"],\n",
    "                \"latitude\" : data[\"latitude\"],\n",
    "                \"longitude\" : data[\"longitude\"],\n",
    "                #\"garageSpaces\" : data[\"garageSpaces\"],\n",
    "                #\"hasSpa\" : data[\"hasSpa\"],\n",
    "                #\"yearBuilt\" : data[\"yearBuilt\"],\n",
    "                #\"numOfPatioAndPorchFeatures\" : data[\"numOfPatioAndPorchFeatures\"],\n",
    "                \"lotSizeSqFt\" : data[\"lotSizeSqFt\"],\n",
    "                #\"avgSchoolRating\" : data[\"avgSchoolRating\"],\n",
    "                #\"MedianStudentsPerTeacher\" : data[\"MedianStudentsPerTeacher\"],\n",
    "                \"numOfBathrooms\" : data[\"numOfBathrooms\"],\n",
    "                \"numOfBedrooms\" : data[\"numOfBedrooms\"]\n",
    "               }\n",
    "    \n",
    "    try:\n",
    "        label = data['priceRange']\n",
    "        output = features,label\n",
    "    except:\n",
    "        output = features\n",
    "    \n",
    "    return output"
   ]
  },
  {
   "cell_type": "code",
   "execution_count": 339,
   "id": "f864ff05-cfc3-481e-826e-8ab6f0451c56",
   "metadata": {},
   "outputs": [],
   "source": [
    "X_train, X_test = train_test_split(train,test_size=0.2, random_state=42)\n",
    "\n",
    "columns = train.columns.tolist()\n",
    "#columns = ['age','outcome_type']\n",
    "train_dataframe = X_train[columns]\n",
    "train_dataframe = train_dataframe.to_dict('list')\n",
    "train_dataset = tf.data.Dataset.from_tensor_slices(train_dataframe)\n",
    "\n",
    "test_dataframe = X_test[columns]\n",
    "test_dataframe = test_dataframe.to_dict('list')\n",
    "test_dataset = tf.data.Dataset.from_tensor_slices(test_dataframe)\n",
    "\n",
    "\n",
    "\n",
    "train_ds = train_dataset.batch(64).map(prepare_dataset)\n",
    "test_ds = test_dataset.batch(64).map(prepare_dataset)"
   ]
  },
  {
   "cell_type": "code",
   "execution_count": 340,
   "id": "e1b998cf-2a30-44e9-8b9d-59301866ca5e",
   "metadata": {},
   "outputs": [],
   "source": [
    "#train.head()"
   ]
  },
  {
   "cell_type": "code",
   "execution_count": 342,
   "id": "a5729d68-b42d-4d5c-8997-49c2562c5e89",
   "metadata": {},
   "outputs": [
    {
     "name": "stdout",
     "output_type": "stream",
     "text": [
      "125/125 [==============================] - 0s 579us/step\n"
     ]
    },
    {
     "data": {
      "text/plain": [
       "<tensorflow.python.keras.callbacks.History at 0x7fa81c1e6130>"
      ]
     },
     "execution_count": 342,
     "metadata": {},
     "output_type": "execute_result"
    }
   ],
   "source": [
    "model_1 = tfdf.keras.GradientBoostedTreesModel(hyperparameter_template=\"benchmark_rank1\")\n",
    "model_1.compile(metrics=[\"accuracy\"])\n",
    "model_1.fit(x=train_ds)"
   ]
  },
  {
   "cell_type": "code",
   "execution_count": 343,
   "id": "1d8fa446-3828-46ba-8768-ad0c96e5947a",
   "metadata": {},
   "outputs": [],
   "source": [
    "#logs"
   ]
  },
  {
   "cell_type": "code",
   "execution_count": 345,
   "id": "525989a7-6e6d-49d0-b14b-6687bf37ca7a",
   "metadata": {},
   "outputs": [
    {
     "data": {
      "text/plain": [
       "Evaluation(num_examples=None, accuracy=0.3562341034412384, loss=1.5625983476638794, rmse=None, ndcg=None, aucs=None)"
      ]
     },
     "execution_count": 345,
     "metadata": {},
     "output_type": "execute_result"
    }
   ],
   "source": [
    "model_1.make_inspector().evaluation()"
   ]
  },
  {
   "cell_type": "code",
   "execution_count": 346,
   "id": "7d1610a8-911a-43c5-ae23-2d176d7947b5",
   "metadata": {},
   "outputs": [
    {
     "name": "stdout",
     "output_type": "stream",
     "text": [
      "32/32 [==============================] - 0s 8ms/step - loss: 0.0000e+00 - accuracy: 0.4445\n",
      "BinaryCrossentropyloss: 0.0\n",
      "Accuracy: 0.44449999928474426\n"
     ]
    }
   ],
   "source": [
    "# only breed\n",
    "evaluation = model_1.evaluate(test_ds)\n",
    "\n",
    "print(f\"BinaryCrossentropyloss: {evaluation[0]}\")\n",
    "print(f\"Accuracy: {evaluation[1]}\")"
   ]
  },
  {
   "cell_type": "code",
   "execution_count": 277,
   "id": "e8548cba-cf0d-4341-abff-8e73aff8b281",
   "metadata": {},
   "outputs": [],
   "source": [
    "#model_1.summary()"
   ]
  },
  {
   "cell_type": "code",
   "execution_count": 278,
   "id": "376e7d17-2cb3-47ba-b330-894045ab0943",
   "metadata": {},
   "outputs": [],
   "source": [
    "#tfdf.model_plotter.plot_model_in_colab(model_1, tree_idx=0, max_depth=2)"
   ]
  },
  {
   "cell_type": "code",
   "execution_count": 130,
   "id": "ecb71adb-dd7b-43cc-8fd3-7989dba6f3c9",
   "metadata": {},
   "outputs": [],
   "source": [
    "#logs loss"
   ]
  },
  {
   "cell_type": "code",
   "execution_count": 240,
   "id": "3d72059c-2567-49aa-ba43-e25595b75221",
   "metadata": {},
   "outputs": [
    {
     "data": {
      "image/png": "[encoded data removed]",
      "text/plain": [
       "<Figure size 640x480 with 1 Axes>"
      ]
     },
     "metadata": {},
     "output_type": "display_data"
    }
   ],
   "source": [
    "import matplotlib.pyplot as plt\n",
    "\n",
    "logs = model_1.make_inspector().training_logs()\n",
    "plt.plot([log.num_trees for log in logs], [log.evaluation.accuracy for log in logs])\n",
    "plt.xlabel(\"Number of trees\")\n",
    "plt.ylabel(\"Out-of-bag accuracy\")\n",
    "plt.show()"
   ]
  },
  {
   "cell_type": "code",
   "execution_count": 241,
   "id": "04f3ae5a-9df1-4397-af29-bb82d10a4fb2",
   "metadata": {},
   "outputs": [
    {
     "data": {
      "image/png": "[encoded data removed]",
      "text/plain": [
       "<Figure size 640x480 with 1 Axes>"
      ]
     },
     "metadata": {},
     "output_type": "display_data"
    }
   ],
   "source": [
    "import matplotlib.pyplot as plt\n",
    "\n",
    "logs = model_1.make_inspector().training_logs()\n",
    "plt.plot([log.num_trees for log in logs], [log.evaluation.loss for log in logs])\n",
    "plt.xlabel(\"Number of trees\")\n",
    "plt.ylabel(\"Out-of-bag loss\")\n",
    "plt.show()"
   ]
  },
  {
   "cell_type": "code",
   "execution_count": 242,
   "id": "4d15d61a-356d-425b-972e-5e1a48dcdffd",
   "metadata": {},
   "outputs": [
    {
     "data": {
      "text/plain": [
       "<MapDataset shapes: ({city: (None,), homeType: (None,), latitude: (None,), longitude: (None,), garageSpaces: (None,), hasSpa: (None,), yearBuilt: (None,), numOfPatioAndPorchFeatures: (None,), lotSizeSqFt: (None,), avgSchoolRating: (None,), MedianStudentsPerTeacher: (None,), numOfBathrooms: (None,), numOfBedrooms: (None,)}, (None,)), types: ({city: tf.string, homeType: tf.string, latitude: tf.float32, longitude: tf.float32, garageSpaces: tf.int32, hasSpa: tf.int32, yearBuilt: tf.int32, numOfPatioAndPorchFeatures: tf.int32, lotSizeSqFt: tf.float32, avgSchoolRating: tf.float32, MedianStudentsPerTeacher: tf.int32, numOfBathrooms: tf.float32, numOfBedrooms: tf.int32}, tf.int32)>"
      ]
     },
     "execution_count": 242,
     "metadata": {},
     "output_type": "execute_result"
    }
   ],
   "source": [
    "test_ds"
   ]
  },
  {
   "cell_type": "code",
   "execution_count": 243,
   "id": "cb07a2d8-ba81-4a4a-950f-4d13304c8929",
   "metadata": {},
   "outputs": [
    {
     "data": {
      "text/plain": [
       "<MapDataset shapes: ({city: (None,), homeType: (None,), latitude: (None,), longitude: (None,), garageSpaces: (None,), hasSpa: (None,), yearBuilt: (None,), numOfPatioAndPorchFeatures: (None,), lotSizeSqFt: (None,), avgSchoolRating: (None,), MedianStudentsPerTeacher: (None,), numOfBathrooms: (None,), numOfBedrooms: (None,)}, (None,)), types: ({city: tf.string, homeType: tf.string, latitude: tf.float32, longitude: tf.float32, garageSpaces: tf.int32, hasSpa: tf.int32, yearBuilt: tf.int32, numOfPatioAndPorchFeatures: tf.int32, lotSizeSqFt: tf.float32, avgSchoolRating: tf.float32, MedianStudentsPerTeacher: tf.int32, numOfBathrooms: tf.float32, numOfBedrooms: tf.int32}, tf.int32)>"
      ]
     },
     "execution_count": 243,
     "metadata": {},
     "output_type": "execute_result"
    }
   ],
   "source": [
    "train_ds"
   ]
  },
  {
   "cell_type": "code",
   "execution_count": 244,
   "id": "0a798660-5cf7-4d48-a2a3-84f1311cf858",
   "metadata": {},
   "outputs": [],
   "source": [
    "# all features\n",
    "#model_1.evaluate(test_ds)\n",
    "\n",
    "#print(f\"BinaryCrossentropyloss: {evaluation[0]}\")\n",
    "#print(f\"Accuracy: {evaluation[1]}\")\n"
   ]
  },
  {
   "cell_type": "code",
   "execution_count": 245,
   "id": "3f94e7d9-5934-47ce-a06a-baf5d5e889ef",
   "metadata": {},
   "outputs": [],
   "source": [
    "#model_1.summary()"
   ]
  },
  {
   "cell_type": "code",
   "execution_count": null,
   "id": "fab6a39a-f847-4add-85d9-06b57be461c9",
   "metadata": {},
   "outputs": [],
   "source": []
  },
  {
   "cell_type": "code",
   "execution_count": 263,
   "id": "41b16c64-7c9c-4be6-9925-a7bc763bf0a5",
   "metadata": {},
   "outputs": [],
   "source": [
    "# only breed\n",
    "#evaluation = model_1.evaluate(test_ds)\n",
    "\n",
    "#print(f\"BinaryCrossentropyloss: {evaluation[0]}\")\n",
    "#print(f\"Accuracy: {evaluation[1]}\")"
   ]
  },
  {
   "cell_type": "code",
   "execution_count": 264,
   "id": "dab170a0-1953-4d8d-94af-c66d79a511fd",
   "metadata": {},
   "outputs": [
    {
     "data": {
      "text/plain": [
       "0.0"
      ]
     },
     "execution_count": 264,
     "metadata": {},
     "output_type": "execute_result"
    }
   ],
   "source": [
    "## Old Model\n",
    "evaluation"
   ]
  },
  {
   "cell_type": "code",
   "execution_count": 265,
   "id": "dd8fa7a4-7e05-4406-9735-4f375e351765",
   "metadata": {},
   "outputs": [
    {
     "data": {
      "text/plain": [
       "0.0"
      ]
     },
     "execution_count": 265,
     "metadata": {},
     "output_type": "execute_result"
    }
   ],
   "source": [
    "evaluation"
   ]
  },
  {
   "cell_type": "markdown",
   "id": "95a7f4c6-3c99-4225-8857-0b77ea9719ae",
   "metadata": {},
   "source": [
    "# Train on Entire Dataset\n"
   ]
  },
  {
   "cell_type": "code",
   "execution_count": 317,
   "id": "fbbecea1-7055-412b-aec4-e281c73e3400",
   "metadata": {},
   "outputs": [
    {
     "name": "stdout",
     "output_type": "stream",
     "text": [
      "125/125 [==============================] - 0s 864us/step\n"
     ]
    },
    {
     "data": {
      "text/plain": [
       "<tensorflow.python.keras.callbacks.History at 0x7fa94154e820>"
      ]
     },
     "execution_count": 317,
     "metadata": {},
     "output_type": "execute_result"
    }
   ],
   "source": [
    "columns = train.columns.tolist()\n",
    "train_dataframe = train[columns]\n",
    "train_dataframe = train_dataframe.to_dict('list')\n",
    "train_dataset = tf.data.Dataset.from_tensor_slices(train_dataframe)\n",
    "train_ds = train_dataset.batch(64).map(prepare_dataset)\n",
    "\n",
    "model = tfdf.keras.GradientBoostedTreesModel(hyperparameter_template=\"benchmark_rank1\")\n",
    "model.compile()\n",
    "model.fit(x=train_ds)"
   ]
  },
  {
   "cell_type": "code",
   "execution_count": 318,
   "id": "17384e43-d73d-4457-9949-0e20bae839f7",
   "metadata": {},
   "outputs": [
    {
     "data": {
      "text/plain": [
       "Evaluation(num_examples=None, accuracy=0.4872773587703705, loss=1.5270057916641235, rmse=None, ndcg=None, aucs=None)"
      ]
     },
     "execution_count": 318,
     "metadata": {},
     "output_type": "execute_result"
    }
   ],
   "source": [
    "model_1.make_inspector().evaluation()"
   ]
  },
  {
   "cell_type": "code",
   "execution_count": 337,
   "id": "bf9623d6-d332-4b76-9780-74a8575f615a",
   "metadata": {},
   "outputs": [
    {
     "name": "stdout",
     "output_type": "stream",
     "text": [
      "Model: \"gradient_boosted_trees_model_16\"\n",
      "_________________________________________________________________\n",
      "Layer (type)                 Output Shape              Param #   \n",
      "=================================================================\n",
      "Total params: 1\n",
      "Trainable params: 0\n",
      "Non-trainable params: 1\n",
      "_________________________________________________________________\n",
      "Type: \"GRADIENT_BOOSTED_TREES\"\n",
      "Task: CLASSIFICATION\n",
      "Label: \"__LABEL\"\n",
      "\n",
      "Input Features (14):\n",
      "\tMedianStudentsPerTeacher\n",
      "\tavgSchoolRating\n",
      "\tcity\n",
      "\tdescription\n",
      "\tgarageSpaces\n",
      "\thasSpa\n",
      "\thomeType\n",
      "\tlatitude\n",
      "\tlongitude\n",
      "\tlotSizeSqFt\n",
      "\tnumOfBathrooms\n",
      "\tnumOfBedrooms\n",
      "\tnumOfPatioAndPorchFeatures\n",
      "\tyearBuilt\n",
      "\n",
      "No weights\n",
      "\n",
      "Variable Importance: NUM_NODES:\n",
      "    1.                \"description\" 5505.000000 ################\n",
      "    2.   \"MedianStudentsPerTeacher\" 1004.000000 ##\n",
      "    3.                   \"latitude\" 926.000000 ##\n",
      "    4.            \"avgSchoolRating\" 907.000000 ##\n",
      "    5.                \"lotSizeSqFt\" 673.000000 #\n",
      "    6.                  \"longitude\" 641.000000 #\n",
      "    7.               \"garageSpaces\" 594.000000 #\n",
      "    8.                     \"hasSpa\" 443.000000 #\n",
      "    9.             \"numOfBathrooms\" 194.000000 \n",
      "   10.                  \"yearBuilt\" 175.000000 \n",
      "   11.              \"numOfBedrooms\" 71.000000 \n",
      "   12. \"numOfPatioAndPorchFeatures\" 51.000000 \n",
      "   13.                   \"homeType\" 31.000000 \n",
      "   14.                       \"city\"  3.000000 \n",
      "\n",
      "Variable Importance: NUM_AS_ROOT:\n",
      "    1.              \"description\" 124.000000 ################\n",
      "    2. \"MedianStudentsPerTeacher\" 44.000000 #####\n",
      "    3.              \"lotSizeSqFt\" 43.000000 #####\n",
      "    4.          \"avgSchoolRating\" 41.000000 #####\n",
      "    5.             \"garageSpaces\" 32.000000 ####\n",
      "    6.                \"longitude\" 27.000000 ###\n",
      "    7.                 \"latitude\" 22.000000 ##\n",
      "    8.           \"numOfBathrooms\" 22.000000 ##\n",
      "    9.                   \"hasSpa\" 17.000000 ##\n",
      "   10.                \"yearBuilt\"  2.000000 \n",
      "   11.            \"numOfBedrooms\"  1.000000 \n",
      "\n",
      "Variable Importance: SUM_SCORE:\n",
      "    1.                \"description\" 11305.426615 ################\n",
      "    2.            \"avgSchoolRating\" 1864.213357 ##\n",
      "    3.                   \"latitude\" 1557.904926 ##\n",
      "    4.                \"lotSizeSqFt\" 1334.775365 #\n",
      "    5.   \"MedianStudentsPerTeacher\" 1303.660172 #\n",
      "    6.                  \"longitude\" 1281.256412 #\n",
      "    7.                     \"hasSpa\" 785.598641 #\n",
      "    8.               \"garageSpaces\" 737.331158 #\n",
      "    9.             \"numOfBathrooms\" 560.995315 \n",
      "   10.                  \"yearBuilt\" 194.769020 \n",
      "   11.              \"numOfBedrooms\" 87.978361 \n",
      "   12. \"numOfPatioAndPorchFeatures\" 29.821329 \n",
      "   13.                   \"homeType\" 23.842371 \n",
      "   14.                       \"city\"  3.845447 \n",
      "\n",
      "Variable Importance: MEAN_MIN_DEPTH:\n",
      "    1.                    \"__LABEL\"  5.358595 ################\n",
      "    2.                       \"city\"  5.357304 ###############\n",
      "    3.                   \"homeType\"  5.334509 ###############\n",
      "    4. \"numOfPatioAndPorchFeatures\"  5.316547 ###############\n",
      "    5.              \"numOfBedrooms\"  5.240487 ###############\n",
      "    6.                  \"yearBuilt\"  5.096533 ##############\n",
      "    7.             \"numOfBathrooms\"  4.802437 #############\n",
      "    8.                     \"hasSpa\"  4.659828 #############\n",
      "    9.               \"garageSpaces\"  4.349057 ###########\n",
      "   10.                  \"longitude\"  4.288779 ###########\n",
      "   11.                   \"latitude\"  4.090005 ##########\n",
      "   12.                \"lotSizeSqFt\"  3.969819 ##########\n",
      "   13.            \"avgSchoolRating\"  3.894647 #########\n",
      "   14.   \"MedianStudentsPerTeacher\"  3.804718 #########\n",
      "   15.                \"description\"  1.576420 \n",
      "\n",
      "\n",
      "\n",
      "Loss: MULTINOMIAL_LOG_LIKELIHOOD\n",
      "Validation loss value: 0.990933\n",
      "Number of trees per iteration: 5\n",
      "Node format: NOT_SET\n",
      "Number of trees: 375\n",
      "Total number of nodes: 22811\n",
      "\n",
      "Number of nodes by tree:\n",
      "Count: 375 Average: 60.8293 StdDev: 1.91351\n",
      "Min: 29 Max: 61 Ignored: 0\n",
      "----------------------------------------------\n",
      "[ 29, 30)   1   0.27%   0.27%\n",
      "[ 30, 32)   0   0.00%   0.27%\n",
      "[ 32, 33)   0   0.00%   0.27%\n",
      "[ 33, 35)   0   0.00%   0.27%\n",
      "[ 35, 37)   0   0.00%   0.27%\n",
      "[ 37, 38)   0   0.00%   0.27%\n",
      "[ 38, 40)   0   0.00%   0.27%\n",
      "[ 40, 42)   0   0.00%   0.27%\n",
      "[ 42, 43)   0   0.00%   0.27%\n",
      "[ 43, 45)   0   0.00%   0.27%\n",
      "[ 45, 47)   0   0.00%   0.27%\n",
      "[ 47, 48)   1   0.27%   0.53%\n",
      "[ 48, 50)   1   0.27%   0.80%\n",
      "[ 50, 52)   0   0.00%   0.80%\n",
      "[ 52, 53)   0   0.00%   0.80%\n",
      "[ 53, 55)   0   0.00%   0.80%\n",
      "[ 55, 57)   0   0.00%   0.80%\n",
      "[ 57, 58)   1   0.27%   1.07%\n",
      "[ 58, 60)   1   0.27%   1.33%\n",
      "[ 60, 61] 370  98.67% 100.00% ##########\n",
      "\n",
      "Depth by leafs:\n",
      "Count: 11593 Average: 5.35987 StdDev: 0.941423\n",
      "Min: 2 Max: 6 Ignored: 0\n",
      "----------------------------------------------\n",
      "[ 2, 3)  128   1.10%   1.10%\n",
      "[ 3, 4)  544   4.69%   5.80% #\n",
      "[ 4, 5) 1402  12.09%  17.89% ##\n",
      "[ 5, 6) 2473  21.33%  39.22% ####\n",
      "[ 6, 6] 7046  60.78% 100.00% ##########\n",
      "\n",
      "Number of training obs by leaf:\n",
      "Count: 11593 Average: 0 StdDev: 0\n",
      "Min: 0 Max: 0 Ignored: 0\n",
      "----------------------------------------------\n",
      "[ 0, 0] 11593 100.00% 100.00% ##########\n",
      "\n",
      "Attribute in nodes:\n",
      "\t5505 : description [CATEGORICAL_SET]\n",
      "\t1004 : MedianStudentsPerTeacher [NUMERICAL]\n",
      "\t926 : latitude [NUMERICAL]\n",
      "\t907 : avgSchoolRating [NUMERICAL]\n",
      "\t673 : lotSizeSqFt [NUMERICAL]\n",
      "\t641 : longitude [NUMERICAL]\n",
      "\t594 : garageSpaces [NUMERICAL]\n",
      "\t443 : hasSpa [NUMERICAL]\n",
      "\t194 : numOfBathrooms [NUMERICAL]\n",
      "\t175 : yearBuilt [NUMERICAL]\n",
      "\t71 : numOfBedrooms [NUMERICAL]\n",
      "\t51 : numOfPatioAndPorchFeatures [NUMERICAL]\n",
      "\t31 : homeType [CATEGORICAL]\n",
      "\t3 : city [CATEGORICAL]\n",
      "\n",
      "Attribute in nodes with depth <= 0:\n",
      "\t124 : description [CATEGORICAL_SET]\n",
      "\t44 : MedianStudentsPerTeacher [NUMERICAL]\n",
      "\t43 : lotSizeSqFt [NUMERICAL]\n",
      "\t41 : avgSchoolRating [NUMERICAL]\n",
      "\t32 : garageSpaces [NUMERICAL]\n",
      "\t27 : longitude [NUMERICAL]\n",
      "\t22 : numOfBathrooms [NUMERICAL]\n",
      "\t22 : latitude [NUMERICAL]\n",
      "\t17 : hasSpa [NUMERICAL]\n",
      "\t2 : yearBuilt [NUMERICAL]\n",
      "\t1 : numOfBedrooms [NUMERICAL]\n",
      "\n",
      "Attribute in nodes with depth <= 1:\n",
      "\t405 : description [CATEGORICAL_SET]\n",
      "\t118 : MedianStudentsPerTeacher [NUMERICAL]\n",
      "\t107 : lotSizeSqFt [NUMERICAL]\n",
      "\t103 : avgSchoolRating [NUMERICAL]\n",
      "\t101 : latitude [NUMERICAL]\n",
      "\t75 : longitude [NUMERICAL]\n",
      "\t72 : garageSpaces [NUMERICAL]\n",
      "\t53 : hasSpa [NUMERICAL]\n",
      "\t46 : numOfBathrooms [NUMERICAL]\n",
      "\t28 : yearBuilt [NUMERICAL]\n",
      "\t12 : numOfBedrooms [NUMERICAL]\n",
      "\t3 : numOfPatioAndPorchFeatures [NUMERICAL]\n",
      "\t2 : homeType [CATEGORICAL]\n",
      "\n",
      "Attribute in nodes with depth <= 2:\n",
      "\t1004 : description [CATEGORICAL_SET]\n",
      "\t246 : MedianStudentsPerTeacher [NUMERICAL]\n",
      "\t233 : avgSchoolRating [NUMERICAL]\n",
      "\t226 : latitude [NUMERICAL]\n",
      "\t196 : lotSizeSqFt [NUMERICAL]\n",
      "\t176 : longitude [NUMERICAL]\n",
      "\t155 : garageSpaces [NUMERICAL]\n",
      "\t105 : hasSpa [NUMERICAL]\n",
      "\t73 : numOfBathrooms [NUMERICAL]\n",
      "\t50 : yearBuilt [NUMERICAL]\n",
      "\t23 : numOfBedrooms [NUMERICAL]\n",
      "\t6 : homeType [CATEGORICAL]\n",
      "\t4 : numOfPatioAndPorchFeatures [NUMERICAL]\n",
      "\n",
      "Attribute in nodes with depth <= 3:\n",
      "\t2058 : description [CATEGORICAL_SET]\n",
      "\t457 : MedianStudentsPerTeacher [NUMERICAL]\n",
      "\t411 : latitude [NUMERICAL]\n",
      "\t408 : avgSchoolRating [NUMERICAL]\n",
      "\t341 : lotSizeSqFt [NUMERICAL]\n",
      "\t304 : longitude [NUMERICAL]\n",
      "\t261 : garageSpaces [NUMERICAL]\n",
      "\t187 : hasSpa [NUMERICAL]\n",
      "\t111 : numOfBathrooms [NUMERICAL]\n",
      "\t92 : yearBuilt [NUMERICAL]\n",
      "\t37 : numOfBedrooms [NUMERICAL]\n",
      "\t17 : numOfPatioAndPorchFeatures [NUMERICAL]\n",
      "\t12 : homeType [CATEGORICAL]\n",
      "\t1 : city [CATEGORICAL]\n",
      "\n",
      "Attribute in nodes with depth <= 5:\n",
      "\t5505 : description [CATEGORICAL_SET]\n",
      "\t1004 : MedianStudentsPerTeacher [NUMERICAL]\n",
      "\t926 : latitude [NUMERICAL]\n",
      "\t907 : avgSchoolRating [NUMERICAL]\n",
      "\t673 : lotSizeSqFt [NUMERICAL]\n",
      "\t641 : longitude [NUMERICAL]\n",
      "\t594 : garageSpaces [NUMERICAL]\n",
      "\t443 : hasSpa [NUMERICAL]\n",
      "\t194 : numOfBathrooms [NUMERICAL]\n",
      "\t175 : yearBuilt [NUMERICAL]\n",
      "\t71 : numOfBedrooms [NUMERICAL]\n",
      "\t51 : numOfPatioAndPorchFeatures [NUMERICAL]\n",
      "\t31 : homeType [CATEGORICAL]\n",
      "\t3 : city [CATEGORICAL]\n",
      "\n",
      "Condition type in nodes:\n",
      "\t5679 : ObliqueCondition\n",
      "\t5301 : ContainsCondition\n",
      "\t238 : ContainsBitmapCondition\n",
      "Condition type in nodes with depth <= 0:\n",
      "\t251 : ObliqueCondition\n",
      "\t107 : ContainsCondition\n",
      "\t17 : ContainsBitmapCondition\n",
      "Condition type in nodes with depth <= 1:\n",
      "\t718 : ObliqueCondition\n",
      "\t346 : ContainsCondition\n",
      "\t61 : ContainsBitmapCondition\n",
      "Condition type in nodes with depth <= 2:\n",
      "\t1487 : ObliqueCondition\n",
      "\t890 : ContainsCondition\n",
      "\t120 : ContainsBitmapCondition\n",
      "Condition type in nodes with depth <= 3:\n",
      "\t2626 : ObliqueCondition\n",
      "\t1907 : ContainsCondition\n",
      "\t164 : ContainsBitmapCondition\n",
      "Condition type in nodes with depth <= 5:\n",
      "\t5679 : ObliqueCondition\n",
      "\t5301 : ContainsCondition\n",
      "\t238 : ContainsBitmapCondition\n",
      "\n"
     ]
    }
   ],
   "source": [
    "model_1.summary()"
   ]
  },
  {
   "cell_type": "markdown",
   "id": "fab39120-06c5-42c7-a13f-1084205c04f0",
   "metadata": {},
   "source": [
    "# Predictions"
   ]
  },
  {
   "cell_type": "code",
   "execution_count": 319,
   "id": "00396cc4-cf7c-43f1-9f9d-d3a55eebf10b",
   "metadata": {},
   "outputs": [],
   "source": [
    "columns = test.columns.tolist()\n",
    "test_dataframe = test[columns]\n",
    "test_dataframe = test_dataframe.to_dict('list')\n",
    "test_dataset = tf.data.Dataset.from_tensor_slices(test_dataframe)\n",
    "test_ds = test_dataset.batch(64).map(prepare_dataset)"
   ]
  },
  {
   "cell_type": "code",
   "execution_count": 320,
   "id": "adceb97f-3098-4980-a2c1-b123288a042f",
   "metadata": {},
   "outputs": [],
   "source": [
    "scores = model.predict(test_ds)"
   ]
  },
  {
   "cell_type": "code",
   "execution_count": 321,
   "id": "ad36d0ff-3cce-457f-96aa-ef39c05a2cf5",
   "metadata": {},
   "outputs": [],
   "source": [
    "#Label classes: ['adoption', 'no outcome', 'transfer']"
   ]
  },
  {
   "cell_type": "code",
   "execution_count": 322,
   "id": "b218da44-e68f-48de-9368-0edc6ed83bba",
   "metadata": {},
   "outputs": [
    {
     "data": {
      "text/plain": [
       "array([[0.0022705 , 0.0126286 , 0.94026744, 0.00292047, 0.04191303],\n",
       "       [0.06569017, 0.15802495, 0.2453018 , 0.2842607 , 0.24672236],\n",
       "       [0.01091495, 0.1287469 , 0.249511  , 0.02858297, 0.5822441 ],\n",
       "       ...,\n",
       "       [0.00453154, 0.04765286, 0.3798967 , 0.00752358, 0.56039524],\n",
       "       [0.00780663, 0.27257222, 0.02993951, 0.02511302, 0.66456866],\n",
       "       [0.00694304, 0.7305793 , 0.01242512, 0.20013174, 0.04992074]],\n",
       "      dtype=float32)"
      ]
     },
     "execution_count": 322,
     "metadata": {},
     "output_type": "execute_result"
    }
   ],
   "source": [
    "scores"
   ]
  },
  {
   "cell_type": "code",
   "execution_count": 323,
   "id": "a314fc3a-ee83-4b58-83df-e5b3466ded97",
   "metadata": {},
   "outputs": [],
   "source": [
    "temp = pd.DataFrame(data=scores, columns=[\"0-250000\", \"250000-350000\",\"350000-450000\",\"450000-650000\",\"650000+\"])"
   ]
  },
  {
   "cell_type": "code",
   "execution_count": 324,
   "id": "4b4a724a-06c6-44d8-a483-f2e5884ad773",
   "metadata": {},
   "outputs": [],
   "source": [
    "#submission"
   ]
  },
  {
   "cell_type": "code",
   "execution_count": 325,
   "id": "98c36421-29f3-4b7a-bbbf-9a038c563283",
   "metadata": {},
   "outputs": [],
   "source": [
    "temp['uid'] = submission.uid"
   ]
  },
  {
   "cell_type": "code",
   "execution_count": 326,
   "id": "d14efedd-3ee0-4862-87c3-64fb3bcb75be",
   "metadata": {},
   "outputs": [
    {
     "data": {
      "text/html": [
       "<div>\n",
       "<style scoped>\n",
       "    .dataframe tbody tr th:only-of-type {\n",
       "        vertical-align: middle;\n",
       "    }\n",
       "\n",
       "    .dataframe tbody tr th {\n",
       "        vertical-align: top;\n",
       "    }\n",
       "\n",
       "    .dataframe thead th {\n",
       "        text-align: right;\n",
       "    }\n",
       "</style>\n",
       "<table border=\"1\" class=\"dataframe\">\n",
       "  <thead>\n",
       "    <tr style=\"text-align: right;\">\n",
       "      <th></th>\n",
       "      <th>0-250000</th>\n",
       "      <th>250000-350000</th>\n",
       "      <th>350000-450000</th>\n",
       "      <th>450000-650000</th>\n",
       "      <th>650000+</th>\n",
       "      <th>uid</th>\n",
       "    </tr>\n",
       "  </thead>\n",
       "  <tbody>\n",
       "    <tr>\n",
       "      <th>0</th>\n",
       "      <td>0.002270</td>\n",
       "      <td>0.012629</td>\n",
       "      <td>0.940267</td>\n",
       "      <td>0.002920</td>\n",
       "      <td>0.041913</td>\n",
       "      <td>4070</td>\n",
       "    </tr>\n",
       "    <tr>\n",
       "      <th>1</th>\n",
       "      <td>0.065690</td>\n",
       "      <td>0.158025</td>\n",
       "      <td>0.245302</td>\n",
       "      <td>0.284261</td>\n",
       "      <td>0.246722</td>\n",
       "      <td>5457</td>\n",
       "    </tr>\n",
       "    <tr>\n",
       "      <th>2</th>\n",
       "      <td>0.010915</td>\n",
       "      <td>0.128747</td>\n",
       "      <td>0.249511</td>\n",
       "      <td>0.028583</td>\n",
       "      <td>0.582244</td>\n",
       "      <td>2053</td>\n",
       "    </tr>\n",
       "    <tr>\n",
       "      <th>3</th>\n",
       "      <td>0.034922</td>\n",
       "      <td>0.225240</td>\n",
       "      <td>0.013844</td>\n",
       "      <td>0.675906</td>\n",
       "      <td>0.050088</td>\n",
       "      <td>4723</td>\n",
       "    </tr>\n",
       "    <tr>\n",
       "      <th>4</th>\n",
       "      <td>0.070245</td>\n",
       "      <td>0.469009</td>\n",
       "      <td>0.052660</td>\n",
       "      <td>0.277164</td>\n",
       "      <td>0.130922</td>\n",
       "      <td>5417</td>\n",
       "    </tr>\n",
       "    <tr>\n",
       "      <th>...</th>\n",
       "      <td>...</td>\n",
       "      <td>...</td>\n",
       "      <td>...</td>\n",
       "      <td>...</td>\n",
       "      <td>...</td>\n",
       "      <td>...</td>\n",
       "    </tr>\n",
       "    <tr>\n",
       "      <th>4956</th>\n",
       "      <td>0.011001</td>\n",
       "      <td>0.210182</td>\n",
       "      <td>0.406332</td>\n",
       "      <td>0.053638</td>\n",
       "      <td>0.318847</td>\n",
       "      <td>4284</td>\n",
       "    </tr>\n",
       "    <tr>\n",
       "      <th>4957</th>\n",
       "      <td>0.026155</td>\n",
       "      <td>0.241252</td>\n",
       "      <td>0.076762</td>\n",
       "      <td>0.126302</td>\n",
       "      <td>0.529528</td>\n",
       "      <td>2945</td>\n",
       "    </tr>\n",
       "    <tr>\n",
       "      <th>4958</th>\n",
       "      <td>0.004532</td>\n",
       "      <td>0.047653</td>\n",
       "      <td>0.379897</td>\n",
       "      <td>0.007524</td>\n",
       "      <td>0.560395</td>\n",
       "      <td>12334</td>\n",
       "    </tr>\n",
       "    <tr>\n",
       "      <th>4959</th>\n",
       "      <td>0.007807</td>\n",
       "      <td>0.272572</td>\n",
       "      <td>0.029940</td>\n",
       "      <td>0.025113</td>\n",
       "      <td>0.664569</td>\n",
       "      <td>240</td>\n",
       "    </tr>\n",
       "    <tr>\n",
       "      <th>4960</th>\n",
       "      <td>0.006943</td>\n",
       "      <td>0.730579</td>\n",
       "      <td>0.012425</td>\n",
       "      <td>0.200132</td>\n",
       "      <td>0.049921</td>\n",
       "      <td>13520</td>\n",
       "    </tr>\n",
       "  </tbody>\n",
       "</table>\n",
       "<p>4961 rows × 6 columns</p>\n",
       "</div>"
      ],
      "text/plain": [
       "      0-250000  250000-350000  350000-450000  450000-650000   650000+    uid\n",
       "0     0.002270       0.012629       0.940267       0.002920  0.041913   4070\n",
       "1     0.065690       0.158025       0.245302       0.284261  0.246722   5457\n",
       "2     0.010915       0.128747       0.249511       0.028583  0.582244   2053\n",
       "3     0.034922       0.225240       0.013844       0.675906  0.050088   4723\n",
       "4     0.070245       0.469009       0.052660       0.277164  0.130922   5417\n",
       "...        ...            ...            ...            ...       ...    ...\n",
       "4956  0.011001       0.210182       0.406332       0.053638  0.318847   4284\n",
       "4957  0.026155       0.241252       0.076762       0.126302  0.529528   2945\n",
       "4958  0.004532       0.047653       0.379897       0.007524  0.560395  12334\n",
       "4959  0.007807       0.272572       0.029940       0.025113  0.664569    240\n",
       "4960  0.006943       0.730579       0.012425       0.200132  0.049921  13520\n",
       "\n",
       "[4961 rows x 6 columns]"
      ]
     },
     "execution_count": 326,
     "metadata": {},
     "output_type": "execute_result"
    }
   ],
   "source": [
    "temp"
   ]
  },
  {
   "cell_type": "code",
   "execution_count": 327,
   "id": "dc614a6e-efa3-4043-a410-bad44c563d20",
   "metadata": {},
   "outputs": [],
   "source": [
    "temp = temp[[\"uid\",\"0-250000\", \"250000-350000\",\"350000-450000\",\"450000-650000\",\"650000+\"]]"
   ]
  },
  {
   "cell_type": "code",
   "execution_count": 328,
   "id": "d070da16-3526-4c24-9095-c1b0572ae60b",
   "metadata": {},
   "outputs": [
    {
     "data": {
      "text/html": [
       "<div>\n",
       "<style scoped>\n",
       "    .dataframe tbody tr th:only-of-type {\n",
       "        vertical-align: middle;\n",
       "    }\n",
       "\n",
       "    .dataframe tbody tr th {\n",
       "        vertical-align: top;\n",
       "    }\n",
       "\n",
       "    .dataframe thead th {\n",
       "        text-align: right;\n",
       "    }\n",
       "</style>\n",
       "<table border=\"1\" class=\"dataframe\">\n",
       "  <thead>\n",
       "    <tr style=\"text-align: right;\">\n",
       "      <th></th>\n",
       "      <th>uid</th>\n",
       "      <th>0-250000</th>\n",
       "      <th>250000-350000</th>\n",
       "      <th>350000-450000</th>\n",
       "      <th>450000-650000</th>\n",
       "      <th>650000+</th>\n",
       "    </tr>\n",
       "  </thead>\n",
       "  <tbody>\n",
       "    <tr>\n",
       "      <th>0</th>\n",
       "      <td>4070</td>\n",
       "      <td>0.002270</td>\n",
       "      <td>0.012629</td>\n",
       "      <td>0.940267</td>\n",
       "      <td>0.002920</td>\n",
       "      <td>0.041913</td>\n",
       "    </tr>\n",
       "    <tr>\n",
       "      <th>1</th>\n",
       "      <td>5457</td>\n",
       "      <td>0.065690</td>\n",
       "      <td>0.158025</td>\n",
       "      <td>0.245302</td>\n",
       "      <td>0.284261</td>\n",
       "      <td>0.246722</td>\n",
       "    </tr>\n",
       "    <tr>\n",
       "      <th>2</th>\n",
       "      <td>2053</td>\n",
       "      <td>0.010915</td>\n",
       "      <td>0.128747</td>\n",
       "      <td>0.249511</td>\n",
       "      <td>0.028583</td>\n",
       "      <td>0.582244</td>\n",
       "    </tr>\n",
       "    <tr>\n",
       "      <th>3</th>\n",
       "      <td>4723</td>\n",
       "      <td>0.034922</td>\n",
       "      <td>0.225240</td>\n",
       "      <td>0.013844</td>\n",
       "      <td>0.675906</td>\n",
       "      <td>0.050088</td>\n",
       "    </tr>\n",
       "    <tr>\n",
       "      <th>4</th>\n",
       "      <td>5417</td>\n",
       "      <td>0.070245</td>\n",
       "      <td>0.469009</td>\n",
       "      <td>0.052660</td>\n",
       "      <td>0.277164</td>\n",
       "      <td>0.130922</td>\n",
       "    </tr>\n",
       "    <tr>\n",
       "      <th>...</th>\n",
       "      <td>...</td>\n",
       "      <td>...</td>\n",
       "      <td>...</td>\n",
       "      <td>...</td>\n",
       "      <td>...</td>\n",
       "      <td>...</td>\n",
       "    </tr>\n",
       "    <tr>\n",
       "      <th>4956</th>\n",
       "      <td>4284</td>\n",
       "      <td>0.011001</td>\n",
       "      <td>0.210182</td>\n",
       "      <td>0.406332</td>\n",
       "      <td>0.053638</td>\n",
       "      <td>0.318847</td>\n",
       "    </tr>\n",
       "    <tr>\n",
       "      <th>4957</th>\n",
       "      <td>2945</td>\n",
       "      <td>0.026155</td>\n",
       "      <td>0.241252</td>\n",
       "      <td>0.076762</td>\n",
       "      <td>0.126302</td>\n",
       "      <td>0.529528</td>\n",
       "    </tr>\n",
       "    <tr>\n",
       "      <th>4958</th>\n",
       "      <td>12334</td>\n",
       "      <td>0.004532</td>\n",
       "      <td>0.047653</td>\n",
       "      <td>0.379897</td>\n",
       "      <td>0.007524</td>\n",
       "      <td>0.560395</td>\n",
       "    </tr>\n",
       "    <tr>\n",
       "      <th>4959</th>\n",
       "      <td>240</td>\n",
       "      <td>0.007807</td>\n",
       "      <td>0.272572</td>\n",
       "      <td>0.029940</td>\n",
       "      <td>0.025113</td>\n",
       "      <td>0.664569</td>\n",
       "    </tr>\n",
       "    <tr>\n",
       "      <th>4960</th>\n",
       "      <td>13520</td>\n",
       "      <td>0.006943</td>\n",
       "      <td>0.730579</td>\n",
       "      <td>0.012425</td>\n",
       "      <td>0.200132</td>\n",
       "      <td>0.049921</td>\n",
       "    </tr>\n",
       "  </tbody>\n",
       "</table>\n",
       "<p>4961 rows × 6 columns</p>\n",
       "</div>"
      ],
      "text/plain": [
       "        uid  0-250000  250000-350000  350000-450000  450000-650000   650000+\n",
       "0      4070  0.002270       0.012629       0.940267       0.002920  0.041913\n",
       "1      5457  0.065690       0.158025       0.245302       0.284261  0.246722\n",
       "2      2053  0.010915       0.128747       0.249511       0.028583  0.582244\n",
       "3      4723  0.034922       0.225240       0.013844       0.675906  0.050088\n",
       "4      5417  0.070245       0.469009       0.052660       0.277164  0.130922\n",
       "...     ...       ...            ...            ...            ...       ...\n",
       "4956   4284  0.011001       0.210182       0.406332       0.053638  0.318847\n",
       "4957   2945  0.026155       0.241252       0.076762       0.126302  0.529528\n",
       "4958  12334  0.004532       0.047653       0.379897       0.007524  0.560395\n",
       "4959    240  0.007807       0.272572       0.029940       0.025113  0.664569\n",
       "4960  13520  0.006943       0.730579       0.012425       0.200132  0.049921\n",
       "\n",
       "[4961 rows x 6 columns]"
      ]
     },
     "execution_count": 328,
     "metadata": {},
     "output_type": "execute_result"
    }
   ],
   "source": [
    "temp"
   ]
  },
  {
   "cell_type": "code",
   "execution_count": 329,
   "id": "6d2d6579-b6ce-4a74-b65e-6f03f2fe5312",
   "metadata": {},
   "outputs": [],
   "source": [
    "#temp['no outcome'] = np.where(temp['no outcome'] > .96, 1, temp['no outcome'])\n",
    "#temp['adoption'] = np.where(temp['no outcome'] == 1, 0, temp['adoption'])\n",
    "#temp['transfer'] = np.where(temp['no outcome'] == 1, 0, temp['transfer'])"
   ]
  },
  {
   "cell_type": "code",
   "execution_count": 330,
   "id": "7973d6cd-447d-4cba-be2f-087ed687c8be",
   "metadata": {},
   "outputs": [],
   "source": [
    "#temp['adoption'] = np.where(temp['adoption'] > .96, 1, temp['adoption'])\n",
    "#temp['no outcome'] = np.where(temp['adoption'] == 1, 0, temp['no outcome'])\n",
    "#temp['transfer'] = np.where(temp['adoption'] == 1, 0, temp['transfer'])"
   ]
  },
  {
   "cell_type": "code",
   "execution_count": 331,
   "id": "8ad64b7e-309a-4832-a89e-f43b6dbb3492",
   "metadata": {},
   "outputs": [],
   "source": [
    "#temp['transfer'] = np.where(temp['transfer'] > .96, 1, temp['transfer'])\n",
    "#temp['adoption'] = np.where(temp['transfer'] == 1, 0, temp['adoption'])\n",
    "#temp['no outcome'] = np.where(temp['transfer'] == 1, 0, temp['no outcome'])"
   ]
  },
  {
   "cell_type": "code",
   "execution_count": 332,
   "id": "af3ef058-b6e7-4ad4-8bc9-d745f933278e",
   "metadata": {},
   "outputs": [],
   "source": [
    "temp.to_csv('submission.csv', index=False)"
   ]
  },
  {
   "cell_type": "code",
   "execution_count": 333,
   "id": "5382d4c7-0a60-4fa2-ba23-3920bc1000bd",
   "metadata": {},
   "outputs": [
    {
     "name": "stdout",
     "output_type": "stream",
     "text": [
      "Warning: Your Kaggle API key is readable by other users on this system! To fix this, you can run 'chmod 600 /home/neil/kaggle/kaggle.json'\n",
      "Warning: Looks like you're using an outdated API Version, please consider updating (server 1.5.12 / client 1.5.8)\n",
      "100%|█████████████████████████████████████████| 299k/299k [00:00<00:00, 363kB/s]\n",
      "Successfully submitted to SLICED s01e11, Semifinals"
     ]
    }
   ],
   "source": [
    "!kaggle competitions submit -c sliced-s01e11-semifinals -f submission.csv -m \"bag of words\""
   ]
  },
  {
   "cell_type": "code",
   "execution_count": null,
   "id": "bb8bc1b2-ca02-4634-ab9d-3d67d8d2fa63",
   "metadata": {},
   "outputs": [],
   "source": []
  }
 ],
 "metadata": {
  "kernelspec": {
   "display_name": "ds_py_3.8",
   "language": "python",
   "name": "ds_py_3.8"
  },
  "language_info": {
   "codemirror_mode": {
    "name": "ipython",
    "version": 3
   },
   "file_extension": ".py",
   "mimetype": "text/x-python",
   "name": "python",
   "nbconvert_exporter": "python",
   "pygments_lexer": "ipython3",
   "version": "3.8.10"
  }
 },
 "nbformat": 4,
 "nbformat_minor": 5
}
