{
 "cells": [
  {
   "cell_type": "code",
   "execution_count": 19,
   "id": "d9ec98b6-955d-4888-89c2-fbd88b4e5665",
   "metadata": {},
   "outputs": [],
   "source": [
    "# Standard stack\n",
    "import datetime\n",
    "import pandas as pd\n",
    "import numpy as np\n",
    "from datetime import date\n",
    "import re\n",
    "\n",
    "# Visualization\n",
    "from pandas_profiling import ProfileReport\n",
    "#import plotly.express as px\n",
    "import matplotlib.pyplot as plt\n",
    "import seaborn as sns\n",
    "\n",
    "# Modeling\n",
    "import tensorflow as tf\n",
    "import tensorflow_decision_forests as tfdf\n",
    "try:\n",
    "    from wurlitzer import sys_pipes\n",
    "except:\n",
    "    from colabtools.googlelog import CaptureLog as sys_pipes\n",
    "\n",
    "# Scikit-learn packages\n",
    "from sklearn import metrics\n",
    "from sklearn.model_selection import train_test_split\n",
    "from sklearn.impute import SimpleImputer\n",
    "from sklearn.pipeline import Pipeline\n",
    "from sklearn.preprocessing import StandardScaler, OneHotEncoder, FunctionTransformer, OrdinalEncoder\n",
    "from sklearn.compose import ColumnTransformer\n",
    "from sklearn.model_selection import KFold\n",
    "\n",
    "# display\n",
    "from IPython.core.magic import register_line_magic\n",
    "from IPython.display import Javascript\n",
    "\n",
    "# no warnings\n",
    "import warnings\n",
    "warnings.filterwarnings('ignore')"
   ]
  },
  {
   "cell_type": "code",
   "execution_count": 20,
   "id": "3b7ee3c1-a9f5-4393-9193-11c0ab4718ce",
   "metadata": {},
   "outputs": [],
   "source": [
    "TRAIN_PATH = \"data/train.csv\"\n",
    "TEST_PATH = \"data/test.csv\"\n",
    "label = \"priceRange\""
   ]
  },
  {
   "cell_type": "code",
   "execution_count": 21,
   "id": "c83bb836-8c49-4923-8ba1-1f29d3c807a0",
   "metadata": {},
   "outputs": [],
   "source": [
    "train = pd.read_csv(TRAIN_PATH)\n",
    "test = pd.read_csv(TEST_PATH)\n",
    "submission = pd.read_csv(TEST_PATH)"
   ]
  },
  {
   "cell_type": "code",
   "execution_count": 22,
   "id": "bd497029-f63d-40d4-bfa9-cef8821852d1",
   "metadata": {},
   "outputs": [
    {
     "data": {
      "text/html": [
       "<div>\n",
       "<style scoped>\n",
       "    .dataframe tbody tr th:only-of-type {\n",
       "        vertical-align: middle;\n",
       "    }\n",
       "\n",
       "    .dataframe tbody tr th {\n",
       "        vertical-align: top;\n",
       "    }\n",
       "\n",
       "    .dataframe thead th {\n",
       "        text-align: right;\n",
       "    }\n",
       "</style>\n",
       "<table border=\"1\" class=\"dataframe\">\n",
       "  <thead>\n",
       "    <tr style=\"text-align: right;\">\n",
       "      <th></th>\n",
       "      <th>uid</th>\n",
       "      <th>city</th>\n",
       "      <th>description</th>\n",
       "      <th>homeType</th>\n",
       "      <th>latitude</th>\n",
       "      <th>longitude</th>\n",
       "      <th>garageSpaces</th>\n",
       "      <th>hasSpa</th>\n",
       "      <th>yearBuilt</th>\n",
       "      <th>numOfPatioAndPorchFeatures</th>\n",
       "      <th>lotSizeSqFt</th>\n",
       "      <th>avgSchoolRating</th>\n",
       "      <th>MedianStudentsPerTeacher</th>\n",
       "      <th>numOfBathrooms</th>\n",
       "      <th>numOfBedrooms</th>\n",
       "      <th>priceRange</th>\n",
       "    </tr>\n",
       "  </thead>\n",
       "  <tbody>\n",
       "    <tr>\n",
       "      <th>0</th>\n",
       "      <td>1748</td>\n",
       "      <td>austin</td>\n",
       "      <td>MULTIPLE OFFERS submit best &amp; final to Agent b...</td>\n",
       "      <td>Single Family</td>\n",
       "      <td>30.380089</td>\n",
       "      <td>-97.800621</td>\n",
       "      <td>0</td>\n",
       "      <td>False</td>\n",
       "      <td>1988</td>\n",
       "      <td>0</td>\n",
       "      <td>102366.0</td>\n",
       "      <td>7.0</td>\n",
       "      <td>17</td>\n",
       "      <td>4.0</td>\n",
       "      <td>4</td>\n",
       "      <td>650000+</td>\n",
       "    </tr>\n",
       "  </tbody>\n",
       "</table>\n",
       "</div>"
      ],
      "text/plain": [
       "    uid    city                                        description  \\\n",
       "0  1748  austin  MULTIPLE OFFERS submit best & final to Agent b...   \n",
       "\n",
       "        homeType   latitude  longitude  garageSpaces  hasSpa  yearBuilt  \\\n",
       "0  Single Family  30.380089 -97.800621             0   False       1988   \n",
       "\n",
       "   numOfPatioAndPorchFeatures  lotSizeSqFt  avgSchoolRating  \\\n",
       "0                           0     102366.0              7.0   \n",
       "\n",
       "   MedianStudentsPerTeacher  numOfBathrooms  numOfBedrooms priceRange  \n",
       "0                        17             4.0              4    650000+  "
      ]
     },
     "execution_count": 22,
     "metadata": {},
     "output_type": "execute_result"
    }
   ],
   "source": [
    "train.head(1)"
   ]
  },
  {
   "cell_type": "code",
   "execution_count": 27,
   "id": "c6c3d60e-4cec-49ce-aac0-b87767b172dc",
   "metadata": {},
   "outputs": [],
   "source": [
    "temp = tf.strings.split(train.description.head())"
   ]
  },
  {
   "cell_type": "code",
   "execution_count": 28,
   "id": "8aff51f2-ac38-48f4-bdc3-afe8ef8cfd3e",
   "metadata": {},
   "outputs": [
    {
     "data": {
      "text/plain": [
       "<tf.RaggedTensor [[b'MULTIPLE', b'OFFERS', b'submit', b'best', b'&', b'final', b'to', b'Agent', b'by', b'Mon', b'21st', b'-', b'5pm.', b'Appt', b'with', b'Agent.', b'RARE', b'PANORAMIC', b'VIEW', b'LOT', b'IN', b'JESTER', b'ESTATES', b'SEE', b'FOR', b'MILES!!', b'Home', b'sits', b'on', b'Cul-de-sac', b'&', b'backs', b'to', b'a', b'Preserve.', b'Stunning', b'remodeled', b'Kitchen', b'&', b'Bathrooms.', b'Master', b'suite', b'is', b'a', b'private', b'sanctuary', b'with', b'chic', b'master', b'bath,', b'huge', b'bedroom,', b'walk-in', b'closet', b'&', b'private', b'deck.', b'Jester', b'has', b'a', b'pool,', b'park,', b'tennis', b'courts', b'&', b'feeds', b'into', b'Anderson', b'High.', b'This', b'home', b'has', b'been', b'well', b'loved', b'&', b'features', b'3', b'living', b'areas,', b'an', b'office,', b'&', b'3', b'car', b'garage.'], [b'4644', b'Hoffman', b'Dr,', b'Austin,', b'TX', b'78749', b'is', b'a', b'single', b'family', b'home', b'that', b'contains', b'2,059', b'sq', b'ft', b'and', b'was', b'built', b'in', b'1997.', b'It', b'contains', b'4', b'bedrooms', b'and', b'3', b'bathrooms.'], [b'6804', b'Canal', b'St,', b'Austin,', b'TX', b'78741', b'is', b'a', b'single', b'family', b'home', b'that', b'contains', b'832', b'sq', b'ft', b'and', b'was', b'built', b'in', b'1952.', b'It', b'contains', b'2', b'bedrooms', b'and', b'1', b'bathroom.'], [b'Beautiful', b'large', b'lot', b'with', b'established', b'trees.', b'Lovely,', b'light', b'filled,', b'spacious', b'home,', b'with', b'large', b'dining', b'area,', b'living', b'room', b'and', b'kitchen', b'in', b'open', b'floor', b'plan', b'layout.', b'Large', b'family-friendly', b'back', b'yard,', b'newly', b'redone', b'patio', b'that', b'spans', b'the', b'back', b'of', b'the', b'home', b'with', b'built-in', b'fire', b'pit', b'in', b'the', b'yard', b'and', b'a', b'newly', b'built', b'large', b'shed.', b'New', b'laminate', b'floors', b'and', b'tile', b'throughout,', b'renovated', b'bathroom', b'in', b'2017.', b'Upgraded', b'kitchen', b'with', b'stainless', b'appliances,', b'new', b'washer/dryer.', b'Built-in', b'closet,', b'laundry', b'room', b'and', b'utility', b'room.', b'LED', b'recessed', b'lighting,', b'low-profile', b'ceiling', b'fans', b'throughout.', b'Wired', b'for', b'Google', b'Fiber.', b'Neighborhood', b'Description', b'The', b'Garrison', b'Park', b'Neighborhood', b'Planning', b'Area', b'is', b'located', b'in', b'southwest', b'Austin.', b'The', b'boundaries', b'for', b'the', b'planning', b'area', b'are', b'Stassney', b'on', b'the', b'north,', b'the', b'City', b'of', b'Sunset', b'Valley', b'on', b'the', b'west,', b'William', b'Cannon', b'on', b'the', b'south', b'and', b'South', b'First', b'on', b'the', b'east.'], [b'Stunning', b'NW', b'Hills', b'designer', b'remodel', b'by', b'Cedar', b'and', b'Oak', b'Homes', b'~', b'Wonderful', b'open', b'&', b'bright', b'concept', b'w/vaulted', b'ceilings', b'&', b'formal', b'dining', b'room', b'~', b'Gorgeous', b'kitchen', b'features', b'custom', b'wood', b'cabinetry,', b'quartz', b'countertops,', b'double', b'pantry,', b'custom', b'built-in', b'breakfast', b'nook', b'and', b'KitchenAid', b'appliances', b'~', b'Beautiful', b'oak', b'engineered', b'hardwood', b'flooring', b'throughout', b'~', b'Spacious', b'Master', b'bedroom', b'with', b'fantastic', b'master', b'bathroom', b'ensuite', b'~', b'All', b'new', b'exterior', b'Hardie', b'Plank', b'siding,', b'Elevate', b'Low-E', b'windows,', b'mechanical', b'systems', b'&', b'fantastic', b'new', b'landscaping']]>"
      ]
     },
     "execution_count": 28,
     "metadata": {},
     "output_type": "execute_result"
    }
   ],
   "source": [
    "temp"
   ]
  },
  {
   "cell_type": "code",
   "execution_count": 29,
   "id": "b62eb5e9-7646-458c-82fd-75b09915cb65",
   "metadata": {},
   "outputs": [
    {
     "data": {
      "text/plain": [
       "<tf.RaggedTensor [[b'MULTIPLE OFFERS', b'OFFERS submit', b'submit best', b'best &', b'& final', b'final to', b'to Agent', b'Agent by', b'by Mon', b'Mon 21st', b'21st -', b'- 5pm.', b'5pm. Appt', b'Appt with', b'with Agent.', b'Agent. RARE', b'RARE PANORAMIC', b'PANORAMIC VIEW', b'VIEW LOT', b'LOT IN', b'IN JESTER', b'JESTER ESTATES', b'ESTATES SEE', b'SEE FOR', b'FOR MILES!!', b'MILES!! Home', b'Home sits', b'sits on', b'on Cul-de-sac', b'Cul-de-sac &', b'& backs', b'backs to', b'to a', b'a Preserve.', b'Preserve. Stunning', b'Stunning remodeled', b'remodeled Kitchen', b'Kitchen &', b'& Bathrooms.', b'Bathrooms. Master', b'Master suite', b'suite is', b'is a', b'a private', b'private sanctuary', b'sanctuary with', b'with chic', b'chic master', b'master bath,', b'bath, huge', b'huge bedroom,', b'bedroom, walk-in', b'walk-in closet', b'closet &', b'& private', b'private deck.', b'deck. Jester', b'Jester has', b'has a', b'a pool,', b'pool, park,', b'park, tennis', b'tennis courts', b'courts &', b'& feeds', b'feeds into', b'into Anderson', b'Anderson High.', b'High. This', b'This home', b'home has', b'has been', b'been well', b'well loved', b'loved &', b'& features', b'features 3', b'3 living', b'living areas,', b'areas, an', b'an office,', b'office, &', b'& 3', b'3 car', b'car garage.'], [b'4644 Hoffman', b'Hoffman Dr,', b'Dr, Austin,', b'Austin, TX', b'TX 78749', b'78749 is', b'is a', b'a single', b'single family', b'family home', b'home that', b'that contains', b'contains 2,059', b'2,059 sq', b'sq ft', b'ft and', b'and was', b'was built', b'built in', b'in 1997.', b'1997. It', b'It contains', b'contains 4', b'4 bedrooms', b'bedrooms and', b'and 3', b'3 bathrooms.'], [b'6804 Canal', b'Canal St,', b'St, Austin,', b'Austin, TX', b'TX 78741', b'78741 is', b'is a', b'a single', b'single family', b'family home', b'home that', b'that contains', b'contains 832', b'832 sq', b'sq ft', b'ft and', b'and was', b'was built', b'built in', b'in 1952.', b'1952. It', b'It contains', b'contains 2', b'2 bedrooms', b'bedrooms and', b'and 1', b'1 bathroom.'], [b'Beautiful large', b'large lot', b'lot with', b'with established', b'established trees.', b'trees. Lovely,', b'Lovely, light', b'light filled,', b'filled, spacious', b'spacious home,', b'home, with', b'with large', b'large dining', b'dining area,', b'area, living', b'living room', b'room and', b'and kitchen', b'kitchen in', b'in open', b'open floor', b'floor plan', b'plan layout.', b'layout. Large', b'Large family-friendly', b'family-friendly back', b'back yard,', b'yard, newly', b'newly redone', b'redone patio', b'patio that', b'that spans', b'spans the', b'the back', b'back of', b'of the', b'the home', b'home with', b'with built-in', b'built-in fire', b'fire pit', b'pit in', b'in the', b'the yard', b'yard and', b'and a', b'a newly', b'newly built', b'built large', b'large shed.', b'shed. New', b'New laminate', b'laminate floors', b'floors and', b'and tile', b'tile throughout,', b'throughout, renovated', b'renovated bathroom', b'bathroom in', b'in 2017.', b'2017. Upgraded', b'Upgraded kitchen', b'kitchen with', b'with stainless', b'stainless appliances,', b'appliances, new', b'new washer/dryer.', b'washer/dryer. Built-in', b'Built-in closet,', b'closet, laundry', b'laundry room', b'room and', b'and utility', b'utility room.', b'room. LED', b'LED recessed', b'recessed lighting,', b'lighting, low-profile', b'low-profile ceiling', b'ceiling fans', b'fans throughout.', b'throughout. Wired', b'Wired for', b'for Google', b'Google Fiber.', b'Fiber. Neighborhood', b'Neighborhood Description', b'Description The', b'The Garrison', b'Garrison Park', b'Park Neighborhood', b'Neighborhood Planning', b'Planning Area', b'Area is', b'is located', b'located in', b'in southwest', b'southwest Austin.', b'Austin. The', b'The boundaries', b'boundaries for', b'for the', b'the planning', b'planning area', b'area are', b'are Stassney', b'Stassney on', b'on the', b'the north,', b'north, the', b'the City', b'City of', b'of Sunset', b'Sunset Valley', b'Valley on', b'on the', b'the west,', b'west, William', b'William Cannon', b'Cannon on', b'on the', b'the south', b'south and', b'and South', b'South First', b'First on', b'on the', b'the east.'], [b'Stunning NW', b'NW Hills', b'Hills designer', b'designer remodel', b'remodel by', b'by Cedar', b'Cedar and', b'and Oak', b'Oak Homes', b'Homes ~', b'~ Wonderful', b'Wonderful open', b'open &', b'& bright', b'bright concept', b'concept w/vaulted', b'w/vaulted ceilings', b'ceilings &', b'& formal', b'formal dining', b'dining room', b'room ~', b'~ Gorgeous', b'Gorgeous kitchen', b'kitchen features', b'features custom', b'custom wood', b'wood cabinetry,', b'cabinetry, quartz', b'quartz countertops,', b'countertops, double', b'double pantry,', b'pantry, custom', b'custom built-in', b'built-in breakfast', b'breakfast nook', b'nook and', b'and KitchenAid', b'KitchenAid appliances', b'appliances ~', b'~ Beautiful', b'Beautiful oak', b'oak engineered', b'engineered hardwood', b'hardwood flooring', b'flooring throughout', b'throughout ~', b'~ Spacious', b'Spacious Master', b'Master bedroom', b'bedroom with', b'with fantastic', b'fantastic master', b'master bathroom', b'bathroom ensuite', b'ensuite ~', b'~ All', b'All new', b'new exterior', b'exterior Hardie', b'Hardie Plank', b'Plank siding,', b'siding, Elevate', b'Elevate Low-E', b'Low-E windows,', b'windows, mechanical', b'mechanical systems', b'systems &', b'& fantastic', b'fantastic new', b'new landscaping']]>"
      ]
     },
     "execution_count": 29,
     "metadata": {},
     "output_type": "execute_result"
    }
   ],
   "source": [
    "tf.strings.ngrams(temp, 2)"
   ]
  },
  {
   "cell_type": "code",
   "execution_count": 23,
   "id": "64944529-794a-49ec-bb88-656dd64e9670",
   "metadata": {},
   "outputs": [
    {
     "data": {
      "text/plain": [
       "(10000, 16)"
      ]
     },
     "execution_count": 23,
     "metadata": {},
     "output_type": "execute_result"
    }
   ],
   "source": [
    "train.shape"
   ]
  },
  {
   "cell_type": "code",
   "execution_count": 6,
   "id": "e7e36abc-b948-455b-978a-7c8d021ecad5",
   "metadata": {},
   "outputs": [
    {
     "name": "stdout",
     "output_type": "stream",
     "text": [
      "Label classes: ['650000+', '350000-450000', '0-250000', '450000-650000', '250000-350000']\n"
     ]
    }
   ],
   "source": [
    "classes = train[label].unique().tolist()\n",
    "print(f\"Label classes: {classes}\")\n",
    "\n",
    "train[label] = train[label].map(classes.index)"
   ]
  },
  {
   "cell_type": "code",
   "execution_count": 7,
   "id": "ecf94309-219d-43e8-9925-2fb1fa647889",
   "metadata": {},
   "outputs": [
    {
     "data": {
      "text/plain": [
       "Index(['uid', 'city', 'description', 'homeType', 'latitude', 'longitude',\n",
       "       'garageSpaces', 'hasSpa', 'yearBuilt', 'numOfPatioAndPorchFeatures',\n",
       "       'lotSizeSqFt', 'avgSchoolRating', 'MedianStudentsPerTeacher',\n",
       "       'numOfBathrooms', 'numOfBedrooms', 'priceRange'],\n",
       "      dtype='object')"
      ]
     },
     "execution_count": 7,
     "metadata": {},
     "output_type": "execute_result"
    }
   ],
   "source": [
    "train.columns"
   ]
  },
  {
   "cell_type": "code",
   "execution_count": 8,
   "id": "b3edc4c9-c46a-4b43-be8a-6c971e9019dd",
   "metadata": {},
   "outputs": [
    {
     "data": {
      "text/plain": [
       "Index(['uid', 'city', 'description', 'homeType', 'latitude', 'longitude',\n",
       "       'garageSpaces', 'hasSpa', 'yearBuilt', 'numOfPatioAndPorchFeatures',\n",
       "       'lotSizeSqFt', 'avgSchoolRating', 'MedianStudentsPerTeacher',\n",
       "       'numOfBathrooms', 'numOfBedrooms'],\n",
       "      dtype='object')"
      ]
     },
     "execution_count": 8,
     "metadata": {},
     "output_type": "execute_result"
    }
   ],
   "source": [
    "test.columns"
   ]
  },
  {
   "cell_type": "markdown",
   "id": "0da12107-0cab-41c8-a904-1c0f6495ac35",
   "metadata": {},
   "source": [
    "# Train"
   ]
  },
  {
   "cell_type": "code",
   "execution_count": 9,
   "id": "b8638e6a-9212-4e45-8029-3aed879108fa",
   "metadata": {},
   "outputs": [
    {
     "data": {
      "text/plain": [
       "0       MULTIPLE OFFERS submit best & final to Agent b...\n",
       "1       4644 Hoffman Dr, Austin, TX 78749 is a single ...\n",
       "2       6804 Canal St, Austin, TX 78741 is a single fa...\n",
       "3       Beautiful large lot with established trees. Lo...\n",
       "4       Stunning NW Hills designer remodel by Cedar an...\n",
       "                              ...                        \n",
       "9995    Updated Great Hills Opportunity! Large corner ...\n",
       "9996    Adorable 3/2 in the heart of South Austin! Sit...\n",
       "9997    7322 Gaines Mill Ln, Austin, TX 78745 is a sin...\n",
       "9998    5213 Doe Valley Ln, Austin, TX 78759 is a sing...\n",
       "9999    Beautiful single-story home with open floor pl...\n",
       "Name: description, Length: 10000, dtype: object"
      ]
     },
     "execution_count": 9,
     "metadata": {},
     "output_type": "execute_result"
    }
   ],
   "source": [
    "train.description"
   ]
  },
  {
   "cell_type": "code",
   "execution_count": 10,
   "id": "8010c120-c6cc-46ba-84cb-96bbbfff7f79",
   "metadata": {},
   "outputs": [],
   "source": [
    "def inpute_missing(dataset):\n",
    "    \"\"\" \n",
    "    Edit this to fix nulls. Default version replaces all int/float with 0\n",
    "    \"\"\"\n",
    "    for col in dataset.columns:\n",
    "        if dataset[col].dtype not in [str, object]:\n",
    "            dataset[col] = dataset[col].fillna(dataset[col].mean())\n",
    "        elif col == 'name':\n",
    "             dataset[col] = 'No Name'\n",
    "    return dataset\n",
    "\n",
    "train = inpute_missing(train)\n",
    "test = inpute_missing(test)"
   ]
  },
  {
   "cell_type": "code",
   "execution_count": 11,
   "id": "254189c3-4604-4a07-a4a4-11482ade9f39",
   "metadata": {},
   "outputs": [],
   "source": [
    "def nlp_transforms(dataset):\n",
    "    \"\"\" \n",
    "    NLP tranforms here. Default, None...\n",
    "    \"\"\"\n",
    "    \n",
    "    # lower case\n",
    "    dataset['description'] = dataset['description'].str.lower()\n",
    "    \n",
    "    #remove punctuations\n",
    "    train[\"description\"] = train['description'].str.replace('[^\\w\\s]','')\n",
    "    \n",
    "    # description length (characters)\n",
    "    \n",
    "    # description sentiment? \n",
    "    \n",
    "    return dataset\n",
    "\n",
    "train = nlp_transforms(train)\n",
    "test = nlp_transforms(test)"
   ]
  },
  {
   "cell_type": "code",
   "execution_count": 12,
   "id": "74d3120c-fa07-45a4-a94a-4ea91c549be3",
   "metadata": {},
   "outputs": [
    {
     "name": "stdout",
     "output_type": "stream",
     "text": [
      "<class 'pandas.core.frame.DataFrame'>\n",
      "RangeIndex: 10000 entries, 0 to 9999\n",
      "Data columns (total 16 columns):\n",
      " #   Column                      Non-Null Count  Dtype  \n",
      "---  ------                      --------------  -----  \n",
      " 0   uid                         10000 non-null  int64  \n",
      " 1   city                        10000 non-null  object \n",
      " 2   description                 10000 non-null  object \n",
      " 3   homeType                    10000 non-null  object \n",
      " 4   latitude                    10000 non-null  float64\n",
      " 5   longitude                   10000 non-null  float64\n",
      " 6   garageSpaces                10000 non-null  int64  \n",
      " 7   hasSpa                      10000 non-null  bool   \n",
      " 8   yearBuilt                   10000 non-null  int64  \n",
      " 9   numOfPatioAndPorchFeatures  10000 non-null  int64  \n",
      " 10  lotSizeSqFt                 10000 non-null  float64\n",
      " 11  avgSchoolRating             10000 non-null  float64\n",
      " 12  MedianStudentsPerTeacher    10000 non-null  int64  \n",
      " 13  numOfBathrooms              10000 non-null  float64\n",
      " 14  numOfBedrooms               10000 non-null  int64  \n",
      " 15  priceRange                  10000 non-null  int64  \n",
      "dtypes: bool(1), float64(5), int64(7), object(3)\n",
      "memory usage: 1.2+ MB\n"
     ]
    }
   ],
   "source": [
    "train.info()"
   ]
  },
  {
   "cell_type": "code",
   "execution_count": 13,
   "id": "82eaa412-e826-4252-b354-a568a7f57d57",
   "metadata": {},
   "outputs": [],
   "source": [
    "def computation_transforms(dataset):\n",
    "    \"\"\" \n",
    "    New Feature Engineering. Default, None...\n",
    "    \"\"\"\n",
    "    dataset['hasSpa'] = np.where(dataset['hasSpa'] == True, 1, 0)\n",
    "    return dataset\n",
    "\n",
    "train = computation_transforms(train)\n",
    "test = computation_transforms(test)"
   ]
  },
  {
   "cell_type": "code",
   "execution_count": 14,
   "id": "9194c389-591a-452f-882e-fe9a400c6e82",
   "metadata": {},
   "outputs": [
    {
     "data": {
      "text/html": [
       "<div>\n",
       "<style scoped>\n",
       "    .dataframe tbody tr th:only-of-type {\n",
       "        vertical-align: middle;\n",
       "    }\n",
       "\n",
       "    .dataframe tbody tr th {\n",
       "        vertical-align: top;\n",
       "    }\n",
       "\n",
       "    .dataframe thead th {\n",
       "        text-align: right;\n",
       "    }\n",
       "</style>\n",
       "<table border=\"1\" class=\"dataframe\">\n",
       "  <thead>\n",
       "    <tr style=\"text-align: right;\">\n",
       "      <th></th>\n",
       "      <th>uid</th>\n",
       "      <th>city</th>\n",
       "      <th>description</th>\n",
       "      <th>homeType</th>\n",
       "      <th>latitude</th>\n",
       "      <th>longitude</th>\n",
       "      <th>garageSpaces</th>\n",
       "      <th>hasSpa</th>\n",
       "      <th>yearBuilt</th>\n",
       "      <th>numOfPatioAndPorchFeatures</th>\n",
       "      <th>lotSizeSqFt</th>\n",
       "      <th>avgSchoolRating</th>\n",
       "      <th>MedianStudentsPerTeacher</th>\n",
       "      <th>numOfBathrooms</th>\n",
       "      <th>numOfBedrooms</th>\n",
       "      <th>priceRange</th>\n",
       "    </tr>\n",
       "  </thead>\n",
       "  <tbody>\n",
       "    <tr>\n",
       "      <th>0</th>\n",
       "      <td>1748</td>\n",
       "      <td>austin</td>\n",
       "      <td>multiple offers submit best  final to agent by...</td>\n",
       "      <td>Single Family</td>\n",
       "      <td>30.380089</td>\n",
       "      <td>-97.800621</td>\n",
       "      <td>0</td>\n",
       "      <td>0</td>\n",
       "      <td>1988</td>\n",
       "      <td>0</td>\n",
       "      <td>102366.0</td>\n",
       "      <td>7.000000</td>\n",
       "      <td>17</td>\n",
       "      <td>4.0</td>\n",
       "      <td>4</td>\n",
       "      <td>0</td>\n",
       "    </tr>\n",
       "    <tr>\n",
       "      <th>1</th>\n",
       "      <td>13380</td>\n",
       "      <td>austin</td>\n",
       "      <td>4644 hoffman dr austin tx 78749 is a single fa...</td>\n",
       "      <td>Single Family</td>\n",
       "      <td>30.199486</td>\n",
       "      <td>-97.859947</td>\n",
       "      <td>0</td>\n",
       "      <td>0</td>\n",
       "      <td>1997</td>\n",
       "      <td>0</td>\n",
       "      <td>6534.0</td>\n",
       "      <td>6.666667</td>\n",
       "      <td>16</td>\n",
       "      <td>3.0</td>\n",
       "      <td>4</td>\n",
       "      <td>1</td>\n",
       "    </tr>\n",
       "    <tr>\n",
       "      <th>2</th>\n",
       "      <td>4115</td>\n",
       "      <td>austin</td>\n",
       "      <td>6804 canal st austin tx 78741 is a single fami...</td>\n",
       "      <td>Single Family</td>\n",
       "      <td>30.227398</td>\n",
       "      <td>-97.696083</td>\n",
       "      <td>0</td>\n",
       "      <td>0</td>\n",
       "      <td>1952</td>\n",
       "      <td>0</td>\n",
       "      <td>5619.0</td>\n",
       "      <td>3.333333</td>\n",
       "      <td>11</td>\n",
       "      <td>1.0</td>\n",
       "      <td>2</td>\n",
       "      <td>2</td>\n",
       "    </tr>\n",
       "    <tr>\n",
       "      <th>3</th>\n",
       "      <td>6926</td>\n",
       "      <td>austin</td>\n",
       "      <td>beautiful large lot with established trees lov...</td>\n",
       "      <td>Single Family</td>\n",
       "      <td>30.205469</td>\n",
       "      <td>-97.792351</td>\n",
       "      <td>4</td>\n",
       "      <td>0</td>\n",
       "      <td>1976</td>\n",
       "      <td>0</td>\n",
       "      <td>6416.0</td>\n",
       "      <td>4.000000</td>\n",
       "      <td>14</td>\n",
       "      <td>2.0</td>\n",
       "      <td>4</td>\n",
       "      <td>2</td>\n",
       "    </tr>\n",
       "    <tr>\n",
       "      <th>4</th>\n",
       "      <td>14480</td>\n",
       "      <td>austin</td>\n",
       "      <td>stunning nw hills designer remodel by cedar an...</td>\n",
       "      <td>Single Family</td>\n",
       "      <td>30.345106</td>\n",
       "      <td>-97.767426</td>\n",
       "      <td>2</td>\n",
       "      <td>0</td>\n",
       "      <td>1984</td>\n",
       "      <td>0</td>\n",
       "      <td>10759.0</td>\n",
       "      <td>7.000000</td>\n",
       "      <td>16</td>\n",
       "      <td>3.0</td>\n",
       "      <td>5</td>\n",
       "      <td>0</td>\n",
       "    </tr>\n",
       "  </tbody>\n",
       "</table>\n",
       "</div>"
      ],
      "text/plain": [
       "     uid    city                                        description  \\\n",
       "0   1748  austin  multiple offers submit best  final to agent by...   \n",
       "1  13380  austin  4644 hoffman dr austin tx 78749 is a single fa...   \n",
       "2   4115  austin  6804 canal st austin tx 78741 is a single fami...   \n",
       "3   6926  austin  beautiful large lot with established trees lov...   \n",
       "4  14480  austin  stunning nw hills designer remodel by cedar an...   \n",
       "\n",
       "        homeType   latitude  longitude  garageSpaces  hasSpa  yearBuilt  \\\n",
       "0  Single Family  30.380089 -97.800621             0       0       1988   \n",
       "1  Single Family  30.199486 -97.859947             0       0       1997   \n",
       "2  Single Family  30.227398 -97.696083             0       0       1952   \n",
       "3  Single Family  30.205469 -97.792351             4       0       1976   \n",
       "4  Single Family  30.345106 -97.767426             2       0       1984   \n",
       "\n",
       "   numOfPatioAndPorchFeatures  lotSizeSqFt  avgSchoolRating  \\\n",
       "0                           0     102366.0         7.000000   \n",
       "1                           0       6534.0         6.666667   \n",
       "2                           0       5619.0         3.333333   \n",
       "3                           0       6416.0         4.000000   \n",
       "4                           0      10759.0         7.000000   \n",
       "\n",
       "   MedianStudentsPerTeacher  numOfBathrooms  numOfBedrooms  priceRange  \n",
       "0                        17             4.0              4           0  \n",
       "1                        16             3.0              4           1  \n",
       "2                        11             1.0              2           2  \n",
       "3                        14             2.0              4           2  \n",
       "4                        16             3.0              5           0  "
      ]
     },
     "execution_count": 14,
     "metadata": {},
     "output_type": "execute_result"
    }
   ],
   "source": [
    "train.head()"
   ]
  },
  {
   "cell_type": "markdown",
   "id": "330a7f82-b726-4737-89e8-40989e74f42e",
   "metadata": {},
   "source": [
    "# Train"
   ]
  },
  {
   "cell_type": "code",
   "execution_count": 74,
   "id": "7197d2ca-976e-409c-a030-93d0b9048854",
   "metadata": {},
   "outputs": [
    {
     "data": {
      "text/html": [
       "<div>\n",
       "<style scoped>\n",
       "    .dataframe tbody tr th:only-of-type {\n",
       "        vertical-align: middle;\n",
       "    }\n",
       "\n",
       "    .dataframe tbody tr th {\n",
       "        vertical-align: top;\n",
       "    }\n",
       "\n",
       "    .dataframe thead th {\n",
       "        text-align: right;\n",
       "    }\n",
       "</style>\n",
       "<table border=\"1\" class=\"dataframe\">\n",
       "  <thead>\n",
       "    <tr style=\"text-align: right;\">\n",
       "      <th></th>\n",
       "      <th>uid</th>\n",
       "      <th>city</th>\n",
       "      <th>description</th>\n",
       "      <th>homeType</th>\n",
       "      <th>latitude</th>\n",
       "      <th>longitude</th>\n",
       "      <th>garageSpaces</th>\n",
       "      <th>hasSpa</th>\n",
       "      <th>yearBuilt</th>\n",
       "      <th>numOfPatioAndPorchFeatures</th>\n",
       "      <th>lotSizeSqFt</th>\n",
       "      <th>avgSchoolRating</th>\n",
       "      <th>MedianStudentsPerTeacher</th>\n",
       "      <th>numOfBathrooms</th>\n",
       "      <th>numOfBedrooms</th>\n",
       "      <th>priceRange</th>\n",
       "    </tr>\n",
       "  </thead>\n",
       "  <tbody>\n",
       "    <tr>\n",
       "      <th>0</th>\n",
       "      <td>1748</td>\n",
       "      <td>austin</td>\n",
       "      <td>multiple offers submit best  final to agent by...</td>\n",
       "      <td>Single Family</td>\n",
       "      <td>30.380089</td>\n",
       "      <td>-97.800621</td>\n",
       "      <td>0</td>\n",
       "      <td>0</td>\n",
       "      <td>1988</td>\n",
       "      <td>0</td>\n",
       "      <td>102366.0</td>\n",
       "      <td>7.0</td>\n",
       "      <td>17</td>\n",
       "      <td>4.0</td>\n",
       "      <td>4</td>\n",
       "      <td>0</td>\n",
       "    </tr>\n",
       "  </tbody>\n",
       "</table>\n",
       "</div>"
      ],
      "text/plain": [
       "    uid    city                                        description  \\\n",
       "0  1748  austin  multiple offers submit best  final to agent by...   \n",
       "\n",
       "        homeType   latitude  longitude  garageSpaces  hasSpa  yearBuilt  \\\n",
       "0  Single Family  30.380089 -97.800621             0       0       1988   \n",
       "\n",
       "   numOfPatioAndPorchFeatures  lotSizeSqFt  avgSchoolRating  \\\n",
       "0                           0     102366.0              7.0   \n",
       "\n",
       "   MedianStudentsPerTeacher  numOfBathrooms  numOfBedrooms  priceRange  \n",
       "0                        17             4.0              4           0  "
      ]
     },
     "execution_count": 74,
     "metadata": {},
     "output_type": "execute_result"
    }
   ],
   "source": [
    "train.head(1)"
   ]
  },
  {
   "cell_type": "code",
   "execution_count": 75,
   "id": "8205a972-10ca-4a65-ab27-40a3769917b2",
   "metadata": {},
   "outputs": [
    {
     "data": {
      "text/plain": [
       "Index(['uid', 'city', 'description', 'homeType', 'latitude', 'longitude',\n",
       "       'garageSpaces', 'hasSpa', 'yearBuilt', 'numOfPatioAndPorchFeatures',\n",
       "       'lotSizeSqFt', 'avgSchoolRating', 'MedianStudentsPerTeacher',\n",
       "       'numOfBathrooms', 'numOfBedrooms', 'priceRange'],\n",
       "      dtype='object')"
      ]
     },
     "execution_count": 75,
     "metadata": {},
     "output_type": "execute_result"
    }
   ],
   "source": [
    "train.columns"
   ]
  },
  {
   "cell_type": "code",
   "execution_count": 76,
   "id": "d9e5df3d-71cf-479f-a63c-d0555292dcd0",
   "metadata": {},
   "outputs": [],
   "source": [
    "to_drop = ['uid']\n",
    "train = train.drop(to_drop,axis=1)\n",
    "test = test.drop(to_drop,axis=1)"
   ]
  },
  {
   "cell_type": "code",
   "execution_count": 77,
   "id": "08e2ee08-1448-455a-85a8-8769dba2852f",
   "metadata": {},
   "outputs": [],
   "source": [
    "columns = train.columns.tolist()"
   ]
  },
  {
   "cell_type": "code",
   "execution_count": 78,
   "id": "4a976289-d045-4b08-8983-d09d3ecfa938",
   "metadata": {},
   "outputs": [
    {
     "data": {
      "text/plain": [
       "['city',\n",
       " 'description',\n",
       " 'homeType',\n",
       " 'latitude',\n",
       " 'longitude',\n",
       " 'garageSpaces',\n",
       " 'hasSpa',\n",
       " 'yearBuilt',\n",
       " 'numOfPatioAndPorchFeatures',\n",
       " 'lotSizeSqFt',\n",
       " 'avgSchoolRating',\n",
       " 'MedianStudentsPerTeacher',\n",
       " 'numOfBathrooms',\n",
       " 'numOfBedrooms',\n",
       " 'priceRange']"
      ]
     },
     "execution_count": 78,
     "metadata": {},
     "output_type": "execute_result"
    }
   ],
   "source": [
    "columns"
   ]
  },
  {
   "cell_type": "code",
   "execution_count": 79,
   "id": "03a123cc-5198-455d-ab9e-4385de6c8e92",
   "metadata": {},
   "outputs": [],
   "source": [
    "def prepare_dataset(data):\n",
    "    \n",
    "    features = {\"city\" : data[\"city\"],\n",
    "                \"description\" : tf.strings.split(data[\"description\"]),\n",
    "                \"homeType\" : data[\"homeType\"],\n",
    "                \"latitude\" : data[\"latitude\"],\n",
    "                \"longitude\" : data[\"longitude\"],\n",
    "                \"garageSpaces\" : data[\"garageSpaces\"],\n",
    "                \"hasSpa\" : data[\"hasSpa\"],\n",
    "                \"yearBuilt\" : data[\"yearBuilt\"],\n",
    "                \"numOfPatioAndPorchFeatures\" : data[\"numOfPatioAndPorchFeatures\"],\n",
    "                \"lotSizeSqFt\" : data[\"lotSizeSqFt\"],\n",
    "                \"avgSchoolRating\" : data[\"avgSchoolRating\"],\n",
    "                \"MedianStudentsPerTeacher\" : data[\"MedianStudentsPerTeacher\"],\n",
    "                \"numOfBathrooms\" : data[\"numOfBathrooms\"],\n",
    "                \"numOfBedrooms\" : data[\"numOfBedrooms\"]\n",
    "               }\n",
    "    \n",
    "    try:\n",
    "        label = data['priceRange']\n",
    "        output = features,label\n",
    "    except:\n",
    "        output = features\n",
    "    \n",
    "    return output"
   ]
  },
  {
   "cell_type": "code",
   "execution_count": 80,
   "id": "f864ff05-cfc3-481e-826e-8ab6f0451c56",
   "metadata": {},
   "outputs": [],
   "source": [
    "X_train, X_test = train_test_split(train,test_size=0.2, random_state=42)\n",
    "\n",
    "columns = train.columns.tolist()\n",
    "#columns = ['age','outcome_type']\n",
    "train_dataframe = X_train[columns]\n",
    "train_dataframe = train_dataframe.to_dict('list')\n",
    "train_dataset = tf.data.Dataset.from_tensor_slices(train_dataframe)\n",
    "\n",
    "test_dataframe = X_test[columns]\n",
    "test_dataframe = test_dataframe.to_dict('list')\n",
    "test_dataset = tf.data.Dataset.from_tensor_slices(test_dataframe)\n",
    "\n",
    "\n",
    "\n",
    "train_ds = train_dataset.batch(64).map(prepare_dataset)\n",
    "test_ds = test_dataset.batch(64).map(prepare_dataset)"
   ]
  },
  {
   "cell_type": "code",
   "execution_count": 81,
   "id": "e1b998cf-2a30-44e9-8b9d-59301866ca5e",
   "metadata": {},
   "outputs": [],
   "source": [
    "#train.head()"
   ]
  },
  {
   "cell_type": "code",
   "execution_count": null,
   "id": "a5729d68-b42d-4d5c-8997-49c2562c5e89",
   "metadata": {},
   "outputs": [
    {
     "name": "stdout",
     "output_type": "stream",
     "text": [
      "125/125 [==============================] - 1s 906us/step\n"
     ]
    }
   ],
   "source": [
    "model_1 = tfdf.keras.GradientBoostedTreesModel(hyperparameter_template=\"benchmark_rank1\")\n",
    "model_1.compile(metrics=[tf.keras.metrics.CategoricalCrossentropy()])\n",
    "model_1.fit(x=train_ds)"
   ]
  },
  {
   "cell_type": "code",
   "execution_count": null,
   "id": "1d8fa446-3828-46ba-8768-ad0c96e5947a",
   "metadata": {},
   "outputs": [],
   "source": [
    "#logs"
   ]
  },
  {
   "cell_type": "code",
   "execution_count": null,
   "id": "525989a7-6e6d-49d0-b14b-6687bf37ca7a",
   "metadata": {},
   "outputs": [],
   "source": [
    "model_1.make_inspector().evaluation()"
   ]
  },
  {
   "cell_type": "code",
   "execution_count": 182,
   "id": "e8548cba-cf0d-4341-abff-8e73aff8b281",
   "metadata": {},
   "outputs": [
    {
     "name": "stdout",
     "output_type": "stream",
     "text": [
      "Model: \"gradient_boosted_trees_model_10\"\n",
      "_________________________________________________________________\n",
      "Layer (type)                 Output Shape              Param #   \n",
      "=================================================================\n",
      "Total params: 1\n",
      "Trainable params: 0\n",
      "Non-trainable params: 1\n",
      "_________________________________________________________________\n",
      "Type: \"GRADIENT_BOOSTED_TREES\"\n",
      "Task: CLASSIFICATION\n",
      "Label: \"__LABEL\"\n",
      "\n",
      "Input Features (15):\n",
      "\tage\n",
      "\tanimal_type\n",
      "\tbirth_month\n",
      "\tbirth_year\n",
      "\tbreed\n",
      "\tcolor\n",
      "\tday\n",
      "\thour\n",
      "\tmonth\n",
      "\tname\n",
      "\tnum_breed\n",
      "\tsex\n",
      "\tspay_neuter\n",
      "\tweekday\n",
      "\tyear\n",
      "\n",
      "No weights\n",
      "\n",
      "Variable Importance: NUM_NODES:\n",
      "    1.         \"age\" 7576.000000 ################\n",
      "    2.       \"breed\" 3629.000000 #######\n",
      "    3. \"birth_month\" 2854.000000 #####\n",
      "    4.  \"birth_year\" 2362.000000 ####\n",
      "    5.        \"hour\" 1921.000000 ###\n",
      "    6.         \"day\" 1853.000000 ###\n",
      "    7.       \"color\" 1764.000000 ###\n",
      "    8.     \"weekday\" 1252.000000 ##\n",
      "    9. \"spay_neuter\" 703.000000 #\n",
      "   10. \"animal_type\" 562.000000 #\n",
      "   11.       \"month\" 529.000000 #\n",
      "   12.         \"sex\" 274.000000 \n",
      "   13.        \"year\" 162.000000 \n",
      "   14.   \"num_breed\" 59.000000 \n",
      "\n",
      "Variable Importance: NUM_AS_ROOT:\n",
      "    1.         \"age\" 246.000000 ################\n",
      "    2.       \"breed\" 172.000000 ###########\n",
      "    3. \"birth_month\" 81.000000 #####\n",
      "    4.       \"color\" 80.000000 ####\n",
      "    5.        \"hour\" 61.000000 ###\n",
      "    6. \"spay_neuter\" 61.000000 ###\n",
      "    7.         \"day\" 58.000000 ###\n",
      "    8.  \"birth_year\" 46.000000 ##\n",
      "    9. \"animal_type\" 19.000000 \n",
      "   10.         \"sex\" 18.000000 \n",
      "   11.     \"weekday\"  7.000000 \n",
      "   12.       \"month\"  6.000000 \n",
      "\n",
      "Variable Importance: SUM_SCORE:\n",
      "    1. \"spay_neuter\" 22742.134519 ################\n",
      "    2.         \"age\" 18978.050937 #############\n",
      "    3. \"animal_type\" 10433.993179 #######\n",
      "    4.        \"hour\" 7144.779264 ####\n",
      "    5.       \"breed\" 5062.344491 ###\n",
      "    6. \"birth_month\" 3125.680265 ##\n",
      "    7.  \"birth_year\" 2996.910661 ##\n",
      "    8.         \"sex\" 2572.521813 #\n",
      "    9.     \"weekday\" 2160.651083 #\n",
      "   10.         \"day\" 1296.279690 \n",
      "   11.       \"color\" 1094.451097 \n",
      "   12.       \"month\" 402.043192 \n",
      "   13.        \"year\" 336.637472 \n",
      "   14.   \"num_breed\" 68.385666 \n",
      "\n",
      "Variable Importance: MEAN_MIN_DEPTH:\n",
      "    1.        \"name\"  5.409208 ################\n",
      "    2.     \"__LABEL\"  5.409208 ################\n",
      "    3.   \"num_breed\"  5.394700 ###############\n",
      "    4.        \"year\"  5.336450 ###############\n",
      "    5.       \"month\"  5.160320 ##############\n",
      "    6.         \"sex\"  5.129175 ##############\n",
      "    7. \"animal_type\"  4.969718 #############\n",
      "    8.     \"weekday\"  4.861116 #############\n",
      "    9. \"spay_neuter\"  4.692656 ############\n",
      "   10.         \"day\"  4.377756 ###########\n",
      "   11.        \"hour\"  4.214198 ##########\n",
      "   12.       \"color\"  4.199938 ##########\n",
      "   13.  \"birth_year\"  4.197337 ##########\n",
      "   14. \"birth_month\"  3.941765 #########\n",
      "   15.       \"breed\"  3.005272 ####\n",
      "   16.         \"age\"  2.053334 \n",
      "\n",
      "\n",
      "\n",
      "Loss: MULTINOMIAL_LOG_LIKELIHOOD\n",
      "Validation loss value: 0.439837\n",
      "Number of trees per iteration: 3\n",
      "Node format: NOT_SET\n",
      "Number of trees: 855\n",
      "Total number of nodes: 51855\n",
      "\n",
      "Number of nodes by tree:\n",
      "Count: 855 Average: 60.6491 StdDev: 2.11669\n",
      "Min: 37 Max: 61 Ignored: 0\n",
      "----------------------------------------------\n",
      "[ 37, 38)   1   0.12%   0.12%\n",
      "[ 38, 39)   0   0.00%   0.12%\n",
      "[ 39, 40)   0   0.00%   0.12%\n",
      "[ 40, 42)   2   0.23%   0.35%\n",
      "[ 42, 43)   0   0.00%   0.35%\n",
      "[ 43, 44)   2   0.23%   0.58%\n",
      "[ 44, 45)   0   0.00%   0.58%\n",
      "[ 45, 47)   1   0.12%   0.70%\n",
      "[ 47, 48)   4   0.47%   1.17%\n",
      "[ 48, 49)   0   0.00%   1.17%\n",
      "[ 49, 50)   0   0.00%   1.17%\n",
      "[ 50, 52)   3   0.35%   1.52%\n",
      "[ 52, 53)   0   0.00%   1.52%\n",
      "[ 53, 54)   6   0.70%   2.22%\n",
      "[ 54, 55)   0   0.00%   2.22%\n",
      "[ 55, 57)   2   0.23%   2.46%\n",
      "[ 57, 58)   5   0.58%   3.04%\n",
      "[ 58, 59)   0   0.00%   3.04%\n",
      "[ 59, 60)   9   1.05%   4.09%\n",
      "[ 60, 61] 820  95.91% 100.00% ##########\n",
      "\n",
      "Depth by leafs:\n",
      "Count: 26355 Average: 5.41006 StdDev: 0.97137\n",
      "Min: 1 Max: 6 Ignored: 0\n",
      "----------------------------------------------\n",
      "[ 1, 2)    14   0.05%   0.05%\n",
      "[ 2, 3)   402   1.53%   1.58%\n",
      "[ 3, 4)  1337   5.07%   6.65% #\n",
      "[ 4, 5)  2683  10.18%  16.83% ##\n",
      "[ 5, 6)  4493  17.05%  33.88% ###\n",
      "[ 6, 6] 17426  66.12% 100.00% ##########\n",
      "\n",
      "Number of training obs by leaf:\n",
      "Count: 26355 Average: 0 StdDev: 0\n",
      "Min: 0 Max: 0 Ignored: 0\n",
      "----------------------------------------------\n",
      "[ 0, 0] 26355 100.00% 100.00% ##########\n",
      "\n",
      "Attribute in nodes:\n",
      "\t7576 : age [NUMERICAL]\n",
      "\t3629 : breed [CATEGORICAL_SET]\n",
      "\t2854 : birth_month [NUMERICAL]\n",
      "\t2362 : birth_year [NUMERICAL]\n",
      "\t1921 : hour [NUMERICAL]\n",
      "\t1853 : day [NUMERICAL]\n",
      "\t1764 : color [CATEGORICAL_SET]\n",
      "\t1252 : weekday [CATEGORICAL]\n",
      "\t703 : spay_neuter [CATEGORICAL]\n",
      "\t562 : animal_type [CATEGORICAL]\n",
      "\t529 : month [NUMERICAL]\n",
      "\t274 : sex [CATEGORICAL]\n",
      "\t162 : year [NUMERICAL]\n",
      "\t59 : num_breed [NUMERICAL]\n",
      "\n",
      "Attribute in nodes with depth <= 0:\n",
      "\t246 : age [NUMERICAL]\n",
      "\t172 : breed [CATEGORICAL_SET]\n",
      "\t81 : birth_month [NUMERICAL]\n",
      "\t80 : color [CATEGORICAL_SET]\n",
      "\t61 : spay_neuter [CATEGORICAL]\n",
      "\t61 : hour [NUMERICAL]\n",
      "\t58 : day [NUMERICAL]\n",
      "\t46 : birth_year [NUMERICAL]\n",
      "\t19 : animal_type [CATEGORICAL]\n",
      "\t18 : sex [CATEGORICAL]\n",
      "\t7 : weekday [CATEGORICAL]\n",
      "\t6 : month [NUMERICAL]\n",
      "\n",
      "Attribute in nodes with depth <= 1:\n",
      "\t740 : age [NUMERICAL]\n",
      "\t472 : breed [CATEGORICAL_SET]\n",
      "\t243 : birth_month [NUMERICAL]\n",
      "\t208 : color [CATEGORICAL_SET]\n",
      "\t189 : birth_year [NUMERICAL]\n",
      "\t182 : hour [NUMERICAL]\n",
      "\t160 : day [NUMERICAL]\n",
      "\t116 : spay_neuter [CATEGORICAL]\n",
      "\t78 : animal_type [CATEGORICAL]\n",
      "\t71 : weekday [CATEGORICAL]\n",
      "\t49 : sex [CATEGORICAL]\n",
      "\t32 : month [NUMERICAL]\n",
      "\t10 : year [NUMERICAL]\n",
      "\t1 : num_breed [NUMERICAL]\n",
      "\n",
      "Attribute in nodes with depth <= 2:\n",
      "\t1668 : age [NUMERICAL]\n",
      "\t949 : breed [CATEGORICAL_SET]\n",
      "\t568 : birth_month [NUMERICAL]\n",
      "\t438 : birth_year [NUMERICAL]\n",
      "\t423 : color [CATEGORICAL_SET]\n",
      "\t408 : hour [NUMERICAL]\n",
      "\t345 : day [NUMERICAL]\n",
      "\t196 : spay_neuter [CATEGORICAL]\n",
      "\t193 : weekday [CATEGORICAL]\n",
      "\t141 : animal_type [CATEGORICAL]\n",
      "\t95 : sex [CATEGORICAL]\n",
      "\t85 : month [NUMERICAL]\n",
      "\t28 : year [NUMERICAL]\n",
      "\t4 : num_breed [NUMERICAL]\n",
      "\n",
      "Attribute in nodes with depth <= 3:\n",
      "\t3023 : age [NUMERICAL]\n",
      "\t1647 : breed [CATEGORICAL_SET]\n",
      "\t1053 : birth_month [NUMERICAL]\n",
      "\t898 : birth_year [NUMERICAL]\n",
      "\t779 : hour [NUMERICAL]\n",
      "\t748 : color [CATEGORICAL_SET]\n",
      "\t671 : day [NUMERICAL]\n",
      "\t409 : weekday [CATEGORICAL]\n",
      "\t332 : spay_neuter [CATEGORICAL]\n",
      "\t241 : animal_type [CATEGORICAL]\n",
      "\t172 : month [NUMERICAL]\n",
      "\t143 : sex [CATEGORICAL]\n",
      "\t56 : year [NUMERICAL]\n",
      "\t12 : num_breed [NUMERICAL]\n",
      "\n",
      "Attribute in nodes with depth <= 5:\n",
      "\t7576 : age [NUMERICAL]\n",
      "\t3629 : breed [CATEGORICAL_SET]\n",
      "\t2854 : birth_month [NUMERICAL]\n",
      "\t2362 : birth_year [NUMERICAL]\n",
      "\t1921 : hour [NUMERICAL]\n",
      "\t1853 : day [NUMERICAL]\n",
      "\t1764 : color [CATEGORICAL_SET]\n",
      "\t1252 : weekday [CATEGORICAL]\n",
      "\t703 : spay_neuter [CATEGORICAL]\n",
      "\t562 : animal_type [CATEGORICAL]\n",
      "\t529 : month [NUMERICAL]\n",
      "\t274 : sex [CATEGORICAL]\n",
      "\t162 : year [NUMERICAL]\n",
      "\t59 : num_breed [NUMERICAL]\n",
      "\n",
      "Condition type in nodes:\n",
      "\t17316 : ObliqueCondition\n",
      "\t4560 : ContainsCondition\n",
      "\t3624 : ContainsBitmapCondition\n",
      "Condition type in nodes with depth <= 0:\n",
      "\t498 : ObliqueCondition\n",
      "\t234 : ContainsBitmapCondition\n",
      "\t123 : ContainsCondition\n",
      "Condition type in nodes with depth <= 1:\n",
      "\t1557 : ObliqueCondition\n",
      "\t582 : ContainsBitmapCondition\n",
      "\t412 : ContainsCondition\n",
      "Condition type in nodes with depth <= 2:\n",
      "\t3544 : ObliqueCondition\n",
      "\t1042 : ContainsBitmapCondition\n",
      "\t955 : ContainsCondition\n",
      "Condition type in nodes with depth <= 3:\n",
      "\t6664 : ObliqueCondition\n",
      "\t1842 : ContainsCondition\n",
      "\t1678 : ContainsBitmapCondition\n",
      "Condition type in nodes with depth <= 5:\n",
      "\t17316 : ObliqueCondition\n",
      "\t4560 : ContainsCondition\n",
      "\t3624 : ContainsBitmapCondition\n",
      "\n"
     ]
    }
   ],
   "source": [
    "model_1.summary()"
   ]
  },
  {
   "cell_type": "code",
   "execution_count": 171,
   "id": "376e7d17-2cb3-47ba-b330-894045ab0943",
   "metadata": {},
   "outputs": [
    {
     "data": {
      "text/html": [
       "\n",
       "<script src=\"https://d3js.org/d3.v6.min.js\"></script>\n",
       "<div id=\"tree_plot_f0e5f4aff66842fa813927b3499b36b2\"></div>\n",
       "<script>\n",
       "/*\n",
       " * Copyright 2021 Google LLC.\n",
       " * Licensed under the Apache License, Version 2.0 (the \"License\");\n",
       " * you may not use this file except in compliance with the License.\n",
       " * You may obtain a copy of the License at\n",
       " *\n",
       " *     https://www.apache.org/licenses/LICENSE-2.0\n",
       " *\n",
       " * Unless required by applicable law or agreed to in writing, software\n",
       " * distributed under the License is distributed on an \"AS IS\" BASIS,\n",
       " * WITHOUT WARRANTIES OR CONDITIONS OF ANY KIND, either express or implied.\n",
       " * See the License for the specific language governing permissions and\n",
       " * limitations under the License.\n",
       " */\n",
       "\n",
       "/**\n",
       " *  Plotting of decision trees generated by TF-DF.\n",
       " *\n",
       " *  A tree is a recursive structure of node objects.\n",
       " *  A node contains one or more of the following components:\n",
       " *\n",
       " *    - A value: Representing the output of the node. If the node is not a leaf,\n",
       " *      the value is only present for analysis i.e. it is not used for\n",
       " *      predictions.\n",
       " *\n",
       " *    - A condition : For non-leaf nodes, the condition (also known as split)\n",
       " *      defines a binary test to branch to the positive or negative child.\n",
       " *\n",
       " *    - An explanation: Generally a plot showing the relation between the label\n",
       " *      and the condition to give insights about the effect of the condition.\n",
       " *\n",
       " *    - Two children : For non-leaf nodes, the children nodes. The first\n",
       " *      children (i.e. \"node.children[0]\") is the negative children (drawn in\n",
       " *      red). The second children is the positive one (drawn in green).\n",
       " *\n",
       " */\n",
       "\n",
       "/**\n",
       " * Plots a single decision tree into a DOM element.\n",
       " * @param {!options} options Dictionary of configurations.\n",
       " * @param {!tree} raw_tree Recursive tree structure.\n",
       " * @param {string} canvas_id Id of the output dom element.\n",
       " */\n",
       "function display_tree(options, raw_tree, canvas_id) {\n",
       "  console.log(options);\n",
       "\n",
       "  // Determine the node placement.\n",
       "  const tree_struct = d3.tree().nodeSize(\n",
       "      [options.node_y_offset, options.node_x_offset])(d3.hierarchy(raw_tree));\n",
       "\n",
       "  // Boundaries of the node placement.\n",
       "  let x_min = Infinity;\n",
       "  let x_max = -x_min;\n",
       "  let y_min = Infinity;\n",
       "  let y_max = -x_min;\n",
       "\n",
       "  tree_struct.each(d => {\n",
       "    if (d.x > x_max) x_max = d.x;\n",
       "    if (d.x < x_min) x_min = d.x;\n",
       "    if (d.y > y_max) y_max = d.y;\n",
       "    if (d.y < y_min) y_min = d.y;\n",
       "  });\n",
       "\n",
       "  // Size of the plot.\n",
       "  const width = y_max - y_min + options.node_x_size + options.margin * 2;\n",
       "  const height = x_max - x_min + options.node_y_size + options.margin * 2 +\n",
       "      options.node_y_offset - options.node_y_size;\n",
       "\n",
       "  const plot = d3.select(canvas_id);\n",
       "\n",
       "  // Tool tip\n",
       "  options.tooltip = plot.append('div')\n",
       "                        .attr('width', 100)\n",
       "                        .attr('height', 100)\n",
       "                        .style('padding', '4px')\n",
       "                        .style('background', '#fff')\n",
       "                        .style('box-shadow', '4px 4px 0px rgba(0,0,0,0.1)')\n",
       "                        .style('border', '1px solid black')\n",
       "                        .style('font-family', 'sans-serif')\n",
       "                        .style('font-size', options.font_size)\n",
       "                        .style('position', 'absolute')\n",
       "                        .style('z-index', '10')\n",
       "                        .attr('pointer-events', 'none')\n",
       "                        .style('display', 'none');\n",
       "\n",
       "  // Create canvas\n",
       "  const svg = plot.append('svg').attr('width', width).attr('height', height);\n",
       "  const graph =\n",
       "      svg.style('overflow', 'visible')\n",
       "          .append('g')\n",
       "          .attr('font-family', 'sans-serif')\n",
       "          .attr('font-size', options.font_size)\n",
       "          .attr(\n",
       "              'transform',\n",
       "              () => `translate(${options.margin},${\n",
       "                  - x_min + options.node_y_offset / 2 + options.margin})`);\n",
       "\n",
       "  // Plot bounding box.\n",
       "  if (options.show_plot_bounding_box) {\n",
       "    svg.append('rect')\n",
       "        .attr('width', width)\n",
       "        .attr('height', height)\n",
       "        .attr('fill', 'none')\n",
       "        .attr('stroke-width', 1.0)\n",
       "        .attr('stroke', 'black');\n",
       "  }\n",
       "\n",
       "  // Draw the edges.\n",
       "  display_edges(options, graph, tree_struct);\n",
       "\n",
       "  // Draw the nodes.\n",
       "  display_nodes(options, graph, tree_struct);\n",
       "}\n",
       "\n",
       "/**\n",
       " * Draw the nodes of the tree.\n",
       " * @param {!options} options Dictionary of configurations.\n",
       " * @param {!graph} graph D3 search handle containing the graph.\n",
       " * @param {!tree_struct} tree_struct Structure of the tree (node placement,\n",
       " *     data, etc.).\n",
       " */\n",
       "function display_nodes(options, graph, tree_struct) {\n",
       "  const nodes = graph.append('g')\n",
       "                    .selectAll('g')\n",
       "                    .data(tree_struct.descendants())\n",
       "                    .join('g')\n",
       "                    .attr('transform', d => `translate(${d.y},${d.x})`);\n",
       "\n",
       "  nodes.append('rect')\n",
       "      .attr('x', 0.5)\n",
       "      .attr('y', 0.5)\n",
       "      .attr('width', options.node_x_size)\n",
       "      .attr('height', options.node_y_size)\n",
       "      .attr('stroke', 'lightgrey')\n",
       "      .attr('stroke-width', 1)\n",
       "      .attr('fill', 'white')\n",
       "      .attr('y', -options.node_y_size / 2);\n",
       "\n",
       "  // Brackets on the right of condition nodes without children.\n",
       "  non_leaf_node_without_children =\n",
       "      nodes.filter(node => node.data.condition != null && node.children == null)\n",
       "          .append('g')\n",
       "          .attr('transform', `translate(${options.node_x_size},0)`);\n",
       "\n",
       "  non_leaf_node_without_children.append('path')\n",
       "      .attr('d', 'M0,0 C 10,0 0,10 10,10')\n",
       "      .attr('fill', 'none')\n",
       "      .attr('stroke-width', 1.0)\n",
       "      .attr('stroke', '#F00');\n",
       "\n",
       "  non_leaf_node_without_children.append('path')\n",
       "      .attr('d', 'M0,0 C 10,0 0,-10 10,-10')\n",
       "      .attr('fill', 'none')\n",
       "      .attr('stroke-width', 1.0)\n",
       "      .attr('stroke', '#0F0');\n",
       "\n",
       "  const node_content = nodes.append('g').attr(\n",
       "      'transform',\n",
       "      `translate(0,${options.node_padding - options.node_y_size / 2})`);\n",
       "\n",
       "  node_content.append(node => create_node_element(options, node));\n",
       "}\n",
       "\n",
       "/**\n",
       " * Creates the D3 content for a single node.\n",
       " * @param {!options} options Dictionary of configurations.\n",
       " * @param {!node} node Node to draw.\n",
       " * @return {!d3} D3 content.\n",
       " */\n",
       "function create_node_element(options, node) {\n",
       "  // Output accumulator.\n",
       "  let output = {\n",
       "    // Content to draw.\n",
       "    content: d3.create('svg:g'),\n",
       "    // Vertical offset to the next element to draw.\n",
       "    vertical_offset: 0\n",
       "  };\n",
       "\n",
       "  // Conditions.\n",
       "  if (node.data.condition != null) {\n",
       "    display_condition(options, node.data.condition, output);\n",
       "  }\n",
       "\n",
       "  // Values.\n",
       "  if (node.data.value != null) {\n",
       "    display_value(options, node.data.value, output);\n",
       "  }\n",
       "\n",
       "  // Explanations.\n",
       "  if (node.data.explanation != null) {\n",
       "    display_explanation(options, node.data.explanation, output);\n",
       "  }\n",
       "\n",
       "  return output.content.node();\n",
       "}\n",
       "\n",
       "\n",
       "/**\n",
       " * Adds a single line of text inside of a node.\n",
       " * @param {!options} options Dictionary of configurations.\n",
       " * @param {string} text Text to display.\n",
       " * @param {!output} output Output display accumulator.\n",
       " */\n",
       "function display_node_text(options, text, output) {\n",
       "  output.content.append('text')\n",
       "      .attr('x', options.node_padding)\n",
       "      .attr('y', output.vertical_offset)\n",
       "      .attr('alignment-baseline', 'hanging')\n",
       "      .text(text);\n",
       "  output.vertical_offset += 10;\n",
       "}\n",
       "\n",
       "/**\n",
       " * Adds a single line of text inside of a node with a tooltip.\n",
       " * @param {!options} options Dictionary of configurations.\n",
       " * @param {string} text Text to display.\n",
       " * @param {string} tooltip Text in the Tooltip.\n",
       " * @param {!output} output Output display accumulator.\n",
       " */\n",
       "function display_node_text_with_tooltip(options, text, tooltip, output) {\n",
       "  const item = output.content.append('text')\n",
       "                   .attr('x', options.node_padding)\n",
       "                   .attr('alignment-baseline', 'hanging')\n",
       "                   .text(text);\n",
       "\n",
       "  add_tooltip(options, item, () => tooltip);\n",
       "  output.vertical_offset += 10;\n",
       "}\n",
       "\n",
       "/**\n",
       " * Adds a tooltip to a dom element.\n",
       " * @param {!options} options Dictionary of configurations.\n",
       " * @param {!dom} target Dom element to equip with a tooltip.\n",
       " * @param {!func} get_content Generates the html content of the tooltip.\n",
       " */\n",
       "function add_tooltip(options, target, get_content) {\n",
       "  function show(d) {\n",
       "    options.tooltip.style('display', 'block');\n",
       "    options.tooltip.html(get_content());\n",
       "  }\n",
       "\n",
       "  function hide(d) {\n",
       "    options.tooltip.style('display', 'none');\n",
       "  }\n",
       "\n",
       "  function move(d) {\n",
       "    options.tooltip.style('display', 'block');\n",
       "    options.tooltip.style('left', (d.pageX + 5) + 'px');\n",
       "    options.tooltip.style('top', d.pageY + 'px');\n",
       "  }\n",
       "\n",
       "  target.on('mouseover', show);\n",
       "  target.on('mouseout', hide);\n",
       "  target.on('mousemove', move);\n",
       "}\n",
       "\n",
       "/**\n",
       " * Adds a condition inside of a node.\n",
       " * @param {!options} options Dictionary of configurations.\n",
       " * @param {!condition} condition Condition to display.\n",
       " * @param {!output} output Output display accumulator.\n",
       " */\n",
       "function display_condition(options, condition, output) {\n",
       "  threshold_format = d3.format('r');\n",
       "\n",
       "  if (condition.type === 'IS_MISSING') {\n",
       "    display_node_text(options, `${condition.attribute} is missing`, output);\n",
       "    return;\n",
       "  }\n",
       "\n",
       "  if (condition.type === 'IS_TRUE') {\n",
       "    display_node_text(options, `${condition.attribute} is true`, output);\n",
       "    return;\n",
       "  }\n",
       "\n",
       "  if (condition.type === 'NUMERICAL_IS_HIGHER_THAN') {\n",
       "    format = d3.format('r');\n",
       "    display_node_text(\n",
       "        options,\n",
       "        `${condition.attribute} >= ${threshold_format(condition.threshold)}`,\n",
       "        output);\n",
       "    return;\n",
       "  }\n",
       "\n",
       "  if (condition.type === 'CATEGORICAL_IS_IN') {\n",
       "    display_node_text_with_tooltip(\n",
       "        options, `${condition.attribute} in [...]`,\n",
       "        `${condition.attribute} in [${condition.mask}]`, output);\n",
       "    return;\n",
       "  }\n",
       "\n",
       "  if (condition.type === 'CATEGORICAL_SET_CONTAINS') {\n",
       "    display_node_text_with_tooltip(\n",
       "        options, `${condition.attribute} intersect [...]`,\n",
       "        `${condition.attribute} intersect [${condition.mask}]`, output);\n",
       "    return;\n",
       "  }\n",
       "\n",
       "  if (condition.type === 'NUMERICAL_SPARSE_OBLIQUE') {\n",
       "    display_node_text_with_tooltip(\n",
       "        options, `Sparse oblique split...`,\n",
       "        `[${condition.attributes}]*[${condition.weights}]>=${\n",
       "            threshold_format(condition.threshold)}`,\n",
       "        output);\n",
       "    return;\n",
       "  }\n",
       "\n",
       "  display_node_text(\n",
       "      options, `Non supported condition ${condition.type}`, output);\n",
       "}\n",
       "\n",
       "/**\n",
       " * Adds a value inside of a node.\n",
       " * @param {!options} options Dictionary of configurations.\n",
       " * @param {!value} value Value to display.\n",
       " * @param {!output} output Output display accumulator.\n",
       " */\n",
       "function display_value(options, value, output) {\n",
       "  if (value.type === 'PROBABILITY') {\n",
       "    const left_margin = 0;\n",
       "    const right_margin = 50;\n",
       "    const plot_width = options.node_x_size - options.node_padding * 2 -\n",
       "        left_margin - right_margin;\n",
       "\n",
       "    let cusum = Array.from(d3.cumsum(value.distribution));\n",
       "    cusum.unshift(0);\n",
       "    const distribution_plot = output.content.append('g').attr(\n",
       "        'transform', `translate(0,${output.vertical_offset + 0.5})`);\n",
       "\n",
       "    distribution_plot.selectAll('rect')\n",
       "        .data(value.distribution)\n",
       "        .join('rect')\n",
       "        .attr('height', 10)\n",
       "        .attr(\n",
       "            'x',\n",
       "            (d, i) =>\n",
       "                (cusum[i] * plot_width + left_margin + options.node_padding))\n",
       "        .attr('width', (d, i) => d * plot_width)\n",
       "        .style('fill', (d, i) => d3.schemeSet1[i]);\n",
       "\n",
       "    const num_examples =\n",
       "        output.content.append('g')\n",
       "            .attr('transform', `translate(0,${output.vertical_offset})`)\n",
       "            .append('text')\n",
       "            .attr('x', options.node_x_size - options.node_padding)\n",
       "            .attr('alignment-baseline', 'hanging')\n",
       "            .attr('text-anchor', 'end')\n",
       "            .text(`(${value.num_examples})`);\n",
       "\n",
       "    const distribution_details = d3.create('ul');\n",
       "    distribution_details.selectAll('li')\n",
       "        .data(value.distribution)\n",
       "        .join('li')\n",
       "        .append('span')\n",
       "        .text(\n",
       "            (d, i) =>\n",
       "                'class ' + i + ': ' + d3.format('.3%')(value.distribution[i]));\n",
       "\n",
       "    add_tooltip(options, distribution_plot, () => distribution_details.html());\n",
       "    add_tooltip(options, num_examples, () => 'Number of examples');\n",
       "\n",
       "    output.vertical_offset += 10;\n",
       "    return;\n",
       "  }\n",
       "\n",
       "  if (value.type === 'REGRESSION') {\n",
       "    display_node_text(\n",
       "        options,\n",
       "        'value: ' + d3.format('r')(value.value) + ` (` +\n",
       "            d3.format('.6')(value.num_examples) + `)`,\n",
       "        output);\n",
       "    return;\n",
       "  }\n",
       "\n",
       "  display_node_text(options, `Non supported value ${value.type}`, output);\n",
       "}\n",
       "\n",
       "/**\n",
       " * Adds an explanation inside of a node.\n",
       " * @param {!options} options Dictionary of configurations.\n",
       " * @param {!explanation} explanation Explanation to display.\n",
       " * @param {!output} output Output display accumulator.\n",
       " */\n",
       "function display_explanation(options, explanation, output) {\n",
       "  // Margin before the explanation.\n",
       "  output.vertical_offset += 10;\n",
       "\n",
       "  display_node_text(\n",
       "      options, `Non supported explanation ${explanation.type}`, output);\n",
       "}\n",
       "\n",
       "\n",
       "/**\n",
       " * Draw the edges of the tree.\n",
       " * @param {!options} options Dictionary of configurations.\n",
       " * @param {!graph} graph D3 search handle containing the graph.\n",
       " * @param {!tree_struct} tree_struct Structure of the tree (node placement,\n",
       " *     data, etc.).\n",
       " */\n",
       "function display_edges(options, graph, tree_struct) {\n",
       "  // Draw an edge between a parent and a child node with a bezier.\n",
       "  function draw_single_edge(d) {\n",
       "    return 'M' + (d.source.y + options.node_x_size) + ',' + d.source.x + ' C' +\n",
       "        (d.source.y + options.node_x_size + options.edge_rounding) + ',' +\n",
       "        d.source.x + ' ' + (d.target.y - options.edge_rounding) + ',' +\n",
       "        d.target.x + ' ' + d.target.y + ',' + d.target.x;\n",
       "  }\n",
       "\n",
       "  graph.append('g')\n",
       "      .attr('fill', 'none')\n",
       "      .attr('stroke-width', 1.2)\n",
       "      .selectAll('path')\n",
       "      .data(tree_struct.links())\n",
       "      .join('path')\n",
       "      .attr('d', draw_single_edge)\n",
       "      .attr(\n",
       "          'stroke', d => (d.target === d.source.children[0]) ? '#0F0' : '#F00');\n",
       "}\n",
       "\n",
       "display_tree({\"margin\": 10, \"node_x_size\": 160, \"node_y_size\": 28, \"node_x_offset\": 180, \"node_y_offset\": 33, \"font_size\": 10, \"edge_rounding\": 20, \"node_padding\": 2, \"show_plot_bounding_box\": false}, {\"value\": {\"type\": \"REGRESSION\", \"value\": 0.08354335278272629, \"num_examples\": 39200.0, \"standard_deviation\": 0.4873379059121896}, \"condition\": {\"type\": \"NUMERICAL_SPARSE_OBLIQUE\", \"attributes\": [\"age\", \"num_breed\"], \"weights\": [0.00012295585474930704, -0.5], \"threshold\": -0.4931759536266327}, \"children\": [{\"value\": {\"type\": \"REGRESSION\", \"value\": 0.09940662980079651, \"num_examples\": 31684.0, \"standard_deviation\": 0.47209912475252436}, \"condition\": {\"type\": \"CATEGORICAL_IS_IN\", \"attribute\": \"spay_neuter\", \"mask\": [\"Intact\", \"Unknown\"]}, \"children\": [{\"value\": {\"type\": \"REGRESSION\", \"value\": -0.01886030100286007, \"num_examples\": 8160.0, \"standard_deviation\": 0.44420039101063846}, \"condition\": {\"type\": \"CATEGORICAL_IS_IN\", \"attribute\": \"spay_neuter\", \"mask\": [\"Unknown\"]}}, {\"value\": {\"type\": \"REGRESSION\", \"value\": 0.14043103158473969, \"num_examples\": 23524.0, \"standard_deviation\": 0.39891831923999327}, \"condition\": {\"type\": \"NUMERICAL_SPARSE_OBLIQUE\", \"attributes\": [\"birth_month\", \"hour\", \"num_breed\"], \"weights\": [-0.09090909361839294, 0.043478261679410934, 0.5], \"threshold\": 0.14229246973991394}}]}, {\"value\": {\"type\": \"REGRESSION\", \"value\": 0.01667109690606594, \"num_examples\": 7516.0, \"standard_deviation\": 0.48750137589579384}, \"condition\": {\"type\": \"CATEGORICAL_IS_IN\", \"attribute\": \"spay_neuter\", \"mask\": [\"Intact\", \"Unknown\"]}, \"children\": [{\"value\": {\"type\": \"REGRESSION\", \"value\": -0.08286889642477036, \"num_examples\": 4378.0, \"standard_deviation\": 0.23204065568846263}, \"condition\": {\"type\": \"NUMERICAL_SPARSE_OBLIQUE\", \"attributes\": [\"month\", \"num_breed\"], \"weights\": [-0.09090909361839294, 0.5], \"threshold\": 0.2499999850988388}}, {\"value\": {\"type\": \"REGRESSION\", \"value\": 0.1555449217557907, \"num_examples\": 3138.0, \"standard_deviation\": 0.3552818316737752}, \"condition\": {\"type\": \"NUMERICAL_SPARSE_OBLIQUE\", \"attributes\": [\"hour\", \"num_breed\"], \"weights\": [0.043478261679410934, 0.5], \"threshold\": 1.0108695030212402}}]}]}, \"#tree_plot_f0e5f4aff66842fa813927b3499b36b2\")\n",
       "</script>\n"
      ],
      "text/plain": [
       "<IPython.core.display.HTML object>"
      ]
     },
     "execution_count": 171,
     "metadata": {},
     "output_type": "execute_result"
    }
   ],
   "source": [
    "tfdf.model_plotter.plot_model_in_colab(model_1, tree_idx=0, max_depth=2)"
   ]
  },
  {
   "cell_type": "code",
   "execution_count": null,
   "id": "849fa409-ebea-40f7-83cf-1c9c497b682c",
   "metadata": {},
   "outputs": [],
   "source": [
    "model_1.make_inspector().evaluation()"
   ]
  },
  {
   "cell_type": "code",
   "execution_count": 172,
   "id": "3d72059c-2567-49aa-ba43-e25595b75221",
   "metadata": {},
   "outputs": [
    {
     "data": {
      "image/png": "[encoded data removed]",
      "text/plain": [
       "<Figure size 640x480 with 1 Axes>"
      ]
     },
     "metadata": {},
     "output_type": "display_data"
    }
   ],
   "source": [
    "import matplotlib.pyplot as plt\n",
    "\n",
    "logs = model_1.make_inspector().training_logs()\n",
    "plt.plot([log.num_trees for log in logs], [log.evaluation.accuracy for log in logs])\n",
    "plt.xlabel(\"Number of trees\")\n",
    "plt.ylabel(\"Out-of-bag loss\")\n",
    "plt.show()"
   ]
  },
  {
   "cell_type": "code",
   "execution_count": 175,
   "id": "4d15d61a-356d-425b-972e-5e1a48dcdffd",
   "metadata": {},
   "outputs": [
    {
     "data": {
      "text/plain": [
       "<MapDataset shapes: ({breed: (None, None), color: (None, None), name: (None, None), animal_type: (None,), sex: (None,), spay_neuter: (None,), num_breed: (None,), year: (None,), month: (None,), day: (None,), hour: (None,), weekday: (None,), age: (None,), birth_year: (None,), birth_month: (None,)}, (None,)), types: ({breed: tf.string, color: tf.string, name: tf.string, animal_type: tf.string, sex: tf.string, spay_neuter: tf.string, num_breed: tf.int32, year: tf.int32, month: tf.int32, day: tf.int32, hour: tf.int32, weekday: tf.string, age: tf.int32, birth_year: tf.int32, birth_month: tf.int32}, tf.int32)>"
      ]
     },
     "execution_count": 175,
     "metadata": {},
     "output_type": "execute_result"
    }
   ],
   "source": [
    "test_ds"
   ]
  },
  {
   "cell_type": "code",
   "execution_count": 176,
   "id": "cb07a2d8-ba81-4a4a-950f-4d13304c8929",
   "metadata": {},
   "outputs": [
    {
     "data": {
      "text/plain": [
       "<MapDataset shapes: ({breed: (None, None), color: (None, None), name: (None, None), animal_type: (None,), sex: (None,), spay_neuter: (None,), num_breed: (None,), year: (None,), month: (None,), day: (None,), hour: (None,), weekday: (None,), age: (None,), birth_year: (None,), birth_month: (None,)}, (None,)), types: ({breed: tf.string, color: tf.string, name: tf.string, animal_type: tf.string, sex: tf.string, spay_neuter: tf.string, num_breed: tf.int32, year: tf.int32, month: tf.int32, day: tf.int32, hour: tf.int32, weekday: tf.string, age: tf.int32, birth_year: tf.int32, birth_month: tf.int32}, tf.int32)>"
      ]
     },
     "execution_count": 176,
     "metadata": {},
     "output_type": "execute_result"
    }
   ],
   "source": [
    "train_ds"
   ]
  },
  {
   "cell_type": "code",
   "execution_count": 174,
   "id": "0a798660-5cf7-4d48-a2a3-84f1311cf858",
   "metadata": {},
   "outputs": [
    {
     "ename": "ValueError",
     "evalue": "in user code:\n\n    /home/neil/anaconda3/envs/ds_py_3.8/lib/python3.8/site-packages/tensorflow_decision_forests/keras/core.py:514 run_step  *\n        outputs = model.test_step(data)\n    /home/neil/anaconda3/envs/ds_py_3.8/lib/python3.8/site-packages/tensorflow/python/keras/engine/training.py:1270 test_step  **\n        self.compiled_metrics.update_state(y, y_pred, sample_weight)\n    /home/neil/anaconda3/envs/ds_py_3.8/lib/python3.8/site-packages/tensorflow/python/keras/engine/compile_utils.py:460 update_state\n        metric_obj.update_state(y_t, y_p, sample_weight=mask)\n    /home/neil/anaconda3/envs/ds_py_3.8/lib/python3.8/site-packages/tensorflow/python/keras/utils/metrics_utils.py:86 decorated\n        update_op = update_state_fn(*args, **kwargs)\n    /home/neil/anaconda3/envs/ds_py_3.8/lib/python3.8/site-packages/tensorflow/python/keras/metrics.py:177 update_state_fn\n        return ag_update_state(*args, **kwargs)\n    /home/neil/anaconda3/envs/ds_py_3.8/lib/python3.8/site-packages/tensorflow/python/keras/metrics.py:664 update_state  **\n        matches = ag_fn(y_true, y_pred, **self._fn_kwargs)\n    /home/neil/anaconda3/envs/ds_py_3.8/lib/python3.8/site-packages/tensorflow/python/util/dispatch.py:206 wrapper\n        return target(*args, **kwargs)\n    /home/neil/anaconda3/envs/ds_py_3.8/lib/python3.8/site-packages/tensorflow/python/keras/losses.py:1643 categorical_crossentropy\n        return backend.categorical_crossentropy(\n    /home/neil/anaconda3/envs/ds_py_3.8/lib/python3.8/site-packages/tensorflow/python/util/dispatch.py:206 wrapper\n        return target(*args, **kwargs)\n    /home/neil/anaconda3/envs/ds_py_3.8/lib/python3.8/site-packages/tensorflow/python/keras/backend.py:4862 categorical_crossentropy\n        target.shape.assert_is_compatible_with(output.shape)\n    /home/neil/anaconda3/envs/ds_py_3.8/lib/python3.8/site-packages/tensorflow/python/framework/tensor_shape.py:1161 assert_is_compatible_with\n        raise ValueError(\"Shapes %s and %s are incompatible\" % (self, other))\n\n    ValueError: Shapes (None, 1) and (None, 3) are incompatible\n",
     "output_type": "error",
     "traceback": [
      "\u001b[0;31m---------------------------------------------------------------------------\u001b[0m",
      "\u001b[0;31mValueError\u001b[0m                                Traceback (most recent call last)",
      "\u001b[0;32m<ipython-input-174-3f99000282b5>\u001b[0m in \u001b[0;36m<module>\u001b[0;34m\u001b[0m\n\u001b[1;32m      1\u001b[0m \u001b[0;31m# all features\u001b[0m\u001b[0;34m\u001b[0m\u001b[0;34m\u001b[0m\u001b[0;34m\u001b[0m\u001b[0m\n\u001b[0;32m----> 2\u001b[0;31m \u001b[0mevaluation\u001b[0m \u001b[0;34m=\u001b[0m \u001b[0mmodel_1\u001b[0m\u001b[0;34m.\u001b[0m\u001b[0mevaluate\u001b[0m\u001b[0;34m(\u001b[0m\u001b[0mtest_ds\u001b[0m\u001b[0;34m)\u001b[0m\u001b[0;34m\u001b[0m\u001b[0;34m\u001b[0m\u001b[0m\n\u001b[0m\u001b[1;32m      3\u001b[0m \u001b[0;34m\u001b[0m\u001b[0m\n\u001b[1;32m      4\u001b[0m \u001b[0;31m#print(f\"BinaryCrossentropyloss: {evaluation[0]}\")\u001b[0m\u001b[0;34m\u001b[0m\u001b[0;34m\u001b[0m\u001b[0;34m\u001b[0m\u001b[0m\n\u001b[1;32m      5\u001b[0m \u001b[0;31m#print(f\"Accuracy: {evaluation[1]}\")\u001b[0m\u001b[0;34m\u001b[0m\u001b[0;34m\u001b[0m\u001b[0;34m\u001b[0m\u001b[0m\n",
      "\u001b[0;32m~/anaconda3/envs/ds_py_3.8/lib/python3.8/site-packages/tensorflow_decision_forests/keras/core.py\u001b[0m in \u001b[0;36mevaluate\u001b[0;34m(self, *args, **kwargs)\u001b[0m\n\u001b[1;32m    847\u001b[0m             \u001b[0;34m\"can only evaluate after the first epoch is finished and the \"\u001b[0m\u001b[0;34m\u001b[0m\u001b[0;34m\u001b[0m\u001b[0m\n\u001b[1;32m    848\u001b[0m             \"model trained\")\n\u001b[0;32m--> 849\u001b[0;31m     \u001b[0;32mreturn\u001b[0m \u001b[0msuper\u001b[0m\u001b[0;34m(\u001b[0m\u001b[0mCoreModel\u001b[0m\u001b[0;34m,\u001b[0m \u001b[0mself\u001b[0m\u001b[0;34m)\u001b[0m\u001b[0;34m.\u001b[0m\u001b[0mevaluate\u001b[0m\u001b[0;34m(\u001b[0m\u001b[0;34m*\u001b[0m\u001b[0margs\u001b[0m\u001b[0;34m,\u001b[0m \u001b[0;34m**\u001b[0m\u001b[0mkwargs\u001b[0m\u001b[0;34m)\u001b[0m\u001b[0;34m\u001b[0m\u001b[0;34m\u001b[0m\u001b[0m\n\u001b[0m\u001b[1;32m    850\u001b[0m \u001b[0;34m\u001b[0m\u001b[0m\n\u001b[1;32m    851\u001b[0m   \u001b[0;32mdef\u001b[0m \u001b[0msummary\u001b[0m\u001b[0;34m(\u001b[0m\u001b[0mself\u001b[0m\u001b[0;34m,\u001b[0m \u001b[0mline_length\u001b[0m\u001b[0;34m=\u001b[0m\u001b[0;32mNone\u001b[0m\u001b[0;34m,\u001b[0m \u001b[0mpositions\u001b[0m\u001b[0;34m=\u001b[0m\u001b[0;32mNone\u001b[0m\u001b[0;34m,\u001b[0m \u001b[0mprint_fn\u001b[0m\u001b[0;34m=\u001b[0m\u001b[0;32mNone\u001b[0m\u001b[0;34m)\u001b[0m\u001b[0;34m:\u001b[0m\u001b[0;34m\u001b[0m\u001b[0;34m\u001b[0m\u001b[0m\n",
      "\u001b[0;32m~/anaconda3/envs/ds_py_3.8/lib/python3.8/site-packages/tensorflow/python/keras/engine/training.py\u001b[0m in \u001b[0;36mevaluate\u001b[0;34m(self, x, y, batch_size, verbose, sample_weight, steps, callbacks, max_queue_size, workers, use_multiprocessing, return_dict, **kwargs)\u001b[0m\n\u001b[1;32m   1487\u001b[0m             \u001b[0;32mwith\u001b[0m \u001b[0mtrace\u001b[0m\u001b[0;34m.\u001b[0m\u001b[0mTrace\u001b[0m\u001b[0;34m(\u001b[0m\u001b[0;34m'test'\u001b[0m\u001b[0;34m,\u001b[0m \u001b[0mstep_num\u001b[0m\u001b[0;34m=\u001b[0m\u001b[0mstep\u001b[0m\u001b[0;34m,\u001b[0m \u001b[0m_r\u001b[0m\u001b[0;34m=\u001b[0m\u001b[0;36m1\u001b[0m\u001b[0;34m)\u001b[0m\u001b[0;34m:\u001b[0m\u001b[0;34m\u001b[0m\u001b[0;34m\u001b[0m\u001b[0m\n\u001b[1;32m   1488\u001b[0m               \u001b[0mcallbacks\u001b[0m\u001b[0;34m.\u001b[0m\u001b[0mon_test_batch_begin\u001b[0m\u001b[0;34m(\u001b[0m\u001b[0mstep\u001b[0m\u001b[0;34m)\u001b[0m\u001b[0;34m\u001b[0m\u001b[0;34m\u001b[0m\u001b[0m\n\u001b[0;32m-> 1489\u001b[0;31m               \u001b[0mtmp_logs\u001b[0m \u001b[0;34m=\u001b[0m \u001b[0mself\u001b[0m\u001b[0;34m.\u001b[0m\u001b[0mtest_function\u001b[0m\u001b[0;34m(\u001b[0m\u001b[0miterator\u001b[0m\u001b[0;34m)\u001b[0m\u001b[0;34m\u001b[0m\u001b[0;34m\u001b[0m\u001b[0m\n\u001b[0m\u001b[1;32m   1490\u001b[0m               \u001b[0;32mif\u001b[0m \u001b[0mdata_handler\u001b[0m\u001b[0;34m.\u001b[0m\u001b[0mshould_sync\u001b[0m\u001b[0;34m:\u001b[0m\u001b[0;34m\u001b[0m\u001b[0;34m\u001b[0m\u001b[0m\n\u001b[1;32m   1491\u001b[0m                 \u001b[0mcontext\u001b[0m\u001b[0;34m.\u001b[0m\u001b[0masync_wait\u001b[0m\u001b[0;34m(\u001b[0m\u001b[0;34m)\u001b[0m\u001b[0;34m\u001b[0m\u001b[0;34m\u001b[0m\u001b[0m\n",
      "\u001b[0;32m~/anaconda3/envs/ds_py_3.8/lib/python3.8/site-packages/tensorflow/python/eager/def_function.py\u001b[0m in \u001b[0;36m__call__\u001b[0;34m(self, *args, **kwds)\u001b[0m\n\u001b[1;32m    887\u001b[0m \u001b[0;34m\u001b[0m\u001b[0m\n\u001b[1;32m    888\u001b[0m       \u001b[0;32mwith\u001b[0m \u001b[0mOptionalXlaContext\u001b[0m\u001b[0;34m(\u001b[0m\u001b[0mself\u001b[0m\u001b[0;34m.\u001b[0m\u001b[0m_jit_compile\u001b[0m\u001b[0;34m)\u001b[0m\u001b[0;34m:\u001b[0m\u001b[0;34m\u001b[0m\u001b[0;34m\u001b[0m\u001b[0m\n\u001b[0;32m--> 889\u001b[0;31m         \u001b[0mresult\u001b[0m \u001b[0;34m=\u001b[0m \u001b[0mself\u001b[0m\u001b[0;34m.\u001b[0m\u001b[0m_call\u001b[0m\u001b[0;34m(\u001b[0m\u001b[0;34m*\u001b[0m\u001b[0margs\u001b[0m\u001b[0;34m,\u001b[0m \u001b[0;34m**\u001b[0m\u001b[0mkwds\u001b[0m\u001b[0;34m)\u001b[0m\u001b[0;34m\u001b[0m\u001b[0;34m\u001b[0m\u001b[0m\n\u001b[0m\u001b[1;32m    890\u001b[0m \u001b[0;34m\u001b[0m\u001b[0m\n\u001b[1;32m    891\u001b[0m       \u001b[0mnew_tracing_count\u001b[0m \u001b[0;34m=\u001b[0m \u001b[0mself\u001b[0m\u001b[0;34m.\u001b[0m\u001b[0mexperimental_get_tracing_count\u001b[0m\u001b[0;34m(\u001b[0m\u001b[0;34m)\u001b[0m\u001b[0;34m\u001b[0m\u001b[0;34m\u001b[0m\u001b[0m\n",
      "\u001b[0;32m~/anaconda3/envs/ds_py_3.8/lib/python3.8/site-packages/tensorflow/python/eager/def_function.py\u001b[0m in \u001b[0;36m_call\u001b[0;34m(self, *args, **kwds)\u001b[0m\n\u001b[1;32m    931\u001b[0m       \u001b[0;31m# This is the first call of __call__, so we have to initialize.\u001b[0m\u001b[0;34m\u001b[0m\u001b[0;34m\u001b[0m\u001b[0;34m\u001b[0m\u001b[0m\n\u001b[1;32m    932\u001b[0m       \u001b[0minitializers\u001b[0m \u001b[0;34m=\u001b[0m \u001b[0;34m[\u001b[0m\u001b[0;34m]\u001b[0m\u001b[0;34m\u001b[0m\u001b[0;34m\u001b[0m\u001b[0m\n\u001b[0;32m--> 933\u001b[0;31m       \u001b[0mself\u001b[0m\u001b[0;34m.\u001b[0m\u001b[0m_initialize\u001b[0m\u001b[0;34m(\u001b[0m\u001b[0margs\u001b[0m\u001b[0;34m,\u001b[0m \u001b[0mkwds\u001b[0m\u001b[0;34m,\u001b[0m \u001b[0madd_initializers_to\u001b[0m\u001b[0;34m=\u001b[0m\u001b[0minitializers\u001b[0m\u001b[0;34m)\u001b[0m\u001b[0;34m\u001b[0m\u001b[0;34m\u001b[0m\u001b[0m\n\u001b[0m\u001b[1;32m    934\u001b[0m     \u001b[0;32mfinally\u001b[0m\u001b[0;34m:\u001b[0m\u001b[0;34m\u001b[0m\u001b[0;34m\u001b[0m\u001b[0m\n\u001b[1;32m    935\u001b[0m       \u001b[0;31m# At this point we know that the initialization is complete (or less\u001b[0m\u001b[0;34m\u001b[0m\u001b[0;34m\u001b[0m\u001b[0;34m\u001b[0m\u001b[0m\n",
      "\u001b[0;32m~/anaconda3/envs/ds_py_3.8/lib/python3.8/site-packages/tensorflow/python/eager/def_function.py\u001b[0m in \u001b[0;36m_initialize\u001b[0;34m(self, args, kwds, add_initializers_to)\u001b[0m\n\u001b[1;32m    761\u001b[0m     \u001b[0mself\u001b[0m\u001b[0;34m.\u001b[0m\u001b[0m_graph_deleter\u001b[0m \u001b[0;34m=\u001b[0m \u001b[0mFunctionDeleter\u001b[0m\u001b[0;34m(\u001b[0m\u001b[0mself\u001b[0m\u001b[0;34m.\u001b[0m\u001b[0m_lifted_initializer_graph\u001b[0m\u001b[0;34m)\u001b[0m\u001b[0;34m\u001b[0m\u001b[0;34m\u001b[0m\u001b[0m\n\u001b[1;32m    762\u001b[0m     self._concrete_stateful_fn = (\n\u001b[0;32m--> 763\u001b[0;31m         self._stateful_fn._get_concrete_function_internal_garbage_collected(  # pylint: disable=protected-access\n\u001b[0m\u001b[1;32m    764\u001b[0m             *args, **kwds))\n\u001b[1;32m    765\u001b[0m \u001b[0;34m\u001b[0m\u001b[0m\n",
      "\u001b[0;32m~/anaconda3/envs/ds_py_3.8/lib/python3.8/site-packages/tensorflow/python/eager/function.py\u001b[0m in \u001b[0;36m_get_concrete_function_internal_garbage_collected\u001b[0;34m(self, *args, **kwargs)\u001b[0m\n\u001b[1;32m   3048\u001b[0m       \u001b[0margs\u001b[0m\u001b[0;34m,\u001b[0m \u001b[0mkwargs\u001b[0m \u001b[0;34m=\u001b[0m \u001b[0;32mNone\u001b[0m\u001b[0;34m,\u001b[0m \u001b[0;32mNone\u001b[0m\u001b[0;34m\u001b[0m\u001b[0;34m\u001b[0m\u001b[0m\n\u001b[1;32m   3049\u001b[0m     \u001b[0;32mwith\u001b[0m \u001b[0mself\u001b[0m\u001b[0;34m.\u001b[0m\u001b[0m_lock\u001b[0m\u001b[0;34m:\u001b[0m\u001b[0;34m\u001b[0m\u001b[0;34m\u001b[0m\u001b[0m\n\u001b[0;32m-> 3050\u001b[0;31m       \u001b[0mgraph_function\u001b[0m\u001b[0;34m,\u001b[0m \u001b[0m_\u001b[0m \u001b[0;34m=\u001b[0m \u001b[0mself\u001b[0m\u001b[0;34m.\u001b[0m\u001b[0m_maybe_define_function\u001b[0m\u001b[0;34m(\u001b[0m\u001b[0margs\u001b[0m\u001b[0;34m,\u001b[0m \u001b[0mkwargs\u001b[0m\u001b[0;34m)\u001b[0m\u001b[0;34m\u001b[0m\u001b[0;34m\u001b[0m\u001b[0m\n\u001b[0m\u001b[1;32m   3051\u001b[0m     \u001b[0;32mreturn\u001b[0m \u001b[0mgraph_function\u001b[0m\u001b[0;34m\u001b[0m\u001b[0;34m\u001b[0m\u001b[0m\n\u001b[1;32m   3052\u001b[0m \u001b[0;34m\u001b[0m\u001b[0m\n",
      "\u001b[0;32m~/anaconda3/envs/ds_py_3.8/lib/python3.8/site-packages/tensorflow/python/eager/function.py\u001b[0m in \u001b[0;36m_maybe_define_function\u001b[0;34m(self, args, kwargs)\u001b[0m\n\u001b[1;32m   3442\u001b[0m \u001b[0;34m\u001b[0m\u001b[0m\n\u001b[1;32m   3443\u001b[0m           \u001b[0mself\u001b[0m\u001b[0;34m.\u001b[0m\u001b[0m_function_cache\u001b[0m\u001b[0;34m.\u001b[0m\u001b[0mmissed\u001b[0m\u001b[0;34m.\u001b[0m\u001b[0madd\u001b[0m\u001b[0;34m(\u001b[0m\u001b[0mcall_context_key\u001b[0m\u001b[0;34m)\u001b[0m\u001b[0;34m\u001b[0m\u001b[0;34m\u001b[0m\u001b[0m\n\u001b[0;32m-> 3444\u001b[0;31m           \u001b[0mgraph_function\u001b[0m \u001b[0;34m=\u001b[0m \u001b[0mself\u001b[0m\u001b[0;34m.\u001b[0m\u001b[0m_create_graph_function\u001b[0m\u001b[0;34m(\u001b[0m\u001b[0margs\u001b[0m\u001b[0;34m,\u001b[0m \u001b[0mkwargs\u001b[0m\u001b[0;34m)\u001b[0m\u001b[0;34m\u001b[0m\u001b[0;34m\u001b[0m\u001b[0m\n\u001b[0m\u001b[1;32m   3445\u001b[0m           \u001b[0mself\u001b[0m\u001b[0;34m.\u001b[0m\u001b[0m_function_cache\u001b[0m\u001b[0;34m.\u001b[0m\u001b[0mprimary\u001b[0m\u001b[0;34m[\u001b[0m\u001b[0mcache_key\u001b[0m\u001b[0;34m]\u001b[0m \u001b[0;34m=\u001b[0m \u001b[0mgraph_function\u001b[0m\u001b[0;34m\u001b[0m\u001b[0;34m\u001b[0m\u001b[0m\n\u001b[1;32m   3446\u001b[0m \u001b[0;34m\u001b[0m\u001b[0m\n",
      "\u001b[0;32m~/anaconda3/envs/ds_py_3.8/lib/python3.8/site-packages/tensorflow/python/eager/function.py\u001b[0m in \u001b[0;36m_create_graph_function\u001b[0;34m(self, args, kwargs, override_flat_arg_shapes)\u001b[0m\n\u001b[1;32m   3277\u001b[0m     \u001b[0marg_names\u001b[0m \u001b[0;34m=\u001b[0m \u001b[0mbase_arg_names\u001b[0m \u001b[0;34m+\u001b[0m \u001b[0mmissing_arg_names\u001b[0m\u001b[0;34m\u001b[0m\u001b[0;34m\u001b[0m\u001b[0m\n\u001b[1;32m   3278\u001b[0m     graph_function = ConcreteFunction(\n\u001b[0;32m-> 3279\u001b[0;31m         func_graph_module.func_graph_from_py_func(\n\u001b[0m\u001b[1;32m   3280\u001b[0m             \u001b[0mself\u001b[0m\u001b[0;34m.\u001b[0m\u001b[0m_name\u001b[0m\u001b[0;34m,\u001b[0m\u001b[0;34m\u001b[0m\u001b[0;34m\u001b[0m\u001b[0m\n\u001b[1;32m   3281\u001b[0m             \u001b[0mself\u001b[0m\u001b[0;34m.\u001b[0m\u001b[0m_python_function\u001b[0m\u001b[0;34m,\u001b[0m\u001b[0;34m\u001b[0m\u001b[0;34m\u001b[0m\u001b[0m\n",
      "\u001b[0;32m~/anaconda3/envs/ds_py_3.8/lib/python3.8/site-packages/tensorflow/python/framework/func_graph.py\u001b[0m in \u001b[0;36mfunc_graph_from_py_func\u001b[0;34m(name, python_func, args, kwargs, signature, func_graph, autograph, autograph_options, add_control_dependencies, arg_names, op_return_value, collections, capture_by_value, override_flat_arg_shapes)\u001b[0m\n\u001b[1;32m    997\u001b[0m         \u001b[0m_\u001b[0m\u001b[0;34m,\u001b[0m \u001b[0moriginal_func\u001b[0m \u001b[0;34m=\u001b[0m \u001b[0mtf_decorator\u001b[0m\u001b[0;34m.\u001b[0m\u001b[0munwrap\u001b[0m\u001b[0;34m(\u001b[0m\u001b[0mpython_func\u001b[0m\u001b[0;34m)\u001b[0m\u001b[0;34m\u001b[0m\u001b[0;34m\u001b[0m\u001b[0m\n\u001b[1;32m    998\u001b[0m \u001b[0;34m\u001b[0m\u001b[0m\n\u001b[0;32m--> 999\u001b[0;31m       \u001b[0mfunc_outputs\u001b[0m \u001b[0;34m=\u001b[0m \u001b[0mpython_func\u001b[0m\u001b[0;34m(\u001b[0m\u001b[0;34m*\u001b[0m\u001b[0mfunc_args\u001b[0m\u001b[0;34m,\u001b[0m \u001b[0;34m**\u001b[0m\u001b[0mfunc_kwargs\u001b[0m\u001b[0;34m)\u001b[0m\u001b[0;34m\u001b[0m\u001b[0;34m\u001b[0m\u001b[0m\n\u001b[0m\u001b[1;32m   1000\u001b[0m \u001b[0;34m\u001b[0m\u001b[0m\n\u001b[1;32m   1001\u001b[0m       \u001b[0;31m# invariant: `func_outputs` contains only Tensors, CompositeTensors,\u001b[0m\u001b[0;34m\u001b[0m\u001b[0;34m\u001b[0m\u001b[0;34m\u001b[0m\u001b[0m\n",
      "\u001b[0;32m~/anaconda3/envs/ds_py_3.8/lib/python3.8/site-packages/tensorflow/python/eager/def_function.py\u001b[0m in \u001b[0;36mwrapped_fn\u001b[0;34m(*args, **kwds)\u001b[0m\n\u001b[1;32m    670\u001b[0m         \u001b[0;31m# the function a weak reference to itself to avoid a reference cycle.\u001b[0m\u001b[0;34m\u001b[0m\u001b[0;34m\u001b[0m\u001b[0;34m\u001b[0m\u001b[0m\n\u001b[1;32m    671\u001b[0m         \u001b[0;32mwith\u001b[0m \u001b[0mOptionalXlaContext\u001b[0m\u001b[0;34m(\u001b[0m\u001b[0mcompile_with_xla\u001b[0m\u001b[0;34m)\u001b[0m\u001b[0;34m:\u001b[0m\u001b[0;34m\u001b[0m\u001b[0;34m\u001b[0m\u001b[0m\n\u001b[0;32m--> 672\u001b[0;31m           \u001b[0mout\u001b[0m \u001b[0;34m=\u001b[0m \u001b[0mweak_wrapped_fn\u001b[0m\u001b[0;34m(\u001b[0m\u001b[0;34m)\u001b[0m\u001b[0;34m.\u001b[0m\u001b[0m__wrapped__\u001b[0m\u001b[0;34m(\u001b[0m\u001b[0;34m*\u001b[0m\u001b[0margs\u001b[0m\u001b[0;34m,\u001b[0m \u001b[0;34m**\u001b[0m\u001b[0mkwds\u001b[0m\u001b[0;34m)\u001b[0m\u001b[0;34m\u001b[0m\u001b[0;34m\u001b[0m\u001b[0m\n\u001b[0m\u001b[1;32m    673\u001b[0m         \u001b[0;32mreturn\u001b[0m \u001b[0mout\u001b[0m\u001b[0;34m\u001b[0m\u001b[0;34m\u001b[0m\u001b[0m\n\u001b[1;32m    674\u001b[0m \u001b[0;34m\u001b[0m\u001b[0m\n",
      "\u001b[0;32m~/anaconda3/envs/ds_py_3.8/lib/python3.8/site-packages/tensorflow/python/framework/func_graph.py\u001b[0m in \u001b[0;36mwrapper\u001b[0;34m(*args, **kwargs)\u001b[0m\n\u001b[1;32m    984\u001b[0m           \u001b[0;32mexcept\u001b[0m \u001b[0mException\u001b[0m \u001b[0;32mas\u001b[0m \u001b[0me\u001b[0m\u001b[0;34m:\u001b[0m  \u001b[0;31m# pylint:disable=broad-except\u001b[0m\u001b[0;34m\u001b[0m\u001b[0;34m\u001b[0m\u001b[0m\n\u001b[1;32m    985\u001b[0m             \u001b[0;32mif\u001b[0m \u001b[0mhasattr\u001b[0m\u001b[0;34m(\u001b[0m\u001b[0me\u001b[0m\u001b[0;34m,\u001b[0m \u001b[0;34m\"ag_error_metadata\"\u001b[0m\u001b[0;34m)\u001b[0m\u001b[0;34m:\u001b[0m\u001b[0;34m\u001b[0m\u001b[0;34m\u001b[0m\u001b[0m\n\u001b[0;32m--> 986\u001b[0;31m               \u001b[0;32mraise\u001b[0m \u001b[0me\u001b[0m\u001b[0;34m.\u001b[0m\u001b[0mag_error_metadata\u001b[0m\u001b[0;34m.\u001b[0m\u001b[0mto_exception\u001b[0m\u001b[0;34m(\u001b[0m\u001b[0me\u001b[0m\u001b[0;34m)\u001b[0m\u001b[0;34m\u001b[0m\u001b[0;34m\u001b[0m\u001b[0m\n\u001b[0m\u001b[1;32m    987\u001b[0m             \u001b[0;32melse\u001b[0m\u001b[0;34m:\u001b[0m\u001b[0;34m\u001b[0m\u001b[0;34m\u001b[0m\u001b[0m\n\u001b[1;32m    988\u001b[0m               \u001b[0;32mraise\u001b[0m\u001b[0;34m\u001b[0m\u001b[0;34m\u001b[0m\u001b[0m\n",
      "\u001b[0;31mValueError\u001b[0m: in user code:\n\n    /home/neil/anaconda3/envs/ds_py_3.8/lib/python3.8/site-packages/tensorflow_decision_forests/keras/core.py:514 run_step  *\n        outputs = model.test_step(data)\n    /home/neil/anaconda3/envs/ds_py_3.8/lib/python3.8/site-packages/tensorflow/python/keras/engine/training.py:1270 test_step  **\n        self.compiled_metrics.update_state(y, y_pred, sample_weight)\n    /home/neil/anaconda3/envs/ds_py_3.8/lib/python3.8/site-packages/tensorflow/python/keras/engine/compile_utils.py:460 update_state\n        metric_obj.update_state(y_t, y_p, sample_weight=mask)\n    /home/neil/anaconda3/envs/ds_py_3.8/lib/python3.8/site-packages/tensorflow/python/keras/utils/metrics_utils.py:86 decorated\n        update_op = update_state_fn(*args, **kwargs)\n    /home/neil/anaconda3/envs/ds_py_3.8/lib/python3.8/site-packages/tensorflow/python/keras/metrics.py:177 update_state_fn\n        return ag_update_state(*args, **kwargs)\n    /home/neil/anaconda3/envs/ds_py_3.8/lib/python3.8/site-packages/tensorflow/python/keras/metrics.py:664 update_state  **\n        matches = ag_fn(y_true, y_pred, **self._fn_kwargs)\n    /home/neil/anaconda3/envs/ds_py_3.8/lib/python3.8/site-packages/tensorflow/python/util/dispatch.py:206 wrapper\n        return target(*args, **kwargs)\n    /home/neil/anaconda3/envs/ds_py_3.8/lib/python3.8/site-packages/tensorflow/python/keras/losses.py:1643 categorical_crossentropy\n        return backend.categorical_crossentropy(\n    /home/neil/anaconda3/envs/ds_py_3.8/lib/python3.8/site-packages/tensorflow/python/util/dispatch.py:206 wrapper\n        return target(*args, **kwargs)\n    /home/neil/anaconda3/envs/ds_py_3.8/lib/python3.8/site-packages/tensorflow/python/keras/backend.py:4862 categorical_crossentropy\n        target.shape.assert_is_compatible_with(output.shape)\n    /home/neil/anaconda3/envs/ds_py_3.8/lib/python3.8/site-packages/tensorflow/python/framework/tensor_shape.py:1161 assert_is_compatible_with\n        raise ValueError(\"Shapes %s and %s are incompatible\" % (self, other))\n\n    ValueError: Shapes (None, 1) and (None, 3) are incompatible\n"
     ]
    }
   ],
   "source": [
    "# all features\n",
    "evaluation = model_1.evaluate(test_ds)\n",
    "\n",
    "#print(f\"BinaryCrossentropyloss: {evaluation[0]}\")\n",
    "#print(f\"Accuracy: {evaluation[1]}\")\n"
   ]
  },
  {
   "cell_type": "code",
   "execution_count": 150,
   "id": "3f94e7d9-5934-47ce-a06a-baf5d5e889ef",
   "metadata": {},
   "outputs": [],
   "source": [
    "#model_1.summary()"
   ]
  },
  {
   "cell_type": "code",
   "execution_count": null,
   "id": "fab6a39a-f847-4add-85d9-06b57be461c9",
   "metadata": {},
   "outputs": [],
   "source": []
  },
  {
   "cell_type": "code",
   "execution_count": 151,
   "id": "41b16c64-7c9c-4be6-9925-a7bc763bf0a5",
   "metadata": {},
   "outputs": [
    {
     "name": "stdout",
     "output_type": "stream",
     "text": [
      "171/171 [==============================] - 1s 7ms/step - loss: 0.0000e+00 - accuracy: 0.8295\n",
      "BinaryCrossentropyloss: 0.0\n",
      "Accuracy: 0.8295350074768066\n"
     ]
    }
   ],
   "source": [
    "# only breed\n",
    "evaluation = model_1.evaluate(test_ds)\n",
    "\n",
    "print(f\"BinaryCrossentropyloss: {evaluation[0]}\")\n",
    "print(f\"Accuracy: {evaluation[1]}\")"
   ]
  },
  {
   "cell_type": "code",
   "execution_count": 56,
   "id": "dab170a0-1953-4d8d-94af-c66d79a511fd",
   "metadata": {},
   "outputs": [
    {
     "data": {
      "text/plain": [
       "[0.0, 0.7551920413970947]"
      ]
     },
     "execution_count": 56,
     "metadata": {},
     "output_type": "execute_result"
    }
   ],
   "source": [
    "## Old Model\n",
    "evaluation"
   ]
  },
  {
   "cell_type": "code",
   "execution_count": 57,
   "id": "dd8fa7a4-7e05-4406-9735-4f375e351765",
   "metadata": {},
   "outputs": [
    {
     "data": {
      "text/plain": [
       "[0.0, 0.7551920413970947]"
      ]
     },
     "execution_count": 57,
     "metadata": {},
     "output_type": "execute_result"
    }
   ],
   "source": [
    "evaluation"
   ]
  },
  {
   "cell_type": "markdown",
   "id": "95a7f4c6-3c99-4225-8857-0b77ea9719ae",
   "metadata": {},
   "source": [
    "# Train on Entire Dataset\n"
   ]
  },
  {
   "cell_type": "code",
   "execution_count": 245,
   "id": "fbbecea1-7055-412b-aec4-e281c73e3400",
   "metadata": {},
   "outputs": [
    {
     "name": "stdout",
     "output_type": "stream",
     "text": [
      "851/851 [==============================] - 1s 1ms/step\n"
     ]
    },
    {
     "data": {
      "text/plain": [
       "<tensorflow.python.keras.callbacks.History at 0x7f4f5e9f4100>"
      ]
     },
     "execution_count": 245,
     "metadata": {},
     "output_type": "execute_result"
    }
   ],
   "source": [
    "train_tf = tfdf.keras.pd_dataframe_to_tf_dataset(train, label=label)\n",
    "# A more complex, but possibly, more accurate model.\n",
    "#models = {\n",
    "    #'rf_baselines': tfdf.keras.RandomForestModel(),\n",
    "    #'rf_tune1': tfdf.keras.RandomForestModel(hyperparameter_template=\"benchmark_rank1\", task = tfdf.keras.Task.REGRESSION),\n",
    "    #'gbt_baselines': tfdf.keras.GradientBoostedTreesModel(task = tfdf.keras.Task.REGRESSION),\n",
    "#    'gbt_tune1': tfdf.keras.GradientBoostedTreesModel(hyperparameter_template=\"benchmark_rank1\")\n",
    "#    }\n",
    "\n",
    "models['gbt_tune1'].compile(metrics=[\"accuracy\"])\n",
    "models['gbt_tune1'].fit(x=train_tf)"
   ]
  },
  {
   "cell_type": "markdown",
   "id": "fab39120-06c5-42c7-a13f-1084205c04f0",
   "metadata": {},
   "source": [
    "# Predictions"
   ]
  },
  {
   "cell_type": "code",
   "execution_count": 246,
   "id": "50347100-86bd-48d4-9adf-708e994428ef",
   "metadata": {},
   "outputs": [
    {
     "data": {
      "text/plain": [
       "{'rf_baselines': <tensorflow_decision_forests.keras.RandomForestModel at 0x7f50273560a0>,\n",
       " 'rf_tune1': <tensorflow_decision_forests.keras.RandomForestModel at 0x7f5027356370>,\n",
       " 'gbt_baselines': <tensorflow_decision_forests.keras.GradientBoostedTreesModel at 0x7f5026cb9ac0>,\n",
       " 'gbt_tune1': <tensorflow_decision_forests.keras.GradientBoostedTreesModel at 0x7f5027338f70>}"
      ]
     },
     "execution_count": 246,
     "metadata": {},
     "output_type": "execute_result"
    }
   ],
   "source": [
    "models"
   ]
  },
  {
   "cell_type": "code",
   "execution_count": 304,
   "id": "adceb97f-3098-4980-a2c1-b123288a042f",
   "metadata": {},
   "outputs": [],
   "source": [
    "scores = models['gbt_tune1'].predict(predictions)"
   ]
  },
  {
   "cell_type": "code",
   "execution_count": 305,
   "id": "ad36d0ff-3cce-457f-96aa-ef39c05a2cf5",
   "metadata": {},
   "outputs": [],
   "source": [
    "#Label classes: ['adoption', 'no outcome', 'transfer']"
   ]
  },
  {
   "cell_type": "code",
   "execution_count": 306,
   "id": "b218da44-e68f-48de-9368-0edc6ed83bba",
   "metadata": {},
   "outputs": [
    {
     "data": {
      "text/plain": [
       "array([[8.7180000e-04, 9.9736279e-01, 1.7653710e-03],\n",
       "       [2.0946354e-02, 7.1948725e-01, 2.5956640e-01],\n",
       "       [9.3595344e-01, 3.3668408e-03, 6.0679663e-02],\n",
       "       ...,\n",
       "       [3.3661008e-01, 3.5512988e-02, 6.2787688e-01],\n",
       "       [9.6797407e-01, 6.9470480e-03, 2.5078943e-02],\n",
       "       [1.5179572e-01, 8.3186381e-02, 7.6501787e-01]], dtype=float32)"
      ]
     },
     "execution_count": 306,
     "metadata": {},
     "output_type": "execute_result"
    }
   ],
   "source": [
    "scores"
   ]
  },
  {
   "cell_type": "code",
   "execution_count": 307,
   "id": "a314fc3a-ee83-4b58-83df-e5b3466ded97",
   "metadata": {},
   "outputs": [],
   "source": [
    "temp = pd.DataFrame(data=scores, columns=[\"adoption\", \"no outcome\",\"transfer\"])"
   ]
  },
  {
   "cell_type": "code",
   "execution_count": 308,
   "id": "98c36421-29f3-4b7a-bbbf-9a038c563283",
   "metadata": {},
   "outputs": [],
   "source": [
    "temp['id'] = submission.id"
   ]
  },
  {
   "cell_type": "code",
   "execution_count": 309,
   "id": "dc614a6e-efa3-4043-a410-bad44c563d20",
   "metadata": {},
   "outputs": [],
   "source": [
    "temp = temp[['id','adoption','no outcome','transfer']]"
   ]
  },
  {
   "cell_type": "code",
   "execution_count": 310,
   "id": "d070da16-3526-4c24-9095-c1b0572ae60b",
   "metadata": {},
   "outputs": [
    {
     "data": {
      "text/html": [
       "<div>\n",
       "<style scoped>\n",
       "    .dataframe tbody tr th:only-of-type {\n",
       "        vertical-align: middle;\n",
       "    }\n",
       "\n",
       "    .dataframe tbody tr th {\n",
       "        vertical-align: top;\n",
       "    }\n",
       "\n",
       "    .dataframe thead th {\n",
       "        text-align: right;\n",
       "    }\n",
       "</style>\n",
       "<table border=\"1\" class=\"dataframe\">\n",
       "  <thead>\n",
       "    <tr style=\"text-align: right;\">\n",
       "      <th></th>\n",
       "      <th>id</th>\n",
       "      <th>adoption</th>\n",
       "      <th>no outcome</th>\n",
       "      <th>transfer</th>\n",
       "    </tr>\n",
       "  </thead>\n",
       "  <tbody>\n",
       "    <tr>\n",
       "      <th>0</th>\n",
       "      <td>67473</td>\n",
       "      <td>0.000872</td>\n",
       "      <td>0.997363</td>\n",
       "      <td>0.001765</td>\n",
       "    </tr>\n",
       "    <tr>\n",
       "      <th>1</th>\n",
       "      <td>4629</td>\n",
       "      <td>0.020946</td>\n",
       "      <td>0.719487</td>\n",
       "      <td>0.259566</td>\n",
       "    </tr>\n",
       "    <tr>\n",
       "      <th>2</th>\n",
       "      <td>13914</td>\n",
       "      <td>0.935953</td>\n",
       "      <td>0.003367</td>\n",
       "      <td>0.060680</td>\n",
       "    </tr>\n",
       "    <tr>\n",
       "      <th>3</th>\n",
       "      <td>53131</td>\n",
       "      <td>0.093944</td>\n",
       "      <td>0.219680</td>\n",
       "      <td>0.686376</td>\n",
       "    </tr>\n",
       "    <tr>\n",
       "      <th>4</th>\n",
       "      <td>57800</td>\n",
       "      <td>0.585817</td>\n",
       "      <td>0.039921</td>\n",
       "      <td>0.374262</td>\n",
       "    </tr>\n",
       "    <tr>\n",
       "      <th>...</th>\n",
       "      <td>...</td>\n",
       "      <td>...</td>\n",
       "      <td>...</td>\n",
       "      <td>...</td>\n",
       "    </tr>\n",
       "    <tr>\n",
       "      <th>23312</th>\n",
       "      <td>9347</td>\n",
       "      <td>0.903591</td>\n",
       "      <td>0.038790</td>\n",
       "      <td>0.057620</td>\n",
       "    </tr>\n",
       "    <tr>\n",
       "      <th>23313</th>\n",
       "      <td>3781</td>\n",
       "      <td>0.004891</td>\n",
       "      <td>0.022325</td>\n",
       "      <td>0.972784</td>\n",
       "    </tr>\n",
       "    <tr>\n",
       "      <th>23314</th>\n",
       "      <td>74693</td>\n",
       "      <td>0.336610</td>\n",
       "      <td>0.035513</td>\n",
       "      <td>0.627877</td>\n",
       "    </tr>\n",
       "    <tr>\n",
       "      <th>23315</th>\n",
       "      <td>44987</td>\n",
       "      <td>0.967974</td>\n",
       "      <td>0.006947</td>\n",
       "      <td>0.025079</td>\n",
       "    </tr>\n",
       "    <tr>\n",
       "      <th>23316</th>\n",
       "      <td>30993</td>\n",
       "      <td>0.151796</td>\n",
       "      <td>0.083186</td>\n",
       "      <td>0.765018</td>\n",
       "    </tr>\n",
       "  </tbody>\n",
       "</table>\n",
       "<p>23317 rows × 4 columns</p>\n",
       "</div>"
      ],
      "text/plain": [
       "          id  adoption  no outcome  transfer\n",
       "0      67473  0.000872    0.997363  0.001765\n",
       "1       4629  0.020946    0.719487  0.259566\n",
       "2      13914  0.935953    0.003367  0.060680\n",
       "3      53131  0.093944    0.219680  0.686376\n",
       "4      57800  0.585817    0.039921  0.374262\n",
       "...      ...       ...         ...       ...\n",
       "23312   9347  0.903591    0.038790  0.057620\n",
       "23313   3781  0.004891    0.022325  0.972784\n",
       "23314  74693  0.336610    0.035513  0.627877\n",
       "23315  44987  0.967974    0.006947  0.025079\n",
       "23316  30993  0.151796    0.083186  0.765018\n",
       "\n",
       "[23317 rows x 4 columns]"
      ]
     },
     "execution_count": 310,
     "metadata": {},
     "output_type": "execute_result"
    }
   ],
   "source": [
    "temp"
   ]
  },
  {
   "cell_type": "code",
   "execution_count": 311,
   "id": "6d2d6579-b6ce-4a74-b65e-6f03f2fe5312",
   "metadata": {},
   "outputs": [],
   "source": [
    "temp['no outcome'] = np.where(temp['no outcome'] > .96, 1, temp['no outcome'])\n",
    "temp['adoption'] = np.where(temp['no outcome'] == 1, 0, temp['adoption'])\n",
    "temp['transfer'] = np.where(temp['no outcome'] == 1, 0, temp['transfer'])"
   ]
  },
  {
   "cell_type": "code",
   "execution_count": 312,
   "id": "7973d6cd-447d-4cba-be2f-087ed687c8be",
   "metadata": {},
   "outputs": [],
   "source": [
    "temp['adoption'] = np.where(temp['adoption'] > .96, 1, temp['adoption'])\n",
    "temp['no outcome'] = np.where(temp['adoption'] == 1, 0, temp['no outcome'])\n",
    "temp['transfer'] = np.where(temp['adoption'] == 1, 0, temp['transfer'])"
   ]
  },
  {
   "cell_type": "code",
   "execution_count": 313,
   "id": "8ad64b7e-309a-4832-a89e-f43b6dbb3492",
   "metadata": {},
   "outputs": [],
   "source": [
    "temp['transfer'] = np.where(temp['transfer'] > .96, 1, temp['transfer'])\n",
    "temp['adoption'] = np.where(temp['transfer'] == 1, 0, temp['adoption'])\n",
    "temp['no outcome'] = np.where(temp['transfer'] == 1, 0, temp['no outcome'])"
   ]
  },
  {
   "cell_type": "code",
   "execution_count": 314,
   "id": "af3ef058-b6e7-4ad4-8bc9-d745f933278e",
   "metadata": {},
   "outputs": [],
   "source": [
    "temp.to_csv('submission.csv', index=False)"
   ]
  },
  {
   "cell_type": "code",
   "execution_count": 316,
   "id": "5382d4c7-0a60-4fa2-ba23-3920bc1000bd",
   "metadata": {},
   "outputs": [
    {
     "name": "stdout",
     "output_type": "stream",
     "text": [
      "Warning: Your Kaggle API key is readable by other users on this system! To fix this, you can run 'chmod 600 /home/neil/kaggle/kaggle.json'\n",
      "Warning: Looks like you're using an outdated API Version, please consider updating (server 1.5.12 / client 1.5.8)\n",
      "100%|█████████████████████████████████████████| 779k/779k [00:00<00:00, 850kB/s]\n",
      "400 - Bad Request\n"
     ]
    }
   ],
   "source": [
    "!kaggle competitions submit -c sliced-s01e10-playoffs-2 -f submission.csv -m \"Best With Names with outcome updates\""
   ]
  },
  {
   "cell_type": "code",
   "execution_count": null,
   "id": "bb8bc1b2-ca02-4634-ab9d-3d67d8d2fa63",
   "metadata": {},
   "outputs": [],
   "source": []
  }
 ],
 "metadata": {
  "kernelspec": {
   "display_name": "ds_py_3.8",
   "language": "python",
   "name": "ds_py_3.8"
  },
  "language_info": {
   "codemirror_mode": {
    "name": "ipython",
    "version": 3
   },
   "file_extension": ".py",
   "mimetype": "text/x-python",
   "name": "python",
   "nbconvert_exporter": "python",
   "pygments_lexer": "ipython3",
   "version": "3.8.10"
  }
 },
 "nbformat": 4,
 "nbformat_minor": 5
}
