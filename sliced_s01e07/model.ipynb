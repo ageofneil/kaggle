{
 "cells": [
  {
   "cell_type": "code",
   "execution_count": 1,
   "id": "911b3c76-0f8b-4a68-b911-c69b6151de73",
   "metadata": {},
   "outputs": [],
   "source": [
    "# Guide: https://www.tensorflow.org/decision_forests/tutorials/beginner_colab"
   ]
  },
  {
   "cell_type": "code",
   "execution_count": 30,
   "id": "8ee0b96a-088e-4c0b-899a-605384c59bde",
   "metadata": {},
   "outputs": [],
   "source": [
    "# Standard stack\n",
    "import datetime\n",
    "import pandas as pd\n",
    "import numpy as np\n",
    "import re\n",
    "\n",
    "# Visualization\n",
    "from pandas_profiling import ProfileReport\n",
    "#import plotly.express as px\n",
    "import matplotlib.pyplot as plt\n",
    "import seaborn as sns\n",
    "\n",
    "# Modeling\n",
    "import tensorflow as tf\n",
    "import tensorflow_decision_forests as tfdf\n",
    "try:\n",
    "    from wurlitzer import sys_pipes\n",
    "except:\n",
    "    from colabtools.googlelog import CaptureLog as sys_pipes\n",
    "\n",
    "# Scikit-learn packages\n",
    "from sklearn import metrics\n",
    "from sklearn.model_selection import train_test_split\n",
    "from sklearn.impute import SimpleImputer\n",
    "from sklearn.pipeline import Pipeline\n",
    "from sklearn.preprocessing import StandardScaler, OneHotEncoder, FunctionTransformer, OrdinalEncoder\n",
    "from sklearn.compose import ColumnTransformer\n",
    "from sklearn.model_selection import KFold\n",
    "\n",
    "# display\n",
    "from IPython.core.magic import register_line_magic\n",
    "from IPython.display import Javascript"
   ]
  },
  {
   "cell_type": "markdown",
   "id": "85626ca8-048a-4e79-a98c-0df491bae731",
   "metadata": {},
   "source": [
    "# Constants"
   ]
  },
  {
   "cell_type": "code",
   "execution_count": 31,
   "id": "95484130-439f-4ba4-afc1-8259b1dc8687",
   "metadata": {},
   "outputs": [],
   "source": [
    "TRAIN_PATH = \"data/train.csv\"\n",
    "TEST_PATH = \"data/test.csv\"\n",
    "label = \"attrition_flag\""
   ]
  },
  {
   "cell_type": "markdown",
   "id": "c7514a11-496b-4315-8acb-e9ffffa413ed",
   "metadata": {},
   "source": [
    "# Load Data"
   ]
  },
  {
   "cell_type": "code",
   "execution_count": 32,
   "id": "d0d7e48a-10a6-45d2-8da7-284b82c7b37d",
   "metadata": {},
   "outputs": [],
   "source": [
    "train = pd.read_csv(TRAIN_PATH)\n",
    "test = pd.read_csv(TEST_PATH)\n",
    "submission = pd.read_csv(TEST_PATH)"
   ]
  },
  {
   "cell_type": "code",
   "execution_count": 33,
   "id": "32c801b3-d173-41f4-9fdc-11ea83ff1541",
   "metadata": {},
   "outputs": [
    {
     "data": {
      "text/html": [
       "<div>\n",
       "<style scoped>\n",
       "    .dataframe tbody tr th:only-of-type {\n",
       "        vertical-align: middle;\n",
       "    }\n",
       "\n",
       "    .dataframe tbody tr th {\n",
       "        vertical-align: top;\n",
       "    }\n",
       "\n",
       "    .dataframe thead th {\n",
       "        text-align: right;\n",
       "    }\n",
       "</style>\n",
       "<table border=\"1\" class=\"dataframe\">\n",
       "  <thead>\n",
       "    <tr style=\"text-align: right;\">\n",
       "      <th></th>\n",
       "      <th>id</th>\n",
       "      <th>attrition_flag</th>\n",
       "      <th>customer_age</th>\n",
       "      <th>gender</th>\n",
       "      <th>education_level</th>\n",
       "      <th>income_category</th>\n",
       "      <th>total_relationship_count</th>\n",
       "      <th>months_inactive_12_mon</th>\n",
       "      <th>credit_limit</th>\n",
       "      <th>total_revolving_bal</th>\n",
       "      <th>total_amt_chng_q4_q1</th>\n",
       "      <th>total_trans_amt</th>\n",
       "      <th>total_trans_ct</th>\n",
       "      <th>total_ct_chng_q4_q1</th>\n",
       "      <th>avg_utilization_ratio</th>\n",
       "    </tr>\n",
       "  </thead>\n",
       "  <tbody>\n",
       "    <tr>\n",
       "      <th>0</th>\n",
       "      <td>8805</td>\n",
       "      <td>0</td>\n",
       "      <td>27</td>\n",
       "      <td>F</td>\n",
       "      <td>Post-Graduate</td>\n",
       "      <td>Less than $40K</td>\n",
       "      <td>3</td>\n",
       "      <td>2</td>\n",
       "      <td>1438.3</td>\n",
       "      <td>990</td>\n",
       "      <td>0.715</td>\n",
       "      <td>3855</td>\n",
       "      <td>73</td>\n",
       "      <td>1.147</td>\n",
       "      <td>0.688</td>\n",
       "    </tr>\n",
       "  </tbody>\n",
       "</table>\n",
       "</div>"
      ],
      "text/plain": [
       "     id  attrition_flag  customer_age gender education_level income_category  \\\n",
       "0  8805               0            27      F   Post-Graduate  Less than $40K   \n",
       "\n",
       "   total_relationship_count  months_inactive_12_mon  credit_limit  \\\n",
       "0                         3                       2        1438.3   \n",
       "\n",
       "   total_revolving_bal  total_amt_chng_q4_q1  total_trans_amt  total_trans_ct  \\\n",
       "0                  990                 0.715             3855              73   \n",
       "\n",
       "   total_ct_chng_q4_q1  avg_utilization_ratio  \n",
       "0                1.147                  0.688  "
      ]
     },
     "execution_count": 33,
     "metadata": {},
     "output_type": "execute_result"
    }
   ],
   "source": [
    "train.head(1)"
   ]
  },
  {
   "cell_type": "code",
   "execution_count": 34,
   "id": "1aa163f9-456f-45b1-b5c9-7daf788dd342",
   "metadata": {},
   "outputs": [
    {
     "name": "stdout",
     "output_type": "stream",
     "text": [
      "<class 'pandas.core.frame.DataFrame'>\n",
      "RangeIndex: 7088 entries, 0 to 7087\n",
      "Data columns (total 15 columns):\n",
      " #   Column                    Non-Null Count  Dtype  \n",
      "---  ------                    --------------  -----  \n",
      " 0   id                        7088 non-null   int64  \n",
      " 1   attrition_flag            7088 non-null   int64  \n",
      " 2   customer_age              7088 non-null   int64  \n",
      " 3   gender                    7088 non-null   object \n",
      " 4   education_level           7088 non-null   object \n",
      " 5   income_category           7088 non-null   object \n",
      " 6   total_relationship_count  7088 non-null   int64  \n",
      " 7   months_inactive_12_mon    7088 non-null   int64  \n",
      " 8   credit_limit              7088 non-null   float64\n",
      " 9   total_revolving_bal       7088 non-null   int64  \n",
      " 10  total_amt_chng_q4_q1      7088 non-null   float64\n",
      " 11  total_trans_amt           7088 non-null   int64  \n",
      " 12  total_trans_ct            7088 non-null   int64  \n",
      " 13  total_ct_chng_q4_q1       7088 non-null   float64\n",
      " 14  avg_utilization_ratio     7088 non-null   float64\n",
      "dtypes: float64(4), int64(8), object(3)\n",
      "memory usage: 830.8+ KB\n"
     ]
    }
   ],
   "source": [
    "train.info()"
   ]
  },
  {
   "cell_type": "markdown",
   "id": "50331ffe-7c81-414c-b074-bc479c1a2f78",
   "metadata": {},
   "source": [
    "# Preprocess"
   ]
  },
  {
   "cell_type": "markdown",
   "id": "7cdf4ebb-e368-4ee7-a5c2-98118a73c7c0",
   "metadata": {},
   "source": [
    "### Drop Columns"
   ]
  },
  {
   "cell_type": "code",
   "execution_count": 35,
   "id": "b88af8d5-dbb3-4faa-a9c0-cb78f7a45ee2",
   "metadata": {},
   "outputs": [
    {
     "data": {
      "text/plain": [
       "Index(['id', 'attrition_flag', 'customer_age', 'gender', 'education_level',\n",
       "       'income_category', 'total_relationship_count', 'months_inactive_12_mon',\n",
       "       'credit_limit', 'total_revolving_bal', 'total_amt_chng_q4_q1',\n",
       "       'total_trans_amt', 'total_trans_ct', 'total_ct_chng_q4_q1',\n",
       "       'avg_utilization_ratio'],\n",
       "      dtype='object')"
      ]
     },
     "execution_count": 35,
     "metadata": {},
     "output_type": "execute_result"
    }
   ],
   "source": [
    "train.columns"
   ]
  },
  {
   "cell_type": "code",
   "execution_count": 36,
   "id": "9577d59b-c99c-4048-a458-02b08c49a64b",
   "metadata": {},
   "outputs": [],
   "source": [
    "to_drop = ['id']"
   ]
  },
  {
   "cell_type": "code",
   "execution_count": 37,
   "id": "f0d60674-e270-4c09-b33d-709b98eeeb57",
   "metadata": {},
   "outputs": [],
   "source": [
    "train = train.drop(to_drop,axis=1)\n",
    "test = test.drop(to_drop,axis=1)"
   ]
  },
  {
   "cell_type": "markdown",
   "id": "52df3a18-02bb-43ef-9746-e616421dcd7f",
   "metadata": {},
   "source": [
    "### Missing Values"
   ]
  },
  {
   "cell_type": "code",
   "execution_count": 38,
   "id": "79a7864c-02bc-4424-8d75-988e4b175f12",
   "metadata": {},
   "outputs": [],
   "source": [
    "def inpute_missing(dataset):\n",
    "    \"\"\" \n",
    "    Edit this to fix nulls. Default version replaces all int/float with 0\n",
    "    \"\"\"\n",
    "    for col in dataset.columns:\n",
    "        if dataset[col].dtype not in [str, object]:\n",
    "            dataset[col] = dataset[col].fillna(0)\n",
    "    return dataset\n",
    "\n",
    "train = inpute_missing(train)\n",
    "test = inpute_missing(test)"
   ]
  },
  {
   "cell_type": "markdown",
   "id": "7fe1c1c6-a67c-4074-96d0-1fe91992d8fd",
   "metadata": {},
   "source": [
    "### NLP"
   ]
  },
  {
   "cell_type": "code",
   "execution_count": 39,
   "id": "bf5236d2-9d79-4909-8809-1f225ab30ac9",
   "metadata": {},
   "outputs": [],
   "source": [
    "def nlp_transforms(dataset):\n",
    "    \"\"\" \n",
    "    NLP tranforms here. Default, None...\n",
    "    \"\"\"\n",
    "    return dataset\n",
    "\n",
    "train = nlp_transforms(train)\n",
    "test = nlp_transforms(test)"
   ]
  },
  {
   "cell_type": "markdown",
   "id": "b8f76e41-80bd-4c07-b92a-d240146172bd",
   "metadata": {},
   "source": [
    "### Computations"
   ]
  },
  {
   "cell_type": "code",
   "execution_count": 40,
   "id": "bf6c9512-669a-4af0-a02c-4c8130409f5e",
   "metadata": {},
   "outputs": [],
   "source": [
    "def computation_transforms(dataset):\n",
    "    \"\"\" \n",
    "    NLP tranforms here. Default, None...\n",
    "    \"\"\"\n",
    "    return dataset\n",
    "\n",
    "train = computation_transforms(train)\n",
    "test = computation_transforms(test)"
   ]
  },
  {
   "cell_type": "markdown",
   "id": "b0b38732-28fb-420f-8884-cbdd1dbbd33c",
   "metadata": {},
   "source": [
    "# Split & Train\n",
    "Not needed if doing cross validation"
   ]
  },
  {
   "cell_type": "code",
   "execution_count": 43,
   "id": "4e13b1f6-144e-4325-b8db-0486bfce3256",
   "metadata": {},
   "outputs": [],
   "source": [
    "#train_df, test_df = train_test_split(train)\n",
    "\n",
    "#train_tf = tfdf.keras.pd_dataframe_to_tf_dataset(train_df, label=label)\n",
    "#test_tf = tfdf.keras.pd_dataframe_to_tf_dataset(test_df, label=label)\n",
    "#predictions = tfdf.keras.pd_dataframe_to_tf_dataset(test)"
   ]
  },
  {
   "cell_type": "markdown",
   "id": "1f182ddc-eb67-445f-b22e-f844a83841f0",
   "metadata": {},
   "source": [
    "# Cross Validate"
   ]
  },
  {
   "cell_type": "code",
   "execution_count": 76,
   "id": "2ce9d59e-5028-482d-bce8-a18ded83c5f1",
   "metadata": {},
   "outputs": [
    {
     "name": "stdout",
     "output_type": "stream",
     "text": [
      "[HyperParameterTemplate(name='better_default', version=1, parameters={'growing_strategy': 'BEST_FIRST_GLOBAL'}, description='A configuration that is generally better than the default parameters without being more expensive.'), HyperParameterTemplate(name='benchmark_rank1', version=1, parameters={'growing_strategy': 'BEST_FIRST_GLOBAL', 'categorical_algorithm': 'RANDOM', 'split_axis': 'SPARSE_OBLIQUE', 'sparse_oblique_normalization': 'MIN_MAX', 'sparse_oblique_num_projections_exponent': 1.0}, description='Top ranking hyper-parameters on our benchmark slightly modified to run in reasonable time.')]\n"
     ]
    }
   ],
   "source": [
    "# The hyper-parameter templates of the Gradient Boosted Tree model.\n",
    "print(tfdf.keras.GradientBoostedTreesModel.predefined_hyperparameters())"
   ]
  },
  {
   "cell_type": "code",
   "execution_count": 98,
   "id": "f1a6d934-a8fd-4ae5-a650-d4a841f60f7d",
   "metadata": {},
   "outputs": [
    {
     "name": "stdout",
     "output_type": "stream",
     "text": [
      "gbt_tune1\n",
      "Running fold 1\n",
      "Running fold 2\n",
      "Running fold 3\n",
      "Running fold 4\n",
      "Running fold 5\n",
      "Running fold 6\n",
      "Running fold 7\n",
      "Running fold 8\n",
      "Running fold 9\n",
      "Running fold 10\n",
      "Cross-validated Score: 0.03118262328207493 for model: gbt_tune1\n",
      "gbt_tune2\n",
      "Running fold 1\n",
      "Running fold 2\n",
      "Running fold 3\n",
      "Running fold 4\n",
      "Running fold 5\n",
      "Running fold 6\n",
      "Running fold 7\n",
      "Running fold 8\n",
      "Running fold 9\n",
      "Running fold 10\n",
      "Cross-validated Score: 0.032170530408620834 for model: gbt_tune2\n"
     ]
    }
   ],
   "source": [
    "models = {\n",
    "    #'rf_default': tfdf.keras.RandomForestModel(),\n",
    "    #'gbt_default': tfdf.keras.GradientBoostedTreesModel(),\n",
    "    'gbt_tune1': tfdf.keras.GradientBoostedTreesModel(hyperparameter_template=\"benchmark_rank1\"),\n",
    "    'gbt_tune2': tfdf.keras.GradientBoostedTreesModel(\n",
    "                                                      num_trees=5000,\n",
    "                                                      early_stopping=\"LOSS_INCREASE\",\n",
    "                                                      ),\n",
    "    #'gbt_tune3': tfdf.keras.GradientBoostedTreesModel(num_trees=500,\n",
    "    #                                                  growing_strategy=\"BEST_FIRST_GLOBAL\",\n",
    "    #                                                  max_depth=8,\n",
    "    #                                                  split_axis=\"SPARSE_OBLIQUE\",\n",
    "    #                                                  categorical_algorithm=\"RANDOM\",\n",
    "    #                                                  early_stopping=\"LOSS_INCREASE\"\n",
    "    #                                                  ),\n",
    "    }\n",
    "\n",
    "# Run a 10-folds cross-validation.\n",
    "accuraties_per_fold = []\n",
    "\n",
    "for key in models:\n",
    "    print(key)\n",
    "    for  fold_idx, (train_indices, test_indices) in enumerate(KFold(n_splits=10, shuffle=True, random_state=42).split(train)):\n",
    "\n",
    "        print(f\"Running fold {fold_idx+1}\")\n",
    "\n",
    "        # Extract the training and testing examples.\n",
    "        sub_train_df = train.iloc[train_indices]\n",
    "        sub_test_df = train.iloc[test_indices]\n",
    "\n",
    "        # Convert the examples into tensorflow datasets.\n",
    "        sub_train_ds = tfdf.keras.pd_dataframe_to_tf_dataset(sub_train_df, label=label)\n",
    "        sub_test_df = tfdf.keras.pd_dataframe_to_tf_dataset(sub_test_df, label=label)\n",
    "\n",
    "        # Train the model.\n",
    "        models[key].compile(metrics=[\"BinaryCrossentropy\"])\n",
    "        models[key].fit(sub_train_ds, verbose=False)\n",
    "\n",
    "        # Evaluate the model.\n",
    "        evaluation = models[key].evaluate(sub_test_df, return_dict=True, verbose=False)\n",
    "        #print(f\"Evaluation {evaluation}\")\n",
    "\n",
    "        accuraties_per_fold.append(evaluation[\"binary_crossentropy\"])\n",
    "\n",
    "    print(f\"Cross-validated Score: {np.mean(accuraties_per_fold)} for model: \" + key)"
   ]
  },
  {
   "cell_type": "markdown",
   "id": "869a97a4-d8ee-496c-808d-75fed8c7d4e4",
   "metadata": {},
   "source": [
    "# Test Best Models"
   ]
  },
  {
   "cell_type": "code",
   "execution_count": 86,
   "id": "91d5529d-739e-43f9-9041-31126f50aabc",
   "metadata": {},
   "outputs": [],
   "source": [
    "train_df, test_df = train_test_split(train)\n",
    "train_tf = tfdf.keras.pd_dataframe_to_tf_dataset(train_df, label=label)\n",
    "test_tf = tfdf.keras.pd_dataframe_to_tf_dataset(test_df, label=label)"
   ]
  },
  {
   "cell_type": "code",
   "execution_count": 87,
   "id": "f5d3c7f9-cd24-4b63-ba9e-bc0e99696d9a",
   "metadata": {},
   "outputs": [
    {
     "name": "stdout",
     "output_type": "stream",
     "text": [
      "gbt_tune1\n",
      "84/84 [==============================] - 0s 804us/step\n",
      "28/28 [==============================] - 0s 2ms/step - loss: 0.0000e+00 - binary_crossentropy: 0.0377\n",
      "gbt_tune2\n",
      "84/84 [==============================] - 0s 1ms/step\n",
      "28/28 [==============================] - 0s 2ms/step - loss: 0.0000e+00 - binary_crossentropy: 0.0377\n",
      "gbt_tune3\n",
      "84/84 [==============================] - 0s 919us/step\n",
      "28/28 [==============================] - 0s 2ms/step - loss: 0.0000e+00 - binary_crossentropy: 0.0447\n"
     ]
    }
   ],
   "source": [
    "evaluation = {}\n",
    "for key in models:\n",
    "    print(key)\n",
    "    #Evaluate: metric logsloss: BinaryCrossentropy\n",
    "    models[key].compile(metrics=[\"BinaryCrossentropy\"])\n",
    "    \n",
    "    #with sys_pipes():\n",
    "    models[key].fit(x=train_tf)\n",
    "    evaluation[key] = models[key].evaluate(test_tf, return_dict=True)"
   ]
  },
  {
   "cell_type": "markdown",
   "id": "2262708b-8a0e-4cd2-93d7-c10078266e1b",
   "metadata": {},
   "source": [
    "# Train Final Model"
   ]
  },
  {
   "cell_type": "code",
   "execution_count": null,
   "id": "2c49b2f0-0b89-4fdd-9ba1-c8b02e9b27aa",
   "metadata": {},
   "outputs": [],
   "source": [
    "predictions = tfdf.keras.pd_dataframe_to_tf_dataset(test)"
   ]
  },
  {
   "cell_type": "code",
   "execution_count": 51,
   "id": "732f81c3-c27e-444f-87e0-f513f3df4475",
   "metadata": {},
   "outputs": [],
   "source": [
    "train_tf = tfdf.keras.pd_dataframe_to_tf_dataset(train, label=label)"
   ]
  },
  {
   "cell_type": "code",
   "execution_count": 53,
   "id": "c50782f6-939c-4a87-b01d-976cec825df3",
   "metadata": {},
   "outputs": [
    {
     "name": "stdout",
     "output_type": "stream",
     "text": [
      "111/111 [==============================] - 0s 974us/step\n"
     ]
    },
    {
     "data": {
      "text/plain": [
       "<tensorflow.python.keras.callbacks.History at 0x7f07230afb20>"
      ]
     },
     "execution_count": 53,
     "metadata": {},
     "output_type": "execute_result"
    }
   ],
   "source": [
    "# A more complex, but possibly, more accurate model.\n",
    "model = tfdf.keras.GradientBoostedTreesModel()\n",
    "\n",
    "model.compile(metrics=[\"accuracy\",\"BinaryCrossentropy\"])\n",
    "model.fit(train_tf)"
   ]
  },
  {
   "cell_type": "markdown",
   "id": "e1f68290-d586-41b2-9d11-36dfac7eee12",
   "metadata": {},
   "source": [
    "# Predictions"
   ]
  },
  {
   "cell_type": "code",
   "execution_count": 54,
   "id": "f5d57dfe-ab03-4505-a3d6-53569bd0bf5e",
   "metadata": {},
   "outputs": [],
   "source": [
    "scores = model.predict(predictions)"
   ]
  },
  {
   "cell_type": "code",
   "execution_count": 56,
   "id": "850f61f1-951c-4893-9c1c-6673d9b1fcff",
   "metadata": {},
   "outputs": [
    {
     "data": {
      "text/plain": [
       "array([[0.00608435],\n",
       "       [0.7595951 ],\n",
       "       [0.00147151],\n",
       "       ...,\n",
       "       [0.02006311],\n",
       "       [0.92395747],\n",
       "       [0.95160055]], dtype=float32)"
      ]
     },
     "execution_count": 56,
     "metadata": {},
     "output_type": "execute_result"
    }
   ],
   "source": [
    "scores"
   ]
  },
  {
   "cell_type": "code",
   "execution_count": 59,
   "id": "bb317af2-0c2f-47ed-9a46-25ad1f62c87c",
   "metadata": {},
   "outputs": [],
   "source": [
    "submission[label] = scores"
   ]
  },
  {
   "cell_type": "code",
   "execution_count": null,
   "id": "537a6a76-09b5-4764-87a6-c03a392608ef",
   "metadata": {},
   "outputs": [],
   "source": []
  }
 ],
 "metadata": {
  "kernelspec": {
   "display_name": "ds_py_3.8",
   "language": "python",
   "name": "ds_py_3.8"
  },
  "language_info": {
   "codemirror_mode": {
    "name": "ipython",
    "version": 3
   },
   "file_extension": ".py",
   "mimetype": "text/x-python",
   "name": "python",
   "nbconvert_exporter": "python",
   "pygments_lexer": "ipython3",
   "version": "3.8.10"
  }
 },
 "nbformat": 4,
 "nbformat_minor": 5
}
