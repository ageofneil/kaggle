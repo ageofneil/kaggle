{
 "cells": [
  {
   "cell_type": "code",
   "execution_count": 66,
   "id": "statutory-yeast",
   "metadata": {},
   "outputs": [],
   "source": [
    "# Standard stack\n",
    "import datetime\n",
    "import pandas as pd\n",
    "import numpy as np\n",
    "import re\n",
    "\n",
    "# Visualization\n",
    "from pandas_profiling import ProfileReport\n",
    "#import plotly.express as px\n",
    "import matplotlib.pyplot as plt\n",
    "import seaborn as sns\n",
    "\n",
    "# Modeling\n",
    "import tensorflow as tf\n",
    "import tensorflow_decision_forests as tfdf\n",
    "try:\n",
    "    from wurlitzer import sys_pipes\n",
    "except:\n",
    "    from colabtools.googlelog import CaptureLog as sys_pipes\n",
    "\n",
    "# Scikit-learn packages\n",
    "from sklearn import metrics\n",
    "from sklearn.model_selection import train_test_split\n",
    "from sklearn.impute import SimpleImputer\n",
    "from sklearn.pipeline import Pipeline\n",
    "from sklearn.preprocessing import StandardScaler, OneHotEncoder, FunctionTransformer, OrdinalEncoder\n",
    "from sklearn.compose import ColumnTransformer\n",
    "\n",
    "# display\n",
    "from IPython.core.magic import register_line_magic\n",
    "from IPython.display import Javascript"
   ]
  },
  {
   "cell_type": "code",
   "execution_count": 84,
   "id": "eligible-convergence",
   "metadata": {},
   "outputs": [],
   "source": [
    "KAGGLE_EVAL_METRIC = 'logloss' # string name for loss function in xgboost\n",
    "\n",
    "TRAIN_PATH = \"data/train.csv\"\n",
    "TEST_PATH = \"data/test.csv\"\n",
    "\n",
    "label = \"rain_tomorrow\""
   ]
  },
  {
   "cell_type": "markdown",
   "id": "small-reservation",
   "metadata": {},
   "source": [
    "# Load Data"
   ]
  },
  {
   "cell_type": "code",
   "execution_count": 85,
   "id": "interracial-graduate",
   "metadata": {},
   "outputs": [],
   "source": [
    "train = pd.read_csv(TRAIN_PATH)\n",
    "test = pd.read_csv(TEST_PATH)"
   ]
  },
  {
   "cell_type": "code",
   "execution_count": 86,
   "id": "2f064e76-ca49-4f50-a105-832339a3c34d",
   "metadata": {},
   "outputs": [
    {
     "data": {
      "text/html": [
       "<div>\n",
       "<style scoped>\n",
       "    .dataframe tbody tr th:only-of-type {\n",
       "        vertical-align: middle;\n",
       "    }\n",
       "\n",
       "    .dataframe tbody tr th {\n",
       "        vertical-align: top;\n",
       "    }\n",
       "\n",
       "    .dataframe thead th {\n",
       "        text-align: right;\n",
       "    }\n",
       "</style>\n",
       "<table border=\"1\" class=\"dataframe\">\n",
       "  <thead>\n",
       "    <tr style=\"text-align: right;\">\n",
       "      <th></th>\n",
       "      <th>id</th>\n",
       "      <th>date</th>\n",
       "      <th>location</th>\n",
       "      <th>min_temp</th>\n",
       "      <th>max_temp</th>\n",
       "      <th>rainfall</th>\n",
       "      <th>evaporation</th>\n",
       "      <th>sunshine</th>\n",
       "      <th>wind_gust_dir</th>\n",
       "      <th>wind_gust_speed</th>\n",
       "      <th>...</th>\n",
       "      <th>humidity9am</th>\n",
       "      <th>humidity3pm</th>\n",
       "      <th>pressure9am</th>\n",
       "      <th>pressure3pm</th>\n",
       "      <th>cloud9am</th>\n",
       "      <th>cloud3pm</th>\n",
       "      <th>temp9am</th>\n",
       "      <th>temp3pm</th>\n",
       "      <th>rain_today</th>\n",
       "      <th>rain_tomorrow</th>\n",
       "    </tr>\n",
       "  </thead>\n",
       "  <tbody>\n",
       "    <tr>\n",
       "      <th>0</th>\n",
       "      <td>6364</td>\n",
       "      <td>2010-11-11</td>\n",
       "      <td>BadgerysCreek</td>\n",
       "      <td>16.2</td>\n",
       "      <td>28.9</td>\n",
       "      <td>11.4</td>\n",
       "      <td>NaN</td>\n",
       "      <td>NaN</td>\n",
       "      <td>SW</td>\n",
       "      <td>37.0</td>\n",
       "      <td>...</td>\n",
       "      <td>78.0</td>\n",
       "      <td>52.0</td>\n",
       "      <td>1017.2</td>\n",
       "      <td>1011.7</td>\n",
       "      <td>NaN</td>\n",
       "      <td>NaN</td>\n",
       "      <td>20.3</td>\n",
       "      <td>27.9</td>\n",
       "      <td>1.0</td>\n",
       "      <td>0</td>\n",
       "    </tr>\n",
       "  </tbody>\n",
       "</table>\n",
       "<p>1 rows × 24 columns</p>\n",
       "</div>"
      ],
      "text/plain": [
       "     id        date       location  min_temp  max_temp  rainfall evaporation  \\\n",
       "0  6364  2010-11-11  BadgerysCreek      16.2      28.9      11.4         NaN   \n",
       "\n",
       "  sunshine wind_gust_dir  wind_gust_speed  ... humidity9am humidity3pm  \\\n",
       "0      NaN            SW             37.0  ...        78.0        52.0   \n",
       "\n",
       "   pressure9am  pressure3pm  cloud9am  cloud3pm  temp9am  temp3pm  rain_today  \\\n",
       "0       1017.2       1011.7       NaN       NaN     20.3     27.9         1.0   \n",
       "\n",
       "   rain_tomorrow  \n",
       "0              0  \n",
       "\n",
       "[1 rows x 24 columns]"
      ]
     },
     "execution_count": 86,
     "metadata": {},
     "output_type": "execute_result"
    }
   ],
   "source": [
    "train.head(1)"
   ]
  },
  {
   "cell_type": "code",
   "execution_count": 87,
   "id": "55f24ac4-6190-481f-b845-3f86b66a0c21",
   "metadata": {},
   "outputs": [],
   "source": [
    "# Inputation\n",
    "# Replaces numerical NaN (representing missing values in Pandas Dataframe) with 0s.\n",
    "# ...Neural Nets don't work well with numerical NaNs.\n",
    "def impute_numbers(dataset_df):\n",
    "    for col in dataset_df.columns:\n",
    "        if dataset_df[col].dtype not in [str, object]:\n",
    "            dataset_df[col] = dataset_df[col].fillna(0)\n",
    "    return dataset_df\n",
    "\n",
    "# Split the dataset into a training and testing dataset.\n",
    "def split_dataset(dataset, test_ratio=0.20):\n",
    "    \"\"\"Splits a panda dataframe in two.\"\"\"\n",
    "    test_indices = np.random.rand(len(dataset)) < test_ratio\n",
    "    return dataset[~test_indices], dataset[test_indices]\n",
    "\n",
    "def prepare_dataset(dataset):\n",
    "    name = {\"Ticket\" : tf.strings.split(dataset[\"Ticket\"]).numpy()}\n",
    "    return name"
   ]
  },
  {
   "cell_type": "code",
   "execution_count": 88,
   "id": "7a2e5f8e-ab2e-46f2-bcad-988792851f9a",
   "metadata": {},
   "outputs": [],
   "source": [
    "features = ['rain_tomorrow','humidity9am', 'humidity3pm', 'cloud9am', \n",
    "            'cloud3pm', 'wind_gust_speed','temp3pm','rain_today','location']# 'humidity_diff', 'temp_diff']"
   ]
  },
  {
   "cell_type": "code",
   "execution_count": 89,
   "id": "c8e860dc-ddee-430c-9acf-199b408eb58c",
   "metadata": {},
   "outputs": [],
   "source": [
    "train = train[features]"
   ]
  },
  {
   "cell_type": "code",
   "execution_count": 90,
   "id": "37ca0610-71a9-426f-ab3f-a3084786074e",
   "metadata": {},
   "outputs": [
    {
     "name": "stdout",
     "output_type": "stream",
     "text": [
      "27380 examples in training, 6811 examples for testing.\n"
     ]
    }
   ],
   "source": [
    "train = impute_numbers(train)\n",
    "train_ds_pd, test_ds_pd = split_dataset(train)\n",
    "print(\"{} examples in training, {} examples for testing.\".format(len(train_ds_pd), len(test_ds_pd)))"
   ]
  },
  {
   "cell_type": "code",
   "execution_count": 91,
   "id": "1b553d1f-d133-4b0c-85ba-1bdac839d741",
   "metadata": {},
   "outputs": [
    {
     "data": {
      "text/html": [
       "<div>\n",
       "<style scoped>\n",
       "    .dataframe tbody tr th:only-of-type {\n",
       "        vertical-align: middle;\n",
       "    }\n",
       "\n",
       "    .dataframe tbody tr th {\n",
       "        vertical-align: top;\n",
       "    }\n",
       "\n",
       "    .dataframe thead th {\n",
       "        text-align: right;\n",
       "    }\n",
       "</style>\n",
       "<table border=\"1\" class=\"dataframe\">\n",
       "  <thead>\n",
       "    <tr style=\"text-align: right;\">\n",
       "      <th></th>\n",
       "      <th>rain_tomorrow</th>\n",
       "      <th>humidity9am</th>\n",
       "      <th>humidity3pm</th>\n",
       "      <th>cloud9am</th>\n",
       "      <th>cloud3pm</th>\n",
       "      <th>wind_gust_speed</th>\n",
       "      <th>temp3pm</th>\n",
       "      <th>rain_today</th>\n",
       "      <th>location</th>\n",
       "    </tr>\n",
       "  </thead>\n",
       "  <tbody>\n",
       "    <tr>\n",
       "      <th>0</th>\n",
       "      <td>0</td>\n",
       "      <td>78.0</td>\n",
       "      <td>52.0</td>\n",
       "      <td>0.0</td>\n",
       "      <td>0.0</td>\n",
       "      <td>37.0</td>\n",
       "      <td>27.9</td>\n",
       "      <td>1.0</td>\n",
       "      <td>BadgerysCreek</td>\n",
       "    </tr>\n",
       "    <tr>\n",
       "      <th>1</th>\n",
       "      <td>1</td>\n",
       "      <td>81.0</td>\n",
       "      <td>65.0</td>\n",
       "      <td>7.0</td>\n",
       "      <td>7.0</td>\n",
       "      <td>35.0</td>\n",
       "      <td>24.4</td>\n",
       "      <td>0.0</td>\n",
       "      <td>Sale</td>\n",
       "    </tr>\n",
       "    <tr>\n",
       "      <th>2</th>\n",
       "      <td>0</td>\n",
       "      <td>93.0</td>\n",
       "      <td>61.0</td>\n",
       "      <td>0.0</td>\n",
       "      <td>0.0</td>\n",
       "      <td>31.0</td>\n",
       "      <td>14.6</td>\n",
       "      <td>0.0</td>\n",
       "      <td>Nhil</td>\n",
       "    </tr>\n",
       "    <tr>\n",
       "      <th>3</th>\n",
       "      <td>0</td>\n",
       "      <td>66.0</td>\n",
       "      <td>37.0</td>\n",
       "      <td>0.0</td>\n",
       "      <td>0.0</td>\n",
       "      <td>35.0</td>\n",
       "      <td>24.7</td>\n",
       "      <td>0.0</td>\n",
       "      <td>Townsville</td>\n",
       "    </tr>\n",
       "    <tr>\n",
       "      <th>4</th>\n",
       "      <td>0</td>\n",
       "      <td>17.0</td>\n",
       "      <td>7.0</td>\n",
       "      <td>0.0</td>\n",
       "      <td>0.0</td>\n",
       "      <td>61.0</td>\n",
       "      <td>41.1</td>\n",
       "      <td>0.0</td>\n",
       "      <td>Uluru</td>\n",
       "    </tr>\n",
       "    <tr>\n",
       "      <th>...</th>\n",
       "      <td>...</td>\n",
       "      <td>...</td>\n",
       "      <td>...</td>\n",
       "      <td>...</td>\n",
       "      <td>...</td>\n",
       "      <td>...</td>\n",
       "      <td>...</td>\n",
       "      <td>...</td>\n",
       "      <td>...</td>\n",
       "    </tr>\n",
       "    <tr>\n",
       "      <th>34186</th>\n",
       "      <td>1</td>\n",
       "      <td>81.0</td>\n",
       "      <td>86.0</td>\n",
       "      <td>8.0</td>\n",
       "      <td>8.0</td>\n",
       "      <td>15.0</td>\n",
       "      <td>23.7</td>\n",
       "      <td>1.0</td>\n",
       "      <td>Brisbane</td>\n",
       "    </tr>\n",
       "    <tr>\n",
       "      <th>34187</th>\n",
       "      <td>1</td>\n",
       "      <td>88.0</td>\n",
       "      <td>51.0</td>\n",
       "      <td>7.0</td>\n",
       "      <td>5.0</td>\n",
       "      <td>76.0</td>\n",
       "      <td>12.5</td>\n",
       "      <td>1.0</td>\n",
       "      <td>MountGambier</td>\n",
       "    </tr>\n",
       "    <tr>\n",
       "      <th>34188</th>\n",
       "      <td>0</td>\n",
       "      <td>65.0</td>\n",
       "      <td>39.0</td>\n",
       "      <td>0.0</td>\n",
       "      <td>0.0</td>\n",
       "      <td>35.0</td>\n",
       "      <td>26.9</td>\n",
       "      <td>0.0</td>\n",
       "      <td>Richmond</td>\n",
       "    </tr>\n",
       "    <tr>\n",
       "      <th>34189</th>\n",
       "      <td>1</td>\n",
       "      <td>85.0</td>\n",
       "      <td>88.0</td>\n",
       "      <td>7.0</td>\n",
       "      <td>7.0</td>\n",
       "      <td>28.0</td>\n",
       "      <td>6.2</td>\n",
       "      <td>1.0</td>\n",
       "      <td>MelbourneAirport</td>\n",
       "    </tr>\n",
       "    <tr>\n",
       "      <th>34190</th>\n",
       "      <td>0</td>\n",
       "      <td>63.0</td>\n",
       "      <td>40.0</td>\n",
       "      <td>7.0</td>\n",
       "      <td>3.0</td>\n",
       "      <td>0.0</td>\n",
       "      <td>15.7</td>\n",
       "      <td>0.0</td>\n",
       "      <td>Hobart</td>\n",
       "    </tr>\n",
       "  </tbody>\n",
       "</table>\n",
       "<p>27380 rows × 9 columns</p>\n",
       "</div>"
      ],
      "text/plain": [
       "       rain_tomorrow  humidity9am  humidity3pm  cloud9am  cloud3pm  \\\n",
       "0                  0         78.0         52.0       0.0       0.0   \n",
       "1                  1         81.0         65.0       7.0       7.0   \n",
       "2                  0         93.0         61.0       0.0       0.0   \n",
       "3                  0         66.0         37.0       0.0       0.0   \n",
       "4                  0         17.0          7.0       0.0       0.0   \n",
       "...              ...          ...          ...       ...       ...   \n",
       "34186              1         81.0         86.0       8.0       8.0   \n",
       "34187              1         88.0         51.0       7.0       5.0   \n",
       "34188              0         65.0         39.0       0.0       0.0   \n",
       "34189              1         85.0         88.0       7.0       7.0   \n",
       "34190              0         63.0         40.0       7.0       3.0   \n",
       "\n",
       "       wind_gust_speed  temp3pm  rain_today          location  \n",
       "0                 37.0     27.9         1.0     BadgerysCreek  \n",
       "1                 35.0     24.4         0.0              Sale  \n",
       "2                 31.0     14.6         0.0              Nhil  \n",
       "3                 35.0     24.7         0.0        Townsville  \n",
       "4                 61.0     41.1         0.0             Uluru  \n",
       "...                ...      ...         ...               ...  \n",
       "34186             15.0     23.7         1.0          Brisbane  \n",
       "34187             76.0     12.5         1.0      MountGambier  \n",
       "34188             35.0     26.9         0.0          Richmond  \n",
       "34189             28.0      6.2         1.0  MelbourneAirport  \n",
       "34190              0.0     15.7         0.0            Hobart  \n",
       "\n",
       "[27380 rows x 9 columns]"
      ]
     },
     "execution_count": 91,
     "metadata": {},
     "output_type": "execute_result"
    }
   ],
   "source": [
    "train_ds_pd"
   ]
  },
  {
   "cell_type": "code",
   "execution_count": 92,
   "id": "f9e513bb-ed8e-48ac-8bbd-31dd0378c64c",
   "metadata": {},
   "outputs": [],
   "source": [
    "# Convert the datasets into tensorflow datasets\n",
    "train_ds = tfdf.keras.pd_dataframe_to_tf_dataset(train_ds_pd, label=label)\n",
    "test_ds = tfdf.keras.pd_dataframe_to_tf_dataset(test_ds_pd, label=label)"
   ]
  },
  {
   "cell_type": "markdown",
   "id": "peripheral-interview",
   "metadata": {},
   "source": [
    "# Feature Engineer"
   ]
  },
  {
   "cell_type": "markdown",
   "id": "a7329c5a-6897-44f9-a84a-1fcafcb680e9",
   "metadata": {},
   "source": [
    "## Define Features and Target\n",
    "Define categorical and numeric features manually because sometimes cols of type float/int should be categorical and vice versa"
   ]
  },
  {
   "cell_type": "code",
   "execution_count": 96,
   "id": "5f67dcb9-7b42-4ca4-8b69-e60ca452ba58",
   "metadata": {},
   "outputs": [],
   "source": [
    "features = ['humidity9am', 'humidity3pm', 'cloud9am', 'cloud3pm', \n",
    "            'wind_gust_speed','temp3pm','rain_today','location']# 'humidity_diff', 'temp_diff']"
   ]
  },
  {
   "cell_type": "code",
   "execution_count": 97,
   "id": "9356d559-6389-4c2e-8d28-be3ec904c6ec",
   "metadata": {},
   "outputs": [
    {
     "data": {
      "text/html": [
       "<div>\n",
       "<style scoped>\n",
       "    .dataframe tbody tr th:only-of-type {\n",
       "        vertical-align: middle;\n",
       "    }\n",
       "\n",
       "    .dataframe tbody tr th {\n",
       "        vertical-align: top;\n",
       "    }\n",
       "\n",
       "    .dataframe thead th {\n",
       "        text-align: right;\n",
       "    }\n",
       "</style>\n",
       "<table border=\"1\" class=\"dataframe\">\n",
       "  <thead>\n",
       "    <tr style=\"text-align: right;\">\n",
       "      <th></th>\n",
       "      <th>humidity9am</th>\n",
       "      <th>humidity3pm</th>\n",
       "      <th>cloud9am</th>\n",
       "      <th>cloud3pm</th>\n",
       "      <th>wind_gust_speed</th>\n",
       "      <th>temp3pm</th>\n",
       "      <th>rain_today</th>\n",
       "      <th>location</th>\n",
       "    </tr>\n",
       "  </thead>\n",
       "  <tbody>\n",
       "    <tr>\n",
       "      <th>0</th>\n",
       "      <td>78.0</td>\n",
       "      <td>52.0</td>\n",
       "      <td>0.0</td>\n",
       "      <td>0.0</td>\n",
       "      <td>37.0</td>\n",
       "      <td>27.9</td>\n",
       "      <td>1.0</td>\n",
       "      <td>BadgerysCreek</td>\n",
       "    </tr>\n",
       "  </tbody>\n",
       "</table>\n",
       "</div>"
      ],
      "text/plain": [
       "   humidity9am  humidity3pm  cloud9am  cloud3pm  wind_gust_speed  temp3pm  \\\n",
       "0         78.0         52.0       0.0       0.0             37.0     27.9   \n",
       "\n",
       "   rain_today       location  \n",
       "0         1.0  BadgerysCreek  "
      ]
     },
     "execution_count": 97,
     "metadata": {},
     "output_type": "execute_result"
    }
   ],
   "source": [
    "train_ds_pd[features].head(1)"
   ]
  },
  {
   "cell_type": "code",
   "execution_count": null,
   "id": "f1a30d91-babf-4fa1-813c-1fae6e81b044",
   "metadata": {},
   "outputs": [],
   "source": []
  },
  {
   "cell_type": "code",
   "execution_count": 98,
   "id": "3e7139b3-3a42-4f0c-84aa-fb1998436ef3",
   "metadata": {},
   "outputs": [],
   "source": [
    "input_1 = tf.keras.Input(shape=(1,), name=\"humidity9am\", dtype=\"float\")\n",
    "input_2 = tf.keras.Input(shape=(1,), name=\"humidity3pm\", dtype=\"float\")\n",
    "input_3 = tf.keras.Input(shape=(1,), name=\"cloud9am\", dtype=\"float\")\n",
    "input_4 = tf.keras.Input(shape=(1,), name=\"cloud3pm\", dtype=\"float\")\n",
    "input_5 = tf.keras.Input(shape=(1,), name=\"wind_gust_speed\", dtype=\"float\")\n",
    "input_6 = tf.keras.Input(shape=(1,), name=\"temp3pm\", dtype=\"float\")\n",
    "input_7 = tf.keras.Input(shape=(1,), name=\"rain_today\", dtype=\"float\")\n",
    "input_8 = tf.keras.Input(shape=(1,), name=\"location\", dtype=\"string\")\n",
    "\n",
    "nn_raw_inputs = [input_1, input_2,input_3,input_4,input_5,input_6,input_7,input_8]"
   ]
  },
  {
   "cell_type": "code",
   "execution_count": 113,
   "id": "5454540a-4875-4743-b045-1905f49ff00c",
   "metadata": {},
   "outputs": [
    {
     "name": "stdout",
     "output_type": "stream",
     "text": [
      "WARNING:tensorflow:max_tokens is deprecated, please use num_tokens instead.\n"
     ]
    },
    {
     "name": "stderr",
     "output_type": "stream",
     "text": [
      "WARNING:tensorflow:max_tokens is deprecated, please use num_tokens instead.\n"
     ]
    }
   ],
   "source": [
    "Normalization = tf.keras.layers.experimental.preprocessing.Normalization\n",
    "CategoryEncoding = tf.keras.layers.experimental.preprocessing.CategoryEncoding\n",
    "StringLookup = tf.keras.layers.experimental.preprocessing.StringLookup\n",
    "\n",
    "# Numerical\n",
    "values = train_ds_pd[\"humidity9am\"].values\n",
    "input_1_normalizer = Normalization()\n",
    "input_1_normalizer.adapt(values)\n",
    "\n",
    "values = train_ds_pd[\"humidity3pm\"].values\n",
    "input_2_normalizer = Normalization()\n",
    "input_2_normalizer.adapt(values)\n",
    "\n",
    "values = train_ds_pd[\"cloud9am\"].values\n",
    "input_3_normalizer = Normalization()\n",
    "input_3_normalizer.adapt(values)\n",
    "\n",
    "values = train_ds_pd[\"cloud3pm\"].values\n",
    "input_4_normalizer = Normalization()\n",
    "input_4_normalizer.adapt(values)\n",
    "\n",
    "values = train_ds_pd[\"wind_gust_speed\"].values\n",
    "input_5_normalizer = Normalization()\n",
    "input_5_normalizer.adapt(values)\n",
    "\n",
    "values = train_ds_pd[\"temp3pm\"].values\n",
    "input_6_normalizer = Normalization()\n",
    "input_6_normalizer.adapt(values)\n",
    "\n",
    "values = train_ds_pd[\"rain_today\"].values\n",
    "input_7_normalizer = Normalization()\n",
    "input_7_normalizer.adapt(values)\n",
    "\n",
    "values = train_ds_pd[\"location\"].values\n",
    "input_8_indexer = StringLookup(max_tokens=100000)\n",
    "input_8_indexer.adapt(values)\n",
    "input_8_onehot = CategoryEncoding(output_mode=\"binary\", max_tokens=100000)\n",
    "\n",
    "\n",
    "normalized_input_1 = input_1_normalizer(input_1)\n",
    "normalized_input_2 = input_2_normalizer(input_2)\n",
    "normalized_input_3 = input_3_normalizer(input_3)\n",
    "normalized_input_4 = input_4_normalizer(input_4)\n",
    "normalized_input_5 = input_5_normalizer(input_5)\n",
    "normalized_input_6 = input_6_normalizer(input_6)\n",
    "normalized_input_7 = input_7_normalizer(input_7)\n",
    "normalized_input_8 = input_8_onehot(input_8_indexer(input_8))\n",
    "\n",
    "\n",
    "nn_processed_inputs = [normalized_input_1, normalized_input_2,normalized_input_3,\n",
    "                      normalized_input_4,normalized_input_5,normalized_input_6,\n",
    "                      normalized_input_7,normalized_input_8]"
   ]
  },
  {
   "cell_type": "code",
   "execution_count": 114,
   "id": "448b21bd-0881-4846-9df7-f0bd2250ba6c",
   "metadata": {},
   "outputs": [],
   "source": [
    "y = tf.keras.layers.Concatenate()(nn_processed_inputs)\n",
    "y = tf.keras.layers.Dense(32, activation=tf.nn.relu6)(y)\n",
    "last_layer = tf.keras.layers.Dense(16, activation=tf.nn.relu, name=\"last\")(y)\n",
    "\n",
    "# \"3\" for the three label classes. If it were a binary classification, the\n",
    "# output dim would be 1.\n",
    "classification_output = tf.keras.layers.Dense(2)(y)\n",
    "\n",
    "nn_model = tf.keras.models.Model(nn_raw_inputs, classification_output)\n",
    "\n",
    "# To reduce the risk of mistakes, group both the decision forest and the\n",
    "# neural network in a single keras model.\n",
    "nn_without_head = tf.keras.models.Model(inputs=nn_model.inputs, outputs=last_layer)\n",
    "df_and_nn_model = tfdf.keras.RandomForestModel(preprocessing=nn_without_head)"
   ]
  },
  {
   "cell_type": "code",
   "execution_count": 115,
   "id": "29605bd4-17cd-42fb-97f5-d4e38e4b666d",
   "metadata": {},
   "outputs": [
    {
     "data": {
      "text/plain": [
       "[<KerasTensor: shape=(None, 1) dtype=float32 (created by layer 'humidity9am')>,\n",
       " <KerasTensor: shape=(None, 1) dtype=float32 (created by layer 'humidity3pm')>,\n",
       " <KerasTensor: shape=(None, 1) dtype=float32 (created by layer 'cloud9am')>,\n",
       " <KerasTensor: shape=(None, 1) dtype=float32 (created by layer 'cloud3pm')>,\n",
       " <KerasTensor: shape=(None, 1) dtype=float32 (created by layer 'wind_gust_speed')>,\n",
       " <KerasTensor: shape=(None, 1) dtype=float32 (created by layer 'temp3pm')>,\n",
       " <KerasTensor: shape=(None, 1) dtype=float32 (created by layer 'rain_today')>,\n",
       " <KerasTensor: shape=(None, 1) dtype=string (created by layer 'location')>]"
      ]
     },
     "execution_count": 115,
     "metadata": {},
     "output_type": "execute_result"
    }
   ],
   "source": [
    "nn_model.inputs"
   ]
  },
  {
   "cell_type": "code",
   "execution_count": 116,
   "id": "9dfa4f9e-f53c-4fd1-ac31-bb29178bcafe",
   "metadata": {},
   "outputs": [
    {
     "name": "stdout",
     "output_type": "stream",
     "text": [
      "107/107 [==============================] - 1s 8ms/step - loss: 0.3685 - accuracy: 0.8470\n",
      "Evaluation: [0.3685091733932495, 0.8470121622085571]\n"
     ]
    }
   ],
   "source": [
    "nn_model.compile(\n",
    "  optimizer=tf.keras.optimizers.Adam(),\n",
    "  loss=tf.keras.losses.SparseCategoricalCrossentropy(from_logits=True),\n",
    "  metrics=[\"accuracy\"])\n",
    "\n",
    "nn_model.fit(x=train_ds, validation_data=test_ds, epochs=10, verbose=False)\n",
    "print(\"Evaluation:\", nn_model.evaluate(test_ds))"
   ]
  },
  {
   "cell_type": "code",
   "execution_count": 117,
   "id": "99254505-f581-4339-aa6e-001f15b8a770",
   "metadata": {},
   "outputs": [
    {
     "name": "stdout",
     "output_type": "stream",
     "text": [
      "428/428 [==============================] - 4s 8ms/step\n",
      "WARNING:tensorflow:5 out of the last 5 calls to <function CoreModel.make_predict_function.<locals>.predict_function_trained at 0x7f732852a550> triggered tf.function retracing. Tracing is expensive and the excessive number of tracings could be due to (1) creating @tf.function repeatedly in a loop, (2) passing tensors with different shapes, (3) passing Python objects instead of tensors. For (1), please define your @tf.function outside of the loop. For (2), @tf.function has experimental_relax_shapes=True option that relaxes argument shapes that can avoid unnecessary retracing. For (3), please refer to https://www.tensorflow.org/guide/function#controlling_retracing and https://www.tensorflow.org/api_docs/python/tf/function for  more details.\n"
     ]
    },
    {
     "name": "stderr",
     "output_type": "stream",
     "text": [
      "WARNING:tensorflow:5 out of the last 5 calls to <function CoreModel.make_predict_function.<locals>.predict_function_trained at 0x7f732852a550> triggered tf.function retracing. Tracing is expensive and the excessive number of tracings could be due to (1) creating @tf.function repeatedly in a loop, (2) passing tensors with different shapes, (3) passing Python objects instead of tensors. For (1), please define your @tf.function outside of the loop. For (2), @tf.function has experimental_relax_shapes=True option that relaxes argument shapes that can avoid unnecessary retracing. For (3), please refer to https://www.tensorflow.org/guide/function#controlling_retracing and https://www.tensorflow.org/api_docs/python/tf/function for  more details.\n"
     ]
    },
    {
     "name": "stdout",
     "output_type": "stream",
     "text": [
      "107/107 [==============================] - 1s 12ms/step - loss: 0.0000e+00 - accuracy: 0.8466\n",
      "Evaluation: [0.0, 0.8465717434883118]\n"
     ]
    }
   ],
   "source": [
    "df_and_nn_model.compile(metrics=[\"accuracy\"])\n",
    "df_and_nn_model.fit(x=train_ds)\n",
    "print(\"Evaluation:\", df_and_nn_model.evaluate(test_ds))"
   ]
  },
  {
   "cell_type": "code",
   "execution_count": null,
   "id": "8455fecd-7830-4db4-8b21-b7c5b27e0d84",
   "metadata": {},
   "outputs": [],
   "source": [
    "0.8385356068611145"
   ]
  }
 ],
 "metadata": {
  "kernelspec": {
   "display_name": "ds_py_3.8",
   "language": "python",
   "name": "ds_py_3.8"
  },
  "language_info": {
   "codemirror_mode": {
    "name": "ipython",
    "version": 3
   },
   "file_extension": ".py",
   "mimetype": "text/x-python",
   "name": "python",
   "nbconvert_exporter": "python",
   "pygments_lexer": "ipython3",
   "version": "3.8.10"
  }
 },
 "nbformat": 4,
 "nbformat_minor": 5
}
