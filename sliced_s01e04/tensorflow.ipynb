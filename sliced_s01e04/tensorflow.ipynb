{
 "cells": [
  {
   "cell_type": "code",
   "execution_count": 397,
   "id": "statutory-yeast",
   "metadata": {},
   "outputs": [],
   "source": [
    "# Standard stack\n",
    "import datetime\n",
    "import pandas as pd\n",
    "import numpy as np\n",
    "import re\n",
    "\n",
    "# Visualization\n",
    "from pandas_profiling import ProfileReport\n",
    "#import plotly.express as px\n",
    "import matplotlib.pyplot as plt\n",
    "import seaborn as sns\n",
    "\n",
    "# Modeling\n",
    "import tensorflow as tf\n",
    "import tensorflow_decision_forests as tfdf\n",
    "try:\n",
    "    from wurlitzer import sys_pipes\n",
    "except:\n",
    "    from colabtools.googlelog import CaptureLog as sys_pipes\n",
    "\n",
    "# Scikit-learn packages\n",
    "from sklearn import metrics\n",
    "from sklearn.model_selection import train_test_split\n",
    "from sklearn.impute import SimpleImputer\n",
    "from sklearn.pipeline import Pipeline\n",
    "from sklearn.preprocessing import StandardScaler, OneHotEncoder, FunctionTransformer, OrdinalEncoder\n",
    "from sklearn.compose import ColumnTransformer\n",
    "\n",
    "# display\n",
    "from IPython.core.magic import register_line_magic\n",
    "from IPython.display import Javascript"
   ]
  },
  {
   "cell_type": "code",
   "execution_count": 398,
   "id": "eligible-convergence",
   "metadata": {},
   "outputs": [],
   "source": [
    "KAGGLE_EVAL_METRIC = 'logloss' # string name for loss function in xgboost\n",
    "\n",
    "TRAIN_PATH = \"data/train.csv\"\n",
    "TEST_PATH = \"data/test.csv\"\n",
    "\n",
    "label = \"rain_tomorrow\""
   ]
  },
  {
   "cell_type": "markdown",
   "id": "small-reservation",
   "metadata": {},
   "source": [
    "# Load Data"
   ]
  },
  {
   "cell_type": "code",
   "execution_count": 399,
   "id": "interracial-graduate",
   "metadata": {},
   "outputs": [],
   "source": [
    "train = pd.read_csv(TRAIN_PATH)\n",
    "test = pd.read_csv(TEST_PATH)"
   ]
  },
  {
   "cell_type": "code",
   "execution_count": 400,
   "id": "2f064e76-ca49-4f50-a105-832339a3c34d",
   "metadata": {},
   "outputs": [
    {
     "data": {
      "text/html": [
       "<div>\n",
       "<style scoped>\n",
       "    .dataframe tbody tr th:only-of-type {\n",
       "        vertical-align: middle;\n",
       "    }\n",
       "\n",
       "    .dataframe tbody tr th {\n",
       "        vertical-align: top;\n",
       "    }\n",
       "\n",
       "    .dataframe thead th {\n",
       "        text-align: right;\n",
       "    }\n",
       "</style>\n",
       "<table border=\"1\" class=\"dataframe\">\n",
       "  <thead>\n",
       "    <tr style=\"text-align: right;\">\n",
       "      <th></th>\n",
       "      <th>id</th>\n",
       "      <th>date</th>\n",
       "      <th>location</th>\n",
       "      <th>min_temp</th>\n",
       "      <th>max_temp</th>\n",
       "      <th>rainfall</th>\n",
       "      <th>evaporation</th>\n",
       "      <th>sunshine</th>\n",
       "      <th>wind_gust_dir</th>\n",
       "      <th>wind_gust_speed</th>\n",
       "      <th>...</th>\n",
       "      <th>humidity9am</th>\n",
       "      <th>humidity3pm</th>\n",
       "      <th>pressure9am</th>\n",
       "      <th>pressure3pm</th>\n",
       "      <th>cloud9am</th>\n",
       "      <th>cloud3pm</th>\n",
       "      <th>temp9am</th>\n",
       "      <th>temp3pm</th>\n",
       "      <th>rain_today</th>\n",
       "      <th>rain_tomorrow</th>\n",
       "    </tr>\n",
       "  </thead>\n",
       "  <tbody>\n",
       "    <tr>\n",
       "      <th>0</th>\n",
       "      <td>6364</td>\n",
       "      <td>2010-11-11</td>\n",
       "      <td>BadgerysCreek</td>\n",
       "      <td>16.2</td>\n",
       "      <td>28.9</td>\n",
       "      <td>11.4</td>\n",
       "      <td>NaN</td>\n",
       "      <td>NaN</td>\n",
       "      <td>SW</td>\n",
       "      <td>37.0</td>\n",
       "      <td>...</td>\n",
       "      <td>78.0</td>\n",
       "      <td>52.0</td>\n",
       "      <td>1017.2</td>\n",
       "      <td>1011.7</td>\n",
       "      <td>NaN</td>\n",
       "      <td>NaN</td>\n",
       "      <td>20.3</td>\n",
       "      <td>27.9</td>\n",
       "      <td>1.0</td>\n",
       "      <td>0</td>\n",
       "    </tr>\n",
       "  </tbody>\n",
       "</table>\n",
       "<p>1 rows × 24 columns</p>\n",
       "</div>"
      ],
      "text/plain": [
       "     id        date       location  min_temp  max_temp  rainfall evaporation  \\\n",
       "0  6364  2010-11-11  BadgerysCreek      16.2      28.9      11.4         NaN   \n",
       "\n",
       "  sunshine wind_gust_dir  wind_gust_speed  ... humidity9am humidity3pm  \\\n",
       "0      NaN            SW             37.0  ...        78.0        52.0   \n",
       "\n",
       "   pressure9am  pressure3pm  cloud9am  cloud3pm  temp9am  temp3pm  rain_today  \\\n",
       "0       1017.2       1011.7       NaN       NaN     20.3     27.9         1.0   \n",
       "\n",
       "   rain_tomorrow  \n",
       "0              0  \n",
       "\n",
       "[1 rows x 24 columns]"
      ]
     },
     "execution_count": 400,
     "metadata": {},
     "output_type": "execute_result"
    }
   ],
   "source": [
    "train.head(1)"
   ]
  },
  {
   "cell_type": "code",
   "execution_count": 401,
   "id": "97064f87-3cca-4397-bc11-06085463786a",
   "metadata": {},
   "outputs": [
    {
     "data": {
      "text/plain": [
       "-10.8"
      ]
     },
     "execution_count": 401,
     "metadata": {},
     "output_type": "execute_result"
    }
   ],
   "source": [
    "16.2 - 27"
   ]
  },
  {
   "cell_type": "code",
   "execution_count": 402,
   "id": "55f24ac4-6190-481f-b845-3f86b66a0c21",
   "metadata": {},
   "outputs": [],
   "source": [
    "# Inputation\n",
    "# Replaces numerical NaN (representing missing values in Pandas Dataframe) with 0s.\n",
    "# ...Neural Nets don't work well with numerical NaNs.\n",
    "def impute_numbers(dataset_df):\n",
    "    for col in dataset_df.columns:\n",
    "        if dataset_df[col].dtype not in [str, object]:\n",
    "            dataset_df[col] = dataset_df[col].fillna(0)\n",
    "    return dataset_df\n",
    "\n",
    "# Split the dataset into a training and testing dataset.\n",
    "def split_dataset(dataset, test_ratio=0.20):\n",
    "    \"\"\"Splits a panda dataframe in two.\"\"\"\n",
    "    test_indices = np.random.rand(len(dataset)) < test_ratio\n",
    "    return dataset[~test_indices], dataset[test_indices]\n",
    "\n",
    "def prepare_dataset(dataset, train=True):\n",
    "    dataset['humidity_diff'] = dataset['humidity3pm'] - dataset['humidity9am']\n",
    "    dataset['3pm_temp_change'] = dataset['min_temp'] - dataset['temp3pm']\n",
    "    dataset['3pm_temp_change'] = dataset['3pm_temp_change'].abs()\n",
    "    dataset['3pm_max_change'] = dataset['max_temp'] - dataset['temp3pm']\n",
    "    dataset['3pm_max_change'] = dataset['3pm_max_change'].abs()\n",
    "    dataset['temp_change'] = dataset['min_temp'] - dataset['max_temp']\n",
    "    if train == True:\n",
    "        features = ['rain_tomorrow','humidity9am', 'humidity3pm', 'cloud9am', \n",
    "            'cloud3pm', 'wind_gust_speed','temp3pm','rain_today','3pm_temp_change','3pm_max_change','temp_change','humidity_diff']\n",
    "    else:\n",
    "        features = ['humidity9am', 'humidity3pm', 'cloud9am', \n",
    "            'cloud3pm', 'wind_gust_speed','temp3pm','rain_today',\n",
    "                   '3pm_temp_change','3pm_max_change','temp_change','humidity_diff']\n",
    "    dataset = dataset[features]\n",
    "    dataset = impute_numbers(dataset)\n",
    "    return dataset\n"
   ]
  },
  {
   "cell_type": "code",
   "execution_count": 403,
   "id": "d14bf67a-e6c4-4a2a-84c2-7105046e040f",
   "metadata": {},
   "outputs": [
    {
     "name": "stderr",
     "output_type": "stream",
     "text": [
      "<ipython-input-402-ea705d413165>:7: SettingWithCopyWarning: \n",
      "A value is trying to be set on a copy of a slice from a DataFrame.\n",
      "Try using .loc[row_indexer,col_indexer] = value instead\n",
      "\n",
      "See the caveats in the documentation: https://pandas.pydata.org/pandas-docs/stable/user_guide/indexing.html#returning-a-view-versus-a-copy\n",
      "  dataset_df[col] = dataset_df[col].fillna(0)\n"
     ]
    }
   ],
   "source": [
    "submit = test\n",
    "train = prepare_dataset(train)\n",
    "test = prepare_dataset(test, False)\n"
   ]
  },
  {
   "cell_type": "code",
   "execution_count": 404,
   "id": "37ca0610-71a9-426f-ab3f-a3084786074e",
   "metadata": {},
   "outputs": [
    {
     "name": "stdout",
     "output_type": "stream",
     "text": [
      "27328 examples in training, 6863 examples for testing.\n"
     ]
    }
   ],
   "source": [
    "train_ds_pd, test_ds_pd = split_dataset(train)\n",
    "print(\"{} examples in training, {} examples for testing.\".format(len(train_ds_pd), len(test_ds_pd)))"
   ]
  },
  {
   "cell_type": "code",
   "execution_count": 405,
   "id": "1b553d1f-d133-4b0c-85ba-1bdac839d741",
   "metadata": {},
   "outputs": [
    {
     "data": {
      "text/html": [
       "<div>\n",
       "<style scoped>\n",
       "    .dataframe tbody tr th:only-of-type {\n",
       "        vertical-align: middle;\n",
       "    }\n",
       "\n",
       "    .dataframe tbody tr th {\n",
       "        vertical-align: top;\n",
       "    }\n",
       "\n",
       "    .dataframe thead th {\n",
       "        text-align: right;\n",
       "    }\n",
       "</style>\n",
       "<table border=\"1\" class=\"dataframe\">\n",
       "  <thead>\n",
       "    <tr style=\"text-align: right;\">\n",
       "      <th></th>\n",
       "      <th>rain_tomorrow</th>\n",
       "      <th>humidity9am</th>\n",
       "      <th>humidity3pm</th>\n",
       "      <th>cloud9am</th>\n",
       "      <th>cloud3pm</th>\n",
       "      <th>wind_gust_speed</th>\n",
       "      <th>temp3pm</th>\n",
       "      <th>rain_today</th>\n",
       "      <th>3pm_temp_change</th>\n",
       "      <th>3pm_max_change</th>\n",
       "      <th>temp_change</th>\n",
       "      <th>humidity_diff</th>\n",
       "    </tr>\n",
       "  </thead>\n",
       "  <tbody>\n",
       "    <tr>\n",
       "      <th>0</th>\n",
       "      <td>0</td>\n",
       "      <td>78.0</td>\n",
       "      <td>52.0</td>\n",
       "      <td>0.0</td>\n",
       "      <td>0.0</td>\n",
       "      <td>37.0</td>\n",
       "      <td>27.9</td>\n",
       "      <td>1.0</td>\n",
       "      <td>11.7</td>\n",
       "      <td>1.0</td>\n",
       "      <td>-12.7</td>\n",
       "      <td>-26.0</td>\n",
       "    </tr>\n",
       "    <tr>\n",
       "      <th>1</th>\n",
       "      <td>1</td>\n",
       "      <td>81.0</td>\n",
       "      <td>65.0</td>\n",
       "      <td>7.0</td>\n",
       "      <td>7.0</td>\n",
       "      <td>35.0</td>\n",
       "      <td>24.4</td>\n",
       "      <td>0.0</td>\n",
       "      <td>9.8</td>\n",
       "      <td>3.9</td>\n",
       "      <td>-13.7</td>\n",
       "      <td>-16.0</td>\n",
       "    </tr>\n",
       "    <tr>\n",
       "      <th>3</th>\n",
       "      <td>0</td>\n",
       "      <td>66.0</td>\n",
       "      <td>37.0</td>\n",
       "      <td>0.0</td>\n",
       "      <td>0.0</td>\n",
       "      <td>35.0</td>\n",
       "      <td>24.7</td>\n",
       "      <td>0.0</td>\n",
       "      <td>10.7</td>\n",
       "      <td>1.2</td>\n",
       "      <td>-11.9</td>\n",
       "      <td>-29.0</td>\n",
       "    </tr>\n",
       "    <tr>\n",
       "      <th>5</th>\n",
       "      <td>0</td>\n",
       "      <td>72.0</td>\n",
       "      <td>53.0</td>\n",
       "      <td>5.0</td>\n",
       "      <td>3.0</td>\n",
       "      <td>35.0</td>\n",
       "      <td>16.2</td>\n",
       "      <td>1.0</td>\n",
       "      <td>7.7</td>\n",
       "      <td>0.1</td>\n",
       "      <td>-7.8</td>\n",
       "      <td>-19.0</td>\n",
       "    </tr>\n",
       "    <tr>\n",
       "      <th>6</th>\n",
       "      <td>0</td>\n",
       "      <td>57.0</td>\n",
       "      <td>46.0</td>\n",
       "      <td>0.0</td>\n",
       "      <td>0.0</td>\n",
       "      <td>33.0</td>\n",
       "      <td>29.9</td>\n",
       "      <td>0.0</td>\n",
       "      <td>13.7</td>\n",
       "      <td>1.8</td>\n",
       "      <td>-15.5</td>\n",
       "      <td>-11.0</td>\n",
       "    </tr>\n",
       "    <tr>\n",
       "      <th>...</th>\n",
       "      <td>...</td>\n",
       "      <td>...</td>\n",
       "      <td>...</td>\n",
       "      <td>...</td>\n",
       "      <td>...</td>\n",
       "      <td>...</td>\n",
       "      <td>...</td>\n",
       "      <td>...</td>\n",
       "      <td>...</td>\n",
       "      <td>...</td>\n",
       "      <td>...</td>\n",
       "      <td>...</td>\n",
       "    </tr>\n",
       "    <tr>\n",
       "      <th>34185</th>\n",
       "      <td>0</td>\n",
       "      <td>74.0</td>\n",
       "      <td>65.0</td>\n",
       "      <td>7.0</td>\n",
       "      <td>7.0</td>\n",
       "      <td>50.0</td>\n",
       "      <td>24.5</td>\n",
       "      <td>1.0</td>\n",
       "      <td>8.0</td>\n",
       "      <td>1.7</td>\n",
       "      <td>-9.7</td>\n",
       "      <td>-9.0</td>\n",
       "    </tr>\n",
       "    <tr>\n",
       "      <th>34186</th>\n",
       "      <td>1</td>\n",
       "      <td>81.0</td>\n",
       "      <td>86.0</td>\n",
       "      <td>8.0</td>\n",
       "      <td>8.0</td>\n",
       "      <td>15.0</td>\n",
       "      <td>23.7</td>\n",
       "      <td>1.0</td>\n",
       "      <td>3.3</td>\n",
       "      <td>3.5</td>\n",
       "      <td>-6.8</td>\n",
       "      <td>5.0</td>\n",
       "    </tr>\n",
       "    <tr>\n",
       "      <th>34187</th>\n",
       "      <td>1</td>\n",
       "      <td>88.0</td>\n",
       "      <td>51.0</td>\n",
       "      <td>7.0</td>\n",
       "      <td>5.0</td>\n",
       "      <td>76.0</td>\n",
       "      <td>12.5</td>\n",
       "      <td>1.0</td>\n",
       "      <td>6.6</td>\n",
       "      <td>0.9</td>\n",
       "      <td>-7.5</td>\n",
       "      <td>-37.0</td>\n",
       "    </tr>\n",
       "    <tr>\n",
       "      <th>34189</th>\n",
       "      <td>1</td>\n",
       "      <td>85.0</td>\n",
       "      <td>88.0</td>\n",
       "      <td>7.0</td>\n",
       "      <td>7.0</td>\n",
       "      <td>28.0</td>\n",
       "      <td>6.2</td>\n",
       "      <td>1.0</td>\n",
       "      <td>1.0</td>\n",
       "      <td>2.2</td>\n",
       "      <td>-3.2</td>\n",
       "      <td>3.0</td>\n",
       "    </tr>\n",
       "    <tr>\n",
       "      <th>34190</th>\n",
       "      <td>0</td>\n",
       "      <td>63.0</td>\n",
       "      <td>40.0</td>\n",
       "      <td>7.0</td>\n",
       "      <td>3.0</td>\n",
       "      <td>0.0</td>\n",
       "      <td>15.7</td>\n",
       "      <td>0.0</td>\n",
       "      <td>4.4</td>\n",
       "      <td>1.3</td>\n",
       "      <td>-5.7</td>\n",
       "      <td>-23.0</td>\n",
       "    </tr>\n",
       "  </tbody>\n",
       "</table>\n",
       "<p>27328 rows × 12 columns</p>\n",
       "</div>"
      ],
      "text/plain": [
       "       rain_tomorrow  humidity9am  humidity3pm  cloud9am  cloud3pm  \\\n",
       "0                  0         78.0         52.0       0.0       0.0   \n",
       "1                  1         81.0         65.0       7.0       7.0   \n",
       "3                  0         66.0         37.0       0.0       0.0   \n",
       "5                  0         72.0         53.0       5.0       3.0   \n",
       "6                  0         57.0         46.0       0.0       0.0   \n",
       "...              ...          ...          ...       ...       ...   \n",
       "34185              0         74.0         65.0       7.0       7.0   \n",
       "34186              1         81.0         86.0       8.0       8.0   \n",
       "34187              1         88.0         51.0       7.0       5.0   \n",
       "34189              1         85.0         88.0       7.0       7.0   \n",
       "34190              0         63.0         40.0       7.0       3.0   \n",
       "\n",
       "       wind_gust_speed  temp3pm  rain_today  3pm_temp_change  3pm_max_change  \\\n",
       "0                 37.0     27.9         1.0             11.7             1.0   \n",
       "1                 35.0     24.4         0.0              9.8             3.9   \n",
       "3                 35.0     24.7         0.0             10.7             1.2   \n",
       "5                 35.0     16.2         1.0              7.7             0.1   \n",
       "6                 33.0     29.9         0.0             13.7             1.8   \n",
       "...                ...      ...         ...              ...             ...   \n",
       "34185             50.0     24.5         1.0              8.0             1.7   \n",
       "34186             15.0     23.7         1.0              3.3             3.5   \n",
       "34187             76.0     12.5         1.0              6.6             0.9   \n",
       "34189             28.0      6.2         1.0              1.0             2.2   \n",
       "34190              0.0     15.7         0.0              4.4             1.3   \n",
       "\n",
       "       temp_change  humidity_diff  \n",
       "0            -12.7          -26.0  \n",
       "1            -13.7          -16.0  \n",
       "3            -11.9          -29.0  \n",
       "5             -7.8          -19.0  \n",
       "6            -15.5          -11.0  \n",
       "...            ...            ...  \n",
       "34185         -9.7           -9.0  \n",
       "34186         -6.8            5.0  \n",
       "34187         -7.5          -37.0  \n",
       "34189         -3.2            3.0  \n",
       "34190         -5.7          -23.0  \n",
       "\n",
       "[27328 rows x 12 columns]"
      ]
     },
     "execution_count": 405,
     "metadata": {},
     "output_type": "execute_result"
    }
   ],
   "source": [
    "train_ds_pd"
   ]
  },
  {
   "cell_type": "code",
   "execution_count": 406,
   "id": "f9e513bb-ed8e-48ac-8bbd-31dd0378c64c",
   "metadata": {},
   "outputs": [],
   "source": [
    "# Convert the datasets into tensorflow datasets\n",
    "train_ds = tfdf.keras.pd_dataframe_to_tf_dataset(train_ds_pd, label=label)\n",
    "test_ds = tfdf.keras.pd_dataframe_to_tf_dataset(test_ds_pd, label=label)\n",
    "score_ds = tfdf.keras.pd_dataframe_to_tf_dataset(test)"
   ]
  },
  {
   "cell_type": "markdown",
   "id": "peripheral-interview",
   "metadata": {},
   "source": [
    "# Feature Engineer"
   ]
  },
  {
   "cell_type": "markdown",
   "id": "a7329c5a-6897-44f9-a84a-1fcafcb680e9",
   "metadata": {},
   "source": [
    "## Define Features and Target\n",
    "Define categorical and numeric features manually because sometimes cols of type float/int should be categorical and vice versa"
   ]
  },
  {
   "cell_type": "code",
   "execution_count": 407,
   "id": "9356d559-6389-4c2e-8d28-be3ec904c6ec",
   "metadata": {},
   "outputs": [
    {
     "data": {
      "text/html": [
       "<div>\n",
       "<style scoped>\n",
       "    .dataframe tbody tr th:only-of-type {\n",
       "        vertical-align: middle;\n",
       "    }\n",
       "\n",
       "    .dataframe tbody tr th {\n",
       "        vertical-align: top;\n",
       "    }\n",
       "\n",
       "    .dataframe thead th {\n",
       "        text-align: right;\n",
       "    }\n",
       "</style>\n",
       "<table border=\"1\" class=\"dataframe\">\n",
       "  <thead>\n",
       "    <tr style=\"text-align: right;\">\n",
       "      <th></th>\n",
       "      <th>humidity9am</th>\n",
       "      <th>humidity3pm</th>\n",
       "      <th>cloud9am</th>\n",
       "      <th>cloud3pm</th>\n",
       "      <th>wind_gust_speed</th>\n",
       "      <th>temp3pm</th>\n",
       "      <th>rain_today</th>\n",
       "    </tr>\n",
       "  </thead>\n",
       "  <tbody>\n",
       "    <tr>\n",
       "      <th>0</th>\n",
       "      <td>78.0</td>\n",
       "      <td>52.0</td>\n",
       "      <td>0.0</td>\n",
       "      <td>0.0</td>\n",
       "      <td>37.0</td>\n",
       "      <td>27.9</td>\n",
       "      <td>1.0</td>\n",
       "    </tr>\n",
       "  </tbody>\n",
       "</table>\n",
       "</div>"
      ],
      "text/plain": [
       "   humidity9am  humidity3pm  cloud9am  cloud3pm  wind_gust_speed  temp3pm  \\\n",
       "0         78.0         52.0       0.0       0.0             37.0     27.9   \n",
       "\n",
       "   rain_today  \n",
       "0         1.0  "
      ]
     },
     "execution_count": 407,
     "metadata": {},
     "output_type": "execute_result"
    }
   ],
   "source": [
    "train_ds_pd[features].head(1)"
   ]
  },
  {
   "cell_type": "code",
   "execution_count": null,
   "id": "f1a30d91-babf-4fa1-813c-1fae6e81b044",
   "metadata": {},
   "outputs": [],
   "source": []
  },
  {
   "cell_type": "code",
   "execution_count": 408,
   "id": "3e7139b3-3a42-4f0c-84aa-fb1998436ef3",
   "metadata": {},
   "outputs": [],
   "source": [
    "input_1 = tf.keras.Input(shape=(1,), name=\"humidity9am\", dtype=\"float\")\n",
    "input_2 = tf.keras.Input(shape=(1,), name=\"humidity3pm\", dtype=\"float\")\n",
    "input_3 = tf.keras.Input(shape=(1,), name=\"cloud9am\", dtype=\"float\")\n",
    "input_4 = tf.keras.Input(shape=(1,), name=\"cloud3pm\", dtype=\"float\")\n",
    "input_5 = tf.keras.Input(shape=(1,), name=\"wind_gust_speed\", dtype=\"float\")\n",
    "input_6 = tf.keras.Input(shape=(1,), name=\"temp3pm\", dtype=\"float\")\n",
    "input_7 = tf.keras.Input(shape=(1,), name=\"rain_today\", dtype=\"float\")\n",
    "#input_8 = tf.keras.Input(shape=(1,), name=\"location\", dtype=\"string\")\n",
    "\n",
    "nn_raw_inputs = [input_1, input_2,input_3,input_4,input_5,input_6,input_7]"
   ]
  },
  {
   "cell_type": "code",
   "execution_count": 409,
   "id": "5454540a-4875-4743-b045-1905f49ff00c",
   "metadata": {},
   "outputs": [],
   "source": [
    "Normalization = tf.keras.layers.experimental.preprocessing.Normalization\n",
    "CategoryEncoding = tf.keras.layers.experimental.preprocessing.CategoryEncoding\n",
    "StringLookup = tf.keras.layers.experimental.preprocessing.StringLookup\n",
    "\n",
    "# Numerical\n",
    "values = train_ds_pd[\"humidity9am\"].values\n",
    "input_1_normalizer = Normalization()\n",
    "input_1_normalizer.adapt(values)\n",
    "\n",
    "values = train_ds_pd[\"humidity3pm\"].values\n",
    "input_2_normalizer = Normalization()\n",
    "input_2_normalizer.adapt(values)\n",
    "\n",
    "values = train_ds_pd[\"cloud9am\"].values\n",
    "input_3_normalizer = Normalization()\n",
    "input_3_normalizer.adapt(values)\n",
    "\n",
    "values = train_ds_pd[\"cloud3pm\"].values\n",
    "input_4_normalizer = Normalization()\n",
    "input_4_normalizer.adapt(values)\n",
    "\n",
    "values = train_ds_pd[\"wind_gust_speed\"].values\n",
    "input_5_normalizer = Normalization()\n",
    "input_5_normalizer.adapt(values)\n",
    "\n",
    "values = train_ds_pd[\"temp3pm\"].values\n",
    "input_6_normalizer = Normalization()\n",
    "input_6_normalizer.adapt(values)\n",
    "\n",
    "values = train_ds_pd[\"rain_today\"].values\n",
    "input_7_normalizer = Normalization()\n",
    "input_7_normalizer.adapt(values)\n",
    "\n",
    "#values = train_ds_pd[\"location\"].values\n",
    "#input_8_indexer = StringLookup(max_tokens=100000)\n",
    "#input_8_indexer.adapt(values)\n",
    "#input_8_onehot = CategoryEncoding(output_mode=\"binary\", max_tokens=100000)\n",
    "\n",
    "\n",
    "normalized_input_1 = input_1_normalizer(input_1)\n",
    "normalized_input_2 = input_2_normalizer(input_2)\n",
    "normalized_input_3 = input_3_normalizer(input_3)\n",
    "normalized_input_4 = input_4_normalizer(input_4)\n",
    "normalized_input_5 = input_5_normalizer(input_5)\n",
    "normalized_input_6 = input_6_normalizer(input_6)\n",
    "normalized_input_7 = input_7_normalizer(input_7)\n",
    "#normalized_input_8 = input_8_onehot(input_8_indexer(input_8))\n",
    "\n",
    "\n",
    "nn_processed_inputs = [normalized_input_2,\n",
    "                      normalized_input_4,normalized_input_5,normalized_input_6,\n",
    "                      normalized_input_7]"
   ]
  },
  {
   "cell_type": "code",
   "execution_count": 410,
   "id": "448b21bd-0881-4846-9df7-f0bd2250ba6c",
   "metadata": {},
   "outputs": [],
   "source": [
    "y = tf.keras.layers.Concatenate()(nn_processed_inputs)\n",
    "y = tf.keras.layers.Dense(16, activation=tf.nn.relu6)(y)\n",
    "last_layer = tf.keras.layers.Dense(8, activation=tf.nn.relu, name=\"last\")(y)\n",
    "\n",
    "# \"3\" for the three label classes. If it were a binary classification, the\n",
    "# output dim would be 1.\n",
    "classification_output = tf.keras.layers.Dense(2)(y)\n",
    "\n",
    "nn_model = tf.keras.models.Model(nn_raw_inputs, classification_output)\n",
    "\n",
    "# To reduce the risk of mistakes, group both the decision forest and the\n",
    "# neural network in a single keras model.\n",
    "nn_without_head = tf.keras.models.Model(inputs=nn_model.inputs, outputs=last_layer)\n",
    "df_and_nn_model = tfdf.keras.GradientBoostedTreesModel(\n",
    "    num_trees=500,\n",
    "    growing_strategy=\"BEST_FIRST_GLOBAL\",\n",
    "    hyperparameter_template=\"better_default@v1\",\n",
    "    max_depth=8,\n",
    "    split_axis=\"SPARSE_OBLIQUE\",\n",
    "    preprocessing=nn_without_head)"
   ]
  },
  {
   "cell_type": "code",
   "execution_count": 411,
   "id": "29605bd4-17cd-42fb-97f5-d4e38e4b666d",
   "metadata": {},
   "outputs": [
    {
     "data": {
      "text/plain": [
       "[<KerasTensor: shape=(None, 1) dtype=float32 (created by layer 'humidity9am')>,\n",
       " <KerasTensor: shape=(None, 1) dtype=float32 (created by layer 'humidity3pm')>,\n",
       " <KerasTensor: shape=(None, 1) dtype=float32 (created by layer 'cloud9am')>,\n",
       " <KerasTensor: shape=(None, 1) dtype=float32 (created by layer 'cloud3pm')>,\n",
       " <KerasTensor: shape=(None, 1) dtype=float32 (created by layer 'wind_gust_speed')>,\n",
       " <KerasTensor: shape=(None, 1) dtype=float32 (created by layer 'temp3pm')>,\n",
       " <KerasTensor: shape=(None, 1) dtype=float32 (created by layer 'rain_today')>]"
      ]
     },
     "execution_count": 411,
     "metadata": {},
     "output_type": "execute_result"
    }
   ],
   "source": [
    "nn_model.inputs"
   ]
  },
  {
   "cell_type": "code",
   "execution_count": 412,
   "id": "9dfa4f9e-f53c-4fd1-ac31-bb29178bcafe",
   "metadata": {},
   "outputs": [
    {
     "name": "stderr",
     "output_type": "stream",
     "text": [
      "/home/neil/anaconda3/envs/ds_py_3.8/lib/python3.8/site-packages/tensorflow/python/keras/engine/functional.py:588: UserWarning: Input dict contained keys ['3pm_temp_change', '3pm_max_change', 'temp_change', 'humidity_diff'] which did not match any model input. They will be ignored by the model.\n",
      "  warnings.warn(\n"
     ]
    },
    {
     "name": "stdout",
     "output_type": "stream",
     "text": [
      "108/108 [==============================] - 0s 932us/step - loss: 0.3795 - accuracy: 0.8383\n",
      "Evaluation: [0.3795132637023926, 0.8382631540298462]\n"
     ]
    }
   ],
   "source": [
    "nn_model.compile(\n",
    "  optimizer=tf.keras.optimizers.Adam(),\n",
    "  loss=tf.keras.losses.SparseCategoricalCrossentropy(from_logits=True),\n",
    "  metrics=[\"accuracy\"])\n",
    "\n",
    "nn_model.fit(x=train_ds, validation_data=test_ds, epochs=10, verbose=False)\n",
    "print(\"Evaluation:\", nn_model.evaluate(test_ds))"
   ]
  },
  {
   "cell_type": "code",
   "execution_count": 413,
   "id": "99254505-f581-4339-aa6e-001f15b8a770",
   "metadata": {},
   "outputs": [
    {
     "name": "stdout",
     "output_type": "stream",
     "text": [
      "427/427 [==============================] - 1s 1ms/step\n",
      "108/108 [==============================] - 0s 2ms/step - loss: 0.0000e+00 - accuracy: 0.8380\n",
      "Evaluation: [0.0, 0.8379717469215393]\n"
     ]
    }
   ],
   "source": [
    "df_and_nn_model.compile(metrics=[\"accuracy\"])\n",
    "df_and_nn_model.fit(x=train_ds)\n",
    "print(\"Evaluation:\", df_and_nn_model.evaluate(test_ds))"
   ]
  },
  {
   "cell_type": "code",
   "execution_count": 414,
   "id": "748a1dc5-3f8b-47a5-a379-1eed5453020f",
   "metadata": {},
   "outputs": [],
   "source": [
    "# Submit "
   ]
  },
  {
   "cell_type": "code",
   "execution_count": 428,
   "id": "a6f94106-06a3-494b-901a-e97f9b30e73a",
   "metadata": {},
   "outputs": [],
   "source": [
    "scores = df_and_nn_model.predict(score_ds)"
   ]
  },
  {
   "cell_type": "code",
   "execution_count": 429,
   "id": "327f5c75-5d2f-4e53-a04d-c01641af5301",
   "metadata": {},
   "outputs": [
    {
     "data": {
      "text/plain": [
       "array([[0.06492948],\n",
       "       [0.5113515 ],\n",
       "       [0.07484271],\n",
       "       ...,\n",
       "       [0.8413882 ],\n",
       "       [0.04349693],\n",
       "       [0.03286444]], dtype=float32)"
      ]
     },
     "execution_count": 429,
     "metadata": {},
     "output_type": "execute_result"
    }
   ],
   "source": [
    "scores"
   ]
  },
  {
   "cell_type": "code",
   "execution_count": 430,
   "id": "d6c3905e-6ef6-4df8-9a87-ac4500dd5bd4",
   "metadata": {},
   "outputs": [],
   "source": [
    "submit['rain_tomorrow'] = scores[:,0]"
   ]
  },
  {
   "cell_type": "code",
   "execution_count": 431,
   "id": "a05eca2b-401b-426c-a046-71c0623b6ed2",
   "metadata": {},
   "outputs": [
    {
     "data": {
      "text/html": [
       "<div>\n",
       "<style scoped>\n",
       "    .dataframe tbody tr th:only-of-type {\n",
       "        vertical-align: middle;\n",
       "    }\n",
       "\n",
       "    .dataframe tbody tr th {\n",
       "        vertical-align: top;\n",
       "    }\n",
       "\n",
       "    .dataframe thead th {\n",
       "        text-align: right;\n",
       "    }\n",
       "</style>\n",
       "<table border=\"1\" class=\"dataframe\">\n",
       "  <thead>\n",
       "    <tr style=\"text-align: right;\">\n",
       "      <th></th>\n",
       "      <th>id</th>\n",
       "      <th>rain_tomorrow</th>\n",
       "    </tr>\n",
       "  </thead>\n",
       "  <tbody>\n",
       "    <tr>\n",
       "      <th>0</th>\n",
       "      <td>18416</td>\n",
       "      <td>0.349131</td>\n",
       "    </tr>\n",
       "    <tr>\n",
       "      <th>1</th>\n",
       "      <td>32197</td>\n",
       "      <td>-1.830140</td>\n",
       "    </tr>\n",
       "    <tr>\n",
       "      <th>2</th>\n",
       "      <td>7167</td>\n",
       "      <td>0.631383</td>\n",
       "    </tr>\n",
       "    <tr>\n",
       "      <th>3</th>\n",
       "      <td>2036</td>\n",
       "      <td>0.724348</td>\n",
       "    </tr>\n",
       "    <tr>\n",
       "      <th>4</th>\n",
       "      <td>34361</td>\n",
       "      <td>-0.941905</td>\n",
       "    </tr>\n",
       "    <tr>\n",
       "      <th>...</th>\n",
       "      <td>...</td>\n",
       "      <td>...</td>\n",
       "    </tr>\n",
       "    <tr>\n",
       "      <th>14648</th>\n",
       "      <td>42748</td>\n",
       "      <td>-0.407030</td>\n",
       "    </tr>\n",
       "    <tr>\n",
       "      <th>14649</th>\n",
       "      <td>699</td>\n",
       "      <td>0.167941</td>\n",
       "    </tr>\n",
       "    <tr>\n",
       "      <th>14650</th>\n",
       "      <td>7018</td>\n",
       "      <td>-1.761055</td>\n",
       "    </tr>\n",
       "    <tr>\n",
       "      <th>14651</th>\n",
       "      <td>41137</td>\n",
       "      <td>0.871674</td>\n",
       "    </tr>\n",
       "    <tr>\n",
       "      <th>14652</th>\n",
       "      <td>35109</td>\n",
       "      <td>1.114188</td>\n",
       "    </tr>\n",
       "  </tbody>\n",
       "</table>\n",
       "<p>14653 rows × 2 columns</p>\n",
       "</div>"
      ],
      "text/plain": [
       "          id  rain_tomorrow\n",
       "0      18416       0.349131\n",
       "1      32197      -1.830140\n",
       "2       7167       0.631383\n",
       "3       2036       0.724348\n",
       "4      34361      -0.941905\n",
       "...      ...            ...\n",
       "14648  42748      -0.407030\n",
       "14649    699       0.167941\n",
       "14650   7018      -1.761055\n",
       "14651  41137       0.871674\n",
       "14652  35109       1.114188\n",
       "\n",
       "[14653 rows x 2 columns]"
      ]
     },
     "execution_count": 431,
     "metadata": {},
     "output_type": "execute_result"
    }
   ],
   "source": [
    "submission"
   ]
  },
  {
   "cell_type": "code",
   "execution_count": 422,
   "id": "cec17796-2d0f-41b4-b31a-2f80891c5b27",
   "metadata": {},
   "outputs": [],
   "source": [
    "submission = submit[['id','rain_tomorrow']]"
   ]
  },
  {
   "cell_type": "code",
   "execution_count": 423,
   "id": "a1021382-1233-420c-9001-10b6645458ca",
   "metadata": {},
   "outputs": [],
   "source": [
    "submission.to_csv('tf-submission.csv', index=False)"
   ]
  },
  {
   "cell_type": "code",
   "execution_count": 424,
   "id": "5f17c3b7-7e05-4d8d-95da-4b831f57c621",
   "metadata": {},
   "outputs": [
    {
     "name": "stdout",
     "output_type": "stream",
     "text": [
      "Warning: Your Kaggle API key is readable by other users on this system! To fix this, you can run 'chmod 600 /home/neil/kaggle/kaggle.json'\n",
      "Warning: Looks like you're using an outdated API Version, please consider updating (server 1.5.12 / client 1.5.8)\n",
      "100%|█████████████████████████████████████████| 237k/237k [00:00<00:00, 379kB/s]\n",
      "Successfully submitted to SLICED s01e04"
     ]
    }
   ],
   "source": [
    "! kaggle competitions submit -c sliced-s01e04-knyna9 -f tf-submission.csv -m \"no date, no feature engineer\""
   ]
  },
  {
   "cell_type": "code",
   "execution_count": null,
   "id": "2795b075-235f-4f2b-b217-1c135bfbf57a",
   "metadata": {},
   "outputs": [],
   "source": []
  }
 ],
 "metadata": {
  "kernelspec": {
   "display_name": "ds_py_3.8",
   "language": "python",
   "name": "ds_py_3.8"
  },
  "language_info": {
   "codemirror_mode": {
    "name": "ipython",
    "version": 3
   },
   "file_extension": ".py",
   "mimetype": "text/x-python",
   "name": "python",
   "nbconvert_exporter": "python",
   "pygments_lexer": "ipython3",
   "version": "3.8.10"
  }
 },
 "nbformat": 4,
 "nbformat_minor": 5
}
