{
 "cells": [
  {
   "cell_type": "code",
   "execution_count": 184,
   "id": "statutory-yeast",
   "metadata": {},
   "outputs": [],
   "source": [
    "import datetime\n",
    "import pandas as pd\n",
    "import matplotlib.pyplot as plt\n",
    "import numpy as np\n",
    "import re\n",
    "import seaborn as sns\n",
    "#import plotly.express as px\n",
    "\n",
    "from pandas_profiling import ProfileReport\n",
    "from xgboost import XGBClassifier\n",
    "from xgboost import plot_importance\n",
    "\n",
    "# Scikit-learn packages\n",
    "from sklearn import metrics\n",
    "from sklearn.model_selection import train_test_split\n",
    "from sklearn.impute import SimpleImputer\n",
    "from sklearn.pipeline import Pipeline\n",
    "from sklearn.preprocessing import StandardScaler, OneHotEncoder, FunctionTransformer, OrdinalEncoder,LabelEncoder\n",
    "from sklearn.compose import ColumnTransformer\n",
    "from sklearn.model_selection import GridSearchCV\n",
    "\n",
    "## Import helper functions\n",
    "#from ipynb.fs.defs.utils import *"
   ]
  },
  {
   "cell_type": "code",
   "execution_count": 185,
   "id": "eligible-convergence",
   "metadata": {},
   "outputs": [],
   "source": [
    "KAGGLE_EVAL_METRIC = 'logloss' # string name for loss function in xgboost\n",
    "\n",
    "TRAIN_PATH = \"data/train.csv\"\n",
    "TEST_PATH = \"data/test.csv\"\n",
    "\n",
    "TARGET = [\"rain_tomorrow\"]"
   ]
  },
  {
   "cell_type": "markdown",
   "id": "small-reservation",
   "metadata": {},
   "source": [
    "# Load Data"
   ]
  },
  {
   "cell_type": "code",
   "execution_count": 186,
   "id": "interracial-graduate",
   "metadata": {},
   "outputs": [],
   "source": [
    "train = pd.read_csv(TRAIN_PATH)\n",
    "test = pd.read_csv(TEST_PATH)"
   ]
  },
  {
   "cell_type": "code",
   "execution_count": 187,
   "id": "2f064e76-ca49-4f50-a105-832339a3c34d",
   "metadata": {},
   "outputs": [
    {
     "data": {
      "text/html": [
       "<div>\n",
       "<style scoped>\n",
       "    .dataframe tbody tr th:only-of-type {\n",
       "        vertical-align: middle;\n",
       "    }\n",
       "\n",
       "    .dataframe tbody tr th {\n",
       "        vertical-align: top;\n",
       "    }\n",
       "\n",
       "    .dataframe thead th {\n",
       "        text-align: right;\n",
       "    }\n",
       "</style>\n",
       "<table border=\"1\" class=\"dataframe\">\n",
       "  <thead>\n",
       "    <tr style=\"text-align: right;\">\n",
       "      <th></th>\n",
       "      <th>id</th>\n",
       "      <th>date</th>\n",
       "      <th>location</th>\n",
       "      <th>min_temp</th>\n",
       "      <th>max_temp</th>\n",
       "      <th>rainfall</th>\n",
       "      <th>evaporation</th>\n",
       "      <th>sunshine</th>\n",
       "      <th>wind_gust_dir</th>\n",
       "      <th>wind_gust_speed</th>\n",
       "      <th>...</th>\n",
       "      <th>humidity9am</th>\n",
       "      <th>humidity3pm</th>\n",
       "      <th>pressure9am</th>\n",
       "      <th>pressure3pm</th>\n",
       "      <th>cloud9am</th>\n",
       "      <th>cloud3pm</th>\n",
       "      <th>temp9am</th>\n",
       "      <th>temp3pm</th>\n",
       "      <th>rain_today</th>\n",
       "      <th>rain_tomorrow</th>\n",
       "    </tr>\n",
       "  </thead>\n",
       "  <tbody>\n",
       "    <tr>\n",
       "      <th>0</th>\n",
       "      <td>6364</td>\n",
       "      <td>2010-11-11</td>\n",
       "      <td>BadgerysCreek</td>\n",
       "      <td>16.2</td>\n",
       "      <td>28.9</td>\n",
       "      <td>11.4</td>\n",
       "      <td>NaN</td>\n",
       "      <td>NaN</td>\n",
       "      <td>SW</td>\n",
       "      <td>37.0</td>\n",
       "      <td>...</td>\n",
       "      <td>78.0</td>\n",
       "      <td>52.0</td>\n",
       "      <td>1017.2</td>\n",
       "      <td>1011.7</td>\n",
       "      <td>NaN</td>\n",
       "      <td>NaN</td>\n",
       "      <td>20.3</td>\n",
       "      <td>27.9</td>\n",
       "      <td>1.0</td>\n",
       "      <td>0</td>\n",
       "    </tr>\n",
       "    <tr>\n",
       "      <th>1</th>\n",
       "      <td>7985</td>\n",
       "      <td>2011-03-09</td>\n",
       "      <td>Sale</td>\n",
       "      <td>14.6</td>\n",
       "      <td>28.3</td>\n",
       "      <td>0.0</td>\n",
       "      <td>NaN</td>\n",
       "      <td>NaN</td>\n",
       "      <td>SSE</td>\n",
       "      <td>35.0</td>\n",
       "      <td>...</td>\n",
       "      <td>81.0</td>\n",
       "      <td>65.0</td>\n",
       "      <td>1012.9</td>\n",
       "      <td>1010.4</td>\n",
       "      <td>7.0</td>\n",
       "      <td>7.0</td>\n",
       "      <td>19.0</td>\n",
       "      <td>24.4</td>\n",
       "      <td>0.0</td>\n",
       "      <td>1</td>\n",
       "    </tr>\n",
       "    <tr>\n",
       "      <th>2</th>\n",
       "      <td>5021</td>\n",
       "      <td>2014-06-06</td>\n",
       "      <td>Nhil</td>\n",
       "      <td>2.6</td>\n",
       "      <td>16.3</td>\n",
       "      <td>0.0</td>\n",
       "      <td>NaN</td>\n",
       "      <td>NaN</td>\n",
       "      <td>S</td>\n",
       "      <td>31.0</td>\n",
       "      <td>...</td>\n",
       "      <td>93.0</td>\n",
       "      <td>61.0</td>\n",
       "      <td>1033.1</td>\n",
       "      <td>1031.0</td>\n",
       "      <td>NaN</td>\n",
       "      <td>NaN</td>\n",
       "      <td>5.9</td>\n",
       "      <td>14.6</td>\n",
       "      <td>0.0</td>\n",
       "      <td>0</td>\n",
       "    </tr>\n",
       "    <tr>\n",
       "      <th>3</th>\n",
       "      <td>28546</td>\n",
       "      <td>2017-06-07</td>\n",
       "      <td>Townsville</td>\n",
       "      <td>14.0</td>\n",
       "      <td>25.9</td>\n",
       "      <td>0.0</td>\n",
       "      <td>NaN</td>\n",
       "      <td>NaN</td>\n",
       "      <td>WNW</td>\n",
       "      <td>35.0</td>\n",
       "      <td>...</td>\n",
       "      <td>66.0</td>\n",
       "      <td>37.0</td>\n",
       "      <td>1020.4</td>\n",
       "      <td>1016.9</td>\n",
       "      <td>NaN</td>\n",
       "      <td>NaN</td>\n",
       "      <td>20.9</td>\n",
       "      <td>24.7</td>\n",
       "      <td>0.0</td>\n",
       "      <td>0</td>\n",
       "    </tr>\n",
       "    <tr>\n",
       "      <th>4</th>\n",
       "      <td>42222</td>\n",
       "      <td>2016-12-13</td>\n",
       "      <td>Uluru</td>\n",
       "      <td>16.7</td>\n",
       "      <td>41.7</td>\n",
       "      <td>0.0</td>\n",
       "      <td>NaN</td>\n",
       "      <td>NaN</td>\n",
       "      <td>SW</td>\n",
       "      <td>61.0</td>\n",
       "      <td>...</td>\n",
       "      <td>17.0</td>\n",
       "      <td>7.0</td>\n",
       "      <td>1006.1</td>\n",
       "      <td>1002.6</td>\n",
       "      <td>NaN</td>\n",
       "      <td>NaN</td>\n",
       "      <td>33.2</td>\n",
       "      <td>41.1</td>\n",
       "      <td>0.0</td>\n",
       "      <td>0</td>\n",
       "    </tr>\n",
       "    <tr>\n",
       "      <th>...</th>\n",
       "      <td>...</td>\n",
       "      <td>...</td>\n",
       "      <td>...</td>\n",
       "      <td>...</td>\n",
       "      <td>...</td>\n",
       "      <td>...</td>\n",
       "      <td>...</td>\n",
       "      <td>...</td>\n",
       "      <td>...</td>\n",
       "      <td>...</td>\n",
       "      <td>...</td>\n",
       "      <td>...</td>\n",
       "      <td>...</td>\n",
       "      <td>...</td>\n",
       "      <td>...</td>\n",
       "      <td>...</td>\n",
       "      <td>...</td>\n",
       "      <td>...</td>\n",
       "      <td>...</td>\n",
       "      <td>...</td>\n",
       "      <td>...</td>\n",
       "    </tr>\n",
       "    <tr>\n",
       "      <th>34186</th>\n",
       "      <td>32001</td>\n",
       "      <td>2010-12-12</td>\n",
       "      <td>Brisbane</td>\n",
       "      <td>20.4</td>\n",
       "      <td>27.2</td>\n",
       "      <td>80.4</td>\n",
       "      <td>NaN</td>\n",
       "      <td>False</td>\n",
       "      <td>W</td>\n",
       "      <td>15.0</td>\n",
       "      <td>...</td>\n",
       "      <td>81.0</td>\n",
       "      <td>86.0</td>\n",
       "      <td>1008.8</td>\n",
       "      <td>1006.9</td>\n",
       "      <td>8.0</td>\n",
       "      <td>8.0</td>\n",
       "      <td>23.9</td>\n",
       "      <td>23.7</td>\n",
       "      <td>1.0</td>\n",
       "      <td>1</td>\n",
       "    </tr>\n",
       "    <tr>\n",
       "      <th>34187</th>\n",
       "      <td>11289</td>\n",
       "      <td>2013-07-05</td>\n",
       "      <td>MountGambier</td>\n",
       "      <td>5.9</td>\n",
       "      <td>13.4</td>\n",
       "      <td>27.6</td>\n",
       "      <td>NaN</td>\n",
       "      <td>NaN</td>\n",
       "      <td>W</td>\n",
       "      <td>76.0</td>\n",
       "      <td>...</td>\n",
       "      <td>88.0</td>\n",
       "      <td>51.0</td>\n",
       "      <td>1009.2</td>\n",
       "      <td>1010.1</td>\n",
       "      <td>7.0</td>\n",
       "      <td>5.0</td>\n",
       "      <td>7.5</td>\n",
       "      <td>12.5</td>\n",
       "      <td>1.0</td>\n",
       "      <td>1</td>\n",
       "    </tr>\n",
       "    <tr>\n",
       "      <th>34188</th>\n",
       "      <td>17825</td>\n",
       "      <td>2013-12-12</td>\n",
       "      <td>Richmond</td>\n",
       "      <td>14.8</td>\n",
       "      <td>28.0</td>\n",
       "      <td>0.0</td>\n",
       "      <td>NaN</td>\n",
       "      <td>NaN</td>\n",
       "      <td>ENE</td>\n",
       "      <td>35.0</td>\n",
       "      <td>...</td>\n",
       "      <td>65.0</td>\n",
       "      <td>39.0</td>\n",
       "      <td>1011.8</td>\n",
       "      <td>1008.0</td>\n",
       "      <td>NaN</td>\n",
       "      <td>NaN</td>\n",
       "      <td>22.2</td>\n",
       "      <td>26.9</td>\n",
       "      <td>0.0</td>\n",
       "      <td>0</td>\n",
       "    </tr>\n",
       "    <tr>\n",
       "      <th>34189</th>\n",
       "      <td>16033</td>\n",
       "      <td>2013-07-20</td>\n",
       "      <td>MelbourneAirport</td>\n",
       "      <td>5.2</td>\n",
       "      <td>8.4</td>\n",
       "      <td>4.2</td>\n",
       "      <td>NaN</td>\n",
       "      <td>False</td>\n",
       "      <td>NNW</td>\n",
       "      <td>28.0</td>\n",
       "      <td>...</td>\n",
       "      <td>85.0</td>\n",
       "      <td>88.0</td>\n",
       "      <td>1003.6</td>\n",
       "      <td>1002.9</td>\n",
       "      <td>7.0</td>\n",
       "      <td>7.0</td>\n",
       "      <td>7.7</td>\n",
       "      <td>6.2</td>\n",
       "      <td>1.0</td>\n",
       "      <td>1</td>\n",
       "    </tr>\n",
       "    <tr>\n",
       "      <th>34190</th>\n",
       "      <td>30715</td>\n",
       "      <td>2008-10-28</td>\n",
       "      <td>Hobart</td>\n",
       "      <td>11.3</td>\n",
       "      <td>17.0</td>\n",
       "      <td>0.0</td>\n",
       "      <td>NaN</td>\n",
       "      <td>NaN</td>\n",
       "      <td>NaN</td>\n",
       "      <td>NaN</td>\n",
       "      <td>...</td>\n",
       "      <td>63.0</td>\n",
       "      <td>40.0</td>\n",
       "      <td>1017.4</td>\n",
       "      <td>1019.6</td>\n",
       "      <td>7.0</td>\n",
       "      <td>3.0</td>\n",
       "      <td>12.6</td>\n",
       "      <td>15.7</td>\n",
       "      <td>0.0</td>\n",
       "      <td>0</td>\n",
       "    </tr>\n",
       "  </tbody>\n",
       "</table>\n",
       "<p>34191 rows × 24 columns</p>\n",
       "</div>"
      ],
      "text/plain": [
       "          id        date          location  min_temp  max_temp  rainfall  \\\n",
       "0       6364  2010-11-11     BadgerysCreek      16.2      28.9      11.4   \n",
       "1       7985  2011-03-09              Sale      14.6      28.3       0.0   \n",
       "2       5021  2014-06-06              Nhil       2.6      16.3       0.0   \n",
       "3      28546  2017-06-07        Townsville      14.0      25.9       0.0   \n",
       "4      42222  2016-12-13             Uluru      16.7      41.7       0.0   \n",
       "...      ...         ...               ...       ...       ...       ...   \n",
       "34186  32001  2010-12-12          Brisbane      20.4      27.2      80.4   \n",
       "34187  11289  2013-07-05      MountGambier       5.9      13.4      27.6   \n",
       "34188  17825  2013-12-12          Richmond      14.8      28.0       0.0   \n",
       "34189  16033  2013-07-20  MelbourneAirport       5.2       8.4       4.2   \n",
       "34190  30715  2008-10-28            Hobart      11.3      17.0       0.0   \n",
       "\n",
       "      evaporation sunshine wind_gust_dir  wind_gust_speed  ... humidity9am  \\\n",
       "0             NaN      NaN            SW             37.0  ...        78.0   \n",
       "1             NaN      NaN           SSE             35.0  ...        81.0   \n",
       "2             NaN      NaN             S             31.0  ...        93.0   \n",
       "3             NaN      NaN           WNW             35.0  ...        66.0   \n",
       "4             NaN      NaN            SW             61.0  ...        17.0   \n",
       "...           ...      ...           ...              ...  ...         ...   \n",
       "34186         NaN    False             W             15.0  ...        81.0   \n",
       "34187         NaN      NaN             W             76.0  ...        88.0   \n",
       "34188         NaN      NaN           ENE             35.0  ...        65.0   \n",
       "34189         NaN    False           NNW             28.0  ...        85.0   \n",
       "34190         NaN      NaN           NaN              NaN  ...        63.0   \n",
       "\n",
       "      humidity3pm  pressure9am  pressure3pm  cloud9am  cloud3pm  temp9am  \\\n",
       "0            52.0       1017.2       1011.7       NaN       NaN     20.3   \n",
       "1            65.0       1012.9       1010.4       7.0       7.0     19.0   \n",
       "2            61.0       1033.1       1031.0       NaN       NaN      5.9   \n",
       "3            37.0       1020.4       1016.9       NaN       NaN     20.9   \n",
       "4             7.0       1006.1       1002.6       NaN       NaN     33.2   \n",
       "...           ...          ...          ...       ...       ...      ...   \n",
       "34186        86.0       1008.8       1006.9       8.0       8.0     23.9   \n",
       "34187        51.0       1009.2       1010.1       7.0       5.0      7.5   \n",
       "34188        39.0       1011.8       1008.0       NaN       NaN     22.2   \n",
       "34189        88.0       1003.6       1002.9       7.0       7.0      7.7   \n",
       "34190        40.0       1017.4       1019.6       7.0       3.0     12.6   \n",
       "\n",
       "       temp3pm  rain_today  rain_tomorrow  \n",
       "0         27.9         1.0              0  \n",
       "1         24.4         0.0              1  \n",
       "2         14.6         0.0              0  \n",
       "3         24.7         0.0              0  \n",
       "4         41.1         0.0              0  \n",
       "...        ...         ...            ...  \n",
       "34186     23.7         1.0              1  \n",
       "34187     12.5         1.0              1  \n",
       "34188     26.9         0.0              0  \n",
       "34189      6.2         1.0              1  \n",
       "34190     15.7         0.0              0  \n",
       "\n",
       "[34191 rows x 24 columns]"
      ]
     },
     "execution_count": 187,
     "metadata": {},
     "output_type": "execute_result"
    }
   ],
   "source": [
    "train"
   ]
  },
  {
   "cell_type": "code",
   "execution_count": 188,
   "id": "331a849d-a225-4c60-9499-661eea67d8a9",
   "metadata": {},
   "outputs": [],
   "source": [
    "## Creata a combined data set to ensure train + test get same pre-proccessing\n",
    "train['label'] = 'train'\n",
    "test['label'] = 'test'\n",
    "combined = train.append(test)"
   ]
  },
  {
   "cell_type": "code",
   "execution_count": 189,
   "id": "b5cf0ee4-77ce-471d-92f8-b88732dcc5c2",
   "metadata": {},
   "outputs": [
    {
     "name": "stdout",
     "output_type": "stream",
     "text": [
      "<class 'pandas.core.frame.DataFrame'>\n",
      "Int64Index: 48844 entries, 0 to 14652\n",
      "Data columns (total 1 columns):\n",
      " #   Column         Non-Null Count  Dtype  \n",
      "---  ------         --------------  -----  \n",
      " 0   rain_tomorrow  34191 non-null  float64\n",
      "dtypes: float64(1)\n",
      "memory usage: 763.2 KB\n"
     ]
    }
   ],
   "source": [
    "combined[TARGET].info()"
   ]
  },
  {
   "cell_type": "code",
   "execution_count": 190,
   "id": "00d9adb1-0775-4c62-b403-532b209f46a5",
   "metadata": {},
   "outputs": [
    {
     "data": {
      "text/html": [
       "<div>\n",
       "<style scoped>\n",
       "    .dataframe tbody tr th:only-of-type {\n",
       "        vertical-align: middle;\n",
       "    }\n",
       "\n",
       "    .dataframe tbody tr th {\n",
       "        vertical-align: top;\n",
       "    }\n",
       "\n",
       "    .dataframe thead th {\n",
       "        text-align: right;\n",
       "    }\n",
       "</style>\n",
       "<table border=\"1\" class=\"dataframe\">\n",
       "  <thead>\n",
       "    <tr style=\"text-align: right;\">\n",
       "      <th></th>\n",
       "      <th>rain_tomorrow</th>\n",
       "    </tr>\n",
       "  </thead>\n",
       "  <tbody>\n",
       "    <tr>\n",
       "      <th>0</th>\n",
       "      <td>0.0</td>\n",
       "    </tr>\n",
       "    <tr>\n",
       "      <th>1</th>\n",
       "      <td>1.0</td>\n",
       "    </tr>\n",
       "    <tr>\n",
       "      <th>2</th>\n",
       "      <td>0.0</td>\n",
       "    </tr>\n",
       "    <tr>\n",
       "      <th>3</th>\n",
       "      <td>0.0</td>\n",
       "    </tr>\n",
       "    <tr>\n",
       "      <th>4</th>\n",
       "      <td>0.0</td>\n",
       "    </tr>\n",
       "    <tr>\n",
       "      <th>...</th>\n",
       "      <td>...</td>\n",
       "    </tr>\n",
       "    <tr>\n",
       "      <th>14648</th>\n",
       "      <td>NaN</td>\n",
       "    </tr>\n",
       "    <tr>\n",
       "      <th>14649</th>\n",
       "      <td>NaN</td>\n",
       "    </tr>\n",
       "    <tr>\n",
       "      <th>14650</th>\n",
       "      <td>NaN</td>\n",
       "    </tr>\n",
       "    <tr>\n",
       "      <th>14651</th>\n",
       "      <td>NaN</td>\n",
       "    </tr>\n",
       "    <tr>\n",
       "      <th>14652</th>\n",
       "      <td>NaN</td>\n",
       "    </tr>\n",
       "  </tbody>\n",
       "</table>\n",
       "<p>48844 rows × 1 columns</p>\n",
       "</div>"
      ],
      "text/plain": [
       "       rain_tomorrow\n",
       "0                0.0\n",
       "1                1.0\n",
       "2                0.0\n",
       "3                0.0\n",
       "4                0.0\n",
       "...              ...\n",
       "14648            NaN\n",
       "14649            NaN\n",
       "14650            NaN\n",
       "14651            NaN\n",
       "14652            NaN\n",
       "\n",
       "[48844 rows x 1 columns]"
      ]
     },
     "execution_count": 190,
     "metadata": {},
     "output_type": "execute_result"
    }
   ],
   "source": [
    "combined[TARGET]"
   ]
  },
  {
   "cell_type": "markdown",
   "id": "peripheral-interview",
   "metadata": {},
   "source": [
    "# Feature Engineer"
   ]
  },
  {
   "cell_type": "code",
   "execution_count": 191,
   "id": "78e5bd95-44de-4e61-8594-1dccc405b800",
   "metadata": {},
   "outputs": [],
   "source": [
    "# Imputation"
   ]
  },
  {
   "cell_type": "code",
   "execution_count": 192,
   "id": "940d88b5-8eb3-4343-a9cb-185e462d37c5",
   "metadata": {},
   "outputs": [],
   "source": [
    "combined['date'] = combined['date'].fillna(combined['date'].mode()[0])\n",
    "combined['location'] = combined['location'].fillna(combined['location'].mode()[0])\n",
    "combined['wind_gust_dir'] = combined['wind_gust_dir'].fillna(combined['wind_gust_dir'].mode()[0])\n",
    "combined['wind_dir9am'] = combined['wind_dir9am'].fillna(combined['wind_dir9am'].mode()[0])\n",
    "combined['wind_dir3pm'] = combined['wind_dir3pm'].fillna(combined['wind_dir3pm'].mode()[0])"
   ]
  },
  {
   "cell_type": "code",
   "execution_count": 193,
   "id": "05f75ed6-0138-4b61-8083-aa7177802bf3",
   "metadata": {},
   "outputs": [],
   "source": [
    "# Dates\n",
    "combined['date'] = pd.to_datetime(train['date'])\n",
    "combined['year'] = combined['date'].dt.year\n",
    "combined['day'] = combined['date'].dt.day\n",
    "combined['month'] = combined['date'].dt.month\n",
    "combined['dayofyear'] = combined['date'].dt.dayofyear"
   ]
  },
  {
   "cell_type": "code",
   "execution_count": 194,
   "id": "3ad1e715-ed66-4091-84b6-a885f8ce9737",
   "metadata": {},
   "outputs": [],
   "source": [
    "# location\n",
    "temp_count = combined[['location','rain_today']].groupby(['location'], as_index=False).count()\n",
    "temp_sum = combined[['location','rain_today']].groupby(['location'], as_index=False).sum()\n",
    "rain_location = temp_count.merge(temp_sum, on='location')\n",
    "rain_location['prob'] = rain_location['rain_today_y'] / rain_location['rain_today_x']\n",
    "rain_location[['location','prob']].merge(combined, on='location')\n",
    "combined = rain_location[['location','prob']].merge(combined, on='location')"
   ]
  },
  {
   "cell_type": "code",
   "execution_count": 195,
   "id": "42aaafde-5b4e-4bf8-91c6-d10d75e2a0cb",
   "metadata": {},
   "outputs": [],
   "source": [
    "combined['temp_diff'] = combined['min_temp'] - combined['temp3pm']\n",
    "combined['humidity_diff'] = combined['humidity9am'] - combined['humidity3pm']"
   ]
  },
  {
   "cell_type": "code",
   "execution_count": 196,
   "id": "95e2d0e9-8d1c-409e-b298-e5fbc6c7ff55",
   "metadata": {},
   "outputs": [],
   "source": [
    "# Feature"
   ]
  },
  {
   "cell_type": "markdown",
   "id": "a7329c5a-6897-44f9-a84a-1fcafcb680e9",
   "metadata": {},
   "source": [
    "## Define Features and Target\n",
    "Define categorical and numeric features manually because sometimes cols of type float/int should be categorical and vice versa"
   ]
  },
  {
   "cell_type": "code",
   "execution_count": 197,
   "id": "d116a348-4abe-4b54-bd1c-690d8512f059",
   "metadata": {},
   "outputs": [
    {
     "name": "stdout",
     "output_type": "stream",
     "text": [
      "<class 'pandas.core.frame.DataFrame'>\n",
      "Int64Index: 48844 entries, 0 to 48843\n",
      "Data columns (total 32 columns):\n",
      " #   Column           Non-Null Count  Dtype         \n",
      "---  ------           --------------  -----         \n",
      " 0   location         48844 non-null  object        \n",
      " 1   prob             48844 non-null  float64       \n",
      " 2   id               48844 non-null  int64         \n",
      " 3   date             48844 non-null  datetime64[ns]\n",
      " 4   min_temp         48623 non-null  float64       \n",
      " 5   max_temp         48742 non-null  float64       \n",
      " 6   rainfall         48340 non-null  float64       \n",
      " 7   evaporation      604 non-null    object        \n",
      " 8   sunshine         903 non-null    object        \n",
      " 9   wind_gust_dir    48844 non-null  object        \n",
      " 10  wind_gust_speed  45623 non-null  float64       \n",
      " 11  wind_dir9am      48844 non-null  object        \n",
      " 12  wind_dir3pm      48844 non-null  object        \n",
      " 13  wind_speed9am    48369 non-null  float64       \n",
      " 14  wind_speed3pm    47936 non-null  float64       \n",
      " 15  humidity9am      48194 non-null  float64       \n",
      " 16  humidity3pm      47564 non-null  float64       \n",
      " 17  pressure9am      44099 non-null  float64       \n",
      " 18  pressure3pm      44108 non-null  float64       \n",
      " 19  cloud9am         30517 non-null  float64       \n",
      " 20  cloud3pm         29351 non-null  float64       \n",
      " 21  temp9am          48520 non-null  float64       \n",
      " 22  temp3pm          47894 non-null  float64       \n",
      " 23  rain_today       48340 non-null  float64       \n",
      " 24  rain_tomorrow    34191 non-null  float64       \n",
      " 25  label            48844 non-null  object        \n",
      " 26  year             48844 non-null  int64         \n",
      " 27  day              48844 non-null  int64         \n",
      " 28  month            48844 non-null  int64         \n",
      " 29  dayofyear        48844 non-null  int64         \n",
      " 30  temp_diff        47775 non-null  float64       \n",
      " 31  humidity_diff    47314 non-null  float64       \n",
      "dtypes: datetime64[ns](1), float64(19), int64(5), object(7)\n",
      "memory usage: 12.3+ MB\n"
     ]
    }
   ],
   "source": [
    "combined.info()"
   ]
  },
  {
   "cell_type": "code",
   "execution_count": 198,
   "id": "5af8f140-d945-4753-bfda-6c8ea326a798",
   "metadata": {},
   "outputs": [
    {
     "data": {
      "text/plain": [
       "Index(['location', 'prob', 'id', 'date', 'min_temp', 'max_temp', 'rainfall',\n",
       "       'evaporation', 'sunshine', 'wind_gust_dir', 'wind_gust_speed',\n",
       "       'wind_dir9am', 'wind_dir3pm', 'wind_speed9am', 'wind_speed3pm',\n",
       "       'humidity9am', 'humidity3pm', 'pressure9am', 'pressure3pm', 'cloud9am',\n",
       "       'cloud3pm', 'temp9am', 'temp3pm', 'rain_today', 'rain_tomorrow',\n",
       "       'label', 'year', 'day', 'month', 'dayofyear', 'temp_diff',\n",
       "       'humidity_diff'],\n",
       "      dtype='object')"
      ]
     },
     "execution_count": 198,
     "metadata": {},
     "output_type": "execute_result"
    }
   ],
   "source": [
    "combined.columns"
   ]
  },
  {
   "cell_type": "code",
   "execution_count": 199,
   "id": "5f67dcb9-7b42-4ca4-8b69-e60ca452ba58",
   "metadata": {},
   "outputs": [],
   "source": [
    "features = ['humidity9am', 'humidity3pm', 'cloud9am', 'cloud3pm', 'wind_gust_speed','temp3pm', 'humidity_diff', 'temp_diff','rain_today']"
   ]
  },
  {
   "cell_type": "code",
   "execution_count": 200,
   "id": "8b67f745-65e8-4fa0-9cc8-4b3dfc19e381",
   "metadata": {},
   "outputs": [],
   "source": [
    "categorical_features = ['rain_today','month','wind_gust_dir']\n",
    "numeric_features = ['humidity9am', 'humidity3pm', 'cloud9am', 'cloud3pm', 'wind_gust_speed','temp3pm', 'humidity_diff', 'temp_diff','rain_today']"
   ]
  },
  {
   "cell_type": "code",
   "execution_count": 201,
   "id": "f00edce6-802d-4b94-8b1d-6f2b8af87dd0",
   "metadata": {},
   "outputs": [],
   "source": [
    "combined[categorical_features] = combined[categorical_features].astype(str)\n",
    "combined[numeric_features] = combined[numeric_features].astype(float)"
   ]
  },
  {
   "cell_type": "code",
   "execution_count": 202,
   "id": "9ad91172-7a3e-4908-a45c-9cb783d8b982",
   "metadata": {},
   "outputs": [],
   "source": [
    "X = combined[combined['label'] == 'train'][features]\n",
    "y = combined[combined['label'] == 'train'][TARGET]\n",
    "test = combined[combined['label'] == 'test'][features]"
   ]
  },
  {
   "cell_type": "markdown",
   "id": "b3111d91-1f5a-4078-9807-5f366ce447a4",
   "metadata": {},
   "source": [
    "# Post Proccessing"
   ]
  },
  {
   "cell_type": "code",
   "execution_count": 203,
   "id": "1faee854-73ea-4550-90cc-987971bf910b",
   "metadata": {},
   "outputs": [],
   "source": [
    "# Label Encode Categorical Features\n",
    "le = LabelEncoder()\n",
    "for c in categorical_features:\n",
    "    le.fit(combined[c])\n",
    "    temp = le.transform(combined[c])\n",
    "    combined[c] = temp"
   ]
  },
  {
   "cell_type": "code",
   "execution_count": 204,
   "id": "65e84267-ab0c-4952-a78d-51138ba0e451",
   "metadata": {},
   "outputs": [
    {
     "data": {
      "text/html": [
       "<div>\n",
       "<style scoped>\n",
       "    .dataframe tbody tr th:only-of-type {\n",
       "        vertical-align: middle;\n",
       "    }\n",
       "\n",
       "    .dataframe tbody tr th {\n",
       "        vertical-align: top;\n",
       "    }\n",
       "\n",
       "    .dataframe thead th {\n",
       "        text-align: right;\n",
       "    }\n",
       "</style>\n",
       "<table border=\"1\" class=\"dataframe\">\n",
       "  <thead>\n",
       "    <tr style=\"text-align: right;\">\n",
       "      <th></th>\n",
       "      <th>humidity9am</th>\n",
       "      <th>humidity3pm</th>\n",
       "      <th>cloud9am</th>\n",
       "      <th>cloud3pm</th>\n",
       "      <th>wind_gust_speed</th>\n",
       "      <th>temp3pm</th>\n",
       "      <th>humidity_diff</th>\n",
       "      <th>temp_diff</th>\n",
       "      <th>rain_today</th>\n",
       "    </tr>\n",
       "  </thead>\n",
       "  <tbody>\n",
       "    <tr>\n",
       "      <th>0</th>\n",
       "      <td>58.0</td>\n",
       "      <td>39.0</td>\n",
       "      <td>NaN</td>\n",
       "      <td>NaN</td>\n",
       "      <td>31.0</td>\n",
       "      <td>26.8</td>\n",
       "      <td>19.0</td>\n",
       "      <td>-14.7</td>\n",
       "      <td>0</td>\n",
       "    </tr>\n",
       "    <tr>\n",
       "      <th>1</th>\n",
       "      <td>59.0</td>\n",
       "      <td>47.0</td>\n",
       "      <td>NaN</td>\n",
       "      <td>NaN</td>\n",
       "      <td>33.0</td>\n",
       "      <td>11.6</td>\n",
       "      <td>12.0</td>\n",
       "      <td>-5.5</td>\n",
       "      <td>0</td>\n",
       "    </tr>\n",
       "    <tr>\n",
       "      <th>2</th>\n",
       "      <td>56.0</td>\n",
       "      <td>31.0</td>\n",
       "      <td>NaN</td>\n",
       "      <td>NaN</td>\n",
       "      <td>43.0</td>\n",
       "      <td>24.4</td>\n",
       "      <td>25.0</td>\n",
       "      <td>-10.6</td>\n",
       "      <td>0</td>\n",
       "    </tr>\n",
       "    <tr>\n",
       "      <th>3</th>\n",
       "      <td>47.0</td>\n",
       "      <td>39.0</td>\n",
       "      <td>NaN</td>\n",
       "      <td>NaN</td>\n",
       "      <td>24.0</td>\n",
       "      <td>24.5</td>\n",
       "      <td>8.0</td>\n",
       "      <td>-9.0</td>\n",
       "      <td>0</td>\n",
       "    </tr>\n",
       "    <tr>\n",
       "      <th>4</th>\n",
       "      <td>25.0</td>\n",
       "      <td>24.0</td>\n",
       "      <td>NaN</td>\n",
       "      <td>NaN</td>\n",
       "      <td>35.0</td>\n",
       "      <td>24.3</td>\n",
       "      <td>1.0</td>\n",
       "      <td>-10.2</td>\n",
       "      <td>0</td>\n",
       "    </tr>\n",
       "    <tr>\n",
       "      <th>...</th>\n",
       "      <td>...</td>\n",
       "      <td>...</td>\n",
       "      <td>...</td>\n",
       "      <td>...</td>\n",
       "      <td>...</td>\n",
       "      <td>...</td>\n",
       "      <td>...</td>\n",
       "      <td>...</td>\n",
       "      <td>...</td>\n",
       "    </tr>\n",
       "    <tr>\n",
       "      <th>48839</th>\n",
       "      <td>86.0</td>\n",
       "      <td>51.0</td>\n",
       "      <td>NaN</td>\n",
       "      <td>8.0</td>\n",
       "      <td>20.0</td>\n",
       "      <td>17.8</td>\n",
       "      <td>35.0</td>\n",
       "      <td>-10.4</td>\n",
       "      <td>0</td>\n",
       "    </tr>\n",
       "    <tr>\n",
       "      <th>48840</th>\n",
       "      <td>11.0</td>\n",
       "      <td>6.0</td>\n",
       "      <td>0.0</td>\n",
       "      <td>0.0</td>\n",
       "      <td>57.0</td>\n",
       "      <td>34.0</td>\n",
       "      <td>5.0</td>\n",
       "      <td>-19.1</td>\n",
       "      <td>0</td>\n",
       "    </tr>\n",
       "    <tr>\n",
       "      <th>48841</th>\n",
       "      <td>45.0</td>\n",
       "      <td>30.0</td>\n",
       "      <td>8.0</td>\n",
       "      <td>2.0</td>\n",
       "      <td>70.0</td>\n",
       "      <td>30.4</td>\n",
       "      <td>15.0</td>\n",
       "      <td>-5.1</td>\n",
       "      <td>0</td>\n",
       "    </tr>\n",
       "    <tr>\n",
       "      <th>48842</th>\n",
       "      <td>99.0</td>\n",
       "      <td>22.0</td>\n",
       "      <td>7.0</td>\n",
       "      <td>8.0</td>\n",
       "      <td>115.0</td>\n",
       "      <td>21.3</td>\n",
       "      <td>77.0</td>\n",
       "      <td>-5.2</td>\n",
       "      <td>0</td>\n",
       "    </tr>\n",
       "    <tr>\n",
       "      <th>48843</th>\n",
       "      <td>46.0</td>\n",
       "      <td>10.0</td>\n",
       "      <td>NaN</td>\n",
       "      <td>NaN</td>\n",
       "      <td>69.0</td>\n",
       "      <td>39.4</td>\n",
       "      <td>36.0</td>\n",
       "      <td>-16.7</td>\n",
       "      <td>0</td>\n",
       "    </tr>\n",
       "  </tbody>\n",
       "</table>\n",
       "<p>48844 rows × 9 columns</p>\n",
       "</div>"
      ],
      "text/plain": [
       "       humidity9am  humidity3pm  cloud9am  cloud3pm  wind_gust_speed  temp3pm  \\\n",
       "0             58.0         39.0       NaN       NaN             31.0     26.8   \n",
       "1             59.0         47.0       NaN       NaN             33.0     11.6   \n",
       "2             56.0         31.0       NaN       NaN             43.0     24.4   \n",
       "3             47.0         39.0       NaN       NaN             24.0     24.5   \n",
       "4             25.0         24.0       NaN       NaN             35.0     24.3   \n",
       "...            ...          ...       ...       ...              ...      ...   \n",
       "48839         86.0         51.0       NaN       8.0             20.0     17.8   \n",
       "48840         11.0          6.0       0.0       0.0             57.0     34.0   \n",
       "48841         45.0         30.0       8.0       2.0             70.0     30.4   \n",
       "48842         99.0         22.0       7.0       8.0            115.0     21.3   \n",
       "48843         46.0         10.0       NaN       NaN             69.0     39.4   \n",
       "\n",
       "       humidity_diff  temp_diff  rain_today  \n",
       "0               19.0      -14.7           0  \n",
       "1               12.0       -5.5           0  \n",
       "2               25.0      -10.6           0  \n",
       "3                8.0       -9.0           0  \n",
       "4                1.0      -10.2           0  \n",
       "...              ...        ...         ...  \n",
       "48839           35.0      -10.4           0  \n",
       "48840            5.0      -19.1           0  \n",
       "48841           15.0       -5.1           0  \n",
       "48842           77.0       -5.2           0  \n",
       "48843           36.0      -16.7           0  \n",
       "\n",
       "[48844 rows x 9 columns]"
      ]
     },
     "execution_count": 204,
     "metadata": {},
     "output_type": "execute_result"
    }
   ],
   "source": [
    "combined[features]"
   ]
  },
  {
   "cell_type": "code",
   "execution_count": 206,
   "id": "538d4d1f-9954-47b2-bf50-dccaabab77a5",
   "metadata": {},
   "outputs": [],
   "source": [
    "from sklearn.experimental import enable_iterative_imputer\n",
    "from sklearn.impute import IterativeImputer\n",
    "MiceImputed = combined[features].copy(deep=True) \n",
    "mice_imputer = IterativeImputer()\n",
    "MiceImputed.iloc[:, :] = mice_imputer.fit_transform(combined[features])"
   ]
  },
  {
   "cell_type": "code",
   "execution_count": 207,
   "id": "ca65253a-6bdf-4764-bba6-9466db2d0d82",
   "metadata": {},
   "outputs": [
    {
     "data": {
      "text/plain": [
       "(35205, 9)"
      ]
     },
     "execution_count": 207,
     "metadata": {},
     "output_type": "execute_result"
    }
   ],
   "source": [
    "Q1 = MiceImputed.quantile(0.25)\n",
    "Q3 = MiceImputed.quantile(0.75)\n",
    "IQR = Q3 - Q1\n",
    "\n",
    "MiceImputed = MiceImputed[~((MiceImputed < (Q1 - 1.5 * IQR)) |(MiceImputed > (Q3 + 1.5 * IQR))).any(axis=1)]\n",
    "MiceImputed.shape"
   ]
  },
  {
   "cell_type": "code",
   "execution_count": 208,
   "id": "4b7eb7e3-1237-4db2-a852-66bc7e47b027",
   "metadata": {},
   "outputs": [],
   "source": [
    "combined[features] = MiceImputed"
   ]
  },
  {
   "cell_type": "markdown",
   "id": "ebee8c82-e4f6-45af-b8bf-42e817f6bc01",
   "metadata": {},
   "source": [
    "# Train"
   ]
  },
  {
   "cell_type": "code",
   "execution_count": 209,
   "id": "52b1de36-5db2-4a11-b12f-73c3150f5700",
   "metadata": {},
   "outputs": [],
   "source": [
    "# Define Datasets\n",
    "X = combined[combined['label'] == 'train'][features]\n",
    "y = combined[combined['label'] == 'train'][TARGET]\n",
    "test = combined[combined['label'] == 'test'][features]"
   ]
  },
  {
   "cell_type": "code",
   "execution_count": 210,
   "id": "d7065181-77f1-4470-a29a-15cd40532c6a",
   "metadata": {},
   "outputs": [],
   "source": [
    "# Split\n",
    "X_train, X_test, y_train, y_test = train_test_split(X, y, test_size=0.2, random_state=40)\n"
   ]
  },
  {
   "cell_type": "code",
   "execution_count": 211,
   "id": "1cf7f41f-756e-40fe-a452-1763a35c5e32",
   "metadata": {},
   "outputs": [],
   "source": [
    "# Create Model                                                                                                                                    \n",
    "model = XGBClassifier(\n",
    "                learning_rate = 0.01,\n",
    "                 n_estimators= 1000,\n",
    "                 max_depth= 4,\n",
    "                 min_child_weight= 1,\n",
    "                 #gamma=0.9,                        \n",
    "                 #subsample=0.8,\n",
    "                 #colsample_bytree=0.8,\n",
    "                 #objective= 'binary:logistic',\n",
    "                 #nthread= -1,\n",
    "                 use_label_encoder=False,\n",
    "                 #scale_pos_weight=1\n",
    "                )"
   ]
  },
  {
   "cell_type": "code",
   "execution_count": 212,
   "id": "4afe9650-e911-426c-8dc9-f1d10a304632",
   "metadata": {},
   "outputs": [
    {
     "data": {
      "text/plain": [
       "XGBClassifier(base_score=0.5, booster='gbtree', colsample_bylevel=1,\n",
       "              colsample_bynode=1, colsample_bytree=1, gamma=0, gpu_id=-1,\n",
       "              importance_type='gain', interaction_constraints='',\n",
       "              learning_rate=0.01, max_delta_step=0, max_depth=4,\n",
       "              min_child_weight=1, missing=nan, monotone_constraints='()',\n",
       "              n_estimators=1000, n_jobs=12, num_parallel_tree=1, random_state=0,\n",
       "              reg_alpha=0, reg_lambda=1, scale_pos_weight=1, subsample=1,\n",
       "              tree_method='exact', use_label_encoder=False,\n",
       "              validate_parameters=1, verbosity=None)"
      ]
     },
     "execution_count": 212,
     "metadata": {},
     "output_type": "execute_result"
    }
   ],
   "source": [
    "model.fit(\n",
    "    X_train,\n",
    "    y_train,\n",
    "    eval_metric=\"logloss\",\n",
    "   )"
   ]
  },
  {
   "cell_type": "markdown",
   "id": "c7a1bfdc-88cf-446b-bb00-778c3ac58cf3",
   "metadata": {},
   "source": [
    "# Check Results"
   ]
  },
  {
   "cell_type": "code",
   "execution_count": 213,
   "id": "f71fa385-5afe-4696-ae30-128691529fe6",
   "metadata": {},
   "outputs": [
    {
     "name": "stderr",
     "output_type": "stream",
     "text": [
      "/home/neil/anaconda3/envs/ds_py_3.8/lib/python3.8/site-packages/xgboost/data.py:112: UserWarning: Use subset (sliced data) of np.ndarray is not recommended because it will generate extra copies and increase memory consumption\n",
      "  warnings.warn(\n"
     ]
    }
   ],
   "source": [
    "y_pred = model.predict(X_test)\n",
    "probs = model.predict_proba(X_test)"
   ]
  },
  {
   "cell_type": "code",
   "execution_count": 214,
   "id": "94df2eae-afa9-4e36-9060-0ac0461582bb",
   "metadata": {},
   "outputs": [
    {
     "name": "stdout",
     "output_type": "stream",
     "text": [
      "7.358247752243705\n",
      "0.7869571574791636\n"
     ]
    }
   ],
   "source": [
    "print(metrics.log_loss(y_test, y_pred))\n",
    "print(metrics.accuracy_score(y_test, y_pred))"
   ]
  },
  {
   "cell_type": "code",
   "execution_count": 59,
   "id": "598a2a11-2ca6-4c57-b7ec-23d91aac66f0",
   "metadata": {},
   "outputs": [
    {
     "data": {
      "text/plain": [
       "array([0, 0, 0, ..., 0, 0, 0])"
      ]
     },
     "execution_count": 59,
     "metadata": {},
     "output_type": "execute_result"
    }
   ],
   "source": [
    "y_pred"
   ]
  },
  {
   "cell_type": "markdown",
   "id": "82fa09ac-0197-48d0-9157-d15b36c9e30e",
   "metadata": {},
   "source": [
    "# Create Pipeline"
   ]
  },
  {
   "cell_type": "code",
   "execution_count": 108,
   "id": "b1fbaf03-2a8a-4ad1-b1a7-c60444106ec9",
   "metadata": {},
   "outputs": [],
   "source": [
    "def split(data, to_drop, submission=False):\n",
    "    if submission == True:\n",
    "        print(\"Submission\")\n",
    "        X_train = combined[combined['label'] == 'train'].drop(to_drop, axis=1)\n",
    "        y_train = combined[combined['label'] == 'train'][TARGET]\n",
    "        y_train['rain_tomorrow'] = y_train['rain_tomorrow'].astype(float)\n",
    "        y_train['rain_tomorrow'] = y_train['rain_tomorrow'].astype(int)\n",
    "        X_test = combined[combined['label'] == 'test'].drop(to_drop, axis=1)\n",
    "        y_test = [0,0,0]\n",
    "    else:\n",
    "        X = combined[combined['label'] == 'train'].drop(to_drop, axis=1)\n",
    "        y = combined[combined['label'] == 'train'][TARGET]\n",
    "        X_train, X_test, y_train, y_test = train_test_split(X, y, test_size=0.2, random_state=40)\n",
    "    \n",
    "    numeric_transformer = Pipeline(steps=[\n",
    "                            ('imputer', SimpleImputer(strategy='mean')),\n",
    "                            ('scaler', StandardScaler())])\n",
    "\n",
    "    categorical_transformer = Pipeline(steps=[\n",
    "                                ('imputer', SimpleImputer(strategy='constant', fill_value=9)),\n",
    "                                ('onehot', OneHotEncoder(handle_unknown='ignore'))\n",
    "                                #('ordinal', OrdinalEncoder(unknown_value=np.nan, handle_unknown='use_encoded_value'))\n",
    "                                ])\n",
    "\n",
    "    preprocessor = ColumnTransformer(\n",
    "        transformers=[\n",
    "            ('num', numeric_transformer, numeric_features),\n",
    "            ('cat', categorical_transformer, categorical_features)])\n",
    "\n",
    "\n",
    "    classifier = XGBClassifier(\n",
    "                    learning_rate = 0.1,\n",
    "                     n_estimators= 1000,\n",
    "                     max_depth= 4,\n",
    "                     min_child_weight= 1,\n",
    "                     #gamma=0.9,                        \n",
    "                     #subsample=0.8,\n",
    "                     #colsample_bytree=0.8,\n",
    "                     #objective= 'binary:logistic',\n",
    "                     #nthread= -1,\n",
    "                     use_label_encoder=False,\n",
    "                     #scale_pos_weight=1\n",
    "                    )\n",
    "    \n",
    "    grid = GridSearchCV(classifier,\n",
    "                param_grid={\n",
    "                   'XGBClassifier__max_depth': [1,2,4,10],\n",
    "                    'XGBClassifier__min_child_weight' : [1,5,10],\n",
    "                    'XGBClassifier__n_estimators' : [100,500,1000,2000] ,\n",
    "                     'XGBClassifier__learning_rate' : [.1,.01] ,\n",
    "                            },\n",
    "                 cv=2,\n",
    "               refit=True)\n",
    "\n",
    "    pipe = Pipeline(steps=[('preprocessor', preprocessor),       \n",
    "                      ('classifier',classifier)])\n",
    "\n",
    "    pipe.fit(\n",
    "        X_train,\n",
    "        y_train,\n",
    "        classifier__eval_metric=\"logloss\",\n",
    "       )\n",
    "    \n",
    "    y_pred = pipe.predict(X_test)\n",
    "    probs = pipe.predict_proba(X_test)\n",
    "    \n",
    "    if submission == False: \n",
    "        print(metrics.log_loss(y_test, y_pred))\n",
    "        print(metrics.accuracy_score(y_test, y_pred))\n",
    "    \n",
    "    return y_pred"
   ]
  },
  {
   "cell_type": "code",
   "execution_count": 109,
   "id": "a4524a8a-2511-4177-8d36-facd164d5ae1",
   "metadata": {},
   "outputs": [
    {
     "name": "stdout",
     "output_type": "stream",
     "text": [
      "5.550277166554575\n",
      "0.8393039918116684\n"
     ]
    }
   ],
   "source": [
    "y_pred = split(combined,to_drop,submission=False)"
   ]
  },
  {
   "cell_type": "code",
   "execution_count": 110,
   "id": "c3308f16-0f9d-4798-9c55-686a58c0e494",
   "metadata": {},
   "outputs": [],
   "source": [
    "## BEST"
   ]
  },
  {
   "cell_type": "code",
   "execution_count": 111,
   "id": "d3285c6b-f6d1-46d8-9a5b-dcebdb28d9f7",
   "metadata": {},
   "outputs": [
    {
     "name": "stdout",
     "output_type": "stream",
     "text": [
      "5.550277166554575\n",
      "0.8393039918116684\n"
     ]
    }
   ],
   "source": [
    "y_pred = split(combined,to_drop,submission=False)"
   ]
  },
  {
   "cell_type": "markdown",
   "id": "b2d5822a-a356-41c0-90ca-092b749a167d",
   "metadata": {},
   "source": [
    "# Submissions"
   ]
  },
  {
   "cell_type": "code",
   "execution_count": 112,
   "id": "5626eeff-ab99-4af4-8d6c-a102be890364",
   "metadata": {},
   "outputs": [
    {
     "name": "stdout",
     "output_type": "stream",
     "text": [
      "Submission\n"
     ]
    }
   ],
   "source": [
    "y_pred = split(combined,to_drop,submission=True)"
   ]
  },
  {
   "cell_type": "code",
   "execution_count": 116,
   "id": "ee9cf864-a70f-455e-a662-98bc13d6a122",
   "metadata": {},
   "outputs": [
    {
     "data": {
      "text/plain": [
       "array([0, 0, 0, ..., 0, 0, 0])"
      ]
     },
     "execution_count": 116,
     "metadata": {},
     "output_type": "execute_result"
    }
   ],
   "source": [
    "y_pred"
   ]
  },
  {
   "cell_type": "code",
   "execution_count": 117,
   "id": "5610b145-e4e2-4705-b635-c42d82f57e45",
   "metadata": {},
   "outputs": [],
   "source": [
    "test = pd.read_csv(TEST_PATH)\n",
    "test['rain_tomorrow'] = y_pred"
   ]
  },
  {
   "cell_type": "code",
   "execution_count": 118,
   "id": "7afaccaf-f21a-479f-83da-30147bc6bd0c",
   "metadata": {},
   "outputs": [],
   "source": [
    "submit = test[['id','rain_tomorrow']]"
   ]
  },
  {
   "cell_type": "code",
   "execution_count": 119,
   "id": "a62f9c7a-a4fa-451a-a133-7d9754255051",
   "metadata": {},
   "outputs": [],
   "source": [
    "submit.to_csv('submission.csv', index=False)"
   ]
  },
  {
   "cell_type": "code",
   "execution_count": 120,
   "id": "2ca8984d-f1e0-4bd3-9215-5daed1396002",
   "metadata": {},
   "outputs": [
    {
     "name": "stdout",
     "output_type": "stream",
     "text": [
      "Warning: Your Kaggle API key is readable by other users on this system! To fix this, you can run 'chmod 600 /home/neil/kaggle/kaggle.json'\n",
      "Warning: Looks like you're using an outdated API Version, please consider updating (server 1.5.12 / client 1.5.8)\n",
      "100%|█████████████████████████████████████████| 111k/111k [00:00<00:00, 127kB/s]\n",
      "Successfully submitted to SLICED s01e04"
     ]
    }
   ],
   "source": [
    "! kaggle competitions submit -c sliced-s01e04-knyna9 -f submission.csv -m \"no date, no feature engineer\""
   ]
  },
  {
   "cell_type": "code",
   "execution_count": null,
   "id": "9356d559-6389-4c2e-8d28-be3ec904c6ec",
   "metadata": {},
   "outputs": [],
   "source": []
  }
 ],
 "metadata": {
  "kernelspec": {
   "display_name": "ds_py_3.8",
   "language": "python",
   "name": "ds_py_3.8"
  },
  "language_info": {
   "codemirror_mode": {
    "name": "ipython",
    "version": 3
   },
   "file_extension": ".py",
   "mimetype": "text/x-python",
   "name": "python",
   "nbconvert_exporter": "python",
   "pygments_lexer": "ipython3",
   "version": "3.8.10"
  }
 },
 "nbformat": 4,
 "nbformat_minor": 5
}
