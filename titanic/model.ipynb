{
 "cells": [
  {
   "cell_type": "code",
   "execution_count": 412,
   "id": "statutory-yeast",
   "metadata": {},
   "outputs": [],
   "source": [
    "import datetime\n",
    "import pandas as pd\n",
    "import matplotlib.pyplot as plt\n",
    "import numpy as np\n",
    "import re\n",
    "import seaborn as sns\n",
    "#import plotly.express as px\n",
    "\n",
    "from pandas_profiling import ProfileReport\n",
    "from sklearn import metrics\n",
    "from sklearn.preprocessing import OrdinalEncoder\n",
    "from xgboost import XGBClassifier\n",
    "from xgboost import plot_importance"
   ]
  },
  {
   "cell_type": "code",
   "execution_count": 431,
   "id": "04c39ce8-0ef6-4ef3-b7dc-2e6ab84a2678",
   "metadata": {},
   "outputs": [],
   "source": [
    "KAGGLE_EVAL_METRIC = 'logloss' # string name for loss function in xgboost"
   ]
  },
  {
   "cell_type": "code",
   "execution_count": 432,
   "id": "eligible-convergence",
   "metadata": {},
   "outputs": [],
   "source": [
    "TRAIN_PATH = \"data/train.csv\"\n",
    "TEST_PATH = \"data/test.csv\""
   ]
  },
  {
   "cell_type": "markdown",
   "id": "small-reservation",
   "metadata": {},
   "source": [
    "# Load Data"
   ]
  },
  {
   "cell_type": "code",
   "execution_count": 433,
   "id": "interracial-graduate",
   "metadata": {},
   "outputs": [],
   "source": [
    "train = pd.read_csv(TRAIN_PATH)\n",
    "test = pd.read_csv(TEST_PATH)"
   ]
  },
  {
   "cell_type": "markdown",
   "id": "peripheral-interview",
   "metadata": {},
   "source": [
    "# Pre-Processing"
   ]
  },
  {
   "cell_type": "code",
   "execution_count": 434,
   "id": "d5b14788-6375-4629-af6b-4a45d56fc88b",
   "metadata": {},
   "outputs": [],
   "source": [
    "# NLP STUFF"
   ]
  },
  {
   "cell_type": "code",
   "execution_count": 435,
   "id": "042a5235-4ff7-48d2-95fc-5cbe43e7c980",
   "metadata": {},
   "outputs": [],
   "source": [
    "## Helper functions\n",
    "def get_nickanme(x):\n",
    "    if \"(\" in x:\n",
    "        nickname = re.findall('\\(.*?\\)',x)[0]\n",
    "    elif '\"' in x:\n",
    "        nickname = re.findall('\\\".*?\\\"',x)[0]\n",
    "    else:\n",
    "        nickname = \"none\"\n",
    "    return nickname\n",
    "\n",
    "def get_lastname(name, first_name, title, nickname):\n",
    "    last_name = name.replace(first_name,'')\n",
    "    last_name = last_name.replace(title,'')\n",
    "    last_name = last_name.replace(nickname,'')\n",
    "    last_name = last_name.replace(',','')\n",
    "    return last_name\n",
    "\n",
    "def replace_last(source_string, replace_what):\n",
    "    head, _sep, tail = source_string.rpartition(replace_what)\n",
    "    return head + \"\" + tail\n"
   ]
  },
  {
   "cell_type": "code",
   "execution_count": 436,
   "id": "4061dc81-ae00-411e-929a-b70f56af3361",
   "metadata": {},
   "outputs": [],
   "source": [
    "# lower case\n",
    "train.Name = train.Name.str.lower()\n",
    "\n",
    "## first name, title, nickname\n",
    "train['First Name'] = train['Name'].apply(lambda x: x.split(\",\")[0])\n",
    "train['Title'] = train['Name'].apply(lambda x: x.split(\",\")[1].split()[0])\n",
    "train['Nickname'] = train['Name'].apply(lambda x: get_nickanme(x))\n",
    "train['Last Name'] = train.apply(lambda x: get_lastname(x['Name'], x['First Name'],x['Title'],x['Nickname']), axis=1)\n",
    "train['Junior'] = train['Last Name'].apply(lambda x: x.endswith((\"jr\",\"ii\")))\n",
    "train['Last Name'] = train['Name'].apply(lambda x: replace_last(x, \"jr\"))\n",
    "train['Last Name'] = train['Name'].apply(lambda x: replace_last(x, \"ii\"))"
   ]
  },
  {
   "cell_type": "code",
   "execution_count": 437,
   "id": "b75f7af2-9855-45a2-a0a3-2b732ff4c39c",
   "metadata": {},
   "outputs": [],
   "source": [
    "# lower case\n",
    "test.Name = test.Name.str.lower()\n",
    "\n",
    "## first name, title, nickname\n",
    "test['First Name'] = test['Name'].apply(lambda x: x.split(\",\")[0])\n",
    "test['Title'] = test['Name'].apply(lambda x: x.split(\",\")[1].split()[0])\n",
    "test['Nickname'] = test['Name'].apply(lambda x: get_nickanme(x))\n",
    "test['Last Name'] = test.apply(lambda x: get_lastname(x['Name'], x['First Name'],x['Title'],x['Nickname']), axis=1)\n",
    "test['Junior'] = test['Last Name'].apply(lambda x: x.endswith((\"jr\",\"ii\")))\n",
    "test['Last Name'] = test['Name'].apply(lambda x: replace_last(x, \"jr\"))\n",
    "test['Last Name'] = test['Name'].apply(lambda x: replace_last(x, \"ii\"))"
   ]
  },
  {
   "cell_type": "markdown",
   "id": "a7329c5a-6897-44f9-a84a-1fcafcb680e9",
   "metadata": {},
   "source": [
    "## Define Features and Target"
   ]
  },
  {
   "cell_type": "code",
   "execution_count": 438,
   "id": "7d0116a1-1fc0-410e-9c25-cde7272664d6",
   "metadata": {},
   "outputs": [
    {
     "data": {
      "text/html": [
       "<div>\n",
       "<style scoped>\n",
       "    .dataframe tbody tr th:only-of-type {\n",
       "        vertical-align: middle;\n",
       "    }\n",
       "\n",
       "    .dataframe tbody tr th {\n",
       "        vertical-align: top;\n",
       "    }\n",
       "\n",
       "    .dataframe thead th {\n",
       "        text-align: right;\n",
       "    }\n",
       "</style>\n",
       "<table border=\"1\" class=\"dataframe\">\n",
       "  <thead>\n",
       "    <tr style=\"text-align: right;\">\n",
       "      <th></th>\n",
       "      <th>PassengerId</th>\n",
       "      <th>Survived</th>\n",
       "      <th>Pclass</th>\n",
       "      <th>Name</th>\n",
       "      <th>Sex</th>\n",
       "      <th>Age</th>\n",
       "      <th>SibSp</th>\n",
       "      <th>Parch</th>\n",
       "      <th>Ticket</th>\n",
       "      <th>Fare</th>\n",
       "      <th>Cabin</th>\n",
       "      <th>Embarked</th>\n",
       "      <th>First Name</th>\n",
       "      <th>Title</th>\n",
       "      <th>Nickname</th>\n",
       "      <th>Last Name</th>\n",
       "      <th>Junior</th>\n",
       "    </tr>\n",
       "  </thead>\n",
       "  <tbody>\n",
       "    <tr>\n",
       "      <th>0</th>\n",
       "      <td>1</td>\n",
       "      <td>0</td>\n",
       "      <td>3</td>\n",
       "      <td>braund, mr. owen harris</td>\n",
       "      <td>male</td>\n",
       "      <td>22.0</td>\n",
       "      <td>1</td>\n",
       "      <td>0</td>\n",
       "      <td>A/5 21171</td>\n",
       "      <td>7.2500</td>\n",
       "      <td>NaN</td>\n",
       "      <td>S</td>\n",
       "      <td>braund</td>\n",
       "      <td>mr.</td>\n",
       "      <td>none</td>\n",
       "      <td>braund, mr. owen harris</td>\n",
       "      <td>False</td>\n",
       "    </tr>\n",
       "    <tr>\n",
       "      <th>1</th>\n",
       "      <td>2</td>\n",
       "      <td>1</td>\n",
       "      <td>1</td>\n",
       "      <td>cumings, mrs. john bradley (florence briggs th...</td>\n",
       "      <td>female</td>\n",
       "      <td>38.0</td>\n",
       "      <td>1</td>\n",
       "      <td>0</td>\n",
       "      <td>PC 17599</td>\n",
       "      <td>71.2833</td>\n",
       "      <td>C85</td>\n",
       "      <td>C</td>\n",
       "      <td>cumings</td>\n",
       "      <td>mrs.</td>\n",
       "      <td>(florence briggs thayer)</td>\n",
       "      <td>cumings, mrs. john bradley (florence briggs th...</td>\n",
       "      <td>False</td>\n",
       "    </tr>\n",
       "    <tr>\n",
       "      <th>2</th>\n",
       "      <td>3</td>\n",
       "      <td>1</td>\n",
       "      <td>3</td>\n",
       "      <td>heikkinen, miss. laina</td>\n",
       "      <td>female</td>\n",
       "      <td>26.0</td>\n",
       "      <td>0</td>\n",
       "      <td>0</td>\n",
       "      <td>STON/O2. 3101282</td>\n",
       "      <td>7.9250</td>\n",
       "      <td>NaN</td>\n",
       "      <td>S</td>\n",
       "      <td>heikkinen</td>\n",
       "      <td>miss.</td>\n",
       "      <td>none</td>\n",
       "      <td>heikkinen, miss. laina</td>\n",
       "      <td>False</td>\n",
       "    </tr>\n",
       "    <tr>\n",
       "      <th>3</th>\n",
       "      <td>4</td>\n",
       "      <td>1</td>\n",
       "      <td>1</td>\n",
       "      <td>futrelle, mrs. jacques heath (lily may peel)</td>\n",
       "      <td>female</td>\n",
       "      <td>35.0</td>\n",
       "      <td>1</td>\n",
       "      <td>0</td>\n",
       "      <td>113803</td>\n",
       "      <td>53.1000</td>\n",
       "      <td>C123</td>\n",
       "      <td>S</td>\n",
       "      <td>futrelle</td>\n",
       "      <td>mrs.</td>\n",
       "      <td>(lily may peel)</td>\n",
       "      <td>futrelle, mrs. jacques heath (lily may peel)</td>\n",
       "      <td>False</td>\n",
       "    </tr>\n",
       "    <tr>\n",
       "      <th>4</th>\n",
       "      <td>5</td>\n",
       "      <td>0</td>\n",
       "      <td>3</td>\n",
       "      <td>allen, mr. william henry</td>\n",
       "      <td>male</td>\n",
       "      <td>35.0</td>\n",
       "      <td>0</td>\n",
       "      <td>0</td>\n",
       "      <td>373450</td>\n",
       "      <td>8.0500</td>\n",
       "      <td>NaN</td>\n",
       "      <td>S</td>\n",
       "      <td>allen</td>\n",
       "      <td>mr.</td>\n",
       "      <td>none</td>\n",
       "      <td>allen, mr. william henry</td>\n",
       "      <td>False</td>\n",
       "    </tr>\n",
       "  </tbody>\n",
       "</table>\n",
       "</div>"
      ],
      "text/plain": [
       "   PassengerId  Survived  Pclass  \\\n",
       "0            1         0       3   \n",
       "1            2         1       1   \n",
       "2            3         1       3   \n",
       "3            4         1       1   \n",
       "4            5         0       3   \n",
       "\n",
       "                                                Name     Sex   Age  SibSp  \\\n",
       "0                            braund, mr. owen harris    male  22.0      1   \n",
       "1  cumings, mrs. john bradley (florence briggs th...  female  38.0      1   \n",
       "2                             heikkinen, miss. laina  female  26.0      0   \n",
       "3       futrelle, mrs. jacques heath (lily may peel)  female  35.0      1   \n",
       "4                           allen, mr. william henry    male  35.0      0   \n",
       "\n",
       "   Parch            Ticket     Fare Cabin Embarked First Name  Title  \\\n",
       "0      0         A/5 21171   7.2500   NaN        S     braund    mr.   \n",
       "1      0          PC 17599  71.2833   C85        C    cumings   mrs.   \n",
       "2      0  STON/O2. 3101282   7.9250   NaN        S  heikkinen  miss.   \n",
       "3      0            113803  53.1000  C123        S   futrelle   mrs.   \n",
       "4      0            373450   8.0500   NaN        S      allen    mr.   \n",
       "\n",
       "                   Nickname  \\\n",
       "0                      none   \n",
       "1  (florence briggs thayer)   \n",
       "2                      none   \n",
       "3           (lily may peel)   \n",
       "4                      none   \n",
       "\n",
       "                                           Last Name  Junior  \n",
       "0                            braund, mr. owen harris   False  \n",
       "1  cumings, mrs. john bradley (florence briggs th...   False  \n",
       "2                             heikkinen, miss. laina   False  \n",
       "3       futrelle, mrs. jacques heath (lily may peel)   False  \n",
       "4                           allen, mr. william henry   False  "
      ]
     },
     "execution_count": 438,
     "metadata": {},
     "output_type": "execute_result"
    }
   ],
   "source": [
    "train.head()"
   ]
  },
  {
   "cell_type": "code",
   "execution_count": 439,
   "id": "f5c5f169-97e5-4596-b030-dc8e99319124",
   "metadata": {},
   "outputs": [],
   "source": [
    "target = train[\"Survived\"]\n",
    "categorical = ['Pclass','Name','Sex','Ticket','Cabin','Embarked','Title','Junior','Nickname']\n",
    "ordinal = ['Age','SibSp','Parch','Fare']\n",
    "drop_columns = [\"SibSp\",\"Parch\",\"Name\",\"Ticket\",'Nickname']"
   ]
  },
  {
   "cell_type": "code",
   "execution_count": 440,
   "id": "9b83cf24-f6d0-483a-a788-b70f8d960380",
   "metadata": {},
   "outputs": [],
   "source": [
    "def feature_selection(drop_cols, categorical_cols, ordinal_cols):\n",
    "    for column in drop_cols:\n",
    "        if column in categorical_cols: categorical_cols.remove(column)\n",
    "        if column in ordinal_cols: ordinal_cols.remove(column)\n",
    "    features = categorical_cols + ordinal_cols\n",
    "    return features"
   ]
  },
  {
   "cell_type": "code",
   "execution_count": 441,
   "id": "04b9a755-d6df-4dde-876c-fa53eff153bf",
   "metadata": {},
   "outputs": [],
   "source": [
    "features = feature_selection(drop_columns,categorical,ordinal)"
   ]
  },
  {
   "cell_type": "code",
   "execution_count": 442,
   "id": "cd04c3da-3228-491d-a1e7-3db043da1e34",
   "metadata": {},
   "outputs": [],
   "source": [
    "train = train[features] \n",
    "test = test[features]"
   ]
  },
  {
   "cell_type": "markdown",
   "id": "informational-darwin",
   "metadata": {},
   "source": [
    "---\n",
    "\n",
    "Combine train + test to ensure they receive the same preproccessing (category indexs)"
   ]
  },
  {
   "cell_type": "code",
   "execution_count": 443,
   "id": "024cbf7f-4c08-4c67-a8c0-b75b9f19990c",
   "metadata": {},
   "outputs": [],
   "source": [
    "train['label'] = 'train'\n",
    "test['label'] = 'test'\n",
    "\n",
    "to_clean = train.append(test)"
   ]
  },
  {
   "cell_type": "markdown",
   "id": "c05aec71-a5fe-46a2-9a09-7cdbe39383d8",
   "metadata": {},
   "source": [
    "---\n",
    "\n",
    "## NULLS\n",
    "To start we'll use XGBOOST and let the algo deal with nulll.\n",
    "- Age: \n",
    "- SibSpa\n",
    "- Parch\n",
    "- Fare:\n",
    "- Embark: \n",
    "\n",
    "Future iterations, we can improve score by doing a better job with our NULL values."
   ]
  },
  {
   "cell_type": "code",
   "execution_count": 444,
   "id": "b4481f7d-5a37-439d-bb3b-cdce2762a1d5",
   "metadata": {},
   "outputs": [],
   "source": [
    "#train = train.fillna(-1)\n",
    "#test = test.fillna(-1)"
   ]
  },
  {
   "cell_type": "markdown",
   "id": "742850a3-c9c2-48e7-9a92-2e5c4eac2a5e",
   "metadata": {},
   "source": [
    "--- \n",
    "\n",
    "## Categorical Data\n",
    "Transform categorical features to integer representatins"
   ]
  },
  {
   "cell_type": "code",
   "execution_count": 445,
   "id": "varied-correlation",
   "metadata": {},
   "outputs": [
    {
     "name": "stderr",
     "output_type": "stream",
     "text": [
      "<ipython-input-445-e4c6efef39e0>:9: SettingWithCopyWarning: \n",
      "A value is trying to be set on a copy of a slice from a DataFrame.\n",
      "Try using .loc[row_indexer,col_indexer] = value instead\n",
      "\n",
      "See the caveats in the documentation: https://pandas.pydata.org/pandas-docs/stable/user_guide/indexing.html#returning-a-view-versus-a-copy\n",
      "  df[field] = object_features[field].cat.codes\n"
     ]
    }
   ],
   "source": [
    "# categorical encoding\n",
    "def objects_to_category(df):\n",
    "    '''\n",
    "    function that converts objects to categorical features.\n",
    "    '''\n",
    "    object_cols = df.columns.tolist()\n",
    "    object_features = df[object_cols].astype(\"category\")\n",
    "    for field in object_cols:\n",
    "        df[field] = object_features[field].cat.codes\n",
    "    return df\n",
    "\n",
    "to_clean[categorical] = objects_to_category(to_clean[categorical])\n",
    "to_clean[categorical] = objects_to_category(to_clean[categorical])"
   ]
  },
  {
   "cell_type": "code",
   "execution_count": 446,
   "id": "179a76e8-27db-4dde-8558-1476651209fc",
   "metadata": {},
   "outputs": [
    {
     "data": {
      "text/html": [
       "<div>\n",
       "<style scoped>\n",
       "    .dataframe tbody tr th:only-of-type {\n",
       "        vertical-align: middle;\n",
       "    }\n",
       "\n",
       "    .dataframe tbody tr th {\n",
       "        vertical-align: top;\n",
       "    }\n",
       "\n",
       "    .dataframe thead th {\n",
       "        text-align: right;\n",
       "    }\n",
       "</style>\n",
       "<table border=\"1\" class=\"dataframe\">\n",
       "  <thead>\n",
       "    <tr style=\"text-align: right;\">\n",
       "      <th></th>\n",
       "      <th>Pclass</th>\n",
       "      <th>Sex</th>\n",
       "      <th>Cabin</th>\n",
       "      <th>Embarked</th>\n",
       "      <th>Title</th>\n",
       "      <th>Junior</th>\n",
       "      <th>Age</th>\n",
       "      <th>Fare</th>\n",
       "      <th>label</th>\n",
       "    </tr>\n",
       "  </thead>\n",
       "  <tbody>\n",
       "    <tr>\n",
       "      <th>0</th>\n",
       "      <td>2</td>\n",
       "      <td>1</td>\n",
       "      <td>0</td>\n",
       "      <td>3</td>\n",
       "      <td>12</td>\n",
       "      <td>0</td>\n",
       "      <td>22.0</td>\n",
       "      <td>7.2500</td>\n",
       "      <td>train</td>\n",
       "    </tr>\n",
       "    <tr>\n",
       "      <th>1</th>\n",
       "      <td>0</td>\n",
       "      <td>0</td>\n",
       "      <td>107</td>\n",
       "      <td>1</td>\n",
       "      <td>13</td>\n",
       "      <td>0</td>\n",
       "      <td>38.0</td>\n",
       "      <td>71.2833</td>\n",
       "      <td>train</td>\n",
       "    </tr>\n",
       "    <tr>\n",
       "      <th>2</th>\n",
       "      <td>2</td>\n",
       "      <td>0</td>\n",
       "      <td>0</td>\n",
       "      <td>3</td>\n",
       "      <td>9</td>\n",
       "      <td>0</td>\n",
       "      <td>26.0</td>\n",
       "      <td>7.9250</td>\n",
       "      <td>train</td>\n",
       "    </tr>\n",
       "    <tr>\n",
       "      <th>3</th>\n",
       "      <td>0</td>\n",
       "      <td>0</td>\n",
       "      <td>71</td>\n",
       "      <td>3</td>\n",
       "      <td>13</td>\n",
       "      <td>0</td>\n",
       "      <td>35.0</td>\n",
       "      <td>53.1000</td>\n",
       "      <td>train</td>\n",
       "    </tr>\n",
       "    <tr>\n",
       "      <th>4</th>\n",
       "      <td>2</td>\n",
       "      <td>1</td>\n",
       "      <td>0</td>\n",
       "      <td>3</td>\n",
       "      <td>12</td>\n",
       "      <td>0</td>\n",
       "      <td>35.0</td>\n",
       "      <td>8.0500</td>\n",
       "      <td>train</td>\n",
       "    </tr>\n",
       "  </tbody>\n",
       "</table>\n",
       "</div>"
      ],
      "text/plain": [
       "   Pclass  Sex  Cabin  Embarked  Title  Junior   Age     Fare  label\n",
       "0       2    1      0         3     12       0  22.0   7.2500  train\n",
       "1       0    0    107         1     13       0  38.0  71.2833  train\n",
       "2       2    0      0         3      9       0  26.0   7.9250  train\n",
       "3       0    0     71         3     13       0  35.0  53.1000  train\n",
       "4       2    1      0         3     12       0  35.0   8.0500  train"
      ]
     },
     "execution_count": 446,
     "metadata": {},
     "output_type": "execute_result"
    }
   ],
   "source": [
    "to_clean.head()"
   ]
  },
  {
   "cell_type": "markdown",
   "id": "fb5160ce-6690-444b-b5ee-91bafa641bc7",
   "metadata": {},
   "source": [
    "---\n",
    "\n",
    "## Done"
   ]
  },
  {
   "cell_type": "code",
   "execution_count": 447,
   "id": "fc20cf91-e81c-4fe7-9c6c-e119e3cb92a5",
   "metadata": {},
   "outputs": [],
   "source": [
    "train = to_clean[to_clean['label'] == 'train'].drop('label',axis=1)\n",
    "test = to_clean[to_clean['label'] == 'test'].drop('label',axis=1)"
   ]
  },
  {
   "cell_type": "markdown",
   "id": "bbd39531-b6c0-4b00-94ce-df5655ccaa06",
   "metadata": {},
   "source": [
    "Drop features that we don't want to use"
   ]
  },
  {
   "cell_type": "code",
   "execution_count": 448,
   "id": "0abea4ff-97b8-49f8-bcaf-d688b8bc8abd",
   "metadata": {},
   "outputs": [
    {
     "name": "stdout",
     "output_type": "stream",
     "text": [
      "['Pclass', 'Sex', 'Cabin', 'Embarked', 'Title', 'Junior', 'Age', 'Fare']\n"
     ]
    }
   ],
   "source": [
    "print(features)"
   ]
  },
  {
   "cell_type": "markdown",
   "id": "administrative-survival",
   "metadata": {},
   "source": [
    "# Modeling"
   ]
  },
  {
   "cell_type": "code",
   "execution_count": 449,
   "id": "fabulous-rover",
   "metadata": {},
   "outputs": [],
   "source": [
    "X = train[features]\n",
    "y = target"
   ]
  },
  {
   "cell_type": "code",
   "execution_count": 450,
   "id": "dated-italian",
   "metadata": {},
   "outputs": [],
   "source": [
    "from sklearn.model_selection import train_test_split\n",
    "X_train, X_test, y_train, y_test = train_test_split(X, y, test_size=0.1, random_state=40)\n",
    "X_train, X_val, y_train, y_val = train_test_split(X_train, y_train, test_size=0.1, random_state=1)"
   ]
  },
  {
   "cell_type": "code",
   "execution_count": 451,
   "id": "equipped-regression",
   "metadata": {},
   "outputs": [
    {
     "name": "stdout",
     "output_type": "stream",
     "text": [
      "[15:29:05] WARNING: ../src/learner.cc:573: \n",
      "Parameters: { \"silent\" } might not be used.\n",
      "\n",
      "  This may not be accurate due to some parameters are only used in language bindings but\n",
      "  passed down to XGBoost core.  Or some parameters are not used but slip through this\n",
      "  verification. Please open an issue if you find above cases.\n",
      "\n",
      "\n"
     ]
    },
    {
     "name": "stderr",
     "output_type": "stream",
     "text": [
      "/home/neil/anaconda3/envs/ds_py_3.8/lib/python3.8/site-packages/xgboost/sklearn.py:1146: UserWarning: The use of label encoder in XGBClassifier is deprecated and will be removed in a future release. To remove this warning, do the following: 1) Pass option use_label_encoder=False when constructing XGBClassifier object; and 2) Encode your labels (y) as integers starting with 0, i.e. 0, 1, 2, ..., [num_class - 1].\n",
      "  warnings.warn(label_encoder_deprecation_msg, UserWarning)\n"
     ]
    },
    {
     "data": {
      "text/plain": [
       "XGBClassifier(base_score=0.5, booster='gbtree', colsample_bylevel=1,\n",
       "              colsample_bynode=1, colsample_bytree=1, gamma=0, gpu_id=-1,\n",
       "              importance_type='gain', interaction_constraints='',\n",
       "              learning_rate=0.05, max_delta_step=0, max_depth=4,\n",
       "              min_child_weight=1, missing=nan, monotone_constraints='()',\n",
       "              n_estimators=100, n_jobs=12, num_parallel_tree=1, random_state=0,\n",
       "              reg_alpha=0, reg_lambda=1, scale_pos_weight=1, silent=True,\n",
       "              subsample=1, tree_method='exact', validate_parameters=1,\n",
       "              verbosity=None)"
      ]
     },
     "execution_count": 451,
     "metadata": {},
     "output_type": "execute_result"
    }
   ],
   "source": [
    "#View notbook for details on  Parameter Tuning\n",
    "clf = XGBClassifier(max_depth=4,\n",
    "                    min_child_weight=1,\n",
    "                    learning_rate=0.05,\n",
    "                    n_estimators=100,\n",
    "                    silent=True,\n",
    "                    objective='binary:logistic',\n",
    "                    #gamma=4,\n",
    "                    #max_delta_step=0,\n",
    "                    #subsample=0.88,\n",
    "                    #colsample_bytree=1,\n",
    "                    #colsample_bylevel=1,\n",
    "                    #reg_alpha=0,\n",
    "                    #reg_lambda=0,\n",
    "                    #scale_pos_weight=1,\n",
    "                    #seed=1,\n",
    "                    #missing=None,\n",
    "                    #enable_categorical=True\n",
    "                    )\n",
    "\n",
    "clf.fit(\n",
    "    X_train,\n",
    "    y_train,\n",
    "    eval_metric=KAGGLE_EVAL_METRIC,\n",
    "    eval_set=[(X_train, y_train), (X_val, y_val)], \n",
    "    verbose=False,\n",
    "    early_stopping_rounds = 10\n",
    ")"
   ]
  },
  {
   "cell_type": "code",
   "execution_count": 452,
   "id": "vocational-converter",
   "metadata": {},
   "outputs": [
    {
     "name": "stdout",
     "output_type": "stream",
     "text": [
      "Guess Everyone Survived\n",
      "0.45555555555555555\n",
      "---\n",
      "Model Predicitons\n"
     ]
    },
    {
     "name": "stderr",
     "output_type": "stream",
     "text": [
      "/home/neil/anaconda3/envs/ds_py_3.8/lib/python3.8/site-packages/xgboost/data.py:112: UserWarning: Use subset (sliced data) of np.ndarray is not recommended because it will generate extra copies and increase memory consumption\n",
      "  warnings.warn(\n"
     ]
    },
    {
     "data": {
      "image/png": "[encoded data removed]",
      "text/plain": [
       "<Figure size 800x600 with 2 Axes>"
      ]
     },
     "metadata": {},
     "output_type": "display_data"
    },
    {
     "name": "stdout",
     "output_type": "stream",
     "text": [
      "0.4129093777388334\n",
      "0.8111111111111111\n"
     ]
    }
   ],
   "source": [
    "# riding style null fixed\n",
    "## Create Report\n",
    "y_pred = clf.predict(X_test)\n",
    "probs = clf.predict_proba(X_test)\n",
    "\n",
    "results = pd.DataFrame(y_test)\n",
    "#temp = pd.DataFrame(probs)\n",
    "results['actual_classification'] = y_test\n",
    "results['predicted_classification'] = y_pred\n",
    "results['baseline_classification'] = 1\n",
    "results['buy_prob_28'] = probs[:,1]\n",
    "\n",
    "# baseline\n",
    "print(\"Guess Everyone Survived\")\n",
    "print(metrics.accuracy_score(results['actual_classification'], results['baseline_classification']))\n",
    "print(\"---\")\n",
    "print(\"Model Predicitons\")\n",
    "\n",
    "plt.rcParams[\"figure.figsize\"] = (8, 6)\n",
    "matrix = metrics.confusion_matrix(results['actual_classification'], results['predicted_classification'])\n",
    "sns.heatmap(pd.DataFrame(matrix), annot=True, cmap=\"YlGnBu\" ,fmt='g')\n",
    "plt.show()\n",
    "\n",
    "#classification summary stats\n",
    "print(metrics.log_loss(results['actual_classification'],results['buy_prob_28']))\n",
    "print(metrics.accuracy_score(results['actual_classification'], results['predicted_classification']))\n",
    "#print(metrics.roc_auc_score(results['actual_classification'],results['buy_prob_28']))\n",
    "#print(metrics.brier_score_loss(results['actual_classification'],results['buy_prob_28']))\n",
    "#print(metrics.f1_score(results['actual_classification'], results['predicted_classification']))\n",
    "#print(metrics.recall_score(results['actual_classification'], results['predicted_classification']))\n",
    "#print(metrics.precision_score(results['actual_classification'], results['predicted_classification']))\n",
    "#print(metrics.average_precision_score(results['actual_classification'], results['predicted_classification']))"
   ]
  },
  {
   "cell_type": "code",
   "execution_count": 453,
   "id": "sound-wrapping",
   "metadata": {},
   "outputs": [],
   "source": [
    "## dropping everything made it worst...\n",
    "## Seems like with xgboost, the best thing to do is to get into feature engineering as fast as possible..."
   ]
  },
  {
   "cell_type": "code",
   "execution_count": 454,
   "id": "874f4b84-e7fd-4ed0-ad6a-cbb59e9ea8ed",
   "metadata": {},
   "outputs": [
    {
     "data": {
      "image/png": "[encoded data removed]",
      "text/plain": [
       "<Figure size 800x600 with 1 Axes>"
      ]
     },
     "metadata": {},
     "output_type": "display_data"
    }
   ],
   "source": [
    "plot_importance(clf)\n",
    "plt.show()"
   ]
  },
  {
   "cell_type": "code",
   "execution_count": 259,
   "id": "b0ccd43d-c410-4928-b60e-46f244621c7b",
   "metadata": {},
   "outputs": [],
   "source": [
    "## I would assume \"NAME\", \"TICK\", are over fitting..."
   ]
  },
  {
   "cell_type": "markdown",
   "id": "d5762763-875b-43f6-98bd-22d8f80c7769",
   "metadata": {},
   "source": [
    "## Neil's Custome Pipeline"
   ]
  },
  {
   "cell_type": "code",
   "execution_count": 249,
   "id": "93b7850a-fe24-4d02-9818-87bc20a6e4bf",
   "metadata": {},
   "outputs": [],
   "source": [
    "#load_data()\n",
    "\n",
    "#target = train[\"Survived\"]\n",
    "#categorical = ['Pclass','Name','Sex','Ticket','Cabin','Embarked']\n",
    "#ordinal = ['Age','SibSp','Parch','Fare']\n",
    "#drop_columns = [\"SibSp\",\"Cabin\",\"Ticket\",\"Parch\"]\n",
    "\n",
    "#define features\n",
    "#features = feature_selection(cols_to_drop, cat_cols, num_cols)\n",
    "#train = train[features] \n",
    "#test = test[features]"
   ]
  },
  {
   "cell_type": "code",
   "execution_count": null,
   "id": "5ca8c383-8adc-4f4f-be31-32df254e6882",
   "metadata": {},
   "outputs": [],
   "source": []
  }
 ],
 "metadata": {
  "kernelspec": {
   "display_name": "ds_py_3.8",
   "language": "python",
   "name": "ds_py_3.8"
  },
  "language_info": {
   "codemirror_mode": {
    "name": "ipython",
    "version": 3
   },
   "file_extension": ".py",
   "mimetype": "text/x-python",
   "name": "python",
   "nbconvert_exporter": "python",
   "pygments_lexer": "ipython3",
   "version": "3.8.10"
  }
 },
 "nbformat": 4,
 "nbformat_minor": 5
}
