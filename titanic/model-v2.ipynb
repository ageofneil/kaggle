{
 "cells": [
  {
   "cell_type": "code",
   "execution_count": 70,
   "id": "statutory-yeast",
   "metadata": {},
   "outputs": [],
   "source": [
    "import datetime\n",
    "import pandas as pd\n",
    "import matplotlib.pyplot as plt\n",
    "import numpy as np\n",
    "import re\n",
    "import seaborn as sns\n",
    "#import plotly.express as px\n",
    "\n",
    "from pandas_profiling import ProfileReport\n",
    "from xgboost import XGBClassifier\n",
    "from xgboost import plot_importance\n",
    "\n",
    "# Scikit-learn packages\n",
    "from sklearn import metrics\n",
    "from sklearn.model_selection import train_test_split\n",
    "from sklearn.impute import SimpleImputer\n",
    "from sklearn.pipeline import Pipeline\n",
    "from sklearn.preprocessing import StandardScaler, OneHotEncoder, FunctionTransformer, OrdinalEncoder\n",
    "from sklearn.compose import ColumnTransformer\n",
    "\n",
    "## Import helper functions\n",
    "from ipynb.fs.defs.utils import *"
   ]
  },
  {
   "cell_type": "code",
   "execution_count": 71,
   "id": "04c39ce8-0ef6-4ef3-b7dc-2e6ab84a2678",
   "metadata": {},
   "outputs": [],
   "source": [
    "KAGGLE_EVAL_METRIC = 'logloss' # string name for loss function in xgboost"
   ]
  },
  {
   "cell_type": "code",
   "execution_count": 72,
   "id": "eligible-convergence",
   "metadata": {},
   "outputs": [],
   "source": [
    "TRAIN_PATH = \"data/train.csv\"\n",
    "TEST_PATH = \"data/test.csv\""
   ]
  },
  {
   "cell_type": "code",
   "execution_count": 73,
   "id": "16c3047e-edd9-44ae-8289-f553676dab82",
   "metadata": {},
   "outputs": [],
   "source": [
    "TARGET = [\"Survived\"]"
   ]
  },
  {
   "cell_type": "markdown",
   "id": "small-reservation",
   "metadata": {},
   "source": [
    "# Load Data"
   ]
  },
  {
   "cell_type": "code",
   "execution_count": 254,
   "id": "interracial-graduate",
   "metadata": {},
   "outputs": [],
   "source": [
    "train = pd.read_csv(TRAIN_PATH)\n",
    "test = pd.read_csv(TEST_PATH)"
   ]
  },
  {
   "cell_type": "code",
   "execution_count": 255,
   "id": "aa527b16-72a9-444b-9ef7-4f471cb06116",
   "metadata": {},
   "outputs": [],
   "source": [
    "## Bring in Age Predictions"
   ]
  },
  {
   "cell_type": "code",
   "execution_count": 256,
   "id": "331a849d-a225-4c60-9499-661eea67d8a9",
   "metadata": {},
   "outputs": [],
   "source": [
    "## Creata a combined data set to ensure train + test get same pre-proccessing\n",
    "train['label'] = 'train'\n",
    "test['label'] = 'test'\n",
    "combined = train.append(test)"
   ]
  },
  {
   "cell_type": "markdown",
   "id": "peripheral-interview",
   "metadata": {},
   "source": [
    "# Pre-Processing"
   ]
  },
  {
   "cell_type": "code",
   "execution_count": 107,
   "id": "a077016b-a7ef-4048-944a-d0a46ff07031",
   "metadata": {},
   "outputs": [],
   "source": [
    "combined = nlp_transforms(combined) # name features\n",
    "combined = ticket_transforms(combined) # ticket transforms"
   ]
  },
  {
   "cell_type": "code",
   "execution_count": 108,
   "id": "4dd34d3c-2a4b-4343-8436-268d2cc83a56",
   "metadata": {},
   "outputs": [],
   "source": [
    "combined.Nickname = np.where(combined.Nickname.isnull() == True, 0,1)"
   ]
  },
  {
   "cell_type": "code",
   "execution_count": 109,
   "id": "f013dece-2139-48f4-bcb4-ff35b39c2036",
   "metadata": {},
   "outputs": [],
   "source": [
    "combined.Junior = np.where(combined.Junior.isnull() == True, 0,1)"
   ]
  },
  {
   "cell_type": "code",
   "execution_count": 110,
   "id": "b4d8764d-02fa-4b97-82e0-2f5a8054a235",
   "metadata": {},
   "outputs": [],
   "source": [
    "combined.Cabin = combined.Cabin.astype(str)\n",
    "combined.Cabin = combined.Cabin.apply(lambda x: x[0])"
   ]
  },
  {
   "cell_type": "code",
   "execution_count": 111,
   "id": "a8a9e098-fa32-49fd-a0af-2bbf8e99d44f",
   "metadata": {},
   "outputs": [],
   "source": [
    "combined['family_size'] = combined.SibSp + combined.Parch + 1"
   ]
  },
  {
   "cell_type": "markdown",
   "id": "a7329c5a-6897-44f9-a84a-1fcafcb680e9",
   "metadata": {},
   "source": [
    "## Define Features and Target\n",
    "Define categorical and numeric features manually because sometimes cols of type float/int should be categorical and vice versa"
   ]
  },
  {
   "cell_type": "code",
   "execution_count": 112,
   "id": "5af8f140-d945-4753-bfda-6c8ea326a798",
   "metadata": {},
   "outputs": [
    {
     "data": {
      "text/plain": [
       "Index(['PassengerId', 'Survived', 'Pclass', 'Name', 'Sex', 'Age', 'SibSp',\n",
       "       'Parch', 'Ticket', 'Fare', 'Cabin', 'Embarked', 'label', 'First Name',\n",
       "       'Title', 'Nickname', 'Last Name', 'Junior', 'Middle Names',\n",
       "       'Ticket Number', 'Ticket Type', 'family_size'],\n",
       "      dtype='object')"
      ]
     },
     "execution_count": 112,
     "metadata": {},
     "output_type": "execute_result"
    }
   ],
   "source": [
    "combined.columns"
   ]
  },
  {
   "cell_type": "code",
   "execution_count": 153,
   "id": "5f67dcb9-7b42-4ca4-8b69-e60ca452ba58",
   "metadata": {},
   "outputs": [],
   "source": [
    "## helper to build feature list\n",
    "all_categorical_features = ['Pclass','Name','Sex','Ticket','Cabin','Embarked','Title','Junior','Nickname','Ticket Type','family_size','Cabin']\n",
    "all_numeric_features = ['Age','SibSp','Parch','Fare','Ticket Number']\n",
    "to_drop = [\"PassengerId\",\"Name\",\"Last Name\",\"Survived\",\"Ticket\",\"Ticket Number\", \"Middle Names\",\"label\",\"First Name\",\"SibSp\",\"Parch\"]"
   ]
  },
  {
   "cell_type": "code",
   "execution_count": 154,
   "id": "05793cff-1783-46c1-bf25-c768f4d32616",
   "metadata": {},
   "outputs": [],
   "source": [
    "features,categorical_features,numeric_features = feature_selection(to_drop,all_categorical_features,all_numeric_features)"
   ]
  },
  {
   "cell_type": "code",
   "execution_count": 155,
   "id": "9ad91172-7a3e-4908-a45c-9cb783d8b982",
   "metadata": {},
   "outputs": [],
   "source": [
    "X = combined[combined['label'] == 'train'].drop(to_drop, axis=1)\n",
    "y = combined[combined['label'] == 'train'][TARGET]\n",
    "test = combined[combined['label'] == 'test'].drop(to_drop, axis=1)"
   ]
  },
  {
   "cell_type": "markdown",
   "id": "82fa09ac-0197-48d0-9157-d15b36c9e30e",
   "metadata": {},
   "source": [
    "# Create Pipeline"
   ]
  },
  {
   "cell_type": "code",
   "execution_count": 247,
   "id": "b1fbaf03-2a8a-4ad1-b1a7-c60444106ec9",
   "metadata": {},
   "outputs": [],
   "source": [
    "def split(data, to_drop, submission=False):\n",
    "    if submission == True:\n",
    "        print(\"Submission\")\n",
    "        X_train = combined[combined['label'] == 'train'].drop(to_drop, axis=1)\n",
    "        y_train = combined[combined['label'] == 'train'][TARGET]\n",
    "        X_test = combined[combined['label'] == 'test'].drop(to_drop, axis=1)\n",
    "        y_test = [0,0,0]\n",
    "    else:\n",
    "        X = combined[combined['label'] == 'train'].drop(to_drop, axis=1)\n",
    "        y = combined[combined['label'] == 'train'][TARGET]\n",
    "        X_train, X_test, y_train, y_test = train_test_split(X, y, test_size=0.1, random_state=40)\n",
    "    \n",
    "    numeric_transformer = Pipeline(steps=[\n",
    "                            ('imputer', SimpleImputer(strategy='median')),\n",
    "                            ('scaler', StandardScaler())])\n",
    "\n",
    "    categorical_transformer = Pipeline(steps=[\n",
    "                                ('imputer', SimpleImputer(strategy='constant', fill_value='missing')),\n",
    "                                #('onehot', OneHotEncoder(handle_unknown='ignore'))\n",
    "                                ('ordinal', OrdinalEncoder(unknown_value=np.nan, handle_unknown='use_encoded_value'))\n",
    "                                ])\n",
    "\n",
    "    preprocessor = ColumnTransformer(\n",
    "        transformers=[\n",
    "            ('num', numeric_transformer, numeric_features),\n",
    "            ('cat', categorical_transformer, categorical_features)])\n",
    "\n",
    "\n",
    "    classifier = XGBClassifier(\n",
    "                    learning_rate = 0.01,\n",
    "                     n_estimators= 100,\n",
    "                     max_depth= 4,\n",
    "                     min_child_weight= 1,\n",
    "                     gamma=0.9,                        \n",
    "                     subsample=0.8,\n",
    "                     colsample_bytree=0.8,\n",
    "                     objective= 'binary:logistic',\n",
    "                     nthread= -1,\n",
    "                     use_label_encoder=False,\n",
    "                     scale_pos_weight=1)\n",
    "\n",
    "    pipe = Pipeline(steps=[('preprocessor', preprocessor),\n",
    "                      ('classifier',classifier)])\n",
    "\n",
    "    pipe.fit(\n",
    "        X_train,\n",
    "        y_train,\n",
    "        classifier__eval_metric=\"logloss\",\n",
    "       )\n",
    "    \n",
    "    y_pred = pipe.predict(X_test)\n",
    "    probs = pipe.predict_proba(X_test)\n",
    "    \n",
    "    if submission == False: \n",
    "        print(metrics.log_loss(y_test, y_pred))\n",
    "        print(metrics.accuracy_score(y_test, y_pred))\n",
    "    \n",
    "    return y_pred"
   ]
  },
  {
   "cell_type": "code",
   "execution_count": 248,
   "id": "a4524a8a-2511-4177-8d36-facd164d5ae1",
   "metadata": {},
   "outputs": [
    {
     "name": "stdout",
     "output_type": "stream",
     "text": [
      "Submission\n"
     ]
    }
   ],
   "source": [
    "y_pred = split(combined,to_drop,submission=True)"
   ]
  },
  {
   "cell_type": "code",
   "execution_count": 258,
   "id": "5610b145-e4e2-4705-b635-c42d82f57e45",
   "metadata": {},
   "outputs": [],
   "source": [
    "test = pd.read_csv(TEST_PATH)\n",
    "test['prediction'] = y_pred"
   ]
  },
  {
   "cell_type": "code",
   "execution_count": 263,
   "id": "7afaccaf-f21a-479f-83da-30147bc6bd0c",
   "metadata": {},
   "outputs": [],
   "source": [
    "submit = test[['PassengerId','prediction']]"
   ]
  },
  {
   "cell_type": "code",
   "execution_count": null,
   "id": "2ca8984d-f1e0-4bd3-9215-5daed1396002",
   "metadata": {},
   "outputs": [],
   "source": [
    "#submit.to_csv('data/submission.csv', index=False)\n",
    "#! kaggle competitions submit -c sliced-s01e03-DcSXes -f 'submission.csv' -m \"No feature engineering\""
   ]
  }
 ],
 "metadata": {
  "kernelspec": {
   "display_name": "ds_py_3.8",
   "language": "python",
   "name": "ds_py_3.8"
  },
  "language_info": {
   "codemirror_mode": {
    "name": "ipython",
    "version": 3
   },
   "file_extension": ".py",
   "mimetype": "text/x-python",
   "name": "python",
   "nbconvert_exporter": "python",
   "pygments_lexer": "ipython3",
   "version": "3.8.10"
  }
 },
 "nbformat": 4,
 "nbformat_minor": 5
}
