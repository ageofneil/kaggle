{
 "cells": [
  {
   "cell_type": "code",
   "execution_count": 140,
   "id": "ae836bc0-a37b-4b0b-b875-3758376994b0",
   "metadata": {},
   "outputs": [],
   "source": [
    "#! pip install wurlitzer"
   ]
  },
  {
   "cell_type": "code",
   "execution_count": 735,
   "id": "statutory-yeast",
   "metadata": {},
   "outputs": [],
   "source": [
    "# Standard stack\n",
    "import datetime\n",
    "import pandas as pd\n",
    "import numpy as np\n",
    "import re\n",
    "\n",
    "# Visualization\n",
    "from pandas_profiling import ProfileReport\n",
    "#import plotly.express as px\n",
    "import matplotlib.pyplot as plt\n",
    "import seaborn as sns\n",
    "\n",
    "# Modeling\n",
    "import tensorflow as tf\n",
    "import tensorflow_decision_forests as tfdf\n",
    "try:\n",
    "    from wurlitzer import sys_pipes\n",
    "except:\n",
    "    from colabtools.googlelog import CaptureLog as sys_pipes\n",
    "\n",
    "# Scikit-learn packages\n",
    "from sklearn import metrics\n",
    "from sklearn.model_selection import train_test_split\n",
    "from sklearn.impute import SimpleImputer\n",
    "from sklearn.pipeline import Pipeline\n",
    "from sklearn.preprocessing import StandardScaler, OneHotEncoder, FunctionTransformer, OrdinalEncoder\n",
    "from sklearn.compose import ColumnTransformer\n",
    "\n",
    "## Import helper functions\n",
    "from ipynb.fs.defs.utils import *\n",
    "\n",
    "# display\n",
    "from IPython.core.magic import register_line_magic\n",
    "from IPython.display import Javascript"
   ]
  },
  {
   "cell_type": "code",
   "execution_count": 736,
   "id": "04c39ce8-0ef6-4ef3-b7dc-2e6ab84a2678",
   "metadata": {},
   "outputs": [],
   "source": [
    "KAGGLE_EVAL_METRIC = 'logloss' # string name for loss function in xgboost"
   ]
  },
  {
   "cell_type": "code",
   "execution_count": 737,
   "id": "eligible-convergence",
   "metadata": {},
   "outputs": [],
   "source": [
    "TRAIN_PATH = \"data/train.csv\"\n",
    "TEST_PATH = \"data/test.csv\""
   ]
  },
  {
   "cell_type": "code",
   "execution_count": 738,
   "id": "16c3047e-edd9-44ae-8289-f553676dab82",
   "metadata": {},
   "outputs": [],
   "source": [
    "label = \"Survived\""
   ]
  },
  {
   "cell_type": "markdown",
   "id": "small-reservation",
   "metadata": {},
   "source": [
    "# Load Data"
   ]
  },
  {
   "cell_type": "code",
   "execution_count": 739,
   "id": "interracial-graduate",
   "metadata": {},
   "outputs": [],
   "source": [
    "train = pd.read_csv(TRAIN_PATH)\n",
    "test = pd.read_csv(TEST_PATH)"
   ]
  },
  {
   "cell_type": "code",
   "execution_count": 740,
   "id": "3ffa59f6-cc1c-4f46-86b5-c115a523428e",
   "metadata": {},
   "outputs": [],
   "source": [
    "# Inputation\n",
    "# Replaces numerical NaN (representing missing values in Pandas Dataframe) with 0s.\n",
    "# ...Neural Nets don't work well with numerical NaNs.\n",
    "def impute_numbers(dataset_df):\n",
    "    for col in dataset_df.columns:\n",
    "        if dataset_df[col].dtype not in [str, object]:\n",
    "            dataset_df[col] = dataset_df[col].fillna(0)\n",
    "    return dataset_df\n",
    "\n",
    "# Split the dataset into a training and testing dataset.\n",
    "def split_dataset(dataset, test_ratio=0.30):\n",
    "    \"\"\"Splits a panda dataframe in two.\"\"\"\n",
    "    test_indices = np.random.rand(len(dataset)) < test_ratio\n",
    "    return dataset[~test_indices], dataset[test_indices]\n",
    "\n",
    "def prepare_dataset(dataset):\n",
    "    name = {\"Ticket\" : tf.strings.split(dataset[\"Ticket\"]).numpy()}\n",
    "    return name"
   ]
  },
  {
   "cell_type": "code",
   "execution_count": 741,
   "id": "49fdea05-db17-4134-ae58-54514b2a0765",
   "metadata": {},
   "outputs": [],
   "source": [
    "data = tf.constant([[\"a\", \"c\", \"d\"], [\"d\", \"z\", \"b\"]])"
   ]
  },
  {
   "cell_type": "code",
   "execution_count": 742,
   "id": "db365cff-5e4b-4255-a6e6-4d198295907c",
   "metadata": {},
   "outputs": [
    {
     "data": {
      "text/plain": [
       "<tf.Tensor: shape=(2, 3), dtype=string, numpy=\n",
       "array([[b'a', b'c', b'd'],\n",
       "       [b'd', b'z', b'b']], dtype=object)>"
      ]
     },
     "execution_count": 742,
     "metadata": {},
     "output_type": "execute_result"
    }
   ],
   "source": [
    "data"
   ]
  },
  {
   "cell_type": "code",
   "execution_count": 743,
   "id": "cf58aee4-fcbc-427f-8123-5ef41ec70403",
   "metadata": {},
   "outputs": [
    {
     "data": {
      "text/html": [
       "<div>\n",
       "<style scoped>\n",
       "    .dataframe tbody tr th:only-of-type {\n",
       "        vertical-align: middle;\n",
       "    }\n",
       "\n",
       "    .dataframe tbody tr th {\n",
       "        vertical-align: top;\n",
       "    }\n",
       "\n",
       "    .dataframe thead th {\n",
       "        text-align: right;\n",
       "    }\n",
       "</style>\n",
       "<table border=\"1\" class=\"dataframe\">\n",
       "  <thead>\n",
       "    <tr style=\"text-align: right;\">\n",
       "      <th></th>\n",
       "      <th>PassengerId</th>\n",
       "      <th>Survived</th>\n",
       "      <th>Pclass</th>\n",
       "      <th>Name</th>\n",
       "      <th>Sex</th>\n",
       "      <th>Age</th>\n",
       "      <th>SibSp</th>\n",
       "      <th>Parch</th>\n",
       "      <th>Ticket</th>\n",
       "      <th>Fare</th>\n",
       "      <th>Cabin</th>\n",
       "      <th>Embarked</th>\n",
       "      <th>First Name</th>\n",
       "      <th>Title</th>\n",
       "      <th>Nickname</th>\n",
       "      <th>Last Name</th>\n",
       "      <th>Junior</th>\n",
       "      <th>Middle Names</th>\n",
       "    </tr>\n",
       "  </thead>\n",
       "  <tbody>\n",
       "    <tr>\n",
       "      <th>0</th>\n",
       "      <td>1</td>\n",
       "      <td>0</td>\n",
       "      <td>3</td>\n",
       "      <td>braund, mr. owen harris</td>\n",
       "      <td>male</td>\n",
       "      <td>22.0</td>\n",
       "      <td>1</td>\n",
       "      <td>0</td>\n",
       "      <td>A/5 21171</td>\n",
       "      <td>7.2500</td>\n",
       "      <td>NaN</td>\n",
       "      <td>S</td>\n",
       "      <td>braund</td>\n",
       "      <td>mr.</td>\n",
       "      <td>none</td>\n",
       "      <td>owen</td>\n",
       "      <td>False</td>\n",
       "      <td>harris</td>\n",
       "    </tr>\n",
       "    <tr>\n",
       "      <th>1</th>\n",
       "      <td>2</td>\n",
       "      <td>1</td>\n",
       "      <td>1</td>\n",
       "      <td>cumings, mrs. john bradley (florence briggs th...</td>\n",
       "      <td>female</td>\n",
       "      <td>38.0</td>\n",
       "      <td>1</td>\n",
       "      <td>0</td>\n",
       "      <td>PC 17599</td>\n",
       "      <td>71.2833</td>\n",
       "      <td>C85</td>\n",
       "      <td>C</td>\n",
       "      <td>cumings</td>\n",
       "      <td>mrs.</td>\n",
       "      <td>(florence briggs thayer)</td>\n",
       "      <td>john</td>\n",
       "      <td>False</td>\n",
       "      <td>bradley</td>\n",
       "    </tr>\n",
       "    <tr>\n",
       "      <th>2</th>\n",
       "      <td>3</td>\n",
       "      <td>1</td>\n",
       "      <td>3</td>\n",
       "      <td>heikkinen, miss. laina</td>\n",
       "      <td>female</td>\n",
       "      <td>26.0</td>\n",
       "      <td>0</td>\n",
       "      <td>0</td>\n",
       "      <td>STON/O2. 3101282</td>\n",
       "      <td>7.9250</td>\n",
       "      <td>NaN</td>\n",
       "      <td>S</td>\n",
       "      <td>heikkinen</td>\n",
       "      <td>miss.</td>\n",
       "      <td>none</td>\n",
       "      <td>laina</td>\n",
       "      <td>False</td>\n",
       "      <td></td>\n",
       "    </tr>\n",
       "    <tr>\n",
       "      <th>3</th>\n",
       "      <td>4</td>\n",
       "      <td>1</td>\n",
       "      <td>1</td>\n",
       "      <td>futrelle, mrs. jacques heath (lily may peel)</td>\n",
       "      <td>female</td>\n",
       "      <td>35.0</td>\n",
       "      <td>1</td>\n",
       "      <td>0</td>\n",
       "      <td>113803</td>\n",
       "      <td>53.1000</td>\n",
       "      <td>C123</td>\n",
       "      <td>S</td>\n",
       "      <td>futrelle</td>\n",
       "      <td>mrs.</td>\n",
       "      <td>(lily may peel)</td>\n",
       "      <td>jacques</td>\n",
       "      <td>False</td>\n",
       "      <td>heath</td>\n",
       "    </tr>\n",
       "    <tr>\n",
       "      <th>4</th>\n",
       "      <td>5</td>\n",
       "      <td>0</td>\n",
       "      <td>3</td>\n",
       "      <td>allen, mr. william henry</td>\n",
       "      <td>male</td>\n",
       "      <td>35.0</td>\n",
       "      <td>0</td>\n",
       "      <td>0</td>\n",
       "      <td>373450</td>\n",
       "      <td>8.0500</td>\n",
       "      <td>NaN</td>\n",
       "      <td>S</td>\n",
       "      <td>allen</td>\n",
       "      <td>mr.</td>\n",
       "      <td>none</td>\n",
       "      <td>william</td>\n",
       "      <td>False</td>\n",
       "      <td>henry</td>\n",
       "    </tr>\n",
       "    <tr>\n",
       "      <th>...</th>\n",
       "      <td>...</td>\n",
       "      <td>...</td>\n",
       "      <td>...</td>\n",
       "      <td>...</td>\n",
       "      <td>...</td>\n",
       "      <td>...</td>\n",
       "      <td>...</td>\n",
       "      <td>...</td>\n",
       "      <td>...</td>\n",
       "      <td>...</td>\n",
       "      <td>...</td>\n",
       "      <td>...</td>\n",
       "      <td>...</td>\n",
       "      <td>...</td>\n",
       "      <td>...</td>\n",
       "      <td>...</td>\n",
       "      <td>...</td>\n",
       "      <td>...</td>\n",
       "    </tr>\n",
       "    <tr>\n",
       "      <th>886</th>\n",
       "      <td>887</td>\n",
       "      <td>0</td>\n",
       "      <td>2</td>\n",
       "      <td>montvila, rev. juozas</td>\n",
       "      <td>male</td>\n",
       "      <td>27.0</td>\n",
       "      <td>0</td>\n",
       "      <td>0</td>\n",
       "      <td>211536</td>\n",
       "      <td>13.0000</td>\n",
       "      <td>NaN</td>\n",
       "      <td>S</td>\n",
       "      <td>montvila</td>\n",
       "      <td>rev.</td>\n",
       "      <td>none</td>\n",
       "      <td>juozas</td>\n",
       "      <td>False</td>\n",
       "      <td></td>\n",
       "    </tr>\n",
       "    <tr>\n",
       "      <th>887</th>\n",
       "      <td>888</td>\n",
       "      <td>1</td>\n",
       "      <td>1</td>\n",
       "      <td>graham, miss. margaret edith</td>\n",
       "      <td>female</td>\n",
       "      <td>19.0</td>\n",
       "      <td>0</td>\n",
       "      <td>0</td>\n",
       "      <td>112053</td>\n",
       "      <td>30.0000</td>\n",
       "      <td>B42</td>\n",
       "      <td>S</td>\n",
       "      <td>graham</td>\n",
       "      <td>miss.</td>\n",
       "      <td>none</td>\n",
       "      <td>margaret</td>\n",
       "      <td>False</td>\n",
       "      <td>edith</td>\n",
       "    </tr>\n",
       "    <tr>\n",
       "      <th>888</th>\n",
       "      <td>889</td>\n",
       "      <td>0</td>\n",
       "      <td>3</td>\n",
       "      <td>johnston, miss. catherine helen \"carrie\"</td>\n",
       "      <td>female</td>\n",
       "      <td>NaN</td>\n",
       "      <td>1</td>\n",
       "      <td>2</td>\n",
       "      <td>W./C. 6607</td>\n",
       "      <td>23.4500</td>\n",
       "      <td>NaN</td>\n",
       "      <td>S</td>\n",
       "      <td>johnston</td>\n",
       "      <td>miss.</td>\n",
       "      <td>\"carrie\"</td>\n",
       "      <td>catherine</td>\n",
       "      <td>False</td>\n",
       "      <td>helen</td>\n",
       "    </tr>\n",
       "    <tr>\n",
       "      <th>889</th>\n",
       "      <td>890</td>\n",
       "      <td>1</td>\n",
       "      <td>1</td>\n",
       "      <td>behr, mr. karl howell</td>\n",
       "      <td>male</td>\n",
       "      <td>26.0</td>\n",
       "      <td>0</td>\n",
       "      <td>0</td>\n",
       "      <td>111369</td>\n",
       "      <td>30.0000</td>\n",
       "      <td>C148</td>\n",
       "      <td>C</td>\n",
       "      <td>behr</td>\n",
       "      <td>mr.</td>\n",
       "      <td>none</td>\n",
       "      <td>karl</td>\n",
       "      <td>False</td>\n",
       "      <td>howell</td>\n",
       "    </tr>\n",
       "    <tr>\n",
       "      <th>890</th>\n",
       "      <td>891</td>\n",
       "      <td>0</td>\n",
       "      <td>3</td>\n",
       "      <td>dooley, mr. patrick</td>\n",
       "      <td>male</td>\n",
       "      <td>32.0</td>\n",
       "      <td>0</td>\n",
       "      <td>0</td>\n",
       "      <td>370376</td>\n",
       "      <td>7.7500</td>\n",
       "      <td>NaN</td>\n",
       "      <td>Q</td>\n",
       "      <td>dooley</td>\n",
       "      <td>mr.</td>\n",
       "      <td>none</td>\n",
       "      <td>patrick</td>\n",
       "      <td>False</td>\n",
       "      <td></td>\n",
       "    </tr>\n",
       "  </tbody>\n",
       "</table>\n",
       "<p>891 rows × 18 columns</p>\n",
       "</div>"
      ],
      "text/plain": [
       "     PassengerId  Survived  Pclass  \\\n",
       "0              1         0       3   \n",
       "1              2         1       1   \n",
       "2              3         1       3   \n",
       "3              4         1       1   \n",
       "4              5         0       3   \n",
       "..           ...       ...     ...   \n",
       "886          887         0       2   \n",
       "887          888         1       1   \n",
       "888          889         0       3   \n",
       "889          890         1       1   \n",
       "890          891         0       3   \n",
       "\n",
       "                                                  Name     Sex   Age  SibSp  \\\n",
       "0                              braund, mr. owen harris    male  22.0      1   \n",
       "1    cumings, mrs. john bradley (florence briggs th...  female  38.0      1   \n",
       "2                               heikkinen, miss. laina  female  26.0      0   \n",
       "3         futrelle, mrs. jacques heath (lily may peel)  female  35.0      1   \n",
       "4                             allen, mr. william henry    male  35.0      0   \n",
       "..                                                 ...     ...   ...    ...   \n",
       "886                              montvila, rev. juozas    male  27.0      0   \n",
       "887                       graham, miss. margaret edith  female  19.0      0   \n",
       "888           johnston, miss. catherine helen \"carrie\"  female   NaN      1   \n",
       "889                              behr, mr. karl howell    male  26.0      0   \n",
       "890                                dooley, mr. patrick    male  32.0      0   \n",
       "\n",
       "     Parch            Ticket     Fare Cabin Embarked First Name  Title  \\\n",
       "0        0         A/5 21171   7.2500   NaN        S     braund    mr.   \n",
       "1        0          PC 17599  71.2833   C85        C    cumings   mrs.   \n",
       "2        0  STON/O2. 3101282   7.9250   NaN        S  heikkinen  miss.   \n",
       "3        0            113803  53.1000  C123        S   futrelle   mrs.   \n",
       "4        0            373450   8.0500   NaN        S      allen    mr.   \n",
       "..     ...               ...      ...   ...      ...        ...    ...   \n",
       "886      0            211536  13.0000   NaN        S   montvila   rev.   \n",
       "887      0            112053  30.0000   B42        S     graham  miss.   \n",
       "888      2        W./C. 6607  23.4500   NaN        S   johnston  miss.   \n",
       "889      0            111369  30.0000  C148        C       behr    mr.   \n",
       "890      0            370376   7.7500   NaN        Q     dooley    mr.   \n",
       "\n",
       "                     Nickname  Last Name  Junior Middle Names  \n",
       "0                        none       owen   False       harris  \n",
       "1    (florence briggs thayer)       john   False      bradley  \n",
       "2                        none      laina   False               \n",
       "3             (lily may peel)    jacques   False        heath  \n",
       "4                        none    william   False        henry  \n",
       "..                        ...        ...     ...          ...  \n",
       "886                      none     juozas   False               \n",
       "887                      none   margaret   False        edith  \n",
       "888                  \"carrie\"  catherine   False        helen  \n",
       "889                      none       karl   False       howell  \n",
       "890                      none    patrick   False               \n",
       "\n",
       "[891 rows x 18 columns]"
      ]
     },
     "execution_count": 743,
     "metadata": {},
     "output_type": "execute_result"
    }
   ],
   "source": [
    "nlp_transforms(train)"
   ]
  },
  {
   "cell_type": "code",
   "execution_count": 744,
   "id": "4a84f567-be2b-4135-a04d-032af70681b6",
   "metadata": {},
   "outputs": [
    {
     "name": "stdout",
     "output_type": "stream",
     "text": [
      "620 examples in training, 271 examples for testing.\n"
     ]
    }
   ],
   "source": [
    "train = impute_numbers(train)\n",
    "train_ds_pd, test_ds_pd = split_dataset(train)\n",
    "print(\"{} examples in training, {} examples for testing.\".format(len(train_ds_pd), len(test_ds_pd)))"
   ]
  },
  {
   "cell_type": "code",
   "execution_count": 745,
   "id": "6cda2236-704f-4796-bf68-e9f09a7ff16c",
   "metadata": {},
   "outputs": [
    {
     "name": "stderr",
     "output_type": "stream",
     "text": [
      "WARNING:absl:Some of the feature names have been changed automatically to be compatible with SavedModels because fix_feature_names=True.\n",
      "WARNING:absl:Some of the feature names have been changed automatically to be compatible with SavedModels because fix_feature_names=True.\n"
     ]
    }
   ],
   "source": [
    "# Convert the datasets into tensorflow datasets\n",
    "train_ds = tfdf.keras.pd_dataframe_to_tf_dataset(train_ds_pd, label=label)\n",
    "test_ds = tfdf.keras.pd_dataframe_to_tf_dataset(test_ds_pd, label=label)"
   ]
  },
  {
   "cell_type": "code",
   "execution_count": 746,
   "id": "9d3d487b-6f1d-4f23-b9e2-8cee3bf961ad",
   "metadata": {},
   "outputs": [
    {
     "data": {
      "text/plain": [
       "<BatchDataset shapes: ({PassengerId: (None,), Pclass: (None,), Name: (None,), Sex: (None,), Age: (None,), SibSp: (None,), Parch: (None,), Ticket: (None,), Fare: (None,), Cabin: (None,), Embarked: (None,), First_Name: (None,), Title: (None,), Nickname: (None,), Last_Name: (None,), Junior: (None,), Middle_Names: (None,)}, (None,)), types: ({PassengerId: tf.int64, Pclass: tf.int64, Name: tf.string, Sex: tf.string, Age: tf.float64, SibSp: tf.int64, Parch: tf.int64, Ticket: tf.string, Fare: tf.float64, Cabin: tf.string, Embarked: tf.string, First_Name: tf.string, Title: tf.string, Nickname: tf.string, Last_Name: tf.string, Junior: tf.bool, Middle_Names: tf.string}, tf.int64)>"
      ]
     },
     "execution_count": 746,
     "metadata": {},
     "output_type": "execute_result"
    }
   ],
   "source": [
    "train_ds"
   ]
  },
  {
   "cell_type": "markdown",
   "id": "7176213e-0379-4896-8c50-3a4667423e10",
   "metadata": {},
   "source": [
    "# Build Model"
   ]
  },
  {
   "cell_type": "code",
   "execution_count": 747,
   "id": "a66d531f-c401-43cb-a2bc-8eaf1b5fc109",
   "metadata": {},
   "outputs": [
    {
     "data": {
      "text/html": [
       "<div>\n",
       "<style scoped>\n",
       "    .dataframe tbody tr th:only-of-type {\n",
       "        vertical-align: middle;\n",
       "    }\n",
       "\n",
       "    .dataframe tbody tr th {\n",
       "        vertical-align: top;\n",
       "    }\n",
       "\n",
       "    .dataframe thead th {\n",
       "        text-align: right;\n",
       "    }\n",
       "</style>\n",
       "<table border=\"1\" class=\"dataframe\">\n",
       "  <thead>\n",
       "    <tr style=\"text-align: right;\">\n",
       "      <th></th>\n",
       "      <th>PassengerId</th>\n",
       "      <th>Survived</th>\n",
       "      <th>Pclass</th>\n",
       "      <th>Name</th>\n",
       "      <th>Sex</th>\n",
       "      <th>Age</th>\n",
       "      <th>SibSp</th>\n",
       "      <th>Parch</th>\n",
       "      <th>Ticket</th>\n",
       "      <th>Fare</th>\n",
       "      <th>Cabin</th>\n",
       "      <th>Embarked</th>\n",
       "      <th>First Name</th>\n",
       "      <th>Title</th>\n",
       "      <th>Nickname</th>\n",
       "      <th>Last Name</th>\n",
       "      <th>Junior</th>\n",
       "      <th>Middle Names</th>\n",
       "    </tr>\n",
       "  </thead>\n",
       "  <tbody>\n",
       "    <tr>\n",
       "      <th>0</th>\n",
       "      <td>1</td>\n",
       "      <td>0</td>\n",
       "      <td>3</td>\n",
       "      <td>braund, mr. owen harris</td>\n",
       "      <td>male</td>\n",
       "      <td>22.0</td>\n",
       "      <td>1</td>\n",
       "      <td>0</td>\n",
       "      <td>A/5 21171</td>\n",
       "      <td>7.2500</td>\n",
       "      <td>NaN</td>\n",
       "      <td>S</td>\n",
       "      <td>braund</td>\n",
       "      <td>mr.</td>\n",
       "      <td>none</td>\n",
       "      <td>owen</td>\n",
       "      <td>False</td>\n",
       "      <td>harris</td>\n",
       "    </tr>\n",
       "    <tr>\n",
       "      <th>1</th>\n",
       "      <td>2</td>\n",
       "      <td>1</td>\n",
       "      <td>1</td>\n",
       "      <td>cumings, mrs. john bradley (florence briggs th...</td>\n",
       "      <td>female</td>\n",
       "      <td>38.0</td>\n",
       "      <td>1</td>\n",
       "      <td>0</td>\n",
       "      <td>PC 17599</td>\n",
       "      <td>71.2833</td>\n",
       "      <td>C85</td>\n",
       "      <td>C</td>\n",
       "      <td>cumings</td>\n",
       "      <td>mrs.</td>\n",
       "      <td>(florence briggs thayer)</td>\n",
       "      <td>john</td>\n",
       "      <td>False</td>\n",
       "      <td>bradley</td>\n",
       "    </tr>\n",
       "    <tr>\n",
       "      <th>2</th>\n",
       "      <td>3</td>\n",
       "      <td>1</td>\n",
       "      <td>3</td>\n",
       "      <td>heikkinen, miss. laina</td>\n",
       "      <td>female</td>\n",
       "      <td>26.0</td>\n",
       "      <td>0</td>\n",
       "      <td>0</td>\n",
       "      <td>STON/O2. 3101282</td>\n",
       "      <td>7.9250</td>\n",
       "      <td>NaN</td>\n",
       "      <td>S</td>\n",
       "      <td>heikkinen</td>\n",
       "      <td>miss.</td>\n",
       "      <td>none</td>\n",
       "      <td>laina</td>\n",
       "      <td>False</td>\n",
       "      <td></td>\n",
       "    </tr>\n",
       "    <tr>\n",
       "      <th>3</th>\n",
       "      <td>4</td>\n",
       "      <td>1</td>\n",
       "      <td>1</td>\n",
       "      <td>futrelle, mrs. jacques heath (lily may peel)</td>\n",
       "      <td>female</td>\n",
       "      <td>35.0</td>\n",
       "      <td>1</td>\n",
       "      <td>0</td>\n",
       "      <td>113803</td>\n",
       "      <td>53.1000</td>\n",
       "      <td>C123</td>\n",
       "      <td>S</td>\n",
       "      <td>futrelle</td>\n",
       "      <td>mrs.</td>\n",
       "      <td>(lily may peel)</td>\n",
       "      <td>jacques</td>\n",
       "      <td>False</td>\n",
       "      <td>heath</td>\n",
       "    </tr>\n",
       "    <tr>\n",
       "      <th>4</th>\n",
       "      <td>5</td>\n",
       "      <td>0</td>\n",
       "      <td>3</td>\n",
       "      <td>allen, mr. william henry</td>\n",
       "      <td>male</td>\n",
       "      <td>35.0</td>\n",
       "      <td>0</td>\n",
       "      <td>0</td>\n",
       "      <td>373450</td>\n",
       "      <td>8.0500</td>\n",
       "      <td>NaN</td>\n",
       "      <td>S</td>\n",
       "      <td>allen</td>\n",
       "      <td>mr.</td>\n",
       "      <td>none</td>\n",
       "      <td>william</td>\n",
       "      <td>False</td>\n",
       "      <td>henry</td>\n",
       "    </tr>\n",
       "  </tbody>\n",
       "</table>\n",
       "</div>"
      ],
      "text/plain": [
       "   PassengerId  Survived  Pclass  \\\n",
       "0            1         0       3   \n",
       "1            2         1       1   \n",
       "2            3         1       3   \n",
       "3            4         1       1   \n",
       "4            5         0       3   \n",
       "\n",
       "                                                Name     Sex   Age  SibSp  \\\n",
       "0                            braund, mr. owen harris    male  22.0      1   \n",
       "1  cumings, mrs. john bradley (florence briggs th...  female  38.0      1   \n",
       "2                             heikkinen, miss. laina  female  26.0      0   \n",
       "3       futrelle, mrs. jacques heath (lily may peel)  female  35.0      1   \n",
       "4                           allen, mr. william henry    male  35.0      0   \n",
       "\n",
       "   Parch            Ticket     Fare Cabin Embarked First Name  Title  \\\n",
       "0      0         A/5 21171   7.2500   NaN        S     braund    mr.   \n",
       "1      0          PC 17599  71.2833   C85        C    cumings   mrs.   \n",
       "2      0  STON/O2. 3101282   7.9250   NaN        S  heikkinen  miss.   \n",
       "3      0            113803  53.1000  C123        S   futrelle   mrs.   \n",
       "4      0            373450   8.0500   NaN        S      allen    mr.   \n",
       "\n",
       "                   Nickname Last Name  Junior Middle Names  \n",
       "0                      none      owen   False       harris  \n",
       "1  (florence briggs thayer)      john   False      bradley  \n",
       "2                      none     laina   False               \n",
       "3           (lily may peel)   jacques   False        heath  \n",
       "4                      none   william   False        henry  "
      ]
     },
     "execution_count": 747,
     "metadata": {},
     "output_type": "execute_result"
    }
   ],
   "source": [
    "train.head()"
   ]
  },
  {
   "cell_type": "code",
   "execution_count": 748,
   "id": "b0aee4a1-a0b9-4796-a44f-62a34640e09d",
   "metadata": {},
   "outputs": [
    {
     "name": "stdout",
     "output_type": "stream",
     "text": [
      "<class 'pandas.core.frame.DataFrame'>\n",
      "Int64Index: 620 entries, 0 to 890\n",
      "Data columns (total 18 columns):\n",
      " #   Column        Non-Null Count  Dtype  \n",
      "---  ------        --------------  -----  \n",
      " 0   PassengerId   620 non-null    int64  \n",
      " 1   Survived      620 non-null    int64  \n",
      " 2   Pclass        620 non-null    int64  \n",
      " 3   Name          620 non-null    object \n",
      " 4   Sex           620 non-null    object \n",
      " 5   Age           620 non-null    float64\n",
      " 6   SibSp         620 non-null    int64  \n",
      " 7   Parch         620 non-null    int64  \n",
      " 8   Ticket        620 non-null    object \n",
      " 9   Fare          620 non-null    float64\n",
      " 10  Cabin         134 non-null    object \n",
      " 11  Embarked      618 non-null    object \n",
      " 12  First Name    620 non-null    object \n",
      " 13  Title         620 non-null    object \n",
      " 14  Nickname      620 non-null    object \n",
      " 15  Last Name     620 non-null    object \n",
      " 16  Junior        620 non-null    bool   \n",
      " 17  Middle Names  620 non-null    object \n",
      "dtypes: bool(1), float64(2), int64(5), object(10)\n",
      "memory usage: 87.8+ KB\n"
     ]
    }
   ],
   "source": [
    "train_ds_pd.info()"
   ]
  },
  {
   "cell_type": "markdown",
   "id": "091231ee-21e0-4d94-a02f-972e805b4ccd",
   "metadata": {},
   "source": [
    "#### Define Featrures"
   ]
  },
  {
   "cell_type": "code",
   "execution_count": 749,
   "id": "90474c03-af69-44bb-94c6-413642180abb",
   "metadata": {},
   "outputs": [],
   "source": [
    "#https://www.tensorflow.org/decision_forests/tutorials/intermediate_colab"
   ]
  },
  {
   "cell_type": "code",
   "execution_count": 750,
   "id": "d245c9c4-0539-4fb3-83b7-9ba9b0763aee",
   "metadata": {},
   "outputs": [],
   "source": [
    "input_1 = tf.keras.Input(shape=(1,), name=\"Age\", dtype=\"float\")\n",
    "input_2 = tf.keras.Input(shape=(1,), name=\"Title\", dtype=\"string\")\n",
    "input_3 = tf.keras.Input(shape=(1,), name=\"Pclass\", dtype=\"float\")\n",
    "input_4 = tf.keras.Input(shape=(1,), name=\"Sex\", dtype=\"string\")\n",
    "input_5 = tf.keras.Input(shape=(1,), name=\"SibSp\", dtype=\"float\")\n",
    "input_6 = tf.keras.Input(shape=(1,), name=\"Parch\", dtype=\"float\")\n",
    "input_7 = tf.keras.Input(shape=(1,), name=\"Fare\", dtype=\"float\")\n",
    "input_8 = tf.keras.Input(shape=(1,), name=\"Cabin\", dtype=\"string\")\n",
    "input_9 = tf.keras.Input(shape=(1,), name=\"Embarked\", dtype=\"string\")\n",
    "input_10 = tf.keras.Input(shape=(1,), name=\"Title\", dtype=\"string\")\n",
    "\n",
    "nn_raw_inputs = [input_1, input_2,input_3,input_4,input_5,input_6,input_7,input_8,input_9,input_10]\n",
    "nn_raw_inputs = [input_1,input_7,input_10]"
   ]
  },
  {
   "cell_type": "markdown",
   "id": "25fddf86-567a-45d2-9eca-bf0ff96d7ec1",
   "metadata": {},
   "source": [
    "#### Normalize Features"
   ]
  },
  {
   "cell_type": "code",
   "execution_count": 751,
   "id": "352d89c3-e6d6-42c1-92cb-af5d2f1bfdac",
   "metadata": {},
   "outputs": [
    {
     "name": "stdout",
     "output_type": "stream",
     "text": [
      "WARNING:tensorflow:max_tokens is deprecated, please use num_tokens instead.\n"
     ]
    },
    {
     "name": "stderr",
     "output_type": "stream",
     "text": [
      "WARNING:tensorflow:max_tokens is deprecated, please use num_tokens instead.\n"
     ]
    }
   ],
   "source": [
    "Normalization = tf.keras.layers.experimental.preprocessing.Normalization\n",
    "CategoryEncoding = tf.keras.layers.experimental.preprocessing.CategoryEncoding\n",
    "StringLookup = tf.keras.layers.experimental.preprocessing.StringLookup\n",
    "\n",
    "# Numerical\n",
    "values = train_ds_pd[\"Age\"].values\n",
    "input_1_normalizer = Normalization()\n",
    "input_1_normalizer.adapt(values)\n",
    "\n",
    "values = train_ds_pd[\"Fare\"].values\n",
    "input_2_normalizer = Normalization()\n",
    "input_2_normalizer.adapt(values)\n",
    "\n",
    "# String (https://www.tensorflow.org/api_docs/python/tf/keras/layers/experimental/preprocessing/StringLookup)\n",
    "values = train_ds_pd[\"Title\"].values\n",
    "#vocab =  ['asdasd','sadasd'] #list(words)\n",
    "input_3_indexer = StringLookup(max_tokens=4,vocabulary=vocab)\n",
    "input_3_indexer.adapt(values)\n",
    "\n",
    "input_3_onehot = CategoryEncoding(output_mode=\"binary\", max_tokens=4)\n",
    "\n",
    "normalized_input_1 = input_1_normalizer(input_1)\n",
    "normalized_input_2 = input_2_normalizer(input_7)\n",
    "normalized_input_3 = input_3_onehot(input_3_indexer(input_10))\n",
    "\n",
    "nn_processed_inputs = [normalized_input_1, normalized_input_2,normalized_input_3]"
   ]
  },
  {
   "cell_type": "code",
   "execution_count": 752,
   "id": "7ed38043-fdee-406d-912f-a084767685b1",
   "metadata": {},
   "outputs": [],
   "source": [
    "#train_ds_pd[\"Name\"].values"
   ]
  },
  {
   "cell_type": "code",
   "execution_count": 753,
   "id": "d36f1368-301b-49b5-bb9b-f14fb45169b3",
   "metadata": {},
   "outputs": [
    {
     "data": {
      "text/plain": [
       "<KerasTensor: shape=(None, 1) dtype=string (created by layer 'Title')>"
      ]
     },
     "execution_count": 753,
     "metadata": {},
     "output_type": "execute_result"
    }
   ],
   "source": [
    "input_10"
   ]
  },
  {
   "cell_type": "code",
   "execution_count": 754,
   "id": "a93d9b17-7458-4656-b7d8-a9dd1b0f4fb9",
   "metadata": {},
   "outputs": [],
   "source": [
    "#values[0:3]"
   ]
  },
  {
   "cell_type": "code",
   "execution_count": 755,
   "id": "09177009-f35a-4549-a1e1-86ac8d5cf23f",
   "metadata": {},
   "outputs": [],
   "source": [
    "#input_3_indexer.get_vocabulary()"
   ]
  },
  {
   "cell_type": "markdown",
   "id": "f908fd15-c588-46cd-9f4b-a367f338c16d",
   "metadata": {},
   "source": [
    "#### Build the body of the neural network:"
   ]
  },
  {
   "cell_type": "code",
   "execution_count": 756,
   "id": "bf284b1e-0926-436e-b1d3-43b283d88e2a",
   "metadata": {},
   "outputs": [],
   "source": [
    "y = tf.keras.layers.Concatenate()(nn_processed_inputs)\n",
    "y = tf.keras.layers.Dense(16, activation=tf.nn.relu6)(y)\n",
    "last_layer = tf.keras.layers.Dense(8, activation=tf.nn.relu, name=\"last\")(y)\n",
    "\n",
    "# \"3\" for the three label classes. If it were a binary classification, the\n",
    "# output dim would be 1.\n",
    "classification_output = tf.keras.layers.Dense(2)(y)\n",
    "\n",
    "nn_model = tf.keras.models.Model(nn_raw_inputs, classification_output)\n",
    "\n",
    "# To reduce the risk of mistakes, group both the decision forest and the\n",
    "# neural network in a single keras model.\n",
    "nn_without_head = tf.keras.models.Model(inputs=nn_model.inputs, outputs=last_layer)\n",
    "df_and_nn_model = tfdf.keras.RandomForestModel(preprocessing=nn_without_head)"
   ]
  },
  {
   "cell_type": "code",
   "execution_count": 764,
   "id": "1d1fed4d-a290-40c6-b54b-6c2d57e5447c",
   "metadata": {},
   "outputs": [
    {
     "data": {
      "text/plain": [
       "[<KerasTensor: shape=(None, 1) dtype=float32 (created by layer 'Age')>,\n",
       " <KerasTensor: shape=(None, 1) dtype=float32 (created by layer 'Fare')>,\n",
       " <KerasTensor: shape=(None, 1) dtype=string (created by layer 'Title')>]"
      ]
     },
     "execution_count": 764,
     "metadata": {},
     "output_type": "execute_result"
    }
   ],
   "source": [
    "nn_model.inputs"
   ]
  },
  {
   "cell_type": "markdown",
   "id": "852127dc-c0ee-4644-9ac9-c22ef373d213",
   "metadata": {},
   "source": [
    "#### Traim amd evaluate the models"
   ]
  },
  {
   "cell_type": "code",
   "execution_count": 762,
   "id": "bb8ce654-eeae-40b0-871f-707826871e4c",
   "metadata": {},
   "outputs": [
    {
     "name": "stdout",
     "output_type": "stream",
     "text": [
      "5/5 [==============================] - 0s 1ms/step - loss: 0.5189 - accuracy: 0.7528\n",
      "Evaluation: [0.5189318060874939, 0.7527675032615662]\n"
     ]
    }
   ],
   "source": [
    "nn_model.compile(\n",
    "  optimizer=tf.keras.optimizers.Adam(),\n",
    "  loss=tf.keras.losses.SparseCategoricalCrossentropy(from_logits=True),\n",
    "  metrics=[\"accuracy\"])\n",
    "\n",
    "nn_model.fit(x=train_ds, validation_data=test_ds, epochs=10, verbose=False)\n",
    "print(\"Evaluation:\", nn_model.evaluate(test_ds))"
   ]
  },
  {
   "cell_type": "code",
   "execution_count": null,
   "id": "fed73cc2-7031-47fb-b8ef-79793243cdf8",
   "metadata": {},
   "outputs": [],
   "source": []
  },
  {
   "cell_type": "code",
   "execution_count": 763,
   "id": "d1a22d94-71dd-4320-9389-3e786bcea575",
   "metadata": {},
   "outputs": [
    {
     "name": "stdout",
     "output_type": "stream",
     "text": [
      "10/10 [==============================] - 0s 1ms/step\n",
      "5/5 [==============================] - 0s 3ms/step - loss: 0.0000e+00 - accuracy: 0.7491\n",
      "Evaluation: [0.0, 0.7490774989128113]\n"
     ]
    }
   ],
   "source": [
    "df_and_nn_model.compile(metrics=[\"accuracy\"])\n",
    "df_and_nn_model.fit(x=train_ds)\n",
    "print(\"Evaluation:\", df_and_nn_model.evaluate(test_ds))"
   ]
  },
  {
   "cell_type": "code",
   "execution_count": null,
   "id": "f630a3d1-fa94-489d-a4c1-115bc9b1caff",
   "metadata": {},
   "outputs": [],
   "source": []
  }
 ],
 "metadata": {
  "kernelspec": {
   "display_name": "ds_py_3.8",
   "language": "python",
   "name": "ds_py_3.8"
  },
  "language_info": {
   "codemirror_mode": {
    "name": "ipython",
    "version": 3
   },
   "file_extension": ".py",
   "mimetype": "text/x-python",
   "name": "python",
   "nbconvert_exporter": "python",
   "pygments_lexer": "ipython3",
   "version": "3.8.10"
  }
 },
 "nbformat": 4,
 "nbformat_minor": 5
}
