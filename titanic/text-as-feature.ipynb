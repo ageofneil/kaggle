{
 "cells": [
  {
   "cell_type": "code",
   "execution_count": 3,
   "id": "ae836bc0-a37b-4b0b-b875-3758376994b0",
   "metadata": {},
   "outputs": [],
   "source": [
    "# ! pip install plotly-express"
   ]
  },
  {
   "cell_type": "code",
   "execution_count": 137,
   "id": "statutory-yeast",
   "metadata": {},
   "outputs": [],
   "source": [
    "# Standard stack\n",
    "import datetime\n",
    "import pandas as pd\n",
    "import numpy as np\n",
    "import re\n",
    "import matplotlib.pyplot as plt\n",
    "import seaborn as sns\n",
    "import plotly.express as px\n",
    "import plotly.graph_objects as go\n",
    "\n",
    "# Modeling\n",
    "import tensorflow as tf\n",
    "import tensorflow_decision_forests as tfdf\n",
    "try:\n",
    "    from wurlitzer import sys_pipes\n",
    "except:\n",
    "    from colabtools.googlelog import CaptureLog as sys_pipes\n",
    "\n",
    "# Scikit-learn packages\n",
    "from sklearn import metrics\n",
    "from sklearn.model_selection import train_test_split\n",
    "\n",
    "## Import helper functions\n",
    "from ipynb.fs.defs.utils import *\n",
    "\n",
    "# display\n",
    "from IPython.core.magic import register_line_magic\n",
    "from IPython.display import Javascript"
   ]
  },
  {
   "cell_type": "code",
   "execution_count": 138,
   "id": "04c39ce8-0ef6-4ef3-b7dc-2e6ab84a2678",
   "metadata": {},
   "outputs": [],
   "source": [
    "KAGGLE_EVAL_METRIC = 'logloss' # string name for loss function in xgboost"
   ]
  },
  {
   "cell_type": "code",
   "execution_count": 139,
   "id": "eligible-convergence",
   "metadata": {},
   "outputs": [],
   "source": [
    "TRAIN_PATH = \"data/train.csv\"\n",
    "TEST_PATH = \"data/test.csv\""
   ]
  },
  {
   "cell_type": "code",
   "execution_count": 140,
   "id": "16c3047e-edd9-44ae-8289-f553676dab82",
   "metadata": {},
   "outputs": [],
   "source": [
    "TARGET = [\"Survived\"]"
   ]
  },
  {
   "cell_type": "markdown",
   "id": "small-reservation",
   "metadata": {},
   "source": [
    "# Load Data"
   ]
  },
  {
   "cell_type": "code",
   "execution_count": 141,
   "id": "interracial-graduate",
   "metadata": {},
   "outputs": [],
   "source": [
    "train = pd.read_csv(TRAIN_PATH)\n",
    "test = pd.read_csv(TEST_PATH)"
   ]
  },
  {
   "cell_type": "code",
   "execution_count": 142,
   "id": "aa527b16-72a9-444b-9ef7-4f471cb06116",
   "metadata": {},
   "outputs": [],
   "source": [
    "## Bring in Age Predictions"
   ]
  },
  {
   "cell_type": "code",
   "execution_count": 143,
   "id": "4aea9982-b80d-4dda-9538-749cfe37ac2b",
   "metadata": {},
   "outputs": [
    {
     "data": {
      "text/plain": [
       "Index(['PassengerId', 'Survived', 'Pclass', 'Name', 'Sex', 'Age', 'SibSp',\n",
       "       'Parch', 'Ticket', 'Fare', 'Cabin', 'Embarked'],\n",
       "      dtype='object')"
      ]
     },
     "execution_count": 143,
     "metadata": {},
     "output_type": "execute_result"
    }
   ],
   "source": [
    "train.columns"
   ]
  },
  {
   "cell_type": "markdown",
   "id": "b7713f8a-cb64-435b-9323-9d4ee283f65f",
   "metadata": {},
   "source": [
    "# Pre Process"
   ]
  },
  {
   "cell_type": "code",
   "execution_count": 145,
   "id": "da2987cb-85a3-41e3-9b0b-663b4af3871d",
   "metadata": {},
   "outputs": [],
   "source": [
    "train = nlp_transforms(train) # name features\n",
    "train = ticket_transforms(train) # ticket transforms\n",
    "train.Nickname = np.where(train.Nickname == 'none', 0,1)\n",
    "train.Junior = np.where(train.Junior == 'none', 0,1)\n",
    "train.Cabin = train.Cabin.astype(str)\n",
    "train.Cabin = train.Cabin.apply(lambda x: x[0])\n",
    "train['family_size'] = train.SibSp + train.Parch + 1\n",
    "\n",
    "\n",
    "test = nlp_transforms(test) # name features\n",
    "test = ticket_transforms(test) # ticket transforms\n",
    "test.Nickname = np.where(test.Nickname == 'none', 0,1)\n",
    "test.Junior = np.where(test.Junior == 'none', 0,1)\n",
    "test.Cabin = test.Cabin.astype(str)\n",
    "test.Cabin = test.Cabin.apply(lambda x: x[0])\n",
    "test['family_size'] = test.SibSp + test.Parch + 1"
   ]
  },
  {
   "cell_type": "markdown",
   "id": "df563164-20c8-43e7-a859-d49b0d175adf",
   "metadata": {},
   "source": [
    "# Tensorflow RandomForest"
   ]
  },
  {
   "cell_type": "code",
   "execution_count": 147,
   "id": "e7c81979-69e4-46a7-8b47-c8814819cf84",
   "metadata": {},
   "outputs": [
    {
     "data": {
      "text/html": [
       "<div>\n",
       "<style scoped>\n",
       "    .dataframe tbody tr th:only-of-type {\n",
       "        vertical-align: middle;\n",
       "    }\n",
       "\n",
       "    .dataframe tbody tr th {\n",
       "        vertical-align: top;\n",
       "    }\n",
       "\n",
       "    .dataframe thead th {\n",
       "        text-align: right;\n",
       "    }\n",
       "</style>\n",
       "<table border=\"1\" class=\"dataframe\">\n",
       "  <thead>\n",
       "    <tr style=\"text-align: right;\">\n",
       "      <th></th>\n",
       "      <th>PassengerId</th>\n",
       "      <th>Survived</th>\n",
       "      <th>Pclass</th>\n",
       "      <th>Name</th>\n",
       "      <th>Sex</th>\n",
       "      <th>Age</th>\n",
       "      <th>SibSp</th>\n",
       "      <th>Parch</th>\n",
       "      <th>Ticket</th>\n",
       "      <th>Fare</th>\n",
       "      <th>...</th>\n",
       "      <th>Embarked</th>\n",
       "      <th>First Name</th>\n",
       "      <th>Title</th>\n",
       "      <th>Nickname</th>\n",
       "      <th>Last Name</th>\n",
       "      <th>Junior</th>\n",
       "      <th>Middle Names</th>\n",
       "      <th>Ticket Number</th>\n",
       "      <th>Ticket Type</th>\n",
       "      <th>family_size</th>\n",
       "    </tr>\n",
       "  </thead>\n",
       "  <tbody>\n",
       "    <tr>\n",
       "      <th>0</th>\n",
       "      <td>1</td>\n",
       "      <td>0</td>\n",
       "      <td>3</td>\n",
       "      <td>braund, mr. owen harris</td>\n",
       "      <td>male</td>\n",
       "      <td>22.0</td>\n",
       "      <td>1</td>\n",
       "      <td>0</td>\n",
       "      <td>a/5 21171</td>\n",
       "      <td>7.25</td>\n",
       "      <td>...</td>\n",
       "      <td>S</td>\n",
       "      <td>braund</td>\n",
       "      <td>mr.</td>\n",
       "      <td>0</td>\n",
       "      <td>owen</td>\n",
       "      <td>1</td>\n",
       "      <td>harris</td>\n",
       "      <td>21171</td>\n",
       "      <td>a/5</td>\n",
       "      <td>2</td>\n",
       "    </tr>\n",
       "  </tbody>\n",
       "</table>\n",
       "<p>1 rows × 21 columns</p>\n",
       "</div>"
      ],
      "text/plain": [
       "   PassengerId  Survived  Pclass                     Name   Sex   Age  SibSp  \\\n",
       "0            1         0       3  braund, mr. owen harris  male  22.0      1   \n",
       "\n",
       "   Parch     Ticket  Fare  ... Embarked First Name Title Nickname  Last Name  \\\n",
       "0      0  a/5 21171  7.25  ...        S     braund   mr.        0       owen   \n",
       "\n",
       "  Junior  Middle Names Ticket Number  Ticket Type family_size  \n",
       "0      1        harris         21171         a/5            2  \n",
       "\n",
       "[1 rows x 21 columns]"
      ]
     },
     "execution_count": 147,
     "metadata": {},
     "output_type": "execute_result"
    }
   ],
   "source": [
    "train.head(1)"
   ]
  },
  {
   "cell_type": "code",
   "execution_count": 212,
   "id": "b178ddb2-6662-4f57-bd50-b7149e4f9ae5",
   "metadata": {},
   "outputs": [
    {
     "data": {
      "text/plain": [
       "Index(['PassengerId', 'Survived', 'Pclass', 'Name', 'Sex', 'Age', 'SibSp',\n",
       "       'Parch', 'Ticket', 'Fare', 'Cabin', 'Embarked', 'First Name', 'Title',\n",
       "       'Nickname', 'Last Name', 'Junior', 'Middle Names', 'Ticket Number',\n",
       "       'Ticket Type', 'family_size'],\n",
       "      dtype='object')"
      ]
     },
     "execution_count": 212,
     "metadata": {},
     "output_type": "execute_result"
    }
   ],
   "source": [
    "train.columns"
   ]
  },
  {
   "cell_type": "code",
   "execution_count": 213,
   "id": "ded06023-3582-4be8-9ab5-350053d29b61",
   "metadata": {},
   "outputs": [],
   "source": [
    "X_train, X_test = train_test_split(train, test_size=0.2, random_state=40)"
   ]
  },
  {
   "cell_type": "code",
   "execution_count": 214,
   "id": "d390adf3-e18b-4df5-8846-07f0b4e79e8b",
   "metadata": {},
   "outputs": [],
   "source": [
    "columns = ['Survived','Sex','Age', 'Name','Pclass','Ticket','Fare','Ticket Number','Ticket Type']\n",
    "dataframe = X_train[columns]\n",
    "temp = dataframe.to_dict('list')\n",
    "train_dataset = tf.data.Dataset.from_tensor_slices(temp)\n",
    "\n",
    "dataframe = X_test[columns]\n",
    "temp = dataframe.to_dict('list')\n",
    "test_dataset = tf.data.Dataset.from_tensor_slices(temp)\n",
    "#for example in temp.take(3):\n",
    "#    print({attr_name: attr_tensor.numpy() for attr_name, attr_tensor in example.items()})"
   ]
  },
  {
   "cell_type": "code",
   "execution_count": 215,
   "id": "d075a32a-c5d2-4f8d-bda1-338235d0becd",
   "metadata": {},
   "outputs": [],
   "source": [
    "def prepare_dataset(example):\n",
    "    label = example[\"Survived\"]\n",
    "    features = {\"name\" : tf.strings.split(example[\"Name\"]),\n",
    "                #\"ticket_type\" : tf.strings.split(example[\"Ticket Type\"]),\n",
    "                #\"ticket\" : tf.strings.split(example[\"Ticket\"]),\n",
    "                #\"sex\" : example[\"Sex\"],\n",
    "                #\"age\" : example[\"Age\"],\n",
    "                #\"ticket\" : example[\"Ticket\"],\n",
    "                #\"pclass\" : example[\"Pclass\"], \n",
    "                #\"name\" : example[\"Name\"]\n",
    "               }\n",
    "    return features, label\n",
    "\n"
   ]
  },
  {
   "cell_type": "code",
   "execution_count": 216,
   "id": "8a1857c5-b483-4388-800e-8785227ba99d",
   "metadata": {},
   "outputs": [],
   "source": [
    "train_ds = train_dataset.batch(64).map(prepare_dataset)\n",
    "test_ds = test_dataset.batch(64).map(prepare_dataset)"
   ]
  },
  {
   "cell_type": "code",
   "execution_count": 217,
   "id": "709720b3-72ba-469f-9bea-43b7ad7d2873",
   "metadata": {},
   "outputs": [
    {
     "data": {
      "text/plain": [
       "<MapDataset shapes: ({name: (None, None)}, (None,)), types: ({name: tf.string}, tf.int32)>"
      ]
     },
     "execution_count": 217,
     "metadata": {},
     "output_type": "execute_result"
    }
   ],
   "source": [
    "train_ds"
   ]
  },
  {
   "cell_type": "code",
   "execution_count": 218,
   "id": "59f48016-bd47-4a90-aa32-2dd9f28fa064",
   "metadata": {},
   "outputs": [
    {
     "name": "stdout",
     "output_type": "stream",
     "text": [
      "12/12 [==============================] - 0s 662us/step\n"
     ]
    },
    {
     "data": {
      "text/plain": [
       "<tensorflow.python.keras.callbacks.History at 0x7fb6baf94130>"
      ]
     },
     "execution_count": 218,
     "metadata": {},
     "output_type": "execute_result"
    }
   ],
   "source": [
    "# Specify the model.\n",
    "model_1 = tfdf.keras.RandomForestModel(num_trees=30)\n",
    "model_1.compile(metrics=[\"accuracy\"])\n",
    "model_1.fit(x=train_ds)"
   ]
  },
  {
   "cell_type": "code",
   "execution_count": 219,
   "id": "ad17e706-3981-4118-a87f-ed87fcff5343",
   "metadata": {},
   "outputs": [
    {
     "name": "stdout",
     "output_type": "stream",
     "text": [
      "3/3 [==============================] - 0s 1ms/step - loss: 0.0000e+00 - accuracy: 0.7989\n",
      "BinaryCrossentropyloss: 0.0\n",
      "Accuracy: 0.7988826632499695\n"
     ]
    }
   ],
   "source": [
    "evaluation = model_1.evaluate(test_ds)\n",
    "\n",
    "print(f\"BinaryCrossentropyloss: {evaluation[0]}\")\n",
    "print(f\"Accuracy: {evaluation[1]}\")"
   ]
  },
  {
   "cell_type": "code",
   "execution_count": 220,
   "id": "1794b624-9926-4519-92e4-9c6bb251ddce",
   "metadata": {},
   "outputs": [
    {
     "name": "stdout",
     "output_type": "stream",
     "text": [
      "3/3 [==============================] - 0s 1ms/step - loss: 0.0000e+00 - accuracy: 0.7989\n",
      "BinaryCrossentropyloss: 0.0\n",
      "Accuracy: 0.7988826632499695\n"
     ]
    }
   ],
   "source": [
    "evaluation = model_1.evaluate(test_ds)\n",
    "\n",
    "print(f\"BinaryCrossentropyloss: {evaluation[0]}\")\n",
    "print(f\"Accuracy: {evaluation[1]}\")"
   ]
  },
  {
   "cell_type": "markdown",
   "id": "e7fd99e2-2c11-4be3-a326-772d99d78c11",
   "metadata": {},
   "source": [
    "# Train on full Dataset"
   ]
  },
  {
   "cell_type": "code",
   "execution_count": 221,
   "id": "ac15406b-bd28-4a91-b7e5-ac4973e48174",
   "metadata": {},
   "outputs": [
    {
     "name": "stdout",
     "output_type": "stream",
     "text": [
      "14/14 [==============================] - 0s 557us/step\n"
     ]
    },
    {
     "data": {
      "text/plain": [
       "<tensorflow.python.keras.callbacks.History at 0x7fb6bae6bd00>"
      ]
     },
     "execution_count": 221,
     "metadata": {},
     "output_type": "execute_result"
    }
   ],
   "source": [
    "columns = ['Survived','Sex','Age', 'Name','Pclass','Ticket','Fare','Ticket Number','Ticket Type']\n",
    "dataframe = train[columns]\n",
    "temp = dataframe.to_dict('list')\n",
    "train_dataset = tf.data.Dataset.from_tensor_slices(temp)\n",
    "\n",
    "train_ds = train_dataset.batch(64).map(prepare_dataset)\n",
    "\n",
    "# Specify the model.\n",
    "model_1 = tfdf.keras.RandomForestModel(num_trees=30)\n",
    "model_1.compile(metrics=[\"accuracy\"])\n",
    "model_1.fit(x=train_ds)"
   ]
  },
  {
   "cell_type": "markdown",
   "id": "ac9fcd3b-ee63-4e51-926c-47f1f11add22",
   "metadata": {},
   "source": [
    "# Make Predicitons"
   ]
  },
  {
   "cell_type": "code",
   "execution_count": 222,
   "id": "4d1c3b8c-2021-4878-a85d-da4443377766",
   "metadata": {},
   "outputs": [
    {
     "data": {
      "text/html": [
       "<div>\n",
       "<style scoped>\n",
       "    .dataframe tbody tr th:only-of-type {\n",
       "        vertical-align: middle;\n",
       "    }\n",
       "\n",
       "    .dataframe tbody tr th {\n",
       "        vertical-align: top;\n",
       "    }\n",
       "\n",
       "    .dataframe thead th {\n",
       "        text-align: right;\n",
       "    }\n",
       "</style>\n",
       "<table border=\"1\" class=\"dataframe\">\n",
       "  <thead>\n",
       "    <tr style=\"text-align: right;\">\n",
       "      <th></th>\n",
       "      <th>PassengerId</th>\n",
       "      <th>Pclass</th>\n",
       "      <th>Name</th>\n",
       "      <th>Sex</th>\n",
       "      <th>Age</th>\n",
       "      <th>SibSp</th>\n",
       "      <th>Parch</th>\n",
       "      <th>Ticket</th>\n",
       "      <th>Fare</th>\n",
       "      <th>Cabin</th>\n",
       "      <th>...</th>\n",
       "      <th>First Name</th>\n",
       "      <th>Title</th>\n",
       "      <th>Nickname</th>\n",
       "      <th>Last Name</th>\n",
       "      <th>Junior</th>\n",
       "      <th>Middle Names</th>\n",
       "      <th>Ticket Number</th>\n",
       "      <th>Ticket Type</th>\n",
       "      <th>family_size</th>\n",
       "      <th>Survived</th>\n",
       "    </tr>\n",
       "  </thead>\n",
       "  <tbody>\n",
       "    <tr>\n",
       "      <th>0</th>\n",
       "      <td>892</td>\n",
       "      <td>3</td>\n",
       "      <td>kelly, mr. james</td>\n",
       "      <td>male</td>\n",
       "      <td>34.5</td>\n",
       "      <td>0</td>\n",
       "      <td>0</td>\n",
       "      <td>330911</td>\n",
       "      <td>7.8292</td>\n",
       "      <td>n</td>\n",
       "      <td>...</td>\n",
       "      <td>kelly</td>\n",
       "      <td>mr.</td>\n",
       "      <td>0</td>\n",
       "      <td>james</td>\n",
       "      <td>1</td>\n",
       "      <td></td>\n",
       "      <td>330911</td>\n",
       "      <td></td>\n",
       "      <td>1</td>\n",
       "      <td>0.000000</td>\n",
       "    </tr>\n",
       "    <tr>\n",
       "      <th>1</th>\n",
       "      <td>893</td>\n",
       "      <td>3</td>\n",
       "      <td>wilkes, mrs. james (ellen needs)</td>\n",
       "      <td>female</td>\n",
       "      <td>47.0</td>\n",
       "      <td>1</td>\n",
       "      <td>0</td>\n",
       "      <td>363272</td>\n",
       "      <td>7.0000</td>\n",
       "      <td>n</td>\n",
       "      <td>...</td>\n",
       "      <td>wilkes</td>\n",
       "      <td>mrs.</td>\n",
       "      <td>1</td>\n",
       "      <td>james</td>\n",
       "      <td>1</td>\n",
       "      <td></td>\n",
       "      <td>363272</td>\n",
       "      <td></td>\n",
       "      <td>2</td>\n",
       "      <td>0.400000</td>\n",
       "    </tr>\n",
       "    <tr>\n",
       "      <th>2</th>\n",
       "      <td>894</td>\n",
       "      <td>2</td>\n",
       "      <td>myles, mr. thomas francis</td>\n",
       "      <td>male</td>\n",
       "      <td>62.0</td>\n",
       "      <td>0</td>\n",
       "      <td>0</td>\n",
       "      <td>240276</td>\n",
       "      <td>9.6875</td>\n",
       "      <td>n</td>\n",
       "      <td>...</td>\n",
       "      <td>myles</td>\n",
       "      <td>mr.</td>\n",
       "      <td>0</td>\n",
       "      <td>thomas</td>\n",
       "      <td>1</td>\n",
       "      <td>francis</td>\n",
       "      <td>240276</td>\n",
       "      <td></td>\n",
       "      <td>1</td>\n",
       "      <td>0.066667</td>\n",
       "    </tr>\n",
       "    <tr>\n",
       "      <th>3</th>\n",
       "      <td>895</td>\n",
       "      <td>3</td>\n",
       "      <td>wirz, mr. albert</td>\n",
       "      <td>male</td>\n",
       "      <td>27.0</td>\n",
       "      <td>0</td>\n",
       "      <td>0</td>\n",
       "      <td>315154</td>\n",
       "      <td>8.6625</td>\n",
       "      <td>n</td>\n",
       "      <td>...</td>\n",
       "      <td>wirz</td>\n",
       "      <td>mr.</td>\n",
       "      <td>0</td>\n",
       "      <td>albert</td>\n",
       "      <td>1</td>\n",
       "      <td></td>\n",
       "      <td>315154</td>\n",
       "      <td></td>\n",
       "      <td>1</td>\n",
       "      <td>0.333333</td>\n",
       "    </tr>\n",
       "    <tr>\n",
       "      <th>4</th>\n",
       "      <td>896</td>\n",
       "      <td>3</td>\n",
       "      <td>hirvonen, mrs. alexander (helga e lindqvist)</td>\n",
       "      <td>female</td>\n",
       "      <td>22.0</td>\n",
       "      <td>1</td>\n",
       "      <td>1</td>\n",
       "      <td>3101298</td>\n",
       "      <td>12.2875</td>\n",
       "      <td>n</td>\n",
       "      <td>...</td>\n",
       "      <td>hirvonen</td>\n",
       "      <td>mrs.</td>\n",
       "      <td>1</td>\n",
       "      <td>alexander</td>\n",
       "      <td>1</td>\n",
       "      <td></td>\n",
       "      <td>3101298</td>\n",
       "      <td></td>\n",
       "      <td>3</td>\n",
       "      <td>0.700000</td>\n",
       "    </tr>\n",
       "  </tbody>\n",
       "</table>\n",
       "<p>5 rows × 21 columns</p>\n",
       "</div>"
      ],
      "text/plain": [
       "   PassengerId  Pclass                                          Name     Sex  \\\n",
       "0          892       3                              kelly, mr. james    male   \n",
       "1          893       3              wilkes, mrs. james (ellen needs)  female   \n",
       "2          894       2                     myles, mr. thomas francis    male   \n",
       "3          895       3                              wirz, mr. albert    male   \n",
       "4          896       3  hirvonen, mrs. alexander (helga e lindqvist)  female   \n",
       "\n",
       "    Age  SibSp  Parch   Ticket     Fare Cabin  ... First Name Title Nickname  \\\n",
       "0  34.5      0      0   330911   7.8292     n  ...      kelly   mr.        0   \n",
       "1  47.0      1      0   363272   7.0000     n  ...     wilkes  mrs.        1   \n",
       "2  62.0      0      0   240276   9.6875     n  ...      myles   mr.        0   \n",
       "3  27.0      0      0   315154   8.6625     n  ...       wirz   mr.        0   \n",
       "4  22.0      1      1  3101298  12.2875     n  ...   hirvonen  mrs.        1   \n",
       "\n",
       "   Last Name Junior  Middle Names Ticket Number  Ticket Type family_size  \\\n",
       "0      james      1                      330911                        1   \n",
       "1      james      1                      363272                        2   \n",
       "2     thomas      1       francis        240276                        1   \n",
       "3     albert      1                      315154                        1   \n",
       "4  alexander      1                     3101298                        3   \n",
       "\n",
       "   Survived  \n",
       "0  0.000000  \n",
       "1  0.400000  \n",
       "2  0.066667  \n",
       "3  0.333333  \n",
       "4  0.700000  \n",
       "\n",
       "[5 rows x 21 columns]"
      ]
     },
     "execution_count": 222,
     "metadata": {},
     "output_type": "execute_result"
    }
   ],
   "source": [
    "test.head()"
   ]
  },
  {
   "cell_type": "code",
   "execution_count": 223,
   "id": "2ce52879-4b3d-4577-8be2-0f2226880551",
   "metadata": {},
   "outputs": [],
   "source": [
    "columns = ['Sex','Age', 'Name','Pclass','Ticket','Fare','Ticket Number','Ticket Type']\n",
    "dataframe = test[columns]\n",
    "temp = dataframe.to_dict('list')\n",
    "test_dataset = tf.data.Dataset.from_tensor_slices(temp)\n",
    "\n",
    "def prepare_dataset(example):\n",
    "    features = {\"name\" : tf.strings.split(example[\"Name\"]),\n",
    "                #\"ticket_type\" : tf.strings.split(example[\"Ticket Type\"]),\n",
    "                #\"ticket\" : tf.strings.split(example[\"Ticket\"]),\n",
    "                #\"sex\" : example[\"Sex\"],\n",
    "                #\"age\" : example[\"Age\"],\n",
    "                #\"ticket\" : example[\"Ticket\"],\n",
    "                #\"pclass\" : example[\"Pclass\"], \n",
    "                #\"name\" : example[\"Name\"]\n",
    "               }\n",
    "    return features\n",
    "\n",
    "test_ds = test_dataset.batch(64).map(prepare_dataset)\n"
   ]
  },
  {
   "cell_type": "code",
   "execution_count": 224,
   "id": "6a1c17e9-1dd5-490b-b9d1-664425982c1a",
   "metadata": {},
   "outputs": [],
   "source": [
    "y_pred = model_1.predict(test_ds)"
   ]
  },
  {
   "cell_type": "code",
   "execution_count": 225,
   "id": "aa0e7922-9dc8-4390-8e5b-461bb27dbd84",
   "metadata": {},
   "outputs": [],
   "source": [
    "#y_pred"
   ]
  },
  {
   "cell_type": "code",
   "execution_count": 226,
   "id": "b4263a64-79ed-4dfe-b54f-1f2531362065",
   "metadata": {},
   "outputs": [],
   "source": [
    "test['Survived'] = y_pred"
   ]
  },
  {
   "cell_type": "code",
   "execution_count": 227,
   "id": "9d1242ae-6e03-492b-bc57-dd92333cc0e0",
   "metadata": {},
   "outputs": [
    {
     "data": {
      "text/html": [
       "<div>\n",
       "<style scoped>\n",
       "    .dataframe tbody tr th:only-of-type {\n",
       "        vertical-align: middle;\n",
       "    }\n",
       "\n",
       "    .dataframe tbody tr th {\n",
       "        vertical-align: top;\n",
       "    }\n",
       "\n",
       "    .dataframe thead th {\n",
       "        text-align: right;\n",
       "    }\n",
       "</style>\n",
       "<table border=\"1\" class=\"dataframe\">\n",
       "  <thead>\n",
       "    <tr style=\"text-align: right;\">\n",
       "      <th></th>\n",
       "      <th>PassengerId</th>\n",
       "      <th>Pclass</th>\n",
       "      <th>Name</th>\n",
       "      <th>Sex</th>\n",
       "      <th>Age</th>\n",
       "      <th>SibSp</th>\n",
       "      <th>Parch</th>\n",
       "      <th>Ticket</th>\n",
       "      <th>Fare</th>\n",
       "      <th>Cabin</th>\n",
       "      <th>...</th>\n",
       "      <th>First Name</th>\n",
       "      <th>Title</th>\n",
       "      <th>Nickname</th>\n",
       "      <th>Last Name</th>\n",
       "      <th>Junior</th>\n",
       "      <th>Middle Names</th>\n",
       "      <th>Ticket Number</th>\n",
       "      <th>Ticket Type</th>\n",
       "      <th>family_size</th>\n",
       "      <th>Survived</th>\n",
       "    </tr>\n",
       "  </thead>\n",
       "  <tbody>\n",
       "    <tr>\n",
       "      <th>0</th>\n",
       "      <td>892</td>\n",
       "      <td>3</td>\n",
       "      <td>kelly, mr. james</td>\n",
       "      <td>male</td>\n",
       "      <td>34.5</td>\n",
       "      <td>0</td>\n",
       "      <td>0</td>\n",
       "      <td>330911</td>\n",
       "      <td>7.8292</td>\n",
       "      <td>n</td>\n",
       "      <td>...</td>\n",
       "      <td>kelly</td>\n",
       "      <td>mr.</td>\n",
       "      <td>0</td>\n",
       "      <td>james</td>\n",
       "      <td>1</td>\n",
       "      <td></td>\n",
       "      <td>330911</td>\n",
       "      <td></td>\n",
       "      <td>1</td>\n",
       "      <td>0.000000</td>\n",
       "    </tr>\n",
       "    <tr>\n",
       "      <th>1</th>\n",
       "      <td>893</td>\n",
       "      <td>3</td>\n",
       "      <td>wilkes, mrs. james (ellen needs)</td>\n",
       "      <td>female</td>\n",
       "      <td>47.0</td>\n",
       "      <td>1</td>\n",
       "      <td>0</td>\n",
       "      <td>363272</td>\n",
       "      <td>7.0000</td>\n",
       "      <td>n</td>\n",
       "      <td>...</td>\n",
       "      <td>wilkes</td>\n",
       "      <td>mrs.</td>\n",
       "      <td>1</td>\n",
       "      <td>james</td>\n",
       "      <td>1</td>\n",
       "      <td></td>\n",
       "      <td>363272</td>\n",
       "      <td></td>\n",
       "      <td>2</td>\n",
       "      <td>0.966667</td>\n",
       "    </tr>\n",
       "    <tr>\n",
       "      <th>2</th>\n",
       "      <td>894</td>\n",
       "      <td>2</td>\n",
       "      <td>myles, mr. thomas francis</td>\n",
       "      <td>male</td>\n",
       "      <td>62.0</td>\n",
       "      <td>0</td>\n",
       "      <td>0</td>\n",
       "      <td>240276</td>\n",
       "      <td>9.6875</td>\n",
       "      <td>n</td>\n",
       "      <td>...</td>\n",
       "      <td>myles</td>\n",
       "      <td>mr.</td>\n",
       "      <td>0</td>\n",
       "      <td>thomas</td>\n",
       "      <td>1</td>\n",
       "      <td>francis</td>\n",
       "      <td>240276</td>\n",
       "      <td></td>\n",
       "      <td>1</td>\n",
       "      <td>0.066667</td>\n",
       "    </tr>\n",
       "    <tr>\n",
       "      <th>3</th>\n",
       "      <td>895</td>\n",
       "      <td>3</td>\n",
       "      <td>wirz, mr. albert</td>\n",
       "      <td>male</td>\n",
       "      <td>27.0</td>\n",
       "      <td>0</td>\n",
       "      <td>0</td>\n",
       "      <td>315154</td>\n",
       "      <td>8.6625</td>\n",
       "      <td>n</td>\n",
       "      <td>...</td>\n",
       "      <td>wirz</td>\n",
       "      <td>mr.</td>\n",
       "      <td>0</td>\n",
       "      <td>albert</td>\n",
       "      <td>1</td>\n",
       "      <td></td>\n",
       "      <td>315154</td>\n",
       "      <td></td>\n",
       "      <td>1</td>\n",
       "      <td>0.200000</td>\n",
       "    </tr>\n",
       "    <tr>\n",
       "      <th>4</th>\n",
       "      <td>896</td>\n",
       "      <td>3</td>\n",
       "      <td>hirvonen, mrs. alexander (helga e lindqvist)</td>\n",
       "      <td>female</td>\n",
       "      <td>22.0</td>\n",
       "      <td>1</td>\n",
       "      <td>1</td>\n",
       "      <td>3101298</td>\n",
       "      <td>12.2875</td>\n",
       "      <td>n</td>\n",
       "      <td>...</td>\n",
       "      <td>hirvonen</td>\n",
       "      <td>mrs.</td>\n",
       "      <td>1</td>\n",
       "      <td>alexander</td>\n",
       "      <td>1</td>\n",
       "      <td></td>\n",
       "      <td>3101298</td>\n",
       "      <td></td>\n",
       "      <td>3</td>\n",
       "      <td>0.866667</td>\n",
       "    </tr>\n",
       "  </tbody>\n",
       "</table>\n",
       "<p>5 rows × 21 columns</p>\n",
       "</div>"
      ],
      "text/plain": [
       "   PassengerId  Pclass                                          Name     Sex  \\\n",
       "0          892       3                              kelly, mr. james    male   \n",
       "1          893       3              wilkes, mrs. james (ellen needs)  female   \n",
       "2          894       2                     myles, mr. thomas francis    male   \n",
       "3          895       3                              wirz, mr. albert    male   \n",
       "4          896       3  hirvonen, mrs. alexander (helga e lindqvist)  female   \n",
       "\n",
       "    Age  SibSp  Parch   Ticket     Fare Cabin  ... First Name Title Nickname  \\\n",
       "0  34.5      0      0   330911   7.8292     n  ...      kelly   mr.        0   \n",
       "1  47.0      1      0   363272   7.0000     n  ...     wilkes  mrs.        1   \n",
       "2  62.0      0      0   240276   9.6875     n  ...      myles   mr.        0   \n",
       "3  27.0      0      0   315154   8.6625     n  ...       wirz   mr.        0   \n",
       "4  22.0      1      1  3101298  12.2875     n  ...   hirvonen  mrs.        1   \n",
       "\n",
       "   Last Name Junior  Middle Names Ticket Number  Ticket Type family_size  \\\n",
       "0      james      1                      330911                        1   \n",
       "1      james      1                      363272                        2   \n",
       "2     thomas      1       francis        240276                        1   \n",
       "3     albert      1                      315154                        1   \n",
       "4  alexander      1                     3101298                        3   \n",
       "\n",
       "   Survived  \n",
       "0  0.000000  \n",
       "1  0.966667  \n",
       "2  0.066667  \n",
       "3  0.200000  \n",
       "4  0.866667  \n",
       "\n",
       "[5 rows x 21 columns]"
      ]
     },
     "execution_count": 227,
     "metadata": {},
     "output_type": "execute_result"
    }
   ],
   "source": [
    "test.head()"
   ]
  },
  {
   "cell_type": "code",
   "execution_count": 228,
   "id": "efdf49ef-3ec4-44d7-99c2-c8c3c6d71df1",
   "metadata": {},
   "outputs": [],
   "source": [
    "sub = test[['PassengerId','Survived']]"
   ]
  },
  {
   "cell_type": "code",
   "execution_count": 229,
   "id": "9c0b220e-8504-4789-89ae-734887b55319",
   "metadata": {},
   "outputs": [
    {
     "name": "stderr",
     "output_type": "stream",
     "text": [
      "<ipython-input-229-6bc66fba1d3c>:1: SettingWithCopyWarning: \n",
      "A value is trying to be set on a copy of a slice from a DataFrame.\n",
      "Try using .loc[row_indexer,col_indexer] = value instead\n",
      "\n",
      "See the caveats in the documentation: https://pandas.pydata.org/pandas-docs/stable/user_guide/indexing.html#returning-a-view-versus-a-copy\n",
      "  sub['Survived'] = np.where(sub['Survived'] >= .5, 1, 0)\n"
     ]
    }
   ],
   "source": [
    "sub['Survived'] = np.where(sub['Survived'] >= .5, 1, 0)"
   ]
  },
  {
   "cell_type": "code",
   "execution_count": 230,
   "id": "a30f1bbf-98f8-448b-a164-4589d753ff15",
   "metadata": {},
   "outputs": [
    {
     "data": {
      "text/html": [
       "<div>\n",
       "<style scoped>\n",
       "    .dataframe tbody tr th:only-of-type {\n",
       "        vertical-align: middle;\n",
       "    }\n",
       "\n",
       "    .dataframe tbody tr th {\n",
       "        vertical-align: top;\n",
       "    }\n",
       "\n",
       "    .dataframe thead th {\n",
       "        text-align: right;\n",
       "    }\n",
       "</style>\n",
       "<table border=\"1\" class=\"dataframe\">\n",
       "  <thead>\n",
       "    <tr style=\"text-align: right;\">\n",
       "      <th></th>\n",
       "      <th>PassengerId</th>\n",
       "      <th>Survived</th>\n",
       "    </tr>\n",
       "  </thead>\n",
       "  <tbody>\n",
       "    <tr>\n",
       "      <th>0</th>\n",
       "      <td>892</td>\n",
       "      <td>0</td>\n",
       "    </tr>\n",
       "    <tr>\n",
       "      <th>1</th>\n",
       "      <td>893</td>\n",
       "      <td>1</td>\n",
       "    </tr>\n",
       "    <tr>\n",
       "      <th>2</th>\n",
       "      <td>894</td>\n",
       "      <td>0</td>\n",
       "    </tr>\n",
       "    <tr>\n",
       "      <th>3</th>\n",
       "      <td>895</td>\n",
       "      <td>0</td>\n",
       "    </tr>\n",
       "    <tr>\n",
       "      <th>4</th>\n",
       "      <td>896</td>\n",
       "      <td>1</td>\n",
       "    </tr>\n",
       "  </tbody>\n",
       "</table>\n",
       "</div>"
      ],
      "text/plain": [
       "   PassengerId  Survived\n",
       "0          892         0\n",
       "1          893         1\n",
       "2          894         0\n",
       "3          895         0\n",
       "4          896         1"
      ]
     },
     "execution_count": 230,
     "metadata": {},
     "output_type": "execute_result"
    }
   ],
   "source": [
    "sub.head()"
   ]
  },
  {
   "cell_type": "code",
   "execution_count": 231,
   "id": "5d3480e0-51a5-4d3c-aeac-b9edfbcdff5e",
   "metadata": {},
   "outputs": [],
   "source": [
    "sub.to_csv('submission.csv',index=False)"
   ]
  },
  {
   "cell_type": "code",
   "execution_count": 232,
   "id": "d8c3cb90-7abd-461e-a905-b8b3626b0c85",
   "metadata": {},
   "outputs": [
    {
     "name": "stdout",
     "output_type": "stream",
     "text": [
      "Warning: Your Kaggle API key is readable by other users on this system! To fix this, you can run 'chmod 600 /home/neil/kaggle/kaggle.json'\n",
      "Warning: Looks like you're using an outdated API Version, please consider updating (server 1.5.12 / client 1.5.8)\n",
      "100%|██████████████████████████████████████| 2.77k/2.77k [00:00<00:00, 3.95kB/s]\n",
      "Successfully submitted to Titanic - Machine Learning from Disaster"
     ]
    }
   ],
   "source": [
    "!kaggle competitions submit -c titanic -f submission.csv -m \"Only Name\""
   ]
  },
  {
   "cell_type": "code",
   "execution_count": null,
   "id": "c0d3b56c-7d9b-441f-b58c-c6c72275114b",
   "metadata": {},
   "outputs": [],
   "source": []
  }
 ],
 "metadata": {
  "kernelspec": {
   "display_name": "ds_py_3.8",
   "language": "python",
   "name": "ds_py_3.8"
  },
  "language_info": {
   "codemirror_mode": {
    "name": "ipython",
    "version": 3
   },
   "file_extension": ".py",
   "mimetype": "text/x-python",
   "name": "python",
   "nbconvert_exporter": "python",
   "pygments_lexer": "ipython3",
   "version": "3.8.10"
  }
 },
 "nbformat": 4,
 "nbformat_minor": 5
}
