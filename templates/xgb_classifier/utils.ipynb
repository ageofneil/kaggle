{
 "cells": [
  {
   "cell_type": "code",
   "execution_count": 4,
   "id": "277d134f-c880-4eff-9a80-872f314f6bc4",
   "metadata": {},
   "outputs": [],
   "source": [
    "#import re"
   ]
  },
  {
   "cell_type": "markdown",
   "id": "44d1dfb6-0a31-41fb-bd8e-f24d598fb019",
   "metadata": {},
   "source": [
    "## Process Name Functions"
   ]
  },
  {
   "cell_type": "code",
   "execution_count": 1,
   "id": "c25ba81a-5268-4635-b3bb-149d5ba03239",
   "metadata": {},
   "outputs": [],
   "source": [
    "## Helper functions\n",
    "def get_nickanme(x):\n",
    "    import re\n",
    "    if \"(\" in x:\n",
    "        nickname = re.findall('\\(.*?\\)',x)[0]\n",
    "    elif '\"' in x:\n",
    "        nickname = re.findall('\\\".*?\\\"',x)[0]\n",
    "    else:\n",
    "        nickname = \"none\"\n",
    "    return nickname\n",
    "\n",
    "def get_lastname(name, first_name, title, nickname):\n",
    "    last_name = name.replace(first_name,'')\n",
    "    last_name = last_name.replace(title,'')\n",
    "    last_name = last_name.replace(nickname,'')\n",
    "    last_name = last_name.replace(',','')\n",
    "    return last_name\n",
    "\n",
    "def replace_last(source_string, replace_what):\n",
    "    head, _sep, tail = source_string.rpartition(replace_what)\n",
    "    return head + \"\" + tail\n",
    "\n",
    "def nlp_transforms(df):\n",
    "    df.Name = df.Name.str.lower()\n",
    "\n",
    "    ## first name, title, nickname\n",
    "    df['First Name'] = df['Name'].apply(lambda x: x.split(\",\")[0])\n",
    "    df['Title'] = df['Name'].apply(lambda x: x.split(\",\")[1].split()[0])\n",
    "    df['Nickname'] = df['Name'].apply(lambda x: get_nickanme(x))\n",
    "    df['Last Name'] = df.apply(lambda x: get_lastname(x['Name'], x['First Name'],x['Title'],x['Nickname']), axis=1)\n",
    "    df['Junior'] = df['Last Name'].apply(lambda x: x.endswith((\"jr\",\"ii\")))\n",
    "    df['Last Name'] = df['Last Name'].apply(lambda x: replace_last(x, \"jr\"))\n",
    "    df['Last Name'] = df['Last Name'].apply(lambda x: replace_last(x, \"ii\"))\n",
    "    df['Last Name'] = df['Last Name'].apply(lambda x: x.strip())\n",
    "    df['Middle Names'] = df['Last Name'].apply(lambda x: x.split(' ')[1:])\n",
    "    df['Middle Names'] = df['Middle Names'].apply(lambda x: ' '.join(x))\n",
    "    df['Last Name'] = df['Last Name'].apply(lambda x: x.split(' ')[0])\n",
    "    return df\n"
   ]
  },
  {
   "cell_type": "markdown",
   "id": "4606f9e8-9196-4721-a53b-a104b953214f",
   "metadata": {},
   "source": [
    "# Proccess Tickets"
   ]
  },
  {
   "cell_type": "code",
   "execution_count": 2,
   "id": "f0e671c9-2972-4f15-947a-8e02362ec15a",
   "metadata": {},
   "outputs": [],
   "source": [
    "# Proccess Tickets\n",
    "def replace_number(ticket, number):\n",
    "    x = ticket.replace(str(number), '')\n",
    "    return x\n",
    "\n",
    "def ticket_transforms(df):\n",
    "    df.Ticket = df.Ticket.str.lower()\n",
    "\n",
    "    df['temp'] = df.Ticket.str.split()\n",
    "    df['Ticket Number'] = df.temp.apply(lambda x: x[-1])\n",
    "    df[\"Ticket Number\"] = df[\"Ticket Number\"].str.replace('line','0')\n",
    "    df[\"Ticket Number\"] = df[\"Ticket Number\"].astype(int)\n",
    "    df['Ticket Type'] = df.apply(lambda x: replace_number(x['Ticket'], x['Ticket Number']), axis=1)\n",
    "    df = df.drop(['temp'],axis=1)\n",
    "    return df"
   ]
  },
  {
   "cell_type": "markdown",
   "id": "dcd58a36-5793-45f8-a6f0-26a8ecbadb91",
   "metadata": {},
   "source": [
    "# Feature Selection"
   ]
  },
  {
   "cell_type": "code",
   "execution_count": 6,
   "id": "ae4d3d32-b43c-4728-b0e8-5a9aaa4f3cea",
   "metadata": {},
   "outputs": [],
   "source": [
    "def feature_selection(drop_cols, categorical_cols, ordinal_cols):\n",
    "    for column in drop_cols:\n",
    "        if column in categorical_cols: categorical_cols.remove(column)\n",
    "        if column in ordinal_cols: ordinal_cols.remove(column)\n",
    "    features = categorical_cols + ordinal_cols\n",
    "    return features,categorical_cols,ordinal_cols"
   ]
  },
  {
   "cell_type": "code",
   "execution_count": null,
   "id": "1d50cba2-b771-4ff1-a64a-96e621e74c0e",
   "metadata": {},
   "outputs": [],
   "source": []
  }
 ],
 "metadata": {
  "kernelspec": {
   "display_name": "ds_py_3.8",
   "language": "python",
   "name": "ds_py_3.8"
  },
  "language_info": {
   "codemirror_mode": {
    "name": "ipython",
    "version": 3
   },
   "file_extension": ".py",
   "mimetype": "text/x-python",
   "name": "python",
   "nbconvert_exporter": "python",
   "pygments_lexer": "ipython3",
   "version": "3.8.10"
  }
 },
 "nbformat": 4,
 "nbformat_minor": 5
}
