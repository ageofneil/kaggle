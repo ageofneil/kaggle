{
 "cells": [
  {
   "cell_type": "code",
   "execution_count": 486,
   "id": "vital-leisure",
   "metadata": {},
   "outputs": [],
   "source": [
    "import datetime\n",
    "import pandas as pd\n",
    "import matplotlib.pyplot as plt\n",
    "import numpy as np\n",
    "import seaborn as sns\n",
    "\n",
    "from sklearn import metrics\n",
    "from xgboost import XGBClassifier"
   ]
  },
  {
   "cell_type": "markdown",
   "id": "imposed-atlas",
   "metadata": {},
   "source": [
    "## Load Data"
   ]
  },
  {
   "cell_type": "code",
   "execution_count": 487,
   "id": "opening-blocking",
   "metadata": {},
   "outputs": [],
   "source": [
    "train = pd.read_csv('data/train.csv')\n",
    "test = pd.read_csv('data/test.csv')"
   ]
  },
  {
   "cell_type": "code",
   "execution_count": 488,
   "id": "backed-trademark",
   "metadata": {},
   "outputs": [
    {
     "data": {
      "text/plain": [
       "count    21000.000000\n",
       "mean         0.085667\n",
       "std          0.279878\n",
       "min          0.000000\n",
       "25%          0.000000\n",
       "50%          0.000000\n",
       "75%          0.000000\n",
       "max          1.000000\n",
       "Name: damaged, dtype: float64"
      ]
     },
     "execution_count": 488,
     "metadata": {},
     "output_type": "execute_result"
    }
   ],
   "source": [
    "train[target].describe()"
   ]
  },
  {
   "cell_type": "code",
   "execution_count": null,
   "id": "hundred-tribune",
   "metadata": {},
   "outputs": [],
   "source": []
  },
  {
   "cell_type": "code",
   "execution_count": null,
   "id": "developing-oakland",
   "metadata": {},
   "outputs": [],
   "source": []
  },
  {
   "cell_type": "code",
   "execution_count": 489,
   "id": "sized-essence",
   "metadata": {},
   "outputs": [],
   "source": [
    "# We're looking at inbalanced data. About 8.5% of flights hit wildlife."
   ]
  },
  {
   "cell_type": "code",
   "execution_count": 490,
   "id": "retained-redhead",
   "metadata": {},
   "outputs": [
    {
     "data": {
      "text/plain": [
       "(21000, 34)"
      ]
     },
     "execution_count": 490,
     "metadata": {},
     "output_type": "execute_result"
    }
   ],
   "source": [
    "train.shape"
   ]
  },
  {
   "cell_type": "code",
   "execution_count": 493,
   "id": "talented-davis",
   "metadata": {},
   "outputs": [
    {
     "name": "stdout",
     "output_type": "stream",
     "text": [
      "<class 'pandas.core.frame.DataFrame'>\n",
      "RangeIndex: 21000 entries, 0 to 20999\n",
      "Data columns (total 34 columns):\n",
      " #   Column            Non-Null Count  Dtype  \n",
      "---  ------            --------------  -----  \n",
      " 0   id                21000 non-null  int64  \n",
      " 1   incident_year     21000 non-null  int64  \n",
      " 2   incident_month    21000 non-null  int64  \n",
      " 3   incident_day      21000 non-null  int64  \n",
      " 4   operator_id       21000 non-null  object \n",
      " 5   operator          21000 non-null  object \n",
      " 6   aircraft          21000 non-null  object \n",
      " 7   aircraft_type     16008 non-null  object \n",
      " 8   aircraft_make     15769 non-null  object \n",
      " 9   aircraft_model    14741 non-null  float64\n",
      " 10  aircraft_mass     15306 non-null  float64\n",
      " 11  engine_make       14845 non-null  float64\n",
      " 12  engine_model      14666 non-null  object \n",
      " 13  engines           15304 non-null  float64\n",
      " 14  engine_type       15297 non-null  object \n",
      " 15  engine1_position  15162 non-null  float64\n",
      " 16  engine2_position  14224 non-null  float64\n",
      " 17  engine3_position  1329 non-null   object \n",
      " 18  engine4_position  350 non-null    float64\n",
      " 19  airport_id        21000 non-null  object \n",
      " 20  airport           20966 non-null  object \n",
      " 21  state             18336 non-null  object \n",
      " 22  faa_region        18734 non-null  object \n",
      " 23  flight_phase      14272 non-null  object \n",
      " 24  visibility        13301 non-null  object \n",
      " 25  precipitation     10673 non-null  object \n",
      " 26  height            12531 non-null  float64\n",
      " 27  speed             8642 non-null   float64\n",
      " 28  distance          12087 non-null  float64\n",
      " 29  species_id        21000 non-null  object \n",
      " 30  species_name      20993 non-null  object \n",
      " 31  species_quantity  20468 non-null  object \n",
      " 32  flight_impact     12056 non-null  object \n",
      " 33  damaged           21000 non-null  int64  \n",
      "dtypes: float64(10), int64(5), object(19)\n",
      "memory usage: 5.4+ MB\n"
     ]
    }
   ],
   "source": [
    "train.info()"
   ]
  },
  {
   "cell_type": "markdown",
   "id": "bacterial-gravity",
   "metadata": {},
   "source": [
    "**NULL Observations**\n",
    "- Test data has the same problem. would need to transform that too.\n",
    "- Columns with no NULLS: [\"id\", \"incident_year\",\"incident_month\",\"incident_day\",\"operator_id\",\"operator\",\"aircraft\",\"airport_id\",\"species_id\"]\n",
    "- Columns with almost no Nulls: [\"airport\",\"species_name\",\"species_quantity\"'\n",
    "- Lots of NULL values\n",
    "   - Engine3 and 4 are most likely \"censored\" data. NULL because the plain did not have those engines"
   ]
  },
  {
   "cell_type": "code",
   "execution_count": 494,
   "id": "preliminary-arrest",
   "metadata": {},
   "outputs": [
    {
     "data": {
      "text/html": [
       "<div>\n",
       "<style scoped>\n",
       "    .dataframe tbody tr th:only-of-type {\n",
       "        vertical-align: middle;\n",
       "    }\n",
       "\n",
       "    .dataframe tbody tr th {\n",
       "        vertical-align: top;\n",
       "    }\n",
       "\n",
       "    .dataframe thead th {\n",
       "        text-align: right;\n",
       "    }\n",
       "</style>\n",
       "<table border=\"1\" class=\"dataframe\">\n",
       "  <thead>\n",
       "    <tr style=\"text-align: right;\">\n",
       "      <th></th>\n",
       "      <th>id</th>\n",
       "      <th>incident_year</th>\n",
       "      <th>incident_month</th>\n",
       "      <th>incident_day</th>\n",
       "      <th>aircraft_model</th>\n",
       "      <th>aircraft_mass</th>\n",
       "      <th>engine_make</th>\n",
       "      <th>engines</th>\n",
       "      <th>engine1_position</th>\n",
       "      <th>engine2_position</th>\n",
       "      <th>engine4_position</th>\n",
       "      <th>height</th>\n",
       "      <th>speed</th>\n",
       "      <th>distance</th>\n",
       "      <th>damaged</th>\n",
       "    </tr>\n",
       "  </thead>\n",
       "  <tbody>\n",
       "    <tr>\n",
       "      <th>count</th>\n",
       "      <td>21000.000000</td>\n",
       "      <td>21000.000000</td>\n",
       "      <td>21000.000000</td>\n",
       "      <td>21000.000000</td>\n",
       "      <td>14741.000000</td>\n",
       "      <td>15306.000000</td>\n",
       "      <td>14845.000000</td>\n",
       "      <td>15304.000000</td>\n",
       "      <td>15162.000000</td>\n",
       "      <td>14224.000000</td>\n",
       "      <td>350.000000</td>\n",
       "      <td>12531.000000</td>\n",
       "      <td>8642.000000</td>\n",
       "      <td>12087.000000</td>\n",
       "      <td>21000.000000</td>\n",
       "    </tr>\n",
       "    <tr>\n",
       "      <th>mean</th>\n",
       "      <td>14980.935667</td>\n",
       "      <td>2006.059048</td>\n",
       "      <td>7.186048</td>\n",
       "      <td>15.629476</td>\n",
       "      <td>24.645818</td>\n",
       "      <td>3.497321</td>\n",
       "      <td>21.222028</td>\n",
       "      <td>2.049007</td>\n",
       "      <td>2.992679</td>\n",
       "      <td>2.912753</td>\n",
       "      <td>2.017143</td>\n",
       "      <td>819.239965</td>\n",
       "      <td>141.393775</td>\n",
       "      <td>0.662865</td>\n",
       "      <td>0.085667</td>\n",
       "    </tr>\n",
       "    <tr>\n",
       "      <th>std</th>\n",
       "      <td>8663.241167</td>\n",
       "      <td>6.720905</td>\n",
       "      <td>2.794620</td>\n",
       "      <td>8.824230</td>\n",
       "      <td>21.702262</td>\n",
       "      <td>0.887106</td>\n",
       "      <td>11.037619</td>\n",
       "      <td>0.464322</td>\n",
       "      <td>2.094058</td>\n",
       "      <td>2.006015</td>\n",
       "      <td>1.430227</td>\n",
       "      <td>1772.530587</td>\n",
       "      <td>52.254614</td>\n",
       "      <td>3.333111</td>\n",
       "      <td>0.279878</td>\n",
       "    </tr>\n",
       "    <tr>\n",
       "      <th>min</th>\n",
       "      <td>1.000000</td>\n",
       "      <td>1990.000000</td>\n",
       "      <td>1.000000</td>\n",
       "      <td>1.000000</td>\n",
       "      <td>0.000000</td>\n",
       "      <td>1.000000</td>\n",
       "      <td>1.000000</td>\n",
       "      <td>1.000000</td>\n",
       "      <td>1.000000</td>\n",
       "      <td>1.000000</td>\n",
       "      <td>1.000000</td>\n",
       "      <td>0.000000</td>\n",
       "      <td>0.000000</td>\n",
       "      <td>0.000000</td>\n",
       "      <td>0.000000</td>\n",
       "    </tr>\n",
       "    <tr>\n",
       "      <th>25%</th>\n",
       "      <td>7458.750000</td>\n",
       "      <td>2001.000000</td>\n",
       "      <td>5.000000</td>\n",
       "      <td>8.000000</td>\n",
       "      <td>10.000000</td>\n",
       "      <td>3.000000</td>\n",
       "      <td>10.000000</td>\n",
       "      <td>2.000000</td>\n",
       "      <td>1.000000</td>\n",
       "      <td>1.000000</td>\n",
       "      <td>1.000000</td>\n",
       "      <td>0.000000</td>\n",
       "      <td>120.000000</td>\n",
       "      <td>0.000000</td>\n",
       "      <td>0.000000</td>\n",
       "    </tr>\n",
       "    <tr>\n",
       "      <th>50%</th>\n",
       "      <td>14978.500000</td>\n",
       "      <td>2007.000000</td>\n",
       "      <td>8.000000</td>\n",
       "      <td>15.000000</td>\n",
       "      <td>22.000000</td>\n",
       "      <td>4.000000</td>\n",
       "      <td>22.000000</td>\n",
       "      <td>2.000000</td>\n",
       "      <td>1.000000</td>\n",
       "      <td>1.000000</td>\n",
       "      <td>1.000000</td>\n",
       "      <td>50.000000</td>\n",
       "      <td>137.000000</td>\n",
       "      <td>0.000000</td>\n",
       "      <td>0.000000</td>\n",
       "    </tr>\n",
       "    <tr>\n",
       "      <th>75%</th>\n",
       "      <td>22472.250000</td>\n",
       "      <td>2012.000000</td>\n",
       "      <td>9.000000</td>\n",
       "      <td>23.000000</td>\n",
       "      <td>37.000000</td>\n",
       "      <td>4.000000</td>\n",
       "      <td>34.000000</td>\n",
       "      <td>2.000000</td>\n",
       "      <td>5.000000</td>\n",
       "      <td>5.000000</td>\n",
       "      <td>4.000000</td>\n",
       "      <td>800.000000</td>\n",
       "      <td>160.000000</td>\n",
       "      <td>0.000000</td>\n",
       "      <td>0.000000</td>\n",
       "    </tr>\n",
       "    <tr>\n",
       "      <th>max</th>\n",
       "      <td>30000.000000</td>\n",
       "      <td>2015.000000</td>\n",
       "      <td>12.000000</td>\n",
       "      <td>31.000000</td>\n",
       "      <td>98.000000</td>\n",
       "      <td>5.000000</td>\n",
       "      <td>47.000000</td>\n",
       "      <td>4.000000</td>\n",
       "      <td>7.000000</td>\n",
       "      <td>7.000000</td>\n",
       "      <td>5.000000</td>\n",
       "      <td>24000.000000</td>\n",
       "      <td>2500.000000</td>\n",
       "      <td>100.000000</td>\n",
       "      <td>1.000000</td>\n",
       "    </tr>\n",
       "  </tbody>\n",
       "</table>\n",
       "</div>"
      ],
      "text/plain": [
       "                 id  incident_year  incident_month  incident_day  \\\n",
       "count  21000.000000   21000.000000    21000.000000  21000.000000   \n",
       "mean   14980.935667    2006.059048        7.186048     15.629476   \n",
       "std     8663.241167       6.720905        2.794620      8.824230   \n",
       "min        1.000000    1990.000000        1.000000      1.000000   \n",
       "25%     7458.750000    2001.000000        5.000000      8.000000   \n",
       "50%    14978.500000    2007.000000        8.000000     15.000000   \n",
       "75%    22472.250000    2012.000000        9.000000     23.000000   \n",
       "max    30000.000000    2015.000000       12.000000     31.000000   \n",
       "\n",
       "       aircraft_model  aircraft_mass   engine_make       engines  \\\n",
       "count    14741.000000   15306.000000  14845.000000  15304.000000   \n",
       "mean        24.645818       3.497321     21.222028      2.049007   \n",
       "std         21.702262       0.887106     11.037619      0.464322   \n",
       "min          0.000000       1.000000      1.000000      1.000000   \n",
       "25%         10.000000       3.000000     10.000000      2.000000   \n",
       "50%         22.000000       4.000000     22.000000      2.000000   \n",
       "75%         37.000000       4.000000     34.000000      2.000000   \n",
       "max         98.000000       5.000000     47.000000      4.000000   \n",
       "\n",
       "       engine1_position  engine2_position  engine4_position        height  \\\n",
       "count      15162.000000      14224.000000        350.000000  12531.000000   \n",
       "mean           2.992679          2.912753          2.017143    819.239965   \n",
       "std            2.094058          2.006015          1.430227   1772.530587   \n",
       "min            1.000000          1.000000          1.000000      0.000000   \n",
       "25%            1.000000          1.000000          1.000000      0.000000   \n",
       "50%            1.000000          1.000000          1.000000     50.000000   \n",
       "75%            5.000000          5.000000          4.000000    800.000000   \n",
       "max            7.000000          7.000000          5.000000  24000.000000   \n",
       "\n",
       "             speed      distance       damaged  \n",
       "count  8642.000000  12087.000000  21000.000000  \n",
       "mean    141.393775      0.662865      0.085667  \n",
       "std      52.254614      3.333111      0.279878  \n",
       "min       0.000000      0.000000      0.000000  \n",
       "25%     120.000000      0.000000      0.000000  \n",
       "50%     137.000000      0.000000      0.000000  \n",
       "75%     160.000000      0.000000      0.000000  \n",
       "max    2500.000000    100.000000      1.000000  "
      ]
     },
     "execution_count": 494,
     "metadata": {},
     "output_type": "execute_result"
    }
   ],
   "source": [
    "train.describe()"
   ]
  },
  {
   "cell_type": "markdown",
   "id": "offshore-purple",
   "metadata": {},
   "source": [
    "## Visualizations"
   ]
  },
  {
   "cell_type": "code",
   "execution_count": 495,
   "id": "recreational-centre",
   "metadata": {},
   "outputs": [
    {
     "data": {
      "text/html": [
       "<div>\n",
       "<style scoped>\n",
       "    .dataframe tbody tr th:only-of-type {\n",
       "        vertical-align: middle;\n",
       "    }\n",
       "\n",
       "    .dataframe tbody tr th {\n",
       "        vertical-align: top;\n",
       "    }\n",
       "\n",
       "    .dataframe thead th {\n",
       "        text-align: right;\n",
       "    }\n",
       "</style>\n",
       "<table border=\"1\" class=\"dataframe\">\n",
       "  <thead>\n",
       "    <tr style=\"text-align: right;\">\n",
       "      <th></th>\n",
       "      <th>id</th>\n",
       "      <th>incident_year</th>\n",
       "      <th>incident_month</th>\n",
       "      <th>incident_day</th>\n",
       "      <th>operator_id</th>\n",
       "      <th>operator</th>\n",
       "      <th>aircraft</th>\n",
       "      <th>aircraft_type</th>\n",
       "      <th>aircraft_make</th>\n",
       "      <th>aircraft_model</th>\n",
       "      <th>...</th>\n",
       "      <th>visibility</th>\n",
       "      <th>precipitation</th>\n",
       "      <th>height</th>\n",
       "      <th>speed</th>\n",
       "      <th>distance</th>\n",
       "      <th>species_id</th>\n",
       "      <th>species_name</th>\n",
       "      <th>species_quantity</th>\n",
       "      <th>flight_impact</th>\n",
       "      <th>damaged</th>\n",
       "    </tr>\n",
       "  </thead>\n",
       "  <tbody>\n",
       "    <tr>\n",
       "      <th>0</th>\n",
       "      <td>23637</td>\n",
       "      <td>1996</td>\n",
       "      <td>11</td>\n",
       "      <td>7</td>\n",
       "      <td>MIL</td>\n",
       "      <td>MILITARY</td>\n",
       "      <td>T-1A</td>\n",
       "      <td>A</td>\n",
       "      <td>748</td>\n",
       "      <td>NaN</td>\n",
       "      <td>...</td>\n",
       "      <td>DAY</td>\n",
       "      <td>NaN</td>\n",
       "      <td>0.0</td>\n",
       "      <td>80.0</td>\n",
       "      <td>0.0</td>\n",
       "      <td>UNKBM</td>\n",
       "      <td>UNKNOWN MEDIUM BIRD</td>\n",
       "      <td>1</td>\n",
       "      <td>NaN</td>\n",
       "      <td>0</td>\n",
       "    </tr>\n",
       "    <tr>\n",
       "      <th>1</th>\n",
       "      <td>8075</td>\n",
       "      <td>1999</td>\n",
       "      <td>6</td>\n",
       "      <td>26</td>\n",
       "      <td>UAL</td>\n",
       "      <td>UNITED AIRLINES</td>\n",
       "      <td>B-757-200</td>\n",
       "      <td>A</td>\n",
       "      <td>148</td>\n",
       "      <td>26.0</td>\n",
       "      <td>...</td>\n",
       "      <td>NaN</td>\n",
       "      <td>NaN</td>\n",
       "      <td>NaN</td>\n",
       "      <td>NaN</td>\n",
       "      <td>NaN</td>\n",
       "      <td>UNKBM</td>\n",
       "      <td>UNKNOWN MEDIUM BIRD</td>\n",
       "      <td>1</td>\n",
       "      <td>NaN</td>\n",
       "      <td>1</td>\n",
       "    </tr>\n",
       "    <tr>\n",
       "      <th>2</th>\n",
       "      <td>5623</td>\n",
       "      <td>2011</td>\n",
       "      <td>12</td>\n",
       "      <td>1</td>\n",
       "      <td>SWA</td>\n",
       "      <td>SOUTHWEST AIRLINES</td>\n",
       "      <td>B-737-300</td>\n",
       "      <td>A</td>\n",
       "      <td>148</td>\n",
       "      <td>24.0</td>\n",
       "      <td>...</td>\n",
       "      <td>DAY</td>\n",
       "      <td>NONE</td>\n",
       "      <td>0.0</td>\n",
       "      <td>NaN</td>\n",
       "      <td>0.0</td>\n",
       "      <td>ZT002</td>\n",
       "      <td>WESTERN MEADOWLARK</td>\n",
       "      <td>1</td>\n",
       "      <td>NONE</td>\n",
       "      <td>0</td>\n",
       "    </tr>\n",
       "    <tr>\n",
       "      <th>3</th>\n",
       "      <td>19605</td>\n",
       "      <td>2007</td>\n",
       "      <td>9</td>\n",
       "      <td>13</td>\n",
       "      <td>SWA</td>\n",
       "      <td>SOUTHWEST AIRLINES</td>\n",
       "      <td>B-737-700</td>\n",
       "      <td>A</td>\n",
       "      <td>148</td>\n",
       "      <td>42.0</td>\n",
       "      <td>...</td>\n",
       "      <td>NIGHT</td>\n",
       "      <td>NONE</td>\n",
       "      <td>300.0</td>\n",
       "      <td>130.0</td>\n",
       "      <td>NaN</td>\n",
       "      <td>UNKBS</td>\n",
       "      <td>UNKNOWN SMALL BIRD</td>\n",
       "      <td>1</td>\n",
       "      <td>NONE</td>\n",
       "      <td>0</td>\n",
       "    </tr>\n",
       "    <tr>\n",
       "      <th>4</th>\n",
       "      <td>15142</td>\n",
       "      <td>2007</td>\n",
       "      <td>9</td>\n",
       "      <td>13</td>\n",
       "      <td>MIL</td>\n",
       "      <td>MILITARY</td>\n",
       "      <td>KC-135R</td>\n",
       "      <td>A</td>\n",
       "      <td>NaN</td>\n",
       "      <td>NaN</td>\n",
       "      <td>...</td>\n",
       "      <td>NIGHT</td>\n",
       "      <td>NaN</td>\n",
       "      <td>NaN</td>\n",
       "      <td>140.0</td>\n",
       "      <td>NaN</td>\n",
       "      <td>ZT105</td>\n",
       "      <td>BOBOLINK</td>\n",
       "      <td>NaN</td>\n",
       "      <td>NaN</td>\n",
       "      <td>0</td>\n",
       "    </tr>\n",
       "    <tr>\n",
       "      <th>...</th>\n",
       "      <td>...</td>\n",
       "      <td>...</td>\n",
       "      <td>...</td>\n",
       "      <td>...</td>\n",
       "      <td>...</td>\n",
       "      <td>...</td>\n",
       "      <td>...</td>\n",
       "      <td>...</td>\n",
       "      <td>...</td>\n",
       "      <td>...</td>\n",
       "      <td>...</td>\n",
       "      <td>...</td>\n",
       "      <td>...</td>\n",
       "      <td>...</td>\n",
       "      <td>...</td>\n",
       "      <td>...</td>\n",
       "      <td>...</td>\n",
       "      <td>...</td>\n",
       "      <td>...</td>\n",
       "      <td>...</td>\n",
       "      <td>...</td>\n",
       "    </tr>\n",
       "    <tr>\n",
       "      <th>20995</th>\n",
       "      <td>6475</td>\n",
       "      <td>2005</td>\n",
       "      <td>12</td>\n",
       "      <td>10</td>\n",
       "      <td>UNK</td>\n",
       "      <td>UNKNOWN</td>\n",
       "      <td>UNKNOWN</td>\n",
       "      <td>NaN</td>\n",
       "      <td>NaN</td>\n",
       "      <td>NaN</td>\n",
       "      <td>...</td>\n",
       "      <td>NaN</td>\n",
       "      <td>NaN</td>\n",
       "      <td>NaN</td>\n",
       "      <td>NaN</td>\n",
       "      <td>0.0</td>\n",
       "      <td>M7005</td>\n",
       "      <td>AMERICAN COOT</td>\n",
       "      <td>1</td>\n",
       "      <td>NaN</td>\n",
       "      <td>0</td>\n",
       "    </tr>\n",
       "    <tr>\n",
       "      <th>20996</th>\n",
       "      <td>1824</td>\n",
       "      <td>2013</td>\n",
       "      <td>8</td>\n",
       "      <td>5</td>\n",
       "      <td>ASH</td>\n",
       "      <td>MESA AIRLINES</td>\n",
       "      <td>CRJ900</td>\n",
       "      <td>A</td>\n",
       "      <td>188</td>\n",
       "      <td>17.0</td>\n",
       "      <td>...</td>\n",
       "      <td>DAY</td>\n",
       "      <td>NONE</td>\n",
       "      <td>1200.0</td>\n",
       "      <td>145.0</td>\n",
       "      <td>NaN</td>\n",
       "      <td>UNKBS</td>\n",
       "      <td>UNKNOWN SMALL BIRD</td>\n",
       "      <td>2-10</td>\n",
       "      <td>NaN</td>\n",
       "      <td>0</td>\n",
       "    </tr>\n",
       "    <tr>\n",
       "      <th>20997</th>\n",
       "      <td>7800</td>\n",
       "      <td>2013</td>\n",
       "      <td>10</td>\n",
       "      <td>11</td>\n",
       "      <td>UNK</td>\n",
       "      <td>UNKNOWN</td>\n",
       "      <td>UNKNOWN</td>\n",
       "      <td>NaN</td>\n",
       "      <td>NaN</td>\n",
       "      <td>NaN</td>\n",
       "      <td>...</td>\n",
       "      <td>NaN</td>\n",
       "      <td>NaN</td>\n",
       "      <td>NaN</td>\n",
       "      <td>NaN</td>\n",
       "      <td>0.0</td>\n",
       "      <td>O2205</td>\n",
       "      <td>MOURNING DOVE</td>\n",
       "      <td>1</td>\n",
       "      <td>NaN</td>\n",
       "      <td>0</td>\n",
       "    </tr>\n",
       "    <tr>\n",
       "      <th>20998</th>\n",
       "      <td>17294</td>\n",
       "      <td>2006</td>\n",
       "      <td>3</td>\n",
       "      <td>7</td>\n",
       "      <td>BUS</td>\n",
       "      <td>BUSINESS</td>\n",
       "      <td>C-172</td>\n",
       "      <td>A</td>\n",
       "      <td>226</td>\n",
       "      <td>7.0</td>\n",
       "      <td>...</td>\n",
       "      <td>DAY</td>\n",
       "      <td>NONE</td>\n",
       "      <td>200.0</td>\n",
       "      <td>73.0</td>\n",
       "      <td>NaN</td>\n",
       "      <td>O2205</td>\n",
       "      <td>MOURNING DOVE</td>\n",
       "      <td>1</td>\n",
       "      <td>PRECAUTIONARY LANDING</td>\n",
       "      <td>0</td>\n",
       "    </tr>\n",
       "    <tr>\n",
       "      <th>20999</th>\n",
       "      <td>11145</td>\n",
       "      <td>1995</td>\n",
       "      <td>6</td>\n",
       "      <td>5</td>\n",
       "      <td>UAL</td>\n",
       "      <td>UNITED AIRLINES</td>\n",
       "      <td>B-727</td>\n",
       "      <td>A</td>\n",
       "      <td>148</td>\n",
       "      <td>94.0</td>\n",
       "      <td>...</td>\n",
       "      <td>DAY</td>\n",
       "      <td>NONE</td>\n",
       "      <td>900.0</td>\n",
       "      <td>NaN</td>\n",
       "      <td>NaN</td>\n",
       "      <td>UNKBM</td>\n",
       "      <td>UNKNOWN MEDIUM BIRD</td>\n",
       "      <td>1</td>\n",
       "      <td>NONE</td>\n",
       "      <td>0</td>\n",
       "    </tr>\n",
       "  </tbody>\n",
       "</table>\n",
       "<p>21000 rows × 34 columns</p>\n",
       "</div>"
      ],
      "text/plain": [
       "          id  incident_year  incident_month  incident_day operator_id  \\\n",
       "0      23637           1996              11             7         MIL   \n",
       "1       8075           1999               6            26         UAL   \n",
       "2       5623           2011              12             1         SWA   \n",
       "3      19605           2007               9            13         SWA   \n",
       "4      15142           2007               9            13         MIL   \n",
       "...      ...            ...             ...           ...         ...   \n",
       "20995   6475           2005              12            10         UNK   \n",
       "20996   1824           2013               8             5         ASH   \n",
       "20997   7800           2013              10            11         UNK   \n",
       "20998  17294           2006               3             7         BUS   \n",
       "20999  11145           1995               6             5         UAL   \n",
       "\n",
       "                 operator   aircraft aircraft_type aircraft_make  \\\n",
       "0                MILITARY       T-1A             A           748   \n",
       "1         UNITED AIRLINES  B-757-200             A           148   \n",
       "2      SOUTHWEST AIRLINES  B-737-300             A           148   \n",
       "3      SOUTHWEST AIRLINES  B-737-700             A           148   \n",
       "4                MILITARY    KC-135R             A           NaN   \n",
       "...                   ...        ...           ...           ...   \n",
       "20995             UNKNOWN    UNKNOWN           NaN           NaN   \n",
       "20996       MESA AIRLINES     CRJ900             A           188   \n",
       "20997             UNKNOWN    UNKNOWN           NaN           NaN   \n",
       "20998            BUSINESS      C-172             A           226   \n",
       "20999     UNITED AIRLINES      B-727             A           148   \n",
       "\n",
       "       aircraft_model  ...  visibility  precipitation  height  speed distance  \\\n",
       "0                 NaN  ...         DAY            NaN     0.0   80.0      0.0   \n",
       "1                26.0  ...         NaN            NaN     NaN    NaN      NaN   \n",
       "2                24.0  ...         DAY           NONE     0.0    NaN      0.0   \n",
       "3                42.0  ...       NIGHT           NONE   300.0  130.0      NaN   \n",
       "4                 NaN  ...       NIGHT            NaN     NaN  140.0      NaN   \n",
       "...               ...  ...         ...            ...     ...    ...      ...   \n",
       "20995             NaN  ...         NaN            NaN     NaN    NaN      0.0   \n",
       "20996            17.0  ...         DAY           NONE  1200.0  145.0      NaN   \n",
       "20997             NaN  ...         NaN            NaN     NaN    NaN      0.0   \n",
       "20998             7.0  ...         DAY           NONE   200.0   73.0      NaN   \n",
       "20999            94.0  ...         DAY           NONE   900.0    NaN      NaN   \n",
       "\n",
       "       species_id         species_name species_quantity  \\\n",
       "0           UNKBM  UNKNOWN MEDIUM BIRD                1   \n",
       "1           UNKBM  UNKNOWN MEDIUM BIRD                1   \n",
       "2           ZT002   WESTERN MEADOWLARK                1   \n",
       "3           UNKBS   UNKNOWN SMALL BIRD                1   \n",
       "4           ZT105             BOBOLINK              NaN   \n",
       "...           ...                  ...              ...   \n",
       "20995       M7005        AMERICAN COOT                1   \n",
       "20996       UNKBS   UNKNOWN SMALL BIRD             2-10   \n",
       "20997       O2205        MOURNING DOVE                1   \n",
       "20998       O2205        MOURNING DOVE                1   \n",
       "20999       UNKBM  UNKNOWN MEDIUM BIRD                1   \n",
       "\n",
       "               flight_impact damaged  \n",
       "0                        NaN       0  \n",
       "1                        NaN       1  \n",
       "2                       NONE       0  \n",
       "3                       NONE       0  \n",
       "4                        NaN       0  \n",
       "...                      ...     ...  \n",
       "20995                    NaN       0  \n",
       "20996                    NaN       0  \n",
       "20997                    NaN       0  \n",
       "20998  PRECAUTIONARY LANDING       0  \n",
       "20999                   NONE       0  \n",
       "\n",
       "[21000 rows x 34 columns]"
      ]
     },
     "execution_count": 495,
     "metadata": {},
     "output_type": "execute_result"
    }
   ],
   "source": [
    "train"
   ]
  },
  {
   "cell_type": "code",
   "execution_count": 512,
   "id": "hourly-wireless",
   "metadata": {},
   "outputs": [
    {
     "data": {
      "text/html": [
       "<div>\n",
       "<style scoped>\n",
       "    .dataframe tbody tr th:only-of-type {\n",
       "        vertical-align: middle;\n",
       "    }\n",
       "\n",
       "    .dataframe tbody tr th {\n",
       "        vertical-align: top;\n",
       "    }\n",
       "\n",
       "    .dataframe thead th {\n",
       "        text-align: right;\n",
       "    }\n",
       "</style>\n",
       "<table border=\"1\" class=\"dataframe\">\n",
       "  <thead>\n",
       "    <tr style=\"text-align: right;\">\n",
       "      <th></th>\n",
       "      <th>damaged</th>\n",
       "      <th>incident_month</th>\n",
       "      <th>id</th>\n",
       "    </tr>\n",
       "  </thead>\n",
       "  <tbody>\n",
       "    <tr>\n",
       "      <th>0</th>\n",
       "      <td>0</td>\n",
       "      <td>1</td>\n",
       "      <td>610</td>\n",
       "    </tr>\n",
       "    <tr>\n",
       "      <th>1</th>\n",
       "      <td>0</td>\n",
       "      <td>2</td>\n",
       "      <td>602</td>\n",
       "    </tr>\n",
       "    <tr>\n",
       "      <th>2</th>\n",
       "      <td>0</td>\n",
       "      <td>3</td>\n",
       "      <td>911</td>\n",
       "    </tr>\n",
       "    <tr>\n",
       "      <th>3</th>\n",
       "      <td>0</td>\n",
       "      <td>4</td>\n",
       "      <td>1342</td>\n",
       "    </tr>\n",
       "    <tr>\n",
       "      <th>4</th>\n",
       "      <td>0</td>\n",
       "      <td>5</td>\n",
       "      <td>1881</td>\n",
       "    </tr>\n",
       "    <tr>\n",
       "      <th>5</th>\n",
       "      <td>0</td>\n",
       "      <td>6</td>\n",
       "      <td>1640</td>\n",
       "    </tr>\n",
       "    <tr>\n",
       "      <th>6</th>\n",
       "      <td>0</td>\n",
       "      <td>7</td>\n",
       "      <td>2482</td>\n",
       "    </tr>\n",
       "    <tr>\n",
       "      <th>7</th>\n",
       "      <td>0</td>\n",
       "      <td>8</td>\n",
       "      <td>2779</td>\n",
       "    </tr>\n",
       "    <tr>\n",
       "      <th>8</th>\n",
       "      <td>0</td>\n",
       "      <td>9</td>\n",
       "      <td>2659</td>\n",
       "    </tr>\n",
       "    <tr>\n",
       "      <th>9</th>\n",
       "      <td>0</td>\n",
       "      <td>10</td>\n",
       "      <td>2321</td>\n",
       "    </tr>\n",
       "    <tr>\n",
       "      <th>10</th>\n",
       "      <td>0</td>\n",
       "      <td>11</td>\n",
       "      <td>1234</td>\n",
       "    </tr>\n",
       "    <tr>\n",
       "      <th>11</th>\n",
       "      <td>0</td>\n",
       "      <td>12</td>\n",
       "      <td>740</td>\n",
       "    </tr>\n",
       "    <tr>\n",
       "      <th>12</th>\n",
       "      <td>1</td>\n",
       "      <td>1</td>\n",
       "      <td>106</td>\n",
       "    </tr>\n",
       "    <tr>\n",
       "      <th>13</th>\n",
       "      <td>1</td>\n",
       "      <td>2</td>\n",
       "      <td>87</td>\n",
       "    </tr>\n",
       "    <tr>\n",
       "      <th>14</th>\n",
       "      <td>1</td>\n",
       "      <td>3</td>\n",
       "      <td>159</td>\n",
       "    </tr>\n",
       "    <tr>\n",
       "      <th>15</th>\n",
       "      <td>1</td>\n",
       "      <td>4</td>\n",
       "      <td>155</td>\n",
       "    </tr>\n",
       "    <tr>\n",
       "      <th>16</th>\n",
       "      <td>1</td>\n",
       "      <td>5</td>\n",
       "      <td>150</td>\n",
       "    </tr>\n",
       "    <tr>\n",
       "      <th>17</th>\n",
       "      <td>1</td>\n",
       "      <td>6</td>\n",
       "      <td>107</td>\n",
       "    </tr>\n",
       "    <tr>\n",
       "      <th>18</th>\n",
       "      <td>1</td>\n",
       "      <td>7</td>\n",
       "      <td>143</td>\n",
       "    </tr>\n",
       "    <tr>\n",
       "      <th>19</th>\n",
       "      <td>1</td>\n",
       "      <td>8</td>\n",
       "      <td>180</td>\n",
       "    </tr>\n",
       "    <tr>\n",
       "      <th>20</th>\n",
       "      <td>1</td>\n",
       "      <td>9</td>\n",
       "      <td>201</td>\n",
       "    </tr>\n",
       "    <tr>\n",
       "      <th>21</th>\n",
       "      <td>1</td>\n",
       "      <td>10</td>\n",
       "      <td>200</td>\n",
       "    </tr>\n",
       "    <tr>\n",
       "      <th>22</th>\n",
       "      <td>1</td>\n",
       "      <td>11</td>\n",
       "      <td>205</td>\n",
       "    </tr>\n",
       "    <tr>\n",
       "      <th>23</th>\n",
       "      <td>1</td>\n",
       "      <td>12</td>\n",
       "      <td>106</td>\n",
       "    </tr>\n",
       "  </tbody>\n",
       "</table>\n",
       "</div>"
      ],
      "text/plain": [
       "    damaged  incident_month    id\n",
       "0         0               1   610\n",
       "1         0               2   602\n",
       "2         0               3   911\n",
       "3         0               4  1342\n",
       "4         0               5  1881\n",
       "5         0               6  1640\n",
       "6         0               7  2482\n",
       "7         0               8  2779\n",
       "8         0               9  2659\n",
       "9         0              10  2321\n",
       "10        0              11  1234\n",
       "11        0              12   740\n",
       "12        1               1   106\n",
       "13        1               2    87\n",
       "14        1               3   159\n",
       "15        1               4   155\n",
       "16        1               5   150\n",
       "17        1               6   107\n",
       "18        1               7   143\n",
       "19        1               8   180\n",
       "20        1               9   201\n",
       "21        1              10   200\n",
       "22        1              11   205\n",
       "23        1              12   106"
      ]
     },
     "execution_count": 512,
     "metadata": {},
     "output_type": "execute_result"
    }
   ],
   "source": [
    "train[['id','incident_month','damaged']].groupby(['damaged','incident_month'], as_index=False).count()"
   ]
  },
  {
   "cell_type": "code",
   "execution_count": 510,
   "id": "hired-superintendent",
   "metadata": {},
   "outputs": [
    {
     "data": {
      "image/png": "[encoded data removed]",
      "text/plain": [
       "<Figure size 576x432 with 1 Axes>"
      ]
     },
     "metadata": {
      "needs_background": "light"
     },
     "output_type": "display_data"
    },
    {
     "data": {
      "image/png": "[encoded data removed]",
      "text/plain": [
       "<Figure size 576x432 with 1 Axes>"
      ]
     },
     "metadata": {
      "needs_background": "light"
     },
     "output_type": "display_data"
    },
    {
     "data": {
      "image/png": "[encoded data removed]",
      "text/plain": [
       "<Figure size 576x432 with 1 Axes>"
      ]
     },
     "metadata": {
      "needs_background": "light"
     },
     "output_type": "display_data"
    },
    {
     "data": {
      "image/png": "[encoded data removed]",
      "text/plain": [
       "<Figure size 576x432 with 1 Axes>"
      ]
     },
     "metadata": {
      "needs_background": "light"
     },
     "output_type": "display_data"
    },
    {
     "data": {
      "image/png": "[encoded data removed]",
      "text/plain": [
       "<Figure size 576x432 with 1 Axes>"
      ]
     },
     "metadata": {
      "needs_background": "light"
     },
     "output_type": "display_data"
    },
    {
     "data": {
      "image/png": "[encoded data removed]",
      "text/plain": [
       "<Figure size 576x432 with 1 Axes>"
      ]
     },
     "metadata": {
      "needs_background": "light"
     },
     "output_type": "display_data"
    },
    {
     "data": {
      "image/png": "[encoded data removed]",
      "text/plain": [
       "<Figure size 576x432 with 1 Axes>"
      ]
     },
     "metadata": {
      "needs_background": "light"
     },
     "output_type": "display_data"
    },
    {
     "data": {
      "image/png": "[encoded data removed]",
      "text/plain": [
       "<Figure size 576x432 with 1 Axes>"
      ]
     },
     "metadata": {
      "needs_background": "light"
     },
     "output_type": "display_data"
    },
    {
     "data": {
      "image/png": "[encoded data removed]",
      "text/plain": [
       "<Figure size 576x432 with 1 Axes>"
      ]
     },
     "metadata": {
      "needs_background": "light"
     },
     "output_type": "display_data"
    },
    {
     "data": {
      "image/png": "[encoded data removed]",
      "text/plain": [
       "<Figure size 576x432 with 1 Axes>"
      ]
     },
     "metadata": {
      "needs_background": "light"
     },
     "output_type": "display_data"
    },
    {
     "data": {
      "image/png": "[encoded data removed]",
      "text/plain": [
       "<Figure size 576x432 with 1 Axes>"
      ]
     },
     "metadata": {
      "needs_background": "light"
     },
     "output_type": "display_data"
    },
    {
     "data": {
      "image/png": "[encoded data removed]",
      "text/plain": [
       "<Figure size 576x432 with 1 Axes>"
      ]
     },
     "metadata": {
      "needs_background": "light"
     },
     "output_type": "display_data"
    },
    {
     "data": {
      "image/png": "[encoded data removed]",
      "text/plain": [
       "<Figure size 576x432 with 1 Axes>"
      ]
     },
     "metadata": {
      "needs_background": "light"
     },
     "output_type": "display_data"
    },
    {
     "data": {
      "image/png": "[encoded data removed]",
      "text/plain": [
       "<Figure size 576x432 with 1 Axes>"
      ]
     },
     "metadata": {
      "needs_background": "light"
     },
     "output_type": "display_data"
    },
    {
     "data": {
      "image/png": "[encoded data removed]",
      "text/plain": [
       "<Figure size 576x432 with 1 Axes>"
      ]
     },
     "metadata": {
      "needs_background": "light"
     },
     "output_type": "display_data"
    },
    {
     "data": {
      "image/png": "[encoded data removed]",
      "text/plain": [
       "<Figure size 576x432 with 1 Axes>"
      ]
     },
     "metadata": {
      "needs_background": "light"
     },
     "output_type": "display_data"
    },
    {
     "data": {
      "image/png": "[encoded data removed]",
      "text/plain": [
       "<Figure size 576x432 with 1 Axes>"
      ]
     },
     "metadata": {
      "needs_background": "light"
     },
     "output_type": "display_data"
    },
    {
     "data": {
      "image/png": "[encoded data removed]",
      "text/plain": [
       "<Figure size 576x432 with 1 Axes>"
      ]
     },
     "metadata": {
      "needs_background": "light"
     },
     "output_type": "display_data"
    },
    {
     "data": {
      "image/png": "[encoded data removed]",
      "text/plain": [
       "<Figure size 576x432 with 1 Axes>"
      ]
     },
     "metadata": {
      "needs_background": "light"
     },
     "output_type": "display_data"
    },
    {
     "data": {
      "image/png": "[encoded data removed]",
      "text/plain": [
       "<Figure size 576x432 with 1 Axes>"
      ]
     },
     "metadata": {
      "needs_background": "light"
     },
     "output_type": "display_data"
    },
    {
     "data": {
      "image/png": "[encoded data removed]",
      "text/plain": [
       "<Figure size 576x432 with 1 Axes>"
      ]
     },
     "metadata": {
      "needs_background": "light"
     },
     "output_type": "display_data"
    },
    {
     "data": {
      "image/png": "[encoded data removed]",
      "text/plain": [
       "<Figure size 576x432 with 1 Axes>"
      ]
     },
     "metadata": {
      "needs_background": "light"
     },
     "output_type": "display_data"
    },
    {
     "data": {
      "image/png": "[encoded data removed]",
      "text/plain": [
       "<Figure size 576x432 with 1 Axes>"
      ]
     },
     "metadata": {
      "needs_background": "light"
     },
     "output_type": "display_data"
    },
    {
     "data": {
      "image/png": "[encoded data removed]",
      "text/plain": [
       "<Figure size 576x432 with 1 Axes>"
      ]
     },
     "metadata": {
      "needs_background": "light"
     },
     "output_type": "display_data"
    },
    {
     "data": {
      "image/png": "[encoded data removed]",
      "text/plain": [
       "<Figure size 576x432 with 1 Axes>"
      ]
     },
     "metadata": {
      "needs_background": "light"
     },
     "output_type": "display_data"
    },
    {
     "data": {
      "image/png": "[encoded data removed]",
      "text/plain": [
       "<Figure size 576x432 with 1 Axes>"
      ]
     },
     "metadata": {
      "needs_background": "light"
     },
     "output_type": "display_data"
    },
    {
     "data": {
      "image/png": "[encoded data removed]",
      "text/plain": [
       "<Figure size 576x432 with 1 Axes>"
      ]
     },
     "metadata": {
      "needs_background": "light"
     },
     "output_type": "display_data"
    },
    {
     "data": {
      "image/png": "[encoded data removed]",
      "text/plain": [
       "<Figure size 576x432 with 1 Axes>"
      ]
     },
     "metadata": {
      "needs_background": "light"
     },
     "output_type": "display_data"
    },
    {
     "data": {
      "image/png": "[encoded data removed]",
      "text/plain": [
       "<Figure size 576x432 with 1 Axes>"
      ]
     },
     "metadata": {
      "needs_background": "light"
     },
     "output_type": "display_data"
    },
    {
     "data": {
      "image/png": "[encoded data removed]",
      "text/plain": [
       "<Figure size 576x432 with 1 Axes>"
      ]
     },
     "metadata": {
      "needs_background": "light"
     },
     "output_type": "display_data"
    },
    {
     "data": {
      "image/png": "[encoded data removed]",
      "text/plain": [
       "<Figure size 576x432 with 1 Axes>"
      ]
     },
     "metadata": {
      "needs_background": "light"
     },
     "output_type": "display_data"
    },
    {
     "data": {
      "image/png": "[encoded data removed]",
      "text/plain": [
       "<Figure size 576x432 with 1 Axes>"
      ]
     },
     "metadata": {
      "needs_background": "light"
     },
     "output_type": "display_data"
    },
    {
     "data": {
      "image/png": "[encoded data removed]",
      "text/plain": [
       "<Figure size 576x432 with 1 Axes>"
      ]
     },
     "metadata": {
      "needs_background": "light"
     },
     "output_type": "display_data"
    },
    {
     "ename": "ValueError",
     "evalue": "Grouper for 'damaged' not 1-dimensional",
     "output_type": "error",
     "traceback": [
      "\u001b[0;31m---------------------------------------------------------------\u001b[0m",
      "\u001b[0;31mValueError\u001b[0m                    Traceback (most recent call last)",
      "\u001b[0;32m<ipython-input-510-c0af77b14ea1>\u001b[0m in \u001b[0;36m<module>\u001b[0;34m\u001b[0m\n\u001b[1;32m      1\u001b[0m \u001b[0;32mfor\u001b[0m \u001b[0mcol\u001b[0m \u001b[0;32min\u001b[0m \u001b[0mtrain\u001b[0m\u001b[0;34m.\u001b[0m\u001b[0mcolumns\u001b[0m\u001b[0;34m:\u001b[0m\u001b[0;34m\u001b[0m\u001b[0;34m\u001b[0m\u001b[0m\n\u001b[0;32m----> 2\u001b[0;31m     \u001b[0mtemp\u001b[0m \u001b[0;34m=\u001b[0m \u001b[0mtrain\u001b[0m\u001b[0;34m[\u001b[0m\u001b[0;34m[\u001b[0m\u001b[0mcol\u001b[0m\u001b[0;34m,\u001b[0m\u001b[0;34m'damaged'\u001b[0m\u001b[0;34m]\u001b[0m\u001b[0;34m]\u001b[0m\u001b[0;34m.\u001b[0m\u001b[0mgroupby\u001b[0m\u001b[0;34m(\u001b[0m\u001b[0;34m'damaged'\u001b[0m\u001b[0;34m,\u001b[0m \u001b[0mas_index\u001b[0m\u001b[0;34m=\u001b[0m\u001b[0;32mFalse\u001b[0m\u001b[0;34m)\u001b[0m\u001b[0;34m.\u001b[0m\u001b[0mcount\u001b[0m\u001b[0;34m(\u001b[0m\u001b[0;34m)\u001b[0m\u001b[0;34m\u001b[0m\u001b[0;34m\u001b[0m\u001b[0m\n\u001b[0m\u001b[1;32m      3\u001b[0m     \u001b[0mplt\u001b[0m\u001b[0;34m.\u001b[0m\u001b[0mbar\u001b[0m\u001b[0;34m(\u001b[0m\u001b[0mtemp\u001b[0m\u001b[0;34m[\u001b[0m\u001b[0mcol\u001b[0m\u001b[0;34m]\u001b[0m\u001b[0;34m.\u001b[0m\u001b[0mvalues\u001b[0m\u001b[0;34m,\u001b[0m \u001b[0mtemp\u001b[0m\u001b[0;34m[\u001b[0m\u001b[0;34m'damaged'\u001b[0m\u001b[0;34m]\u001b[0m\u001b[0;34m.\u001b[0m\u001b[0mvalues\u001b[0m\u001b[0;34m,\u001b[0m \u001b[0malign\u001b[0m\u001b[0;34m=\u001b[0m\u001b[0;34m'center'\u001b[0m\u001b[0;34m,\u001b[0m \u001b[0malpha\u001b[0m\u001b[0;34m=\u001b[0m\u001b[0;36m0.5\u001b[0m\u001b[0;34m)\u001b[0m\u001b[0;34m\u001b[0m\u001b[0;34m\u001b[0m\u001b[0m\n\u001b[1;32m      4\u001b[0m     \u001b[0mplt\u001b[0m\u001b[0;34m.\u001b[0m\u001b[0mshow\u001b[0m\u001b[0;34m(\u001b[0m\u001b[0;34m)\u001b[0m\u001b[0;34m\u001b[0m\u001b[0;34m\u001b[0m\u001b[0m\n\u001b[1;32m      5\u001b[0m \u001b[0;34m\u001b[0m\u001b[0m\n",
      "\u001b[0;32m~/anaconda3/envs/python3/lib/python3.8/site-packages/pandas/core/frame.py\u001b[0m in \u001b[0;36mgroupby\u001b[0;34m(self, by, axis, level, as_index, sort, group_keys, squeeze, observed, dropna)\u001b[0m\n\u001b[1;32m   6712\u001b[0m         \u001b[0maxis\u001b[0m \u001b[0;34m=\u001b[0m \u001b[0mself\u001b[0m\u001b[0;34m.\u001b[0m\u001b[0m_get_axis_number\u001b[0m\u001b[0;34m(\u001b[0m\u001b[0maxis\u001b[0m\u001b[0;34m)\u001b[0m\u001b[0;34m\u001b[0m\u001b[0;34m\u001b[0m\u001b[0m\n\u001b[1;32m   6713\u001b[0m \u001b[0;34m\u001b[0m\u001b[0m\n\u001b[0;32m-> 6714\u001b[0;31m         return DataFrameGroupBy(\n\u001b[0m\u001b[1;32m   6715\u001b[0m             \u001b[0mobj\u001b[0m\u001b[0;34m=\u001b[0m\u001b[0mself\u001b[0m\u001b[0;34m,\u001b[0m\u001b[0;34m\u001b[0m\u001b[0;34m\u001b[0m\u001b[0m\n\u001b[1;32m   6716\u001b[0m             \u001b[0mkeys\u001b[0m\u001b[0;34m=\u001b[0m\u001b[0mby\u001b[0m\u001b[0;34m,\u001b[0m\u001b[0;34m\u001b[0m\u001b[0;34m\u001b[0m\u001b[0m\n",
      "\u001b[0;32m~/anaconda3/envs/python3/lib/python3.8/site-packages/pandas/core/groupby/groupby.py\u001b[0m in \u001b[0;36m__init__\u001b[0;34m(self, obj, keys, axis, level, grouper, exclusions, selection, as_index, sort, group_keys, squeeze, observed, mutated, dropna)\u001b[0m\n\u001b[1;32m    558\u001b[0m             \u001b[0;32mfrom\u001b[0m \u001b[0mpandas\u001b[0m\u001b[0;34m.\u001b[0m\u001b[0mcore\u001b[0m\u001b[0;34m.\u001b[0m\u001b[0mgroupby\u001b[0m\u001b[0;34m.\u001b[0m\u001b[0mgrouper\u001b[0m \u001b[0;32mimport\u001b[0m \u001b[0mget_grouper\u001b[0m\u001b[0;34m\u001b[0m\u001b[0;34m\u001b[0m\u001b[0m\n\u001b[1;32m    559\u001b[0m \u001b[0;34m\u001b[0m\u001b[0m\n\u001b[0;32m--> 560\u001b[0;31m             grouper, exclusions, obj = get_grouper(\n\u001b[0m\u001b[1;32m    561\u001b[0m                 \u001b[0mobj\u001b[0m\u001b[0;34m,\u001b[0m\u001b[0;34m\u001b[0m\u001b[0;34m\u001b[0m\u001b[0m\n\u001b[1;32m    562\u001b[0m                 \u001b[0mkeys\u001b[0m\u001b[0;34m,\u001b[0m\u001b[0;34m\u001b[0m\u001b[0;34m\u001b[0m\u001b[0m\n",
      "\u001b[0;32m~/anaconda3/envs/python3/lib/python3.8/site-packages/pandas/core/groupby/grouper.py\u001b[0m in \u001b[0;36mget_grouper\u001b[0;34m(obj, key, axis, level, sort, observed, mutated, validate, dropna)\u001b[0m\n\u001b[1;32m    826\u001b[0m         \u001b[0;31m# allow us to passing the actual Grouping as the gpr\u001b[0m\u001b[0;34m\u001b[0m\u001b[0;34m\u001b[0m\u001b[0;34m\u001b[0m\u001b[0m\n\u001b[1;32m    827\u001b[0m         ping = (\n\u001b[0;32m--> 828\u001b[0;31m             Grouping(\n\u001b[0m\u001b[1;32m    829\u001b[0m                 \u001b[0mgroup_axis\u001b[0m\u001b[0;34m,\u001b[0m\u001b[0;34m\u001b[0m\u001b[0;34m\u001b[0m\u001b[0m\n\u001b[1;32m    830\u001b[0m                 \u001b[0mgpr\u001b[0m\u001b[0;34m,\u001b[0m\u001b[0;34m\u001b[0m\u001b[0;34m\u001b[0m\u001b[0m\n",
      "\u001b[0;32m~/anaconda3/envs/python3/lib/python3.8/site-packages/pandas/core/groupby/grouper.py\u001b[0m in \u001b[0;36m__init__\u001b[0;34m(self, index, grouper, obj, name, level, sort, observed, in_axis, dropna)\u001b[0m\n\u001b[1;32m    541\u001b[0m                 \u001b[0;32mif\u001b[0m \u001b[0mgetattr\u001b[0m\u001b[0;34m(\u001b[0m\u001b[0mself\u001b[0m\u001b[0;34m.\u001b[0m\u001b[0mgrouper\u001b[0m\u001b[0;34m,\u001b[0m \u001b[0;34m\"ndim\"\u001b[0m\u001b[0;34m,\u001b[0m \u001b[0;36m1\u001b[0m\u001b[0;34m)\u001b[0m \u001b[0;34m!=\u001b[0m \u001b[0;36m1\u001b[0m\u001b[0;34m:\u001b[0m\u001b[0;34m\u001b[0m\u001b[0;34m\u001b[0m\u001b[0m\n\u001b[1;32m    542\u001b[0m                     \u001b[0mt\u001b[0m \u001b[0;34m=\u001b[0m \u001b[0mself\u001b[0m\u001b[0;34m.\u001b[0m\u001b[0mname\u001b[0m \u001b[0;32mor\u001b[0m \u001b[0mstr\u001b[0m\u001b[0;34m(\u001b[0m\u001b[0mtype\u001b[0m\u001b[0;34m(\u001b[0m\u001b[0mself\u001b[0m\u001b[0;34m.\u001b[0m\u001b[0mgrouper\u001b[0m\u001b[0;34m)\u001b[0m\u001b[0;34m)\u001b[0m\u001b[0;34m\u001b[0m\u001b[0;34m\u001b[0m\u001b[0m\n\u001b[0;32m--> 543\u001b[0;31m                     \u001b[0;32mraise\u001b[0m \u001b[0mValueError\u001b[0m\u001b[0;34m(\u001b[0m\u001b[0;34mf\"Grouper for '{t}' not 1-dimensional\"\u001b[0m\u001b[0;34m)\u001b[0m\u001b[0;34m\u001b[0m\u001b[0;34m\u001b[0m\u001b[0m\n\u001b[0m\u001b[1;32m    544\u001b[0m                 \u001b[0mself\u001b[0m\u001b[0;34m.\u001b[0m\u001b[0mgrouper\u001b[0m \u001b[0;34m=\u001b[0m \u001b[0mself\u001b[0m\u001b[0;34m.\u001b[0m\u001b[0mindex\u001b[0m\u001b[0;34m.\u001b[0m\u001b[0mmap\u001b[0m\u001b[0;34m(\u001b[0m\u001b[0mself\u001b[0m\u001b[0;34m.\u001b[0m\u001b[0mgrouper\u001b[0m\u001b[0;34m)\u001b[0m\u001b[0;34m\u001b[0m\u001b[0;34m\u001b[0m\u001b[0m\n\u001b[1;32m    545\u001b[0m                 if not (\n",
      "\u001b[0;31mValueError\u001b[0m: Grouper for 'damaged' not 1-dimensional"
     ]
    }
   ],
   "source": [
    "for col in train.columns:\n",
    "    temp = train[[col,'damaged']].groupby('damaged', as_index=False).count()\n",
    "    plt.bar(temp[col].values, temp['damaged'].values, align='center', alpha=0.5)\n",
    "    plt.show()\n",
    "    "
   ]
  },
  {
   "cell_type": "code",
   "execution_count": 422,
   "id": "little-phase",
   "metadata": {},
   "outputs": [
    {
     "data": {
      "text/plain": [
       "(21000, 34)"
      ]
     },
     "execution_count": 422,
     "metadata": {},
     "output_type": "execute_result"
    }
   ],
   "source": [
    "train.shape"
   ]
  },
  {
   "cell_type": "code",
   "execution_count": 423,
   "id": "decimal-karen",
   "metadata": {},
   "outputs": [
    {
     "data": {
      "text/plain": [
       "(16008, 34)"
      ]
     },
     "execution_count": 423,
     "metadata": {},
     "output_type": "execute_result"
    }
   ],
   "source": [
    "temp.shape"
   ]
  },
  {
   "cell_type": "code",
   "execution_count": 424,
   "id": "burning-consistency",
   "metadata": {},
   "outputs": [],
   "source": [
    "#### Skewness"
   ]
  },
  {
   "cell_type": "code",
   "execution_count": 425,
   "id": "facial-romantic",
   "metadata": {},
   "outputs": [],
   "source": [
    "#### Null Values"
   ]
  },
  {
   "cell_type": "code",
   "execution_count": 426,
   "id": "specified-consumption",
   "metadata": {},
   "outputs": [],
   "source": [
    "#### Predictor Inbalance"
   ]
  },
  {
   "cell_type": "markdown",
   "id": "alternative-investigation",
   "metadata": {},
   "source": [
    "# Pre-proccessing"
   ]
  },
  {
   "cell_type": "code",
   "execution_count": 492,
   "id": "cubic-church",
   "metadata": {},
   "outputs": [],
   "source": [
    "train = train.replace('-1', np.nan)\n",
    "train =train.replace(-1, np.nan)\n",
    "train =train.replace(-1.0, np.nan)"
   ]
  },
  {
   "cell_type": "code",
   "execution_count": 443,
   "id": "located-theme",
   "metadata": {},
   "outputs": [],
   "source": [
    "def objects_to_category(df):\n",
    "    '''\n",
    "    function that converts objects to categorical features.\n",
    "    '''\n",
    "    object_cols = df.select_dtypes(include='object').columns.tolist()\n",
    "    object_features = df[object_cols].astype(\"category\")\n",
    "    for field in object_cols:\n",
    "        df[field] = object_features[field].cat.codes\n",
    "    return df\n",
    "\n",
    "# fill na\n",
    "train = objects_to_category(train)\n",
    "test = objects_to_category(test)"
   ]
  },
  {
   "cell_type": "code",
   "execution_count": 444,
   "id": "divided-serbia",
   "metadata": {},
   "outputs": [],
   "source": [
    "#train.fillna(-1)\n",
    "#test.fillna(-1)"
   ]
  },
  {
   "cell_type": "code",
   "execution_count": 474,
   "id": "answering-yellow",
   "metadata": {},
   "outputs": [
    {
     "data": {
      "text/html": [
       "<div>\n",
       "<style scoped>\n",
       "    .dataframe tbody tr th:only-of-type {\n",
       "        vertical-align: middle;\n",
       "    }\n",
       "\n",
       "    .dataframe tbody tr th {\n",
       "        vertical-align: top;\n",
       "    }\n",
       "\n",
       "    .dataframe thead th {\n",
       "        text-align: right;\n",
       "    }\n",
       "</style>\n",
       "<table border=\"1\" class=\"dataframe\">\n",
       "  <thead>\n",
       "    <tr style=\"text-align: right;\">\n",
       "      <th></th>\n",
       "      <th>engines</th>\n",
       "      <th>engine1_position</th>\n",
       "      <th>engine2_position</th>\n",
       "      <th>engine3_position</th>\n",
       "      <th>engine4_position</th>\n",
       "    </tr>\n",
       "  </thead>\n",
       "  <tbody>\n",
       "    <tr>\n",
       "      <th>0</th>\n",
       "      <td>2.0</td>\n",
       "      <td>5.0</td>\n",
       "      <td>5.0</td>\n",
       "      <td>NaN</td>\n",
       "      <td>NaN</td>\n",
       "    </tr>\n",
       "    <tr>\n",
       "      <th>1</th>\n",
       "      <td>2.0</td>\n",
       "      <td>1.0</td>\n",
       "      <td>1.0</td>\n",
       "      <td>NaN</td>\n",
       "      <td>NaN</td>\n",
       "    </tr>\n",
       "    <tr>\n",
       "      <th>2</th>\n",
       "      <td>2.0</td>\n",
       "      <td>1.0</td>\n",
       "      <td>1.0</td>\n",
       "      <td>NaN</td>\n",
       "      <td>NaN</td>\n",
       "    </tr>\n",
       "    <tr>\n",
       "      <th>3</th>\n",
       "      <td>2.0</td>\n",
       "      <td>1.0</td>\n",
       "      <td>1.0</td>\n",
       "      <td>NaN</td>\n",
       "      <td>NaN</td>\n",
       "    </tr>\n",
       "    <tr>\n",
       "      <th>4</th>\n",
       "      <td>2.0</td>\n",
       "      <td>1.0</td>\n",
       "      <td>1.0</td>\n",
       "      <td>NaN</td>\n",
       "      <td>NaN</td>\n",
       "    </tr>\n",
       "  </tbody>\n",
       "</table>\n",
       "</div>"
      ],
      "text/plain": [
       "   engines  engine1_position  engine2_position engine3_position  \\\n",
       "0      2.0               5.0               5.0              NaN   \n",
       "1      2.0               1.0               1.0              NaN   \n",
       "2      2.0               1.0               1.0              NaN   \n",
       "3      2.0               1.0               1.0              NaN   \n",
       "4      2.0               1.0               1.0              NaN   \n",
       "\n",
       "   engine4_position  \n",
       "0               NaN  \n",
       "1               NaN  \n",
       "2               NaN  \n",
       "3               NaN  \n",
       "4               NaN  "
      ]
     },
     "execution_count": 474,
     "metadata": {},
     "output_type": "execute_result"
    }
   ],
   "source": [
    "#fix engines\n",
    "train[['engines','engine1_position','engine2_position','engine3_position','engine4_position']].head()\n"
   ]
  },
  {
   "cell_type": "code",
   "execution_count": null,
   "id": "headed-facing",
   "metadata": {},
   "outputs": [],
   "source": []
  },
  {
   "cell_type": "code",
   "execution_count": 430,
   "id": "focal-strength",
   "metadata": {},
   "outputs": [
    {
     "data": {
      "text/plain": [
       "Index(['id', 'incident_year', 'incident_month', 'incident_day', 'operator_id',\n",
       "       'operator', 'aircraft', 'aircraft_type', 'aircraft_make',\n",
       "       'aircraft_model', 'aircraft_mass', 'engine_make', 'engine_model',\n",
       "       'engines', 'engine_type', 'engine1_position', 'engine2_position',\n",
       "       'engine3_position', 'engine4_position', 'airport_id', 'airport',\n",
       "       'state', 'faa_region', 'flight_phase', 'visibility', 'precipitation',\n",
       "       'height', 'speed', 'distance', 'species_id', 'species_name',\n",
       "       'species_quantity', 'flight_impact', 'damaged'],\n",
       "      dtype='object')"
      ]
     },
     "execution_count": 430,
     "metadata": {},
     "output_type": "execute_result"
    }
   ],
   "source": [
    "train.columns"
   ]
  },
  {
   "cell_type": "markdown",
   "id": "interesting-cherry",
   "metadata": {},
   "source": [
    "# Basic Model"
   ]
  },
  {
   "cell_type": "code",
   "execution_count": 431,
   "id": "improved-affair",
   "metadata": {},
   "outputs": [],
   "source": [
    "drop = ['damaged','id','operator_id','airport_id','species_id']\n",
    "drop2 = ['id','operator_id','airport_id','species_id']\n",
    "features = [\"incident_year\",\"incident_month\",\"incident_day\",\"operator\",\"aircraft\",\"airport_id\",\"species_id\"]\n",
    "target =  'damaged'\n",
    "\n",
    "#X = train[features]\n",
    "X = train.drop(drop, axis=1)\n",
    "y = train[target]\n",
    "#submission = test[features]\n",
    "submission = test.drop(drop2, axis=1)"
   ]
  },
  {
   "cell_type": "code",
   "execution_count": 432,
   "id": "competitive-league",
   "metadata": {},
   "outputs": [],
   "source": [
    "from sklearn.model_selection import train_test_split\n",
    "X_train, X_test, y_train, y_test = train_test_split(X, y, test_size=0.2, random_state=40)\n",
    "X_train, X_val, y_train, y_val = train_test_split(X_train, y_train, test_size=0.2, random_state=1)"
   ]
  },
  {
   "cell_type": "code",
   "execution_count": 433,
   "id": "confused-damages",
   "metadata": {},
   "outputs": [
    {
     "name": "stdout",
     "output_type": "stream",
     "text": [
      "[00:14:59] WARNING: /opt/concourse/worker/volumes/live/7a2b9f41-3287-451b-6691-43e9a6c0910f/volume/xgboost-split_1619728204606/work/src/learner.cc:541: \n",
      "Parameters: { silent } might not be used.\n",
      "\n",
      "  This may not be accurate due to some parameters are only used in language bindings but\n",
      "  passed down to XGBoost core.  Or some parameters are not used but slip through this\n",
      "  verification. Please open an issue if you find above cases.\n",
      "\n",
      "\n",
      "[0]\tvalidation_0-logloss:0.62286\tvalidation_1-logloss:0.62277\n",
      "[1]\tvalidation_0-logloss:0.56529\tvalidation_1-logloss:0.56534\n",
      "[2]\tvalidation_0-logloss:0.51747\tvalidation_1-logloss:0.51741\n",
      "[3]\tvalidation_0-logloss:0.47737\tvalidation_1-logloss:0.47743\n",
      "[4]\tvalidation_0-logloss:0.44350\tvalidation_1-logloss:0.44337\n",
      "[5]\tvalidation_0-logloss:0.41459\tvalidation_1-logloss:0.41422\n",
      "[6]\tvalidation_0-logloss:0.38974\tvalidation_1-logloss:0.38928\n",
      "[7]\tvalidation_0-logloss:0.36801\tvalidation_1-logloss:0.36740\n",
      "[8]\tvalidation_0-logloss:0.34941\tvalidation_1-logloss:0.34873\n",
      "[9]\tvalidation_0-logloss:0.33360\tvalidation_1-logloss:0.33289\n",
      "[10]\tvalidation_0-logloss:0.31904\tvalidation_1-logloss:0.31860\n",
      "[11]\tvalidation_0-logloss:0.30680\tvalidation_1-logloss:0.30650\n",
      "[12]\tvalidation_0-logloss:0.29641\tvalidation_1-logloss:0.29598\n",
      "[13]\tvalidation_0-logloss:0.28713\tvalidation_1-logloss:0.28691\n",
      "[14]\tvalidation_0-logloss:0.27884\tvalidation_1-logloss:0.27880\n",
      "[15]\tvalidation_0-logloss:0.27143\tvalidation_1-logloss:0.27142\n",
      "[16]\tvalidation_0-logloss:0.26526\tvalidation_1-logloss:0.26529\n",
      "[17]\tvalidation_0-logloss:0.25904\tvalidation_1-logloss:0.25925\n",
      "[18]\tvalidation_0-logloss:0.25360\tvalidation_1-logloss:0.25402\n",
      "[19]\tvalidation_0-logloss:0.24896\tvalidation_1-logloss:0.24943\n",
      "[20]\tvalidation_0-logloss:0.24475\tvalidation_1-logloss:0.24539\n",
      "[21]\tvalidation_0-logloss:0.24137\tvalidation_1-logloss:0.24204\n",
      "[22]\tvalidation_0-logloss:0.23790\tvalidation_1-logloss:0.23869\n"
     ]
    },
    {
     "name": "stderr",
     "output_type": "stream",
     "text": [
      "/Users/neilturner/anaconda3/envs/python3/lib/python3.8/site-packages/xgboost/sklearn.py:888: UserWarning: The use of label encoder in XGBClassifier is deprecated and will be removed in a future release. To remove this warning, do the following: 1) Pass option use_label_encoder=False when constructing XGBClassifier object; and 2) Encode your labels (y) as integers starting with 0, i.e. 0, 1, 2, ..., [num_class - 1].\n",
      "  warnings.warn(label_encoder_deprecation_msg, UserWarning)\n"
     ]
    },
    {
     "name": "stdout",
     "output_type": "stream",
     "text": [
      "[23]\tvalidation_0-logloss:0.23492\tvalidation_1-logloss:0.23596\n",
      "[24]\tvalidation_0-logloss:0.23225\tvalidation_1-logloss:0.23333\n",
      "[25]\tvalidation_0-logloss:0.22976\tvalidation_1-logloss:0.23087\n",
      "[26]\tvalidation_0-logloss:0.22679\tvalidation_1-logloss:0.22773\n",
      "[27]\tvalidation_0-logloss:0.22486\tvalidation_1-logloss:0.22596\n",
      "[28]\tvalidation_0-logloss:0.22303\tvalidation_1-logloss:0.22429\n",
      "[29]\tvalidation_0-logloss:0.22137\tvalidation_1-logloss:0.22250\n",
      "[30]\tvalidation_0-logloss:0.21974\tvalidation_1-logloss:0.22088\n",
      "[31]\tvalidation_0-logloss:0.21817\tvalidation_1-logloss:0.21954\n",
      "[32]\tvalidation_0-logloss:0.21689\tvalidation_1-logloss:0.21841\n",
      "[33]\tvalidation_0-logloss:0.21538\tvalidation_1-logloss:0.21699\n",
      "[34]\tvalidation_0-logloss:0.21391\tvalidation_1-logloss:0.21580\n",
      "[35]\tvalidation_0-logloss:0.21278\tvalidation_1-logloss:0.21500\n",
      "[36]\tvalidation_0-logloss:0.21144\tvalidation_1-logloss:0.21379\n",
      "[37]\tvalidation_0-logloss:0.21045\tvalidation_1-logloss:0.21313\n",
      "[38]\tvalidation_0-logloss:0.20931\tvalidation_1-logloss:0.21221\n",
      "[39]\tvalidation_0-logloss:0.20858\tvalidation_1-logloss:0.21180\n",
      "[40]\tvalidation_0-logloss:0.20760\tvalidation_1-logloss:0.21108\n",
      "[41]\tvalidation_0-logloss:0.20604\tvalidation_1-logloss:0.21028\n",
      "[42]\tvalidation_0-logloss:0.20515\tvalidation_1-logloss:0.20947\n",
      "[43]\tvalidation_0-logloss:0.20452\tvalidation_1-logloss:0.20914\n",
      "[44]\tvalidation_0-logloss:0.20336\tvalidation_1-logloss:0.20844\n",
      "[45]\tvalidation_0-logloss:0.20248\tvalidation_1-logloss:0.20796\n",
      "[46]\tvalidation_0-logloss:0.20155\tvalidation_1-logloss:0.20719\n",
      "[47]\tvalidation_0-logloss:0.20103\tvalidation_1-logloss:0.20680\n",
      "[48]\tvalidation_0-logloss:0.20042\tvalidation_1-logloss:0.20642\n",
      "[49]\tvalidation_0-logloss:0.19922\tvalidation_1-logloss:0.20588\n",
      "[50]\tvalidation_0-logloss:0.19849\tvalidation_1-logloss:0.20540\n",
      "[51]\tvalidation_0-logloss:0.19781\tvalidation_1-logloss:0.20521\n",
      "[52]\tvalidation_0-logloss:0.19685\tvalidation_1-logloss:0.20478\n",
      "[53]\tvalidation_0-logloss:0.19617\tvalidation_1-logloss:0.20434\n",
      "[54]\tvalidation_0-logloss:0.19493\tvalidation_1-logloss:0.20331\n",
      "[55]\tvalidation_0-logloss:0.19434\tvalidation_1-logloss:0.20291\n",
      "[56]\tvalidation_0-logloss:0.19363\tvalidation_1-logloss:0.20254\n",
      "[57]\tvalidation_0-logloss:0.19299\tvalidation_1-logloss:0.20229\n",
      "[58]\tvalidation_0-logloss:0.19252\tvalidation_1-logloss:0.20197\n",
      "[59]\tvalidation_0-logloss:0.19197\tvalidation_1-logloss:0.20189\n",
      "[60]\tvalidation_0-logloss:0.19146\tvalidation_1-logloss:0.20175\n",
      "[61]\tvalidation_0-logloss:0.19092\tvalidation_1-logloss:0.20147\n",
      "[62]\tvalidation_0-logloss:0.18986\tvalidation_1-logloss:0.20088\n",
      "[63]\tvalidation_0-logloss:0.18940\tvalidation_1-logloss:0.20072\n",
      "[64]\tvalidation_0-logloss:0.18908\tvalidation_1-logloss:0.20067\n",
      "[65]\tvalidation_0-logloss:0.18849\tvalidation_1-logloss:0.20026\n",
      "[66]\tvalidation_0-logloss:0.18818\tvalidation_1-logloss:0.20018\n",
      "[67]\tvalidation_0-logloss:0.18772\tvalidation_1-logloss:0.20007\n",
      "[68]\tvalidation_0-logloss:0.18695\tvalidation_1-logloss:0.19996\n",
      "[69]\tvalidation_0-logloss:0.18661\tvalidation_1-logloss:0.19986\n",
      "[70]\tvalidation_0-logloss:0.18623\tvalidation_1-logloss:0.19973\n",
      "[71]\tvalidation_0-logloss:0.18573\tvalidation_1-logloss:0.19974\n",
      "[72]\tvalidation_0-logloss:0.18543\tvalidation_1-logloss:0.19969\n",
      "[73]\tvalidation_0-logloss:0.18516\tvalidation_1-logloss:0.19966\n",
      "[74]\tvalidation_0-logloss:0.18485\tvalidation_1-logloss:0.19970\n",
      "[75]\tvalidation_0-logloss:0.18439\tvalidation_1-logloss:0.19947\n",
      "[76]\tvalidation_0-logloss:0.18414\tvalidation_1-logloss:0.19946\n",
      "[77]\tvalidation_0-logloss:0.18371\tvalidation_1-logloss:0.19914\n",
      "[78]\tvalidation_0-logloss:0.18349\tvalidation_1-logloss:0.19909\n",
      "[79]\tvalidation_0-logloss:0.18256\tvalidation_1-logloss:0.19862\n",
      "[80]\tvalidation_0-logloss:0.18189\tvalidation_1-logloss:0.19858\n",
      "[81]\tvalidation_0-logloss:0.18162\tvalidation_1-logloss:0.19861\n",
      "[82]\tvalidation_0-logloss:0.18146\tvalidation_1-logloss:0.19861\n",
      "[83]\tvalidation_0-logloss:0.18108\tvalidation_1-logloss:0.19871\n",
      "[84]\tvalidation_0-logloss:0.18077\tvalidation_1-logloss:0.19848\n",
      "[85]\tvalidation_0-logloss:0.18016\tvalidation_1-logloss:0.19870\n",
      "[86]\tvalidation_0-logloss:0.17996\tvalidation_1-logloss:0.19867\n",
      "[87]\tvalidation_0-logloss:0.17964\tvalidation_1-logloss:0.19880\n",
      "[88]\tvalidation_0-logloss:0.17953\tvalidation_1-logloss:0.19868\n",
      "[89]\tvalidation_0-logloss:0.17934\tvalidation_1-logloss:0.19858\n",
      "[90]\tvalidation_0-logloss:0.17884\tvalidation_1-logloss:0.19853\n",
      "[91]\tvalidation_0-logloss:0.17851\tvalidation_1-logloss:0.19865\n",
      "[92]\tvalidation_0-logloss:0.17839\tvalidation_1-logloss:0.19860\n",
      "[93]\tvalidation_0-logloss:0.17822\tvalidation_1-logloss:0.19858\n"
     ]
    },
    {
     "data": {
      "text/plain": [
       "XGBClassifier(base_score=0.5, booster='gbtree', colsample_bylevel=1,\n",
       "              colsample_bynode=1, colsample_bytree=1, gamma=4, gpu_id=-1,\n",
       "              importance_type='gain', interaction_constraints='',\n",
       "              learning_rate=0.1, max_delta_step=0, max_depth=4,\n",
       "              min_child_weight=1, missing=nan, monotone_constraints='()',\n",
       "              n_estimators=1000, n_jobs=12, num_parallel_tree=1,\n",
       "              objective='binary:logistic', random_state=1, reg_alpha=0,\n",
       "              reg_lambda=1, scale_pos_weight=1, seed=1, silent=True,\n",
       "              subsample=1, tree_method='exact', use_label_encoder=True,\n",
       "              validate_parameters=1, verbosity=None)"
      ]
     },
     "execution_count": 433,
     "metadata": {},
     "output_type": "execute_result"
    }
   ],
   "source": [
    "#View notbook for details on  Parameter Tuning\n",
    "clf = XGBClassifier(max_depth=4,\n",
    "                    min_child_weight=1,\n",
    "                    learning_rate=0.1,\n",
    "                    n_estimators=1000,\n",
    "                    silent=True,\n",
    "                    objective='binary:logistic',\n",
    "                    gamma=4,\n",
    "                    #max_delta_step=0,\n",
    "                    #subsample=0.88,\n",
    "                    #colsample_bytree=1,\n",
    "                    #colsample_bylevel=1,\n",
    "                    #reg_alpha=0,\n",
    "                    #reg_lambda=0,\n",
    "                    #scale_pos_weight=1,\n",
    "                    seed=1,\n",
    "                    #missing=None\n",
    "                    )\n",
    "\n",
    "clf.fit(\n",
    "    X_train,\n",
    "    y_train,\n",
    "    eval_metric=\"logloss\",\n",
    "    eval_set=[(X_train, y_train), (X_val, y_val)], \n",
    "    verbose=True,\n",
    "    early_stopping_rounds = 10\n",
    ")"
   ]
  },
  {
   "cell_type": "code",
   "execution_count": 434,
   "id": "weekly-catering",
   "metadata": {},
   "outputs": [],
   "source": [
    "## Predictions"
   ]
  },
  {
   "cell_type": "code",
   "execution_count": 435,
   "id": "greek-wisdom",
   "metadata": {},
   "outputs": [
    {
     "data": {
      "image/png": "[encoded data removed]",
      "text/plain": [
       "<Figure size 576x432 with 2 Axes>"
      ]
     },
     "metadata": {
      "needs_background": "light"
     },
     "output_type": "display_data"
    },
    {
     "name": "stdout",
     "output_type": "stream",
     "text": [
      "0.1896120319024582\n",
      "0.9342857142857143\n",
      "0.8737045812297946\n",
      "0.052714104686880536\n",
      "0.3920704845814978\n",
      "0.2672672672672673\n",
      "0.7355371900826446\n",
      "0.254680252862071\n"
     ]
    }
   ],
   "source": [
    "# riding style null fixed\n",
    "## Create Report\n",
    "y_pred = clf.predict(X_test)\n",
    "probs = clf.predict_proba(X_test)\n",
    "\n",
    "results = pd.DataFrame(y_test)\n",
    "#temp = pd.DataFrame(probs)\n",
    "results['actual_classification'] = y_test\n",
    "results['predicted_classification'] = y_pred\n",
    "results['buy_prob_28'] = probs[:,1]\n",
    "\n",
    "plt.rcParams[\"figure.figsize\"] = (8, 6)\n",
    "matrix = metrics.confusion_matrix(results['actual_classification'], results['predicted_classification'])\n",
    "sns.heatmap(pd.DataFrame(matrix), annot=True, cmap=\"YlGnBu\" ,fmt='g')\n",
    "plt.show()\n",
    "#classification summary stats\n",
    "print(metrics.log_loss(results['actual_classification'],results['buy_prob_28']))\n",
    "print(metrics.accuracy_score(results['actual_classification'], results['predicted_classification']))\n",
    "print(metrics.roc_auc_score(results['actual_classification'],results['buy_prob_28']))\n",
    "print(metrics.brier_score_loss(results['actual_classification'],results['buy_prob_28']))\n",
    "print(metrics.f1_score(results['actual_classification'], results['predicted_classification']))\n",
    "print(metrics.recall_score(results['actual_classification'], results['predicted_classification']))\n",
    "print(metrics.precision_score(results['actual_classification'], results['predicted_classification']))\n",
    "print(metrics.average_precision_score(results['actual_classification'], results['predicted_classification']))"
   ]
  },
  {
   "cell_type": "code",
   "execution_count": 436,
   "id": "signed-prediction",
   "metadata": {},
   "outputs": [],
   "source": [
    "## Make Submission\n",
    "predictions = clf.predict_proba(submission)"
   ]
  },
  {
   "cell_type": "code",
   "execution_count": 437,
   "id": "magnetic-england",
   "metadata": {},
   "outputs": [
    {
     "data": {
      "text/plain": [
       "0       0.920104\n",
       "1       0.926762\n",
       "2       0.978351\n",
       "3       0.857887\n",
       "4       0.945931\n",
       "          ...   \n",
       "8995    0.930671\n",
       "8996    0.928026\n",
       "8997    0.984236\n",
       "8998    0.477540\n",
       "8999    0.864078\n",
       "Name: 0, Length: 9000, dtype: float32"
      ]
     },
     "execution_count": 437,
     "metadata": {},
     "output_type": "execute_result"
    }
   ],
   "source": [
    "pd.DataFrame(predictions)[0]"
   ]
  },
  {
   "cell_type": "code",
   "execution_count": 438,
   "id": "civilian-tiger",
   "metadata": {},
   "outputs": [],
   "source": [
    "test['damaged'] = pd.DataFrame(predictions)[0]"
   ]
  },
  {
   "cell_type": "code",
   "execution_count": 439,
   "id": "powered-thumbnail",
   "metadata": {},
   "outputs": [],
   "source": [
    "submit = test[['id','damaged']]"
   ]
  },
  {
   "cell_type": "code",
   "execution_count": 440,
   "id": "gothic-thailand",
   "metadata": {},
   "outputs": [
    {
     "data": {
      "text/html": [
       "<div>\n",
       "<style scoped>\n",
       "    .dataframe tbody tr th:only-of-type {\n",
       "        vertical-align: middle;\n",
       "    }\n",
       "\n",
       "    .dataframe tbody tr th {\n",
       "        vertical-align: top;\n",
       "    }\n",
       "\n",
       "    .dataframe thead th {\n",
       "        text-align: right;\n",
       "    }\n",
       "</style>\n",
       "<table border=\"1\" class=\"dataframe\">\n",
       "  <thead>\n",
       "    <tr style=\"text-align: right;\">\n",
       "      <th></th>\n",
       "      <th>id</th>\n",
       "      <th>damaged</th>\n",
       "    </tr>\n",
       "  </thead>\n",
       "  <tbody>\n",
       "    <tr>\n",
       "      <th>0</th>\n",
       "      <td>11254</td>\n",
       "      <td>0.920104</td>\n",
       "    </tr>\n",
       "    <tr>\n",
       "      <th>1</th>\n",
       "      <td>27716</td>\n",
       "      <td>0.926762</td>\n",
       "    </tr>\n",
       "    <tr>\n",
       "      <th>2</th>\n",
       "      <td>29066</td>\n",
       "      <td>0.978351</td>\n",
       "    </tr>\n",
       "    <tr>\n",
       "      <th>3</th>\n",
       "      <td>3373</td>\n",
       "      <td>0.857887</td>\n",
       "    </tr>\n",
       "    <tr>\n",
       "      <th>4</th>\n",
       "      <td>1996</td>\n",
       "      <td>0.945931</td>\n",
       "    </tr>\n",
       "    <tr>\n",
       "      <th>...</th>\n",
       "      <td>...</td>\n",
       "      <td>...</td>\n",
       "    </tr>\n",
       "    <tr>\n",
       "      <th>8995</th>\n",
       "      <td>14194</td>\n",
       "      <td>0.930671</td>\n",
       "    </tr>\n",
       "    <tr>\n",
       "      <th>8996</th>\n",
       "      <td>14451</td>\n",
       "      <td>0.928026</td>\n",
       "    </tr>\n",
       "    <tr>\n",
       "      <th>8997</th>\n",
       "      <td>10560</td>\n",
       "      <td>0.984236</td>\n",
       "    </tr>\n",
       "    <tr>\n",
       "      <th>8998</th>\n",
       "      <td>23399</td>\n",
       "      <td>0.477540</td>\n",
       "    </tr>\n",
       "    <tr>\n",
       "      <th>8999</th>\n",
       "      <td>3222</td>\n",
       "      <td>0.864078</td>\n",
       "    </tr>\n",
       "  </tbody>\n",
       "</table>\n",
       "<p>9000 rows × 2 columns</p>\n",
       "</div>"
      ],
      "text/plain": [
       "         id   damaged\n",
       "0     11254  0.920104\n",
       "1     27716  0.926762\n",
       "2     29066  0.978351\n",
       "3      3373  0.857887\n",
       "4      1996  0.945931\n",
       "...     ...       ...\n",
       "8995  14194  0.930671\n",
       "8996  14451  0.928026\n",
       "8997  10560  0.984236\n",
       "8998  23399  0.477540\n",
       "8999   3222  0.864078\n",
       "\n",
       "[9000 rows x 2 columns]"
      ]
     },
     "execution_count": 440,
     "metadata": {},
     "output_type": "execute_result"
    }
   ],
   "source": [
    "submit"
   ]
  },
  {
   "cell_type": "code",
   "execution_count": 441,
   "id": "identified-shock",
   "metadata": {},
   "outputs": [],
   "source": [
    "submit.to_csv('data/submission.csv', index=False)"
   ]
  },
  {
   "cell_type": "code",
   "execution_count": 442,
   "id": "engaging-gamma",
   "metadata": {},
   "outputs": [
    {
     "name": "stdout",
     "output_type": "stream",
     "text": [
      "Warning: Your Kaggle API key is readable by other users on this system! To fix this, you can run 'chmod 600 /Users/neilturner/.kaggle/kaggle.json'\n",
      "100%|█████████████████████████████████████████| 140k/140k [00:00<00:00, 165kB/s]\n",
      "Successfully submitted to SLICED s01e02"
     ]
    }
   ],
   "source": [
    "! kaggle competitions submit -c sliced-s01e02-xunyc5 -f 'data/submission.csv' -m \"All features\""
   ]
  },
  {
   "cell_type": "code",
   "execution_count": null,
   "id": "unlike-irish",
   "metadata": {},
   "outputs": [],
   "source": []
  }
 ],
 "metadata": {
  "kernelspec": {
   "display_name": "Python 3",
   "language": "python",
   "name": "python3"
  },
  "language_info": {
   "codemirror_mode": {
    "name": "ipython",
    "version": 3
   },
   "file_extension": ".py",
   "mimetype": "text/x-python",
   "name": "python",
   "nbconvert_exporter": "python",
   "pygments_lexer": "ipython3",
   "version": "3.8.5"
  }
 },
 "nbformat": 4,
 "nbformat_minor": 5
}
