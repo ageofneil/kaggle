{
 "cells": [
  {
   "cell_type": "code",
   "execution_count": 107,
   "id": "liked-aurora",
   "metadata": {},
   "outputs": [],
   "source": [
    "import datetime\n",
    "import pandas as pd\n",
    "import matplotlib.pyplot as plt\n",
    "import numpy as np\n",
    "import seaborn as sns\n",
    "\n",
    "from pandas_profiling import ProfileReport\n",
    "from sklearn import metrics\n",
    "from xgboost import XGBClassifier"
   ]
  },
  {
   "cell_type": "markdown",
   "id": "beautiful-little",
   "metadata": {},
   "source": [
    "## Load Data"
   ]
  },
  {
   "cell_type": "code",
   "execution_count": 108,
   "id": "preceding-dream",
   "metadata": {},
   "outputs": [],
   "source": [
    "train = pd.read_csv('data/train.csv')\n",
    "test = pd.read_csv('data/test.csv')"
   ]
  },
  {
   "cell_type": "code",
   "execution_count": 138,
   "id": "marked-annual",
   "metadata": {},
   "outputs": [],
   "source": [
    "# binary classification, missing data\n",
    "from pandas import read_csv\n",
    "from xgboost import XGBClassifier\n",
    "from sklearn.model_selection import train_test_split, GridSearchCV\n",
    "from sklearn.metrics import accuracy_score\n",
    "from sklearn.preprocessing import LabelEncoder\n",
    "# load data\n",
    "dataframe = pd.read_csv('data/train.csv')\n",
    "\n",
    "dataframe = dataframe.replace('-1', np.nan)\n",
    "dataframe =dataframe.replace(-1, np.nan)\n",
    "dataframe =dataframe.replace(-1.0, np.nan)\n",
    "\n",
    "#dataframe = dataframe.fillna(0)"
   ]
  },
  {
   "cell_type": "code",
   "execution_count": 139,
   "id": "fleet-burst",
   "metadata": {},
   "outputs": [],
   "source": [
    "def objects_to_category(df):\n",
    "    '''\n",
    "    function that converts objects to categorical features.\n",
    "    '''\n",
    "    object_cols = df.select_dtypes(include='object').columns.tolist()\n",
    "    object_features = df[object_cols].astype(\"category\")\n",
    "    for field in object_cols:\n",
    "        df[field] = object_features[field].cat.codes\n",
    "    return df\n",
    "\n",
    "# fill na\n",
    "dataframe = objects_to_category(dataframe)"
   ]
  },
  {
   "cell_type": "code",
   "execution_count": 140,
   "id": "adopted-album",
   "metadata": {},
   "outputs": [
    {
     "data": {
      "text/plain": [
       "Index(['id', 'incident_year', 'incident_month', 'incident_day', 'operator_id',\n",
       "       'operator', 'aircraft', 'aircraft_type', 'aircraft_make',\n",
       "       'aircraft_model', 'aircraft_mass', 'engine_make', 'engine_model',\n",
       "       'engines', 'engine_type', 'engine1_position', 'engine2_position',\n",
       "       'engine3_position', 'engine4_position', 'airport_id', 'airport',\n",
       "       'state', 'faa_region', 'flight_phase', 'visibility', 'precipitation',\n",
       "       'height', 'speed', 'distance', 'species_id', 'species_name',\n",
       "       'species_quantity', 'flight_impact', 'damaged'],\n",
       "      dtype='object')"
      ]
     },
     "execution_count": 140,
     "metadata": {},
     "output_type": "execute_result"
    }
   ],
   "source": [
    "dataframe.columns"
   ]
  },
  {
   "cell_type": "code",
   "execution_count": 141,
   "id": "robust-proof",
   "metadata": {},
   "outputs": [],
   "source": [
    "features = ['incident_year', 'incident_month', 'incident_day', 'operator_id',\n",
    "       'operator', 'aircraft', 'aircraft_type', 'aircraft_make',\n",
    "       'aircraft_model', 'aircraft_mass', 'engine_make', 'engine_model',\n",
    "       'engines', 'engine_type', 'engine1_position', 'engine2_position',\n",
    "       'engine3_position', 'engine4_position', 'airport',\n",
    "       'state', 'faa_region', 'flight_phase', 'visibility', 'precipitation',\n",
    "       'height', 'speed', 'distance', 'species_name',\n",
    "       'species_quantity', 'flight_impact']\n",
    "\n",
    "target = 'damaged'"
   ]
  },
  {
   "cell_type": "code",
   "execution_count": 142,
   "id": "adopted-straight",
   "metadata": {},
   "outputs": [],
   "source": [
    "X = dataframe[features].values\n",
    "Y = dataframe[target].values"
   ]
  },
  {
   "cell_type": "code",
   "execution_count": 143,
   "id": "allied-weekend",
   "metadata": {},
   "outputs": [],
   "source": [
    "X = X.astype('float32')"
   ]
  },
  {
   "cell_type": "code",
   "execution_count": 144,
   "id": "retired-clarity",
   "metadata": {},
   "outputs": [],
   "source": [
    "from sklearn.impute import SimpleImputer\n",
    "imputer = SimpleImputer()\n",
    "X = imputer.fit_transform(X)"
   ]
  },
  {
   "cell_type": "code",
   "execution_count": 145,
   "id": "rising-consideration",
   "metadata": {},
   "outputs": [
    {
     "data": {
      "text/plain": [
       "array([[ 1.996e+03,  1.100e+01,  7.000e+00, ...,  3.800e+02,  0.000e+00,\n",
       "        -1.000e+00],\n",
       "       [ 1.999e+03,  6.000e+00,  2.600e+01, ...,  3.800e+02,  0.000e+00,\n",
       "        -1.000e+00],\n",
       "       [ 2.011e+03,  1.200e+01,  1.000e+00, ...,  3.980e+02,  0.000e+00,\n",
       "         3.000e+00],\n",
       "       ...,\n",
       "       [ 2.013e+03,  1.000e+01,  1.100e+01, ...,  2.460e+02,  0.000e+00,\n",
       "        -1.000e+00],\n",
       "       [ 2.006e+03,  3.000e+00,  7.000e+00, ...,  2.460e+02,  0.000e+00,\n",
       "         5.000e+00],\n",
       "       [ 1.995e+03,  6.000e+00,  5.000e+00, ...,  3.800e+02,  0.000e+00,\n",
       "         3.000e+00]], dtype=float32)"
      ]
     },
     "execution_count": 145,
     "metadata": {},
     "output_type": "execute_result"
    }
   ],
   "source": [
    "X"
   ]
  },
  {
   "cell_type": "code",
   "execution_count": 146,
   "id": "certain-benefit",
   "metadata": {},
   "outputs": [],
   "source": [
    "# split data into X and y\n",
    "# encode Y class values as integers\n",
    "label_encoder = LabelEncoder()\n",
    "label_encoder = label_encoder.fit(Y)\n",
    "label_encoded_y = label_encoder.transform(Y)"
   ]
  },
  {
   "cell_type": "code",
   "execution_count": 147,
   "id": "compressed-director",
   "metadata": {},
   "outputs": [],
   "source": [
    "# split data into train and test sets\n",
    "seed = 7\n",
    "test_size = 0.2\n",
    "X_train, X_test, y_train, y_test = train_test_split(X, label_encoded_y, test_size=test_size, random_state=seed)\n",
    "X_train, X_val, y_train, y_val = train_test_split(X_train, y_train, test_size=0.1, random_state=1)"
   ]
  },
  {
   "cell_type": "code",
   "execution_count": 148,
   "id": "junior-armstrong",
   "metadata": {},
   "outputs": [],
   "source": [
    "from sklearn.preprocessing import StandardScaler\n",
    "from sklearn.datasets import make_classification\n",
    "from sklearn.model_selection import train_test_split\n",
    "from sklearn.pipeline import Pipeline"
   ]
  },
  {
   "cell_type": "code",
   "execution_count": 149,
   "id": "mobile-minnesota",
   "metadata": {},
   "outputs": [],
   "source": [
    "model = XGBClassifier(max_depth=4,\n",
    "                    min_child_weight=1,\n",
    "                    learning_rate=0.1,\n",
    "                    n_estimators=1000,\n",
    "                    silent=True,\n",
    "                    objective='binary:logistic',\n",
    "                    gamma=4,\n",
    "                    max_delta_step=0,\n",
    "                    subsample=0.88,\n",
    "                    colsample_bytree=1,\n",
    "                    colsample_bylevel=1,\n",
    "                    reg_alpha=0,\n",
    "                    reg_lambda=0,\n",
    "                    scale_pos_weight=1,\n",
    "                    seed=1,\n",
    "                    missing=None,\n",
    "                    base_score='.92'\n",
    "                    )"
   ]
  },
  {
   "cell_type": "code",
   "execution_count": 2,
   "id": "adequate-liberal",
   "metadata": {},
   "outputs": [
    {
     "ename": "NameError",
     "evalue": "name 'XGBClassifier' is not defined",
     "output_type": "error",
     "traceback": [
      "\u001b[0;31m---------------------------------------------------------------------------\u001b[0m",
      "\u001b[0;31mNameError\u001b[0m                                 Traceback (most recent call last)",
      "\u001b[0;32m<ipython-input-2-ad2374037e3b>\u001b[0m in \u001b[0;36m<module>\u001b[0;34m\u001b[0m\n\u001b[0;32m----> 1\u001b[0;31m \u001b[0mmodel\u001b[0m \u001b[0;34m=\u001b[0m \u001b[0mXGBClassifier\u001b[0m\u001b[0;34m(\u001b[0m\u001b[0;34m)\u001b[0m\u001b[0;34m\u001b[0m\u001b[0;34m\u001b[0m\u001b[0m\n\u001b[0m\u001b[1;32m      2\u001b[0m \u001b[0;34m\u001b[0m\u001b[0m\n\u001b[1;32m      3\u001b[0m pipeline = Pipeline([\n\u001b[1;32m      4\u001b[0m     \u001b[0;34m(\u001b[0m\u001b[0;34m'standard_scaler'\u001b[0m\u001b[0;34m,\u001b[0m \u001b[0mStandardScaler\u001b[0m\u001b[0;34m(\u001b[0m\u001b[0;34m)\u001b[0m\u001b[0;34m)\u001b[0m\u001b[0;34m,\u001b[0m\u001b[0;34m\u001b[0m\u001b[0;34m\u001b[0m\u001b[0m\n\u001b[1;32m      5\u001b[0m     \u001b[0;34m(\u001b[0m\u001b[0;34m'model'\u001b[0m\u001b[0;34m,\u001b[0m \u001b[0mmodel\u001b[0m\u001b[0;34m)\u001b[0m\u001b[0;34m\u001b[0m\u001b[0;34m\u001b[0m\u001b[0m\n",
      "\u001b[0;31mNameError\u001b[0m: name 'XGBClassifier' is not defined"
     ]
    }
   ],
   "source": [
    "model = XGBClassifier()\n",
    "\n",
    "pipeline = Pipeline([\n",
    "    ('standard_scaler', StandardScaler()), \n",
    "    ('model', model)\n",
    "])\n",
    "\n",
    "param_grid = {\n",
    "    'model__max_depth': [2, 3, 5, 7, 10],\n",
    "    'model__n_estimators': [10, 100, 500],\n",
    "}\n",
    "\n",
    "grid = GridSearchCV(pipeline, param_grid, cv=5, n_jobs=-1, scoring='mse')"
   ]
  },
  {
   "cell_type": "code",
   "execution_count": 156,
   "id": "attractive-samoa",
   "metadata": {},
   "outputs": [
    {
     "name": "stderr",
     "output_type": "stream",
     "text": [
      "/Users/neilturner/anaconda3/envs/python3/lib/python3.8/site-packages/xgboost/sklearn.py:888: UserWarning: The use of label encoder in XGBClassifier is deprecated and will be removed in a future release. To remove this warning, do the following: 1) Pass option use_label_encoder=False when constructing XGBClassifier object; and 2) Encode your labels (y) as integers starting with 0, i.e. 0, 1, 2, ..., [num_class - 1].\n",
      "  warnings.warn(label_encoder_deprecation_msg, UserWarning)\n"
     ]
    },
    {
     "name": "stdout",
     "output_type": "stream",
     "text": [
      "[16:39:45] WARNING: /opt/concourse/worker/volumes/live/7a2b9f41-3287-451b-6691-43e9a6c0910f/volume/xgboost-split_1619728204606/work/src/learner.cc:1061: Starting in XGBoost 1.3.0, the default evaluation metric used with the objective 'binary:logistic' was changed from 'error' to 'logloss'. Explicitly set eval_metric if you'd like to restore the old behavior.\n"
     ]
    },
    {
     "data": {
      "text/plain": [
       "GridSearchCV(cv=5, error_score=nan,\n",
       "             estimator=Pipeline(memory=None,\n",
       "                                steps=[('standard_scaler',\n",
       "                                        StandardScaler(copy=True,\n",
       "                                                       with_mean=True,\n",
       "                                                       with_std=True)),\n",
       "                                       ('model',\n",
       "                                        XGBClassifier(base_score=None,\n",
       "                                                      booster=None,\n",
       "                                                      colsample_bylevel=None,\n",
       "                                                      colsample_bynode=None,\n",
       "                                                      colsample_bytree=None,\n",
       "                                                      gamma=None, gpu_id=None,\n",
       "                                                      importance_type='gain',\n",
       "                                                      interaction_constraints=None,\n",
       "                                                      learning_...\n",
       "                                                      reg_lambda=None,\n",
       "                                                      scale_pos_weight=None,\n",
       "                                                      subsample=None,\n",
       "                                                      tree_method=None,\n",
       "                                                      use_label_encoder=True,\n",
       "                                                      validate_parameters=None,\n",
       "                                                      verbosity=None))],\n",
       "                                verbose=False),\n",
       "             iid='deprecated', n_jobs=-1,\n",
       "             param_grid={'model__max_depth': [2, 3, 5, 7, 10],\n",
       "                         'model__n_estimators': [10, 100, 500]},\n",
       "             pre_dispatch='2*n_jobs', refit=True, return_train_score=False,\n",
       "             scoring='neg_log_loss', verbose=0)"
      ]
     },
     "execution_count": 156,
     "metadata": {},
     "output_type": "execute_result"
    }
   ],
   "source": [
    "grid.fit(X_train, y_train)"
   ]
  },
  {
   "cell_type": "code",
   "execution_count": 160,
   "id": "sealed-threshold",
   "metadata": {},
   "outputs": [
    {
     "name": "stdout",
     "output_type": "stream",
     "text": [
      "Best parameters: {'model__max_depth': 3, 'model__n_estimators': 100}\n",
      "Mean CV score: -0.200237\n",
      "Standard deviation of CV score:  0.006702\n"
     ]
    }
   ],
   "source": [
    "mean_score = grid.cv_results_[\"mean_test_score\"][grid.best_index_]\n",
    "std_score = grid.cv_results_[\"std_test_score\"][grid.best_index_]\n",
    "\n",
    "grid.best_params_, mean_score, std_score\n",
    "\n",
    "print(f\"Best parameters: {grid.best_params_}\")\n",
    "print(f\"Mean CV score: {mean_score: .6f}\")\n",
    "print(f\"Standard deviation of CV score: {std_score: .6f}\")"
   ]
  },
  {
   "cell_type": "code",
   "execution_count": 133,
   "id": "conceptual-football",
   "metadata": {},
   "outputs": [],
   "source": [
    "pipe = Pipeline([('scaler', StandardScaler()), ('model', model)])"
   ]
  },
  {
   "cell_type": "code",
   "execution_count": null,
   "id": "vital-detective",
   "metadata": {},
   "outputs": [],
   "source": []
  },
  {
   "cell_type": "code",
   "execution_count": 134,
   "id": "selective-lottery",
   "metadata": {},
   "outputs": [
    {
     "name": "stderr",
     "output_type": "stream",
     "text": [
      "/Users/neilturner/anaconda3/envs/python3/lib/python3.8/site-packages/xgboost/sklearn.py:888: UserWarning: The use of label encoder in XGBClassifier is deprecated and will be removed in a future release. To remove this warning, do the following: 1) Pass option use_label_encoder=False when constructing XGBClassifier object; and 2) Encode your labels (y) as integers starting with 0, i.e. 0, 1, 2, ..., [num_class - 1].\n",
      "  warnings.warn(label_encoder_deprecation_msg, UserWarning)\n"
     ]
    },
    {
     "name": "stdout",
     "output_type": "stream",
     "text": [
      "[16:35:07] WARNING: /opt/concourse/worker/volumes/live/7a2b9f41-3287-451b-6691-43e9a6c0910f/volume/xgboost-split_1619728204606/work/src/learner.cc:541: \n",
      "Parameters: { silent } might not be used.\n",
      "\n",
      "  This may not be accurate due to some parameters are only used in language bindings but\n",
      "  passed down to XGBoost core.  Or some parameters are not used but slip through this\n",
      "  verification. Please open an issue if you find above cases.\n",
      "\n",
      "\n",
      "[16:35:07] WARNING: /opt/concourse/worker/volumes/live/7a2b9f41-3287-451b-6691-43e9a6c0910f/volume/xgboost-split_1619728204606/work/src/learner.cc:1061: Starting in XGBoost 1.3.0, the default evaluation metric used with the objective 'binary:logistic' was changed from 'error' to 'logloss'. Explicitly set eval_metric if you'd like to restore the old behavior.\n"
     ]
    },
    {
     "data": {
      "text/plain": [
       "Pipeline(memory=None,\n",
       "         steps=[('scaler',\n",
       "                 StandardScaler(copy=True, with_mean=True, with_std=True)),\n",
       "                ('model',\n",
       "                 XGBClassifier(base_score='.92', booster='gbtree',\n",
       "                               colsample_bylevel=1, colsample_bynode=1,\n",
       "                               colsample_bytree=1, gamma=4, gpu_id=-1,\n",
       "                               importance_type='gain',\n",
       "                               interaction_constraints='', learning_rate=0.1,\n",
       "                               max_delta_step=0, max_depth=4,\n",
       "                               min_child_weight=1, missing=None,\n",
       "                               monotone_constraints='()', n_estimators=1000,\n",
       "                               n_jobs=12, num_parallel_tree=1,\n",
       "                               objective='binary:logistic', random_state=1,\n",
       "                               reg_alpha=0, reg_lambda=0, scale_pos_weight=1,\n",
       "                               seed=1, silent=True, subsample=0.88,\n",
       "                               tree_method='exact', use_label_encoder=True,\n",
       "                               validate_parameters=1, verbosity=None))],\n",
       "         verbose=False)"
      ]
     },
     "execution_count": 134,
     "metadata": {},
     "output_type": "execute_result"
    }
   ],
   "source": [
    "pipe.fit(X_train,\n",
    "    y_train)"
   ]
  },
  {
   "cell_type": "code",
   "execution_count": 135,
   "id": "changed-quebec",
   "metadata": {},
   "outputs": [
    {
     "data": {
      "text/plain": [
       "0.9266666666666666"
      ]
     },
     "execution_count": 135,
     "metadata": {},
     "output_type": "execute_result"
    }
   ],
   "source": [
    "pipe.score(X_test, y_test)"
   ]
  },
  {
   "cell_type": "code",
   "execution_count": 119,
   "id": "aquatic-trigger",
   "metadata": {},
   "outputs": [
    {
     "name": "stdout",
     "output_type": "stream",
     "text": [
      "[16:05:50] WARNING: /opt/concourse/worker/volumes/live/7a2b9f41-3287-451b-6691-43e9a6c0910f/volume/xgboost-split_1619728204606/work/src/learner.cc:541: \n",
      "Parameters: { silent } might not be used.\n",
      "\n",
      "  This may not be accurate due to some parameters are only used in language bindings but\n",
      "  passed down to XGBoost core.  Or some parameters are not used but slip through this\n",
      "  verification. Please open an issue if you find above cases.\n",
      "\n",
      "\n",
      "[0]\tvalidation_0-logloss:0.62163\tvalidation_1-logloss:0.62186\n",
      "[1]\tvalidation_0-logloss:0.56309\tvalidation_1-logloss:0.56371\n",
      "[2]\tvalidation_0-logloss:0.51449\tvalidation_1-logloss:0.51534\n",
      "[3]\tvalidation_0-logloss:0.47370\tvalidation_1-logloss:0.47486\n",
      "[4]\tvalidation_0-logloss:0.43914\tvalidation_1-logloss:0.44041\n",
      "[5]\tvalidation_0-logloss:0.40950\tvalidation_1-logloss:0.41087\n",
      "[6]\tvalidation_0-logloss:0.38405\tvalidation_1-logloss:0.38611\n",
      "[7]\tvalidation_0-logloss:0.36208\tvalidation_1-logloss:0.36434\n",
      "[8]\tvalidation_0-logloss:0.34337\tvalidation_1-logloss:0.34593\n",
      "[9]\tvalidation_0-logloss:0.32699\tvalidation_1-logloss:0.33030\n",
      "[10]\tvalidation_0-logloss:0.31240\tvalidation_1-logloss:0.31630\n",
      "[11]\tvalidation_0-logloss:0.30001\tvalidation_1-logloss:0.30435\n",
      "[12]\tvalidation_0-logloss:0.28892\tvalidation_1-logloss:0.29377\n",
      "[13]\tvalidation_0-logloss:0.27914\tvalidation_1-logloss:0.28460\n",
      "[14]\tvalidation_0-logloss:0.27077\tvalidation_1-logloss:0.27625\n",
      "[15]\tvalidation_0-logloss:0.26321\tvalidation_1-logloss:0.26921\n",
      "[16]\tvalidation_0-logloss:0.25695\tvalidation_1-logloss:0.26337\n",
      "[17]\tvalidation_0-logloss:0.25133\tvalidation_1-logloss:0.25816\n",
      "[18]\tvalidation_0-logloss:0.24589\tvalidation_1-logloss:0.25267\n",
      "[19]\tvalidation_0-logloss:0.24130\tvalidation_1-logloss:0.24817\n"
     ]
    },
    {
     "name": "stderr",
     "output_type": "stream",
     "text": [
      "/Users/neilturner/anaconda3/envs/python3/lib/python3.8/site-packages/xgboost/sklearn.py:888: UserWarning: The use of label encoder in XGBClassifier is deprecated and will be removed in a future release. To remove this warning, do the following: 1) Pass option use_label_encoder=False when constructing XGBClassifier object; and 2) Encode your labels (y) as integers starting with 0, i.e. 0, 1, 2, ..., [num_class - 1].\n",
      "  warnings.warn(label_encoder_deprecation_msg, UserWarning)\n"
     ]
    },
    {
     "name": "stdout",
     "output_type": "stream",
     "text": [
      "[20]\tvalidation_0-logloss:0.23715\tvalidation_1-logloss:0.24407\n",
      "[21]\tvalidation_0-logloss:0.23339\tvalidation_1-logloss:0.24039\n",
      "[22]\tvalidation_0-logloss:0.23034\tvalidation_1-logloss:0.23774\n",
      "[23]\tvalidation_0-logloss:0.22727\tvalidation_1-logloss:0.23443\n",
      "[24]\tvalidation_0-logloss:0.22447\tvalidation_1-logloss:0.23220\n",
      "[25]\tvalidation_0-logloss:0.22193\tvalidation_1-logloss:0.22978\n",
      "[26]\tvalidation_0-logloss:0.21966\tvalidation_1-logloss:0.22787\n",
      "[27]\tvalidation_0-logloss:0.21755\tvalidation_1-logloss:0.22594\n",
      "[28]\tvalidation_0-logloss:0.21583\tvalidation_1-logloss:0.22419\n",
      "[29]\tvalidation_0-logloss:0.21406\tvalidation_1-logloss:0.22216\n",
      "[30]\tvalidation_0-logloss:0.21252\tvalidation_1-logloss:0.22085\n",
      "[31]\tvalidation_0-logloss:0.21110\tvalidation_1-logloss:0.21981\n",
      "[32]\tvalidation_0-logloss:0.20919\tvalidation_1-logloss:0.21846\n",
      "[33]\tvalidation_0-logloss:0.20758\tvalidation_1-logloss:0.21715\n",
      "[34]\tvalidation_0-logloss:0.20626\tvalidation_1-logloss:0.21638\n",
      "[35]\tvalidation_0-logloss:0.20516\tvalidation_1-logloss:0.21546\n",
      "[36]\tvalidation_0-logloss:0.20422\tvalidation_1-logloss:0.21468\n",
      "[37]\tvalidation_0-logloss:0.20343\tvalidation_1-logloss:0.21424\n",
      "[38]\tvalidation_0-logloss:0.20218\tvalidation_1-logloss:0.21302\n",
      "[39]\tvalidation_0-logloss:0.20132\tvalidation_1-logloss:0.21228\n",
      "[40]\tvalidation_0-logloss:0.20026\tvalidation_1-logloss:0.21157\n",
      "[41]\tvalidation_0-logloss:0.19914\tvalidation_1-logloss:0.21017\n",
      "[42]\tvalidation_0-logloss:0.19771\tvalidation_1-logloss:0.20858\n",
      "[43]\tvalidation_0-logloss:0.19665\tvalidation_1-logloss:0.20786\n",
      "[44]\tvalidation_0-logloss:0.19559\tvalidation_1-logloss:0.20674\n",
      "[45]\tvalidation_0-logloss:0.19498\tvalidation_1-logloss:0.20584\n",
      "[46]\tvalidation_0-logloss:0.19409\tvalidation_1-logloss:0.20559\n",
      "[47]\tvalidation_0-logloss:0.19295\tvalidation_1-logloss:0.20482\n",
      "[48]\tvalidation_0-logloss:0.19202\tvalidation_1-logloss:0.20392\n",
      "[49]\tvalidation_0-logloss:0.19125\tvalidation_1-logloss:0.20352\n",
      "[50]\tvalidation_0-logloss:0.19052\tvalidation_1-logloss:0.20295\n",
      "[51]\tvalidation_0-logloss:0.19004\tvalidation_1-logloss:0.20289\n",
      "[52]\tvalidation_0-logloss:0.18941\tvalidation_1-logloss:0.20285\n",
      "[53]\tvalidation_0-logloss:0.18851\tvalidation_1-logloss:0.20257\n",
      "[54]\tvalidation_0-logloss:0.18780\tvalidation_1-logloss:0.20238\n",
      "[55]\tvalidation_0-logloss:0.18694\tvalidation_1-logloss:0.20160\n",
      "[56]\tvalidation_0-logloss:0.18624\tvalidation_1-logloss:0.20132\n",
      "[57]\tvalidation_0-logloss:0.18558\tvalidation_1-logloss:0.20117\n",
      "[58]\tvalidation_0-logloss:0.18502\tvalidation_1-logloss:0.20061\n",
      "[59]\tvalidation_0-logloss:0.18442\tvalidation_1-logloss:0.19992\n",
      "[60]\tvalidation_0-logloss:0.18409\tvalidation_1-logloss:0.20012\n",
      "[61]\tvalidation_0-logloss:0.18354\tvalidation_1-logloss:0.19996\n",
      "[62]\tvalidation_0-logloss:0.18302\tvalidation_1-logloss:0.19992\n",
      "[63]\tvalidation_0-logloss:0.18259\tvalidation_1-logloss:0.19986\n",
      "[64]\tvalidation_0-logloss:0.18194\tvalidation_1-logloss:0.19962\n",
      "[65]\tvalidation_0-logloss:0.18092\tvalidation_1-logloss:0.19885\n",
      "[66]\tvalidation_0-logloss:0.18062\tvalidation_1-logloss:0.19884\n",
      "[67]\tvalidation_0-logloss:0.17964\tvalidation_1-logloss:0.19821\n",
      "[68]\tvalidation_0-logloss:0.17899\tvalidation_1-logloss:0.19806\n",
      "[69]\tvalidation_0-logloss:0.17852\tvalidation_1-logloss:0.19798\n",
      "[70]\tvalidation_0-logloss:0.17804\tvalidation_1-logloss:0.19774\n",
      "[71]\tvalidation_0-logloss:0.17747\tvalidation_1-logloss:0.19784\n",
      "[72]\tvalidation_0-logloss:0.17717\tvalidation_1-logloss:0.19795\n",
      "[73]\tvalidation_0-logloss:0.17702\tvalidation_1-logloss:0.19798\n",
      "[74]\tvalidation_0-logloss:0.17656\tvalidation_1-logloss:0.19767\n",
      "[75]\tvalidation_0-logloss:0.17622\tvalidation_1-logloss:0.19754\n",
      "[76]\tvalidation_0-logloss:0.17603\tvalidation_1-logloss:0.19751\n",
      "[77]\tvalidation_0-logloss:0.17555\tvalidation_1-logloss:0.19740\n",
      "[78]\tvalidation_0-logloss:0.17537\tvalidation_1-logloss:0.19737\n",
      "[79]\tvalidation_0-logloss:0.17527\tvalidation_1-logloss:0.19743\n",
      "[80]\tvalidation_0-logloss:0.17488\tvalidation_1-logloss:0.19730\n",
      "[81]\tvalidation_0-logloss:0.17443\tvalidation_1-logloss:0.19737\n",
      "[82]\tvalidation_0-logloss:0.17404\tvalidation_1-logloss:0.19719\n",
      "[83]\tvalidation_0-logloss:0.17350\tvalidation_1-logloss:0.19718\n",
      "[84]\tvalidation_0-logloss:0.17308\tvalidation_1-logloss:0.19699\n",
      "[85]\tvalidation_0-logloss:0.17280\tvalidation_1-logloss:0.19672\n",
      "[86]\tvalidation_0-logloss:0.17250\tvalidation_1-logloss:0.19656\n",
      "[87]\tvalidation_0-logloss:0.17222\tvalidation_1-logloss:0.19636\n",
      "[88]\tvalidation_0-logloss:0.17195\tvalidation_1-logloss:0.19663\n",
      "[89]\tvalidation_0-logloss:0.17154\tvalidation_1-logloss:0.19619\n",
      "[90]\tvalidation_0-logloss:0.17134\tvalidation_1-logloss:0.19617\n",
      "[91]\tvalidation_0-logloss:0.17108\tvalidation_1-logloss:0.19595\n",
      "[92]\tvalidation_0-logloss:0.17079\tvalidation_1-logloss:0.19581\n",
      "[93]\tvalidation_0-logloss:0.17049\tvalidation_1-logloss:0.19570\n",
      "[94]\tvalidation_0-logloss:0.16998\tvalidation_1-logloss:0.19548\n",
      "[95]\tvalidation_0-logloss:0.16961\tvalidation_1-logloss:0.19548\n",
      "[96]\tvalidation_0-logloss:0.16889\tvalidation_1-logloss:0.19499\n",
      "[97]\tvalidation_0-logloss:0.16854\tvalidation_1-logloss:0.19518\n",
      "[98]\tvalidation_0-logloss:0.16824\tvalidation_1-logloss:0.19488\n",
      "[99]\tvalidation_0-logloss:0.16750\tvalidation_1-logloss:0.19452\n",
      "[100]\tvalidation_0-logloss:0.16724\tvalidation_1-logloss:0.19455\n",
      "[101]\tvalidation_0-logloss:0.16671\tvalidation_1-logloss:0.19439\n",
      "[102]\tvalidation_0-logloss:0.16612\tvalidation_1-logloss:0.19405\n",
      "[103]\tvalidation_0-logloss:0.16592\tvalidation_1-logloss:0.19400\n",
      "[104]\tvalidation_0-logloss:0.16527\tvalidation_1-logloss:0.19401\n",
      "[105]\tvalidation_0-logloss:0.16506\tvalidation_1-logloss:0.19399\n",
      "[106]\tvalidation_0-logloss:0.16473\tvalidation_1-logloss:0.19372\n",
      "[107]\tvalidation_0-logloss:0.16445\tvalidation_1-logloss:0.19370\n",
      "[108]\tvalidation_0-logloss:0.16416\tvalidation_1-logloss:0.19352\n",
      "[109]\tvalidation_0-logloss:0.16359\tvalidation_1-logloss:0.19328\n",
      "[110]\tvalidation_0-logloss:0.16339\tvalidation_1-logloss:0.19335\n",
      "[111]\tvalidation_0-logloss:0.16290\tvalidation_1-logloss:0.19335\n",
      "[112]\tvalidation_0-logloss:0.16269\tvalidation_1-logloss:0.19326\n",
      "[113]\tvalidation_0-logloss:0.16220\tvalidation_1-logloss:0.19307\n",
      "[114]\tvalidation_0-logloss:0.16197\tvalidation_1-logloss:0.19310\n",
      "[115]\tvalidation_0-logloss:0.16182\tvalidation_1-logloss:0.19322\n",
      "[116]\tvalidation_0-logloss:0.16173\tvalidation_1-logloss:0.19323\n",
      "[117]\tvalidation_0-logloss:0.16124\tvalidation_1-logloss:0.19301\n",
      "[118]\tvalidation_0-logloss:0.16087\tvalidation_1-logloss:0.19298\n",
      "[119]\tvalidation_0-logloss:0.16059\tvalidation_1-logloss:0.19309\n",
      "[120]\tvalidation_0-logloss:0.16035\tvalidation_1-logloss:0.19323\n",
      "[121]\tvalidation_0-logloss:0.16013\tvalidation_1-logloss:0.19318\n",
      "[122]\tvalidation_0-logloss:0.15990\tvalidation_1-logloss:0.19312\n",
      "[123]\tvalidation_0-logloss:0.15981\tvalidation_1-logloss:0.19323\n",
      "[124]\tvalidation_0-logloss:0.15946\tvalidation_1-logloss:0.19309\n",
      "[125]\tvalidation_0-logloss:0.15914\tvalidation_1-logloss:0.19293\n",
      "[126]\tvalidation_0-logloss:0.15902\tvalidation_1-logloss:0.19301\n",
      "[127]\tvalidation_0-logloss:0.15893\tvalidation_1-logloss:0.19300\n",
      "[128]\tvalidation_0-logloss:0.15867\tvalidation_1-logloss:0.19288\n",
      "[129]\tvalidation_0-logloss:0.15857\tvalidation_1-logloss:0.19296\n",
      "[130]\tvalidation_0-logloss:0.15852\tvalidation_1-logloss:0.19294\n",
      "[131]\tvalidation_0-logloss:0.15837\tvalidation_1-logloss:0.19323\n",
      "[132]\tvalidation_0-logloss:0.15804\tvalidation_1-logloss:0.19326\n",
      "[133]\tvalidation_0-logloss:0.15770\tvalidation_1-logloss:0.19320\n",
      "[134]\tvalidation_0-logloss:0.15754\tvalidation_1-logloss:0.19322\n",
      "[135]\tvalidation_0-logloss:0.15748\tvalidation_1-logloss:0.19326\n",
      "[136]\tvalidation_0-logloss:0.15715\tvalidation_1-logloss:0.19315\n",
      "[137]\tvalidation_0-logloss:0.15693\tvalidation_1-logloss:0.19302\n"
     ]
    },
    {
     "data": {
      "text/plain": [
       "XGBClassifier(base_score=0.5, booster='gbtree', colsample_bylevel=1,\n",
       "              colsample_bynode=1, colsample_bytree=1, gamma=4, gpu_id=-1,\n",
       "              importance_type='gain', interaction_constraints='',\n",
       "              learning_rate=0.1, max_delta_step=0, max_depth=4,\n",
       "              min_child_weight=1, missing=None, monotone_constraints='()',\n",
       "              n_estimators=1000, n_jobs=12, num_parallel_tree=1,\n",
       "              objective='binary:logistic', random_state=1, reg_alpha=0,\n",
       "              reg_lambda=0, scale_pos_weight=1, seed=1, silent=True,\n",
       "              subsample=0.88, tree_method='exact', use_label_encoder=True,\n",
       "              validate_parameters=1, verbosity=None)"
      ]
     },
     "execution_count": 119,
     "metadata": {},
     "output_type": "execute_result"
    }
   ],
   "source": [
    "#View notbook for details on  Parameter Tuning\n",
    "model = XGBClassifier(max_depth=4,\n",
    "                    min_child_weight=1,\n",
    "                    learning_rate=0.1,\n",
    "                    n_estimators=1000,\n",
    "                    silent=True,\n",
    "                    objective='binary:logistic',\n",
    "                    gamma=4,\n",
    "                    max_delta_step=0,\n",
    "                    subsample=0.88,\n",
    "                    colsample_bytree=1,\n",
    "                    colsample_bylevel=1,\n",
    "                    reg_alpha=0,\n",
    "                    reg_lambda=0,\n",
    "                    scale_pos_weight=1,\n",
    "                    seed=1,\n",
    "                    missing=None\n",
    "                    )\n",
    "\n",
    "model.fit(\n",
    "    X_train,\n",
    "    y_train,\n",
    "    eval_metric=\"logloss\",\n",
    "    eval_set=[(X_train, y_train), (X_val, y_val)], \n",
    "    verbose=True,\n",
    "    early_stopping_rounds = 10\n",
    ")"
   ]
  },
  {
   "cell_type": "code",
   "execution_count": 121,
   "id": "sustainable-nerve",
   "metadata": {},
   "outputs": [
    {
     "data": {
      "image/png": "[encoded data removed]",
      "text/plain": [
       "<Figure size 576x432 with 2 Axes>"
      ]
     },
     "metadata": {
      "needs_background": "light"
     },
     "output_type": "display_data"
    },
    {
     "name": "stdout",
     "output_type": "stream",
     "text": [
      "0.20552769277876776\n",
      "0.9288095238095239\n",
      "0.8630509387082935\n",
      "0.057916072621101565\n",
      "0.4055666003976144\n",
      "0.281767955801105\n",
      "0.723404255319149\n",
      "0.26573690014385914\n"
     ]
    }
   ],
   "source": [
    "# riding style null fixed\n",
    "## Create Report\n",
    "y_pred = model.predict(X_test)\n",
    "probs = model.predict_proba(X_test)\n",
    "\n",
    "results = pd.DataFrame(y_test)\n",
    "#temp = pd.DataFrame(probs)\n",
    "results['actual_classification'] = y_test\n",
    "results['predicted_classification'] = y_pred\n",
    "results['buy_prob_28'] = probs[:,1]\n",
    "\n",
    "plt.rcParams[\"figure.figsize\"] = (8, 6)\n",
    "matrix = metrics.confusion_matrix(results['actual_classification'], results['predicted_classification'])\n",
    "sns.heatmap(pd.DataFrame(matrix), annot=True, cmap=\"YlGnBu\" ,fmt='g')\n",
    "plt.show()\n",
    "#classification summary stats\n",
    "print(metrics.log_loss(results['actual_classification'],results['buy_prob_28']))\n",
    "print(metrics.accuracy_score(results['actual_classification'], results['predicted_classification']))\n",
    "print(metrics.roc_auc_score(results['actual_classification'],results['buy_prob_28']))\n",
    "print(metrics.brier_score_loss(results['actual_classification'],results['buy_prob_28']))\n",
    "print(metrics.f1_score(results['actual_classification'], results['predicted_classification']))\n",
    "print(metrics.recall_score(results['actual_classification'], results['predicted_classification']))\n",
    "print(metrics.precision_score(results['actual_classification'], results['predicted_classification']))\n",
    "print(metrics.average_precision_score(results['actual_classification'], results['predicted_classification']))"
   ]
  },
  {
   "cell_type": "code",
   "execution_count": 17,
   "id": "seven-russian",
   "metadata": {},
   "outputs": [
    {
     "data": {
      "text/plain": [
       "array([['id', 'incident_year', 'incident_month', ..., 'species_quantity',\n",
       "        'flight_impact', 'damaged'],\n",
       "       ['23637', '1996', '11', ..., '1', nan, '0'],\n",
       "       ['8075', '1999', '6', ..., '1', nan, '1'],\n",
       "       ...,\n",
       "       [7800, 2013, 10, ..., '1', nan, 0],\n",
       "       [17294, 2006, 3, ..., '1', 'PRECAUTIONARY LANDING', 0],\n",
       "       [11145, 1995, 6, ..., '1', 'NONE', 0]], dtype=object)"
      ]
     },
     "execution_count": 17,
     "metadata": {},
     "output_type": "execute_result"
    }
   ],
   "source": [
    "dataset"
   ]
  },
  {
   "cell_type": "code",
   "execution_count": null,
   "id": "detected-gregory",
   "metadata": {},
   "outputs": [],
   "source": [
    "# split data into X and y\n",
    "X = dataset[:,0:27]\n",
    "Y = dataset[:,27]\n",
    "# set missing values to 0\n",
    "X[X == '?'] = 0\n",
    "# convert to numeric\n",
    "X = X.astype('float32')\n",
    "# encode Y class values as integers\n",
    "label_encoder = LabelEncoder()\n",
    "label_encoder = label_encoder.fit(Y)\n",
    "label_encoded_y = label_encoder.transform(Y)\n",
    "# split data into train and test sets\n",
    "seed = 7\n",
    "test_size = 0.33\n",
    "X_train, X_test, y_train, y_test = train_test_split(X, label_encoded_y, test_size=test_size, random_state=seed)\n",
    "# fit model no training data\n",
    "model = XGBClassifier()\n",
    "model.fit(X_train, y_train)\n",
    "print(model)\n",
    "# make predictions for test data\n",
    "y_pred = model.predict(X_test)\n",
    "predictions = [round(value) for value in y_pred]\n",
    "# evaluate predictions\n",
    "accuracy = accuracy_score(y_test, predictions)\n",
    "print(\"Accuracy: %.2f%%\" % (accuracy * 100.0))"
   ]
  },
  {
   "cell_type": "markdown",
   "id": "front-setup",
   "metadata": {},
   "source": [
    "## Visualizations"
   ]
  },
  {
   "cell_type": "code",
   "execution_count": 422,
   "id": "animated-howard",
   "metadata": {},
   "outputs": [
    {
     "data": {
      "text/plain": [
       "(21000, 34)"
      ]
     },
     "execution_count": 422,
     "metadata": {},
     "output_type": "execute_result"
    }
   ],
   "source": [
    "train.shape"
   ]
  },
  {
   "cell_type": "code",
   "execution_count": 666,
   "id": "breathing-accreditation",
   "metadata": {},
   "outputs": [
    {
     "data": {
      "image/png": "[encoded data removed]",
      "text/plain": [
       "<Figure size 576x432 with 2 Axes>"
      ]
     },
     "metadata": {
      "needs_background": "light"
     },
     "output_type": "display_data"
    },
    {
     "name": "stdout",
     "output_type": "stream",
     "text": [
      "0.1743004724014983\n",
      "0.9404761904761905\n",
      "0.888127635719655\n",
      "0.0481326134341897\n",
      "0.4769874476987447\n",
      "0.35185185185185186\n",
      "0.7402597402597403\n",
      "0.31046176046176044\n"
     ]
    }
   ],
   "source": [
    "# riding style null fixed\n",
    "## Create Report\n",
    "y_pred = clf.predict(X_test)\n",
    "probs = clf.predict_proba(X_test)\n",
    "\n",
    "results = pd.DataFrame(y_test)\n",
    "#temp = pd.DataFrame(probs)\n",
    "results['actual_classification'] = y_test\n",
    "results['predicted_classification'] = y_pred\n",
    "results['buy_prob_28'] = probs[:,1]\n",
    "\n",
    "plt.rcParams[\"figure.figsize\"] = (8, 6)\n",
    "matrix = metrics.confusion_matrix(results['actual_classification'], results['predicted_classification'])\n",
    "sns.heatmap(pd.DataFrame(matrix), annot=True, cmap=\"YlGnBu\" ,fmt='g')\n",
    "plt.show()\n",
    "#classification summary stats\n",
    "print(metrics.log_loss(results['actual_classification'],results['buy_prob_28']))\n",
    "print(metrics.accuracy_score(results['actual_classification'], results['predicted_classification']))\n",
    "print(metrics.roc_auc_score(results['actual_classification'],results['buy_prob_28']))\n",
    "print(metrics.brier_score_loss(results['actual_classification'],results['buy_prob_28']))\n",
    "print(metrics.f1_score(results['actual_classification'], results['predicted_classification']))\n",
    "print(metrics.recall_score(results['actual_classification'], results['predicted_classification']))\n",
    "print(metrics.precision_score(results['actual_classification'], results['predicted_classification']))\n",
    "print(metrics.average_precision_score(results['actual_classification'], results['predicted_classification']))"
   ]
  },
  {
   "cell_type": "code",
   "execution_count": 667,
   "id": "flexible-occurrence",
   "metadata": {},
   "outputs": [],
   "source": [
    "## Make Submission\n",
    "predictions = clf.predict_proba(submission)"
   ]
  },
  {
   "cell_type": "code",
   "execution_count": 668,
   "id": "sufficient-testament",
   "metadata": {},
   "outputs": [
    {
     "data": {
      "text/plain": [
       "0       0.350364\n",
       "1       0.800901\n",
       "2       0.489206\n",
       "3       0.803754\n",
       "4       0.367171\n",
       "          ...   \n",
       "8995    0.766724\n",
       "8996    0.809808\n",
       "8997    0.560739\n",
       "8998    0.776147\n",
       "8999    0.407176\n",
       "Name: 0, Length: 9000, dtype: float32"
      ]
     },
     "execution_count": 668,
     "metadata": {},
     "output_type": "execute_result"
    }
   ],
   "source": [
    "pd.DataFrame(predictions)[0]"
   ]
  },
  {
   "cell_type": "code",
   "execution_count": 669,
   "id": "bibliographic-glenn",
   "metadata": {},
   "outputs": [],
   "source": [
    "test['damaged'] = pd.DataFrame(predictions)[0]"
   ]
  },
  {
   "cell_type": "code",
   "execution_count": 670,
   "id": "defined-clinton",
   "metadata": {},
   "outputs": [],
   "source": [
    "submit = test[['id','damaged']]"
   ]
  },
  {
   "cell_type": "code",
   "execution_count": 671,
   "id": "optical-attitude",
   "metadata": {},
   "outputs": [
    {
     "data": {
      "text/html": [
       "<div>\n",
       "<style scoped>\n",
       "    .dataframe tbody tr th:only-of-type {\n",
       "        vertical-align: middle;\n",
       "    }\n",
       "\n",
       "    .dataframe tbody tr th {\n",
       "        vertical-align: top;\n",
       "    }\n",
       "\n",
       "    .dataframe thead th {\n",
       "        text-align: right;\n",
       "    }\n",
       "</style>\n",
       "<table border=\"1\" class=\"dataframe\">\n",
       "  <thead>\n",
       "    <tr style=\"text-align: right;\">\n",
       "      <th></th>\n",
       "      <th>id</th>\n",
       "      <th>damaged</th>\n",
       "    </tr>\n",
       "  </thead>\n",
       "  <tbody>\n",
       "    <tr>\n",
       "      <th>0</th>\n",
       "      <td>11254</td>\n",
       "      <td>0.350364</td>\n",
       "    </tr>\n",
       "    <tr>\n",
       "      <th>1</th>\n",
       "      <td>27716</td>\n",
       "      <td>0.800901</td>\n",
       "    </tr>\n",
       "    <tr>\n",
       "      <th>2</th>\n",
       "      <td>29066</td>\n",
       "      <td>0.489206</td>\n",
       "    </tr>\n",
       "    <tr>\n",
       "      <th>3</th>\n",
       "      <td>3373</td>\n",
       "      <td>0.803754</td>\n",
       "    </tr>\n",
       "    <tr>\n",
       "      <th>4</th>\n",
       "      <td>1996</td>\n",
       "      <td>0.367171</td>\n",
       "    </tr>\n",
       "    <tr>\n",
       "      <th>...</th>\n",
       "      <td>...</td>\n",
       "      <td>...</td>\n",
       "    </tr>\n",
       "    <tr>\n",
       "      <th>8995</th>\n",
       "      <td>14194</td>\n",
       "      <td>0.766724</td>\n",
       "    </tr>\n",
       "    <tr>\n",
       "      <th>8996</th>\n",
       "      <td>14451</td>\n",
       "      <td>0.809808</td>\n",
       "    </tr>\n",
       "    <tr>\n",
       "      <th>8997</th>\n",
       "      <td>10560</td>\n",
       "      <td>0.560739</td>\n",
       "    </tr>\n",
       "    <tr>\n",
       "      <th>8998</th>\n",
       "      <td>23399</td>\n",
       "      <td>0.776147</td>\n",
       "    </tr>\n",
       "    <tr>\n",
       "      <th>8999</th>\n",
       "      <td>3222</td>\n",
       "      <td>0.407176</td>\n",
       "    </tr>\n",
       "  </tbody>\n",
       "</table>\n",
       "<p>9000 rows × 2 columns</p>\n",
       "</div>"
      ],
      "text/plain": [
       "         id   damaged\n",
       "0     11254  0.350364\n",
       "1     27716  0.800901\n",
       "2     29066  0.489206\n",
       "3      3373  0.803754\n",
       "4      1996  0.367171\n",
       "...     ...       ...\n",
       "8995  14194  0.766724\n",
       "8996  14451  0.809808\n",
       "8997  10560  0.560739\n",
       "8998  23399  0.776147\n",
       "8999   3222  0.407176\n",
       "\n",
       "[9000 rows x 2 columns]"
      ]
     },
     "execution_count": 671,
     "metadata": {},
     "output_type": "execute_result"
    }
   ],
   "source": [
    "submit"
   ]
  },
  {
   "cell_type": "code",
   "execution_count": 441,
   "id": "extraordinary-collector",
   "metadata": {},
   "outputs": [],
   "source": [
    "submit.to_csv('data/submission.csv', index=False)"
   ]
  },
  {
   "cell_type": "code",
   "execution_count": 442,
   "id": "boxed-horizon",
   "metadata": {},
   "outputs": [
    {
     "name": "stdout",
     "output_type": "stream",
     "text": [
      "Warning: Your Kaggle API key is readable by other users on this system! To fix this, you can run 'chmod 600 /Users/neilturner/.kaggle/kaggle.json'\n",
      "100%|█████████████████████████████████████████| 140k/140k [00:00<00:00, 165kB/s]\n",
      "Successfully submitted to SLICED s01e02"
     ]
    }
   ],
   "source": [
    "! kaggle competitions submit -c sliced-s01e02-xunyc5 -f 'data/submission.csv' -m \"All features\""
   ]
  },
  {
   "cell_type": "code",
   "execution_count": null,
   "id": "juvenile-trustee",
   "metadata": {},
   "outputs": [],
   "source": [
    "\n",
    "\n",
    "\n",
    "\n",
    "\n",
    "\n",
    "\n",
    "\n",
    "\n",
    "\n",
    "\n",
    "\n",
    "\n",
    "\n",
    "\n",
    "\n",
    "\n",
    "\n",
    "\n",
    "sssssssssssssssssssssssssssssssssss\n",
    "\n",
    "\n",
    "\n",
    "aaaaaaaaaaaaaaaaaaaaaaaaaaaaaaaaaaaaaaaaaaaaaaaaaaaaaaaaaaaaaaaaaaaaaaaaaaaaaaaaaaaaaaaaaaaaaaaaaaaaaaaaaaaaaaaaaaaaaaaaaaaaaaaaaaaaaaaaaaaaaaaaaaaaaaaaaaaa\n",
    "\n",
    "\n",
    "vvvvvvvvvvvvvvvvvvvvvvvvvvvvvvvvvvvvvvvvvvvvvvvvbbbbbbbbbbbbbbbbbbbbbbbbbbbbbbbbbbbbbbbbbbbbbbbbbbbbbbbbbbbbbbbbbbbbbbbbbbbbbbbbbbbbbbbbbbbbbbbbbbbbbbbbbbbbbbbbbbbbbbbbbbbbbbbbbbbbbbbbbbbbbbbbbbbbbbbbbbbbbbbbbbbbbbbbbbbbbbbbbbbbbbbbbbbbbbbbbbbbbbbbbbbbbbbbbbbbbbbbbbbbbbbbbbbbbbbbbbbbbbbbbbbbbbbbbbbbbbbbbbbbbbbbbbbbbbbbbbbbbbbbbbbbbbbbbb\n",
    "\n",
    "cccccccccccccccccccccccccccccccccccccccccccccccccccccccccccccccccccccccccccccccccccccccccccccccccccccccccccccccccccccccccccccccccccccccccccccccccccccccccccccccccccccccccccccccccccccccccccccccccccccccccccccccccccccccccccccccccccccccccccccccccccccccccccccccccccccccccccccccccccccccccccccccccccccccccccc\n",
    "ffffffffffdddccccccccccccc                                                                                                                                                                                                                                                                        dCXVdddddddddddddddddddddddddddddddddddddddddddddcccccccccccccccccccccc                      \n",
    "vvvvvvvvv\n",
    "\n",
    "/////////////////////////////////////////////////////////////////////////////////////////////////////////////////////\n",
    "\n",
    "\n",
    "\n",
    "\n",
    "\n",
    "\n",
    "\n",
    "\n",
    "\n",
    "\n",
    "\n",
    "\n",
    "\n",
    "\n",
    "\n",
    "\n",
    "\n",
    "\n",
    "\n",
    "\n",
    "\n",
    "///////////////////////////////////////////////////////////////////////////////////////////////////////////////////////////////////////////\n",
    "\n",
    "\n",
    "\n",
    "\n",
    "\n",
    "\n",
    "\n",
    "\n",
    "\n",
    "\n",
    "\n",
    "\n",
    "\n",
    "\n",
    "\n",
    "\n",
    "\n",
    "v      m       vfghgt3wcrtjhtdqqqqqqqqqqqqqqqqqqqqqqqqqqqqqqqqqqqqqqqqqqqqqqqqqqqqqqqqqqqqqqqqqqqqqqqqqqqqqqqqqqqqqqqqqqqqqqqqqqqqx xwwwwwwwwwwwwwwwwwwwwwwwwwwwwwewsxx OKaaazzzxxxxxxxxxxxxxxxxxxxxxxxxxxxxxxxxxxxxxxxxxxxxxxxxxxxxxxxxxxxxxxxxxxxxxxxxxxxxxxxxxxxxxxxxxxxxxxxxxxxxxxxxxxxxxxxxxxxxxxxxxxxxxxxxxxxxxxxxxxxxxxxxxxxxxxxxxxxxxxxxxxxxxxxxxxxxxxxxxxxxxxxxxxxxxxxxxxxxxxxxxxxxxxx\n",
    "\n",
    "\n",
    "\n",
    "\n",
    "\n",
    "\n",
    "\n",
    "\n",
    "\n",
    "\n",
    "\n",
    "\n",
    "\n",
    "\n",
    "\n",
    "\n",
    "\n",
    "\n",
    "\n",
    "\n",
    "\n",
    "\n",
    "\n",
    "\n",
    "\n",
    "\n",
    "\n",
    "\n",
    "\n",
    "\n",
    "\n",
    "\n",
    "\n",
    "\n",
    "\n",
    "\n",
    "\n",
    "\n"
   ]
  }
 ],
 "metadata": {
  "kernelspec": {
   "display_name": "Python 3",
   "language": "python",
   "name": "python3"
  },
  "language_info": {
   "codemirror_mode": {
    "name": "ipython",
    "version": 3
   },
   "file_extension": ".py",
   "mimetype": "text/x-python",
   "name": "python",
   "nbconvert_exporter": "python",
   "pygments_lexer": "ipython3",
   "version": "3.8.5"
  }
 },
 "nbformat": 4,
 "nbformat_minor": 5
}
