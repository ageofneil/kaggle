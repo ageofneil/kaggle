{
 "cells": [
  {
   "cell_type": "code",
   "execution_count": 176,
   "id": "d9ec98b6-955d-4888-89c2-fbd88b4e5665",
   "metadata": {},
   "outputs": [],
   "source": [
    "# Standard stack\n",
    "import datetime\n",
    "import pandas as pd\n",
    "import numpy as np\n",
    "from datetime import date\n",
    "import re\n",
    "\n",
    "# Visualization\n",
    "from pandas_profiling import ProfileReport\n",
    "#import plotly.express as px\n",
    "import matplotlib.pyplot as plt\n",
    "import seaborn as sns\n",
    "\n",
    "# Modeling\n",
    "import tensorflow as tf\n",
    "import tensorflow_decision_forests as tfdf\n",
    "try:\n",
    "    from wurlitzer import sys_pipes\n",
    "except:\n",
    "    from colabtools.googlelog import CaptureLog as sys_pipes\n",
    "\n",
    "# Scikit-learn packages\n",
    "from sklearn import metrics\n",
    "from sklearn.model_selection import train_test_split\n",
    "from sklearn.impute import SimpleImputer\n",
    "from sklearn.pipeline import Pipeline\n",
    "from sklearn.preprocessing import StandardScaler, OneHotEncoder, FunctionTransformer, OrdinalEncoder\n",
    "from sklearn.compose import ColumnTransformer\n",
    "from sklearn.model_selection import KFold\n",
    "\n",
    "# display\n",
    "from IPython.core.magic import register_line_magic\n",
    "from IPython.display import Javascript\n",
    "\n",
    "# no warnings\n",
    "import warnings\n",
    "warnings.filterwarnings('ignore')"
   ]
  },
  {
   "cell_type": "code",
   "execution_count": 177,
   "id": "3b7ee3c1-a9f5-4393-9193-11c0ab4718ce",
   "metadata": {},
   "outputs": [],
   "source": [
    "TRAIN_PATH = \"data/train.csv\"\n",
    "TEST_PATH = \"data/test.csv\"\n",
    "label = \"outcome_type\""
   ]
  },
  {
   "cell_type": "code",
   "execution_count": 178,
   "id": "c83bb836-8c49-4923-8ba1-1f29d3c807a0",
   "metadata": {},
   "outputs": [],
   "source": [
    "train = pd.read_csv(TRAIN_PATH)\n",
    "test = pd.read_csv(TEST_PATH)\n",
    "submission = pd.read_csv(TEST_PATH)"
   ]
  },
  {
   "cell_type": "code",
   "execution_count": 179,
   "id": "e7e36abc-b948-455b-978a-7c8d021ecad5",
   "metadata": {},
   "outputs": [
    {
     "name": "stdout",
     "output_type": "stream",
     "text": [
      "Label classes: ['adoption', 'no outcome', 'transfer']\n"
     ]
    }
   ],
   "source": [
    "classes = train[label].unique().tolist()\n",
    "print(f\"Label classes: {classes}\")\n",
    "\n",
    "train[label] = train[label].map(classes.index)"
   ]
  },
  {
   "cell_type": "code",
   "execution_count": 180,
   "id": "ecf94309-219d-43e8-9925-2fb1fa647889",
   "metadata": {},
   "outputs": [
    {
     "data": {
      "text/plain": [
       "Index(['id', 'age_upon_outcome', 'animal_type', 'breed', 'color',\n",
       "       'date_of_birth', 'datetime', 'name', 'outcome_type', 'sex',\n",
       "       'spay_neuter'],\n",
       "      dtype='object')"
      ]
     },
     "execution_count": 180,
     "metadata": {},
     "output_type": "execute_result"
    }
   ],
   "source": [
    "train.columns"
   ]
  },
  {
   "cell_type": "code",
   "execution_count": 181,
   "id": "b3edc4c9-c46a-4b43-be8a-6c971e9019dd",
   "metadata": {},
   "outputs": [
    {
     "data": {
      "text/plain": [
       "Index(['id', 'age_upon_outcome', 'animal_type', 'breed', 'color',\n",
       "       'date_of_birth', 'datetime', 'name', 'sex', 'spay_neuter'],\n",
       "      dtype='object')"
      ]
     },
     "execution_count": 181,
     "metadata": {},
     "output_type": "execute_result"
    }
   ],
   "source": [
    "test.columns"
   ]
  },
  {
   "cell_type": "markdown",
   "id": "0da12107-0cab-41c8-a904-1c0f6495ac35",
   "metadata": {},
   "source": [
    "# Train"
   ]
  },
  {
   "cell_type": "code",
   "execution_count": 182,
   "id": "8010c120-c6cc-46ba-84cb-96bbbfff7f79",
   "metadata": {},
   "outputs": [],
   "source": [
    "def inpute_missing(dataset):\n",
    "    \"\"\" \n",
    "    Edit this to fix nulls. Default version replaces all int/float with 0\n",
    "    \"\"\"\n",
    "    for col in dataset.columns:\n",
    "        if dataset[col].dtype not in [str, object]:\n",
    "            dataset[col] = dataset[col].fillna(dataset[col].mean())\n",
    "        elif col == 'name':\n",
    "             dataset[col] = 'No Name'\n",
    "    return dataset\n",
    "\n",
    "train = inpute_missing(train)\n",
    "test = inpute_missing(test)"
   ]
  },
  {
   "cell_type": "code",
   "execution_count": 183,
   "id": "254189c3-4604-4a07-a4a4-11482ade9f39",
   "metadata": {},
   "outputs": [],
   "source": [
    "def nlp_transforms(dataset):\n",
    "    \"\"\" \n",
    "    NLP tranforms here. Default, None...\n",
    "    \"\"\"\n",
    "    banned = ['brindle',\n",
    "    'tabby',\n",
    "    'merle',\n",
    "    'torbie',\n",
    "    'point',\n",
    "    'smoke',\n",
    "    'tiger',\n",
    "    'tick'\n",
    "    ]\n",
    "    \n",
    "    # Colors\n",
    "    dataset['color'] = dataset['color'].str.lower()\n",
    "    dataset['color'] = dataset['color'].str.replace('/', ' ')\n",
    "    dataset['color'] = np.where(dataset['color'] == 'Tortie', 'Torbie', dataset['color'])\n",
    "    \n",
    "    dataset['color_type'] = 'Unknown'\n",
    "    dataset['color_type'] = np.where(dataset['color'].str.contains('brindle'), \"brindle\", dataset['color_type'])\n",
    "    dataset['color_type'] = np.where(dataset['color'].str.contains('tabby'), \"tabby\", dataset['color_type'])\n",
    "    dataset['color_type'] = np.where(dataset['color'].str.contains('merle'), \"merle\", dataset['color_type'])\n",
    "    dataset['color_type'] = np.where(dataset['color'].str.contains('torbie'), \"torbie\", dataset['color_type'])\n",
    "    dataset['color_type'] = np.where(dataset['color'].str.contains('point'), \"point\", dataset['color_type'])\n",
    "    dataset['color_type'] = np.where(dataset['color'].str.contains('smoke'), \"smoke\", dataset['color_type'])\n",
    "    dataset['color_type'] = np.where(dataset['color'].str.contains('tiger'), \"tiger\", dataset['color_type'])\n",
    "    dataset['color_type'] = np.where(dataset['color'].str.contains('tick'), \"tick\", dataset['color_type'])\n",
    "    \n",
    "    dataset['num_colors'] = dataset['color'].str.split('/').str.len()\n",
    "    dataset['color_one'] = dataset['color'].apply(lambda x: x.split('/')[0])\n",
    "    dataset['color_two'] = dataset['color'].apply(lambda x: x.split('/')[1] if len(x.split('/')) > 1 else 'None')\n",
    "\n",
    "    dataset['color_one'] = dataset['color_one'].str.replace('/',' ')\n",
    "    dataset['color_one'] = [' '.join([item for item in x.split() \n",
    "                       if item not in banned]) \n",
    "                       for x in dataset[\"color_one\"]]\n",
    "\n",
    "    dataset['color_two'] = dataset['color_two'].str.replace('/',' ')\n",
    "    dataset['color_two'] = [' '.join([item for item in x.split() \n",
    "                       if item not in banned]) \n",
    "                       for x in dataset[\"color_two\"]]\\\n",
    "    \n",
    "    dataset['num_colors'] = np.where((dataset['color_one'] == 'tricolor') | (dataset['color_two'] == 'tricolor'), 3, dataset['num_colors'])\n",
    "    \n",
    "    # Breeds\n",
    "    dataset['breed'] = dataset['breed'].str.lower()\n",
    "    dataset['breed'] = dataset['breed'].str.replace('/', ' ')\n",
    "    \n",
    "    dataset['breed_one'] = dataset['breed'].apply(lambda x: x.split('/')[0])\n",
    "    dataset['breed_two'] = dataset['breed'].apply(lambda x: x.split('/')[1] if len(x.split('/')) ==2 else dataset['breed_one'])\n",
    "    dataset['breed_three'] = dataset['breed'].apply(lambda x: x.split('/')[2] if len(x.split('/')) ==3 else dataset['breed_one'])\n",
    "    \n",
    "    dataset['num_breed'] = dataset['breed'].str.split('/').str.len()\n",
    "    dataset['mixed'] = np.where(dataset['breed'].str.contains('mix'), 1,0)\n",
    "    dataset['mixed'] = np.where(dataset['num_breed'] > 1, 1 ,dataset['mixed'])\n",
    "    return dataset\n",
    "\n",
    "train = nlp_transforms(train)\n",
    "test = nlp_transforms(test)"
   ]
  },
  {
   "cell_type": "code",
   "execution_count": 184,
   "id": "82eaa412-e826-4252-b354-a568a7f57d57",
   "metadata": {},
   "outputs": [],
   "source": [
    "def computation_transforms(dataset):\n",
    "    \"\"\" \n",
    "    New Feature Engineering. Default, None...\n",
    "    \"\"\"\n",
    "    \n",
    "    # Date stuff\n",
    "    dataset['datetime'] = pd.to_datetime(dataset['datetime'])\n",
    "    dataset['year'] = dataset['datetime'].dt.year\n",
    "    dataset['month'] = dataset['datetime'].dt.month\n",
    "    dataset['day'] = dataset['datetime'].dt.day\n",
    "    dataset['hour'] = dataset['datetime'].dt.hour\n",
    "    dataset['weekday'] = dataset['datetime'].dt.day_name()\n",
    "    \n",
    "    #age\n",
    "    dataset['date_of_birth'] = pd.to_datetime(dataset['date_of_birth'])\n",
    "    dataset['age'] = (dataset['datetime'] - dataset['date_of_birth']).dt.days\n",
    "    dataset['birth_year'] = dataset['date_of_birth'].dt.year\n",
    "    dataset['birth_month'] = dataset['date_of_birth'].dt.month\n",
    "    # color??\n",
    "    return dataset\n",
    "\n",
    "train = computation_transforms(train)\n",
    "test = computation_transforms(test)"
   ]
  },
  {
   "cell_type": "markdown",
   "id": "330a7f82-b726-4737-89e8-40989e74f42e",
   "metadata": {},
   "source": [
    "# Train"
   ]
  },
  {
   "cell_type": "code",
   "execution_count": 185,
   "id": "7197d2ca-976e-409c-a030-93d0b9048854",
   "metadata": {},
   "outputs": [
    {
     "data": {
      "text/html": [
       "<div>\n",
       "<style scoped>\n",
       "    .dataframe tbody tr th:only-of-type {\n",
       "        vertical-align: middle;\n",
       "    }\n",
       "\n",
       "    .dataframe tbody tr th {\n",
       "        vertical-align: top;\n",
       "    }\n",
       "\n",
       "    .dataframe thead th {\n",
       "        text-align: right;\n",
       "    }\n",
       "</style>\n",
       "<table border=\"1\" class=\"dataframe\">\n",
       "  <thead>\n",
       "    <tr style=\"text-align: right;\">\n",
       "      <th></th>\n",
       "      <th>id</th>\n",
       "      <th>age_upon_outcome</th>\n",
       "      <th>animal_type</th>\n",
       "      <th>breed</th>\n",
       "      <th>color</th>\n",
       "      <th>date_of_birth</th>\n",
       "      <th>datetime</th>\n",
       "      <th>name</th>\n",
       "      <th>outcome_type</th>\n",
       "      <th>sex</th>\n",
       "      <th>...</th>\n",
       "      <th>num_breed</th>\n",
       "      <th>mixed</th>\n",
       "      <th>year</th>\n",
       "      <th>month</th>\n",
       "      <th>day</th>\n",
       "      <th>hour</th>\n",
       "      <th>weekday</th>\n",
       "      <th>age</th>\n",
       "      <th>birth_year</th>\n",
       "      <th>birth_month</th>\n",
       "    </tr>\n",
       "  </thead>\n",
       "  <tbody>\n",
       "    <tr>\n",
       "      <th>0</th>\n",
       "      <td>1265</td>\n",
       "      <td>2 years</td>\n",
       "      <td>Cat</td>\n",
       "      <td>russian blue mix</td>\n",
       "      <td>blue</td>\n",
       "      <td>2014-04-21</td>\n",
       "      <td>2016-08-05 14:15:00</td>\n",
       "      <td>No Name</td>\n",
       "      <td>0</td>\n",
       "      <td>Male</td>\n",
       "      <td>...</td>\n",
       "      <td>1</td>\n",
       "      <td>1</td>\n",
       "      <td>2016</td>\n",
       "      <td>8</td>\n",
       "      <td>5</td>\n",
       "      <td>14</td>\n",
       "      <td>Friday</td>\n",
       "      <td>837</td>\n",
       "      <td>2014</td>\n",
       "      <td>4</td>\n",
       "    </tr>\n",
       "  </tbody>\n",
       "</table>\n",
       "<p>1 rows × 28 columns</p>\n",
       "</div>"
      ],
      "text/plain": [
       "     id age_upon_outcome animal_type             breed color date_of_birth  \\\n",
       "0  1265          2 years         Cat  russian blue mix  blue    2014-04-21   \n",
       "\n",
       "             datetime     name  outcome_type   sex  ... num_breed mixed  year  \\\n",
       "0 2016-08-05 14:15:00  No Name             0  Male  ...         1     1  2016   \n",
       "\n",
       "  month day hour weekday  age  birth_year  birth_month  \n",
       "0     8   5   14  Friday  837        2014            4  \n",
       "\n",
       "[1 rows x 28 columns]"
      ]
     },
     "execution_count": 185,
     "metadata": {},
     "output_type": "execute_result"
    }
   ],
   "source": [
    "train.head(1)"
   ]
  },
  {
   "cell_type": "code",
   "execution_count": 186,
   "id": "8205a972-10ca-4a65-ab27-40a3769917b2",
   "metadata": {},
   "outputs": [
    {
     "data": {
      "text/plain": [
       "Index(['id', 'age_upon_outcome', 'animal_type', 'breed', 'color',\n",
       "       'date_of_birth', 'datetime', 'name', 'outcome_type', 'sex',\n",
       "       'spay_neuter', 'color_type', 'num_colors', 'color_one', 'color_two',\n",
       "       'breed_one', 'breed_two', 'breed_three', 'num_breed', 'mixed', 'year',\n",
       "       'month', 'day', 'hour', 'weekday', 'age', 'birth_year', 'birth_month'],\n",
       "      dtype='object')"
      ]
     },
     "execution_count": 186,
     "metadata": {},
     "output_type": "execute_result"
    }
   ],
   "source": [
    "train.columns"
   ]
  },
  {
   "cell_type": "code",
   "execution_count": 187,
   "id": "1d2c4c55-1824-4e62-89d3-ffbd8f12f7b8",
   "metadata": {},
   "outputs": [
    {
     "data": {
      "text/plain": [
       "(54408, 28)"
      ]
     },
     "execution_count": 187,
     "metadata": {},
     "output_type": "execute_result"
    }
   ],
   "source": [
    "train.shape"
   ]
  },
  {
   "cell_type": "code",
   "execution_count": 188,
   "id": "d9e5df3d-71cf-479f-a63c-d0555292dcd0",
   "metadata": {},
   "outputs": [],
   "source": [
    "to_drop = ['id','age_upon_outcome','date_of_birth','datetime']\n",
    "train = train.drop(to_drop,axis=1)\n",
    "test = test.drop(to_drop,axis=1)"
   ]
  },
  {
   "cell_type": "code",
   "execution_count": 189,
   "id": "08e2ee08-1448-455a-85a8-8769dba2852f",
   "metadata": {},
   "outputs": [],
   "source": [
    "columns = train.columns.tolist()"
   ]
  },
  {
   "cell_type": "code",
   "execution_count": 190,
   "id": "9be24447-14ef-4fb7-ba4c-f1a32ca21cca",
   "metadata": {},
   "outputs": [
    {
     "name": "stdout",
     "output_type": "stream",
     "text": [
      "<class 'pandas.core.frame.DataFrame'>\n",
      "RangeIndex: 54408 entries, 0 to 54407\n",
      "Data columns (total 24 columns):\n",
      " #   Column        Non-Null Count  Dtype \n",
      "---  ------        --------------  ----- \n",
      " 0   animal_type   54408 non-null  object\n",
      " 1   breed         54408 non-null  object\n",
      " 2   color         54408 non-null  object\n",
      " 3   name          54408 non-null  object\n",
      " 4   outcome_type  54408 non-null  int64 \n",
      " 5   sex           54408 non-null  object\n",
      " 6   spay_neuter   54408 non-null  object\n",
      " 7   color_type    54408 non-null  object\n",
      " 8   num_colors    54408 non-null  int64 \n",
      " 9   color_one     54408 non-null  object\n",
      " 10  color_two     54408 non-null  object\n",
      " 11  breed_one     54408 non-null  object\n",
      " 12  breed_two     54408 non-null  object\n",
      " 13  breed_three   54408 non-null  object\n",
      " 14  num_breed     54408 non-null  int64 \n",
      " 15  mixed         54408 non-null  int64 \n",
      " 16  year          54408 non-null  int64 \n",
      " 17  month         54408 non-null  int64 \n",
      " 18  day           54408 non-null  int64 \n",
      " 19  hour          54408 non-null  int64 \n",
      " 20  weekday       54408 non-null  object\n",
      " 21  age           54408 non-null  int64 \n",
      " 22  birth_year    54408 non-null  int64 \n",
      " 23  birth_month   54408 non-null  int64 \n",
      "dtypes: int64(11), object(13)\n",
      "memory usage: 10.0+ MB\n"
     ]
    }
   ],
   "source": [
    "train.info()"
   ]
  },
  {
   "cell_type": "code",
   "execution_count": 191,
   "id": "f26a0061-3ed3-4e3f-9d33-7e4927270915",
   "metadata": {},
   "outputs": [
    {
     "data": {
      "text/html": [
       "<div>\n",
       "<style scoped>\n",
       "    .dataframe tbody tr th:only-of-type {\n",
       "        vertical-align: middle;\n",
       "    }\n",
       "\n",
       "    .dataframe tbody tr th {\n",
       "        vertical-align: top;\n",
       "    }\n",
       "\n",
       "    .dataframe thead th {\n",
       "        text-align: right;\n",
       "    }\n",
       "</style>\n",
       "<table border=\"1\" class=\"dataframe\">\n",
       "  <thead>\n",
       "    <tr style=\"text-align: right;\">\n",
       "      <th></th>\n",
       "      <th>animal_type</th>\n",
       "      <th>breed</th>\n",
       "      <th>color</th>\n",
       "      <th>name</th>\n",
       "      <th>outcome_type</th>\n",
       "      <th>sex</th>\n",
       "      <th>spay_neuter</th>\n",
       "      <th>color_type</th>\n",
       "      <th>num_colors</th>\n",
       "      <th>color_one</th>\n",
       "      <th>...</th>\n",
       "      <th>num_breed</th>\n",
       "      <th>mixed</th>\n",
       "      <th>year</th>\n",
       "      <th>month</th>\n",
       "      <th>day</th>\n",
       "      <th>hour</th>\n",
       "      <th>weekday</th>\n",
       "      <th>age</th>\n",
       "      <th>birth_year</th>\n",
       "      <th>birth_month</th>\n",
       "    </tr>\n",
       "  </thead>\n",
       "  <tbody>\n",
       "    <tr>\n",
       "      <th>0</th>\n",
       "      <td>Cat</td>\n",
       "      <td>russian blue mix</td>\n",
       "      <td>blue</td>\n",
       "      <td>No Name</td>\n",
       "      <td>0</td>\n",
       "      <td>Male</td>\n",
       "      <td>Fixed</td>\n",
       "      <td>Unknown</td>\n",
       "      <td>1</td>\n",
       "      <td>blue</td>\n",
       "      <td>...</td>\n",
       "      <td>1</td>\n",
       "      <td>1</td>\n",
       "      <td>2016</td>\n",
       "      <td>8</td>\n",
       "      <td>5</td>\n",
       "      <td>14</td>\n",
       "      <td>Friday</td>\n",
       "      <td>837</td>\n",
       "      <td>2014</td>\n",
       "      <td>4</td>\n",
       "    </tr>\n",
       "  </tbody>\n",
       "</table>\n",
       "<p>1 rows × 24 columns</p>\n",
       "</div>"
      ],
      "text/plain": [
       "  animal_type             breed color     name  outcome_type   sex  \\\n",
       "0         Cat  russian blue mix  blue  No Name             0  Male   \n",
       "\n",
       "  spay_neuter color_type  num_colors color_one  ... num_breed mixed  year  \\\n",
       "0       Fixed    Unknown           1      blue  ...         1     1  2016   \n",
       "\n",
       "  month  day  hour  weekday  age  birth_year  birth_month  \n",
       "0     8    5    14   Friday  837        2014            4  \n",
       "\n",
       "[1 rows x 24 columns]"
      ]
     },
     "execution_count": 191,
     "metadata": {},
     "output_type": "execute_result"
    }
   ],
   "source": [
    "train.head(1)"
   ]
  },
  {
   "cell_type": "code",
   "execution_count": 156,
   "id": "4a976289-d045-4b08-8983-d09d3ecfa938",
   "metadata": {},
   "outputs": [
    {
     "data": {
      "text/plain": [
       "['animal_type',\n",
       " 'breed',\n",
       " 'color',\n",
       " 'name',\n",
       " 'outcome_type',\n",
       " 'sex',\n",
       " 'spay_neuter',\n",
       " 'color_type',\n",
       " 'num_colors',\n",
       " 'color_one',\n",
       " 'color_two',\n",
       " 'breed_one',\n",
       " 'breed_two',\n",
       " 'breed_three',\n",
       " 'num_breed',\n",
       " 'mixed',\n",
       " 'year',\n",
       " 'month',\n",
       " 'day',\n",
       " 'hour',\n",
       " 'weekday',\n",
       " 'age',\n",
       " 'birth_year',\n",
       " 'birth_month']"
      ]
     },
     "execution_count": 156,
     "metadata": {},
     "output_type": "execute_result"
    }
   ],
   "source": [
    "columns"
   ]
  },
  {
   "cell_type": "code",
   "execution_count": 218,
   "id": "03a123cc-5198-455d-ab9e-4385de6c8e92",
   "metadata": {},
   "outputs": [],
   "source": [
    "def prepare_dataset(data):\n",
    "    \n",
    "    features = {\"breed\" : tf.strings.split(data[\"breed\"]),\n",
    "                #\"color\" : tf.strings.split(data[\"color\"]),\n",
    "                #\"name\" : tf.strings.split(data[\"name\"]),\n",
    "                #\"sex\" : data[\"sex\"],\n",
    "                #\"num_breed\" : data[\"num_breed\"],\n",
    "                #\"year\" : data[\"year\"],\n",
    "                #\"month\" : data[\"month\"],\n",
    "                #\"day\" : data[\"day\"],\n",
    "                #\"hour\" : data[\"hour\"],\n",
    "                #\"weekday\" : data[\"weekday\"],\n",
    "                #\"age\" : data[\"age\"],\n",
    "                #\"birth_year\" : data[\"age\"],\n",
    "                #\"birth_month\" : data[\"birth_month\"]\n",
    "               }\n",
    "    \n",
    "    try:\n",
    "        label = data['outcome_type']\n",
    "        output = features,label\n",
    "    except:\n",
    "        output = features\n",
    "    \n",
    "    return output"
   ]
  },
  {
   "cell_type": "code",
   "execution_count": 219,
   "id": "f864ff05-cfc3-481e-826e-8ab6f0451c56",
   "metadata": {},
   "outputs": [],
   "source": [
    "X_train, X_test = train_test_split(train,test_size=0.2, random_state=42)\n",
    "\n",
    "columns = train.columns.tolist()\n",
    "#columns = ['age','outcome_type']\n",
    "train_dataframe = X_train[columns]\n",
    "train_dataframe = train_dataframe.to_dict('list')\n",
    "train_dataset = tf.data.Dataset.from_tensor_slices(train_dataframe)\n",
    "\n",
    "test_dataframe = X_test[columns]\n",
    "test_dataframe = test_dataframe.to_dict('list')\n",
    "test_dataset = tf.data.Dataset.from_tensor_slices(test_dataframe)\n",
    "\n",
    "\n",
    "\n",
    "train_ds = train_dataset.batch(64).map(prepare_dataset)\n",
    "test_ds = test_dataset.batch(64).map(prepare_dataset)"
   ]
  },
  {
   "cell_type": "code",
   "execution_count": 241,
   "id": "a5729d68-b42d-4d5c-8997-49c2562c5e89",
   "metadata": {},
   "outputs": [
    {
     "name": "stdout",
     "output_type": "stream",
     "text": [
      "681/681 [==============================] - 0s 467us/step\n"
     ]
    },
    {
     "data": {
      "text/plain": [
       "<tensorflow.python.keras.callbacks.History at 0x7f4f36bd1a60>"
      ]
     },
     "execution_count": 241,
     "metadata": {},
     "output_type": "execute_result"
    }
   ],
   "source": [
    "model_1 = tfdf.keras.GradientBoostedTreesModel(hyperparameter_template=\"benchmark_rank1\",\n",
    "                                              num_trees=40)\n",
    "model_1.compile(metrics=[\"accuracy\"])\n",
    "model_1.fit(x=train_ds)"
   ]
  },
  {
   "cell_type": "code",
   "execution_count": 242,
   "id": "1d8fa446-3828-46ba-8768-ad0c96e5947a",
   "metadata": {},
   "outputs": [],
   "source": [
    "#logs"
   ]
  },
  {
   "cell_type": "code",
   "execution_count": 243,
   "id": "3d72059c-2567-49aa-ba43-e25595b75221",
   "metadata": {},
   "outputs": [
    {
     "data": {
      "image/png": "[encoded data removed]",
      "text/plain": [
       "<Figure size 640x480 with 1 Axes>"
      ]
     },
     "metadata": {},
     "output_type": "display_data"
    }
   ],
   "source": [
    "import matplotlib.pyplot as plt\n",
    "\n",
    "logs = model_1.make_inspector().training_logs()\n",
    "plt.plot([log.num_trees for log in logs], [log.evaluation.accuracy for log in logs])\n",
    "plt.xlabel(\"Number of trees\")\n",
    "plt.ylabel(\"Out-of-bag loss\")\n",
    "plt.show()"
   ]
  },
  {
   "cell_type": "code",
   "execution_count": 244,
   "id": "0a798660-5cf7-4d48-a2a3-84f1311cf858",
   "metadata": {},
   "outputs": [
    {
     "name": "stdout",
     "output_type": "stream",
     "text": [
      "171/171 [==============================] - 0s 1ms/step - loss: 0.0000e+00 - accuracy: 0.6570\n",
      "BinaryCrossentropyloss: 0.0\n",
      "Accuracy: 0.6570483446121216\n"
     ]
    }
   ],
   "source": [
    "# all features\n",
    "evaluation = model_1.evaluate(test_ds)\n",
    "\n",
    "print(f\"BinaryCrossentropyloss: {evaluation[0]}\")\n",
    "print(f\"Accuracy: {evaluation[1]}\")\n"
   ]
  },
  {
   "cell_type": "code",
   "execution_count": 227,
   "id": "3f94e7d9-5934-47ce-a06a-baf5d5e889ef",
   "metadata": {},
   "outputs": [],
   "source": [
    "#model_1.summary()"
   ]
  },
  {
   "cell_type": "code",
   "execution_count": null,
   "id": "fab6a39a-f847-4add-85d9-06b57be461c9",
   "metadata": {},
   "outputs": [],
   "source": []
  },
  {
   "cell_type": "code",
   "execution_count": 223,
   "id": "41b16c64-7c9c-4be6-9925-a7bc763bf0a5",
   "metadata": {},
   "outputs": [
    {
     "name": "stdout",
     "output_type": "stream",
     "text": [
      "171/171 [==============================] - 0s 2ms/step - loss: 0.0000e+00 - accuracy: 0.6501\n",
      "BinaryCrossentropyloss: 0.0\n",
      "Accuracy: 0.6500643491744995\n"
     ]
    }
   ],
   "source": [
    "# only breed\n",
    "evaluation = model_1.evaluate(test_ds)\n",
    "\n",
    "print(f\"BinaryCrossentropyloss: {evaluation[0]}\")\n",
    "print(f\"Accuracy: {evaluation[1]}\")"
   ]
  },
  {
   "cell_type": "code",
   "execution_count": 195,
   "id": "dab170a0-1953-4d8d-94af-c66d79a511fd",
   "metadata": {},
   "outputs": [
    {
     "data": {
      "text/plain": [
       "{'rf_baselines': {'loss': 0.0, 'accuracy': 0.8247565031051636},\n",
       " 'rf_tune1': {'loss': 0.0, 'accuracy': 0.8263186812400818},\n",
       " 'gbt_baselines': {'loss': 0.0, 'accuracy': 0.8265025019645691},\n",
       " 'gbt_tune1': {'loss': 0.0, 'accuracy': 0.8265025019645691}}"
      ]
     },
     "execution_count": 195,
     "metadata": {},
     "output_type": "execute_result"
    }
   ],
   "source": [
    "## Old Model\n",
    "evaluation"
   ]
  },
  {
   "cell_type": "code",
   "execution_count": 169,
   "id": "dd8fa7a4-7e05-4406-9735-4f375e351765",
   "metadata": {},
   "outputs": [
    {
     "data": {
      "text/plain": [
       "{'gbt_tune1': {'loss': 0.0, 'accuracy': 0.8293512463569641}}"
      ]
     },
     "execution_count": 169,
     "metadata": {},
     "output_type": "execute_result"
    }
   ],
   "source": [
    "evaluation"
   ]
  },
  {
   "cell_type": "markdown",
   "id": "95a7f4c6-3c99-4225-8857-0b77ea9719ae",
   "metadata": {},
   "source": [
    "# Train on Entire Dataset\n"
   ]
  },
  {
   "cell_type": "code",
   "execution_count": 245,
   "id": "fbbecea1-7055-412b-aec4-e281c73e3400",
   "metadata": {},
   "outputs": [
    {
     "name": "stdout",
     "output_type": "stream",
     "text": [
      "851/851 [==============================] - 1s 1ms/step\n"
     ]
    },
    {
     "data": {
      "text/plain": [
       "<tensorflow.python.keras.callbacks.History at 0x7f4f5e9f4100>"
      ]
     },
     "execution_count": 245,
     "metadata": {},
     "output_type": "execute_result"
    }
   ],
   "source": [
    "train_tf = tfdf.keras.pd_dataframe_to_tf_dataset(train, label=label)\n",
    "# A more complex, but possibly, more accurate model.\n",
    "#models = {\n",
    "    #'rf_baselines': tfdf.keras.RandomForestModel(),\n",
    "    #'rf_tune1': tfdf.keras.RandomForestModel(hyperparameter_template=\"benchmark_rank1\", task = tfdf.keras.Task.REGRESSION),\n",
    "    #'gbt_baselines': tfdf.keras.GradientBoostedTreesModel(task = tfdf.keras.Task.REGRESSION),\n",
    "#    'gbt_tune1': tfdf.keras.GradientBoostedTreesModel(hyperparameter_template=\"benchmark_rank1\")\n",
    "#    }\n",
    "\n",
    "models['gbt_tune1'].compile(metrics=[\"accuracy\"])\n",
    "models['gbt_tune1'].fit(x=train_tf)"
   ]
  },
  {
   "cell_type": "markdown",
   "id": "fab39120-06c5-42c7-a13f-1084205c04f0",
   "metadata": {},
   "source": [
    "# Predictions"
   ]
  },
  {
   "cell_type": "code",
   "execution_count": 246,
   "id": "50347100-86bd-48d4-9adf-708e994428ef",
   "metadata": {},
   "outputs": [
    {
     "data": {
      "text/plain": [
       "{'rf_baselines': <tensorflow_decision_forests.keras.RandomForestModel at 0x7f50273560a0>,\n",
       " 'rf_tune1': <tensorflow_decision_forests.keras.RandomForestModel at 0x7f5027356370>,\n",
       " 'gbt_baselines': <tensorflow_decision_forests.keras.GradientBoostedTreesModel at 0x7f5026cb9ac0>,\n",
       " 'gbt_tune1': <tensorflow_decision_forests.keras.GradientBoostedTreesModel at 0x7f5027338f70>}"
      ]
     },
     "execution_count": 246,
     "metadata": {},
     "output_type": "execute_result"
    }
   ],
   "source": [
    "models"
   ]
  },
  {
   "cell_type": "code",
   "execution_count": 304,
   "id": "adceb97f-3098-4980-a2c1-b123288a042f",
   "metadata": {},
   "outputs": [],
   "source": [
    "scores = models['gbt_tune1'].predict(predictions)"
   ]
  },
  {
   "cell_type": "code",
   "execution_count": 305,
   "id": "ad36d0ff-3cce-457f-96aa-ef39c05a2cf5",
   "metadata": {},
   "outputs": [],
   "source": [
    "#Label classes: ['adoption', 'no outcome', 'transfer']"
   ]
  },
  {
   "cell_type": "code",
   "execution_count": 306,
   "id": "b218da44-e68f-48de-9368-0edc6ed83bba",
   "metadata": {},
   "outputs": [
    {
     "data": {
      "text/plain": [
       "array([[8.7180000e-04, 9.9736279e-01, 1.7653710e-03],\n",
       "       [2.0946354e-02, 7.1948725e-01, 2.5956640e-01],\n",
       "       [9.3595344e-01, 3.3668408e-03, 6.0679663e-02],\n",
       "       ...,\n",
       "       [3.3661008e-01, 3.5512988e-02, 6.2787688e-01],\n",
       "       [9.6797407e-01, 6.9470480e-03, 2.5078943e-02],\n",
       "       [1.5179572e-01, 8.3186381e-02, 7.6501787e-01]], dtype=float32)"
      ]
     },
     "execution_count": 306,
     "metadata": {},
     "output_type": "execute_result"
    }
   ],
   "source": [
    "scores"
   ]
  },
  {
   "cell_type": "code",
   "execution_count": 307,
   "id": "a314fc3a-ee83-4b58-83df-e5b3466ded97",
   "metadata": {},
   "outputs": [],
   "source": [
    "temp = pd.DataFrame(data=scores, columns=[\"adoption\", \"no outcome\",\"transfer\"])"
   ]
  },
  {
   "cell_type": "code",
   "execution_count": 308,
   "id": "98c36421-29f3-4b7a-bbbf-9a038c563283",
   "metadata": {},
   "outputs": [],
   "source": [
    "temp['id'] = submission.id"
   ]
  },
  {
   "cell_type": "code",
   "execution_count": 309,
   "id": "dc614a6e-efa3-4043-a410-bad44c563d20",
   "metadata": {},
   "outputs": [],
   "source": [
    "temp = temp[['id','adoption','no outcome','transfer']]"
   ]
  },
  {
   "cell_type": "code",
   "execution_count": 310,
   "id": "d070da16-3526-4c24-9095-c1b0572ae60b",
   "metadata": {},
   "outputs": [
    {
     "data": {
      "text/html": [
       "<div>\n",
       "<style scoped>\n",
       "    .dataframe tbody tr th:only-of-type {\n",
       "        vertical-align: middle;\n",
       "    }\n",
       "\n",
       "    .dataframe tbody tr th {\n",
       "        vertical-align: top;\n",
       "    }\n",
       "\n",
       "    .dataframe thead th {\n",
       "        text-align: right;\n",
       "    }\n",
       "</style>\n",
       "<table border=\"1\" class=\"dataframe\">\n",
       "  <thead>\n",
       "    <tr style=\"text-align: right;\">\n",
       "      <th></th>\n",
       "      <th>id</th>\n",
       "      <th>adoption</th>\n",
       "      <th>no outcome</th>\n",
       "      <th>transfer</th>\n",
       "    </tr>\n",
       "  </thead>\n",
       "  <tbody>\n",
       "    <tr>\n",
       "      <th>0</th>\n",
       "      <td>67473</td>\n",
       "      <td>0.000872</td>\n",
       "      <td>0.997363</td>\n",
       "      <td>0.001765</td>\n",
       "    </tr>\n",
       "    <tr>\n",
       "      <th>1</th>\n",
       "      <td>4629</td>\n",
       "      <td>0.020946</td>\n",
       "      <td>0.719487</td>\n",
       "      <td>0.259566</td>\n",
       "    </tr>\n",
       "    <tr>\n",
       "      <th>2</th>\n",
       "      <td>13914</td>\n",
       "      <td>0.935953</td>\n",
       "      <td>0.003367</td>\n",
       "      <td>0.060680</td>\n",
       "    </tr>\n",
       "    <tr>\n",
       "      <th>3</th>\n",
       "      <td>53131</td>\n",
       "      <td>0.093944</td>\n",
       "      <td>0.219680</td>\n",
       "      <td>0.686376</td>\n",
       "    </tr>\n",
       "    <tr>\n",
       "      <th>4</th>\n",
       "      <td>57800</td>\n",
       "      <td>0.585817</td>\n",
       "      <td>0.039921</td>\n",
       "      <td>0.374262</td>\n",
       "    </tr>\n",
       "    <tr>\n",
       "      <th>...</th>\n",
       "      <td>...</td>\n",
       "      <td>...</td>\n",
       "      <td>...</td>\n",
       "      <td>...</td>\n",
       "    </tr>\n",
       "    <tr>\n",
       "      <th>23312</th>\n",
       "      <td>9347</td>\n",
       "      <td>0.903591</td>\n",
       "      <td>0.038790</td>\n",
       "      <td>0.057620</td>\n",
       "    </tr>\n",
       "    <tr>\n",
       "      <th>23313</th>\n",
       "      <td>3781</td>\n",
       "      <td>0.004891</td>\n",
       "      <td>0.022325</td>\n",
       "      <td>0.972784</td>\n",
       "    </tr>\n",
       "    <tr>\n",
       "      <th>23314</th>\n",
       "      <td>74693</td>\n",
       "      <td>0.336610</td>\n",
       "      <td>0.035513</td>\n",
       "      <td>0.627877</td>\n",
       "    </tr>\n",
       "    <tr>\n",
       "      <th>23315</th>\n",
       "      <td>44987</td>\n",
       "      <td>0.967974</td>\n",
       "      <td>0.006947</td>\n",
       "      <td>0.025079</td>\n",
       "    </tr>\n",
       "    <tr>\n",
       "      <th>23316</th>\n",
       "      <td>30993</td>\n",
       "      <td>0.151796</td>\n",
       "      <td>0.083186</td>\n",
       "      <td>0.765018</td>\n",
       "    </tr>\n",
       "  </tbody>\n",
       "</table>\n",
       "<p>23317 rows × 4 columns</p>\n",
       "</div>"
      ],
      "text/plain": [
       "          id  adoption  no outcome  transfer\n",
       "0      67473  0.000872    0.997363  0.001765\n",
       "1       4629  0.020946    0.719487  0.259566\n",
       "2      13914  0.935953    0.003367  0.060680\n",
       "3      53131  0.093944    0.219680  0.686376\n",
       "4      57800  0.585817    0.039921  0.374262\n",
       "...      ...       ...         ...       ...\n",
       "23312   9347  0.903591    0.038790  0.057620\n",
       "23313   3781  0.004891    0.022325  0.972784\n",
       "23314  74693  0.336610    0.035513  0.627877\n",
       "23315  44987  0.967974    0.006947  0.025079\n",
       "23316  30993  0.151796    0.083186  0.765018\n",
       "\n",
       "[23317 rows x 4 columns]"
      ]
     },
     "execution_count": 310,
     "metadata": {},
     "output_type": "execute_result"
    }
   ],
   "source": [
    "temp"
   ]
  },
  {
   "cell_type": "code",
   "execution_count": 311,
   "id": "6d2d6579-b6ce-4a74-b65e-6f03f2fe5312",
   "metadata": {},
   "outputs": [],
   "source": [
    "temp['no outcome'] = np.where(temp['no outcome'] > .96, 1, temp['no outcome'])\n",
    "temp['adoption'] = np.where(temp['no outcome'] == 1, 0, temp['adoption'])\n",
    "temp['transfer'] = np.where(temp['no outcome'] == 1, 0, temp['transfer'])"
   ]
  },
  {
   "cell_type": "code",
   "execution_count": 312,
   "id": "7973d6cd-447d-4cba-be2f-087ed687c8be",
   "metadata": {},
   "outputs": [],
   "source": [
    "temp['adoption'] = np.where(temp['adoption'] > .96, 1, temp['adoption'])\n",
    "temp['no outcome'] = np.where(temp['adoption'] == 1, 0, temp['no outcome'])\n",
    "temp['transfer'] = np.where(temp['adoption'] == 1, 0, temp['transfer'])"
   ]
  },
  {
   "cell_type": "code",
   "execution_count": 313,
   "id": "8ad64b7e-309a-4832-a89e-f43b6dbb3492",
   "metadata": {},
   "outputs": [],
   "source": [
    "temp['transfer'] = np.where(temp['transfer'] > .96, 1, temp['transfer'])\n",
    "temp['adoption'] = np.where(temp['transfer'] == 1, 0, temp['adoption'])\n",
    "temp['no outcome'] = np.where(temp['transfer'] == 1, 0, temp['no outcome'])"
   ]
  },
  {
   "cell_type": "code",
   "execution_count": 314,
   "id": "af3ef058-b6e7-4ad4-8bc9-d745f933278e",
   "metadata": {},
   "outputs": [],
   "source": [
    "temp.to_csv('submission.csv', index=False)"
   ]
  },
  {
   "cell_type": "code",
   "execution_count": 316,
   "id": "5382d4c7-0a60-4fa2-ba23-3920bc1000bd",
   "metadata": {},
   "outputs": [
    {
     "name": "stdout",
     "output_type": "stream",
     "text": [
      "Warning: Your Kaggle API key is readable by other users on this system! To fix this, you can run 'chmod 600 /home/neil/kaggle/kaggle.json'\n",
      "Warning: Looks like you're using an outdated API Version, please consider updating (server 1.5.12 / client 1.5.8)\n",
      "100%|█████████████████████████████████████████| 779k/779k [00:00<00:00, 850kB/s]\n",
      "400 - Bad Request\n"
     ]
    }
   ],
   "source": [
    "!kaggle competitions submit -c sliced-s01e10-playoffs-2 -f submission.csv -m \"Best With Names with outcome updates\""
   ]
  },
  {
   "cell_type": "code",
   "execution_count": null,
   "id": "bb8bc1b2-ca02-4634-ab9d-3d67d8d2fa63",
   "metadata": {},
   "outputs": [],
   "source": []
  }
 ],
 "metadata": {
  "kernelspec": {
   "display_name": "ds_py_3.8",
   "language": "python",
   "name": "ds_py_3.8"
  },
  "language_info": {
   "codemirror_mode": {
    "name": "ipython",
    "version": 3
   },
   "file_extension": ".py",
   "mimetype": "text/x-python",
   "name": "python",
   "nbconvert_exporter": "python",
   "pygments_lexer": "ipython3",
   "version": "3.8.10"
  }
 },
 "nbformat": 4,
 "nbformat_minor": 5
}
