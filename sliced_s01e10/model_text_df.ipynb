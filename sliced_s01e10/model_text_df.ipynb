{
 "cells": [
  {
   "cell_type": "code",
   "execution_count": 53,
   "id": "d9ec98b6-955d-4888-89c2-fbd88b4e5665",
   "metadata": {},
   "outputs": [],
   "source": [
    "# Standard stack\n",
    "import datetime\n",
    "import pandas as pd\n",
    "import numpy as np\n",
    "from datetime import date\n",
    "import re\n",
    "\n",
    "# Visualization\n",
    "from pandas_profiling import ProfileReport\n",
    "#import plotly.express as px\n",
    "import matplotlib.pyplot as plt\n",
    "import seaborn as sns\n",
    "\n",
    "# Modeling\n",
    "import tensorflow as tf\n",
    "import tensorflow_decision_forests as tfdf\n",
    "try:\n",
    "    from wurlitzer import sys_pipes\n",
    "except:\n",
    "    from colabtools.googlelog import CaptureLog as sys_pipes\n",
    "\n",
    "# Scikit-learn packages\n",
    "from sklearn import metrics\n",
    "from sklearn.model_selection import train_test_split\n",
    "from sklearn.impute import SimpleImputer\n",
    "from sklearn.pipeline import Pipeline\n",
    "from sklearn.preprocessing import StandardScaler, OneHotEncoder, FunctionTransformer, OrdinalEncoder\n",
    "from sklearn.compose import ColumnTransformer\n",
    "from sklearn.model_selection import KFold\n",
    "\n",
    "# display\n",
    "from IPython.core.magic import register_line_magic\n",
    "from IPython.display import Javascript\n",
    "\n",
    "# no warnings\n",
    "import warnings\n",
    "warnings.filterwarnings('ignore')"
   ]
  },
  {
   "cell_type": "code",
   "execution_count": 54,
   "id": "3b7ee3c1-a9f5-4393-9193-11c0ab4718ce",
   "metadata": {},
   "outputs": [],
   "source": [
    "TRAIN_PATH = \"data/train.csv\"\n",
    "TEST_PATH = \"data/test.csv\"\n",
    "label = \"outcome_type\""
   ]
  },
  {
   "cell_type": "code",
   "execution_count": 55,
   "id": "c83bb836-8c49-4923-8ba1-1f29d3c807a0",
   "metadata": {},
   "outputs": [],
   "source": [
    "train = pd.read_csv(TRAIN_PATH)\n",
    "test = pd.read_csv(TEST_PATH)\n",
    "submission = pd.read_csv(TEST_PATH)"
   ]
  },
  {
   "cell_type": "code",
   "execution_count": 56,
   "id": "e7e36abc-b948-455b-978a-7c8d021ecad5",
   "metadata": {},
   "outputs": [
    {
     "name": "stdout",
     "output_type": "stream",
     "text": [
      "Label classes: ['adoption', 'no outcome', 'transfer']\n"
     ]
    }
   ],
   "source": [
    "classes = train[label].unique().tolist()\n",
    "print(f\"Label classes: {classes}\")\n",
    "\n",
    "train[label] = train[label].map(classes.index)"
   ]
  },
  {
   "cell_type": "code",
   "execution_count": 57,
   "id": "ecf94309-219d-43e8-9925-2fb1fa647889",
   "metadata": {},
   "outputs": [
    {
     "data": {
      "text/plain": [
       "Index(['id', 'age_upon_outcome', 'animal_type', 'breed', 'color',\n",
       "       'date_of_birth', 'datetime', 'name', 'outcome_type', 'sex',\n",
       "       'spay_neuter'],\n",
       "      dtype='object')"
      ]
     },
     "execution_count": 57,
     "metadata": {},
     "output_type": "execute_result"
    }
   ],
   "source": [
    "train.columns"
   ]
  },
  {
   "cell_type": "code",
   "execution_count": 58,
   "id": "b3edc4c9-c46a-4b43-be8a-6c971e9019dd",
   "metadata": {},
   "outputs": [
    {
     "data": {
      "text/plain": [
       "Index(['id', 'age_upon_outcome', 'animal_type', 'breed', 'color',\n",
       "       'date_of_birth', 'datetime', 'name', 'sex', 'spay_neuter'],\n",
       "      dtype='object')"
      ]
     },
     "execution_count": 58,
     "metadata": {},
     "output_type": "execute_result"
    }
   ],
   "source": [
    "test.columns"
   ]
  },
  {
   "cell_type": "markdown",
   "id": "0da12107-0cab-41c8-a904-1c0f6495ac35",
   "metadata": {},
   "source": [
    "# Train"
   ]
  },
  {
   "cell_type": "code",
   "execution_count": 59,
   "id": "8010c120-c6cc-46ba-84cb-96bbbfff7f79",
   "metadata": {},
   "outputs": [],
   "source": [
    "def inpute_missing(dataset):\n",
    "    \"\"\" \n",
    "    Edit this to fix nulls. Default version replaces all int/float with 0\n",
    "    \"\"\"\n",
    "    for col in dataset.columns:\n",
    "        if dataset[col].dtype not in [str, object]:\n",
    "            dataset[col] = dataset[col].fillna(dataset[col].mean())\n",
    "    return dataset\n",
    "\n",
    "train = inpute_missing(train)\n",
    "test = inpute_missing(test)"
   ]
  },
  {
   "cell_type": "code",
   "execution_count": 60,
   "id": "254189c3-4604-4a07-a4a4-11482ade9f39",
   "metadata": {},
   "outputs": [],
   "source": [
    "def nlp_transforms(dataset):\n",
    "    \"\"\" \n",
    "    NLP tranforms here. Default, None...\n",
    "    \"\"\"\n",
    "    banned = ['brindle',\n",
    "    'tabby',\n",
    "    'merle',\n",
    "    'torbie',\n",
    "    'point',\n",
    "    'smoke',\n",
    "    'tiger',\n",
    "    'tick'\n",
    "    ]\n",
    "    \n",
    "    # Colors\n",
    "    dataset['color'] = dataset['color'].str.lower()\n",
    "    dataset['color'] = np.where(dataset['color'] == 'Tortie', 'Torbie', dataset['color'])\n",
    "    \n",
    "   # dataset['color_type'] = None\n",
    "   # dataset['color_type'] = np.where(dataset['color'].str.contains('brindle'), \"brindle\", dataset['color_type'])\n",
    "   # dataset['color_type'] = np.where(dataset['color'].str.contains('tabby'), \"tabby\", dataset['color_type'])\n",
    "  #  dataset['color_type'] = np.where(dataset['color'].str.contains('merle'), \"merle\", dataset['color_type'])\n",
    "   # dataset['color_type'] = np.where(dataset['color'].str.contains('torbie'), \"torbie\", dataset['color_type'])\n",
    "   # dataset['color_type'] = np.where(dataset['color'].str.contains('point'), \"point\", dataset['color_type'])\n",
    "   # dataset['color_type'] = np.where(dataset['color'].str.contains('smoke'), \"smoke\", dataset['color_type'])\n",
    "   # dataset['color_type'] = np.where(dataset['color'].str.contains('tiger'), \"tiger\", dataset['color_type'])\n",
    "  #  dataset['color_type'] = np.where(dataset['color'].str.contains('tick'), \"tick\", dataset['color_type'])\n",
    "    \n",
    "    dataset['num_colors'] = dataset['color'].str.split('/').str.len()\n",
    "  #  dataset['color_one'] = dataset['color'].apply(lambda x: x.split('/')[0])\n",
    "  #  dataset['color_two'] = dataset['color'].apply(lambda x: x.split('/')[1] if len(x.split('/')) > 1 else 'None')\n",
    "  #  dataset['color_two'] = np.where(dataset['color_two'] == 'None', dataset['color_one'],dataset['color_two'])\n",
    "    \n",
    "    #dataset['color_one'] = dataset['color_one'].str.replace('/',' ')\n",
    "    #dataset['color_one'] = [' '.join([item for item in x.split() \n",
    "    #                   if item not in banned]) \n",
    "    #                   for x in dataset[\"color_one\"]]\n",
    "\n",
    "  #  dataset['color_two'] = dataset['color_two'].str.replace('/',' ')\n",
    "  #  dataset['color_two'] = [' '.join([item for item in x.split() \n",
    "   #                    if item not in banned]) \n",
    "  #                     for x in dataset[\"color_two\"]]\\\n",
    "  #  \n",
    "   # dataset['num_colors'] = np.where((dataset['color_one'] == 'tricolor') | (dataset['color_two'] == 'tricolor'), 3, dataset['num_colors'])\n",
    "    \n",
    "    # Breeds\n",
    "    dataset['breed'] = dataset['breed'].str.lower()\n",
    "    \n",
    "    #dataset['breed_one'] = dataset['breed'].apply(lambda x: x.split('/')[0])\n",
    "    #dataset['breed_two'] = dataset['breed'].apply(lambda x: x.split('/')[1] if len(x.split('/')) ==2 else 'None')\n",
    "    #dataset['breed_three'] = dataset['breed'].apply(lambda x: x.split('/')[2] if len(x.split('/')) ==3 else 'None')\n",
    "    #dataset['breed_two'] = np.where(dataset['breed_two'] == 'None', dataset['breed_one'],dataset['breed_two'])\n",
    "    #dataset['breed_three'] = np.where(dataset['breed_three'] == 'None', dataset['breed_one'],dataset['breed_three'])\n",
    "    \n",
    "    dataset['num_breed'] = dataset['breed'].str.split('/').str.len()\n",
    "   # dataset['mixed'] = np.where(dataset['breed'].str.contains('mix'), 1,0)\n",
    "   # dataset['mixed'] = np.where(dataset['num_breed'] > 1, 1 ,dataset['mixed'])\n",
    "    return dataset\n",
    "\n",
    "train = nlp_transforms(train)\n",
    "test = nlp_transforms(test)"
   ]
  },
  {
   "cell_type": "code",
   "execution_count": 61,
   "id": "3f64c81f-266b-4f27-aa9c-90c589fa5603",
   "metadata": {},
   "outputs": [
    {
     "data": {
      "text/html": [
       "<div>\n",
       "<style scoped>\n",
       "    .dataframe tbody tr th:only-of-type {\n",
       "        vertical-align: middle;\n",
       "    }\n",
       "\n",
       "    .dataframe tbody tr th {\n",
       "        vertical-align: top;\n",
       "    }\n",
       "\n",
       "    .dataframe thead th {\n",
       "        text-align: right;\n",
       "    }\n",
       "</style>\n",
       "<table border=\"1\" class=\"dataframe\">\n",
       "  <thead>\n",
       "    <tr style=\"text-align: right;\">\n",
       "      <th></th>\n",
       "      <th>id</th>\n",
       "      <th>age_upon_outcome</th>\n",
       "      <th>animal_type</th>\n",
       "      <th>breed</th>\n",
       "      <th>color</th>\n",
       "      <th>date_of_birth</th>\n",
       "      <th>datetime</th>\n",
       "      <th>name</th>\n",
       "      <th>outcome_type</th>\n",
       "      <th>sex</th>\n",
       "      <th>spay_neuter</th>\n",
       "      <th>num_colors</th>\n",
       "      <th>num_breed</th>\n",
       "    </tr>\n",
       "  </thead>\n",
       "  <tbody>\n",
       "    <tr>\n",
       "      <th>0</th>\n",
       "      <td>1265</td>\n",
       "      <td>2 years</td>\n",
       "      <td>Cat</td>\n",
       "      <td>russian blue mix</td>\n",
       "      <td>blue</td>\n",
       "      <td>2014-04-21</td>\n",
       "      <td>2016-08-05 14:15:00</td>\n",
       "      <td>Smokey</td>\n",
       "      <td>0</td>\n",
       "      <td>Male</td>\n",
       "      <td>Fixed</td>\n",
       "      <td>1</td>\n",
       "      <td>1</td>\n",
       "    </tr>\n",
       "    <tr>\n",
       "      <th>1</th>\n",
       "      <td>24053</td>\n",
       "      <td>1 year</td>\n",
       "      <td>Other</td>\n",
       "      <td>bat mix</td>\n",
       "      <td>brown</td>\n",
       "      <td>2016-10-24</td>\n",
       "      <td>2017-10-25 08:02:00</td>\n",
       "      <td>NaN</td>\n",
       "      <td>1</td>\n",
       "      <td>Unknown</td>\n",
       "      <td>Unknown</td>\n",
       "      <td>1</td>\n",
       "      <td>1</td>\n",
       "    </tr>\n",
       "    <tr>\n",
       "      <th>2</th>\n",
       "      <td>4785</td>\n",
       "      <td>2 months</td>\n",
       "      <td>Dog</td>\n",
       "      <td>chihuahua shorthair/pomeranian</td>\n",
       "      <td>brown</td>\n",
       "      <td>2014-01-04</td>\n",
       "      <td>2014-03-08 16:37:00</td>\n",
       "      <td>NaN</td>\n",
       "      <td>2</td>\n",
       "      <td>Female</td>\n",
       "      <td>Fixed</td>\n",
       "      <td>1</td>\n",
       "      <td>2</td>\n",
       "    </tr>\n",
       "    <tr>\n",
       "      <th>3</th>\n",
       "      <td>65439</td>\n",
       "      <td>2 years</td>\n",
       "      <td>Cat</td>\n",
       "      <td>domestic shorthair mix</td>\n",
       "      <td>brown tabby/white</td>\n",
       "      <td>2012-11-26</td>\n",
       "      <td>2014-12-04 12:21:00</td>\n",
       "      <td>Momma Kitty</td>\n",
       "      <td>2</td>\n",
       "      <td>Female</td>\n",
       "      <td>Fixed</td>\n",
       "      <td>2</td>\n",
       "      <td>1</td>\n",
       "    </tr>\n",
       "    <tr>\n",
       "      <th>4</th>\n",
       "      <td>45732</td>\n",
       "      <td>1 year</td>\n",
       "      <td>Dog</td>\n",
       "      <td>rat terrier mix</td>\n",
       "      <td>white/chocolate</td>\n",
       "      <td>2014-07-10</td>\n",
       "      <td>2016-01-16 16:46:00</td>\n",
       "      <td>Estrella</td>\n",
       "      <td>2</td>\n",
       "      <td>Female</td>\n",
       "      <td>Fixed</td>\n",
       "      <td>2</td>\n",
       "      <td>1</td>\n",
       "    </tr>\n",
       "    <tr>\n",
       "      <th>...</th>\n",
       "      <td>...</td>\n",
       "      <td>...</td>\n",
       "      <td>...</td>\n",
       "      <td>...</td>\n",
       "      <td>...</td>\n",
       "      <td>...</td>\n",
       "      <td>...</td>\n",
       "      <td>...</td>\n",
       "      <td>...</td>\n",
       "      <td>...</td>\n",
       "      <td>...</td>\n",
       "      <td>...</td>\n",
       "      <td>...</td>\n",
       "    </tr>\n",
       "    <tr>\n",
       "      <th>54403</th>\n",
       "      <td>48705</td>\n",
       "      <td>6 months</td>\n",
       "      <td>Dog</td>\n",
       "      <td>basset hound mix</td>\n",
       "      <td>brown brindle/white</td>\n",
       "      <td>2016-05-01</td>\n",
       "      <td>2016-11-06 17:53:00</td>\n",
       "      <td>*Mobey</td>\n",
       "      <td>0</td>\n",
       "      <td>Male</td>\n",
       "      <td>Fixed</td>\n",
       "      <td>2</td>\n",
       "      <td>1</td>\n",
       "    </tr>\n",
       "    <tr>\n",
       "      <th>54404</th>\n",
       "      <td>42473</td>\n",
       "      <td>8 years</td>\n",
       "      <td>Dog</td>\n",
       "      <td>pointer/labrador retriever</td>\n",
       "      <td>white/black</td>\n",
       "      <td>2006-09-16</td>\n",
       "      <td>2014-09-27 14:40:00</td>\n",
       "      <td>Daisy</td>\n",
       "      <td>0</td>\n",
       "      <td>Female</td>\n",
       "      <td>Fixed</td>\n",
       "      <td>2</td>\n",
       "      <td>2</td>\n",
       "    </tr>\n",
       "    <tr>\n",
       "      <th>54405</th>\n",
       "      <td>57001</td>\n",
       "      <td>4 months</td>\n",
       "      <td>Cat</td>\n",
       "      <td>domestic shorthair mix</td>\n",
       "      <td>white/orange tabby</td>\n",
       "      <td>2014-04-07</td>\n",
       "      <td>2014-08-23 16:51:00</td>\n",
       "      <td>French Fry</td>\n",
       "      <td>2</td>\n",
       "      <td>Male</td>\n",
       "      <td>Fixed</td>\n",
       "      <td>2</td>\n",
       "      <td>1</td>\n",
       "    </tr>\n",
       "    <tr>\n",
       "      <th>54406</th>\n",
       "      <td>74609</td>\n",
       "      <td>3 years</td>\n",
       "      <td>Cat</td>\n",
       "      <td>domestic medium hair mix</td>\n",
       "      <td>calico</td>\n",
       "      <td>2013-07-07</td>\n",
       "      <td>2016-08-10 18:43:00</td>\n",
       "      <td>Orangee</td>\n",
       "      <td>0</td>\n",
       "      <td>Female</td>\n",
       "      <td>Fixed</td>\n",
       "      <td>1</td>\n",
       "      <td>1</td>\n",
       "    </tr>\n",
       "    <tr>\n",
       "      <th>54407</th>\n",
       "      <td>64198</td>\n",
       "      <td>2 weeks</td>\n",
       "      <td>Cat</td>\n",
       "      <td>domestic shorthair mix</td>\n",
       "      <td>black</td>\n",
       "      <td>2016-09-07</td>\n",
       "      <td>2016-09-22 18:46:00</td>\n",
       "      <td>NaN</td>\n",
       "      <td>2</td>\n",
       "      <td>Female</td>\n",
       "      <td>Intact</td>\n",
       "      <td>1</td>\n",
       "      <td>1</td>\n",
       "    </tr>\n",
       "  </tbody>\n",
       "</table>\n",
       "<p>54408 rows × 13 columns</p>\n",
       "</div>"
      ],
      "text/plain": [
       "          id age_upon_outcome animal_type                           breed  \\\n",
       "0       1265          2 years         Cat                russian blue mix   \n",
       "1      24053           1 year       Other                         bat mix   \n",
       "2       4785         2 months         Dog  chihuahua shorthair/pomeranian   \n",
       "3      65439          2 years         Cat          domestic shorthair mix   \n",
       "4      45732           1 year         Dog                 rat terrier mix   \n",
       "...      ...              ...         ...                             ...   \n",
       "54403  48705         6 months         Dog                basset hound mix   \n",
       "54404  42473          8 years         Dog      pointer/labrador retriever   \n",
       "54405  57001         4 months         Cat          domestic shorthair mix   \n",
       "54406  74609          3 years         Cat        domestic medium hair mix   \n",
       "54407  64198          2 weeks         Cat          domestic shorthair mix   \n",
       "\n",
       "                     color date_of_birth             datetime         name  \\\n",
       "0                     blue    2014-04-21  2016-08-05 14:15:00       Smokey   \n",
       "1                    brown    2016-10-24  2017-10-25 08:02:00          NaN   \n",
       "2                    brown    2014-01-04  2014-03-08 16:37:00          NaN   \n",
       "3        brown tabby/white    2012-11-26  2014-12-04 12:21:00  Momma Kitty   \n",
       "4          white/chocolate    2014-07-10  2016-01-16 16:46:00     Estrella   \n",
       "...                    ...           ...                  ...          ...   \n",
       "54403  brown brindle/white    2016-05-01  2016-11-06 17:53:00       *Mobey   \n",
       "54404          white/black    2006-09-16  2014-09-27 14:40:00        Daisy   \n",
       "54405   white/orange tabby    2014-04-07  2014-08-23 16:51:00   French Fry   \n",
       "54406               calico    2013-07-07  2016-08-10 18:43:00      Orangee   \n",
       "54407                black    2016-09-07  2016-09-22 18:46:00          NaN   \n",
       "\n",
       "       outcome_type      sex spay_neuter  num_colors  num_breed  \n",
       "0                 0     Male       Fixed           1          1  \n",
       "1                 1  Unknown     Unknown           1          1  \n",
       "2                 2   Female       Fixed           1          2  \n",
       "3                 2   Female       Fixed           2          1  \n",
       "4                 2   Female       Fixed           2          1  \n",
       "...             ...      ...         ...         ...        ...  \n",
       "54403             0     Male       Fixed           2          1  \n",
       "54404             0   Female       Fixed           2          2  \n",
       "54405             2     Male       Fixed           2          1  \n",
       "54406             0   Female       Fixed           1          1  \n",
       "54407             2   Female      Intact           1          1  \n",
       "\n",
       "[54408 rows x 13 columns]"
      ]
     },
     "execution_count": 61,
     "metadata": {},
     "output_type": "execute_result"
    }
   ],
   "source": [
    "train"
   ]
  },
  {
   "cell_type": "code",
   "execution_count": 89,
   "id": "b2b03b89-c3ff-4f25-8954-3e9c00306ee1",
   "metadata": {},
   "outputs": [
    {
     "data": {
      "text/plain": [
       "(43526, 2)"
      ]
     },
     "execution_count": 89,
     "metadata": {},
     "output_type": "execute_result"
    }
   ],
   "source": [
    "X_train.shape"
   ]
  },
  {
   "cell_type": "code",
   "execution_count": 90,
   "id": "cacc76fb-f6ed-4ca4-8c12-231e612ec74b",
   "metadata": {},
   "outputs": [
    {
     "data": {
      "text/plain": [
       "0.6118641731378945"
      ]
     },
     "execution_count": 90,
     "metadata": {},
     "output_type": "execute_result"
    }
   ],
   "source": [
    "X_train[X_train['outcome_type'] == 0].shape[0]/X_train.shape[0]"
   ]
  },
  {
   "cell_type": "code",
   "execution_count": 91,
   "id": "5b555664-3a76-4291-90f1-e8d1b8a4d87b",
   "metadata": {},
   "outputs": [
    {
     "data": {
      "text/plain": [
       "0.08656894729586914"
      ]
     },
     "execution_count": 91,
     "metadata": {},
     "output_type": "execute_result"
    }
   ],
   "source": [
    "X_train[X_train['outcome_type'] == 1].shape[0]/X_train.shape[0]"
   ]
  },
  {
   "cell_type": "code",
   "execution_count": 92,
   "id": "68fc7842-09f2-4421-8708-06bd35a54e09",
   "metadata": {},
   "outputs": [
    {
     "data": {
      "text/plain": [
       "0.3015668795662363"
      ]
     },
     "execution_count": 92,
     "metadata": {},
     "output_type": "execute_result"
    }
   ],
   "source": [
    "X_train[X_train['outcome_type'] == 2].shape[0]/X_train.shape[0]"
   ]
  },
  {
   "cell_type": "code",
   "execution_count": 62,
   "id": "82eaa412-e826-4252-b354-a568a7f57d57",
   "metadata": {},
   "outputs": [],
   "source": [
    "def computation_transforms(dataset):\n",
    "    \"\"\" \n",
    "    New Feature Engineering. Default, None...\n",
    "    \"\"\"\n",
    "    \n",
    "    # Date stuff\n",
    "    dataset['datetime'] = pd.to_datetime(dataset['datetime'])\n",
    "    dataset['year'] = dataset['datetime'].dt.year\n",
    "    dataset['month'] = dataset['datetime'].dt.month\n",
    "    dataset['day'] = dataset['datetime'].dt.day\n",
    "    dataset['hour'] = dataset['datetime'].dt.hour\n",
    "    dataset['weekday'] = dataset['datetime'].dt.day_name()\n",
    "    \n",
    "    #age\n",
    "    dataset['date_of_birth'] = pd.to_datetime(dataset['date_of_birth'])\n",
    "    dataset['age'] = (dataset['datetime'] - dataset['date_of_birth']).dt.days\n",
    "    dataset['birth_year'] = dataset['date_of_birth'].dt.year\n",
    "    dataset['birth_month'] = dataset['date_of_birth'].dt.month\n",
    "    # color??\n",
    "    return dataset\n",
    "\n",
    "train = computation_transforms(train)\n",
    "test = computation_transforms(test)"
   ]
  },
  {
   "cell_type": "code",
   "execution_count": 63,
   "id": "1758f8fd-3efa-41ab-b397-6ee913750b79",
   "metadata": {},
   "outputs": [],
   "source": [
    "train['breed_set'] = train['breed'].str.split()\n",
    "test['breed_set'] = test['breed'].str.split()"
   ]
  },
  {
   "cell_type": "markdown",
   "id": "330a7f82-b726-4737-89e8-40989e74f42e",
   "metadata": {},
   "source": [
    "# Train"
   ]
  },
  {
   "cell_type": "code",
   "execution_count": 64,
   "id": "7197d2ca-976e-409c-a030-93d0b9048854",
   "metadata": {},
   "outputs": [
    {
     "data": {
      "text/html": [
       "<div>\n",
       "<style scoped>\n",
       "    .dataframe tbody tr th:only-of-type {\n",
       "        vertical-align: middle;\n",
       "    }\n",
       "\n",
       "    .dataframe tbody tr th {\n",
       "        vertical-align: top;\n",
       "    }\n",
       "\n",
       "    .dataframe thead th {\n",
       "        text-align: right;\n",
       "    }\n",
       "</style>\n",
       "<table border=\"1\" class=\"dataframe\">\n",
       "  <thead>\n",
       "    <tr style=\"text-align: right;\">\n",
       "      <th></th>\n",
       "      <th>id</th>\n",
       "      <th>age_upon_outcome</th>\n",
       "      <th>animal_type</th>\n",
       "      <th>breed</th>\n",
       "      <th>color</th>\n",
       "      <th>date_of_birth</th>\n",
       "      <th>datetime</th>\n",
       "      <th>name</th>\n",
       "      <th>outcome_type</th>\n",
       "      <th>sex</th>\n",
       "      <th>...</th>\n",
       "      <th>num_breed</th>\n",
       "      <th>year</th>\n",
       "      <th>month</th>\n",
       "      <th>day</th>\n",
       "      <th>hour</th>\n",
       "      <th>weekday</th>\n",
       "      <th>age</th>\n",
       "      <th>birth_year</th>\n",
       "      <th>birth_month</th>\n",
       "      <th>breed_set</th>\n",
       "    </tr>\n",
       "  </thead>\n",
       "  <tbody>\n",
       "    <tr>\n",
       "      <th>0</th>\n",
       "      <td>1265</td>\n",
       "      <td>2 years</td>\n",
       "      <td>Cat</td>\n",
       "      <td>russian blue mix</td>\n",
       "      <td>blue</td>\n",
       "      <td>2014-04-21</td>\n",
       "      <td>2016-08-05 14:15:00</td>\n",
       "      <td>Smokey</td>\n",
       "      <td>0</td>\n",
       "      <td>Male</td>\n",
       "      <td>...</td>\n",
       "      <td>1</td>\n",
       "      <td>2016</td>\n",
       "      <td>8</td>\n",
       "      <td>5</td>\n",
       "      <td>14</td>\n",
       "      <td>Friday</td>\n",
       "      <td>837</td>\n",
       "      <td>2014</td>\n",
       "      <td>4</td>\n",
       "      <td>[russian, blue, mix]</td>\n",
       "    </tr>\n",
       "  </tbody>\n",
       "</table>\n",
       "<p>1 rows × 22 columns</p>\n",
       "</div>"
      ],
      "text/plain": [
       "     id age_upon_outcome animal_type             breed color date_of_birth  \\\n",
       "0  1265          2 years         Cat  russian blue mix  blue    2014-04-21   \n",
       "\n",
       "             datetime    name  outcome_type   sex  ... num_breed  year  month  \\\n",
       "0 2016-08-05 14:15:00  Smokey             0  Male  ...         1  2016      8   \n",
       "\n",
       "   day  hour  weekday  age birth_year  birth_month             breed_set  \n",
       "0    5    14   Friday  837       2014            4  [russian, blue, mix]  \n",
       "\n",
       "[1 rows x 22 columns]"
      ]
     },
     "execution_count": 64,
     "metadata": {},
     "output_type": "execute_result"
    }
   ],
   "source": [
    "train.head(1)"
   ]
  },
  {
   "cell_type": "code",
   "execution_count": 65,
   "id": "5eede739-3f79-47e1-b057-084286c24cdd",
   "metadata": {},
   "outputs": [],
   "source": [
    "train['breed_set'] = train['breed'].str.split()"
   ]
  },
  {
   "cell_type": "code",
   "execution_count": 66,
   "id": "8205a972-10ca-4a65-ab27-40a3769917b2",
   "metadata": {},
   "outputs": [
    {
     "data": {
      "text/plain": [
       "Index(['id', 'age_upon_outcome', 'animal_type', 'breed', 'color',\n",
       "       'date_of_birth', 'datetime', 'name', 'outcome_type', 'sex',\n",
       "       'spay_neuter', 'num_colors', 'num_breed', 'year', 'month', 'day',\n",
       "       'hour', 'weekday', 'age', 'birth_year', 'birth_month', 'breed_set'],\n",
       "      dtype='object')"
      ]
     },
     "execution_count": 66,
     "metadata": {},
     "output_type": "execute_result"
    }
   ],
   "source": [
    "train.columns"
   ]
  },
  {
   "cell_type": "code",
   "execution_count": 67,
   "id": "1d2c4c55-1824-4e62-89d3-ffbd8f12f7b8",
   "metadata": {},
   "outputs": [
    {
     "data": {
      "text/plain": [
       "(54408, 22)"
      ]
     },
     "execution_count": 67,
     "metadata": {},
     "output_type": "execute_result"
    }
   ],
   "source": [
    "train.shape"
   ]
  },
  {
   "cell_type": "code",
   "execution_count": 68,
   "id": "6c032117-8c5e-4f8e-a342-16428fc3611d",
   "metadata": {},
   "outputs": [
    {
     "data": {
      "text/html": [
       "<div>\n",
       "<style scoped>\n",
       "    .dataframe tbody tr th:only-of-type {\n",
       "        vertical-align: middle;\n",
       "    }\n",
       "\n",
       "    .dataframe tbody tr th {\n",
       "        vertical-align: top;\n",
       "    }\n",
       "\n",
       "    .dataframe thead th {\n",
       "        text-align: right;\n",
       "    }\n",
       "</style>\n",
       "<table border=\"1\" class=\"dataframe\">\n",
       "  <thead>\n",
       "    <tr style=\"text-align: right;\">\n",
       "      <th></th>\n",
       "      <th>breed_set</th>\n",
       "      <th>outcome_type</th>\n",
       "    </tr>\n",
       "  </thead>\n",
       "  <tbody>\n",
       "    <tr>\n",
       "      <th>0</th>\n",
       "      <td>[russian, blue, mix]</td>\n",
       "      <td>0</td>\n",
       "    </tr>\n",
       "    <tr>\n",
       "      <th>1</th>\n",
       "      <td>[bat, mix]</td>\n",
       "      <td>1</td>\n",
       "    </tr>\n",
       "    <tr>\n",
       "      <th>2</th>\n",
       "      <td>[chihuahua, shorthair/pomeranian]</td>\n",
       "      <td>2</td>\n",
       "    </tr>\n",
       "    <tr>\n",
       "      <th>3</th>\n",
       "      <td>[domestic, shorthair, mix]</td>\n",
       "      <td>2</td>\n",
       "    </tr>\n",
       "    <tr>\n",
       "      <th>4</th>\n",
       "      <td>[rat, terrier, mix]</td>\n",
       "      <td>2</td>\n",
       "    </tr>\n",
       "    <tr>\n",
       "      <th>...</th>\n",
       "      <td>...</td>\n",
       "      <td>...</td>\n",
       "    </tr>\n",
       "    <tr>\n",
       "      <th>54403</th>\n",
       "      <td>[basset, hound, mix]</td>\n",
       "      <td>0</td>\n",
       "    </tr>\n",
       "    <tr>\n",
       "      <th>54404</th>\n",
       "      <td>[pointer/labrador, retriever]</td>\n",
       "      <td>0</td>\n",
       "    </tr>\n",
       "    <tr>\n",
       "      <th>54405</th>\n",
       "      <td>[domestic, shorthair, mix]</td>\n",
       "      <td>2</td>\n",
       "    </tr>\n",
       "    <tr>\n",
       "      <th>54406</th>\n",
       "      <td>[domestic, medium, hair, mix]</td>\n",
       "      <td>0</td>\n",
       "    </tr>\n",
       "    <tr>\n",
       "      <th>54407</th>\n",
       "      <td>[domestic, shorthair, mix]</td>\n",
       "      <td>2</td>\n",
       "    </tr>\n",
       "  </tbody>\n",
       "</table>\n",
       "<p>54408 rows × 2 columns</p>\n",
       "</div>"
      ],
      "text/plain": [
       "                               breed_set  outcome_type\n",
       "0                   [russian, blue, mix]             0\n",
       "1                             [bat, mix]             1\n",
       "2      [chihuahua, shorthair/pomeranian]             2\n",
       "3             [domestic, shorthair, mix]             2\n",
       "4                    [rat, terrier, mix]             2\n",
       "...                                  ...           ...\n",
       "54403               [basset, hound, mix]             0\n",
       "54404      [pointer/labrador, retriever]             0\n",
       "54405         [domestic, shorthair, mix]             2\n",
       "54406      [domestic, medium, hair, mix]             0\n",
       "54407         [domestic, shorthair, mix]             2\n",
       "\n",
       "[54408 rows x 2 columns]"
      ]
     },
     "execution_count": 68,
     "metadata": {},
     "output_type": "execute_result"
    }
   ],
   "source": [
    "train[['breed_set','outcome_type']]"
   ]
  },
  {
   "cell_type": "code",
   "execution_count": 69,
   "id": "0012ba41-cd0a-4553-8d65-7bb989e9e0b0",
   "metadata": {},
   "outputs": [
    {
     "data": {
      "text/plain": [
       "0                              [bat]\n",
       "1         [domestic, shorthair, mix]\n",
       "2           [miniature, poodle, mix]\n",
       "3         [domestic, shorthair, mix]\n",
       "4          [yorkshire, terrier, mix]\n",
       "                    ...             \n",
       "23312    [chihuahua, shorthair, mix]\n",
       "23313     [domestic, shorthair, mix]\n",
       "23314     [domestic, shorthair, mix]\n",
       "23315            [american, bulldog]\n",
       "23316     [domestic, shorthair, mix]\n",
       "Name: breed_set, Length: 23317, dtype: object"
      ]
     },
     "execution_count": 69,
     "metadata": {},
     "output_type": "execute_result"
    }
   ],
   "source": [
    "test['breed_set']"
   ]
  },
  {
   "cell_type": "code",
   "execution_count": 70,
   "id": "d9e5df3d-71cf-479f-a63c-d0555292dcd0",
   "metadata": {},
   "outputs": [],
   "source": [
    "to_drop = ['id','name','age_upon_outcome','datetime','date_of_birth','breed','color']\n",
    "train = train[['breed','outcome_type']] # = train.drop(to_drop,axis=1)\n",
    "test = ['breed']# = test.drop(to_drop,axis=1)"
   ]
  },
  {
   "cell_type": "code",
   "execution_count": 71,
   "id": "7f675c34-4fa8-46b6-8675-cbcbe15fca41",
   "metadata": {},
   "outputs": [
    {
     "data": {
      "text/html": [
       "<div>\n",
       "<style scoped>\n",
       "    .dataframe tbody tr th:only-of-type {\n",
       "        vertical-align: middle;\n",
       "    }\n",
       "\n",
       "    .dataframe tbody tr th {\n",
       "        vertical-align: top;\n",
       "    }\n",
       "\n",
       "    .dataframe thead th {\n",
       "        text-align: right;\n",
       "    }\n",
       "</style>\n",
       "<table border=\"1\" class=\"dataframe\">\n",
       "  <thead>\n",
       "    <tr style=\"text-align: right;\">\n",
       "      <th></th>\n",
       "      <th>breed_set</th>\n",
       "      <th>outcome_type</th>\n",
       "    </tr>\n",
       "  </thead>\n",
       "  <tbody>\n",
       "    <tr>\n",
       "      <th>13371</th>\n",
       "      <td>[irish, wolfhound, mix]</td>\n",
       "      <td>0</td>\n",
       "    </tr>\n",
       "    <tr>\n",
       "      <th>20199</th>\n",
       "      <td>[blue, lacy, mix]</td>\n",
       "      <td>0</td>\n",
       "    </tr>\n",
       "    <tr>\n",
       "      <th>46441</th>\n",
       "      <td>[domestic, shorthair, mix]</td>\n",
       "      <td>0</td>\n",
       "    </tr>\n",
       "    <tr>\n",
       "      <th>16916</th>\n",
       "      <td>[american, bulldog/pit, bull]</td>\n",
       "      <td>0</td>\n",
       "    </tr>\n",
       "    <tr>\n",
       "      <th>14431</th>\n",
       "      <td>[labrador, retriever, mix]</td>\n",
       "      <td>0</td>\n",
       "    </tr>\n",
       "    <tr>\n",
       "      <th>...</th>\n",
       "      <td>...</td>\n",
       "      <td>...</td>\n",
       "    </tr>\n",
       "    <tr>\n",
       "      <th>20182</th>\n",
       "      <td>[labrador, retriever/flat, coat, retriever]</td>\n",
       "      <td>2</td>\n",
       "    </tr>\n",
       "    <tr>\n",
       "      <th>42686</th>\n",
       "      <td>[bat, mix]</td>\n",
       "      <td>1</td>\n",
       "    </tr>\n",
       "    <tr>\n",
       "      <th>30032</th>\n",
       "      <td>[domestic, shorthair, mix]</td>\n",
       "      <td>0</td>\n",
       "    </tr>\n",
       "    <tr>\n",
       "      <th>17780</th>\n",
       "      <td>[manchester, terrier/beagle]</td>\n",
       "      <td>0</td>\n",
       "    </tr>\n",
       "    <tr>\n",
       "      <th>37469</th>\n",
       "      <td>[domestic, shorthair, mix]</td>\n",
       "      <td>1</td>\n",
       "    </tr>\n",
       "  </tbody>\n",
       "</table>\n",
       "<p>10882 rows × 2 columns</p>\n",
       "</div>"
      ],
      "text/plain": [
       "                                         breed_set  outcome_type\n",
       "13371                      [irish, wolfhound, mix]             0\n",
       "20199                            [blue, lacy, mix]             0\n",
       "46441                   [domestic, shorthair, mix]             0\n",
       "16916                [american, bulldog/pit, bull]             0\n",
       "14431                   [labrador, retriever, mix]             0\n",
       "...                                            ...           ...\n",
       "20182  [labrador, retriever/flat, coat, retriever]             2\n",
       "42686                                   [bat, mix]             1\n",
       "30032                   [domestic, shorthair, mix]             0\n",
       "17780                 [manchester, terrier/beagle]             0\n",
       "37469                   [domestic, shorthair, mix]             1\n",
       "\n",
       "[10882 rows x 2 columns]"
      ]
     },
     "execution_count": 71,
     "metadata": {},
     "output_type": "execute_result"
    }
   ],
   "source": [
    "X_test"
   ]
  },
  {
   "cell_type": "code",
   "execution_count": 74,
   "id": "f864ff05-cfc3-481e-826e-8ab6f0451c56",
   "metadata": {},
   "outputs": [],
   "source": [
    "X_train, X_test = train_test_split(train,test_size=0.2, random_state=42)\n",
    "\n",
    "train_tf = tfdf.keras.pd_dataframe_to_tf_dataset(X_train, label=label)\n",
    "test_tf = tfdf.keras.pd_dataframe_to_tf_dataset(X_test, label=label)\n",
    "#predictions = tfdf.keras.pd_dataframe_to_tf_dataset(test)"
   ]
  },
  {
   "cell_type": "code",
   "execution_count": 75,
   "id": "3ffaf223-3001-4bcd-852b-70cb84967122",
   "metadata": {},
   "outputs": [
    {
     "name": "stdout",
     "output_type": "stream",
     "text": [
      "gbt_tune1\n",
      "681/681 [==============================] - 0s 420us/step\n",
      "171/171 [==============================] - 0s 1ms/step - loss: 0.0000e+00 - accuracy: 0.6493\n"
     ]
    }
   ],
   "source": [
    "# A more complex, but possibly, more accurate model.\n",
    "models = {\n",
    "    #'rf_baselines': tfdf.keras.RandomForestModel(),\n",
    "    #'rf_tune1': tfdf.keras.RandomForestModel(hyperparameter_template=\"benchmark_rank1\"),\n",
    "    #'gbt_baselines': tfdf.keras.GradientBoostedTreesModel(),\n",
    "    'gbt_tune1': tfdf.keras.GradientBoostedTreesModel(hyperparameter_template=\"benchmark_rank1\")\n",
    "    }\n",
    "\n",
    "evaluation = {}\n",
    "for key in models:\n",
    "    print(key)\n",
    "    #Evaluate: metric logsloss: BinaryCrossentropy\n",
    "    models[key].compile(metrics=[\"accuracy\"])\n",
    "    \n",
    "    #with sys_pipes():\n",
    "    models[key].fit(x=train_tf)\n",
    "    evaluation[key] = models[key].evaluate(test_tf, return_dict=True)"
   ]
  },
  {
   "cell_type": "code",
   "execution_count": 79,
   "id": "6c3c9c86-5830-45a5-8694-66447a011f29",
   "metadata": {},
   "outputs": [
    {
     "name": "stdout",
     "output_type": "stream",
     "text": [
      "Model: \"gradient_boosted_trees_model_1\"\n",
      "_________________________________________________________________\n",
      "Layer (type)                 Output Shape              Param #   \n",
      "=================================================================\n",
      "Total params: 1\n",
      "Trainable params: 0\n",
      "Non-trainable params: 1\n",
      "_________________________________________________________________\n",
      "Type: \"GRADIENT_BOOSTED_TREES\"\n",
      "Task: CLASSIFICATION\n",
      "Label: \"__LABEL\"\n",
      "\n",
      "Input Features (1):\n",
      "\tbreed\n",
      "\n",
      "No weights\n",
      "\n",
      "Variable Importance: NUM_NODES:\n",
      "    1. \"breed\" 4500.000000 \n",
      "\n",
      "Variable Importance: NUM_AS_ROOT:\n",
      "    1. \"breed\" 150.000000 \n",
      "\n",
      "Variable Importance: SUM_SCORE:\n",
      "    1. \"breed\" 18037.325956 \n",
      "\n",
      "Variable Importance: MEAN_MIN_DEPTH:\n",
      "    1. \"__LABEL\"  5.231613 ################\n",
      "    2.   \"breed\"  0.000000 \n",
      "\n",
      "\n",
      "\n",
      "Loss: MULTINOMIAL_LOG_LIKELIHOOD\n",
      "Validation loss value: 0.717792\n",
      "Number of trees per iteration: 3\n",
      "Node format: NOT_SET\n",
      "Number of trees: 150\n",
      "Total number of nodes: 9150\n",
      "\n",
      "Number of nodes by tree:\n",
      "Count: 150 Average: 61 StdDev: 0\n",
      "Min: 61 Max: 61 Ignored: 0\n",
      "----------------------------------------------\n",
      "[ 61, 61] 150 100.00% 100.00% ##########\n",
      "\n",
      "Depth by leafs:\n",
      "Count: 4650 Average: 5.23161 StdDev: 0.83054\n",
      "Min: 2 Max: 6 Ignored: 0\n",
      "----------------------------------------------\n",
      "[ 2, 3)    9   0.19%   0.19%\n",
      "[ 3, 4)  142   3.05%   3.25% #\n",
      "[ 4, 5)  710  15.27%  18.52% ###\n",
      "[ 5, 6) 1691  36.37%  54.88% ########\n",
      "[ 6, 6] 2098  45.12% 100.00% ##########\n",
      "\n",
      "Number of training obs by leaf:\n",
      "Count: 4650 Average: 0 StdDev: 0\n",
      "Min: 0 Max: 0 Ignored: 0\n",
      "----------------------------------------------\n",
      "[ 0, 0] 4650 100.00% 100.00% ##########\n",
      "\n",
      "Attribute in nodes:\n",
      "\t4500 : breed [CATEGORICAL]\n",
      "\n",
      "Attribute in nodes with depth <= 0:\n",
      "\t150 : breed [CATEGORICAL]\n",
      "\n",
      "Attribute in nodes with depth <= 1:\n",
      "\t450 : breed [CATEGORICAL]\n",
      "\n",
      "Attribute in nodes with depth <= 2:\n",
      "\t1041 : breed [CATEGORICAL]\n",
      "\n",
      "Attribute in nodes with depth <= 3:\n",
      "\t2081 : breed [CATEGORICAL]\n",
      "\n",
      "Attribute in nodes with depth <= 5:\n",
      "\t4500 : breed [CATEGORICAL]\n",
      "\n",
      "Condition type in nodes:\n",
      "\t2674 : ContainsBitmapCondition\n",
      "\t1826 : ContainsCondition\n",
      "Condition type in nodes with depth <= 0:\n",
      "\t150 : ContainsBitmapCondition\n",
      "Condition type in nodes with depth <= 1:\n",
      "\t450 : ContainsBitmapCondition\n",
      "Condition type in nodes with depth <= 2:\n",
      "\t1041 : ContainsBitmapCondition\n",
      "Condition type in nodes with depth <= 3:\n",
      "\t2075 : ContainsBitmapCondition\n",
      "\t6 : ContainsCondition\n",
      "Condition type in nodes with depth <= 5:\n",
      "\t2674 : ContainsBitmapCondition\n",
      "\t1826 : ContainsCondition\n",
      "\n"
     ]
    }
   ],
   "source": [
    "models['gbt_tune1'].summary()"
   ]
  },
  {
   "cell_type": "code",
   "execution_count": 82,
   "id": "121d0f29-b348-4c2a-822a-5088f46d2591",
   "metadata": {},
   "outputs": [],
   "source": [
    "tfdf.model_plotter.plot_model_in_colab(models['gbt_tune1'], tree_idx=1, max_depth=3)\n",
    "plt.show()"
   ]
  },
  {
   "cell_type": "code",
   "execution_count": 78,
   "id": "3a6f7d5c-f214-4d5f-abb9-16515c50c321",
   "metadata": {},
   "outputs": [
    {
     "data": {
      "image/png": "[encoded data removed]",
      "text/plain": [
       "<Figure size 640x480 with 1 Axes>"
      ]
     },
     "metadata": {},
     "output_type": "display_data"
    }
   ],
   "source": [
    "import matplotlib.pyplot as plt\n",
    "\n",
    "logs = models['gbt_tune1'].make_inspector().training_logs()\n",
    "plt.plot([log.num_trees for log in logs], [log.evaluation.accuracy for log in logs])\n",
    "plt.xlabel(\"Number of trees\")\n",
    "plt.ylabel(\"Out-of-bag loss\")\n",
    "plt.show()"
   ]
  },
  {
   "cell_type": "code",
   "execution_count": 76,
   "id": "dab170a0-1953-4d8d-94af-c66d79a511fd",
   "metadata": {},
   "outputs": [
    {
     "data": {
      "text/plain": [
       "{'gbt_tune1': {'loss': 0.0, 'accuracy': 0.6493291854858398}}"
      ]
     },
     "execution_count": 76,
     "metadata": {},
     "output_type": "execute_result"
    }
   ],
   "source": [
    "evaluation"
   ]
  },
  {
   "cell_type": "code",
   "execution_count": 29,
   "id": "dd8fa7a4-7e05-4406-9735-4f375e351765",
   "metadata": {},
   "outputs": [
    {
     "data": {
      "text/plain": [
       "{'gbt_tune1': {'loss': 0.0, 'accuracy': 0.8242970108985901}}"
      ]
     },
     "execution_count": 29,
     "metadata": {},
     "output_type": "execute_result"
    }
   ],
   "source": [
    "evaluation"
   ]
  },
  {
   "cell_type": "code",
   "execution_count": 27,
   "id": "e324edc1-09fc-4101-a1ae-3543652c82fa",
   "metadata": {},
   "outputs": [
    {
     "data": {
      "image/png": "[encoded data removed]",
      "text/plain": [
       "<Figure size 640x480 with 1 Axes>"
      ]
     },
     "metadata": {},
     "output_type": "display_data"
    }
   ],
   "source": [
    "import matplotlib.pyplot as plt\n",
    "\n",
    "logs = models['gbt_tune1'].make_inspector().training_logs()\n",
    "plt.plot([log.num_trees for log in logs], [log.evaluation.loss for log in logs])\n",
    "plt.xlabel(\"Number of trees\")\n",
    "plt.ylabel(\"Out-of-bag loss\")\n",
    "plt.show()"
   ]
  },
  {
   "cell_type": "code",
   "execution_count": 28,
   "id": "fd069393-8fdd-44eb-89c0-97e11d286bdb",
   "metadata": {},
   "outputs": [
    {
     "data": {
      "image/png": "[encoded data removed]",
      "text/plain": [
       "<Figure size 640x480 with 1 Axes>"
      ]
     },
     "metadata": {},
     "output_type": "display_data"
    }
   ],
   "source": [
    "import matplotlib.pyplot as plt\n",
    "\n",
    "logs = models['gbt_tune1'].make_inspector().training_logs()\n",
    "plt.plot([log.num_trees for log in logs], [log.evaluation.accuracy for log in logs])\n",
    "plt.xlabel(\"Number of trees\")\n",
    "plt.ylabel(\"Out-of-bag Accuracy\")\n",
    "plt.show()"
   ]
  },
  {
   "cell_type": "markdown",
   "id": "95a7f4c6-3c99-4225-8857-0b77ea9719ae",
   "metadata": {},
   "source": [
    "# Train on Entire Dataset\n"
   ]
  },
  {
   "cell_type": "code",
   "execution_count": 302,
   "id": "fbbecea1-7055-412b-aec4-e281c73e3400",
   "metadata": {},
   "outputs": [
    {
     "name": "stdout",
     "output_type": "stream",
     "text": [
      "851/851 [==============================] - 1s 1ms/step\n"
     ]
    },
    {
     "data": {
      "text/plain": [
       "<tensorflow.python.keras.callbacks.History at 0x7fe73d34a460>"
      ]
     },
     "execution_count": 302,
     "metadata": {},
     "output_type": "execute_result"
    }
   ],
   "source": [
    "train_tf = tfdf.keras.pd_dataframe_to_tf_dataset(train, label=label)\n",
    "# A more complex, but possibly, more accurate model.\n",
    "models = {\n",
    "    #'rf_baselines': tfdf.keras.RandomForestModel(),\n",
    "    #'rf_tune1': tfdf.keras.RandomForestModel(hyperparameter_template=\"benchmark_rank1\", task = tfdf.keras.Task.REGRESSION),\n",
    "    #'gbt_baselines': tfdf.keras.GradientBoostedTreesModel(task = tfdf.keras.Task.REGRESSION),\n",
    "    'gbt_tune1': tfdf.keras.GradientBoostedTreesModel(hyperparameter_template=\"benchmark_rank1\")\n",
    "    }\n",
    "\n",
    "models['gbt_tune1'].compile(metrics=[\"accuracy\"])\n",
    "models['gbt_tune1'].fit(x=train_tf)"
   ]
  },
  {
   "cell_type": "markdown",
   "id": "fab39120-06c5-42c7-a13f-1084205c04f0",
   "metadata": {},
   "source": [
    "# Predictions"
   ]
  },
  {
   "cell_type": "code",
   "execution_count": 303,
   "id": "50347100-86bd-48d4-9adf-708e994428ef",
   "metadata": {},
   "outputs": [
    {
     "data": {
      "text/plain": [
       "{'gbt_tune1': <tensorflow_decision_forests.keras.GradientBoostedTreesModel at 0x7fe71c57cc40>}"
      ]
     },
     "execution_count": 303,
     "metadata": {},
     "output_type": "execute_result"
    }
   ],
   "source": [
    "models"
   ]
  },
  {
   "cell_type": "code",
   "execution_count": 304,
   "id": "adceb97f-3098-4980-a2c1-b123288a042f",
   "metadata": {},
   "outputs": [],
   "source": [
    "scores = models['gbt_tune1'].predict(predictions)"
   ]
  },
  {
   "cell_type": "code",
   "execution_count": 305,
   "id": "ad36d0ff-3cce-457f-96aa-ef39c05a2cf5",
   "metadata": {},
   "outputs": [],
   "source": [
    "#Label classes: ['adoption', 'no outcome', 'transfer']"
   ]
  },
  {
   "cell_type": "code",
   "execution_count": 306,
   "id": "b218da44-e68f-48de-9368-0edc6ed83bba",
   "metadata": {},
   "outputs": [
    {
     "data": {
      "text/plain": [
       "array([[8.7180000e-04, 9.9736279e-01, 1.7653710e-03],\n",
       "       [2.0946354e-02, 7.1948725e-01, 2.5956640e-01],\n",
       "       [9.3595344e-01, 3.3668408e-03, 6.0679663e-02],\n",
       "       ...,\n",
       "       [3.3661008e-01, 3.5512988e-02, 6.2787688e-01],\n",
       "       [9.6797407e-01, 6.9470480e-03, 2.5078943e-02],\n",
       "       [1.5179572e-01, 8.3186381e-02, 7.6501787e-01]], dtype=float32)"
      ]
     },
     "execution_count": 306,
     "metadata": {},
     "output_type": "execute_result"
    }
   ],
   "source": [
    "scores"
   ]
  },
  {
   "cell_type": "code",
   "execution_count": 307,
   "id": "a314fc3a-ee83-4b58-83df-e5b3466ded97",
   "metadata": {},
   "outputs": [],
   "source": [
    "temp = pd.DataFrame(data=scores, columns=[\"adoption\", \"no outcome\",\"transfer\"])"
   ]
  },
  {
   "cell_type": "code",
   "execution_count": 308,
   "id": "98c36421-29f3-4b7a-bbbf-9a038c563283",
   "metadata": {},
   "outputs": [],
   "source": [
    "temp['id'] = submission.id"
   ]
  },
  {
   "cell_type": "code",
   "execution_count": 309,
   "id": "dc614a6e-efa3-4043-a410-bad44c563d20",
   "metadata": {},
   "outputs": [],
   "source": [
    "temp = temp[['id','adoption','no outcome','transfer']]"
   ]
  },
  {
   "cell_type": "code",
   "execution_count": 310,
   "id": "d070da16-3526-4c24-9095-c1b0572ae60b",
   "metadata": {},
   "outputs": [
    {
     "data": {
      "text/html": [
       "<div>\n",
       "<style scoped>\n",
       "    .dataframe tbody tr th:only-of-type {\n",
       "        vertical-align: middle;\n",
       "    }\n",
       "\n",
       "    .dataframe tbody tr th {\n",
       "        vertical-align: top;\n",
       "    }\n",
       "\n",
       "    .dataframe thead th {\n",
       "        text-align: right;\n",
       "    }\n",
       "</style>\n",
       "<table border=\"1\" class=\"dataframe\">\n",
       "  <thead>\n",
       "    <tr style=\"text-align: right;\">\n",
       "      <th></th>\n",
       "      <th>id</th>\n",
       "      <th>adoption</th>\n",
       "      <th>no outcome</th>\n",
       "      <th>transfer</th>\n",
       "    </tr>\n",
       "  </thead>\n",
       "  <tbody>\n",
       "    <tr>\n",
       "      <th>0</th>\n",
       "      <td>67473</td>\n",
       "      <td>0.000872</td>\n",
       "      <td>0.997363</td>\n",
       "      <td>0.001765</td>\n",
       "    </tr>\n",
       "    <tr>\n",
       "      <th>1</th>\n",
       "      <td>4629</td>\n",
       "      <td>0.020946</td>\n",
       "      <td>0.719487</td>\n",
       "      <td>0.259566</td>\n",
       "    </tr>\n",
       "    <tr>\n",
       "      <th>2</th>\n",
       "      <td>13914</td>\n",
       "      <td>0.935953</td>\n",
       "      <td>0.003367</td>\n",
       "      <td>0.060680</td>\n",
       "    </tr>\n",
       "    <tr>\n",
       "      <th>3</th>\n",
       "      <td>53131</td>\n",
       "      <td>0.093944</td>\n",
       "      <td>0.219680</td>\n",
       "      <td>0.686376</td>\n",
       "    </tr>\n",
       "    <tr>\n",
       "      <th>4</th>\n",
       "      <td>57800</td>\n",
       "      <td>0.585817</td>\n",
       "      <td>0.039921</td>\n",
       "      <td>0.374262</td>\n",
       "    </tr>\n",
       "    <tr>\n",
       "      <th>...</th>\n",
       "      <td>...</td>\n",
       "      <td>...</td>\n",
       "      <td>...</td>\n",
       "      <td>...</td>\n",
       "    </tr>\n",
       "    <tr>\n",
       "      <th>23312</th>\n",
       "      <td>9347</td>\n",
       "      <td>0.903591</td>\n",
       "      <td>0.038790</td>\n",
       "      <td>0.057620</td>\n",
       "    </tr>\n",
       "    <tr>\n",
       "      <th>23313</th>\n",
       "      <td>3781</td>\n",
       "      <td>0.004891</td>\n",
       "      <td>0.022325</td>\n",
       "      <td>0.972784</td>\n",
       "    </tr>\n",
       "    <tr>\n",
       "      <th>23314</th>\n",
       "      <td>74693</td>\n",
       "      <td>0.336610</td>\n",
       "      <td>0.035513</td>\n",
       "      <td>0.627877</td>\n",
       "    </tr>\n",
       "    <tr>\n",
       "      <th>23315</th>\n",
       "      <td>44987</td>\n",
       "      <td>0.967974</td>\n",
       "      <td>0.006947</td>\n",
       "      <td>0.025079</td>\n",
       "    </tr>\n",
       "    <tr>\n",
       "      <th>23316</th>\n",
       "      <td>30993</td>\n",
       "      <td>0.151796</td>\n",
       "      <td>0.083186</td>\n",
       "      <td>0.765018</td>\n",
       "    </tr>\n",
       "  </tbody>\n",
       "</table>\n",
       "<p>23317 rows × 4 columns</p>\n",
       "</div>"
      ],
      "text/plain": [
       "          id  adoption  no outcome  transfer\n",
       "0      67473  0.000872    0.997363  0.001765\n",
       "1       4629  0.020946    0.719487  0.259566\n",
       "2      13914  0.935953    0.003367  0.060680\n",
       "3      53131  0.093944    0.219680  0.686376\n",
       "4      57800  0.585817    0.039921  0.374262\n",
       "...      ...       ...         ...       ...\n",
       "23312   9347  0.903591    0.038790  0.057620\n",
       "23313   3781  0.004891    0.022325  0.972784\n",
       "23314  74693  0.336610    0.035513  0.627877\n",
       "23315  44987  0.967974    0.006947  0.025079\n",
       "23316  30993  0.151796    0.083186  0.765018\n",
       "\n",
       "[23317 rows x 4 columns]"
      ]
     },
     "execution_count": 310,
     "metadata": {},
     "output_type": "execute_result"
    }
   ],
   "source": [
    "temp"
   ]
  },
  {
   "cell_type": "code",
   "execution_count": 311,
   "id": "6d2d6579-b6ce-4a74-b65e-6f03f2fe5312",
   "metadata": {},
   "outputs": [],
   "source": [
    "temp['no outcome'] = np.where(temp['no outcome'] > .96, 1, temp['no outcome'])\n",
    "temp['adoption'] = np.where(temp['no outcome'] == 1, 0, temp['adoption'])\n",
    "temp['transfer'] = np.where(temp['no outcome'] == 1, 0, temp['transfer'])"
   ]
  },
  {
   "cell_type": "code",
   "execution_count": 312,
   "id": "7973d6cd-447d-4cba-be2f-087ed687c8be",
   "metadata": {},
   "outputs": [],
   "source": [
    "temp['adoption'] = np.where(temp['adoption'] > .96, 1, temp['adoption'])\n",
    "temp['no outcome'] = np.where(temp['adoption'] == 1, 0, temp['no outcome'])\n",
    "temp['transfer'] = np.where(temp['adoption'] == 1, 0, temp['transfer'])"
   ]
  },
  {
   "cell_type": "code",
   "execution_count": 313,
   "id": "8ad64b7e-309a-4832-a89e-f43b6dbb3492",
   "metadata": {},
   "outputs": [],
   "source": [
    "temp['transfer'] = np.where(temp['transfer'] > .96, 1, temp['transfer'])\n",
    "temp['adoption'] = np.where(temp['transfer'] == 1, 0, temp['adoption'])\n",
    "temp['no outcome'] = np.where(temp['transfer'] == 1, 0, temp['no outcome'])"
   ]
  },
  {
   "cell_type": "code",
   "execution_count": 314,
   "id": "af3ef058-b6e7-4ad4-8bc9-d745f933278e",
   "metadata": {},
   "outputs": [],
   "source": [
    "temp.to_csv('submission.csv', index=False)"
   ]
  },
  {
   "cell_type": "code",
   "execution_count": 316,
   "id": "5382d4c7-0a60-4fa2-ba23-3920bc1000bd",
   "metadata": {},
   "outputs": [
    {
     "name": "stdout",
     "output_type": "stream",
     "text": [
      "Warning: Your Kaggle API key is readable by other users on this system! To fix this, you can run 'chmod 600 /home/neil/kaggle/kaggle.json'\n",
      "Warning: Looks like you're using an outdated API Version, please consider updating (server 1.5.12 / client 1.5.8)\n",
      "100%|█████████████████████████████████████████| 779k/779k [00:00<00:00, 850kB/s]\n",
      "400 - Bad Request\n"
     ]
    }
   ],
   "source": [
    "!kaggle competitions submit -c sliced-s01e10-playoffs-2 -f submission.csv -m \"Best With Names with outcome updates\""
   ]
  },
  {
   "cell_type": "code",
   "execution_count": null,
   "id": "bb8bc1b2-ca02-4634-ab9d-3d67d8d2fa63",
   "metadata": {},
   "outputs": [],
   "source": []
  }
 ],
 "metadata": {
  "kernelspec": {
   "display_name": "ds_py_3.8",
   "language": "python",
   "name": "ds_py_3.8"
  },
  "language_info": {
   "codemirror_mode": {
    "name": "ipython",
    "version": 3
   },
   "file_extension": ".py",
   "mimetype": "text/x-python",
   "name": "python",
   "nbconvert_exporter": "python",
   "pygments_lexer": "ipython3",
   "version": "3.8.10"
  }
 },
 "nbformat": 4,
 "nbformat_minor": 5
}
