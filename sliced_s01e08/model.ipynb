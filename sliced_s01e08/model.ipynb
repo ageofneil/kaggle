{
 "cells": [
  {
   "cell_type": "code",
   "execution_count": 1,
   "id": "911b3c76-0f8b-4a68-b911-c69b6151de73",
   "metadata": {},
   "outputs": [],
   "source": [
    "# Guide: https://www.tensorflow.org/decision_forests/tutorials/beginner_colab"
   ]
  },
  {
   "cell_type": "code",
   "execution_count": 695,
   "id": "8ee0b96a-088e-4c0b-899a-605384c59bde",
   "metadata": {},
   "outputs": [],
   "source": [
    "# Standard stack\n",
    "import datetime\n",
    "import pandas as pd\n",
    "import numpy as np\n",
    "from datetime import date\n",
    "import re\n",
    "\n",
    "# Visualization\n",
    "from pandas_profiling import ProfileReport\n",
    "#import plotly.express as px\n",
    "import matplotlib.pyplot as plt\n",
    "import seaborn as sns\n",
    "\n",
    "# Modeling\n",
    "import tensorflow as tf\n",
    "import tensorflow_decision_forests as tfdf\n",
    "try:\n",
    "    from wurlitzer import sys_pipes\n",
    "except:\n",
    "    from colabtools.googlelog import CaptureLog as sys_pipes\n",
    "\n",
    "# Scikit-learn packages\n",
    "from sklearn import metrics\n",
    "from sklearn.model_selection import train_test_split\n",
    "from sklearn.impute import SimpleImputer\n",
    "from sklearn.pipeline import Pipeline\n",
    "from sklearn.preprocessing import StandardScaler, OneHotEncoder, FunctionTransformer, OrdinalEncoder\n",
    "from sklearn.compose import ColumnTransformer\n",
    "from sklearn.model_selection import KFold\n",
    "\n",
    "# display\n",
    "from IPython.core.magic import register_line_magic\n",
    "from IPython.display import Javascript"
   ]
  },
  {
   "cell_type": "markdown",
   "id": "85626ca8-048a-4e79-a98c-0df491bae731",
   "metadata": {},
   "source": [
    "# Constants"
   ]
  },
  {
   "cell_type": "code",
   "execution_count": 696,
   "id": "95484130-439f-4ba4-afc1-8259b1dc8687",
   "metadata": {},
   "outputs": [],
   "source": [
    "TRAIN_PATH = \"data/train.csv\"\n",
    "TEST_PATH = \"data/test.csv\"\n",
    "META_PATH = \"data/artists.csv\"\n",
    "label = \"popularity_song\""
   ]
  },
  {
   "cell_type": "markdown",
   "id": "c7514a11-496b-4315-8acb-e9ffffa413ed",
   "metadata": {},
   "source": [
    "# Load Data"
   ]
  },
  {
   "cell_type": "code",
   "execution_count": 697,
   "id": "d0d7e48a-10a6-45d2-8da7-284b82c7b37d",
   "metadata": {},
   "outputs": [],
   "source": [
    "train = pd.read_csv(TRAIN_PATH)\n",
    "test = pd.read_csv(TEST_PATH)\n",
    "meta = pd.read_csv(META_PATH)\n",
    "submission = pd.read_csv(TEST_PATH)"
   ]
  },
  {
   "cell_type": "code",
   "execution_count": 698,
   "id": "365a8f4b-4933-4a4a-bb1f-56b44660add3",
   "metadata": {},
   "outputs": [
    {
     "data": {
      "text/html": [
       "<div>\n",
       "<style scoped>\n",
       "    .dataframe tbody tr th:only-of-type {\n",
       "        vertical-align: middle;\n",
       "    }\n",
       "\n",
       "    .dataframe tbody tr th {\n",
       "        vertical-align: top;\n",
       "    }\n",
       "\n",
       "    .dataframe thead th {\n",
       "        text-align: right;\n",
       "    }\n",
       "</style>\n",
       "<table border=\"1\" class=\"dataframe\">\n",
       "  <thead>\n",
       "    <tr style=\"text-align: right;\">\n",
       "      <th></th>\n",
       "      <th>id</th>\n",
       "      <th>followers</th>\n",
       "      <th>genres</th>\n",
       "      <th>name</th>\n",
       "      <th>popularity</th>\n",
       "    </tr>\n",
       "  </thead>\n",
       "  <tbody>\n",
       "    <tr>\n",
       "      <th>0</th>\n",
       "      <td>55CXG5KDJpRYwBopfYAJHa</td>\n",
       "      <td>21756</td>\n",
       "      <td>['country blues', 'country rock', 'piedmont bl...</td>\n",
       "      <td>Jorma Kaukonen</td>\n",
       "      <td>40</td>\n",
       "    </tr>\n",
       "    <tr>\n",
       "      <th>1</th>\n",
       "      <td>08mjMUUjyTchMHCW7evc3R</td>\n",
       "      <td>640993</td>\n",
       "      <td>['turkish pop']</td>\n",
       "      <td>Hande Yener</td>\n",
       "      <td>62</td>\n",
       "    </tr>\n",
       "    <tr>\n",
       "      <th>2</th>\n",
       "      <td>3Ebn7mKYzD0L3DaUB1gNJZ</td>\n",
       "      <td>161509</td>\n",
       "      <td>['celtic', 'irish folk']</td>\n",
       "      <td>Christy Moore</td>\n",
       "      <td>56</td>\n",
       "    </tr>\n",
       "    <tr>\n",
       "      <th>3</th>\n",
       "      <td>7GfaHcpmNcrcHoyGnOBsAz</td>\n",
       "      <td>9578</td>\n",
       "      <td>['kindermusik', 'kleine hoerspiel']</td>\n",
       "      <td>Die Biene Maja</td>\n",
       "      <td>56</td>\n",
       "    </tr>\n",
       "    <tr>\n",
       "      <th>4</th>\n",
       "      <td>1DYXGLnfNDt8mO2aK9k83j</td>\n",
       "      <td>48876</td>\n",
       "      <td>['opm', 'vispop']</td>\n",
       "      <td>Jay-R Siaboc</td>\n",
       "      <td>39</td>\n",
       "    </tr>\n",
       "  </tbody>\n",
       "</table>\n",
       "</div>"
      ],
      "text/plain": [
       "                       id  followers  \\\n",
       "0  55CXG5KDJpRYwBopfYAJHa      21756   \n",
       "1  08mjMUUjyTchMHCW7evc3R     640993   \n",
       "2  3Ebn7mKYzD0L3DaUB1gNJZ     161509   \n",
       "3  7GfaHcpmNcrcHoyGnOBsAz       9578   \n",
       "4  1DYXGLnfNDt8mO2aK9k83j      48876   \n",
       "\n",
       "                                              genres            name  \\\n",
       "0  ['country blues', 'country rock', 'piedmont bl...  Jorma Kaukonen   \n",
       "1                                    ['turkish pop']     Hande Yener   \n",
       "2                           ['celtic', 'irish folk']   Christy Moore   \n",
       "3                ['kindermusik', 'kleine hoerspiel']  Die Biene Maja   \n",
       "4                                  ['opm', 'vispop']    Jay-R Siaboc   \n",
       "\n",
       "   popularity  \n",
       "0          40  \n",
       "1          62  \n",
       "2          56  \n",
       "3          56  \n",
       "4          39  "
      ]
     },
     "execution_count": 698,
     "metadata": {},
     "output_type": "execute_result"
    }
   ],
   "source": [
    "meta.head()"
   ]
  },
  {
   "cell_type": "code",
   "execution_count": 699,
   "id": "c6a88125-1779-40a0-a487-d1fcdc55101e",
   "metadata": {},
   "outputs": [
    {
     "name": "stderr",
     "output_type": "stream",
     "text": [
      "<ipython-input-699-d177e6fc90d4>:1: FutureWarning: The default value of regex will change from True to False in a future version. In addition, single character regular expressions will*not* be treated as literal strings when regex=True.\n",
      "  meta['genres'] = meta['genres'].str.replace(\"[\", '')\n",
      "<ipython-input-699-d177e6fc90d4>:2: FutureWarning: The default value of regex will change from True to False in a future version. In addition, single character regular expressions will*not* be treated as literal strings when regex=True.\n",
      "  meta['genres'] = meta['genres'].str.replace(\"]\", '')\n"
     ]
    }
   ],
   "source": [
    "meta['genres'] = meta['genres'].str.replace(\"[\", '')\n",
    "meta['genres'] = meta['genres'].str.replace(\"]\", '')\n",
    "meta['genres'] = meta['genres'].str.replace(\"'\", '')\n",
    "meta['num_genres'] = meta['genres'].apply(lambda x: len(str(x).split(',')))"
   ]
  },
  {
   "cell_type": "code",
   "execution_count": 700,
   "id": "818b48e0-a62a-4e07-b0db-83a1f2a534e1",
   "metadata": {},
   "outputs": [],
   "source": [
    "new = meta[\"genres\"].str.split(\",\",expand = True)"
   ]
  },
  {
   "cell_type": "code",
   "execution_count": 701,
   "id": "ea142e9a-45c7-4b9f-a760-bd2cac0354ab",
   "metadata": {},
   "outputs": [],
   "source": [
    "new = new.rename(columns={0:'0',1:'1',2:'2',3:'3',4:'4',5:'5',6:'6',7:'7',8:'8',9:'9',10:'10',11:'11',12:'12',13:'13',14:'14',15:'15',16:'16'})"
   ]
  },
  {
   "cell_type": "code",
   "execution_count": 702,
   "id": "f84bb895-abb6-4975-bfe0-22b068553d62",
   "metadata": {},
   "outputs": [],
   "source": [
    "meta = pd.concat([meta,new], axis=1)"
   ]
  },
  {
   "cell_type": "code",
   "execution_count": 703,
   "id": "374f015f-d662-49de-9384-bff473b5aff2",
   "metadata": {},
   "outputs": [
    {
     "data": {
      "text/html": [
       "<div>\n",
       "<style scoped>\n",
       "    .dataframe tbody tr th:only-of-type {\n",
       "        vertical-align: middle;\n",
       "    }\n",
       "\n",
       "    .dataframe tbody tr th {\n",
       "        vertical-align: top;\n",
       "    }\n",
       "\n",
       "    .dataframe thead th {\n",
       "        text-align: right;\n",
       "    }\n",
       "</style>\n",
       "<table border=\"1\" class=\"dataframe\">\n",
       "  <thead>\n",
       "    <tr style=\"text-align: right;\">\n",
       "      <th></th>\n",
       "      <th>id</th>\n",
       "      <th>followers</th>\n",
       "      <th>genres</th>\n",
       "      <th>name</th>\n",
       "      <th>popularity</th>\n",
       "      <th>num_genres</th>\n",
       "      <th>0</th>\n",
       "      <th>1</th>\n",
       "      <th>2</th>\n",
       "      <th>3</th>\n",
       "      <th>...</th>\n",
       "      <th>7</th>\n",
       "      <th>8</th>\n",
       "      <th>9</th>\n",
       "      <th>10</th>\n",
       "      <th>11</th>\n",
       "      <th>12</th>\n",
       "      <th>13</th>\n",
       "      <th>14</th>\n",
       "      <th>15</th>\n",
       "      <th>16</th>\n",
       "    </tr>\n",
       "  </thead>\n",
       "  <tbody>\n",
       "    <tr>\n",
       "      <th>0</th>\n",
       "      <td>55CXG5KDJpRYwBopfYAJHa</td>\n",
       "      <td>21756</td>\n",
       "      <td>country blues, country rock, piedmont blues</td>\n",
       "      <td>Jorma Kaukonen</td>\n",
       "      <td>40</td>\n",
       "      <td>3</td>\n",
       "      <td>country blues</td>\n",
       "      <td>country rock</td>\n",
       "      <td>piedmont blues</td>\n",
       "      <td>None</td>\n",
       "      <td>...</td>\n",
       "      <td>None</td>\n",
       "      <td>None</td>\n",
       "      <td>None</td>\n",
       "      <td>None</td>\n",
       "      <td>None</td>\n",
       "      <td>None</td>\n",
       "      <td>None</td>\n",
       "      <td>None</td>\n",
       "      <td>None</td>\n",
       "      <td>None</td>\n",
       "    </tr>\n",
       "    <tr>\n",
       "      <th>1</th>\n",
       "      <td>08mjMUUjyTchMHCW7evc3R</td>\n",
       "      <td>640993</td>\n",
       "      <td>turkish pop</td>\n",
       "      <td>Hande Yener</td>\n",
       "      <td>62</td>\n",
       "      <td>1</td>\n",
       "      <td>turkish pop</td>\n",
       "      <td>None</td>\n",
       "      <td>None</td>\n",
       "      <td>None</td>\n",
       "      <td>...</td>\n",
       "      <td>None</td>\n",
       "      <td>None</td>\n",
       "      <td>None</td>\n",
       "      <td>None</td>\n",
       "      <td>None</td>\n",
       "      <td>None</td>\n",
       "      <td>None</td>\n",
       "      <td>None</td>\n",
       "      <td>None</td>\n",
       "      <td>None</td>\n",
       "    </tr>\n",
       "    <tr>\n",
       "      <th>2</th>\n",
       "      <td>3Ebn7mKYzD0L3DaUB1gNJZ</td>\n",
       "      <td>161509</td>\n",
       "      <td>celtic, irish folk</td>\n",
       "      <td>Christy Moore</td>\n",
       "      <td>56</td>\n",
       "      <td>2</td>\n",
       "      <td>celtic</td>\n",
       "      <td>irish folk</td>\n",
       "      <td>None</td>\n",
       "      <td>None</td>\n",
       "      <td>...</td>\n",
       "      <td>None</td>\n",
       "      <td>None</td>\n",
       "      <td>None</td>\n",
       "      <td>None</td>\n",
       "      <td>None</td>\n",
       "      <td>None</td>\n",
       "      <td>None</td>\n",
       "      <td>None</td>\n",
       "      <td>None</td>\n",
       "      <td>None</td>\n",
       "    </tr>\n",
       "    <tr>\n",
       "      <th>3</th>\n",
       "      <td>7GfaHcpmNcrcHoyGnOBsAz</td>\n",
       "      <td>9578</td>\n",
       "      <td>kindermusik, kleine hoerspiel</td>\n",
       "      <td>Die Biene Maja</td>\n",
       "      <td>56</td>\n",
       "      <td>2</td>\n",
       "      <td>kindermusik</td>\n",
       "      <td>kleine hoerspiel</td>\n",
       "      <td>None</td>\n",
       "      <td>None</td>\n",
       "      <td>...</td>\n",
       "      <td>None</td>\n",
       "      <td>None</td>\n",
       "      <td>None</td>\n",
       "      <td>None</td>\n",
       "      <td>None</td>\n",
       "      <td>None</td>\n",
       "      <td>None</td>\n",
       "      <td>None</td>\n",
       "      <td>None</td>\n",
       "      <td>None</td>\n",
       "    </tr>\n",
       "    <tr>\n",
       "      <th>4</th>\n",
       "      <td>1DYXGLnfNDt8mO2aK9k83j</td>\n",
       "      <td>48876</td>\n",
       "      <td>opm, vispop</td>\n",
       "      <td>Jay-R Siaboc</td>\n",
       "      <td>39</td>\n",
       "      <td>2</td>\n",
       "      <td>opm</td>\n",
       "      <td>vispop</td>\n",
       "      <td>None</td>\n",
       "      <td>None</td>\n",
       "      <td>...</td>\n",
       "      <td>None</td>\n",
       "      <td>None</td>\n",
       "      <td>None</td>\n",
       "      <td>None</td>\n",
       "      <td>None</td>\n",
       "      <td>None</td>\n",
       "      <td>None</td>\n",
       "      <td>None</td>\n",
       "      <td>None</td>\n",
       "      <td>None</td>\n",
       "    </tr>\n",
       "    <tr>\n",
       "      <th>...</th>\n",
       "      <td>...</td>\n",
       "      <td>...</td>\n",
       "      <td>...</td>\n",
       "      <td>...</td>\n",
       "      <td>...</td>\n",
       "      <td>...</td>\n",
       "      <td>...</td>\n",
       "      <td>...</td>\n",
       "      <td>...</td>\n",
       "      <td>...</td>\n",
       "      <td>...</td>\n",
       "      <td>...</td>\n",
       "      <td>...</td>\n",
       "      <td>...</td>\n",
       "      <td>...</td>\n",
       "      <td>...</td>\n",
       "      <td>...</td>\n",
       "      <td>...</td>\n",
       "      <td>...</td>\n",
       "      <td>...</td>\n",
       "      <td>...</td>\n",
       "    </tr>\n",
       "    <tr>\n",
       "      <th>17713</th>\n",
       "      <td>0qU8UdzIf1I2ZxyI5OHdut</td>\n",
       "      <td>1458</td>\n",
       "      <td></td>\n",
       "      <td>Josef Strauss</td>\n",
       "      <td>35</td>\n",
       "      <td>1</td>\n",
       "      <td></td>\n",
       "      <td>None</td>\n",
       "      <td>None</td>\n",
       "      <td>None</td>\n",
       "      <td>...</td>\n",
       "      <td>None</td>\n",
       "      <td>None</td>\n",
       "      <td>None</td>\n",
       "      <td>None</td>\n",
       "      <td>None</td>\n",
       "      <td>None</td>\n",
       "      <td>None</td>\n",
       "      <td>None</td>\n",
       "      <td>None</td>\n",
       "      <td>None</td>\n",
       "    </tr>\n",
       "    <tr>\n",
       "      <th>17714</th>\n",
       "      <td>5Z4mEhHsWHyS10omStJ81u</td>\n",
       "      <td>25718</td>\n",
       "      <td>classic greek rock</td>\n",
       "      <td>Pavlos Sidiropoulos</td>\n",
       "      <td>38</td>\n",
       "      <td>1</td>\n",
       "      <td>classic greek rock</td>\n",
       "      <td>None</td>\n",
       "      <td>None</td>\n",
       "      <td>None</td>\n",
       "      <td>...</td>\n",
       "      <td>None</td>\n",
       "      <td>None</td>\n",
       "      <td>None</td>\n",
       "      <td>None</td>\n",
       "      <td>None</td>\n",
       "      <td>None</td>\n",
       "      <td>None</td>\n",
       "      <td>None</td>\n",
       "      <td>None</td>\n",
       "      <td>None</td>\n",
       "    </tr>\n",
       "    <tr>\n",
       "      <th>17715</th>\n",
       "      <td>6OAUJXe2dPNUp5eMkh1ErT</td>\n",
       "      <td>224</td>\n",
       "      <td>indie boliviano</td>\n",
       "      <td>H3O</td>\n",
       "      <td>19</td>\n",
       "      <td>1</td>\n",
       "      <td>indie boliviano</td>\n",
       "      <td>None</td>\n",
       "      <td>None</td>\n",
       "      <td>None</td>\n",
       "      <td>...</td>\n",
       "      <td>None</td>\n",
       "      <td>None</td>\n",
       "      <td>None</td>\n",
       "      <td>None</td>\n",
       "      <td>None</td>\n",
       "      <td>None</td>\n",
       "      <td>None</td>\n",
       "      <td>None</td>\n",
       "      <td>None</td>\n",
       "      <td>None</td>\n",
       "    </tr>\n",
       "    <tr>\n",
       "      <th>17716</th>\n",
       "      <td>786hGmAEXHUeCdKPAj3JIa</td>\n",
       "      <td>178395</td>\n",
       "      <td>jawaiian, nz hip hop, nz reggae, polynesian pop</td>\n",
       "      <td>Katchafire</td>\n",
       "      <td>57</td>\n",
       "      <td>4</td>\n",
       "      <td>jawaiian</td>\n",
       "      <td>nz hip hop</td>\n",
       "      <td>nz reggae</td>\n",
       "      <td>polynesian pop</td>\n",
       "      <td>...</td>\n",
       "      <td>None</td>\n",
       "      <td>None</td>\n",
       "      <td>None</td>\n",
       "      <td>None</td>\n",
       "      <td>None</td>\n",
       "      <td>None</td>\n",
       "      <td>None</td>\n",
       "      <td>None</td>\n",
       "      <td>None</td>\n",
       "      <td>None</td>\n",
       "    </tr>\n",
       "    <tr>\n",
       "      <th>17717</th>\n",
       "      <td>35Pl23PiL1gVai8BuRVRmj</td>\n",
       "      <td>42</td>\n",
       "      <td></td>\n",
       "      <td>Choeur des Bénédictins de l'Abbaye de Kergonan</td>\n",
       "      <td>35</td>\n",
       "      <td>1</td>\n",
       "      <td></td>\n",
       "      <td>None</td>\n",
       "      <td>None</td>\n",
       "      <td>None</td>\n",
       "      <td>...</td>\n",
       "      <td>None</td>\n",
       "      <td>None</td>\n",
       "      <td>None</td>\n",
       "      <td>None</td>\n",
       "      <td>None</td>\n",
       "      <td>None</td>\n",
       "      <td>None</td>\n",
       "      <td>None</td>\n",
       "      <td>None</td>\n",
       "      <td>None</td>\n",
       "    </tr>\n",
       "  </tbody>\n",
       "</table>\n",
       "<p>17718 rows × 23 columns</p>\n",
       "</div>"
      ],
      "text/plain": [
       "                           id  followers  \\\n",
       "0      55CXG5KDJpRYwBopfYAJHa      21756   \n",
       "1      08mjMUUjyTchMHCW7evc3R     640993   \n",
       "2      3Ebn7mKYzD0L3DaUB1gNJZ     161509   \n",
       "3      7GfaHcpmNcrcHoyGnOBsAz       9578   \n",
       "4      1DYXGLnfNDt8mO2aK9k83j      48876   \n",
       "...                       ...        ...   \n",
       "17713  0qU8UdzIf1I2ZxyI5OHdut       1458   \n",
       "17714  5Z4mEhHsWHyS10omStJ81u      25718   \n",
       "17715  6OAUJXe2dPNUp5eMkh1ErT        224   \n",
       "17716  786hGmAEXHUeCdKPAj3JIa     178395   \n",
       "17717  35Pl23PiL1gVai8BuRVRmj         42   \n",
       "\n",
       "                                                genres  \\\n",
       "0          country blues, country rock, piedmont blues   \n",
       "1                                          turkish pop   \n",
       "2                                   celtic, irish folk   \n",
       "3                        kindermusik, kleine hoerspiel   \n",
       "4                                          opm, vispop   \n",
       "...                                                ...   \n",
       "17713                                                    \n",
       "17714                               classic greek rock   \n",
       "17715                                  indie boliviano   \n",
       "17716  jawaiian, nz hip hop, nz reggae, polynesian pop   \n",
       "17717                                                    \n",
       "\n",
       "                                                 name  popularity  num_genres  \\\n",
       "0                                      Jorma Kaukonen          40           3   \n",
       "1                                         Hande Yener          62           1   \n",
       "2                                       Christy Moore          56           2   \n",
       "3                                      Die Biene Maja          56           2   \n",
       "4                                        Jay-R Siaboc          39           2   \n",
       "...                                               ...         ...         ...   \n",
       "17713                                   Josef Strauss          35           1   \n",
       "17714                             Pavlos Sidiropoulos          38           1   \n",
       "17715                                             H3O          19           1   \n",
       "17716                                      Katchafire          57           4   \n",
       "17717  Choeur des Bénédictins de l'Abbaye de Kergonan          35           1   \n",
       "\n",
       "                        0                  1                2  \\\n",
       "0           country blues       country rock   piedmont blues   \n",
       "1             turkish pop               None             None   \n",
       "2                  celtic         irish folk             None   \n",
       "3             kindermusik   kleine hoerspiel             None   \n",
       "4                     opm             vispop             None   \n",
       "...                   ...                ...              ...   \n",
       "17713                                   None             None   \n",
       "17714  classic greek rock               None             None   \n",
       "17715     indie boliviano               None             None   \n",
       "17716            jawaiian         nz hip hop        nz reggae   \n",
       "17717                                   None             None   \n",
       "\n",
       "                     3  ...     7     8     9    10    11    12    13    14  \\\n",
       "0                 None  ...  None  None  None  None  None  None  None  None   \n",
       "1                 None  ...  None  None  None  None  None  None  None  None   \n",
       "2                 None  ...  None  None  None  None  None  None  None  None   \n",
       "3                 None  ...  None  None  None  None  None  None  None  None   \n",
       "4                 None  ...  None  None  None  None  None  None  None  None   \n",
       "...                ...  ...   ...   ...   ...   ...   ...   ...   ...   ...   \n",
       "17713             None  ...  None  None  None  None  None  None  None  None   \n",
       "17714             None  ...  None  None  None  None  None  None  None  None   \n",
       "17715             None  ...  None  None  None  None  None  None  None  None   \n",
       "17716   polynesian pop  ...  None  None  None  None  None  None  None  None   \n",
       "17717             None  ...  None  None  None  None  None  None  None  None   \n",
       "\n",
       "         15    16  \n",
       "0      None  None  \n",
       "1      None  None  \n",
       "2      None  None  \n",
       "3      None  None  \n",
       "4      None  None  \n",
       "...     ...   ...  \n",
       "17713  None  None  \n",
       "17714  None  None  \n",
       "17715  None  None  \n",
       "17716  None  None  \n",
       "17717  None  None  \n",
       "\n",
       "[17718 rows x 23 columns]"
      ]
     },
     "execution_count": 703,
     "metadata": {},
     "output_type": "execute_result"
    }
   ],
   "source": [
    "meta"
   ]
  },
  {
   "cell_type": "code",
   "execution_count": 704,
   "id": "55f8ebd4-81b5-42d2-a7a9-502abb764113",
   "metadata": {},
   "outputs": [
    {
     "name": "stderr",
     "output_type": "stream",
     "text": [
      "<ipython-input-704-d6b09a84bd94>:3: FutureWarning: The default value of regex will change from True to False in a future version. In addition, single character regular expressions will*not* be treated as literal strings when regex=True.\n",
      "  dataset1['id_artists'] = dataset1['id_artists'].str.replace(\"[\", '')\n",
      "<ipython-input-704-d6b09a84bd94>:4: FutureWarning: The default value of regex will change from True to False in a future version. In addition, single character regular expressions will*not* be treated as literal strings when regex=True.\n",
      "  dataset1['id_artists'] = dataset1['id_artists'].str.replace(\"]\", '')\n"
     ]
    }
   ],
   "source": [
    "# Join Artists\n",
    "def join_metadata(dataset1, dataset2):\n",
    "    dataset1['id_artists'] = dataset1['id_artists'].str.replace(\"[\", '')\n",
    "    dataset1['id_artists'] = dataset1['id_artists'].str.replace(\"]\", '')\n",
    "    dataset1['id_artists'] = dataset1['id_artists'].str.replace(\"'\", '')\n",
    "    dataset1 = dataset1.merge(dataset2, left_on='id_artists', right_on='id', how='left', suffixes=('_song', '_artists'))\n",
    "    return dataset1\n",
    "\n",
    "train = join_metadata(train, meta)\n",
    "test = join_metadata(test, meta)"
   ]
  },
  {
   "cell_type": "code",
   "execution_count": 705,
   "id": "32c801b3-d173-41f4-9fdc-11ea83ff1541",
   "metadata": {},
   "outputs": [
    {
     "data": {
      "text/html": [
       "<div>\n",
       "<style scoped>\n",
       "    .dataframe tbody tr th:only-of-type {\n",
       "        vertical-align: middle;\n",
       "    }\n",
       "\n",
       "    .dataframe tbody tr th {\n",
       "        vertical-align: top;\n",
       "    }\n",
       "\n",
       "    .dataframe thead th {\n",
       "        text-align: right;\n",
       "    }\n",
       "</style>\n",
       "<table border=\"1\" class=\"dataframe\">\n",
       "  <thead>\n",
       "    <tr style=\"text-align: right;\">\n",
       "      <th></th>\n",
       "      <th>id_song</th>\n",
       "      <th>name_song</th>\n",
       "      <th>popularity_song</th>\n",
       "      <th>duration_ms</th>\n",
       "      <th>artists</th>\n",
       "      <th>id_artists</th>\n",
       "      <th>danceability</th>\n",
       "      <th>energy</th>\n",
       "      <th>key</th>\n",
       "      <th>loudness</th>\n",
       "      <th>...</th>\n",
       "      <th>7</th>\n",
       "      <th>8</th>\n",
       "      <th>9</th>\n",
       "      <th>10</th>\n",
       "      <th>11</th>\n",
       "      <th>12</th>\n",
       "      <th>13</th>\n",
       "      <th>14</th>\n",
       "      <th>15</th>\n",
       "      <th>16</th>\n",
       "    </tr>\n",
       "  </thead>\n",
       "  <tbody>\n",
       "    <tr>\n",
       "      <th>0</th>\n",
       "      <td>269</td>\n",
       "      <td>blun7 a swishland</td>\n",
       "      <td>63</td>\n",
       "      <td>167760.0</td>\n",
       "      <td>['tha Supreme']</td>\n",
       "      <td>19i93sA0D7yS9dYoVNBqAA</td>\n",
       "      <td>0.692</td>\n",
       "      <td>0.792</td>\n",
       "      <td>7</td>\n",
       "      <td>-5.984</td>\n",
       "      <td>...</td>\n",
       "      <td>None</td>\n",
       "      <td>None</td>\n",
       "      <td>None</td>\n",
       "      <td>None</td>\n",
       "      <td>None</td>\n",
       "      <td>None</td>\n",
       "      <td>None</td>\n",
       "      <td>None</td>\n",
       "      <td>None</td>\n",
       "      <td>None</td>\n",
       "    </tr>\n",
       "  </tbody>\n",
       "</table>\n",
       "<p>1 rows × 42 columns</p>\n",
       "</div>"
      ],
      "text/plain": [
       "   id_song          name_song  popularity_song  duration_ms          artists  \\\n",
       "0      269  blun7 a swishland               63     167760.0  ['tha Supreme']   \n",
       "\n",
       "               id_artists  danceability  energy  key  loudness  ...     7  \\\n",
       "0  19i93sA0D7yS9dYoVNBqAA         0.692   0.792    7    -5.984  ...  None   \n",
       "\n",
       "      8     9    10    11    12    13    14    15    16  \n",
       "0  None  None  None  None  None  None  None  None  None  \n",
       "\n",
       "[1 rows x 42 columns]"
      ]
     },
     "execution_count": 705,
     "metadata": {},
     "output_type": "execute_result"
    }
   ],
   "source": [
    "train.head(1)"
   ]
  },
  {
   "cell_type": "markdown",
   "id": "50331ffe-7c81-414c-b074-bc479c1a2f78",
   "metadata": {},
   "source": [
    "# Preprocess"
   ]
  },
  {
   "cell_type": "markdown",
   "id": "7cdf4ebb-e368-4ee7-a5c2-98118a73c7c0",
   "metadata": {},
   "source": [
    "### Drop Columns"
   ]
  },
  {
   "cell_type": "code",
   "execution_count": 709,
   "id": "903d4dca-d778-4d05-9186-647f8952700a",
   "metadata": {},
   "outputs": [
    {
     "data": {
      "text/plain": [
       "Index(['name_song', 'popularity_song', 'duration_ms', 'artists',\n",
       "       'danceability', 'energy', 'key', 'loudness', 'speechiness',\n",
       "       'acousticness', 'instrumentalness', 'liveness', 'valence', 'tempo',\n",
       "       'release_year', 'release_month', 'release_day', 'followers', 'genres',\n",
       "       'name_artists', 'popularity_artists', 'num_genres', '0', '1', '2', '3',\n",
       "       '4', '5', '6', '7', '8', '9', '10', '11', '12', '13', '14', '15', '16'],\n",
       "      dtype='object')"
      ]
     },
     "execution_count": 709,
     "metadata": {},
     "output_type": "execute_result"
    }
   ],
   "source": [
    "train.columns"
   ]
  },
  {
   "cell_type": "code",
   "execution_count": 707,
   "id": "9577d59b-c99c-4048-a458-02b08c49a64b",
   "metadata": {},
   "outputs": [],
   "source": [
    "to_drop = ['name_song','id_song','id_artists','artists']"
   ]
  },
  {
   "cell_type": "code",
   "execution_count": 710,
   "id": "f0d60674-e270-4c09-b33d-709b98eeeb57",
   "metadata": {},
   "outputs": [
    {
     "ename": "KeyError",
     "evalue": "\"['id_song' 'id_artists'] not found in axis\"",
     "output_type": "error",
     "traceback": [
      "\u001b[0;31m---------------------------------------------------------------------------\u001b[0m",
      "\u001b[0;31mKeyError\u001b[0m                                  Traceback (most recent call last)",
      "\u001b[0;32m<ipython-input-710-c42a9e8a678b>\u001b[0m in \u001b[0;36m<module>\u001b[0;34m\u001b[0m\n\u001b[0;32m----> 1\u001b[0;31m \u001b[0mtrain\u001b[0m \u001b[0;34m=\u001b[0m \u001b[0mtrain\u001b[0m\u001b[0;34m.\u001b[0m\u001b[0mdrop\u001b[0m\u001b[0;34m(\u001b[0m\u001b[0mto_drop\u001b[0m\u001b[0;34m,\u001b[0m\u001b[0maxis\u001b[0m\u001b[0;34m=\u001b[0m\u001b[0;36m1\u001b[0m\u001b[0;34m)\u001b[0m\u001b[0;34m\u001b[0m\u001b[0;34m\u001b[0m\u001b[0m\n\u001b[0m\u001b[1;32m      2\u001b[0m \u001b[0mtest\u001b[0m \u001b[0;34m=\u001b[0m \u001b[0mtest\u001b[0m\u001b[0;34m.\u001b[0m\u001b[0mdrop\u001b[0m\u001b[0;34m(\u001b[0m\u001b[0mto_drop\u001b[0m\u001b[0;34m,\u001b[0m\u001b[0maxis\u001b[0m\u001b[0;34m=\u001b[0m\u001b[0;36m1\u001b[0m\u001b[0;34m)\u001b[0m\u001b[0;34m\u001b[0m\u001b[0;34m\u001b[0m\u001b[0m\n\u001b[1;32m      3\u001b[0m \u001b[0mtest\u001b[0m \u001b[0;34m=\u001b[0m \u001b[0mtest\u001b[0m\u001b[0;34m.\u001b[0m\u001b[0mrename\u001b[0m\u001b[0;34m(\u001b[0m\u001b[0mcolumns\u001b[0m\u001b[0;34m=\u001b[0m\u001b[0;34m{\u001b[0m\u001b[0;34m'popularity'\u001b[0m\u001b[0;34m:\u001b[0m\u001b[0;34m'popularity_artists'\u001b[0m\u001b[0;34m}\u001b[0m\u001b[0;34m)\u001b[0m\u001b[0;34m\u001b[0m\u001b[0;34m\u001b[0m\u001b[0m\n",
      "\u001b[0;32m~/anaconda3/envs/ds_py_3.8/lib/python3.8/site-packages/pandas/core/frame.py\u001b[0m in \u001b[0;36mdrop\u001b[0;34m(self, labels, axis, index, columns, level, inplace, errors)\u001b[0m\n\u001b[1;32m   4306\u001b[0m                 \u001b[0mweight\u001b[0m  \u001b[0;36m1.0\u001b[0m     \u001b[0;36m0.8\u001b[0m\u001b[0;34m\u001b[0m\u001b[0;34m\u001b[0m\u001b[0m\n\u001b[1;32m   4307\u001b[0m         \"\"\"\n\u001b[0;32m-> 4308\u001b[0;31m         return super().drop(\n\u001b[0m\u001b[1;32m   4309\u001b[0m             \u001b[0mlabels\u001b[0m\u001b[0;34m=\u001b[0m\u001b[0mlabels\u001b[0m\u001b[0;34m,\u001b[0m\u001b[0;34m\u001b[0m\u001b[0;34m\u001b[0m\u001b[0m\n\u001b[1;32m   4310\u001b[0m             \u001b[0maxis\u001b[0m\u001b[0;34m=\u001b[0m\u001b[0maxis\u001b[0m\u001b[0;34m,\u001b[0m\u001b[0;34m\u001b[0m\u001b[0;34m\u001b[0m\u001b[0m\n",
      "\u001b[0;32m~/anaconda3/envs/ds_py_3.8/lib/python3.8/site-packages/pandas/core/generic.py\u001b[0m in \u001b[0;36mdrop\u001b[0;34m(self, labels, axis, index, columns, level, inplace, errors)\u001b[0m\n\u001b[1;32m   4151\u001b[0m         \u001b[0;32mfor\u001b[0m \u001b[0maxis\u001b[0m\u001b[0;34m,\u001b[0m \u001b[0mlabels\u001b[0m \u001b[0;32min\u001b[0m \u001b[0maxes\u001b[0m\u001b[0;34m.\u001b[0m\u001b[0mitems\u001b[0m\u001b[0;34m(\u001b[0m\u001b[0;34m)\u001b[0m\u001b[0;34m:\u001b[0m\u001b[0;34m\u001b[0m\u001b[0;34m\u001b[0m\u001b[0m\n\u001b[1;32m   4152\u001b[0m             \u001b[0;32mif\u001b[0m \u001b[0mlabels\u001b[0m \u001b[0;32mis\u001b[0m \u001b[0;32mnot\u001b[0m \u001b[0;32mNone\u001b[0m\u001b[0;34m:\u001b[0m\u001b[0;34m\u001b[0m\u001b[0;34m\u001b[0m\u001b[0m\n\u001b[0;32m-> 4153\u001b[0;31m                 \u001b[0mobj\u001b[0m \u001b[0;34m=\u001b[0m \u001b[0mobj\u001b[0m\u001b[0;34m.\u001b[0m\u001b[0m_drop_axis\u001b[0m\u001b[0;34m(\u001b[0m\u001b[0mlabels\u001b[0m\u001b[0;34m,\u001b[0m \u001b[0maxis\u001b[0m\u001b[0;34m,\u001b[0m \u001b[0mlevel\u001b[0m\u001b[0;34m=\u001b[0m\u001b[0mlevel\u001b[0m\u001b[0;34m,\u001b[0m \u001b[0merrors\u001b[0m\u001b[0;34m=\u001b[0m\u001b[0merrors\u001b[0m\u001b[0;34m)\u001b[0m\u001b[0;34m\u001b[0m\u001b[0;34m\u001b[0m\u001b[0m\n\u001b[0m\u001b[1;32m   4154\u001b[0m \u001b[0;34m\u001b[0m\u001b[0m\n\u001b[1;32m   4155\u001b[0m         \u001b[0;32mif\u001b[0m \u001b[0minplace\u001b[0m\u001b[0;34m:\u001b[0m\u001b[0;34m\u001b[0m\u001b[0;34m\u001b[0m\u001b[0m\n",
      "\u001b[0;32m~/anaconda3/envs/ds_py_3.8/lib/python3.8/site-packages/pandas/core/generic.py\u001b[0m in \u001b[0;36m_drop_axis\u001b[0;34m(self, labels, axis, level, errors)\u001b[0m\n\u001b[1;32m   4186\u001b[0m                 \u001b[0mnew_axis\u001b[0m \u001b[0;34m=\u001b[0m \u001b[0maxis\u001b[0m\u001b[0;34m.\u001b[0m\u001b[0mdrop\u001b[0m\u001b[0;34m(\u001b[0m\u001b[0mlabels\u001b[0m\u001b[0;34m,\u001b[0m \u001b[0mlevel\u001b[0m\u001b[0;34m=\u001b[0m\u001b[0mlevel\u001b[0m\u001b[0;34m,\u001b[0m \u001b[0merrors\u001b[0m\u001b[0;34m=\u001b[0m\u001b[0merrors\u001b[0m\u001b[0;34m)\u001b[0m\u001b[0;34m\u001b[0m\u001b[0;34m\u001b[0m\u001b[0m\n\u001b[1;32m   4187\u001b[0m             \u001b[0;32melse\u001b[0m\u001b[0;34m:\u001b[0m\u001b[0;34m\u001b[0m\u001b[0;34m\u001b[0m\u001b[0m\n\u001b[0;32m-> 4188\u001b[0;31m                 \u001b[0mnew_axis\u001b[0m \u001b[0;34m=\u001b[0m \u001b[0maxis\u001b[0m\u001b[0;34m.\u001b[0m\u001b[0mdrop\u001b[0m\u001b[0;34m(\u001b[0m\u001b[0mlabels\u001b[0m\u001b[0;34m,\u001b[0m \u001b[0merrors\u001b[0m\u001b[0;34m=\u001b[0m\u001b[0merrors\u001b[0m\u001b[0;34m)\u001b[0m\u001b[0;34m\u001b[0m\u001b[0;34m\u001b[0m\u001b[0m\n\u001b[0m\u001b[1;32m   4189\u001b[0m             \u001b[0mresult\u001b[0m \u001b[0;34m=\u001b[0m \u001b[0mself\u001b[0m\u001b[0;34m.\u001b[0m\u001b[0mreindex\u001b[0m\u001b[0;34m(\u001b[0m\u001b[0;34m**\u001b[0m\u001b[0;34m{\u001b[0m\u001b[0maxis_name\u001b[0m\u001b[0;34m:\u001b[0m \u001b[0mnew_axis\u001b[0m\u001b[0;34m}\u001b[0m\u001b[0;34m)\u001b[0m\u001b[0;34m\u001b[0m\u001b[0;34m\u001b[0m\u001b[0m\n\u001b[1;32m   4190\u001b[0m \u001b[0;34m\u001b[0m\u001b[0m\n",
      "\u001b[0;32m~/anaconda3/envs/ds_py_3.8/lib/python3.8/site-packages/pandas/core/indexes/base.py\u001b[0m in \u001b[0;36mdrop\u001b[0;34m(self, labels, errors)\u001b[0m\n\u001b[1;32m   5589\u001b[0m         \u001b[0;32mif\u001b[0m \u001b[0mmask\u001b[0m\u001b[0;34m.\u001b[0m\u001b[0many\u001b[0m\u001b[0;34m(\u001b[0m\u001b[0;34m)\u001b[0m\u001b[0;34m:\u001b[0m\u001b[0;34m\u001b[0m\u001b[0;34m\u001b[0m\u001b[0m\n\u001b[1;32m   5590\u001b[0m             \u001b[0;32mif\u001b[0m \u001b[0merrors\u001b[0m \u001b[0;34m!=\u001b[0m \u001b[0;34m\"ignore\"\u001b[0m\u001b[0;34m:\u001b[0m\u001b[0;34m\u001b[0m\u001b[0;34m\u001b[0m\u001b[0m\n\u001b[0;32m-> 5591\u001b[0;31m                 \u001b[0;32mraise\u001b[0m \u001b[0mKeyError\u001b[0m\u001b[0;34m(\u001b[0m\u001b[0;34mf\"{labels[mask]} not found in axis\"\u001b[0m\u001b[0;34m)\u001b[0m\u001b[0;34m\u001b[0m\u001b[0;34m\u001b[0m\u001b[0m\n\u001b[0m\u001b[1;32m   5592\u001b[0m             \u001b[0mindexer\u001b[0m \u001b[0;34m=\u001b[0m \u001b[0mindexer\u001b[0m\u001b[0;34m[\u001b[0m\u001b[0;34m~\u001b[0m\u001b[0mmask\u001b[0m\u001b[0;34m]\u001b[0m\u001b[0;34m\u001b[0m\u001b[0;34m\u001b[0m\u001b[0m\n\u001b[1;32m   5593\u001b[0m         \u001b[0;32mreturn\u001b[0m \u001b[0mself\u001b[0m\u001b[0;34m.\u001b[0m\u001b[0mdelete\u001b[0m\u001b[0;34m(\u001b[0m\u001b[0mindexer\u001b[0m\u001b[0;34m)\u001b[0m\u001b[0;34m\u001b[0m\u001b[0;34m\u001b[0m\u001b[0m\n",
      "\u001b[0;31mKeyError\u001b[0m: \"['id_song' 'id_artists'] not found in axis\""
     ]
    }
   ],
   "source": [
    "train = train.drop(to_drop,axis=1)\n",
    "test = test.drop(to_drop,axis=1)\n",
    "test = test.rename(columns={'popularity':'popularity_artists'})"
   ]
  },
  {
   "cell_type": "markdown",
   "id": "52df3a18-02bb-43ef-9746-e616421dcd7f",
   "metadata": {},
   "source": [
    "### Missing Values"
   ]
  },
  {
   "cell_type": "code",
   "execution_count": 711,
   "id": "79a7864c-02bc-4424-8d75-988e4b175f12",
   "metadata": {},
   "outputs": [],
   "source": [
    "def inpute_missing(dataset):\n",
    "    \"\"\" \n",
    "    Edit this to fix nulls. Default version replaces all int/float with 0\n",
    "    \"\"\"\n",
    "    for col in dataset.columns:\n",
    "        if dataset[col].dtype not in [str, object]:\n",
    "            dataset[col] = dataset[col].fillna(dataset[col].mean())\n",
    "    return dataset\n",
    "\n",
    "train = inpute_missing(train)\n",
    "test = inpute_missing(test)"
   ]
  },
  {
   "cell_type": "code",
   "execution_count": 712,
   "id": "4fb89dec-6e7c-4aec-b316-9a759b2c93a7",
   "metadata": {},
   "outputs": [
    {
     "name": "stdout",
     "output_type": "stream",
     "text": [
      "<class 'pandas.core.frame.DataFrame'>\n",
      "Int64Index: 21000 entries, 0 to 20999\n",
      "Data columns (total 39 columns):\n",
      " #   Column              Non-Null Count  Dtype  \n",
      "---  ------              --------------  -----  \n",
      " 0   name_song           20999 non-null  object \n",
      " 1   popularity_song     21000 non-null  int64  \n",
      " 2   duration_ms         21000 non-null  float64\n",
      " 3   artists             21000 non-null  object \n",
      " 4   danceability        21000 non-null  float64\n",
      " 5   energy              21000 non-null  float64\n",
      " 6   key                 21000 non-null  int64  \n",
      " 7   loudness            21000 non-null  float64\n",
      " 8   speechiness         21000 non-null  float64\n",
      " 9   acousticness        21000 non-null  float64\n",
      " 10  instrumentalness    21000 non-null  float64\n",
      " 11  liveness            21000 non-null  float64\n",
      " 12  valence             21000 non-null  float64\n",
      " 13  tempo               21000 non-null  float64\n",
      " 14  release_year        21000 non-null  int64  \n",
      " 15  release_month       21000 non-null  float64\n",
      " 16  release_day         21000 non-null  float64\n",
      " 17  followers           21000 non-null  float64\n",
      " 18  genres              16809 non-null  object \n",
      " 19  name_artists        16809 non-null  object \n",
      " 20  popularity_artists  21000 non-null  float64\n",
      " 21  num_genres          21000 non-null  float64\n",
      " 22  0                   16809 non-null  object \n",
      " 23  1                   12330 non-null  object \n",
      " 24  2                   9217 non-null   object \n",
      " 25  3                   6458 non-null   object \n",
      " 26  4                   4519 non-null   object \n",
      " 27  5                   2969 non-null   object \n",
      " 28  6                   1961 non-null   object \n",
      " 29  7                   1209 non-null   object \n",
      " 30  8                   752 non-null    object \n",
      " 31  9                   459 non-null    object \n",
      " 32  10                  279 non-null    object \n",
      " 33  11                  177 non-null    object \n",
      " 34  12                  102 non-null    object \n",
      " 35  13                  76 non-null     object \n",
      " 36  14                  40 non-null     object \n",
      " 37  15                  13 non-null     object \n",
      " 38  16                  6 non-null      object \n",
      "dtypes: float64(15), int64(3), object(21)\n",
      "memory usage: 6.4+ MB\n"
     ]
    }
   ],
   "source": [
    "train.info()"
   ]
  },
  {
   "cell_type": "markdown",
   "id": "7fe1c1c6-a67c-4074-96d0-1fe91992d8fd",
   "metadata": {},
   "source": [
    "### NLP"
   ]
  },
  {
   "cell_type": "code",
   "execution_count": 713,
   "id": "bf5236d2-9d79-4909-8809-1f225ab30ac9",
   "metadata": {},
   "outputs": [],
   "source": [
    "def nlp_transforms(dataset):\n",
    "    \"\"\" \n",
    "    NLP tranforms here. Default, None...\n",
    "    \"\"\"\n",
    "    return dataset\n",
    "\n",
    "train = nlp_transforms(train)\n",
    "test = nlp_transforms(test)"
   ]
  },
  {
   "cell_type": "markdown",
   "id": "b8f76e41-80bd-4c07-b92a-d240146172bd",
   "metadata": {},
   "source": [
    "### Computations"
   ]
  },
  {
   "cell_type": "code",
   "execution_count": 714,
   "id": "893bb2fa-7562-4ce7-83e0-a8053682465b",
   "metadata": {},
   "outputs": [
    {
     "data": {
      "text/plain": [
       "Index(['name_song', 'popularity_song', 'duration_ms', 'artists',\n",
       "       'danceability', 'energy', 'key', 'loudness', 'speechiness',\n",
       "       'acousticness', 'instrumentalness', 'liveness', 'valence', 'tempo',\n",
       "       'release_year', 'release_month', 'release_day', 'followers', 'genres',\n",
       "       'name_artists', 'popularity_artists', 'num_genres', '0', '1', '2', '3',\n",
       "       '4', '5', '6', '7', '8', '9', '10', '11', '12', '13', '14', '15', '16'],\n",
       "      dtype='object')"
      ]
     },
     "execution_count": 714,
     "metadata": {},
     "output_type": "execute_result"
    }
   ],
   "source": [
    "train.columns"
   ]
  },
  {
   "cell_type": "code",
   "execution_count": 715,
   "id": "bf6c9512-669a-4af0-a02c-4c8130409f5e",
   "metadata": {},
   "outputs": [],
   "source": [
    "def computation_transforms(dataset):\n",
    "    \"\"\" \n",
    "    New Feature Engineering. Default, None...\n",
    "    \"\"\"\n",
    "    date=dataset.apply(lambda x: datetime.date(int(x['release_year']), int(x['release_month']), int(x['release_day'])),axis=1)\n",
    "    dataset['date']=date\n",
    "    dataset['date'] = pd.to_datetime(dataset['date'])\n",
    "    \n",
    "    dataset['today'] =datetime.date.today()\n",
    "    dataset['today'] = pd.to_datetime(dataset['today'])\n",
    "\n",
    "    \n",
    "    #dataset['new_feat_1'] = dataset['popularity_song'] - dataset['popularity_artists']\n",
    "    \n",
    "    #dataset['new_feat_2'] = dataset['today'] - dataset['date']\n",
    "    #dataset['new_feat_2'] = dataset['new_feat_2'].dt.days\n",
    "    \n",
    "    dataset = dataset.drop(['date','today'], axis=1)\n",
    "    return dataset\n",
    "\n",
    "train = computation_transforms(train)\n",
    "test = computation_transforms(test)"
   ]
  },
  {
   "cell_type": "markdown",
   "id": "1f182ddc-eb67-445f-b22e-f844a83841f0",
   "metadata": {},
   "source": [
    "# Cross Validate"
   ]
  },
  {
   "cell_type": "code",
   "execution_count": 716,
   "id": "2ce9d59e-5028-482d-bce8-a18ded83c5f1",
   "metadata": {},
   "outputs": [
    {
     "name": "stdout",
     "output_type": "stream",
     "text": [
      "[HyperParameterTemplate(name='better_default', version=1, parameters={'growing_strategy': 'BEST_FIRST_GLOBAL'}, description='A configuration that is generally better than the default parameters without being more expensive.'), HyperParameterTemplate(name='benchmark_rank1', version=1, parameters={'growing_strategy': 'BEST_FIRST_GLOBAL', 'categorical_algorithm': 'RANDOM', 'split_axis': 'SPARSE_OBLIQUE', 'sparse_oblique_normalization': 'MIN_MAX', 'sparse_oblique_num_projections_exponent': 1.0}, description='Top ranking hyper-parameters on our benchmark slightly modified to run in reasonable time.')]\n"
     ]
    }
   ],
   "source": [
    "# The hyper-parameter templates of the Gradient Boosted Tree model.\n",
    "print(tfdf.keras.GradientBoostedTreesModel.predefined_hyperparameters())"
   ]
  },
  {
   "cell_type": "code",
   "execution_count": 717,
   "id": "f1a6d934-a8fd-4ae5-a650-d4a841f60f7d",
   "metadata": {},
   "outputs": [],
   "source": [
    "models = {\n",
    "    #'rf_default': tfdf.keras.RandomForestModel(),\n",
    "    #'gbt_default': tfdf.keras.GradientBoostedTreesModel(task = tfdf.keras.Task.REGRESSION),\n",
    "    'gbt_tune1': tfdf.keras.GradientBoostedTreesModel(hyperparameter_template=\"benchmark_rank1\",task = tfdf.keras.Task.REGRESSION),\n",
    "    #'gbt_tune3': tfdf.keras.GradientBoostedTreesModel(num_trees=500,\n",
    "    #                                                  growing_strategy=\"BEST_FIRST_GLOBAL\",\n",
    "    #                                                  max_depth=8,\n",
    "    #                                                  split_axis=\"SPARSE_OBLIQUE\",\n",
    "    #                                                  categorical_algorithm=\"RANDOM\",\n",
    "    #                                                  early_stopping=\"LOSS_INCREASE\"\n",
    "    #                                                  ),\n",
    "    }"
   ]
  },
  {
   "cell_type": "code",
   "execution_count": 718,
   "id": "1b57cd8e-1d81-4bc6-a87d-d09813f5a865",
   "metadata": {},
   "outputs": [
    {
     "name": "stdout",
     "output_type": "stream",
     "text": [
      "gbt_tune1\n",
      "Running fold 1\n",
      "Running fold 2\n",
      "Running fold 3\n",
      "Running fold 4\n",
      "Running fold 5\n",
      "Running fold 6\n",
      "Running fold 7\n",
      "Running fold 8\n",
      "Running fold 9\n",
      "Running fold 10\n",
      "Cross-validated Score: 82.24455947875977 for model: gbt_tune1\n"
     ]
    }
   ],
   "source": [
    "train_df, test_df = train_test_split(train)\n",
    "train_tf = tfdf.keras.pd_dataframe_to_tf_dataset(train_df, label=label)\n",
    "test_tf = tfdf.keras.pd_dataframe_to_tf_dataset(test_df, label=label)"
   ]
  },
  {
   "cell_type": "markdown",
   "id": "869a97a4-d8ee-496c-808d-75fed8c7d4e4",
   "metadata": {},
   "source": [
    "# Test Best Models"
   ]
  },
  {
   "cell_type": "code",
   "execution_count": 1,
   "id": "91d5529d-739e-43f9-9041-31126f50aabc",
   "metadata": {},
   "outputs": [
    {
     "ename": "NameError",
     "evalue": "name 'train_test_split' is not defined",
     "output_type": "error",
     "traceback": [
      "\u001b[0;31m---------------------------------------------------------------------------\u001b[0m",
      "\u001b[0;31mNameError\u001b[0m                                 Traceback (most recent call last)",
      "\u001b[0;32m<ipython-input-1-1b50ba0631ad>\u001b[0m in \u001b[0;36m<module>\u001b[0;34m\u001b[0m\n\u001b[0;32m----> 1\u001b[0;31m \u001b[0mtrain_df\u001b[0m\u001b[0;34m,\u001b[0m \u001b[0mtest_df\u001b[0m \u001b[0;34m=\u001b[0m \u001b[0mtrain_test_split\u001b[0m\u001b[0;34m(\u001b[0m\u001b[0mtrain\u001b[0m\u001b[0;34m,\u001b[0m \u001b[0mrandom_state\u001b[0m\u001b[0;34m=\u001b[0m\u001b[0;36m4222\u001b[0m\u001b[0;34m,\u001b[0m \u001b[0mtest_size\u001b[0m\u001b[0;34m=\u001b[0m\u001b[0;36m0.1\u001b[0m\u001b[0;34m)\u001b[0m\u001b[0;34m\u001b[0m\u001b[0;34m\u001b[0m\u001b[0m\n\u001b[0m\u001b[1;32m      2\u001b[0m \u001b[0mtrain_tf\u001b[0m \u001b[0;34m=\u001b[0m \u001b[0mtfdf\u001b[0m\u001b[0;34m.\u001b[0m\u001b[0mkeras\u001b[0m\u001b[0;34m.\u001b[0m\u001b[0mpd_dataframe_to_tf_dataset\u001b[0m\u001b[0;34m(\u001b[0m\u001b[0mtrain_df\u001b[0m\u001b[0;34m,\u001b[0m \u001b[0mlabel\u001b[0m\u001b[0;34m=\u001b[0m\u001b[0mlabel\u001b[0m\u001b[0;34m,\u001b[0m \u001b[0mtask\u001b[0m\u001b[0;34m=\u001b[0m\u001b[0mtfdf\u001b[0m\u001b[0;34m.\u001b[0m\u001b[0mkeras\u001b[0m\u001b[0;34m.\u001b[0m\u001b[0mTask\u001b[0m\u001b[0;34m.\u001b[0m\u001b[0mREGRESSION\u001b[0m\u001b[0;34m)\u001b[0m\u001b[0;34m\u001b[0m\u001b[0;34m\u001b[0m\u001b[0m\n\u001b[1;32m      3\u001b[0m \u001b[0mtest_tf\u001b[0m \u001b[0;34m=\u001b[0m \u001b[0mtfdf\u001b[0m\u001b[0;34m.\u001b[0m\u001b[0mkeras\u001b[0m\u001b[0;34m.\u001b[0m\u001b[0mpd_dataframe_to_tf_dataset\u001b[0m\u001b[0;34m(\u001b[0m\u001b[0mtest_df\u001b[0m\u001b[0;34m,\u001b[0m \u001b[0mlabel\u001b[0m\u001b[0;34m=\u001b[0m\u001b[0mlabel\u001b[0m\u001b[0;34m,\u001b[0m \u001b[0mtask\u001b[0m\u001b[0;34m=\u001b[0m\u001b[0mtfdf\u001b[0m\u001b[0;34m.\u001b[0m\u001b[0mkeras\u001b[0m\u001b[0;34m.\u001b[0m\u001b[0mTask\u001b[0m\u001b[0;34m.\u001b[0m\u001b[0mREGRESSION\u001b[0m\u001b[0;34m)\u001b[0m\u001b[0;34m\u001b[0m\u001b[0;34m\u001b[0m\u001b[0m\n",
      "\u001b[0;31mNameError\u001b[0m: name 'train_test_split' is not defined"
     ]
    }
   ],
   "source": [
    "train_df, test_df = train_test_split(train, random_state=4222, test_size=0.1)\n",
    "train_tf = tfdf.keras.pd_dataframe_to_tf_dataset(train_df, label=label, task=tfdf.keras.Task.REGRESSION)\n",
    "test_tf = tfdf.keras.pd_dataframe_to_tf_dataset(test_df, label=label, task=tfdf.keras.Task.REGRESSION)"
   ]
  },
  {
   "cell_type": "code",
   "execution_count": 720,
   "id": "7e7afddf-e478-43b0-a649-68afc0809360",
   "metadata": {},
   "outputs": [
    {
     "name": "stdout",
     "output_type": "stream",
     "text": [
      "gbt_tune1\n",
      "296/296 [==============================] - 1s 2ms/step\n",
      "33/33 [==============================] - 0s 4ms/step - loss: 0.0000e+00 - mse: 90.4681\n"
     ]
    }
   ],
   "source": [
    "evaluation = {}\n",
    "for key in models:\n",
    "    print(key)\n",
    "    #Evaluate: metric logsloss: BinaryCrossentropy\n",
    "    models[key].compile(metrics=[\"mse\"])\n",
    "    \n",
    "    #with sys_pipes():\n",
    "    models[key].fit(x=train_tf)\n",
    "    evaluation[key] = models[key].evaluate(test_tf, return_dict=True)"
   ]
  },
  {
   "cell_type": "code",
   "execution_count": 212,
   "id": "51ee5512-6c48-4aa3-9729-a2d2b7a0c224",
   "metadata": {},
   "outputs": [
    {
     "name": "stdout",
     "output_type": "stream",
     "text": [
      "gbt_default\n",
      "247/247 [==============================] - 0s 1ms/step\n",
      "83/83 [==============================] - 0s 2ms/step - loss: 0.0000e+00 - mse: 99.4762\n",
      "gbt_tune1\n",
      "247/247 [==============================] - 0s 1ms/step\n",
      "83/83 [==============================] - 0s 3ms/step - loss: 0.0000e+00 - mse: 98.3082\n"
     ]
    }
   ],
   "source": [
    "evaluation = {}\n",
    "for key in models:\n",
    "    print(key)\n",
    "    #Evaluate: metric logsloss: BinaryCrossentropy\n",
    "    models[key].compile(metrics=[\"mse\"])\n",
    "    \n",
    "    #with sys_pipes():\n",
    "    models[key].fit(x=train_tf)\n",
    "    evaluation[key] = models[key].evaluate(test_tf, return_dict=True)"
   ]
  },
  {
   "cell_type": "markdown",
   "id": "2262708b-8a0e-4cd2-93d7-c10078266e1b",
   "metadata": {},
   "source": [
    "# Train Final Model"
   ]
  },
  {
   "cell_type": "code",
   "execution_count": 591,
   "id": "a92f729d-ba13-4f35-854c-3e924c8cad6c",
   "metadata": {},
   "outputs": [],
   "source": [
    "#test =  test.drop('popularity')"
   ]
  },
  {
   "cell_type": "code",
   "execution_count": 592,
   "id": "732f81c3-c27e-444f-87e0-f513f3df4475",
   "metadata": {},
   "outputs": [],
   "source": [
    "train_tf = tfdf.keras.pd_dataframe_to_tf_dataset(train, label=label, task=tfdf.keras.Task.REGRESSION)"
   ]
  },
  {
   "cell_type": "code",
   "execution_count": 593,
   "id": "ac243cc3-8c29-487d-9eb2-83cec8e08c3e",
   "metadata": {},
   "outputs": [
    {
     "data": {
      "text/plain": [
       "<tensorflow_decision_forests.keras.GradientBoostedTreesModel at 0x7f7300560c70>"
      ]
     },
     "execution_count": 593,
     "metadata": {},
     "output_type": "execute_result"
    }
   ],
   "source": [
    "models['gbt_tune1']"
   ]
  },
  {
   "cell_type": "code",
   "execution_count": 594,
   "id": "c50782f6-939c-4a87-b01d-976cec825df3",
   "metadata": {},
   "outputs": [
    {
     "name": "stdout",
     "output_type": "stream",
     "text": [
      "329/329 [==============================] - 1s 2ms/step\n"
     ]
    },
    {
     "data": {
      "text/plain": [
       "<tensorflow.python.keras.callbacks.History at 0x7f73006e8910>"
      ]
     },
     "execution_count": 594,
     "metadata": {},
     "output_type": "execute_result"
    }
   ],
   "source": [
    "# A more complex, but possibly, more accurate model.\n",
    "model = models['gbt_tune1']\n",
    "\n",
    "model.compile(metrics=[\"mse\"])\n",
    "model.fit(train_tf)"
   ]
  },
  {
   "cell_type": "markdown",
   "id": "e1f68290-d586-41b2-9d11-36dfac7eee12",
   "metadata": {},
   "source": [
    "# Predictions"
   ]
  },
  {
   "cell_type": "code",
   "execution_count": 595,
   "id": "954d9485-302a-459b-9855-e967f0c2d879",
   "metadata": {},
   "outputs": [],
   "source": [
    "predictions = tfdf.keras.pd_dataframe_to_tf_dataset(test, task=tfdf.keras.Task.REGRESSION)"
   ]
  },
  {
   "cell_type": "code",
   "execution_count": 596,
   "id": "f5d57dfe-ab03-4505-a3d6-53569bd0bf5e",
   "metadata": {},
   "outputs": [],
   "source": [
    "scores = model.predict(predictions)"
   ]
  },
  {
   "cell_type": "code",
   "execution_count": 597,
   "id": "850f61f1-951c-4893-9c1c-6673d9b1fcff",
   "metadata": {},
   "outputs": [
    {
     "data": {
      "text/plain": [
       "array([[ 2.3010674],\n",
       "       [13.626199 ],\n",
       "       [27.31776  ],\n",
       "       ...,\n",
       "       [-1.6375866],\n",
       "       [14.879572 ],\n",
       "       [ 5.4220276]], dtype=float32)"
      ]
     },
     "execution_count": 597,
     "metadata": {},
     "output_type": "execute_result"
    }
   ],
   "source": [
    "scores"
   ]
  },
  {
   "cell_type": "code",
   "execution_count": 598,
   "id": "bb317af2-0c2f-47ed-9a46-25ad1f62c87c",
   "metadata": {},
   "outputs": [],
   "source": [
    "submission[label] = scores"
   ]
  },
  {
   "cell_type": "code",
   "execution_count": 599,
   "id": "537a6a76-09b5-4764-87a6-c03a392608ef",
   "metadata": {},
   "outputs": [],
   "source": [
    "submission = submission[['id','popularity_song']]"
   ]
  },
  {
   "cell_type": "code",
   "execution_count": 600,
   "id": "838f3811-83f8-46d8-9a26-cf3470380753",
   "metadata": {},
   "outputs": [],
   "source": [
    "submission = submission.rename(columns={'popularity_song':'popularity'})"
   ]
  },
  {
   "cell_type": "code",
   "execution_count": 601,
   "id": "187438e7-f0a8-4d48-b516-4d8509f7ca4c",
   "metadata": {},
   "outputs": [
    {
     "data": {
      "text/html": [
       "<div>\n",
       "<style scoped>\n",
       "    .dataframe tbody tr th:only-of-type {\n",
       "        vertical-align: middle;\n",
       "    }\n",
       "\n",
       "    .dataframe tbody tr th {\n",
       "        vertical-align: top;\n",
       "    }\n",
       "\n",
       "    .dataframe thead th {\n",
       "        text-align: right;\n",
       "    }\n",
       "</style>\n",
       "<table border=\"1\" class=\"dataframe\">\n",
       "  <thead>\n",
       "    <tr style=\"text-align: right;\">\n",
       "      <th></th>\n",
       "      <th>id</th>\n",
       "      <th>popularity</th>\n",
       "    </tr>\n",
       "  </thead>\n",
       "  <tbody>\n",
       "    <tr>\n",
       "      <th>0</th>\n",
       "      <td>21594</td>\n",
       "      <td>2.301067</td>\n",
       "    </tr>\n",
       "    <tr>\n",
       "      <th>1</th>\n",
       "      <td>23733</td>\n",
       "      <td>13.626199</td>\n",
       "    </tr>\n",
       "    <tr>\n",
       "      <th>2</th>\n",
       "      <td>17440</td>\n",
       "      <td>27.317760</td>\n",
       "    </tr>\n",
       "    <tr>\n",
       "      <th>3</th>\n",
       "      <td>20756</td>\n",
       "      <td>30.838421</td>\n",
       "    </tr>\n",
       "    <tr>\n",
       "      <th>4</th>\n",
       "      <td>29495</td>\n",
       "      <td>22.767576</td>\n",
       "    </tr>\n",
       "    <tr>\n",
       "      <th>...</th>\n",
       "      <td>...</td>\n",
       "      <td>...</td>\n",
       "    </tr>\n",
       "    <tr>\n",
       "      <th>8995</th>\n",
       "      <td>27490</td>\n",
       "      <td>23.687746</td>\n",
       "    </tr>\n",
       "    <tr>\n",
       "      <th>8996</th>\n",
       "      <td>22759</td>\n",
       "      <td>25.410677</td>\n",
       "    </tr>\n",
       "    <tr>\n",
       "      <th>8997</th>\n",
       "      <td>1853</td>\n",
       "      <td>-1.637587</td>\n",
       "    </tr>\n",
       "    <tr>\n",
       "      <th>8998</th>\n",
       "      <td>1658</td>\n",
       "      <td>14.879572</td>\n",
       "    </tr>\n",
       "    <tr>\n",
       "      <th>8999</th>\n",
       "      <td>8135</td>\n",
       "      <td>5.422028</td>\n",
       "    </tr>\n",
       "  </tbody>\n",
       "</table>\n",
       "<p>9000 rows × 2 columns</p>\n",
       "</div>"
      ],
      "text/plain": [
       "         id  popularity\n",
       "0     21594    2.301067\n",
       "1     23733   13.626199\n",
       "2     17440   27.317760\n",
       "3     20756   30.838421\n",
       "4     29495   22.767576\n",
       "...     ...         ...\n",
       "8995  27490   23.687746\n",
       "8996  22759   25.410677\n",
       "8997   1853   -1.637587\n",
       "8998   1658   14.879572\n",
       "8999   8135    5.422028\n",
       "\n",
       "[9000 rows x 2 columns]"
      ]
     },
     "execution_count": 601,
     "metadata": {},
     "output_type": "execute_result"
    }
   ],
   "source": [
    "submission"
   ]
  },
  {
   "cell_type": "code",
   "execution_count": 602,
   "id": "6aa6521d-85c6-4e8f-aa72-1e720cd7cdfb",
   "metadata": {},
   "outputs": [],
   "source": [
    "submission.to_csv('submission.csv', index=False)"
   ]
  },
  {
   "cell_type": "code",
   "execution_count": 603,
   "id": "c6b9992d-4d5d-4a9d-b452-286b753ccf96",
   "metadata": {},
   "outputs": [],
   "source": [
    "#temp = pd.read_csv('submission.csv')\n",
    "#temp"
   ]
  },
  {
   "cell_type": "code",
   "execution_count": 604,
   "id": "dd0041ff-da5d-41a8-9730-bcffed347663",
   "metadata": {},
   "outputs": [
    {
     "name": "stdout",
     "output_type": "stream",
     "text": [
      "Warning: Your Kaggle API key is readable by other users on this system! To fix this, you can run 'chmod 600 /home/neil/kaggle/kaggle.json'\n",
      "Warning: Looks like you're using an outdated API Version, please consider updating (server 1.5.12 / client 1.5.8)\n",
      "100%|█████████████████████████████████████████| 135k/135k [00:00<00:00, 229kB/s]\n",
      "Successfully submitted to SLICED s01e08"
     ]
    }
   ],
   "source": [
    "!kaggle competitions submit -c sliced-s01e08-KJSEks -f submission.csv -m \"Message\""
   ]
  },
  {
   "cell_type": "code",
   "execution_count": null,
   "id": "93d2dfaa-e7ad-4c87-a839-b1feaadb9568",
   "metadata": {},
   "outputs": [],
   "source": []
  }
 ],
 "metadata": {
  "kernelspec": {
   "display_name": "ds_py_3.8",
   "language": "python",
   "name": "ds_py_3.8"
  },
  "language_info": {
   "codemirror_mode": {
    "name": "ipython",
    "version": 3
   },
   "file_extension": ".py",
   "mimetype": "text/x-python",
   "name": "python",
   "nbconvert_exporter": "python",
   "pygments_lexer": "ipython3",
   "version": "3.8.10"
  }
 },
 "nbformat": 4,
 "nbformat_minor": 5
}
